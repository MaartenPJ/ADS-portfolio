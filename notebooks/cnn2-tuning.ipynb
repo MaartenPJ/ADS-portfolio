{
 "cells": [
  {
   "cell_type": "code",
   "execution_count": 1,
   "id": "6aff4d52",
   "metadata": {},
   "outputs": [
    {
     "name": "stdout",
     "output_type": "stream",
     "text": [
      "all gpu's are busy, please use a CPU or try again later\n"
     ]
    }
   ],
   "source": [
    "import pandas as pd\n",
    "import torchaudio\n",
    "import torch\n",
    "import torch.nn.functional as F\n",
    "import numpy as np\n",
    "from sklearn.metrics import accuracy_score, precision_score, recall_score\n",
    "from torch.utils.data import Dataset, DataLoader\n",
    "import torch.nn as nn\n",
    "from pipetorch.train import *\n",
    "from sklearn.metrics import confusion_matrix, multilabel_confusion_matrix\n",
    "import seaborn as sns\n",
    "import math\n",
    "from torch.utils.data import WeightedRandomSampler"
   ]
  },
  {
   "cell_type": "markdown",
   "id": "9f68d783",
   "metadata": {},
   "source": [
    "## Some preparation"
   ]
  },
  {
   "cell_type": "code",
   "execution_count": 2,
   "id": "0d5a91d5",
   "metadata": {},
   "outputs": [
    {
     "data": {
      "text/html": [
       "<div>\n",
       "<style scoped>\n",
       "    .dataframe tbody tr th:only-of-type {\n",
       "        vertical-align: middle;\n",
       "    }\n",
       "\n",
       "    .dataframe tbody tr th {\n",
       "        vertical-align: top;\n",
       "    }\n",
       "\n",
       "    .dataframe thead th {\n",
       "        text-align: right;\n",
       "    }\n",
       "</style>\n",
       "<table border=\"1\" class=\"dataframe\">\n",
       "  <thead>\n",
       "    <tr style=\"text-align: right;\">\n",
       "      <th></th>\n",
       "      <th>filename</th>\n",
       "      <th>modification</th>\n",
       "      <th>label</th>\n",
       "    </tr>\n",
       "  </thead>\n",
       "  <tbody>\n",
       "    <tr>\n",
       "      <th>0</th>\n",
       "      <td>-4wthmfwlwQ_260.pt</td>\n",
       "      <td>None</td>\n",
       "      <td>chewing</td>\n",
       "    </tr>\n",
       "    <tr>\n",
       "      <th>1</th>\n",
       "      <td>-5IpgOv9HD0_30.pt</td>\n",
       "      <td>None</td>\n",
       "      <td>chewing</td>\n",
       "    </tr>\n",
       "    <tr>\n",
       "      <th>2</th>\n",
       "      <td>-KO1p22zjVc_470.pt</td>\n",
       "      <td>None</td>\n",
       "      <td>chewing</td>\n",
       "    </tr>\n",
       "    <tr>\n",
       "      <th>3</th>\n",
       "      <td>-t-lmWNCXt0_10.pt</td>\n",
       "      <td>None</td>\n",
       "      <td>chewing</td>\n",
       "    </tr>\n",
       "    <tr>\n",
       "      <th>4</th>\n",
       "      <td>-t95P0R9Pf0_60.pt</td>\n",
       "      <td>None</td>\n",
       "      <td>chewing</td>\n",
       "    </tr>\n",
       "    <tr>\n",
       "      <th>...</th>\n",
       "      <td>...</td>\n",
       "      <td>...</td>\n",
       "      <td>...</td>\n",
       "    </tr>\n",
       "    <tr>\n",
       "      <th>7827</th>\n",
       "      <td>4gBf0FWwKnQ_100_squeezed.pt</td>\n",
       "      <td>squeezed</td>\n",
       "      <td>other</td>\n",
       "    </tr>\n",
       "    <tr>\n",
       "      <th>7828</th>\n",
       "      <td>4gBf0FWwKnQ_100_extended.pt</td>\n",
       "      <td>extended</td>\n",
       "      <td>other</td>\n",
       "    </tr>\n",
       "    <tr>\n",
       "      <th>7829</th>\n",
       "      <td>4gBf0FWwKnQ_100_shiftRight.pt</td>\n",
       "      <td>shiftRight</td>\n",
       "      <td>other</td>\n",
       "    </tr>\n",
       "    <tr>\n",
       "      <th>7830</th>\n",
       "      <td>4gBf0FWwKnQ_100_shiftLeft.pt</td>\n",
       "      <td>shiftLeft</td>\n",
       "      <td>other</td>\n",
       "    </tr>\n",
       "    <tr>\n",
       "      <th>7831</th>\n",
       "      <td>4gBf0FWwKnQ_100_background_sound.pt</td>\n",
       "      <td>background_sound</td>\n",
       "      <td>other</td>\n",
       "    </tr>\n",
       "  </tbody>\n",
       "</table>\n",
       "<p>7832 rows × 3 columns</p>\n",
       "</div>"
      ],
      "text/plain": [
       "                                 filename      modification    label\n",
       "0                      -4wthmfwlwQ_260.pt              None  chewing\n",
       "1                       -5IpgOv9HD0_30.pt              None  chewing\n",
       "2                      -KO1p22zjVc_470.pt              None  chewing\n",
       "3                       -t-lmWNCXt0_10.pt              None  chewing\n",
       "4                       -t95P0R9Pf0_60.pt              None  chewing\n",
       "...                                   ...               ...      ...\n",
       "7827          4gBf0FWwKnQ_100_squeezed.pt          squeezed    other\n",
       "7828          4gBf0FWwKnQ_100_extended.pt          extended    other\n",
       "7829        4gBf0FWwKnQ_100_shiftRight.pt        shiftRight    other\n",
       "7830         4gBf0FWwKnQ_100_shiftLeft.pt         shiftLeft    other\n",
       "7831  4gBf0FWwKnQ_100_background_sound.pt  background_sound    other\n",
       "\n",
       "[7832 rows x 3 columns]"
      ]
     },
     "execution_count": 2,
     "metadata": {},
     "output_type": "execute_result"
    }
   ],
   "source": [
    "df = pd.read_csv('../../data/dataset_tensors_melspec/train/audio_train_augmented_melspec_tensors.csv')\n",
    "df"
   ]
  },
  {
   "cell_type": "code",
   "execution_count": 3,
   "id": "f8ec1c5e",
   "metadata": {},
   "outputs": [],
   "source": [
    "class AudioSet(Dataset):\n",
    "    def __init__(self, df, root_dir, in_col, out_col, length_sec, sampling_rate):\n",
    "        self.df = df\n",
    "        self.root_dir = root_dir\n",
    "        self.in_col = in_col\n",
    "        self.out_col = out_col\n",
    "        self.length_sec = length_sec\n",
    "        self.sampling_rate = sampling_rate\n",
    "        \n",
    "        self.c2i = {'chewing': 0, 'drinking': 1, 'other': 2}\n",
    "        self.i2c = {0: 'chewing', 1: 'drinking', 2: 'other'}\n",
    "        \n",
    "    def __getitem__(self, index):\n",
    "        filepath = self.root_dir + self.df.iloc[index][self.in_col]\n",
    "        data = torch.load(filepath)\n",
    "        label = self.c2i[self.df.iloc[index][self.out_col]]\n",
    "        return data.cuda(), label\n",
    "        \n",
    "    def __len__(self):\n",
    "        return len(self.df)"
   ]
  },
  {
   "cell_type": "code",
   "execution_count": 4,
   "id": "863c8c02",
   "metadata": {},
   "outputs": [],
   "source": [
    "def my_precision_score(true_y, pred_y):\n",
    "    return precision_score(true_y, pred_y, average=None)"
   ]
  },
  {
   "cell_type": "code",
   "execution_count": 5,
   "id": "e384d026",
   "metadata": {},
   "outputs": [],
   "source": [
    "def my_recall_score(true_y, pred_y):\n",
    "    return recall_score(true_y, pred_y, average=None)"
   ]
  },
  {
   "cell_type": "code",
   "execution_count": 25,
   "id": "cb4508c9",
   "metadata": {},
   "outputs": [],
   "source": [
    "def sort_epochs(results, by):\n",
    "    results = results[results['phase'] != '']\n",
    "    results[['prec_chewing', 'prec_drinking', 'prec_other']] = pd.DataFrame(results['my_precision_score'].tolist(), index=results.index)\n",
    "    results[['recall_chewing', 'recall_drinking', 'recall_other']] = pd.DataFrame(results['my_recall_score'].tolist(), index=results.index)\n",
    "\n",
    "    results = results[results['phase'] == 'valid']\n",
    "    results = results.sort_values(by, ascending=False)\n",
    "    print(results[['accuracy_score', 'epoch', 'prec_chewing', 'prec_drinking', 'recall_chewing', 'recall_drinking']])"
   ]
  },
  {
   "cell_type": "code",
   "execution_count": 7,
   "id": "86e422f0",
   "metadata": {},
   "outputs": [],
   "source": [
    "\n",
    "# thanks to https://github.com/DTrimarchi10/confusion_matrix/blob/master/cf_matrix.py\n",
    "# modified the function a little to fit our needs\n",
    "\n",
    "def make_confusion_matrix(true_y,\n",
    "                          pred_y,\n",
    "                          group_names=None,\n",
    "                          categories='auto',\n",
    "                          count=True,\n",
    "                          percent=True,\n",
    "                          cbar=True,\n",
    "                          xyticks=True,\n",
    "                          xyplotlabels=True,\n",
    "                          sum_stats=True,\n",
    "                          figsize=None,\n",
    "                          cmap='Blues',\n",
    "                          title=None):\n",
    "    '''\n",
    "    This function will make a pretty plot of an sklearn Confusion Matrix cm using a Seaborn heatmap visualization.\n",
    "    Arguments\n",
    "    ---------\n",
    "    cf:            confusion matrix to be passed in\n",
    "    group_names:   List of strings that represent the labels row by row to be shown in each square.\n",
    "    categories:    List of strings containing the categories to be displayed on the x,y axis. Default is 'auto'\n",
    "    count:         If True, show the raw number in the confusion matrix. Default is True.\n",
    "    normalize:     If True, show the proportions for each category. Default is True.\n",
    "    cbar:          If True, show the color bar. The cbar values are based off the values in the confusion matrix.\n",
    "                   Default is True.\n",
    "    xyticks:       If True, show x and y ticks. Default is True.\n",
    "    xyplotlabels:  If True, show 'True Label' and 'Predicted Label' on the figure. Default is True.\n",
    "    sum_stats:     If True, display summary statistics below the figure. Default is True.\n",
    "    figsize:       Tuple representing the figure size. Default will be the matplotlib rcParams value.\n",
    "    cmap:          Colormap of the values displayed from matplotlib.pyplot.cm. Default is 'Blues'\n",
    "                   See http://matplotlib.org/examples/color/colormaps_reference.html\n",
    "                   \n",
    "    title:         Title for the heatmap. Default is None.\n",
    "    '''\n",
    "    \n",
    "    cf = confusion_matrix(true_y, pred_y)\n",
    "    # CODE TO GENERATE TEXT INSIDE EACH SQUARE\n",
    "    blanks = ['' for i in range(cf.size)]\n",
    "\n",
    "    if group_names and len(group_names)==cf.size:\n",
    "        group_labels = [\"{}\\n\".format(value) for value in group_names]\n",
    "    else:\n",
    "        group_labels = blanks\n",
    "\n",
    "    if count:\n",
    "        group_counts = [\"{0:0.0f}\\n\".format(value) for value in cf.flatten()]\n",
    "    else:\n",
    "        group_counts = blanks\n",
    "\n",
    "    if percent:\n",
    "        group_percentages = [round(value / np.sum(cf[i // 3]) * 100, 2) for i, value in enumerate(cf.flatten())]\n",
    "    else:\n",
    "        group_percentages = blanks\n",
    "\n",
    "    box_labels = [f\"{v1}{v2}{v3}%\".strip() for v1, v2, v3 in zip(group_labels,group_counts,group_percentages)]\n",
    "    box_labels = np.asarray(box_labels).reshape(cf.shape[0],cf.shape[1])\n",
    "\n",
    "    # CODE TO GENERATE SUMMARY STATISTICS & TEXT FOR SUMMARY STATS\n",
    "    if sum_stats:\n",
    "        #Accuracy is sum of diagonal divided by total observations\n",
    "        accuracy  = np.trace(cf) / float(np.sum(cf))\n",
    "\n",
    "\n",
    "        #Metrics for Binary Confusion Matrices\n",
    "        precision = precision_score(true_y, pred_y, average=None)\n",
    "        \n",
    "        stats_text = \"\\n\\nAccuracy={:0.3f}\\nPrecision Chewing={:0.3f}\\n Precision Drinking={:0.3f}\\n\".format(\n",
    "            accuracy, precision[0], precision[1])\n",
    "    else:\n",
    "        stats_text = \"\"\n",
    "\n",
    "\n",
    "    # SET FIGURE PARAMETERS ACCORDING TO OTHER ARGUMENTS\n",
    "    if figsize==None:\n",
    "        #Get default figure size if not set\n",
    "        figsize = plt.rcParams.get('figure.figsize')\n",
    "\n",
    "    if xyticks==False:\n",
    "        #Do not show categories if xyticks is False\n",
    "        categories=False\n",
    "    \n",
    "    group_percentages = np.reshape(group_percentages, (3, 3))\n",
    "\n",
    "    # MAKE THE HEATMAP VISUALIZATION\n",
    "    plt.figure(figsize=figsize)\n",
    "    sns.heatmap(\n",
    "        group_percentages,annot=box_labels,\n",
    "        fmt=\"\",cmap=cmap,cbar=cbar,xticklabels=categories,\n",
    "        yticklabels=categories, vmin=0, vmax=100)\n",
    "\n",
    "    if xyplotlabels:\n",
    "        plt.ylabel('True label')\n",
    "        plt.xlabel('Predicted label' + stats_text)\n",
    "    else:\n",
    "        plt.xlabel(stats_text)\n",
    "    \n",
    "    if title:\n",
    "        plt.title(title)"
   ]
  },
  {
   "cell_type": "code",
   "execution_count": 8,
   "id": "4d7ca72f",
   "metadata": {},
   "outputs": [],
   "source": [
    "c2i = {'chewing': 0, 'drinking': 1, 'other': 2}\n",
    "\n",
    "def predict_test_set(model, df_test, audio_dir, print_wrong=True, gpu=True):\n",
    "    model = model.cuda() if gpu else model.cpu()\n",
    "    \n",
    "    # get labels and filenames\n",
    "    true_y = [c2i[label] for label in df_test['label'].values]\n",
    "    filenames = df_test['filename'].values\n",
    "    pred_y = []\n",
    "    \n",
    "    for filename in filenames:\n",
    "        t = torch.load(audio_dir + filename)\n",
    "        t = t.cuda() if gpu else t.cpu()\n",
    "        t = t[None, :] # expand the tensor\n",
    "        \n",
    "        with torch.no_grad():\n",
    "            pred = model(t)\n",
    "            pred = model.post_forward(pred)\n",
    "            pred_y.append(pred.data.cpu().numpy()[0])\n",
    "    # plot conf matrix\n",
    "    make_confusion_matrix(true_y, pred_y)\n",
    "    plt.show()\n",
    "    \n",
    "    if print_wrong:\n",
    "        # get false negatives and false positives of eating and drinking\n",
    "        fn_eating_ind = []\n",
    "        fn_drinking_ind = []\n",
    "        fp_eating_ind = []\n",
    "        fp_drinking_ind = []\n",
    "        for i, y in enumerate(zip(true_y, pred_y)):\n",
    "            if(y[0] != y[1]):\n",
    "                # fn eating\n",
    "                if y[0] == 0:\n",
    "                    fn_eating_ind.append(i)\n",
    "                \n",
    "                # fn drinking\n",
    "                if y[0] == 1:\n",
    "                    fn_drinking_ind.append(i)\n",
    "                \n",
    "                # fp eating\n",
    "                if y[1] == 0:\n",
    "                    fp_eating_ind.append(i)\n",
    "            \n",
    "                # fp drinking\n",
    "                if y[1] == 1:\n",
    "                    fp_drinking_ind.append(i)\n",
    "                \n",
    "        fn_eating_filenames = [filenames[i] for i in fn_eating_ind]\n",
    "        fn_drinking_filenames = [filenames[i] for i in fn_drinking_ind]\n",
    "        fp_eating_filenames = [filenames[i] for i in fp_eating_ind]\n",
    "        fp_drinking_filenames = [filenames[i] for i in fp_drinking_ind]\n",
    "    \n",
    "        # print it\n",
    "        print('FALSE NEGATIVES EATING:', end='\\n\\t')\n",
    "        print('\\n\\t'.join(fn_eating_filenames))\n",
    "        print('FALSE NEGATIVES DRINKING:', end='\\n\\t')\n",
    "        print('\\n\\t'.join(fn_drinking_filenames))\n",
    "        print('FALSE POSITIVES EATING:', end='\\n\\t')\n",
    "        print('\\n\\t'.join(fp_eating_filenames))\n",
    "        print('FALSE POSITIVES DRINKING:', end='\\n\\t')\n",
    "        print('\\n\\t'.join(fp_drinking_filenames))"
   ]
  },
  {
   "cell_type": "markdown",
   "id": "f23403cd",
   "metadata": {},
   "source": [
    "## Prepare Dataset"
   ]
  },
  {
   "cell_type": "code",
   "execution_count": 9,
   "id": "9cd7f032",
   "metadata": {},
   "outputs": [],
   "source": [
    "df_valid = df.sample(n=1500)\n",
    "df_train = df.drop(df_valid.index)\n",
    "df_test = pd.read_csv('../../data/dataset_tensors_melspec/test/audio_test_melspec_tensors.csv')\n",
    "# shuffling the sets\n",
    "df_valid = df_valid.sample(frac=1)\n",
    "df_train = df_train.sample(frac=1)\n",
    "df_test = df_test.sample(frac=1)"
   ]
  },
  {
   "cell_type": "code",
   "execution_count": 10,
   "id": "4e25d0f5",
   "metadata": {},
   "outputs": [],
   "source": [
    "# weighted RandomSample\n",
    "\n",
    "class_counts = df_train['label'].value_counts()\n",
    "num_samples = sum(class_counts)\n",
    "labels = [c2i[label] for label in df_train['label'].values]\n",
    "\n",
    "class_weights = [num_samples/class_counts[i] for i in range(len(class_counts))]\n",
    "weights = [class_weights[labels[i]] for i in range(int(num_samples))]\n",
    "sampler_train = WeightedRandomSampler(torch.DoubleTensor(weights), int(num_samples))"
   ]
  },
  {
   "cell_type": "code",
   "execution_count": 11,
   "id": "8c9a6048",
   "metadata": {},
   "outputs": [],
   "source": [
    "batch_size = 64\n",
    "\n",
    "root_dir_train = '../../data/dataset_tensors_melspec/train/audio/'\n",
    "root_dir_test = '../../data/dataset_tensors_melspec/test/audio/'\n",
    "train_data = AudioSet(df_train, root_dir_train, 'filename', 'label', 10, 16000)\n",
    "valid_data = AudioSet(df_valid, root_dir_train, 'filename', 'label', 10, 16000)\n",
    "test_data = AudioSet(df_test, root_dir_test, 'filename', 'label', 10, 16000)\n",
    "train_loader = DataLoader(train_data, batch_size=batch_size, sampler=sampler_train)\n",
    "valid_loader = DataLoader(valid_data, batch_size=batch_size, shuffle=True)\n",
    "test_loader = DataLoader(test_data, batch_size=test_data.__len__(), shuffle=True)\n",
    "\n",
    "metrics = [accuracy_score, my_precision_score, my_recall_score]"
   ]
  },
  {
   "cell_type": "markdown",
   "id": "2837bc60",
   "metadata": {},
   "source": [
    "## Models"
   ]
  },
  {
   "cell_type": "code",
   "execution_count": 12,
   "id": "ab1a5ca5",
   "metadata": {},
   "outputs": [],
   "source": [
    "class cnn4(nn.Module):\n",
    "    def __init__(self, out_channels1, out_channels2, n_hidden1, n_hidden2, n_hidden3):\n",
    "        super().__init__()\n",
    "        self.out_channels1 = out_channels1\n",
    "        self.out_channels2 = out_channels2\n",
    "        self.conv1 = nn.Sequential(\n",
    "            nn.Conv2d(1, self.out_channels1, kernel_size=3, stride=1, padding=1),\n",
    "            nn.ReLU(),\n",
    "            nn.MaxPool2d(kernel_size=2, stride=2))\n",
    "        self.conv2 = nn.Sequential(\n",
    "            nn.Conv2d(self.out_channels1, self.out_channels2, kernel_size=3, stride=1, padding=1),\n",
    "            nn.ReLU(),\n",
    "            nn.MaxPool2d(kernel_size=2, stride=2))\n",
    "        self.w1 = nn.Linear(self.out_channels2*8*50, n_hidden1)\n",
    "        self.w2 = nn.Linear(n_hidden1, n_hidden2)\n",
    "        self.w3 = nn.Linear(n_hidden2, n_hidden3)\n",
    "        self.w4 = nn.Linear(n_hidden3, 3)\n",
    "        \n",
    "    def forward(self, X):\n",
    "        X = self.conv1(X)\n",
    "        X = self.conv2(X)\n",
    "        X = X.reshape(-1, self.out_channels2*8*50)\n",
    "        X = self.w1(X)\n",
    "        X = torch.relu(X)\n",
    "        X = self.w2(X)\n",
    "        X = torch.relu(X)\n",
    "        X = self.w3(X)\n",
    "        X = torch.relu(X)\n",
    "        return self.w4(X)\n",
    "        \n",
    "    def post_forward(self, y):\n",
    "        return torch.argmax(y, axis=1)"
   ]
  },
  {
   "cell_type": "code",
   "execution_count": 13,
   "id": "5d00eddf",
   "metadata": {},
   "outputs": [],
   "source": [
    "nSamples = [1696, 2216, 3920] #of class instances\n",
    "normedWeights = [1 - (x / sum(nSamples)) for x in nSamples]\n",
    "normedWeights = torch.FloatTensor(normedWeights).cuda()"
   ]
  },
  {
   "cell_type": "markdown",
   "id": "3d8490d9",
   "metadata": {},
   "source": [
    "## Tuning the hyperparameters"
   ]
  },
  {
   "cell_type": "code",
   "execution_count": 29,
   "id": "7e643d6a",
   "metadata": {
    "scrolled": true
   },
   "outputs": [],
   "source": [
    "cnn4_model = cnn4(8, 16, 100, 50, 10)\n",
    "cnn4_trainer = trainer(cnn4_model, nn.CrossEntropyLoss(weight=normedWeights), train_loader, valid_loader, test_loader, metrics=metrics, gpu=True)"
   ]
  },
  {
   "cell_type": "code",
   "execution_count": 30,
   "id": "e850bc5b",
   "metadata": {
    "scrolled": true
   },
   "outputs": [
    {
     "data": {
      "application/vnd.jupyter.widget-view+json": {
       "model_id": "7f601be5afd64432b2a562d6673a970a",
       "version_major": 2,
       "version_minor": 0
      },
      "text/plain": [
       "Total:   0%|          | 0/787200 [00:00<?, ?it/s]"
      ]
     },
     "metadata": {},
     "output_type": "display_data"
    },
    {
     "name": "stdout",
     "output_type": "stream",
     "text": [
      "  1 4.66s trainloss=1.36742 validloss=0.94627 accuracy_score=0.56067 \n",
      "  2 4.61s trainloss=0.78664 validloss=1.01337 accuracy_score=0.53400 \n",
      "  3 5.80s trainloss=0.69616 validloss=0.98591 accuracy_score=0.61067 \n",
      "  4 5.40s trainloss=0.68046 validloss=0.92706 accuracy_score=0.60600 \n",
      "  5 4.59s trainloss=0.56525 validloss=0.96527 accuracy_score=0.73133 \n",
      "  6 4.62s trainloss=0.54541 validloss=0.86131 accuracy_score=0.73600 \n",
      "  7 4.61s trainloss=0.45801 validloss=0.69441 accuracy_score=0.75867 \n",
      "  8 4.60s trainloss=0.38733 validloss=0.75533 accuracy_score=0.77733 \n",
      "  9 4.62s trainloss=0.36647 validloss=1.04961 accuracy_score=0.76200 \n",
      " 10 4.60s trainloss=0.40038 validloss=0.93999 accuracy_score=0.75333 \n",
      " 11 4.70s trainloss=0.32274 validloss=1.05209 accuracy_score=0.79600 \n",
      " 12 4.60s trainloss=0.27948 validloss=1.28241 accuracy_score=0.79133 \n",
      " 13 4.61s trainloss=0.24129 validloss=1.01042 accuracy_score=0.79933 \n",
      " 14 4.59s trainloss=0.29629 validloss=1.02067 accuracy_score=0.81133 \n",
      " 15 4.60s trainloss=0.29856 validloss=1.11930 accuracy_score=0.79400 \n",
      " 16 4.60s trainloss=0.25868 validloss=0.97112 accuracy_score=0.81400 \n",
      " 17 4.60s trainloss=0.22730 validloss=1.08345 accuracy_score=0.80333 \n",
      " 18 4.60s trainloss=0.17675 validloss=1.13834 accuracy_score=0.82133 \n",
      " 19 4.61s trainloss=0.16253 validloss=0.99883 accuracy_score=0.82000 \n",
      " 20 4.61s trainloss=0.14206 validloss=1.09532 accuracy_score=0.81000 \n",
      " 21 4.60s trainloss=0.18132 validloss=1.07295 accuracy_score=0.79400 \n",
      " 22 4.61s trainloss=0.14331 validloss=1.44773 accuracy_score=0.82133 \n",
      " 23 4.61s trainloss=0.16105 validloss=1.00703 accuracy_score=0.81267 \n",
      " 24 4.60s trainloss=0.14601 validloss=1.45966 accuracy_score=0.81733 \n",
      " 25 4.61s trainloss=0.14261 validloss=1.50161 accuracy_score=0.79600 \n",
      " 26 4.61s trainloss=0.15535 validloss=0.90891 accuracy_score=0.81667 \n",
      " 27 5.12s trainloss=0.11407 validloss=1.35380 accuracy_score=0.82933 \n",
      " 28 5.89s trainloss=0.09989 validloss=1.41903 accuracy_score=0.82467 \n",
      " 29 5.84s trainloss=0.14473 validloss=1.05804 accuracy_score=0.82000 \n",
      " 30 5.90s trainloss=0.13541 validloss=1.23067 accuracy_score=0.81000 \n",
      " 31 4.65s trainloss=0.16494 validloss=0.98967 accuracy_score=0.82533 \n",
      " 32 4.60s trainloss=0.12191 validloss=1.43352 accuracy_score=0.82533 \n",
      " 33 4.60s trainloss=0.09745 validloss=1.65749 accuracy_score=0.79067 \n",
      " 34 4.73s trainloss=0.08907 validloss=1.15791 accuracy_score=0.82400 \n",
      " 35 5.86s trainloss=0.12948 validloss=1.26237 accuracy_score=0.80933 \n",
      " 36 5.85s trainloss=0.10640 validloss=1.22772 accuracy_score=0.81933 \n",
      " 37 5.98s trainloss=0.13629 validloss=0.96422 accuracy_score=0.81733 \n",
      " 38 5.00s trainloss=0.12868 validloss=1.10541 accuracy_score=0.83133 \n",
      " 39 4.60s trainloss=0.07154 validloss=1.38522 accuracy_score=0.82800 \n",
      " 40 5.46s trainloss=0.14678 validloss=0.95942 accuracy_score=0.80667 \n",
      " 41 5.81s trainloss=0.11415 validloss=1.40233 accuracy_score=0.80467 \n",
      " 42 5.90s trainloss=0.09917 validloss=1.37643 accuracy_score=0.81000 \n",
      " 43 5.73s trainloss=0.14642 validloss=0.99489 accuracy_score=0.80800 \n",
      " 44 4.59s trainloss=0.08147 validloss=1.04205 accuracy_score=0.83533 \n",
      " 45 4.58s trainloss=0.11025 validloss=1.16572 accuracy_score=0.81800 \n",
      " 46 4.59s trainloss=0.10123 validloss=1.35086 accuracy_score=0.82400 \n",
      " 47 4.60s trainloss=0.09324 validloss=1.14572 accuracy_score=0.81200 \n",
      " 48 4.60s trainloss=0.08507 validloss=1.20570 accuracy_score=0.81400 \n",
      " 49 4.59s trainloss=0.07492 validloss=1.24767 accuracy_score=0.81533 \n",
      " 50 4.60s trainloss=0.07020 validloss=1.54282 accuracy_score=0.82733 \n",
      " 51 4.59s trainloss=0.09340 validloss=1.51142 accuracy_score=0.82133 \n",
      " 52 4.59s trainloss=0.12699 validloss=1.13869 accuracy_score=0.82467 \n",
      " 53 4.65s trainloss=0.09514 validloss=1.32630 accuracy_score=0.82200 \n",
      " 54 4.61s trainloss=0.09948 validloss=1.29290 accuracy_score=0.82333 \n",
      " 55 4.66s trainloss=0.09245 validloss=1.22189 accuracy_score=0.81400 \n",
      " 56 4.95s trainloss=0.07602 validloss=1.49806 accuracy_score=0.81600 \n",
      " 57 5.56s trainloss=0.07620 validloss=1.34143 accuracy_score=0.82267 \n",
      " 58 5.60s trainloss=0.07658 validloss=1.28621 accuracy_score=0.81467 \n",
      " 59 5.29s trainloss=0.11824 validloss=1.40448 accuracy_score=0.81867 \n",
      " 60 5.28s trainloss=0.10004 validloss=1.15299 accuracy_score=0.82533 \n",
      " 61 5.36s trainloss=0.13495 validloss=1.08306 accuracy_score=0.80267 \n",
      " 62 4.65s trainloss=0.09620 validloss=1.07585 accuracy_score=0.80600 \n",
      " 63 4.75s trainloss=0.07262 validloss=1.24827 accuracy_score=0.82533 \n",
      " 64 5.29s trainloss=0.13687 validloss=1.07861 accuracy_score=0.80000 \n",
      " 65 5.33s trainloss=0.12545 validloss=1.02743 accuracy_score=0.82067 \n",
      " 66 5.18s trainloss=0.08860 validloss=1.36176 accuracy_score=0.81067 \n",
      " 67 5.20s trainloss=0.08836 validloss=1.00874 accuracy_score=0.83600 \n",
      " 68 5.21s trainloss=0.06891 validloss=1.11695 accuracy_score=0.82267 \n",
      " 69 4.94s trainloss=0.07720 validloss=1.06250 accuracy_score=0.81667 \n",
      " 70 5.28s trainloss=0.06689 validloss=1.37622 accuracy_score=0.81867 \n",
      " 71 5.38s trainloss=0.07450 validloss=1.02076 accuracy_score=0.82533 \n",
      " 72 5.38s trainloss=0.06139 validloss=1.43057 accuracy_score=0.82667 \n",
      " 73 5.32s trainloss=0.05287 validloss=1.37265 accuracy_score=0.82533 \n",
      " 74 5.34s trainloss=0.14982 validloss=0.84810 accuracy_score=0.81267 \n",
      " 75 5.37s trainloss=0.06727 validloss=1.37194 accuracy_score=0.82267 \n",
      " 76 5.39s trainloss=0.05843 validloss=1.62925 accuracy_score=0.81600 \n",
      " 77 4.84s trainloss=0.04934 validloss=1.49356 accuracy_score=0.82667 \n",
      " 78 4.58s trainloss=0.05567 validloss=1.14726 accuracy_score=0.82133 \n",
      " 79 4.60s trainloss=0.08055 validloss=1.11423 accuracy_score=0.83267 \n",
      " 80 4.59s trainloss=0.07305 validloss=1.32721 accuracy_score=0.83067 \n",
      " 81 4.61s trainloss=0.06218 validloss=1.17340 accuracy_score=0.83533 \n",
      " 82 4.63s trainloss=0.06391 validloss=1.46966 accuracy_score=0.83267 \n",
      " 83 4.62s trainloss=0.14914 validloss=1.07841 accuracy_score=0.82800 \n",
      " 84 4.62s trainloss=0.08590 validloss=1.08394 accuracy_score=0.83667 \n",
      " 85 4.63s trainloss=0.06593 validloss=1.35541 accuracy_score=0.83133 \n",
      " 86 4.62s trainloss=0.05726 validloss=0.98397 accuracy_score=0.82800 \n",
      " 87 4.59s trainloss=0.09865 validloss=1.08053 accuracy_score=0.83067 \n",
      " 88 5.25s trainloss=0.11851 validloss=1.15383 accuracy_score=0.80667 \n",
      " 89 5.94s trainloss=0.11886 validloss=0.90758 accuracy_score=0.83333 \n",
      " 90 5.76s trainloss=0.07404 validloss=1.16617 accuracy_score=0.82667 \n",
      " 91 4.71s trainloss=0.07615 validloss=0.99560 accuracy_score=0.81067 \n",
      " 92 4.67s trainloss=0.10331 validloss=1.07029 accuracy_score=0.82800 \n",
      " 93 4.69s trainloss=0.04554 validloss=1.40043 accuracy_score=0.82067 \n",
      " 94 4.68s trainloss=0.06365 validloss=1.27376 accuracy_score=0.82200 \n",
      " 95 4.69s trainloss=0.04874 validloss=1.15750 accuracy_score=0.82867 \n",
      " 96 4.68s trainloss=0.04828 validloss=1.44423 accuracy_score=0.82600 \n",
      " 97 4.68s trainloss=0.08129 validloss=1.41816 accuracy_score=0.83133 \n",
      " 98 4.69s trainloss=0.04808 validloss=1.32161 accuracy_score=0.83467 \n",
      " 99 4.94s trainloss=0.03886 validloss=1.42145 accuracy_score=0.83400 \n",
      "100 5.79s trainloss=0.07417 validloss=1.16618 accuracy_score=0.83067 \n"
     ]
    }
   ],
   "source": [
    "cnn4_trainer.train(100, lr=[0.01, 0.001], weight_decay=0.4)"
   ]
  },
  {
   "cell_type": "code",
   "execution_count": 26,
   "id": "398f0b7a",
   "metadata": {},
   "outputs": [
    {
     "data": {
      "image/png": "[encoded data removed]",
      "text/plain": [
       "<Figure size 432x288 with 1 Axes>"
      ]
     },
     "metadata": {
      "needs_background": "light"
     },
     "output_type": "display_data"
    }
   ],
   "source": [
    "cnn4_trainer.learning_curve()"
   ]
  },
  {
   "cell_type": "code",
   "execution_count": 27,
   "id": "27909df1",
   "metadata": {},
   "outputs": [
    {
     "data": {
      "image/png": "[encoded data removed]",
      "text/plain": [
       "<Figure size 432x288 with 1 Axes>"
      ]
     },
     "metadata": {
      "needs_background": "light"
     },
     "output_type": "display_data"
    }
   ],
   "source": [
    "cnn4_trainer.learning_curve(y='accuracy_score')"
   ]
  },
  {
   "cell_type": "code",
   "execution_count": 28,
   "id": "767b3cc4",
   "metadata": {},
   "outputs": [
    {
     "name": "stdout",
     "output_type": "stream",
     "text": [
      "     accuracy_score  epoch  prec_chewing  prec_drinking  recall_chewing  \\\n",
      "157        0.839333   79.0      0.882550       0.866071        0.848387   \n",
      "177        0.836667   89.0      0.883117       0.805128        0.877419   \n",
      "155        0.836000   78.0      0.852201       0.820312        0.874194   \n",
      "143        0.835333   72.0      0.857605       0.828947        0.854839   \n",
      "149        0.834667   75.0      0.834862       0.811558        0.880645   \n",
      "..              ...    ...           ...            ...             ...   \n",
      "9          0.742667    5.0      0.752443       0.735211        0.745161   \n",
      "5          0.710667    3.0      0.735593       0.655612        0.700000   \n",
      "7          0.708667    4.0      0.682857       0.634783        0.770968   \n",
      "3          0.660667    2.0      0.737374       0.538265        0.706452   \n",
      "1          0.550667    1.0      0.720539       0.390244        0.690323   \n",
      "\n",
      "     recall_drinking  \n",
      "157         0.683099  \n",
      "177         0.737089  \n",
      "155         0.739437  \n",
      "143         0.739437  \n",
      "149         0.758216  \n",
      "..               ...  \n",
      "9           0.612676  \n",
      "5           0.603286  \n",
      "7           0.685446  \n",
      "3           0.495305  \n",
      "1           0.676056  \n",
      "\n",
      "[100 rows x 6 columns]\n"
     ]
    }
   ],
   "source": [
    "sort_epochs(cnn4_trainer.evaluator, 'accuracy_score')"
   ]
  },
  {
   "cell_type": "code",
   "execution_count": null,
   "id": "6d0d1718",
   "metadata": {},
   "outputs": [
    {
     "data": {
      "application/javascript": [
       "Jupyter.notebook.session.delete();\n"
      ],
      "text/plain": [
       "<IPython.core.display.Javascript object>"
      ]
     },
     "metadata": {},
     "output_type": "display_data"
    }
   ],
   "source": [
    "%%javascript\n",
    "Jupyter.notebook.session.delete();"
   ]
  }
 ],
 "metadata": {
  "kernelspec": {
   "display_name": "Python 3 (ipykernel)",
   "language": "python",
   "name": "python3"
  },
  "language_info": {
   "codemirror_mode": {
    "name": "ipython",
    "version": 3
   },
   "file_extension": ".py",
   "mimetype": "text/x-python",
   "name": "python",
   "nbconvert_exporter": "python",
   "pygments_lexer": "ipython3",
   "version": "3.9.7"
  }
 },
 "nbformat": 4,
 "nbformat_minor": 5
}
