{
 "cells": [
  {
   "cell_type": "code",
   "execution_count": 2,
   "id": "adb7f461",
   "metadata": {},
   "outputs": [
    {
     "name": "stdout",
     "output_type": "stream",
     "text": [
      "using gpu 3\n"
     ]
    }
   ],
   "source": [
    "import pandas as pd\n",
    "import torchaudio\n",
    "import torch\n",
    "import torch.nn.functional as F\n",
    "import numpy as np\n",
    "from sklearn.metrics import accuracy_score, precision_score, recall_score\n",
    "from torch.utils.data import Dataset, DataLoader\n",
    "import torch.nn as nn\n",
    "from pipetorch.train import *\n",
    "from sklearn.metrics import confusion_matrix, multilabel_confusion_matrix\n",
    "import seaborn as sns\n",
    "import math\n",
    "import matplotlib.pyplot as plt\n",
    "from torchvision import models\n",
    "from torch.utils.data import WeightedRandomSampler"
   ]
  },
  {
   "cell_type": "code",
   "execution_count": 3,
   "id": "11d27d12",
   "metadata": {},
   "outputs": [
    {
     "data": {
      "text/html": [
       "<div>\n",
       "<style scoped>\n",
       "    .dataframe tbody tr th:only-of-type {\n",
       "        vertical-align: middle;\n",
       "    }\n",
       "\n",
       "    .dataframe tbody tr th {\n",
       "        vertical-align: top;\n",
       "    }\n",
       "\n",
       "    .dataframe thead th {\n",
       "        text-align: right;\n",
       "    }\n",
       "</style>\n",
       "<table border=\"1\" class=\"dataframe\">\n",
       "  <thead>\n",
       "    <tr style=\"text-align: right;\">\n",
       "      <th></th>\n",
       "      <th>filename</th>\n",
       "      <th>modification</th>\n",
       "      <th>label</th>\n",
       "    </tr>\n",
       "  </thead>\n",
       "  <tbody>\n",
       "    <tr>\n",
       "      <th>0</th>\n",
       "      <td>-4wthmfwlwQ_260.pt</td>\n",
       "      <td>None</td>\n",
       "      <td>chewing</td>\n",
       "    </tr>\n",
       "    <tr>\n",
       "      <th>1</th>\n",
       "      <td>-5IpgOv9HD0_30.pt</td>\n",
       "      <td>None</td>\n",
       "      <td>chewing</td>\n",
       "    </tr>\n",
       "    <tr>\n",
       "      <th>2</th>\n",
       "      <td>-KO1p22zjVc_470.pt</td>\n",
       "      <td>None</td>\n",
       "      <td>chewing</td>\n",
       "    </tr>\n",
       "    <tr>\n",
       "      <th>3</th>\n",
       "      <td>-t-lmWNCXt0_10.pt</td>\n",
       "      <td>None</td>\n",
       "      <td>chewing</td>\n",
       "    </tr>\n",
       "    <tr>\n",
       "      <th>4</th>\n",
       "      <td>-t95P0R9Pf0_60.pt</td>\n",
       "      <td>None</td>\n",
       "      <td>chewing</td>\n",
       "    </tr>\n",
       "    <tr>\n",
       "      <th>...</th>\n",
       "      <td>...</td>\n",
       "      <td>...</td>\n",
       "      <td>...</td>\n",
       "    </tr>\n",
       "    <tr>\n",
       "      <th>7827</th>\n",
       "      <td>4gBf0FWwKnQ_100_squeezed.pt</td>\n",
       "      <td>squeezed</td>\n",
       "      <td>other</td>\n",
       "    </tr>\n",
       "    <tr>\n",
       "      <th>7828</th>\n",
       "      <td>4gBf0FWwKnQ_100_extended.pt</td>\n",
       "      <td>extended</td>\n",
       "      <td>other</td>\n",
       "    </tr>\n",
       "    <tr>\n",
       "      <th>7829</th>\n",
       "      <td>4gBf0FWwKnQ_100_shiftRight.pt</td>\n",
       "      <td>shiftRight</td>\n",
       "      <td>other</td>\n",
       "    </tr>\n",
       "    <tr>\n",
       "      <th>7830</th>\n",
       "      <td>4gBf0FWwKnQ_100_shiftLeft.pt</td>\n",
       "      <td>shiftLeft</td>\n",
       "      <td>other</td>\n",
       "    </tr>\n",
       "    <tr>\n",
       "      <th>7831</th>\n",
       "      <td>4gBf0FWwKnQ_100_background_sound.pt</td>\n",
       "      <td>background_sound</td>\n",
       "      <td>other</td>\n",
       "    </tr>\n",
       "  </tbody>\n",
       "</table>\n",
       "<p>7832 rows × 3 columns</p>\n",
       "</div>"
      ],
      "text/plain": [
       "                                 filename      modification    label\n",
       "0                      -4wthmfwlwQ_260.pt              None  chewing\n",
       "1                       -5IpgOv9HD0_30.pt              None  chewing\n",
       "2                      -KO1p22zjVc_470.pt              None  chewing\n",
       "3                       -t-lmWNCXt0_10.pt              None  chewing\n",
       "4                       -t95P0R9Pf0_60.pt              None  chewing\n",
       "...                                   ...               ...      ...\n",
       "7827          4gBf0FWwKnQ_100_squeezed.pt          squeezed    other\n",
       "7828          4gBf0FWwKnQ_100_extended.pt          extended    other\n",
       "7829        4gBf0FWwKnQ_100_shiftRight.pt        shiftRight    other\n",
       "7830         4gBf0FWwKnQ_100_shiftLeft.pt         shiftLeft    other\n",
       "7831  4gBf0FWwKnQ_100_background_sound.pt  background_sound    other\n",
       "\n",
       "[7832 rows x 3 columns]"
      ]
     },
     "execution_count": 3,
     "metadata": {},
     "output_type": "execute_result"
    }
   ],
   "source": [
    "df = pd.read_csv('../nourish/res/dataset_tensors_melspec/train/audio_train_augmented_melspec_tensors.csv')\n",
    "df"
   ]
  },
  {
   "cell_type": "code",
   "execution_count": 4,
   "id": "66d1f891",
   "metadata": {},
   "outputs": [],
   "source": [
    "class AudioSet(Dataset):\n",
    "    def __init__(self, df, root_dir, in_col, out_col, length_sec, sampling_rate):\n",
    "        self.df = df\n",
    "        self.root_dir = root_dir\n",
    "        self.in_col = in_col\n",
    "        self.out_col = out_col\n",
    "        self.length_sec = length_sec\n",
    "        self.sampling_rate = sampling_rate\n",
    "        \n",
    "        self.c2i = {'chewing': 1, 'drinking': 0, 'other': 1}\n",
    "        self.i2c = {0: 'drinking', 1: 'other'}\n",
    "        \n",
    "    def __getitem__(self, index):\n",
    "        filepath = self.root_dir + self.df.iloc[index][self.in_col]\n",
    "        data = torch.load(filepath)\n",
    "        label = self.c2i[self.df.iloc[index][self.out_col]]\n",
    "        return data.cuda(), label\n",
    "        \n",
    "    def __len__(self):\n",
    "        return len(self.df)"
   ]
  },
  {
   "cell_type": "code",
   "execution_count": 5,
   "id": "59de4884",
   "metadata": {},
   "outputs": [],
   "source": [
    "def my_precision_score(true_y, pred_y):\n",
    "    return precision_score(true_y, pred_y, average=None)"
   ]
  },
  {
   "cell_type": "code",
   "execution_count": 6,
   "id": "b94c7871",
   "metadata": {},
   "outputs": [],
   "source": [
    "def my_recall_score(true_y, pred_y):\n",
    "    return recall_score(true_y, pred_y, average=None)"
   ]
  },
  {
   "cell_type": "code",
   "execution_count": 7,
   "id": "bfbf44a5",
   "metadata": {},
   "outputs": [],
   "source": [
    "def sort_epochs(results, by):\n",
    "    results = results[results['phase'] != '']\n",
    "    results[['prec_drinking', 'prec_other']] = pd.DataFrame(results['my_precision_score'].tolist(), index=results.index)\n",
    "    results[['recall_drinking', 'recall_other']] = pd.DataFrame(results['my_recall_score'].tolist(), index=results.index)\n",
    "\n",
    "    results = results[results['phase'] == 'valid']\n",
    "    results = results.sort_values(by, ascending=False)\n",
    "    print(results[['accuracy_score', 'epoch', 'prec_drinking', 'recall_drinking', 'recall_other']])"
   ]
  },
  {
   "cell_type": "code",
   "execution_count": 8,
   "id": "060ecb4c",
   "metadata": {},
   "outputs": [],
   "source": [
    "\n",
    "# thanks to https://github.com/DTrimarchi10/confusion_matrix/blob/master/cf_matrix.py\n",
    "# modified the function a little to fit our needs\n",
    "\n",
    "def make_confusion_matrix(true_y,\n",
    "                          pred_y,\n",
    "                          group_names=None,\n",
    "                          categories='auto',\n",
    "                          count=True,\n",
    "                          percent=True,\n",
    "                          cbar=True,\n",
    "                          xyticks=True,\n",
    "                          xyplotlabels=True,\n",
    "                          sum_stats=True,\n",
    "                          figsize=None,\n",
    "                          cmap='Blues',\n",
    "                          title=None):\n",
    "    '''\n",
    "    This function will make a pretty plot of an sklearn Confusion Matrix cm using a Seaborn heatmap visualization.\n",
    "    Arguments\n",
    "    ---------\n",
    "    cf:            confusion matrix to be passed in\n",
    "    group_names:   List of strings that represent the labels row by row to be shown in each square.\n",
    "    categories:    List of strings containing the categories to be displayed on the x,y axis. Default is 'auto'\n",
    "    count:         If True, show the raw number in the confusion matrix. Default is True.\n",
    "    normalize:     If True, show the proportions for each category. Default is True.\n",
    "    cbar:          If True, show the color bar. The cbar values are based off the values in the confusion matrix.\n",
    "                   Default is True.\n",
    "    xyticks:       If True, show x and y ticks. Default is True.\n",
    "    xyplotlabels:  If True, show 'True Label' and 'Predicted Label' on the figure. Default is True.\n",
    "    sum_stats:     If True, display summary statistics below the figure. Default is True.\n",
    "    figsize:       Tuple representing the figure size. Default will be the matplotlib rcParams value.\n",
    "    cmap:          Colormap of the values displayed from matplotlib.pyplot.cm. Default is 'Blues'\n",
    "                   See http://matplotlib.org/examples/color/colormaps_reference.html\n",
    "                   \n",
    "    title:         Title for the heatmap. Default is None.\n",
    "    '''\n",
    "    \n",
    "    cf = confusion_matrix(true_y, pred_y)\n",
    "    # CODE TO GENERATE TEXT INSIDE EACH SQUARE\n",
    "    blanks = ['' for i in range(cf.size)]\n",
    "\n",
    "    if group_names and len(group_names)==cf.size:\n",
    "        group_labels = [\"{}\\n\".format(value) for value in group_names]\n",
    "    else:\n",
    "        group_labels = blanks\n",
    "\n",
    "    if count:\n",
    "        group_counts = [\"{0:0.0f}\\n\".format(value) for value in cf.flatten()]\n",
    "    else:\n",
    "        group_counts = blanks\n",
    "\n",
    "    if percent:\n",
    "        group_percentages = [round(value / np.sum(cf[i // 3]) * 100, 2) for i, value in enumerate(cf.flatten())]\n",
    "    else:\n",
    "        group_percentages = blanks\n",
    "\n",
    "    box_labels = [f\"{v1}{v2}{v3}%\".strip() for v1, v2, v3 in zip(group_labels,group_counts,group_percentages)]\n",
    "    box_labels = np.asarray(box_labels).reshape(cf.shape[0],cf.shape[1])\n",
    "\n",
    "    # CODE TO GENERATE SUMMARY STATISTICS & TEXT FOR SUMMARY STATS\n",
    "    if sum_stats:\n",
    "        #Accuracy is sum of diagonal divided by total observations\n",
    "        accuracy  = np.trace(cf) / float(np.sum(cf))\n",
    "\n",
    "\n",
    "        #Metrics for Binary Confusion Matrices\n",
    "        precision = precision_score(true_y, pred_y, average=None)\n",
    "        \n",
    "        stats_text = \"\\n\\nAccuracy={:0.3f}\\nPrecision Drinking={:0.3f}\\n Precision other={:0.3f}\\n\".format(\n",
    "            accuracy, precision[0], precision[1])\n",
    "    else:\n",
    "        stats_text = \"\"\n",
    "\n",
    "\n",
    "    # SET FIGURE PARAMETERS ACCORDING TO OTHER ARGUMENTS\n",
    "    if figsize==None:\n",
    "        #Get default figure size if not set\n",
    "        figsize = plt.rcParams.get('figure.figsize')\n",
    "\n",
    "    if xyticks==False:\n",
    "        #Do not show categories if xyticks is False\n",
    "        categories=False\n",
    "    \n",
    "    group_percentages = np.reshape(group_percentages, (2, 2))\n",
    "\n",
    "    # MAKE THE HEATMAP VISUALIZATION\n",
    "    plt.figure(figsize=figsize)\n",
    "    sns.heatmap(\n",
    "        group_percentages,annot=box_labels,\n",
    "        fmt=\"\",cmap=cmap,cbar=cbar,xticklabels=categories,\n",
    "        yticklabels=categories, vmin=0, vmax=100)\n",
    "\n",
    "    if xyplotlabels:\n",
    "        plt.ylabel('True label')\n",
    "        plt.xlabel('Predicted label' + stats_text)\n",
    "    else:\n",
    "        plt.xlabel(stats_text)\n",
    "    \n",
    "    if title:\n",
    "        plt.title(title)"
   ]
  },
  {
   "cell_type": "code",
   "execution_count": 9,
   "id": "4e9c029b",
   "metadata": {},
   "outputs": [],
   "source": [
    "c2i = {'chewing': 1, 'drinking': 0, 'other': 1}\n",
    "\n",
    "def predict_test_set(model, df_test, audio_dir, print_wrong=True, gpu=True):\n",
    "    model = model.cuda() if gpu else model.cpu()\n",
    "    \n",
    "    # get labels and filenames\n",
    "    true_y = [c2i[label] for label in df_test['label'].values]\n",
    "    filenames = df_test['filename'].values\n",
    "    pred_y = []\n",
    "    \n",
    "    for filename in filenames:\n",
    "        t = torch.load(audio_dir + filename)\n",
    "        t = t.cuda() if gpu else t.cpu()\n",
    "        t = t[None, :] # expand the tensor\n",
    "        \n",
    "        with torch.no_grad():\n",
    "            pred = model(t)\n",
    "            pred = model.post_forward(pred)\n",
    "            pred_y.append(pred.data.cpu().numpy()[0])\n",
    "    # plot conf matrix\n",
    "    make_confusion_matrix(true_y, pred_y)\n",
    "    plt.show()\n",
    "    \n",
    "    if print_wrong:\n",
    "        # get false negatives and false positives of eating and drinking\n",
    "        fn_eating_ind = []\n",
    "        fn_drinking_ind = []\n",
    "        fp_eating_ind = []\n",
    "        fp_drinking_ind = []\n",
    "        for i, y in enumerate(zip(true_y, pred_y)):\n",
    "            if(y[0] != y[1]):\n",
    "                # fn eating\n",
    "                if y[0] == 0:\n",
    "                    fn_eating_ind.append(i)\n",
    "                \n",
    "                # fn drinking\n",
    "                if y[0] == 1:\n",
    "                    fn_drinking_ind.append(i)\n",
    "                \n",
    "                # fp eating\n",
    "                if y[1] == 0:\n",
    "                    fp_eating_ind.append(i)\n",
    "            \n",
    "                # fp drinking\n",
    "                if y[1] == 1:\n",
    "                    fp_drinking_ind.append(i)\n",
    "                \n",
    "        fn_eating_filenames = [filenames[i] for i in fn_eating_ind]\n",
    "        fn_drinking_filenames = [filenames[i] for i in fn_drinking_ind]\n",
    "        fp_eating_filenames = [filenames[i] for i in fp_eating_ind]\n",
    "        fp_drinking_filenames = [filenames[i] for i in fp_drinking_ind]\n",
    "    \n",
    "        # print it\n",
    "        print('FALSE NEGATIVES EATING:', end='\\n\\t')\n",
    "        print('\\n\\t'.join(fn_eating_filenames))\n",
    "        print('FALSE NEGATIVES DRINKING:', end='\\n\\t')\n",
    "        print('\\n\\t'.join(fn_drinking_filenames))\n",
    "        print('FALSE POSITIVES EATING:', end='\\n\\t')\n",
    "        print('\\n\\t'.join(fp_eating_filenames))\n",
    "        print('FALSE POSITIVES DRINKING:', end='\\n\\t')\n",
    "        print('\\n\\t'.join(fp_drinking_filenames))"
   ]
  },
  {
   "cell_type": "code",
   "execution_count": 10,
   "id": "0ec6204d",
   "metadata": {},
   "outputs": [],
   "source": [
    "df_pos = df[df['label']=='drinking']\n",
    "df_neg = df.drop(df_pos.index)\n",
    "bdf_neg = df_neg.sample(n=len(df_pos.index))\n",
    "bdf = pd.concat([df_pos, bdf_neg])"
   ]
  },
  {
   "cell_type": "code",
   "execution_count": 11,
   "id": "c6b086fc",
   "metadata": {},
   "outputs": [
    {
     "data": {
      "text/html": [
       "<div>\n",
       "<style scoped>\n",
       "    .dataframe tbody tr th:only-of-type {\n",
       "        vertical-align: middle;\n",
       "    }\n",
       "\n",
       "    .dataframe tbody tr th {\n",
       "        vertical-align: top;\n",
       "    }\n",
       "\n",
       "    .dataframe thead th {\n",
       "        text-align: right;\n",
       "    }\n",
       "</style>\n",
       "<table border=\"1\" class=\"dataframe\">\n",
       "  <thead>\n",
       "    <tr style=\"text-align: right;\">\n",
       "      <th></th>\n",
       "      <th>filename</th>\n",
       "      <th>modification</th>\n",
       "      <th>label</th>\n",
       "    </tr>\n",
       "  </thead>\n",
       "  <tbody>\n",
       "    <tr>\n",
       "      <th>4921</th>\n",
       "      <td>drinks_6_17_pitched_down.pt</td>\n",
       "      <td>pitched_down</td>\n",
       "      <td>drinking</td>\n",
       "    </tr>\n",
       "    <tr>\n",
       "      <th>1963</th>\n",
       "      <td>-4wthmfwlwQ_260_shiftRight.pt</td>\n",
       "      <td>shiftRight</td>\n",
       "      <td>chewing</td>\n",
       "    </tr>\n",
       "    <tr>\n",
       "      <th>6460</th>\n",
       "      <td>08NwoFomOds_130_pitched_up.pt</td>\n",
       "      <td>pitched_up</td>\n",
       "      <td>other</td>\n",
       "    </tr>\n",
       "    <tr>\n",
       "      <th>2164</th>\n",
       "      <td>2-PhFBwwOiM_19_squeezed.pt</td>\n",
       "      <td>squeezed</td>\n",
       "      <td>chewing</td>\n",
       "    </tr>\n",
       "    <tr>\n",
       "      <th>2137</th>\n",
       "      <td>1mCEzdPC8xQ_360_extended.pt</td>\n",
       "      <td>extended</td>\n",
       "      <td>chewing</td>\n",
       "    </tr>\n",
       "    <tr>\n",
       "      <th>...</th>\n",
       "      <td>...</td>\n",
       "      <td>...</td>\n",
       "      <td>...</td>\n",
       "    </tr>\n",
       "    <tr>\n",
       "      <th>3795</th>\n",
       "      <td>drinks_11_17_squeezed.pt</td>\n",
       "      <td>squeezed</td>\n",
       "      <td>drinking</td>\n",
       "    </tr>\n",
       "    <tr>\n",
       "      <th>4178</th>\n",
       "      <td>drinks_2_25_pitched_up.pt</td>\n",
       "      <td>pitched_up</td>\n",
       "      <td>drinking</td>\n",
       "    </tr>\n",
       "    <tr>\n",
       "      <th>4937</th>\n",
       "      <td>drinks_6_19_extended.pt</td>\n",
       "      <td>extended</td>\n",
       "      <td>drinking</td>\n",
       "    </tr>\n",
       "    <tr>\n",
       "      <th>2295</th>\n",
       "      <td>3Yprz_bSKeQ_50_pitched_up.pt</td>\n",
       "      <td>pitched_up</td>\n",
       "      <td>chewing</td>\n",
       "    </tr>\n",
       "    <tr>\n",
       "      <th>5343</th>\n",
       "      <td>drinks_9_25_extended.pt</td>\n",
       "      <td>extended</td>\n",
       "      <td>drinking</td>\n",
       "    </tr>\n",
       "  </tbody>\n",
       "</table>\n",
       "<p>3546 rows × 3 columns</p>\n",
       "</div>"
      ],
      "text/plain": [
       "                           filename  modification     label\n",
       "4921    drinks_6_17_pitched_down.pt  pitched_down  drinking\n",
       "1963  -4wthmfwlwQ_260_shiftRight.pt    shiftRight   chewing\n",
       "6460  08NwoFomOds_130_pitched_up.pt    pitched_up     other\n",
       "2164     2-PhFBwwOiM_19_squeezed.pt      squeezed   chewing\n",
       "2137    1mCEzdPC8xQ_360_extended.pt      extended   chewing\n",
       "...                             ...           ...       ...\n",
       "3795       drinks_11_17_squeezed.pt      squeezed  drinking\n",
       "4178      drinks_2_25_pitched_up.pt    pitched_up  drinking\n",
       "4937        drinks_6_19_extended.pt      extended  drinking\n",
       "2295   3Yprz_bSKeQ_50_pitched_up.pt    pitched_up   chewing\n",
       "5343        drinks_9_25_extended.pt      extended  drinking\n",
       "\n",
       "[3546 rows x 3 columns]"
      ]
     },
     "execution_count": 11,
     "metadata": {},
     "output_type": "execute_result"
    }
   ],
   "source": [
    "df_valid = bdf.sample(n=int((len(bdf.index))/5))\n",
    "df_train = bdf.drop(df_valid.index)\n",
    "df_test = pd.read_csv('../nourish/res/dataset_tensors_melspec/test/audio_test_melspec_tensors.csv')\n",
    "# shuffling the sets\n",
    "df_valid = df_valid.sample(frac=1)\n",
    "df_train = df_train.sample(frac=1)\n",
    "df_test = df_test.sample(frac=1)\n",
    "df_train"
   ]
  },
  {
   "cell_type": "code",
   "execution_count": 12,
   "id": "c2e495d1",
   "metadata": {},
   "outputs": [],
   "source": [
    "batch_size = 64\n",
    "\n",
    "root_dir_train = '../nourish/res/dataset_tensors_melspec/train/audio/'\n",
    "root_dir_test = '../nourish/res/dataset_tensors_melspec/test/audio/'\n",
    "train_data = AudioSet(df_train, root_dir_train, 'filename', 'label', 10, 16000)\n",
    "valid_data = AudioSet(df_valid, root_dir_train, 'filename', 'label', 10, 16000)\n",
    "test_data = AudioSet(df_test, root_dir_test, 'filename', 'label', 10, 16000)\n",
    "train_loader = DataLoader(train_data, batch_size=batch_size, shuffle=True)\n",
    "valid_loader = DataLoader(valid_data, batch_size=batch_size, shuffle=True)\n",
    "test_loader = DataLoader(test_data, batch_size=test_data.__len__(), shuffle=True)\n",
    "\n",
    "lr = 0.001\n",
    "epochs = 100\n",
    "\n",
    "metrics = [accuracy_score, my_precision_score, my_recall_score]"
   ]
  },
  {
   "cell_type": "markdown",
   "id": "3c7ac40e",
   "metadata": {},
   "source": [
    "# 1 conv 1 lin"
   ]
  },
  {
   "cell_type": "code",
   "execution_count": 74,
   "id": "967ad215",
   "metadata": {},
   "outputs": [],
   "source": [
    "class cnn1Layer1(nn.Module):\n",
    "    def __init__(self, out_channels):\n",
    "        super().__init__()\n",
    "        self.out_channels = out_channels\n",
    "        self.layer1 = nn.Sequential(\n",
    "            nn.Conv2d(1, self.out_channels, kernel_size=3, stride=1, padding=1),\n",
    "            nn.ReLU(),\n",
    "            nn.MaxPool2d(kernel_size=2, stride=2)\n",
    "            )\n",
    "        self.w1 = nn.Linear(self.out_channels*16*100 , 2)\n",
    "        \n",
    "    def forward(self, X):\n",
    "        X = self.layer1(X)\n",
    "        X = X.reshape(-1, self.out_channels*16*100)\n",
    "        X = self.w1(X)\n",
    "        return X\n",
    "        \n",
    "    def post_forward(self, y):\n",
    "        return torch.argmax(y, axis=1)"
   ]
  },
  {
   "cell_type": "code",
   "execution_count": 75,
   "id": "5ebc82f1",
   "metadata": {},
   "outputs": [
    {
     "data": {
      "application/vnd.jupyter.widget-view+json": {
       "model_id": "",
       "version_major": 2,
       "version_minor": 0
      },
      "text/plain": [
       "Total:   0%|          | 0/448000 [00:00<?, ?it/s]"
      ]
     },
     "metadata": {},
     "output_type": "display_data"
    },
    {
     "name": "stdout",
     "output_type": "stream",
     "text": [
      "  1 2.83s trainloss=113.63774 validloss=84.43754 accuracy_score=0.65801 \n",
      "  2 2.81s trainloss=38.11102 validloss=76.41354 accuracy_score=0.68736 \n",
      "  3 2.84s trainloss=20.99392 validloss=58.41822 accuracy_score=0.69074 \n",
      "  4 2.77s trainloss=12.00463 validloss=52.49638 accuracy_score=0.69977 \n",
      "  5 2.73s trainloss=9.29542 validloss=50.44150 accuracy_score=0.71558 \n",
      "  6 2.73s trainloss=7.18486 validloss=43.76663 accuracy_score=0.72348 \n",
      "  7 2.72s trainloss=6.00584 validloss=34.75732 accuracy_score=0.70880 \n",
      "  8 2.72s trainloss=5.69599 validloss=37.01804 accuracy_score=0.71106 \n",
      "  9 2.73s trainloss=4.34349 validloss=33.17779 accuracy_score=0.73138 \n",
      " 10 2.75s trainloss=3.55857 validloss=33.80462 accuracy_score=0.73025 \n",
      " 11 2.79s trainloss=3.55789 validloss=33.79054 accuracy_score=0.73476 \n",
      " 12 2.77s trainloss=3.12068 validloss=31.25807 accuracy_score=0.72799 \n",
      " 13 2.78s trainloss=2.74273 validloss=32.40446 accuracy_score=0.73815 \n",
      " 14 2.77s trainloss=3.63795 validloss=25.47872 accuracy_score=0.73138 \n",
      " 15 2.77s trainloss=2.20922 validloss=24.88522 accuracy_score=0.71670 \n",
      " 16 2.78s trainloss=3.15626 validloss=27.60319 accuracy_score=0.72912 \n",
      " 17 2.78s trainloss=1.84121 validloss=28.34055 accuracy_score=0.74605 \n",
      " 18 2.78s trainloss=3.04612 validloss=26.35533 accuracy_score=0.74266 \n",
      " 19 2.78s trainloss=2.75031 validloss=23.29592 accuracy_score=0.74379 \n",
      " 20 2.78s trainloss=2.54780 validloss=24.38111 accuracy_score=0.74153 \n",
      " 21 2.73s trainloss=1.95972 validloss=22.45530 accuracy_score=0.74718 \n",
      " 22 2.72s trainloss=1.79500 validloss=20.76423 accuracy_score=0.75621 \n",
      " 23 2.71s trainloss=1.66338 validloss=20.24774 accuracy_score=0.74492 \n",
      " 24 2.72s trainloss=1.16892 validloss=19.69521 accuracy_score=0.73476 \n",
      " 25 2.73s trainloss=1.06852 validloss=21.08743 accuracy_score=0.74041 \n",
      " 26 2.72s trainloss=0.96060 validloss=19.44390 accuracy_score=0.74718 \n",
      " 27 2.72s trainloss=1.77462 validloss=19.29137 accuracy_score=0.74153 \n",
      " 28 2.72s trainloss=1.09385 validloss=19.26235 accuracy_score=0.74153 \n",
      " 29 2.75s trainloss=1.01009 validloss=18.12609 accuracy_score=0.73476 \n",
      " 30 2.83s trainloss=1.19471 validloss=17.80800 accuracy_score=0.73702 \n",
      " 31 2.85s trainloss=1.01076 validloss=17.50547 accuracy_score=0.74266 \n",
      " 32 2.83s trainloss=0.80956 validloss=19.71265 accuracy_score=0.73589 \n",
      " 33 2.84s trainloss=1.04139 validloss=18.63550 accuracy_score=0.74153 \n",
      " 34 2.87s trainloss=1.03277 validloss=16.22251 accuracy_score=0.74041 \n",
      " 35 2.85s trainloss=0.77643 validloss=16.12239 accuracy_score=0.74718 \n",
      " 36 2.77s trainloss=0.86715 validloss=17.05146 accuracy_score=0.74153 \n",
      " 37 2.76s trainloss=0.77867 validloss=15.53494 accuracy_score=0.74266 \n",
      " 38 2.75s trainloss=0.84990 validloss=15.05387 accuracy_score=0.74605 \n",
      " 39 2.74s trainloss=0.32322 validloss=15.01650 accuracy_score=0.74379 \n",
      " 40 2.74s trainloss=0.67682 validloss=16.42614 accuracy_score=0.73589 \n",
      " 41 2.73s trainloss=0.71381 validloss=15.57464 accuracy_score=0.74153 \n",
      " 42 2.73s trainloss=0.81846 validloss=14.72732 accuracy_score=0.74266 \n",
      " 43 2.73s trainloss=0.79811 validloss=14.45187 accuracy_score=0.75056 \n",
      " 44 2.74s trainloss=0.74015 validloss=15.56554 accuracy_score=0.75169 \n",
      " 45 2.74s trainloss=0.96434 validloss=15.73815 accuracy_score=0.75056 \n",
      " 46 2.86s trainloss=0.62815 validloss=16.62468 accuracy_score=0.75621 \n",
      " 47 2.74s trainloss=0.90676 validloss=15.05370 accuracy_score=0.75169 \n",
      " 48 2.74s trainloss=0.53030 validloss=15.85015 accuracy_score=0.75282 \n",
      " 49 2.85s trainloss=0.90251 validloss=14.25133 accuracy_score=0.73589 \n",
      " 50 2.80s trainloss=0.60321 validloss=14.74489 accuracy_score=0.74266 \n",
      " 51 2.76s trainloss=0.54035 validloss=14.38985 accuracy_score=0.74492 \n",
      " 52 2.76s trainloss=0.77233 validloss=14.38122 accuracy_score=0.75169 \n",
      " 53 2.76s trainloss=0.69301 validloss=14.33047 accuracy_score=0.74041 \n",
      " 54 2.75s trainloss=0.55291 validloss=13.42853 accuracy_score=0.74041 \n",
      " 55 2.75s trainloss=0.40295 validloss=12.74647 accuracy_score=0.73928 \n",
      " 56 2.76s trainloss=0.31330 validloss=12.98397 accuracy_score=0.74041 \n",
      " 57 2.76s trainloss=0.58444 validloss=13.76640 accuracy_score=0.73589 \n",
      " 58 2.76s trainloss=0.76747 validloss=14.27303 accuracy_score=0.72573 \n",
      " 59 2.77s trainloss=0.47538 validloss=13.97730 accuracy_score=0.73476 \n",
      " 60 2.77s trainloss=0.55327 validloss=13.81209 accuracy_score=0.73815 \n",
      " 61 2.77s trainloss=0.54457 validloss=13.47240 accuracy_score=0.74153 \n",
      " 62 2.76s trainloss=0.44143 validloss=14.38944 accuracy_score=0.74944 \n",
      " 63 2.78s trainloss=0.50991 validloss=13.12852 accuracy_score=0.74492 \n",
      " 64 2.70s trainloss=0.28097 validloss=14.14318 accuracy_score=0.74718 \n",
      " 65 2.70s trainloss=0.35786 validloss=12.67270 accuracy_score=0.74266 \n",
      " 66 2.72s trainloss=0.35251 validloss=13.13728 accuracy_score=0.74153 \n",
      " 67 2.69s trainloss=0.15166 validloss=12.51587 accuracy_score=0.74492 \n",
      " 68 2.70s trainloss=0.50273 validloss=13.36494 accuracy_score=0.75395 \n",
      " 69 2.69s trainloss=0.31072 validloss=13.49657 accuracy_score=0.75282 \n",
      " 70 2.70s trainloss=0.27793 validloss=12.28877 accuracy_score=0.75056 \n",
      " 71 2.70s trainloss=0.27544 validloss=12.33763 accuracy_score=0.75169 \n",
      " 72 2.69s trainloss=0.15444 validloss=12.40099 accuracy_score=0.75056 \n",
      " 73 2.70s trainloss=0.19023 validloss=12.93067 accuracy_score=0.75056 \n",
      " 74 2.69s trainloss=0.47071 validloss=13.70581 accuracy_score=0.74605 \n",
      " 75 2.69s trainloss=0.52114 validloss=11.80152 accuracy_score=0.73928 \n",
      " 76 2.69s trainloss=0.51258 validloss=12.88470 accuracy_score=0.75621 \n",
      " 77 2.69s trainloss=0.42818 validloss=14.11848 accuracy_score=0.75395 \n",
      " 78 2.69s trainloss=0.46216 validloss=13.19250 accuracy_score=0.74831 \n",
      " 79 2.69s trainloss=0.43748 validloss=13.86241 accuracy_score=0.75056 \n",
      " 80 2.70s trainloss=0.23672 validloss=13.15522 accuracy_score=0.75395 \n",
      " 81 2.69s trainloss=0.43613 validloss=10.64080 accuracy_score=0.74605 \n",
      " 82 2.70s trainloss=0.45677 validloss=13.68304 accuracy_score=0.75282 \n",
      " 83 2.69s trainloss=0.80463 validloss=11.13617 accuracy_score=0.73815 \n",
      " 84 2.69s trainloss=0.60476 validloss=12.19446 accuracy_score=0.75734 \n",
      " 85 2.69s trainloss=0.53836 validloss=11.57454 accuracy_score=0.76298 \n",
      " 86 2.70s trainloss=0.46000 validloss=11.32267 accuracy_score=0.76524 \n",
      " 87 2.69s trainloss=0.54165 validloss=12.28846 accuracy_score=0.76072 \n",
      " 88 2.71s trainloss=0.38435 validloss=11.05573 accuracy_score=0.76298 \n",
      " 89 2.74s trainloss=0.44184 validloss=10.99402 accuracy_score=0.75847 \n",
      " 90 2.73s trainloss=0.41979 validloss=10.46460 accuracy_score=0.76749 \n",
      " 91 2.70s trainloss=0.26687 validloss=10.10159 accuracy_score=0.76637 \n",
      " 92 2.69s trainloss=0.18206 validloss=10.38210 accuracy_score=0.76185 \n",
      " 93 2.69s trainloss=0.40203 validloss=10.10215 accuracy_score=0.76298 \n",
      " 94 2.69s trainloss=0.25387 validloss=10.89068 accuracy_score=0.76185 \n",
      " 95 2.81s trainloss=0.25671 validloss=9.60668 accuracy_score=0.76298 \n",
      " 96 2.69s trainloss=0.21494 validloss=10.92900 accuracy_score=0.76298 \n",
      " 97 2.69s trainloss=0.32105 validloss=10.69436 accuracy_score=0.75621 \n",
      " 98 2.69s trainloss=0.43522 validloss=11.40138 accuracy_score=0.76749 \n",
      " 99 2.68s trainloss=0.56425 validloss=9.29872 accuracy_score=0.76411 \n",
      "100 2.69s trainloss=0.29435 validloss=10.24880 accuracy_score=0.76411 \n"
     ]
    }
   ],
   "source": [
    "cnn1_model = cnn1Layer1(4)\n",
    "cnn1_trainer = trainer(cnn1_model, nn.CrossEntropyLoss(), train_loader, valid_loader, test_loader, metrics=metrics, gpu=True)\n",
    "cnn1_trainer.train(100, lr=[0.01, 0.001])"
   ]
  },
  {
   "cell_type": "code",
   "execution_count": 76,
   "id": "3ee31697",
   "metadata": {},
   "outputs": [
    {
     "data": {
      "image/png": "[encoded data removed]",
      "text/plain": [
       "<Figure size 432x288 with 1 Axes>"
      ]
     },
     "metadata": {
      "needs_background": "light"
     },
     "output_type": "display_data"
    }
   ],
   "source": [
    "cnn1_trainer.learning_curve()"
   ]
  },
  {
   "cell_type": "code",
   "execution_count": 77,
   "id": "aefb3e2f",
   "metadata": {},
   "outputs": [
    {
     "data": {
      "image/png": "[encoded data removed]",
      "text/plain": [
       "<Figure size 432x288 with 1 Axes>"
      ]
     },
     "metadata": {
      "needs_background": "light"
     },
     "output_type": "display_data"
    }
   ],
   "source": [
    "cnn1_trainer.learning_curve(y='accuracy_score')"
   ]
  },
  {
   "cell_type": "code",
   "execution_count": 78,
   "id": "a0b517eb",
   "metadata": {},
   "outputs": [
    {
     "name": "stdout",
     "output_type": "stream",
     "text": [
      "     accuracy_score  epoch  prec_drinking  recall_drinking  recall_other\n",
      "195        0.767494   98.0       0.753363         0.777778      0.757709\n",
      "179        0.767494   90.0       0.747807         0.789352      0.746696\n",
      "181        0.766366   91.0       0.761021         0.759259      0.773128\n",
      "171        0.765237   86.0       0.748889         0.780093      0.751101\n",
      "199        0.764108  100.0       0.748330         0.777778      0.751101\n",
      "..              ...    ...            ...              ...           ...\n",
      "13         0.708804    7.0       0.731383         0.636574      0.777533\n",
      "7          0.699774    4.0       0.701456         0.668981      0.729075\n",
      "5          0.690745    3.0       0.668085         0.726852      0.656388\n",
      "3          0.687359    2.0       0.655936         0.754630      0.623348\n",
      "1          0.658014    1.0       0.682720         0.557870      0.753304\n",
      "\n",
      "[100 rows x 5 columns]\n"
     ]
    }
   ],
   "source": [
    "sort_epochs(cnn1_trainer.evaluator, 'accuracy_score')"
   ]
  },
  {
   "cell_type": "code",
   "execution_count": 79,
   "id": "1610565d",
   "metadata": {},
   "outputs": [
    {
     "data": {
      "image/png": "[encoded data removed]",
      "text/plain": [
       "<Figure size 432x288 with 2 Axes>"
      ]
     },
     "metadata": {
      "needs_background": "light"
     },
     "output_type": "display_data"
    }
   ],
   "source": [
    "test_X, test_y = next(iter(test_loader))\n",
    "test_X = test_X.cuda()\n",
    "test_y = test_y.cuda()\n",
    "cnn1_model = cnn1_model.cuda()\n",
    "\n",
    "with torch.no_grad():\n",
    "        pred_y = cnn1_model(test_X)\n",
    "        pred_y = cnn1_model.post_forward(pred_y)\n",
    "        \n",
    "make_confusion_matrix(test_y.cpu(), pred_y.cpu())"
   ]
  },
  {
   "cell_type": "markdown",
   "id": "85ddcac6",
   "metadata": {},
   "source": [
    "# 1 conv 2 lin"
   ]
  },
  {
   "cell_type": "code",
   "execution_count": 80,
   "id": "4f79d0be",
   "metadata": {},
   "outputs": [],
   "source": [
    "class cnn1Layer2(nn.Module):\n",
    "    def __init__(self, out_channels):\n",
    "        super().__init__()\n",
    "        self.out_channels = out_channels\n",
    "        self.layer1 = nn.Sequential(\n",
    "            nn.Conv2d(1, self.out_channels, kernel_size=3, stride=1, padding=1),\n",
    "            nn.ReLU(),\n",
    "            nn.MaxPool2d(kernel_size=2, stride=2)\n",
    "            )\n",
    "        self.w1 = nn.Linear(self.out_channels*16*100 , 100)\n",
    "        self.w2 = nn.Linear(100, 2)\n",
    "        \n",
    "    def forward(self, X):\n",
    "        X = self.layer1(X)\n",
    "        X = X.reshape(-1, self.out_channels*16*100)\n",
    "        X = self.w1(X)\n",
    "        X = self.w2(X)\n",
    "        return X\n",
    "        \n",
    "    def post_forward(self, y):\n",
    "        return torch.argmax(y, axis=1)"
   ]
  },
  {
   "cell_type": "code",
   "execution_count": 81,
   "id": "a99364e5",
   "metadata": {},
   "outputs": [
    {
     "data": {
      "application/vnd.jupyter.widget-view+json": {
       "model_id": "",
       "version_major": 2,
       "version_minor": 0
      },
      "text/plain": [
       "Total:   0%|          | 0/448000 [00:00<?, ?it/s]"
      ]
     },
     "metadata": {},
     "output_type": "display_data"
    },
    {
     "name": "stdout",
     "output_type": "stream",
     "text": [
      "  1 2.73s trainloss=547.74844 validloss=94.44643 accuracy_score=0.65801 \n",
      "  2 2.71s trainloss=50.90620 validloss=29.27574 accuracy_score=0.68284 \n",
      "  3 2.71s trainloss=10.13407 validloss=12.39089 accuracy_score=0.67494 \n",
      "  4 2.73s trainloss=5.10771 validloss=6.61778 accuracy_score=0.67043 \n",
      "  5 2.72s trainloss=1.79751 validloss=5.54584 accuracy_score=0.64221 \n",
      "  6 2.71s trainloss=1.29843 validloss=3.97216 accuracy_score=0.70880 \n",
      "  7 2.70s trainloss=1.28202 validloss=3.35956 accuracy_score=0.71896 \n",
      "  8 2.71s trainloss=1.40710 validloss=4.33867 accuracy_score=0.71896 \n",
      "  9 2.71s trainloss=2.07325 validloss=4.98581 accuracy_score=0.66930 \n",
      " 10 2.71s trainloss=1.03168 validloss=3.11473 accuracy_score=0.70316 \n",
      " 11 2.70s trainloss=0.97295 validloss=3.61648 accuracy_score=0.71558 \n",
      " 12 2.71s trainloss=1.27593 validloss=3.45371 accuracy_score=0.71219 \n",
      " 13 2.71s trainloss=1.14333 validloss=3.96133 accuracy_score=0.68623 \n",
      " 14 2.71s trainloss=1.29416 validloss=3.98252 accuracy_score=0.71332 \n",
      " 15 2.71s trainloss=0.80802 validloss=2.86041 accuracy_score=0.68736 \n",
      " 16 2.71s trainloss=0.68095 validloss=3.05965 accuracy_score=0.73025 \n",
      " 17 2.71s trainloss=0.75752 validloss=2.81117 accuracy_score=0.70880 \n",
      " 18 2.71s trainloss=1.02529 validloss=3.68864 accuracy_score=0.72460 \n",
      " 19 2.71s trainloss=1.28990 validloss=6.22587 accuracy_score=0.73363 \n",
      " 20 2.70s trainloss=1.57554 validloss=10.08334 accuracy_score=0.69300 \n",
      " 21 2.70s trainloss=0.87428 validloss=4.23064 accuracy_score=0.72348 \n",
      " 22 2.73s trainloss=0.58139 validloss=4.25522 accuracy_score=0.71558 \n",
      " 23 2.72s trainloss=0.56331 validloss=3.88141 accuracy_score=0.73815 \n",
      " 24 2.73s trainloss=0.97027 validloss=3.87007 accuracy_score=0.71558 \n",
      " 25 2.78s trainloss=1.06099 validloss=5.26589 accuracy_score=0.70542 \n",
      " 26 2.78s trainloss=1.40939 validloss=12.53082 accuracy_score=0.70993 \n",
      " 27 2.78s trainloss=4.72655 validloss=18.09161 accuracy_score=0.68736 \n",
      " 28 2.78s trainloss=11.36052 validloss=15.43965 accuracy_score=0.70767 \n",
      " 29 2.78s trainloss=4.60267 validloss=13.66567 accuracy_score=0.69639 \n",
      " 30 2.78s trainloss=2.56366 validloss=10.71934 accuracy_score=0.72460 \n",
      " 31 2.78s trainloss=1.42666 validloss=7.68119 accuracy_score=0.72122 \n",
      " 32 2.91s trainloss=1.71360 validloss=12.03573 accuracy_score=0.71670 \n",
      " 33 2.78s trainloss=1.42596 validloss=9.94507 accuracy_score=0.72912 \n",
      " 34 2.77s trainloss=1.03852 validloss=5.52457 accuracy_score=0.73815 \n",
      " 35 2.78s trainloss=0.63563 validloss=5.02085 accuracy_score=0.73025 \n",
      " 36 2.79s trainloss=0.37474 validloss=4.48962 accuracy_score=0.72912 \n",
      " 37 2.78s trainloss=0.63836 validloss=4.63414 accuracy_score=0.74041 \n",
      " 38 2.79s trainloss=0.56804 validloss=5.38700 accuracy_score=0.75395 \n",
      " 39 2.76s trainloss=0.51727 validloss=6.10677 accuracy_score=0.73815 \n",
      " 40 2.72s trainloss=0.58271 validloss=4.24797 accuracy_score=0.73928 \n",
      " 41 2.71s trainloss=0.31913 validloss=4.76892 accuracy_score=0.74153 \n",
      " 42 2.71s trainloss=0.46092 validloss=5.63399 accuracy_score=0.73928 \n",
      " 43 2.71s trainloss=0.40357 validloss=5.23934 accuracy_score=0.73815 \n",
      " 44 2.71s trainloss=0.47064 validloss=5.93063 accuracy_score=0.74718 \n",
      " 45 2.73s trainloss=0.46674 validloss=4.62210 accuracy_score=0.73702 \n",
      " 46 2.71s trainloss=0.50547 validloss=4.77683 accuracy_score=0.74492 \n",
      " 47 2.72s trainloss=0.35919 validloss=4.99643 accuracy_score=0.74379 \n",
      " 48 2.73s trainloss=0.38276 validloss=5.18556 accuracy_score=0.73815 \n",
      " 49 2.73s trainloss=0.31980 validloss=4.21141 accuracy_score=0.75056 \n",
      " 50 2.71s trainloss=0.23083 validloss=4.70906 accuracy_score=0.74153 \n",
      " 51 2.72s trainloss=0.33644 validloss=3.79636 accuracy_score=0.75056 \n",
      " 52 2.72s trainloss=0.34892 validloss=4.21911 accuracy_score=0.75508 \n",
      " 53 2.74s trainloss=0.23257 validloss=5.00480 accuracy_score=0.74492 \n",
      " 54 2.72s trainloss=0.31289 validloss=5.80608 accuracy_score=0.75395 \n",
      " 55 2.71s trainloss=0.35398 validloss=5.01767 accuracy_score=0.74492 \n",
      " 56 2.70s trainloss=0.58983 validloss=5.75836 accuracy_score=0.73928 \n",
      " 57 2.71s trainloss=0.55144 validloss=4.72087 accuracy_score=0.75169 \n",
      " 58 2.70s trainloss=0.49445 validloss=5.95047 accuracy_score=0.75508 \n",
      " 59 2.71s trainloss=0.35492 validloss=4.14163 accuracy_score=0.74944 \n",
      " 60 2.70s trainloss=0.33900 validloss=4.40092 accuracy_score=0.74718 \n",
      " 61 2.71s trainloss=0.26277 validloss=4.68456 accuracy_score=0.74944 \n",
      " 62 2.70s trainloss=0.26276 validloss=3.97162 accuracy_score=0.73363 \n",
      " 63 2.71s trainloss=0.33073 validloss=4.52182 accuracy_score=0.74718 \n",
      " 64 2.73s trainloss=0.48181 validloss=5.13201 accuracy_score=0.73589 \n",
      " 65 2.71s trainloss=0.46360 validloss=5.58778 accuracy_score=0.73476 \n",
      " 66 2.72s trainloss=0.67222 validloss=7.38448 accuracy_score=0.73815 \n",
      " 67 2.73s trainloss=1.20403 validloss=9.49424 accuracy_score=0.73815 \n",
      " 68 2.70s trainloss=2.48078 validloss=10.96056 accuracy_score=0.71670 \n",
      " 69 2.71s trainloss=1.89371 validloss=6.47905 accuracy_score=0.74041 \n",
      " 70 2.71s trainloss=0.72785 validloss=2.92672 accuracy_score=0.74718 \n",
      " 71 2.73s trainloss=0.45317 validloss=4.18693 accuracy_score=0.75056 \n",
      " 72 2.74s trainloss=0.35026 validloss=3.75872 accuracy_score=0.74718 \n",
      " 73 2.78s trainloss=0.53597 validloss=4.03003 accuracy_score=0.73589 \n",
      " 74 2.77s trainloss=0.26912 validloss=3.52852 accuracy_score=0.75959 \n",
      " 75 2.78s trainloss=0.31648 validloss=3.92952 accuracy_score=0.74944 \n",
      " 76 2.77s trainloss=0.29392 validloss=3.82644 accuracy_score=0.75847 \n",
      " 77 2.77s trainloss=0.25458 validloss=3.55677 accuracy_score=0.74718 \n",
      " 78 2.78s trainloss=0.25051 validloss=4.16495 accuracy_score=0.76072 \n",
      " 79 2.77s trainloss=0.17236 validloss=4.43588 accuracy_score=0.75847 \n",
      " 80 2.92s trainloss=0.23675 validloss=4.11884 accuracy_score=0.75847 \n",
      " 81 2.79s trainloss=0.17409 validloss=4.27555 accuracy_score=0.76411 \n",
      " 82 2.76s trainloss=0.14760 validloss=4.45563 accuracy_score=0.76072 \n",
      " 83 2.76s trainloss=0.16961 validloss=4.80005 accuracy_score=0.74605 \n",
      " 84 2.77s trainloss=0.23672 validloss=3.83077 accuracy_score=0.76185 \n",
      " 85 2.88s trainloss=0.17387 validloss=4.42546 accuracy_score=0.76411 \n",
      " 86 2.82s trainloss=0.16879 validloss=4.63435 accuracy_score=0.76524 \n",
      " 87 2.79s trainloss=0.19988 validloss=4.38848 accuracy_score=0.76524 \n",
      " 88 2.80s trainloss=0.25242 validloss=3.51775 accuracy_score=0.76524 \n",
      " 89 2.80s trainloss=0.18452 validloss=4.28451 accuracy_score=0.76749 \n",
      " 90 2.79s trainloss=0.18437 validloss=4.07985 accuracy_score=0.77314 \n",
      " 91 2.80s trainloss=0.23286 validloss=3.62143 accuracy_score=0.75282 \n",
      " 92 2.80s trainloss=0.23887 validloss=4.25271 accuracy_score=0.76185 \n",
      " 93 2.79s trainloss=0.21574 validloss=4.07426 accuracy_score=0.76975 \n",
      " 94 2.80s trainloss=0.22761 validloss=4.09628 accuracy_score=0.75959 \n",
      " 95 2.79s trainloss=0.14237 validloss=4.34016 accuracy_score=0.75847 \n",
      " 96 2.79s trainloss=0.19322 validloss=3.95651 accuracy_score=0.76637 \n",
      " 97 2.81s trainloss=0.10436 validloss=4.74614 accuracy_score=0.75621 \n",
      " 98 2.77s trainloss=0.18167 validloss=4.29416 accuracy_score=0.76637 \n",
      " 99 2.77s trainloss=0.10615 validloss=4.57627 accuracy_score=0.75734 \n",
      "100 2.86s trainloss=0.15435 validloss=4.49174 accuracy_score=0.74944 \n"
     ]
    }
   ],
   "source": [
    "cnn1_2_model = cnn1Layer2(4)\n",
    "cnn1_2_trainer = trainer(cnn1_2_model, nn.CrossEntropyLoss(), train_loader, valid_loader, test_loader, metrics=metrics, gpu=True)\n",
    "cnn1_2_trainer.train(100, lr=[0.01, 0.001])"
   ]
  },
  {
   "cell_type": "code",
   "execution_count": 82,
   "id": "f42e6869",
   "metadata": {},
   "outputs": [
    {
     "data": {
      "image/png": "[encoded data removed]",
      "text/plain": [
       "<Figure size 432x288 with 1 Axes>"
      ]
     },
     "metadata": {
      "needs_background": "light"
     },
     "output_type": "display_data"
    }
   ],
   "source": [
    "cnn1_2_trainer.learning_curve()"
   ]
  },
  {
   "cell_type": "code",
   "execution_count": 83,
   "id": "cba21573",
   "metadata": {},
   "outputs": [
    {
     "data": {
      "image/png": "[encoded data removed]",
      "text/plain": [
       "<Figure size 432x288 with 1 Axes>"
      ]
     },
     "metadata": {
      "needs_background": "light"
     },
     "output_type": "display_data"
    }
   ],
   "source": [
    "cnn1_2_trainer.learning_curve(y='accuracy_score')"
   ]
  },
  {
   "cell_type": "code",
   "execution_count": 84,
   "id": "bde5c2f6",
   "metadata": {},
   "outputs": [
    {
     "name": "stdout",
     "output_type": "stream",
     "text": [
      "     accuracy_score  epoch  prec_drinking  recall_drinking  recall_other\n",
      "179        0.773138   90.0       0.759551         0.782407      0.764317\n",
      "185        0.769752   93.0       0.744635         0.803241      0.737885\n",
      "177        0.767494   89.0       0.751111         0.782407      0.753304\n",
      "195        0.766366   98.0       0.753950         0.773148      0.759912\n",
      "191        0.766366   96.0       0.749446         0.782407      0.751101\n",
      "..              ...    ...            ...              ...           ...\n",
      "5          0.674944    3.0       0.665138         0.671296      0.678414\n",
      "7          0.670429    4.0       0.652174         0.694444      0.647577\n",
      "17         0.669300    9.0       0.672457         0.627315      0.709251\n",
      "1          0.658014    1.0       0.660848         0.613426      0.700441\n",
      "9          0.642212    5.0       0.607076         0.754630      0.535242\n",
      "\n",
      "[100 rows x 5 columns]\n"
     ]
    }
   ],
   "source": [
    "sort_epochs(cnn1_2_trainer.evaluator, 'accuracy_score')"
   ]
  },
  {
   "cell_type": "code",
   "execution_count": 85,
   "id": "18e6dfb4",
   "metadata": {},
   "outputs": [
    {
     "data": {
      "image/png": "[encoded data removed]",
      "text/plain": [
       "<Figure size 432x288 with 2 Axes>"
      ]
     },
     "metadata": {
      "needs_background": "light"
     },
     "output_type": "display_data"
    }
   ],
   "source": [
    "test_X, test_y = next(iter(test_loader))\n",
    "test_X = test_X.cuda()\n",
    "test_y = test_y.cuda()\n",
    "cnn1_2_model = cnn1_2_model.cuda()\n",
    "\n",
    "with torch.no_grad():\n",
    "        pred_y = cnn1_2_model(test_X)\n",
    "        pred_y = cnn1_2_model.post_forward(pred_y)\n",
    "        \n",
    "make_confusion_matrix(test_y.cpu(), pred_y.cpu())"
   ]
  },
  {
   "cell_type": "markdown",
   "id": "47939d20",
   "metadata": {},
   "source": [
    "# 2conv1lin"
   ]
  },
  {
   "cell_type": "code",
   "execution_count": 86,
   "id": "67f524c3",
   "metadata": {},
   "outputs": [],
   "source": [
    "class cnn2Layer1(nn.Module):\n",
    "    def __init__(self, out_channels):\n",
    "        super().__init__()\n",
    "        self.out_channels = out_channels\n",
    "        self.layer1 = nn.Sequential(\n",
    "            nn.Conv2d(1, self.out_channels, kernel_size=3, stride=1, padding=1),\n",
    "            nn.ReLU(),\n",
    "            nn.MaxPool2d(kernel_size=2, stride=2))\n",
    "        self.layer2 = nn.Sequential(\n",
    "            nn.Conv2d(self.out_channels, 2*self.out_channels, kernel_size=3, stride=1, padding=1),\n",
    "            nn.ReLU(),\n",
    "            nn.MaxPool2d(kernel_size=2, stride=2)\n",
    "            )\n",
    "        self.w1 = nn.Linear(2*self.out_channels*8*50 , 2)\n",
    "        \n",
    "    def forward(self, X):\n",
    "        X = self.layer1(X)\n",
    "        X = self.layer2(X)\n",
    "        X = X.reshape(-1, 2*self.out_channels*8*50)\n",
    "        X = self.w1(X)\n",
    "        return X\n",
    "        \n",
    "    def post_forward(self, y):\n",
    "        return torch.argmax(y, axis=1)"
   ]
  },
  {
   "cell_type": "code",
   "execution_count": 87,
   "id": "21c09f23",
   "metadata": {},
   "outputs": [
    {
     "data": {
      "application/vnd.jupyter.widget-view+json": {
       "model_id": "",
       "version_major": 2,
       "version_minor": 0
      },
      "text/plain": [
       "Total:   0%|          | 0/448000 [00:00<?, ?it/s]"
      ]
     },
     "metadata": {},
     "output_type": "display_data"
    },
    {
     "name": "stdout",
     "output_type": "stream",
     "text": [
      "  1 2.90s trainloss=60.68381 validloss=27.48518 accuracy_score=0.65237 \n",
      "  2 2.89s trainloss=15.96664 validloss=11.66836 accuracy_score=0.69300 \n",
      "  3 2.89s trainloss=7.04663 validloss=8.38201 accuracy_score=0.70316 \n",
      "  4 2.90s trainloss=4.70801 validloss=8.09231 accuracy_score=0.70316 \n",
      "  5 2.89s trainloss=3.34834 validloss=6.08658 accuracy_score=0.71896 \n",
      "  6 2.90s trainloss=2.07530 validloss=5.27266 accuracy_score=0.73025 \n",
      "  7 2.90s trainloss=1.62804 validloss=5.21217 accuracy_score=0.72799 \n",
      "  8 2.89s trainloss=1.63469 validloss=6.19554 accuracy_score=0.71106 \n",
      "  9 2.90s trainloss=1.72456 validloss=4.07535 accuracy_score=0.72686 \n",
      " 10 2.89s trainloss=1.28346 validloss=4.58783 accuracy_score=0.73251 \n",
      " 11 2.89s trainloss=0.93491 validloss=3.71072 accuracy_score=0.72912 \n",
      " 12 2.90s trainloss=1.02519 validloss=4.80264 accuracy_score=0.74379 \n",
      " 13 2.89s trainloss=0.98800 validloss=3.87874 accuracy_score=0.74266 \n",
      " 14 2.90s trainloss=0.75840 validloss=3.67997 accuracy_score=0.73138 \n",
      " 15 2.90s trainloss=0.68257 validloss=3.49095 accuracy_score=0.73815 \n",
      " 16 2.89s trainloss=0.62158 validloss=3.65716 accuracy_score=0.73589 \n",
      " 17 2.89s trainloss=0.51873 validloss=3.66055 accuracy_score=0.74266 \n",
      " 18 3.04s trainloss=0.67910 validloss=3.20792 accuracy_score=0.74041 \n",
      " 19 2.90s trainloss=0.48682 validloss=3.36602 accuracy_score=0.75282 \n",
      " 20 2.90s trainloss=0.44136 validloss=3.51343 accuracy_score=0.74831 \n",
      " 21 2.90s trainloss=0.58422 validloss=3.02944 accuracy_score=0.74266 \n",
      " 22 2.90s trainloss=0.50335 validloss=3.09808 accuracy_score=0.75169 \n",
      " 23 2.91s trainloss=0.42651 validloss=3.25636 accuracy_score=0.74153 \n",
      " 24 2.91s trainloss=0.43482 validloss=4.32627 accuracy_score=0.73363 \n",
      " 25 2.90s trainloss=0.69178 validloss=3.49262 accuracy_score=0.74041 \n",
      " 26 2.91s trainloss=0.41307 validloss=3.13824 accuracy_score=0.74605 \n",
      " 27 2.90s trainloss=0.32355 validloss=3.31595 accuracy_score=0.74718 \n",
      " 28 2.91s trainloss=0.38947 validloss=3.18222 accuracy_score=0.73928 \n",
      " 29 2.92s trainloss=0.37777 validloss=2.84833 accuracy_score=0.74718 \n",
      " 30 2.94s trainloss=0.36491 validloss=2.90245 accuracy_score=0.73928 \n",
      " 31 2.83s trainloss=0.44369 validloss=2.76047 accuracy_score=0.74605 \n",
      " 32 2.84s trainloss=0.28760 validloss=3.02858 accuracy_score=0.72122 \n",
      " 33 2.79s trainloss=0.37614 validloss=2.93666 accuracy_score=0.72686 \n",
      " 34 2.76s trainloss=0.36032 validloss=3.02775 accuracy_score=0.74718 \n",
      " 35 2.80s trainloss=0.29423 validloss=2.61004 accuracy_score=0.75395 \n",
      " 36 2.81s trainloss=0.31631 validloss=2.61043 accuracy_score=0.76298 \n",
      " 37 2.81s trainloss=0.29895 validloss=2.79803 accuracy_score=0.75056 \n",
      " 38 2.81s trainloss=0.27973 validloss=2.75874 accuracy_score=0.75056 \n",
      " 39 2.81s trainloss=0.32573 validloss=2.64825 accuracy_score=0.75169 \n",
      " 40 2.79s trainloss=0.26752 validloss=2.85464 accuracy_score=0.74605 \n",
      " 41 2.80s trainloss=0.25561 validloss=2.62155 accuracy_score=0.75508 \n",
      " 42 2.81s trainloss=0.28157 validloss=2.71954 accuracy_score=0.74718 \n",
      " 43 2.80s trainloss=0.27034 validloss=2.70680 accuracy_score=0.74718 \n",
      " 44 2.79s trainloss=0.36106 validloss=2.64144 accuracy_score=0.75056 \n",
      " 45 2.79s trainloss=0.35727 validloss=2.85806 accuracy_score=0.74041 \n",
      " 46 2.79s trainloss=0.22308 validloss=2.84415 accuracy_score=0.75734 \n",
      " 47 2.79s trainloss=0.28746 validloss=2.88024 accuracy_score=0.76637 \n",
      " 48 2.79s trainloss=0.30566 validloss=2.57873 accuracy_score=0.73589 \n",
      " 49 2.84s trainloss=0.22426 validloss=2.73738 accuracy_score=0.76637 \n",
      " 50 2.87s trainloss=0.25920 validloss=2.66418 accuracy_score=0.74944 \n",
      " 51 2.83s trainloss=0.28849 validloss=2.71165 accuracy_score=0.75734 \n",
      " 52 2.94s trainloss=0.28158 validloss=2.68959 accuracy_score=0.77088 \n",
      " 53 2.83s trainloss=0.27303 validloss=2.54361 accuracy_score=0.75959 \n",
      " 54 2.86s trainloss=0.26782 validloss=2.61174 accuracy_score=0.75508 \n",
      " 55 2.82s trainloss=0.26154 validloss=2.71198 accuracy_score=0.76298 \n",
      " 56 2.82s trainloss=0.30298 validloss=2.56903 accuracy_score=0.76637 \n",
      " 57 2.78s trainloss=0.28063 validloss=3.11839 accuracy_score=0.76524 \n",
      " 58 2.79s trainloss=0.32240 validloss=2.62717 accuracy_score=0.76524 \n",
      " 59 2.76s trainloss=0.20954 validloss=2.67621 accuracy_score=0.76524 \n",
      " 60 2.86s trainloss=0.21236 validloss=2.65306 accuracy_score=0.77540 \n",
      " 61 2.83s trainloss=0.16955 validloss=2.72125 accuracy_score=0.77201 \n",
      " 62 2.83s trainloss=0.20833 validloss=2.64180 accuracy_score=0.77652 \n",
      " 63 2.83s trainloss=0.21038 validloss=2.67252 accuracy_score=0.77427 \n",
      " 64 2.84s trainloss=0.20514 validloss=3.02154 accuracy_score=0.76862 \n",
      " 65 2.85s trainloss=0.30796 validloss=3.22419 accuracy_score=0.76524 \n",
      " 66 2.86s trainloss=0.41155 validloss=2.75051 accuracy_score=0.75734 \n",
      " 67 2.96s trainloss=0.37896 validloss=2.66229 accuracy_score=0.76298 \n",
      " 68 2.83s trainloss=0.39370 validloss=2.46348 accuracy_score=0.77088 \n",
      " 69 2.83s trainloss=0.29451 validloss=2.40877 accuracy_score=0.76298 \n",
      " 70 2.83s trainloss=0.25327 validloss=2.42634 accuracy_score=0.75395 \n",
      " 71 2.84s trainloss=0.20290 validloss=2.97086 accuracy_score=0.76298 \n",
      " 72 2.83s trainloss=0.26424 validloss=2.53868 accuracy_score=0.75959 \n",
      " 73 2.83s trainloss=0.25638 validloss=2.55677 accuracy_score=0.74605 \n",
      " 74 2.83s trainloss=0.22259 validloss=2.69074 accuracy_score=0.76298 \n",
      " 75 2.83s trainloss=0.22987 validloss=2.55461 accuracy_score=0.75621 \n",
      " 76 2.84s trainloss=0.22745 validloss=2.54854 accuracy_score=0.75395 \n",
      " 77 2.78s trainloss=0.17184 validloss=2.86586 accuracy_score=0.76411 \n",
      " 78 2.75s trainloss=0.13173 validloss=2.79884 accuracy_score=0.76862 \n",
      " 79 2.75s trainloss=0.16267 validloss=2.84561 accuracy_score=0.75395 \n",
      " 80 2.74s trainloss=0.14824 validloss=2.98747 accuracy_score=0.76637 \n",
      " 81 2.88s trainloss=0.15673 validloss=2.86839 accuracy_score=0.76072 \n",
      " 82 2.77s trainloss=0.13239 validloss=2.84705 accuracy_score=0.75959 \n",
      " 83 2.79s trainloss=0.14687 validloss=2.88279 accuracy_score=0.76072 \n",
      " 84 2.87s trainloss=0.15396 validloss=3.26166 accuracy_score=0.77427 \n",
      " 85 4.16s trainloss=0.15940 validloss=3.06979 accuracy_score=0.75847 \n",
      " 86 4.25s trainloss=0.20077 validloss=2.83988 accuracy_score=0.75056 \n",
      " 87 4.19s trainloss=0.14042 validloss=3.01009 accuracy_score=0.75847 \n",
      " 88 4.26s trainloss=0.21908 validloss=3.12399 accuracy_score=0.77540 \n",
      " 89 4.38s trainloss=0.21159 validloss=2.82623 accuracy_score=0.77765 \n",
      " 90 4.32s trainloss=0.14542 validloss=2.87735 accuracy_score=0.77878 \n",
      " 91 4.22s trainloss=0.20025 validloss=3.06841 accuracy_score=0.77540 \n",
      " 92 4.23s trainloss=0.21435 validloss=2.78804 accuracy_score=0.74831 \n",
      " 93 4.42s trainloss=0.21569 validloss=2.55054 accuracy_score=0.77540 \n",
      " 94 4.43s trainloss=0.14789 validloss=2.83485 accuracy_score=0.76524 \n",
      " 95 4.23s trainloss=0.15267 validloss=2.78220 accuracy_score=0.77201 \n",
      " 96 4.39s trainloss=0.13314 validloss=2.66982 accuracy_score=0.75056 \n",
      " 97 4.38s trainloss=0.15235 validloss=2.71838 accuracy_score=0.75508 \n",
      " 98 4.26s trainloss=0.13527 validloss=2.75945 accuracy_score=0.75395 \n",
      " 99 4.54s trainloss=0.09964 validloss=2.98527 accuracy_score=0.77652 \n",
      "100 4.28s trainloss=0.09510 validloss=3.01374 accuracy_score=0.78104 \n"
     ]
    }
   ],
   "source": [
    "cnn2_model = cnn2Layer1(4)\n",
    "cnn2_trainer = trainer(cnn2_model, nn.CrossEntropyLoss(), train_loader, valid_loader, test_loader, metrics=metrics, gpu=True)\n",
    "cnn2_trainer.train(100, lr=[0.01, 0.001])"
   ]
  },
  {
   "cell_type": "code",
   "execution_count": 88,
   "id": "22a88908",
   "metadata": {},
   "outputs": [
    {
     "data": {
      "image/png": "[encoded data removed]",
      "text/plain": [
       "<Figure size 432x288 with 1 Axes>"
      ]
     },
     "metadata": {
      "needs_background": "light"
     },
     "output_type": "display_data"
    }
   ],
   "source": [
    "cnn2_trainer.learning_curve()"
   ]
  },
  {
   "cell_type": "code",
   "execution_count": 89,
   "id": "83b903d0",
   "metadata": {},
   "outputs": [
    {
     "data": {
      "image/png": "[encoded data removed]",
      "text/plain": [
       "<Figure size 432x288 with 1 Axes>"
      ]
     },
     "metadata": {
      "needs_background": "light"
     },
     "output_type": "display_data"
    }
   ],
   "source": [
    "cnn2_trainer.learning_curve(y='accuracy_score')"
   ]
  },
  {
   "cell_type": "code",
   "execution_count": 90,
   "id": "88a86b40",
   "metadata": {},
   "outputs": [
    {
     "name": "stdout",
     "output_type": "stream",
     "text": [
      "     accuracy_score  epoch  prec_drinking  recall_drinking  recall_other\n",
      "199        0.781038  100.0       0.779343         0.768519      0.792952\n",
      "179        0.778781   90.0       0.786408         0.750000      0.806167\n",
      "177        0.777652   89.0       0.793017         0.736111      0.817181\n",
      "197        0.776524   99.0       0.775943         0.761574      0.790749\n",
      "123        0.776524   62.0       0.786765         0.743056      0.808370\n",
      "..              ...    ...            ...              ...           ...\n",
      "15         0.711061    8.0       0.780255         0.567130      0.848018\n",
      "7          0.703160    4.0       0.670020         0.770833      0.638767\n",
      "5          0.703160    3.0       0.693364         0.701389      0.704846\n",
      "3          0.693002    2.0       0.666667         0.740741      0.647577\n",
      "1          0.652370    1.0       0.736641         0.446759      0.848018\n",
      "\n",
      "[100 rows x 5 columns]\n"
     ]
    }
   ],
   "source": [
    "sort_epochs(cnn2_trainer.evaluator, 'accuracy_score')"
   ]
  },
  {
   "cell_type": "code",
   "execution_count": 91,
   "id": "8e29b5dc",
   "metadata": {},
   "outputs": [
    {
     "data": {
      "image/png": "[encoded data removed]",
      "text/plain": [
       "<Figure size 432x288 with 2 Axes>"
      ]
     },
     "metadata": {
      "needs_background": "light"
     },
     "output_type": "display_data"
    }
   ],
   "source": [
    "test_X, test_y = next(iter(test_loader))\n",
    "test_X = test_X.cuda()\n",
    "test_y = test_y.cuda()\n",
    "cnn2_model = cnn2_model.cuda()\n",
    "\n",
    "with torch.no_grad():\n",
    "        pred_y = cnn2_model(test_X)\n",
    "        pred_y = cnn2_model.post_forward(pred_y)\n",
    "        \n",
    "make_confusion_matrix(test_y.cpu(), pred_y.cpu())"
   ]
  },
  {
   "cell_type": "markdown",
   "id": "29411154",
   "metadata": {},
   "source": [
    "# 2conv2lin"
   ]
  },
  {
   "cell_type": "code",
   "execution_count": 92,
   "id": "96ae0299",
   "metadata": {},
   "outputs": [],
   "source": [
    "class cnn2Layer2(nn.Module):\n",
    "    def __init__(self, out_channels):\n",
    "        super().__init__()\n",
    "        self.out_channels = out_channels\n",
    "        self.layer1 = nn.Sequential(\n",
    "            nn.Conv2d(1, self.out_channels, kernel_size=3, stride=1, padding=1),\n",
    "            nn.ReLU(),\n",
    "            nn.MaxPool2d(kernel_size=2, stride=2))\n",
    "        self.layer2 = nn.Sequential(\n",
    "            nn.Conv2d(self.out_channels, 2*self.out_channels, kernel_size=3, stride=1, padding=1),\n",
    "            nn.ReLU(),\n",
    "            nn.MaxPool2d(kernel_size=2, stride=2)\n",
    "            )\n",
    "        self.w1 = nn.Linear(2*self.out_channels*8*50 , 100)\n",
    "        self.w2 = nn.Linear(100, 2)\n",
    "        \n",
    "    def forward(self, X):\n",
    "        X = self.layer1(X)\n",
    "        X = self.layer2(X)\n",
    "        X = X.reshape(-1, 2*self.out_channels*8*50)\n",
    "        X = self.w1(X)\n",
    "        X = self.w2(X)\n",
    "        return X\n",
    "        \n",
    "    def post_forward(self, y):\n",
    "        return torch.argmax(y, axis=1)"
   ]
  },
  {
   "cell_type": "code",
   "execution_count": 93,
   "id": "ec635ac7",
   "metadata": {},
   "outputs": [
    {
     "data": {
      "application/vnd.jupyter.widget-view+json": {
       "model_id": "",
       "version_major": 2,
       "version_minor": 0
      },
      "text/plain": [
       "Total:   0%|          | 0/448000 [00:00<?, ?it/s]"
      ]
     },
     "metadata": {},
     "output_type": "display_data"
    },
    {
     "name": "stdout",
     "output_type": "stream",
     "text": [
      "  1 4.24s trainloss=113.06108 validloss=14.19650 accuracy_score=0.65124 \n",
      "  2 4.33s trainloss=5.96035 validloss=6.29011 accuracy_score=0.67720 \n",
      "  3 4.37s trainloss=2.60451 validloss=4.43036 accuracy_score=0.72122 \n",
      "  4 4.54s trainloss=2.02357 validloss=3.59568 accuracy_score=0.72912 \n",
      "  5 4.45s trainloss=1.51081 validloss=2.94256 accuracy_score=0.72912 \n",
      "  6 4.29s trainloss=0.92619 validloss=2.56325 accuracy_score=0.74831 \n",
      "  7 4.31s trainloss=0.63724 validloss=2.30476 accuracy_score=0.71670 \n",
      "  8 4.50s trainloss=0.55725 validloss=2.31624 accuracy_score=0.76411 \n",
      "  9 4.46s trainloss=0.44710 validloss=1.99815 accuracy_score=0.74718 \n",
      " 10 4.44s trainloss=0.40471 validloss=2.01784 accuracy_score=0.73251 \n",
      " 11 4.76s trainloss=0.40036 validloss=2.31888 accuracy_score=0.74605 \n",
      " 12 4.63s trainloss=0.37715 validloss=2.11417 accuracy_score=0.75282 \n",
      " 13 4.98s trainloss=0.33283 validloss=2.13493 accuracy_score=0.74944 \n",
      " 14 4.75s trainloss=0.33418 validloss=2.23447 accuracy_score=0.74944 \n",
      " 15 4.58s trainloss=0.35273 validloss=2.20831 accuracy_score=0.74831 \n",
      " 16 4.81s trainloss=0.38749 validloss=2.41745 accuracy_score=0.75282 \n",
      " 17 4.67s trainloss=0.31093 validloss=2.40230 accuracy_score=0.76637 \n",
      " 18 4.53s trainloss=0.33404 validloss=2.30522 accuracy_score=0.74379 \n",
      " 19 4.30s trainloss=0.31757 validloss=2.34428 accuracy_score=0.76185 \n",
      " 20 3.76s trainloss=0.29103 validloss=2.56422 accuracy_score=0.76072 \n",
      " 21 4.70s trainloss=0.29654 validloss=2.41277 accuracy_score=0.78555 \n",
      " 22 4.74s trainloss=0.30229 validloss=2.29396 accuracy_score=0.75734 \n",
      " 23 4.93s trainloss=0.28691 validloss=2.44094 accuracy_score=0.77088 \n",
      " 24 4.88s trainloss=0.25700 validloss=2.50689 accuracy_score=0.76298 \n",
      " 25 4.93s trainloss=0.23227 validloss=2.50812 accuracy_score=0.76975 \n",
      " 26 5.25s trainloss=0.29898 validloss=2.41432 accuracy_score=0.76298 \n",
      " 27 4.73s trainloss=0.30450 validloss=2.42926 accuracy_score=0.75959 \n",
      " 28 5.15s trainloss=0.27005 validloss=2.42756 accuracy_score=0.76749 \n",
      " 29 4.56s trainloss=0.21970 validloss=2.34331 accuracy_score=0.76298 \n",
      " 30 5.83s trainloss=0.26898 validloss=2.58164 accuracy_score=0.77088 \n",
      " 31 6.76s trainloss=0.28008 validloss=2.22230 accuracy_score=0.76185 \n",
      " 32 6.44s trainloss=0.28312 validloss=1.94004 accuracy_score=0.76524 \n",
      " 33 5.39s trainloss=0.29264 validloss=2.32763 accuracy_score=0.76749 \n",
      " 34 4.59s trainloss=0.32008 validloss=2.21657 accuracy_score=0.77652 \n",
      " 35 4.34s trainloss=0.29592 validloss=2.29698 accuracy_score=0.76298 \n",
      " 36 4.60s trainloss=0.24561 validloss=2.30682 accuracy_score=0.76524 \n",
      " 37 4.88s trainloss=0.24405 validloss=2.35419 accuracy_score=0.76524 \n",
      " 38 4.65s trainloss=0.25274 validloss=2.23842 accuracy_score=0.75621 \n",
      " 39 4.72s trainloss=0.18626 validloss=2.63846 accuracy_score=0.75959 \n",
      " 40 4.78s trainloss=0.21861 validloss=2.71016 accuracy_score=0.76637 \n",
      " 41 4.93s trainloss=0.21018 validloss=2.64208 accuracy_score=0.76298 \n",
      " 42 4.54s trainloss=0.18671 validloss=2.78149 accuracy_score=0.75959 \n",
      " 43 4.08s trainloss=0.17835 validloss=2.91732 accuracy_score=0.76975 \n",
      " 44 2.88s trainloss=0.19152 validloss=2.90052 accuracy_score=0.76524 \n",
      " 45 2.93s trainloss=0.17789 validloss=2.88874 accuracy_score=0.75847 \n",
      " 46 2.91s trainloss=0.21810 validloss=2.96137 accuracy_score=0.76637 \n",
      " 47 2.92s trainloss=0.23581 validloss=2.80462 accuracy_score=0.77314 \n",
      " 48 2.89s trainloss=0.24067 validloss=2.38108 accuracy_score=0.76637 \n",
      " 49 2.88s trainloss=0.18977 validloss=2.87295 accuracy_score=0.76637 \n",
      " 50 2.87s trainloss=0.22530 validloss=2.67613 accuracy_score=0.77201 \n",
      " 51 2.86s trainloss=0.22595 validloss=2.52541 accuracy_score=0.77878 \n",
      " 52 2.85s trainloss=0.18584 validloss=2.79412 accuracy_score=0.77540 \n",
      " 53 2.98s trainloss=0.20084 validloss=2.64323 accuracy_score=0.77088 \n",
      " 54 2.82s trainloss=0.15670 validloss=3.02774 accuracy_score=0.77878 \n",
      " 55 2.83s trainloss=0.21475 validloss=2.93664 accuracy_score=0.77878 \n",
      " 56 2.92s trainloss=0.29124 validloss=2.46635 accuracy_score=0.77765 \n",
      " 57 2.90s trainloss=0.21246 validloss=2.51922 accuracy_score=0.76975 \n",
      " 58 2.86s trainloss=0.19305 validloss=2.84863 accuracy_score=0.78104 \n",
      " 59 2.85s trainloss=0.18722 validloss=2.57516 accuracy_score=0.77540 \n",
      " 60 2.85s trainloss=0.17211 validloss=2.94782 accuracy_score=0.77878 \n",
      " 61 2.83s trainloss=0.20586 validloss=3.24349 accuracy_score=0.77540 \n",
      " 62 2.84s trainloss=0.33494 validloss=2.89935 accuracy_score=0.77540 \n",
      " 63 2.87s trainloss=0.25587 validloss=3.14707 accuracy_score=0.77540 \n",
      " 64 2.92s trainloss=0.25627 validloss=2.89341 accuracy_score=0.76975 \n",
      " 65 2.85s trainloss=0.22930 validloss=2.80780 accuracy_score=0.77314 \n",
      " 66 2.87s trainloss=0.19459 validloss=3.01244 accuracy_score=0.78668 \n",
      " 67 2.93s trainloss=0.24803 validloss=2.88566 accuracy_score=0.77088 \n",
      " 68 2.85s trainloss=0.16374 validloss=3.30582 accuracy_score=0.77652 \n",
      " 69 2.86s trainloss=0.15551 validloss=3.14878 accuracy_score=0.77427 \n",
      " 70 2.87s trainloss=0.18233 validloss=2.71636 accuracy_score=0.76072 \n",
      " 71 2.84s trainloss=0.17373 validloss=3.53459 accuracy_score=0.77540 \n",
      " 72 2.84s trainloss=0.22480 validloss=2.97610 accuracy_score=0.76411 \n",
      " 73 2.85s trainloss=0.16305 validloss=3.86889 accuracy_score=0.76862 \n",
      " 74 2.85s trainloss=0.22004 validloss=3.09401 accuracy_score=0.76637 \n",
      " 75 2.84s trainloss=0.29915 validloss=2.91878 accuracy_score=0.75056 \n",
      " 76 2.85s trainloss=0.21936 validloss=3.22920 accuracy_score=0.76524 \n",
      " 77 2.83s trainloss=0.15935 validloss=3.66737 accuracy_score=0.75395 \n",
      " 78 2.88s trainloss=0.17626 validloss=3.12930 accuracy_score=0.76411 \n",
      " 79 2.86s trainloss=0.25063 validloss=2.97485 accuracy_score=0.77088 \n",
      " 80 2.83s trainloss=0.21937 validloss=3.41207 accuracy_score=0.76298 \n",
      " 81 2.84s trainloss=0.20641 validloss=3.01177 accuracy_score=0.76637 \n",
      " 82 2.84s trainloss=0.15681 validloss=3.60626 accuracy_score=0.77088 \n",
      " 83 2.84s trainloss=0.16020 validloss=3.41625 accuracy_score=0.76749 \n",
      " 84 2.85s trainloss=0.19942 validloss=3.18581 accuracy_score=0.76975 \n",
      " 85 2.85s trainloss=0.28067 validloss=2.81876 accuracy_score=0.78668 \n",
      " 86 2.84s trainloss=0.16734 validloss=3.58983 accuracy_score=0.77652 \n",
      " 87 2.84s trainloss=0.16226 validloss=3.43374 accuracy_score=0.77878 \n",
      " 88 2.88s trainloss=0.12639 validloss=3.68981 accuracy_score=0.77765 \n",
      " 89 2.87s trainloss=0.14033 validloss=3.72519 accuracy_score=0.77991 \n",
      " 90 2.87s trainloss=0.15087 validloss=3.74218 accuracy_score=0.78442 \n",
      " 91 2.87s trainloss=0.23561 validloss=3.19335 accuracy_score=0.77427 \n",
      " 92 2.87s trainloss=0.19104 validloss=3.29204 accuracy_score=0.78442 \n",
      " 93 2.91s trainloss=0.14375 validloss=3.24032 accuracy_score=0.78104 \n",
      " 94 2.91s trainloss=0.17823 validloss=3.09712 accuracy_score=0.78104 \n",
      " 95 2.86s trainloss=0.32095 validloss=2.43994 accuracy_score=0.77201 \n",
      " 96 2.86s trainloss=0.18636 validloss=2.59296 accuracy_score=0.77427 \n",
      " 97 2.86s trainloss=0.17061 validloss=3.06148 accuracy_score=0.77540 \n",
      " 98 2.79s trainloss=0.14491 validloss=3.63120 accuracy_score=0.78555 \n",
      " 99 2.80s trainloss=0.12453 validloss=3.79901 accuracy_score=0.77878 \n",
      "100 2.82s trainloss=0.11372 validloss=3.70149 accuracy_score=0.78555 \n"
     ]
    }
   ],
   "source": [
    "cnn2_2_model = cnn2Layer2(4)\n",
    "cnn2_2_trainer = trainer(cnn2_2_model, nn.CrossEntropyLoss(), train_loader, valid_loader, test_loader, metrics=metrics, gpu=True)\n",
    "cnn2_2_trainer.train(100, lr=[0.01, 0.001])"
   ]
  },
  {
   "cell_type": "code",
   "execution_count": 94,
   "id": "2ba91007",
   "metadata": {},
   "outputs": [
    {
     "data": {
      "image/png": "[encoded data removed]",
      "text/plain": [
       "<Figure size 432x288 with 1 Axes>"
      ]
     },
     "metadata": {
      "needs_background": "light"
     },
     "output_type": "display_data"
    }
   ],
   "source": [
    "cnn2_2_trainer.learning_curve()"
   ]
  },
  {
   "cell_type": "code",
   "execution_count": 95,
   "id": "e271cd5b",
   "metadata": {},
   "outputs": [
    {
     "data": {
      "image/png": "[encoded data removed]",
      "text/plain": [
       "<Figure size 432x288 with 1 Axes>"
      ]
     },
     "metadata": {
      "needs_background": "light"
     },
     "output_type": "display_data"
    }
   ],
   "source": [
    "cnn2_2_trainer.learning_curve(y='accuracy_score')"
   ]
  },
  {
   "cell_type": "code",
   "execution_count": 96,
   "id": "10e707cf",
   "metadata": {},
   "outputs": [
    {
     "name": "stdout",
     "output_type": "stream",
     "text": [
      "     accuracy_score  epoch  prec_drinking  recall_drinking  recall_other\n",
      "169        0.786682   85.0       0.788599         0.768519      0.803965\n",
      "131        0.786682   66.0       0.771812         0.798611      0.775330\n",
      "199        0.785553  100.0       0.792271         0.759259      0.810573\n",
      "41         0.785553   21.0       0.776256         0.787037      0.784141\n",
      "195        0.785553   98.0       0.782710         0.775463      0.795154\n",
      "..              ...    ...            ...              ...           ...\n",
      "7          0.729120    4.0       0.715247         0.738426      0.720264\n",
      "5          0.721219    3.0       0.739018         0.662037      0.777533\n",
      "13         0.716704    7.0       0.762319         0.608796      0.819383\n",
      "3          0.677201    2.0       0.728125         0.539352      0.808370\n",
      "1          0.651242    1.0       0.639456         0.652778      0.649780\n",
      "\n",
      "[100 rows x 5 columns]\n"
     ]
    }
   ],
   "source": [
    "sort_epochs(cnn2_2_trainer.evaluator, 'accuracy_score')"
   ]
  },
  {
   "cell_type": "code",
   "execution_count": 97,
   "id": "8305fd30",
   "metadata": {},
   "outputs": [
    {
     "data": {
      "image/png": "[encoded data removed]",
      "text/plain": [
       "<Figure size 432x288 with 2 Axes>"
      ]
     },
     "metadata": {
      "needs_background": "light"
     },
     "output_type": "display_data"
    }
   ],
   "source": [
    "test_X, test_y = next(iter(test_loader))\n",
    "test_X = test_X.cuda()\n",
    "test_y = test_y.cuda()\n",
    "cnn2_2_model = cnn2_2_model.cuda()\n",
    "\n",
    "with torch.no_grad():\n",
    "        pred_y = cnn2_2_model(test_X)\n",
    "        pred_y = cnn2_2_model.post_forward(pred_y)\n",
    "        \n",
    "make_confusion_matrix(test_y.cpu(), pred_y.cpu())"
   ]
  },
  {
   "cell_type": "markdown",
   "id": "b62a9455",
   "metadata": {},
   "source": [
    "# ResNet"
   ]
  },
  {
   "cell_type": "code",
   "execution_count": 13,
   "id": "29e8495b",
   "metadata": {},
   "outputs": [],
   "source": [
    "# nSamples = [1696, 2216, 3920] #of class instances\n",
    "nSamples = [1696 + 2216, 3920] #of class instances\n",
    "normedWeights = [1 - (x / sum(nSamples)) for x in nSamples]\n",
    "normedWeights = torch.FloatTensor(normedWeights).cuda()"
   ]
  },
  {
   "cell_type": "code",
   "execution_count": 14,
   "id": "c6c38344",
   "metadata": {},
   "outputs": [],
   "source": [
    "def post_forward(y):\n",
    "    return torch.argmax(y, axis=1)"
   ]
  },
  {
   "cell_type": "markdown",
   "id": "4d2471e9",
   "metadata": {},
   "source": [
    "# resnet 18"
   ]
  },
  {
   "cell_type": "code",
   "execution_count": 42,
   "id": "d45d37ff",
   "metadata": {},
   "outputs": [],
   "source": [
    "rn18 = models.resnet18(pretrained=True)\n",
    "rn18.conv1 = nn.Conv2d(1, rn18.conv1.out_channels,\n",
    "              kernel_size=rn18.conv1.kernel_size[0], \n",
    "                      stride=rn18.conv1.stride[0], \n",
    "                      padding=rn18.conv1.padding[0])\n",
    "num_ftrs = rn18.fc.in_features\n",
    "rn18.fc = nn.Linear(num_ftrs, 2)\n",
    "\n",
    "rn18.post_forward = post_forward\n",
    "\n",
    "rn18_trainer = trainer(rn18, nn.CrossEntropyLoss(weight=normedWeights), train_loader, valid_loader, test_loader, metrics=metrics, gpu=True)"
   ]
  },
  {
   "cell_type": "code",
   "execution_count": 43,
   "id": "520e260b",
   "metadata": {},
   "outputs": [
    {
     "data": {
      "application/vnd.jupyter.widget-view+json": {
       "model_id": "",
       "version_major": 2,
       "version_minor": 0
      },
      "text/plain": [
       "Total:   0%|          | 0/448000 [00:00<?, ?it/s]"
      ]
     },
     "metadata": {},
     "output_type": "display_data"
    },
    {
     "name": "stderr",
     "output_type": "stream",
     "text": [
      "/opt/jupyterhub/anaconda/lib/python3.9/site-packages/sklearn/metrics/_classification.py:1308: UndefinedMetricWarning: Precision is ill-defined and being set to 0.0 in labels with no predicted samples. Use `zero_division` parameter to control this behavior.\n",
      "  _warn_prf(average, modifier, msg_start, len(result))\n"
     ]
    },
    {
     "name": "stdout",
     "output_type": "stream",
     "text": [
      "  1 10.15s trainloss=0.91586 validloss=0.75003 accuracy_score=0.48081 \n"
     ]
    },
    {
     "name": "stderr",
     "output_type": "stream",
     "text": [
      "/opt/jupyterhub/anaconda/lib/python3.9/site-packages/sklearn/metrics/_classification.py:1308: UndefinedMetricWarning: Precision is ill-defined and being set to 0.0 in labels with no predicted samples. Use `zero_division` parameter to control this behavior.\n",
      "  _warn_prf(average, modifier, msg_start, len(result))\n"
     ]
    },
    {
     "name": "stdout",
     "output_type": "stream",
     "text": [
      "  2 10.15s trainloss=0.71219 validloss=0.71079 accuracy_score=0.48081 \n",
      "  3 10.30s trainloss=0.69607 validloss=0.69181 accuracy_score=0.52370 \n",
      "  4 10.31s trainloss=0.64399 validloss=2.59341 accuracy_score=0.58691 \n"
     ]
    },
    {
     "name": "stderr",
     "output_type": "stream",
     "text": [
      "/opt/jupyterhub/anaconda/lib/python3.9/site-packages/sklearn/metrics/_classification.py:1308: UndefinedMetricWarning: Precision is ill-defined and being set to 0.0 in labels with no predicted samples. Use `zero_division` parameter to control this behavior.\n",
      "  _warn_prf(average, modifier, msg_start, len(result))\n"
     ]
    },
    {
     "name": "stdout",
     "output_type": "stream",
     "text": [
      "  5 8.82s trainloss=0.58849 validloss=0.78710 accuracy_score=0.48081 \n",
      "  6 5.93s trainloss=0.57482 validloss=2.11820 accuracy_score=0.59368 \n",
      "  7 5.92s trainloss=0.57229 validloss=0.75499 accuracy_score=0.49210 \n",
      "  8 5.96s trainloss=0.64558 validloss=0.69932 accuracy_score=0.48420 \n",
      "  9 5.94s trainloss=0.58752 validloss=136.31336 accuracy_score=0.55192 \n",
      " 10 5.85s trainloss=0.58482 validloss=3.96172 accuracy_score=0.54402 \n"
     ]
    },
    {
     "name": "stderr",
     "output_type": "stream",
     "text": [
      "/opt/jupyterhub/anaconda/lib/python3.9/site-packages/sklearn/metrics/_classification.py:1308: UndefinedMetricWarning: Precision is ill-defined and being set to 0.0 in labels with no predicted samples. Use `zero_division` parameter to control this behavior.\n",
      "  _warn_prf(average, modifier, msg_start, len(result))\n"
     ]
    },
    {
     "name": "stdout",
     "output_type": "stream",
     "text": [
      " 11 5.86s trainloss=0.56169 validloss=0.70397 accuracy_score=0.48081 \n",
      " 12 5.90s trainloss=0.57673 validloss=5.83275 accuracy_score=0.56772 \n",
      " 13 5.88s trainloss=0.55539 validloss=41.28252 accuracy_score=0.51919 \n",
      " 14 5.91s trainloss=0.59211 validloss=16.55045 accuracy_score=0.54515 \n",
      " 15 5.99s trainloss=0.59035 validloss=0.55145 accuracy_score=0.71106 \n"
     ]
    },
    {
     "name": "stderr",
     "output_type": "stream",
     "text": [
      "/opt/jupyterhub/anaconda/lib/python3.9/site-packages/sklearn/metrics/_classification.py:1308: UndefinedMetricWarning: Precision is ill-defined and being set to 0.0 in labels with no predicted samples. Use `zero_division` parameter to control this behavior.\n",
      "  _warn_prf(average, modifier, msg_start, len(result))\n"
     ]
    },
    {
     "name": "stdout",
     "output_type": "stream",
     "text": [
      " 16 6.13s trainloss=0.57127 validloss=0.70873 accuracy_score=0.48081 \n",
      " 17 5.93s trainloss=0.56539 validloss=1.45250 accuracy_score=0.61738 \n"
     ]
    },
    {
     "name": "stderr",
     "output_type": "stream",
     "text": [
      "/opt/jupyterhub/anaconda/lib/python3.9/site-packages/sklearn/metrics/_classification.py:1308: UndefinedMetricWarning: Precision is ill-defined and being set to 0.0 in labels with no predicted samples. Use `zero_division` parameter to control this behavior.\n",
      "  _warn_prf(average, modifier, msg_start, len(result))\n"
     ]
    },
    {
     "name": "stdout",
     "output_type": "stream",
     "text": [
      " 18 5.96s trainloss=0.59623 validloss=0.69241 accuracy_score=0.51919 \n"
     ]
    },
    {
     "name": "stderr",
     "output_type": "stream",
     "text": [
      "/opt/jupyterhub/anaconda/lib/python3.9/site-packages/sklearn/metrics/_classification.py:1308: UndefinedMetricWarning: Precision is ill-defined and being set to 0.0 in labels with no predicted samples. Use `zero_division` parameter to control this behavior.\n",
      "  _warn_prf(average, modifier, msg_start, len(result))\n"
     ]
    },
    {
     "name": "stdout",
     "output_type": "stream",
     "text": [
      " 19 6.03s trainloss=0.57660 validloss=0.76812 accuracy_score=0.48081 \n",
      " 20 6.04s trainloss=0.59296 validloss=0.62443 accuracy_score=0.64221 \n"
     ]
    },
    {
     "name": "stderr",
     "output_type": "stream",
     "text": [
      "/opt/jupyterhub/anaconda/lib/python3.9/site-packages/sklearn/metrics/_classification.py:1308: UndefinedMetricWarning: Precision is ill-defined and being set to 0.0 in labels with no predicted samples. Use `zero_division` parameter to control this behavior.\n",
      "  _warn_prf(average, modifier, msg_start, len(result))\n"
     ]
    },
    {
     "name": "stdout",
     "output_type": "stream",
     "text": [
      " 21 5.98s trainloss=0.60933 validloss=0.70011 accuracy_score=0.48081 \n",
      " 22 6.01s trainloss=0.69279 validloss=0.71016 accuracy_score=0.47856 \n",
      " 23 5.88s trainloss=0.64022 validloss=1.23287 accuracy_score=0.70880 \n",
      " 24 4.09s trainloss=0.61775 validloss=0.56646 accuracy_score=0.72348 \n",
      " 25 4.09s trainloss=0.57560 validloss=0.75834 accuracy_score=0.54966 \n",
      " 26 4.05s trainloss=0.57418 validloss=0.53151 accuracy_score=0.73138 \n",
      " 27 4.07s trainloss=0.54274 validloss=0.86157 accuracy_score=0.47968 \n",
      " 28 4.09s trainloss=0.55906 validloss=0.80169 accuracy_score=0.66366 \n",
      " 29 4.19s trainloss=0.52324 validloss=0.74493 accuracy_score=0.60948 \n",
      " 30 4.08s trainloss=0.59765 validloss=0.70084 accuracy_score=0.60497 \n",
      " 31 4.08s trainloss=0.57564 validloss=0.92620 accuracy_score=0.52370 \n",
      " 32 4.08s trainloss=0.57101 validloss=0.88388 accuracy_score=0.54853 \n"
     ]
    },
    {
     "name": "stderr",
     "output_type": "stream",
     "text": [
      "/opt/jupyterhub/anaconda/lib/python3.9/site-packages/sklearn/metrics/_classification.py:1308: UndefinedMetricWarning: Precision is ill-defined and being set to 0.0 in labels with no predicted samples. Use `zero_division` parameter to control this behavior.\n",
      "  _warn_prf(average, modifier, msg_start, len(result))\n"
     ]
    },
    {
     "name": "stdout",
     "output_type": "stream",
     "text": [
      " 33 4.08s trainloss=0.57536 validloss=0.74547 accuracy_score=0.51919 \n",
      " 34 4.08s trainloss=0.55427 validloss=0.58023 accuracy_score=0.69300 \n",
      " 35 4.08s trainloss=0.57319 validloss=0.61393 accuracy_score=0.67269 \n"
     ]
    },
    {
     "name": "stderr",
     "output_type": "stream",
     "text": [
      "/opt/jupyterhub/anaconda/lib/python3.9/site-packages/sklearn/metrics/_classification.py:1308: UndefinedMetricWarning: Precision is ill-defined and being set to 0.0 in labels with no predicted samples. Use `zero_division` parameter to control this behavior.\n",
      "  _warn_prf(average, modifier, msg_start, len(result))\n"
     ]
    },
    {
     "name": "stdout",
     "output_type": "stream",
     "text": [
      " 36 4.12s trainloss=0.58428 validloss=0.69321 accuracy_score=0.51919 \n"
     ]
    },
    {
     "name": "stderr",
     "output_type": "stream",
     "text": [
      "/opt/jupyterhub/anaconda/lib/python3.9/site-packages/sklearn/metrics/_classification.py:1308: UndefinedMetricWarning: Precision is ill-defined and being set to 0.0 in labels with no predicted samples. Use `zero_division` parameter to control this behavior.\n",
      "  _warn_prf(average, modifier, msg_start, len(result))\n"
     ]
    },
    {
     "name": "stdout",
     "output_type": "stream",
     "text": [
      " 37 4.08s trainloss=0.57833 validloss=0.72158 accuracy_score=0.48081 \n"
     ]
    },
    {
     "name": "stderr",
     "output_type": "stream",
     "text": [
      "/opt/jupyterhub/anaconda/lib/python3.9/site-packages/sklearn/metrics/_classification.py:1308: UndefinedMetricWarning: Precision is ill-defined and being set to 0.0 in labels with no predicted samples. Use `zero_division` parameter to control this behavior.\n",
      "  _warn_prf(average, modifier, msg_start, len(result))\n"
     ]
    },
    {
     "name": "stdout",
     "output_type": "stream",
     "text": [
      " 38 4.17s trainloss=0.68314 validloss=0.69246 accuracy_score=0.51919 \n"
     ]
    },
    {
     "name": "stderr",
     "output_type": "stream",
     "text": [
      "/opt/jupyterhub/anaconda/lib/python3.9/site-packages/sklearn/metrics/_classification.py:1308: UndefinedMetricWarning: Precision is ill-defined and being set to 0.0 in labels with no predicted samples. Use `zero_division` parameter to control this behavior.\n",
      "  _warn_prf(average, modifier, msg_start, len(result))\n"
     ]
    },
    {
     "name": "stdout",
     "output_type": "stream",
     "text": [
      " 39 4.10s trainloss=0.69398 validloss=0.69291 accuracy_score=0.51919 \n"
     ]
    },
    {
     "name": "stderr",
     "output_type": "stream",
     "text": [
      "/opt/jupyterhub/anaconda/lib/python3.9/site-packages/sklearn/metrics/_classification.py:1308: UndefinedMetricWarning: Precision is ill-defined and being set to 0.0 in labels with no predicted samples. Use `zero_division` parameter to control this behavior.\n",
      "  _warn_prf(average, modifier, msg_start, len(result))\n"
     ]
    },
    {
     "name": "stdout",
     "output_type": "stream",
     "text": [
      " 40 4.09s trainloss=0.69334 validloss=0.69442 accuracy_score=0.48081 \n"
     ]
    },
    {
     "name": "stderr",
     "output_type": "stream",
     "text": [
      "/opt/jupyterhub/anaconda/lib/python3.9/site-packages/sklearn/metrics/_classification.py:1308: UndefinedMetricWarning: Precision is ill-defined and being set to 0.0 in labels with no predicted samples. Use `zero_division` parameter to control this behavior.\n",
      "  _warn_prf(average, modifier, msg_start, len(result))\n",
      "/opt/jupyterhub/anaconda/lib/python3.9/site-packages/sklearn/metrics/_classification.py:1308: UndefinedMetricWarning: Precision is ill-defined and being set to 0.0 in labels with no predicted samples. Use `zero_division` parameter to control this behavior.\n",
      "  _warn_prf(average, modifier, msg_start, len(result))\n"
     ]
    },
    {
     "name": "stdout",
     "output_type": "stream",
     "text": [
      " 41 4.09s trainloss=0.69337 validloss=0.69415 accuracy_score=0.48081 \n"
     ]
    },
    {
     "name": "stderr",
     "output_type": "stream",
     "text": [
      "/opt/jupyterhub/anaconda/lib/python3.9/site-packages/sklearn/metrics/_classification.py:1308: UndefinedMetricWarning: Precision is ill-defined and being set to 0.0 in labels with no predicted samples. Use `zero_division` parameter to control this behavior.\n",
      "  _warn_prf(average, modifier, msg_start, len(result))\n"
     ]
    },
    {
     "name": "stdout",
     "output_type": "stream",
     "text": [
      " 42 4.26s trainloss=0.69342 validloss=0.69367 accuracy_score=0.48081 \n"
     ]
    },
    {
     "name": "stderr",
     "output_type": "stream",
     "text": [
      "/opt/jupyterhub/anaconda/lib/python3.9/site-packages/sklearn/metrics/_classification.py:1308: UndefinedMetricWarning: Precision is ill-defined and being set to 0.0 in labels with no predicted samples. Use `zero_division` parameter to control this behavior.\n",
      "  _warn_prf(average, modifier, msg_start, len(result))\n",
      "/opt/jupyterhub/anaconda/lib/python3.9/site-packages/sklearn/metrics/_classification.py:1308: UndefinedMetricWarning: Precision is ill-defined and being set to 0.0 in labels with no predicted samples. Use `zero_division` parameter to control this behavior.\n",
      "  _warn_prf(average, modifier, msg_start, len(result))\n"
     ]
    },
    {
     "name": "stdout",
     "output_type": "stream",
     "text": [
      " 43 4.11s trainloss=0.69327 validloss=0.69339 accuracy_score=0.48081 \n"
     ]
    },
    {
     "name": "stderr",
     "output_type": "stream",
     "text": [
      "/opt/jupyterhub/anaconda/lib/python3.9/site-packages/sklearn/metrics/_classification.py:1308: UndefinedMetricWarning: Precision is ill-defined and being set to 0.0 in labels with no predicted samples. Use `zero_division` parameter to control this behavior.\n",
      "  _warn_prf(average, modifier, msg_start, len(result))\n"
     ]
    },
    {
     "name": "stdout",
     "output_type": "stream",
     "text": [
      " 44 4.24s trainloss=0.69339 validloss=0.69317 accuracy_score=0.48081 \n"
     ]
    },
    {
     "name": "stderr",
     "output_type": "stream",
     "text": [
      "/opt/jupyterhub/anaconda/lib/python3.9/site-packages/sklearn/metrics/_classification.py:1308: UndefinedMetricWarning: Precision is ill-defined and being set to 0.0 in labels with no predicted samples. Use `zero_division` parameter to control this behavior.\n",
      "  _warn_prf(average, modifier, msg_start, len(result))\n"
     ]
    },
    {
     "name": "stdout",
     "output_type": "stream",
     "text": [
      " 45 4.05s trainloss=0.69344 validloss=0.69465 accuracy_score=0.48081 \n"
     ]
    },
    {
     "name": "stderr",
     "output_type": "stream",
     "text": [
      "/opt/jupyterhub/anaconda/lib/python3.9/site-packages/sklearn/metrics/_classification.py:1308: UndefinedMetricWarning: Precision is ill-defined and being set to 0.0 in labels with no predicted samples. Use `zero_division` parameter to control this behavior.\n",
      "  _warn_prf(average, modifier, msg_start, len(result))\n"
     ]
    },
    {
     "name": "stdout",
     "output_type": "stream",
     "text": [
      " 46 4.05s trainloss=0.69326 validloss=0.69306 accuracy_score=0.51919 \n"
     ]
    },
    {
     "name": "stderr",
     "output_type": "stream",
     "text": [
      "/opt/jupyterhub/anaconda/lib/python3.9/site-packages/sklearn/metrics/_classification.py:1308: UndefinedMetricWarning: Precision is ill-defined and being set to 0.0 in labels with no predicted samples. Use `zero_division` parameter to control this behavior.\n",
      "  _warn_prf(average, modifier, msg_start, len(result))\n"
     ]
    },
    {
     "name": "stdout",
     "output_type": "stream",
     "text": [
      " 47 4.05s trainloss=0.69322 validloss=0.69385 accuracy_score=0.48081 \n"
     ]
    },
    {
     "name": "stderr",
     "output_type": "stream",
     "text": [
      "/opt/jupyterhub/anaconda/lib/python3.9/site-packages/sklearn/metrics/_classification.py:1308: UndefinedMetricWarning: Precision is ill-defined and being set to 0.0 in labels with no predicted samples. Use `zero_division` parameter to control this behavior.\n",
      "  _warn_prf(average, modifier, msg_start, len(result))\n"
     ]
    },
    {
     "name": "stdout",
     "output_type": "stream",
     "text": [
      " 48 4.05s trainloss=0.69334 validloss=0.69359 accuracy_score=0.48081 \n"
     ]
    },
    {
     "name": "stderr",
     "output_type": "stream",
     "text": [
      "/opt/jupyterhub/anaconda/lib/python3.9/site-packages/sklearn/metrics/_classification.py:1308: UndefinedMetricWarning: Precision is ill-defined and being set to 0.0 in labels with no predicted samples. Use `zero_division` parameter to control this behavior.\n",
      "  _warn_prf(average, modifier, msg_start, len(result))\n"
     ]
    },
    {
     "name": "stdout",
     "output_type": "stream",
     "text": [
      " 49 4.05s trainloss=0.69335 validloss=0.69296 accuracy_score=0.51919 \n"
     ]
    },
    {
     "name": "stderr",
     "output_type": "stream",
     "text": [
      "/opt/jupyterhub/anaconda/lib/python3.9/site-packages/sklearn/metrics/_classification.py:1308: UndefinedMetricWarning: Precision is ill-defined and being set to 0.0 in labels with no predicted samples. Use `zero_division` parameter to control this behavior.\n",
      "  _warn_prf(average, modifier, msg_start, len(result))\n"
     ]
    },
    {
     "name": "stdout",
     "output_type": "stream",
     "text": [
      " 50 4.05s trainloss=0.69313 validloss=0.69485 accuracy_score=0.48081 \n"
     ]
    },
    {
     "name": "stderr",
     "output_type": "stream",
     "text": [
      "/opt/jupyterhub/anaconda/lib/python3.9/site-packages/sklearn/metrics/_classification.py:1308: UndefinedMetricWarning: Precision is ill-defined and being set to 0.0 in labels with no predicted samples. Use `zero_division` parameter to control this behavior.\n",
      "  _warn_prf(average, modifier, msg_start, len(result))\n"
     ]
    },
    {
     "name": "stdout",
     "output_type": "stream",
     "text": [
      " 51 4.04s trainloss=0.69359 validloss=0.69336 accuracy_score=0.48081 \n"
     ]
    },
    {
     "name": "stderr",
     "output_type": "stream",
     "text": [
      "/opt/jupyterhub/anaconda/lib/python3.9/site-packages/sklearn/metrics/_classification.py:1308: UndefinedMetricWarning: Precision is ill-defined and being set to 0.0 in labels with no predicted samples. Use `zero_division` parameter to control this behavior.\n",
      "  _warn_prf(average, modifier, msg_start, len(result))\n"
     ]
    },
    {
     "name": "stdout",
     "output_type": "stream",
     "text": [
      " 52 4.23s trainloss=0.69345 validloss=0.69300 accuracy_score=0.51919 \n"
     ]
    },
    {
     "name": "stderr",
     "output_type": "stream",
     "text": [
      "/opt/jupyterhub/anaconda/lib/python3.9/site-packages/sklearn/metrics/_classification.py:1308: UndefinedMetricWarning: Precision is ill-defined and being set to 0.0 in labels with no predicted samples. Use `zero_division` parameter to control this behavior.\n",
      "  _warn_prf(average, modifier, msg_start, len(result))\n"
     ]
    },
    {
     "name": "stdout",
     "output_type": "stream",
     "text": [
      " 53 4.10s trainloss=0.69348 validloss=0.69297 accuracy_score=0.51919 \n"
     ]
    },
    {
     "name": "stderr",
     "output_type": "stream",
     "text": [
      "/opt/jupyterhub/anaconda/lib/python3.9/site-packages/sklearn/metrics/_classification.py:1308: UndefinedMetricWarning: Precision is ill-defined and being set to 0.0 in labels with no predicted samples. Use `zero_division` parameter to control this behavior.\n",
      "  _warn_prf(average, modifier, msg_start, len(result))\n"
     ]
    },
    {
     "name": "stdout",
     "output_type": "stream",
     "text": [
      " 54 4.06s trainloss=0.69328 validloss=0.69402 accuracy_score=0.48081 \n"
     ]
    },
    {
     "name": "stderr",
     "output_type": "stream",
     "text": [
      "/opt/jupyterhub/anaconda/lib/python3.9/site-packages/sklearn/metrics/_classification.py:1308: UndefinedMetricWarning: Precision is ill-defined and being set to 0.0 in labels with no predicted samples. Use `zero_division` parameter to control this behavior.\n",
      "  _warn_prf(average, modifier, msg_start, len(result))\n"
     ]
    },
    {
     "name": "stdout",
     "output_type": "stream",
     "text": [
      " 55 4.08s trainloss=0.69362 validloss=0.69355 accuracy_score=0.48081 \n"
     ]
    },
    {
     "name": "stderr",
     "output_type": "stream",
     "text": [
      "/opt/jupyterhub/anaconda/lib/python3.9/site-packages/sklearn/metrics/_classification.py:1308: UndefinedMetricWarning: Precision is ill-defined and being set to 0.0 in labels with no predicted samples. Use `zero_division` parameter to control this behavior.\n",
      "  _warn_prf(average, modifier, msg_start, len(result))\n",
      "/opt/jupyterhub/anaconda/lib/python3.9/site-packages/sklearn/metrics/_classification.py:1308: UndefinedMetricWarning: Precision is ill-defined and being set to 0.0 in labels with no predicted samples. Use `zero_division` parameter to control this behavior.\n",
      "  _warn_prf(average, modifier, msg_start, len(result))\n"
     ]
    },
    {
     "name": "stdout",
     "output_type": "stream",
     "text": [
      " 56 4.09s trainloss=0.69351 validloss=0.69397 accuracy_score=0.48081 \n"
     ]
    },
    {
     "name": "stderr",
     "output_type": "stream",
     "text": [
      "/opt/jupyterhub/anaconda/lib/python3.9/site-packages/sklearn/metrics/_classification.py:1308: UndefinedMetricWarning: Precision is ill-defined and being set to 0.0 in labels with no predicted samples. Use `zero_division` parameter to control this behavior.\n",
      "  _warn_prf(average, modifier, msg_start, len(result))\n",
      "/opt/jupyterhub/anaconda/lib/python3.9/site-packages/sklearn/metrics/_classification.py:1308: UndefinedMetricWarning: Precision is ill-defined and being set to 0.0 in labels with no predicted samples. Use `zero_division` parameter to control this behavior.\n",
      "  _warn_prf(average, modifier, msg_start, len(result))\n"
     ]
    },
    {
     "name": "stdout",
     "output_type": "stream",
     "text": [
      " 57 4.10s trainloss=0.69326 validloss=0.69366 accuracy_score=0.48081 \n"
     ]
    },
    {
     "name": "stderr",
     "output_type": "stream",
     "text": [
      "/opt/jupyterhub/anaconda/lib/python3.9/site-packages/sklearn/metrics/_classification.py:1308: UndefinedMetricWarning: Precision is ill-defined and being set to 0.0 in labels with no predicted samples. Use `zero_division` parameter to control this behavior.\n",
      "  _warn_prf(average, modifier, msg_start, len(result))\n"
     ]
    },
    {
     "name": "stdout",
     "output_type": "stream",
     "text": [
      " 58 4.20s trainloss=0.69329 validloss=0.69315 accuracy_score=0.48081 \n"
     ]
    },
    {
     "name": "stderr",
     "output_type": "stream",
     "text": [
      "/opt/jupyterhub/anaconda/lib/python3.9/site-packages/sklearn/metrics/_classification.py:1308: UndefinedMetricWarning: Precision is ill-defined and being set to 0.0 in labels with no predicted samples. Use `zero_division` parameter to control this behavior.\n",
      "  _warn_prf(average, modifier, msg_start, len(result))\n"
     ]
    },
    {
     "name": "stdout",
     "output_type": "stream",
     "text": [
      " 59 4.08s trainloss=0.69334 validloss=0.69274 accuracy_score=0.51919 \n"
     ]
    },
    {
     "name": "stderr",
     "output_type": "stream",
     "text": [
      "/opt/jupyterhub/anaconda/lib/python3.9/site-packages/sklearn/metrics/_classification.py:1308: UndefinedMetricWarning: Precision is ill-defined and being set to 0.0 in labels with no predicted samples. Use `zero_division` parameter to control this behavior.\n",
      "  _warn_prf(average, modifier, msg_start, len(result))\n"
     ]
    },
    {
     "name": "stdout",
     "output_type": "stream",
     "text": [
      " 60 4.08s trainloss=0.69350 validloss=0.69249 accuracy_score=0.51919 \n"
     ]
    },
    {
     "name": "stderr",
     "output_type": "stream",
     "text": [
      "/opt/jupyterhub/anaconda/lib/python3.9/site-packages/sklearn/metrics/_classification.py:1308: UndefinedMetricWarning: Precision is ill-defined and being set to 0.0 in labels with no predicted samples. Use `zero_division` parameter to control this behavior.\n",
      "  _warn_prf(average, modifier, msg_start, len(result))\n"
     ]
    },
    {
     "name": "stdout",
     "output_type": "stream",
     "text": [
      " 61 4.07s trainloss=0.69350 validloss=0.69419 accuracy_score=0.48081 \n"
     ]
    },
    {
     "name": "stderr",
     "output_type": "stream",
     "text": [
      "/opt/jupyterhub/anaconda/lib/python3.9/site-packages/sklearn/metrics/_classification.py:1308: UndefinedMetricWarning: Precision is ill-defined and being set to 0.0 in labels with no predicted samples. Use `zero_division` parameter to control this behavior.\n",
      "  _warn_prf(average, modifier, msg_start, len(result))\n",
      "/opt/jupyterhub/anaconda/lib/python3.9/site-packages/sklearn/metrics/_classification.py:1308: UndefinedMetricWarning: Precision is ill-defined and being set to 0.0 in labels with no predicted samples. Use `zero_division` parameter to control this behavior.\n",
      "  _warn_prf(average, modifier, msg_start, len(result))\n"
     ]
    },
    {
     "name": "stdout",
     "output_type": "stream",
     "text": [
      " 62 4.10s trainloss=0.69325 validloss=0.69364 accuracy_score=0.48081 \n"
     ]
    },
    {
     "name": "stderr",
     "output_type": "stream",
     "text": [
      "/opt/jupyterhub/anaconda/lib/python3.9/site-packages/sklearn/metrics/_classification.py:1308: UndefinedMetricWarning: Precision is ill-defined and being set to 0.0 in labels with no predicted samples. Use `zero_division` parameter to control this behavior.\n",
      "  _warn_prf(average, modifier, msg_start, len(result))\n"
     ]
    },
    {
     "name": "stdout",
     "output_type": "stream",
     "text": [
      " 63 4.13s trainloss=0.69329 validloss=0.69456 accuracy_score=0.48081 \n"
     ]
    },
    {
     "name": "stderr",
     "output_type": "stream",
     "text": [
      "/opt/jupyterhub/anaconda/lib/python3.9/site-packages/sklearn/metrics/_classification.py:1308: UndefinedMetricWarning: Precision is ill-defined and being set to 0.0 in labels with no predicted samples. Use `zero_division` parameter to control this behavior.\n",
      "  _warn_prf(average, modifier, msg_start, len(result))\n"
     ]
    },
    {
     "name": "stdout",
     "output_type": "stream",
     "text": [
      " 64 4.10s trainloss=0.69382 validloss=0.69387 accuracy_score=0.48081 \n"
     ]
    },
    {
     "name": "stderr",
     "output_type": "stream",
     "text": [
      "/opt/jupyterhub/anaconda/lib/python3.9/site-packages/sklearn/metrics/_classification.py:1308: UndefinedMetricWarning: Precision is ill-defined and being set to 0.0 in labels with no predicted samples. Use `zero_division` parameter to control this behavior.\n",
      "  _warn_prf(average, modifier, msg_start, len(result))\n"
     ]
    },
    {
     "name": "stdout",
     "output_type": "stream",
     "text": [
      " 65 4.09s trainloss=0.69343 validloss=0.69274 accuracy_score=0.51919 \n"
     ]
    },
    {
     "name": "stderr",
     "output_type": "stream",
     "text": [
      "/opt/jupyterhub/anaconda/lib/python3.9/site-packages/sklearn/metrics/_classification.py:1308: UndefinedMetricWarning: Precision is ill-defined and being set to 0.0 in labels with no predicted samples. Use `zero_division` parameter to control this behavior.\n",
      "  _warn_prf(average, modifier, msg_start, len(result))\n"
     ]
    },
    {
     "name": "stdout",
     "output_type": "stream",
     "text": [
      " 66 4.09s trainloss=0.69309 validloss=0.69410 accuracy_score=0.48081 \n"
     ]
    },
    {
     "name": "stderr",
     "output_type": "stream",
     "text": [
      "/opt/jupyterhub/anaconda/lib/python3.9/site-packages/sklearn/metrics/_classification.py:1308: UndefinedMetricWarning: Precision is ill-defined and being set to 0.0 in labels with no predicted samples. Use `zero_division` parameter to control this behavior.\n",
      "  _warn_prf(average, modifier, msg_start, len(result))\n"
     ]
    },
    {
     "name": "stdout",
     "output_type": "stream",
     "text": [
      " 67 4.09s trainloss=0.69307 validloss=0.69245 accuracy_score=0.51919 \n"
     ]
    },
    {
     "name": "stderr",
     "output_type": "stream",
     "text": [
      "/opt/jupyterhub/anaconda/lib/python3.9/site-packages/sklearn/metrics/_classification.py:1308: UndefinedMetricWarning: Precision is ill-defined and being set to 0.0 in labels with no predicted samples. Use `zero_division` parameter to control this behavior.\n",
      "  _warn_prf(average, modifier, msg_start, len(result))\n"
     ]
    },
    {
     "name": "stdout",
     "output_type": "stream",
     "text": [
      " 68 4.11s trainloss=0.69367 validloss=0.69452 accuracy_score=0.48081 \n"
     ]
    },
    {
     "name": "stderr",
     "output_type": "stream",
     "text": [
      "/opt/jupyterhub/anaconda/lib/python3.9/site-packages/sklearn/metrics/_classification.py:1308: UndefinedMetricWarning: Precision is ill-defined and being set to 0.0 in labels with no predicted samples. Use `zero_division` parameter to control this behavior.\n",
      "  _warn_prf(average, modifier, msg_start, len(result))\n"
     ]
    },
    {
     "name": "stdout",
     "output_type": "stream",
     "text": [
      " 69 4.10s trainloss=0.69347 validloss=0.69381 accuracy_score=0.48081 \n"
     ]
    },
    {
     "name": "stderr",
     "output_type": "stream",
     "text": [
      "/opt/jupyterhub/anaconda/lib/python3.9/site-packages/sklearn/metrics/_classification.py:1308: UndefinedMetricWarning: Precision is ill-defined and being set to 0.0 in labels with no predicted samples. Use `zero_division` parameter to control this behavior.\n",
      "  _warn_prf(average, modifier, msg_start, len(result))\n"
     ]
    },
    {
     "name": "stdout",
     "output_type": "stream",
     "text": [
      " 70 4.30s trainloss=0.69350 validloss=0.69373 accuracy_score=0.48081 \n"
     ]
    },
    {
     "name": "stderr",
     "output_type": "stream",
     "text": [
      "/opt/jupyterhub/anaconda/lib/python3.9/site-packages/sklearn/metrics/_classification.py:1308: UndefinedMetricWarning: Precision is ill-defined and being set to 0.0 in labels with no predicted samples. Use `zero_division` parameter to control this behavior.\n",
      "  _warn_prf(average, modifier, msg_start, len(result))\n",
      "/opt/jupyterhub/anaconda/lib/python3.9/site-packages/sklearn/metrics/_classification.py:1308: UndefinedMetricWarning: Precision is ill-defined and being set to 0.0 in labels with no predicted samples. Use `zero_division` parameter to control this behavior.\n",
      "  _warn_prf(average, modifier, msg_start, len(result))\n"
     ]
    },
    {
     "name": "stdout",
     "output_type": "stream",
     "text": [
      " 71 4.07s trainloss=0.69327 validloss=0.69344 accuracy_score=0.48081 \n"
     ]
    },
    {
     "name": "stderr",
     "output_type": "stream",
     "text": [
      "/opt/jupyterhub/anaconda/lib/python3.9/site-packages/sklearn/metrics/_classification.py:1308: UndefinedMetricWarning: Precision is ill-defined and being set to 0.0 in labels with no predicted samples. Use `zero_division` parameter to control this behavior.\n",
      "  _warn_prf(average, modifier, msg_start, len(result))\n"
     ]
    },
    {
     "name": "stdout",
     "output_type": "stream",
     "text": [
      " 72 4.14s trainloss=0.69341 validloss=0.69361 accuracy_score=0.48081 \n"
     ]
    },
    {
     "name": "stderr",
     "output_type": "stream",
     "text": [
      "/opt/jupyterhub/anaconda/lib/python3.9/site-packages/sklearn/metrics/_classification.py:1308: UndefinedMetricWarning: Precision is ill-defined and being set to 0.0 in labels with no predicted samples. Use `zero_division` parameter to control this behavior.\n",
      "  _warn_prf(average, modifier, msg_start, len(result))\n"
     ]
    },
    {
     "name": "stdout",
     "output_type": "stream",
     "text": [
      " 73 4.08s trainloss=0.69370 validloss=0.69313 accuracy_score=0.51919 \n"
     ]
    },
    {
     "name": "stderr",
     "output_type": "stream",
     "text": [
      "/opt/jupyterhub/anaconda/lib/python3.9/site-packages/sklearn/metrics/_classification.py:1308: UndefinedMetricWarning: Precision is ill-defined and being set to 0.0 in labels with no predicted samples. Use `zero_division` parameter to control this behavior.\n",
      "  _warn_prf(average, modifier, msg_start, len(result))\n"
     ]
    },
    {
     "name": "stdout",
     "output_type": "stream",
     "text": [
      " 74 4.08s trainloss=0.69326 validloss=0.69354 accuracy_score=0.48081 \n"
     ]
    },
    {
     "name": "stderr",
     "output_type": "stream",
     "text": [
      "/opt/jupyterhub/anaconda/lib/python3.9/site-packages/sklearn/metrics/_classification.py:1308: UndefinedMetricWarning: Precision is ill-defined and being set to 0.0 in labels with no predicted samples. Use `zero_division` parameter to control this behavior.\n",
      "  _warn_prf(average, modifier, msg_start, len(result))\n"
     ]
    },
    {
     "name": "stdout",
     "output_type": "stream",
     "text": [
      " 75 4.08s trainloss=0.69341 validloss=0.69388 accuracy_score=0.48081 \n"
     ]
    },
    {
     "name": "stderr",
     "output_type": "stream",
     "text": [
      "/opt/jupyterhub/anaconda/lib/python3.9/site-packages/sklearn/metrics/_classification.py:1308: UndefinedMetricWarning: Precision is ill-defined and being set to 0.0 in labels with no predicted samples. Use `zero_division` parameter to control this behavior.\n",
      "  _warn_prf(average, modifier, msg_start, len(result))\n"
     ]
    },
    {
     "name": "stdout",
     "output_type": "stream",
     "text": [
      " 76 4.09s trainloss=0.69361 validloss=0.69294 accuracy_score=0.51919 \n"
     ]
    },
    {
     "name": "stderr",
     "output_type": "stream",
     "text": [
      "/opt/jupyterhub/anaconda/lib/python3.9/site-packages/sklearn/metrics/_classification.py:1308: UndefinedMetricWarning: Precision is ill-defined and being set to 0.0 in labels with no predicted samples. Use `zero_division` parameter to control this behavior.\n",
      "  _warn_prf(average, modifier, msg_start, len(result))\n"
     ]
    },
    {
     "name": "stdout",
     "output_type": "stream",
     "text": [
      " 77 4.31s trainloss=0.69321 validloss=0.69413 accuracy_score=0.48081 \n"
     ]
    },
    {
     "name": "stderr",
     "output_type": "stream",
     "text": [
      "/opt/jupyterhub/anaconda/lib/python3.9/site-packages/sklearn/metrics/_classification.py:1308: UndefinedMetricWarning: Precision is ill-defined and being set to 0.0 in labels with no predicted samples. Use `zero_division` parameter to control this behavior.\n",
      "  _warn_prf(average, modifier, msg_start, len(result))\n"
     ]
    },
    {
     "name": "stdout",
     "output_type": "stream",
     "text": [
      " 78 5.57s trainloss=0.69330 validloss=0.69434 accuracy_score=0.48081 \n"
     ]
    },
    {
     "name": "stderr",
     "output_type": "stream",
     "text": [
      "/opt/jupyterhub/anaconda/lib/python3.9/site-packages/sklearn/metrics/_classification.py:1308: UndefinedMetricWarning: Precision is ill-defined and being set to 0.0 in labels with no predicted samples. Use `zero_division` parameter to control this behavior.\n",
      "  _warn_prf(average, modifier, msg_start, len(result))\n"
     ]
    },
    {
     "name": "stdout",
     "output_type": "stream",
     "text": [
      " 79 5.56s trainloss=0.69356 validloss=0.69349 accuracy_score=0.48081 \n"
     ]
    },
    {
     "name": "stderr",
     "output_type": "stream",
     "text": [
      "/opt/jupyterhub/anaconda/lib/python3.9/site-packages/sklearn/metrics/_classification.py:1308: UndefinedMetricWarning: Precision is ill-defined and being set to 0.0 in labels with no predicted samples. Use `zero_division` parameter to control this behavior.\n",
      "  _warn_prf(average, modifier, msg_start, len(result))\n",
      "/opt/jupyterhub/anaconda/lib/python3.9/site-packages/sklearn/metrics/_classification.py:1308: UndefinedMetricWarning: Precision is ill-defined and being set to 0.0 in labels with no predicted samples. Use `zero_division` parameter to control this behavior.\n",
      "  _warn_prf(average, modifier, msg_start, len(result))\n"
     ]
    },
    {
     "name": "stdout",
     "output_type": "stream",
     "text": [
      " 80 5.55s trainloss=0.69350 validloss=0.69365 accuracy_score=0.48081 \n"
     ]
    },
    {
     "name": "stderr",
     "output_type": "stream",
     "text": [
      "/opt/jupyterhub/anaconda/lib/python3.9/site-packages/sklearn/metrics/_classification.py:1308: UndefinedMetricWarning: Precision is ill-defined and being set to 0.0 in labels with no predicted samples. Use `zero_division` parameter to control this behavior.\n",
      "  _warn_prf(average, modifier, msg_start, len(result))\n",
      "/opt/jupyterhub/anaconda/lib/python3.9/site-packages/sklearn/metrics/_classification.py:1308: UndefinedMetricWarning: Precision is ill-defined and being set to 0.0 in labels with no predicted samples. Use `zero_division` parameter to control this behavior.\n",
      "  _warn_prf(average, modifier, msg_start, len(result))\n"
     ]
    },
    {
     "name": "stdout",
     "output_type": "stream",
     "text": [
      " 81 5.54s trainloss=0.69326 validloss=0.69383 accuracy_score=0.48081 \n"
     ]
    },
    {
     "name": "stderr",
     "output_type": "stream",
     "text": [
      "/opt/jupyterhub/anaconda/lib/python3.9/site-packages/sklearn/metrics/_classification.py:1308: UndefinedMetricWarning: Precision is ill-defined and being set to 0.0 in labels with no predicted samples. Use `zero_division` parameter to control this behavior.\n",
      "  _warn_prf(average, modifier, msg_start, len(result))\n"
     ]
    },
    {
     "name": "stdout",
     "output_type": "stream",
     "text": [
      " 82 5.36s trainloss=0.69356 validloss=0.69524 accuracy_score=0.48081 \n"
     ]
    },
    {
     "name": "stderr",
     "output_type": "stream",
     "text": [
      "/opt/jupyterhub/anaconda/lib/python3.9/site-packages/sklearn/metrics/_classification.py:1308: UndefinedMetricWarning: Precision is ill-defined and being set to 0.0 in labels with no predicted samples. Use `zero_division` parameter to control this behavior.\n",
      "  _warn_prf(average, modifier, msg_start, len(result))\n"
     ]
    },
    {
     "name": "stdout",
     "output_type": "stream",
     "text": [
      " 83 5.33s trainloss=0.69377 validloss=0.69309 accuracy_score=0.51919 \n"
     ]
    },
    {
     "name": "stderr",
     "output_type": "stream",
     "text": [
      "/opt/jupyterhub/anaconda/lib/python3.9/site-packages/sklearn/metrics/_classification.py:1308: UndefinedMetricWarning: Precision is ill-defined and being set to 0.0 in labels with no predicted samples. Use `zero_division` parameter to control this behavior.\n",
      "  _warn_prf(average, modifier, msg_start, len(result))\n"
     ]
    },
    {
     "name": "stdout",
     "output_type": "stream",
     "text": [
      " 84 5.42s trainloss=0.69316 validloss=0.69482 accuracy_score=0.48081 \n"
     ]
    },
    {
     "name": "stderr",
     "output_type": "stream",
     "text": [
      "/opt/jupyterhub/anaconda/lib/python3.9/site-packages/sklearn/metrics/_classification.py:1308: UndefinedMetricWarning: Precision is ill-defined and being set to 0.0 in labels with no predicted samples. Use `zero_division` parameter to control this behavior.\n",
      "  _warn_prf(average, modifier, msg_start, len(result))\n"
     ]
    },
    {
     "name": "stdout",
     "output_type": "stream",
     "text": [
      " 85 5.42s trainloss=0.69390 validloss=0.69535 accuracy_score=0.48081 \n"
     ]
    },
    {
     "name": "stderr",
     "output_type": "stream",
     "text": [
      "/opt/jupyterhub/anaconda/lib/python3.9/site-packages/sklearn/metrics/_classification.py:1308: UndefinedMetricWarning: Precision is ill-defined and being set to 0.0 in labels with no predicted samples. Use `zero_division` parameter to control this behavior.\n",
      "  _warn_prf(average, modifier, msg_start, len(result))\n"
     ]
    },
    {
     "name": "stdout",
     "output_type": "stream",
     "text": [
      " 86 5.32s trainloss=0.69316 validloss=0.69274 accuracy_score=0.51919 \n"
     ]
    },
    {
     "name": "stderr",
     "output_type": "stream",
     "text": [
      "/opt/jupyterhub/anaconda/lib/python3.9/site-packages/sklearn/metrics/_classification.py:1308: UndefinedMetricWarning: Precision is ill-defined and being set to 0.0 in labels with no predicted samples. Use `zero_division` parameter to control this behavior.\n",
      "  _warn_prf(average, modifier, msg_start, len(result))\n"
     ]
    },
    {
     "name": "stdout",
     "output_type": "stream",
     "text": [
      " 87 5.43s trainloss=0.69312 validloss=0.69569 accuracy_score=0.48081 \n"
     ]
    },
    {
     "name": "stderr",
     "output_type": "stream",
     "text": [
      "/opt/jupyterhub/anaconda/lib/python3.9/site-packages/sklearn/metrics/_classification.py:1308: UndefinedMetricWarning: Precision is ill-defined and being set to 0.0 in labels with no predicted samples. Use `zero_division` parameter to control this behavior.\n",
      "  _warn_prf(average, modifier, msg_start, len(result))\n"
     ]
    },
    {
     "name": "stdout",
     "output_type": "stream",
     "text": [
      " 88 5.51s trainloss=0.69355 validloss=0.69481 accuracy_score=0.48081 \n"
     ]
    },
    {
     "name": "stderr",
     "output_type": "stream",
     "text": [
      "/opt/jupyterhub/anaconda/lib/python3.9/site-packages/sklearn/metrics/_classification.py:1308: UndefinedMetricWarning: Precision is ill-defined and being set to 0.0 in labels with no predicted samples. Use `zero_division` parameter to control this behavior.\n",
      "  _warn_prf(average, modifier, msg_start, len(result))\n"
     ]
    },
    {
     "name": "stdout",
     "output_type": "stream",
     "text": [
      " 89 5.42s trainloss=0.69364 validloss=0.69435 accuracy_score=0.48081 \n"
     ]
    },
    {
     "name": "stderr",
     "output_type": "stream",
     "text": [
      "/opt/jupyterhub/anaconda/lib/python3.9/site-packages/sklearn/metrics/_classification.py:1308: UndefinedMetricWarning: Precision is ill-defined and being set to 0.0 in labels with no predicted samples. Use `zero_division` parameter to control this behavior.\n",
      "  _warn_prf(average, modifier, msg_start, len(result))\n"
     ]
    },
    {
     "name": "stdout",
     "output_type": "stream",
     "text": [
      " 90 5.40s trainloss=0.69321 validloss=0.69301 accuracy_score=0.51919 \n"
     ]
    },
    {
     "name": "stderr",
     "output_type": "stream",
     "text": [
      "/opt/jupyterhub/anaconda/lib/python3.9/site-packages/sklearn/metrics/_classification.py:1308: UndefinedMetricWarning: Precision is ill-defined and being set to 0.0 in labels with no predicted samples. Use `zero_division` parameter to control this behavior.\n",
      "  _warn_prf(average, modifier, msg_start, len(result))\n"
     ]
    },
    {
     "name": "stdout",
     "output_type": "stream",
     "text": [
      " 91 5.51s trainloss=0.69330 validloss=0.69269 accuracy_score=0.51919 \n"
     ]
    },
    {
     "name": "stderr",
     "output_type": "stream",
     "text": [
      "/opt/jupyterhub/anaconda/lib/python3.9/site-packages/sklearn/metrics/_classification.py:1308: UndefinedMetricWarning: Precision is ill-defined and being set to 0.0 in labels with no predicted samples. Use `zero_division` parameter to control this behavior.\n",
      "  _warn_prf(average, modifier, msg_start, len(result))\n"
     ]
    },
    {
     "name": "stdout",
     "output_type": "stream",
     "text": [
      " 92 5.53s trainloss=0.69313 validloss=0.69529 accuracy_score=0.48081 \n"
     ]
    },
    {
     "name": "stderr",
     "output_type": "stream",
     "text": [
      "/opt/jupyterhub/anaconda/lib/python3.9/site-packages/sklearn/metrics/_classification.py:1308: UndefinedMetricWarning: Precision is ill-defined and being set to 0.0 in labels with no predicted samples. Use `zero_division` parameter to control this behavior.\n",
      "  _warn_prf(average, modifier, msg_start, len(result))\n"
     ]
    },
    {
     "name": "stdout",
     "output_type": "stream",
     "text": [
      " 93 5.46s trainloss=0.69371 validloss=0.69383 accuracy_score=0.48081 \n"
     ]
    },
    {
     "name": "stderr",
     "output_type": "stream",
     "text": [
      "/opt/jupyterhub/anaconda/lib/python3.9/site-packages/sklearn/metrics/_classification.py:1308: UndefinedMetricWarning: Precision is ill-defined and being set to 0.0 in labels with no predicted samples. Use `zero_division` parameter to control this behavior.\n",
      "  _warn_prf(average, modifier, msg_start, len(result))\n"
     ]
    },
    {
     "name": "stdout",
     "output_type": "stream",
     "text": [
      " 94 5.49s trainloss=0.69360 validloss=0.69393 accuracy_score=0.48081 \n"
     ]
    },
    {
     "name": "stderr",
     "output_type": "stream",
     "text": [
      "/opt/jupyterhub/anaconda/lib/python3.9/site-packages/sklearn/metrics/_classification.py:1308: UndefinedMetricWarning: Precision is ill-defined and being set to 0.0 in labels with no predicted samples. Use `zero_division` parameter to control this behavior.\n",
      "  _warn_prf(average, modifier, msg_start, len(result))\n"
     ]
    },
    {
     "name": "stdout",
     "output_type": "stream",
     "text": [
      " 95 5.48s trainloss=0.69360 validloss=0.69399 accuracy_score=0.48081 \n"
     ]
    },
    {
     "name": "stderr",
     "output_type": "stream",
     "text": [
      "/opt/jupyterhub/anaconda/lib/python3.9/site-packages/sklearn/metrics/_classification.py:1308: UndefinedMetricWarning: Precision is ill-defined and being set to 0.0 in labels with no predicted samples. Use `zero_division` parameter to control this behavior.\n",
      "  _warn_prf(average, modifier, msg_start, len(result))\n"
     ]
    },
    {
     "name": "stdout",
     "output_type": "stream",
     "text": [
      " 96 4.32s trainloss=0.69339 validloss=0.69435 accuracy_score=0.48081 \n"
     ]
    },
    {
     "name": "stderr",
     "output_type": "stream",
     "text": [
      "/opt/jupyterhub/anaconda/lib/python3.9/site-packages/sklearn/metrics/_classification.py:1308: UndefinedMetricWarning: Precision is ill-defined and being set to 0.0 in labels with no predicted samples. Use `zero_division` parameter to control this behavior.\n",
      "  _warn_prf(average, modifier, msg_start, len(result))\n"
     ]
    },
    {
     "name": "stdout",
     "output_type": "stream",
     "text": [
      " 97 4.09s trainloss=0.69412 validloss=0.69386 accuracy_score=0.48081 \n"
     ]
    },
    {
     "name": "stderr",
     "output_type": "stream",
     "text": [
      "/opt/jupyterhub/anaconda/lib/python3.9/site-packages/sklearn/metrics/_classification.py:1308: UndefinedMetricWarning: Precision is ill-defined and being set to 0.0 in labels with no predicted samples. Use `zero_division` parameter to control this behavior.\n",
      "  _warn_prf(average, modifier, msg_start, len(result))\n"
     ]
    },
    {
     "name": "stdout",
     "output_type": "stream",
     "text": [
      " 98 4.10s trainloss=0.69336 validloss=0.69396 accuracy_score=0.48081 \n"
     ]
    },
    {
     "name": "stderr",
     "output_type": "stream",
     "text": [
      "/opt/jupyterhub/anaconda/lib/python3.9/site-packages/sklearn/metrics/_classification.py:1308: UndefinedMetricWarning: Precision is ill-defined and being set to 0.0 in labels with no predicted samples. Use `zero_division` parameter to control this behavior.\n",
      "  _warn_prf(average, modifier, msg_start, len(result))\n"
     ]
    },
    {
     "name": "stdout",
     "output_type": "stream",
     "text": [
      " 99 4.09s trainloss=0.69339 validloss=0.69460 accuracy_score=0.48081 \n",
      "100 4.20s trainloss=0.69348 validloss=0.69435 accuracy_score=0.48081 \n"
     ]
    },
    {
     "name": "stderr",
     "output_type": "stream",
     "text": [
      "/opt/jupyterhub/anaconda/lib/python3.9/site-packages/sklearn/metrics/_classification.py:1308: UndefinedMetricWarning: Precision is ill-defined and being set to 0.0 in labels with no predicted samples. Use `zero_division` parameter to control this behavior.\n",
      "  _warn_prf(average, modifier, msg_start, len(result))\n"
     ]
    }
   ],
   "source": [
    "rn18_trainer.train(100, lr=0.01, weight_decay=0.8)"
   ]
  },
  {
   "cell_type": "code",
   "execution_count": 44,
   "id": "fb47e12d",
   "metadata": {},
   "outputs": [
    {
     "data": {
      "image/png": "[encoded data removed]",
      "text/plain": [
       "<Figure size 432x288 with 1 Axes>"
      ]
     },
     "metadata": {
      "needs_background": "light"
     },
     "output_type": "display_data"
    }
   ],
   "source": [
    "rn18_trainer.learning_curve()"
   ]
  },
  {
   "cell_type": "code",
   "execution_count": 45,
   "id": "d6a7a010",
   "metadata": {},
   "outputs": [
    {
     "data": {
      "image/png": "[encoded data removed]",
      "text/plain": [
       "<Figure size 432x288 with 1 Axes>"
      ]
     },
     "metadata": {
      "needs_background": "light"
     },
     "output_type": "display_data"
    }
   ],
   "source": [
    "rn18_trainer.learning_curve(y='accuracy_score')"
   ]
  },
  {
   "cell_type": "code",
   "execution_count": 46,
   "id": "ce37c364",
   "metadata": {},
   "outputs": [
    {
     "name": "stdout",
     "output_type": "stream",
     "text": [
      "     accuracy_score  epoch  prec_drinking  recall_drinking  recall_other\n",
      "51         0.731377   26.0       0.776471         0.619718      0.834783\n",
      "47         0.723476   24.0       0.687371         0.779343      0.671739\n",
      "29         0.711061   15.0       0.642140         0.901408      0.534783\n",
      "45         0.708804   23.0       0.703883         0.680751      0.734783\n",
      "67         0.693002   34.0       0.682464         0.676056      0.708696\n",
      "..              ...    ...            ...              ...           ...\n",
      "127        0.480813   64.0       0.480813         1.000000      0.000000\n",
      "131        0.480813   66.0       0.480813         1.000000      0.000000\n",
      "199        0.480813  100.0       0.480813         1.000000      0.000000\n",
      "53         0.479684   27.0       0.480226         0.997653      0.000000\n",
      "43         0.478555   22.0       0.479638         0.995305      0.000000\n",
      "\n",
      "[100 rows x 5 columns]\n"
     ]
    }
   ],
   "source": [
    "sort_epochs(rn18_trainer.evaluator, 'accuracy_score')"
   ]
  },
  {
   "cell_type": "markdown",
   "id": "71d52132",
   "metadata": {},
   "source": [
    "# resnet 34"
   ]
  },
  {
   "cell_type": "code",
   "execution_count": 47,
   "id": "8adab329",
   "metadata": {},
   "outputs": [],
   "source": [
    "rn34 = models.resnet34(pretrained=True)\n",
    "rn34.conv1 = nn.Conv2d(1, rn34.conv1.out_channels,\n",
    "              kernel_size=rn34.conv1.kernel_size[0], \n",
    "                      stride=rn34.conv1.stride[0], \n",
    "                      padding=rn34.conv1.padding[0])\n",
    "num_ftrs = rn34.fc.in_features\n",
    "rn34.fc = nn.Linear(num_ftrs, 2)\n",
    "\n",
    "rn34.post_forward = post_forward\n",
    "\n",
    "rn34_trainer = trainer(rn18, nn.CrossEntropyLoss(weight=normedWeights), train_loader, valid_loader, test_loader, metrics=metrics, gpu=True)"
   ]
  },
  {
   "cell_type": "code",
   "execution_count": 48,
   "id": "7625f9cb",
   "metadata": {},
   "outputs": [
    {
     "data": {
      "application/vnd.jupyter.widget-view+json": {
       "model_id": "",
       "version_major": 2,
       "version_minor": 0
      },
      "text/plain": [
       "Total:   0%|          | 0/448000 [00:00<?, ?it/s]"
      ]
     },
     "metadata": {},
     "output_type": "display_data"
    },
    {
     "name": "stderr",
     "output_type": "stream",
     "text": [
      "/opt/jupyterhub/anaconda/lib/python3.9/site-packages/sklearn/metrics/_classification.py:1308: UndefinedMetricWarning: Precision is ill-defined and being set to 0.0 in labels with no predicted samples. Use `zero_division` parameter to control this behavior.\n",
      "  _warn_prf(average, modifier, msg_start, len(result))\n"
     ]
    },
    {
     "name": "stdout",
     "output_type": "stream",
     "text": [
      "  1 5.04s trainloss=0.69362 validloss=0.69298 accuracy_score=0.51919 \n"
     ]
    },
    {
     "name": "stderr",
     "output_type": "stream",
     "text": [
      "/opt/jupyterhub/anaconda/lib/python3.9/site-packages/sklearn/metrics/_classification.py:1308: UndefinedMetricWarning: Precision is ill-defined and being set to 0.0 in labels with no predicted samples. Use `zero_division` parameter to control this behavior.\n",
      "  _warn_prf(average, modifier, msg_start, len(result))\n"
     ]
    },
    {
     "name": "stdout",
     "output_type": "stream",
     "text": [
      "  2 5.06s trainloss=0.69340 validloss=0.69405 accuracy_score=0.48081 \n"
     ]
    },
    {
     "name": "stderr",
     "output_type": "stream",
     "text": [
      "/opt/jupyterhub/anaconda/lib/python3.9/site-packages/sklearn/metrics/_classification.py:1308: UndefinedMetricWarning: Precision is ill-defined and being set to 0.0 in labels with no predicted samples. Use `zero_division` parameter to control this behavior.\n",
      "  _warn_prf(average, modifier, msg_start, len(result))\n"
     ]
    },
    {
     "name": "stdout",
     "output_type": "stream",
     "text": [
      "  3 5.01s trainloss=0.69352 validloss=0.69556 accuracy_score=0.48081 \n"
     ]
    },
    {
     "name": "stderr",
     "output_type": "stream",
     "text": [
      "/opt/jupyterhub/anaconda/lib/python3.9/site-packages/sklearn/metrics/_classification.py:1308: UndefinedMetricWarning: Precision is ill-defined and being set to 0.0 in labels with no predicted samples. Use `zero_division` parameter to control this behavior.\n",
      "  _warn_prf(average, modifier, msg_start, len(result))\n"
     ]
    },
    {
     "name": "stdout",
     "output_type": "stream",
     "text": [
      "  4 5.00s trainloss=0.69377 validloss=0.69375 accuracy_score=0.48081 \n"
     ]
    },
    {
     "name": "stderr",
     "output_type": "stream",
     "text": [
      "/opt/jupyterhub/anaconda/lib/python3.9/site-packages/sklearn/metrics/_classification.py:1308: UndefinedMetricWarning: Precision is ill-defined and being set to 0.0 in labels with no predicted samples. Use `zero_division` parameter to control this behavior.\n",
      "  _warn_prf(average, modifier, msg_start, len(result))\n"
     ]
    },
    {
     "name": "stdout",
     "output_type": "stream",
     "text": [
      "  5 5.01s trainloss=0.69347 validloss=0.69334 accuracy_score=0.48081 \n"
     ]
    },
    {
     "name": "stderr",
     "output_type": "stream",
     "text": [
      "/opt/jupyterhub/anaconda/lib/python3.9/site-packages/sklearn/metrics/_classification.py:1308: UndefinedMetricWarning: Precision is ill-defined and being set to 0.0 in labels with no predicted samples. Use `zero_division` parameter to control this behavior.\n",
      "  _warn_prf(average, modifier, msg_start, len(result))\n"
     ]
    },
    {
     "name": "stdout",
     "output_type": "stream",
     "text": [
      "  6 5.01s trainloss=0.69338 validloss=0.69279 accuracy_score=0.51919 \n"
     ]
    },
    {
     "name": "stderr",
     "output_type": "stream",
     "text": [
      "/opt/jupyterhub/anaconda/lib/python3.9/site-packages/sklearn/metrics/_classification.py:1308: UndefinedMetricWarning: Precision is ill-defined and being set to 0.0 in labels with no predicted samples. Use `zero_division` parameter to control this behavior.\n",
      "  _warn_prf(average, modifier, msg_start, len(result))\n"
     ]
    },
    {
     "name": "stdout",
     "output_type": "stream",
     "text": [
      "  7 5.00s trainloss=0.69327 validloss=0.69416 accuracy_score=0.48081 \n"
     ]
    },
    {
     "name": "stderr",
     "output_type": "stream",
     "text": [
      "/opt/jupyterhub/anaconda/lib/python3.9/site-packages/sklearn/metrics/_classification.py:1308: UndefinedMetricWarning: Precision is ill-defined and being set to 0.0 in labels with no predicted samples. Use `zero_division` parameter to control this behavior.\n",
      "  _warn_prf(average, modifier, msg_start, len(result))\n",
      "/opt/jupyterhub/anaconda/lib/python3.9/site-packages/sklearn/metrics/_classification.py:1308: UndefinedMetricWarning: Precision is ill-defined and being set to 0.0 in labels with no predicted samples. Use `zero_division` parameter to control this behavior.\n",
      "  _warn_prf(average, modifier, msg_start, len(result))\n"
     ]
    },
    {
     "name": "stdout",
     "output_type": "stream",
     "text": [
      "  8 5.03s trainloss=0.69352 validloss=0.69370 accuracy_score=0.48081 \n"
     ]
    },
    {
     "name": "stderr",
     "output_type": "stream",
     "text": [
      "/opt/jupyterhub/anaconda/lib/python3.9/site-packages/sklearn/metrics/_classification.py:1308: UndefinedMetricWarning: Precision is ill-defined and being set to 0.0 in labels with no predicted samples. Use `zero_division` parameter to control this behavior.\n",
      "  _warn_prf(average, modifier, msg_start, len(result))\n"
     ]
    },
    {
     "name": "stdout",
     "output_type": "stream",
     "text": [
      "  9 4.09s trainloss=0.69341 validloss=0.69381 accuracy_score=0.48081 \n"
     ]
    },
    {
     "name": "stderr",
     "output_type": "stream",
     "text": [
      "/opt/jupyterhub/anaconda/lib/python3.9/site-packages/sklearn/metrics/_classification.py:1308: UndefinedMetricWarning: Precision is ill-defined and being set to 0.0 in labels with no predicted samples. Use `zero_division` parameter to control this behavior.\n",
      "  _warn_prf(average, modifier, msg_start, len(result))\n"
     ]
    },
    {
     "name": "stdout",
     "output_type": "stream",
     "text": [
      " 10 4.09s trainloss=0.69391 validloss=0.69326 accuracy_score=0.48081 \n"
     ]
    },
    {
     "name": "stderr",
     "output_type": "stream",
     "text": [
      "/opt/jupyterhub/anaconda/lib/python3.9/site-packages/sklearn/metrics/_classification.py:1308: UndefinedMetricWarning: Precision is ill-defined and being set to 0.0 in labels with no predicted samples. Use `zero_division` parameter to control this behavior.\n",
      "  _warn_prf(average, modifier, msg_start, len(result))\n"
     ]
    },
    {
     "name": "stdout",
     "output_type": "stream",
     "text": [
      " 11 4.08s trainloss=0.69344 validloss=0.69262 accuracy_score=0.51919 \n"
     ]
    },
    {
     "name": "stderr",
     "output_type": "stream",
     "text": [
      "/opt/jupyterhub/anaconda/lib/python3.9/site-packages/sklearn/metrics/_classification.py:1308: UndefinedMetricWarning: Precision is ill-defined and being set to 0.0 in labels with no predicted samples. Use `zero_division` parameter to control this behavior.\n",
      "  _warn_prf(average, modifier, msg_start, len(result))\n"
     ]
    },
    {
     "name": "stdout",
     "output_type": "stream",
     "text": [
      " 12 4.08s trainloss=0.69328 validloss=0.69386 accuracy_score=0.48081 \n"
     ]
    },
    {
     "name": "stderr",
     "output_type": "stream",
     "text": [
      "/opt/jupyterhub/anaconda/lib/python3.9/site-packages/sklearn/metrics/_classification.py:1308: UndefinedMetricWarning: Precision is ill-defined and being set to 0.0 in labels with no predicted samples. Use `zero_division` parameter to control this behavior.\n",
      "  _warn_prf(average, modifier, msg_start, len(result))\n"
     ]
    },
    {
     "name": "stdout",
     "output_type": "stream",
     "text": [
      " 13 4.08s trainloss=0.69343 validloss=0.69310 accuracy_score=0.51919 \n"
     ]
    },
    {
     "name": "stderr",
     "output_type": "stream",
     "text": [
      "/opt/jupyterhub/anaconda/lib/python3.9/site-packages/sklearn/metrics/_classification.py:1308: UndefinedMetricWarning: Precision is ill-defined and being set to 0.0 in labels with no predicted samples. Use `zero_division` parameter to control this behavior.\n",
      "  _warn_prf(average, modifier, msg_start, len(result))\n"
     ]
    },
    {
     "name": "stdout",
     "output_type": "stream",
     "text": [
      " 14 4.08s trainloss=0.69358 validloss=0.69375 accuracy_score=0.48081 \n"
     ]
    },
    {
     "name": "stderr",
     "output_type": "stream",
     "text": [
      "/opt/jupyterhub/anaconda/lib/python3.9/site-packages/sklearn/metrics/_classification.py:1308: UndefinedMetricWarning: Precision is ill-defined and being set to 0.0 in labels with no predicted samples. Use `zero_division` parameter to control this behavior.\n",
      "  _warn_prf(average, modifier, msg_start, len(result))\n"
     ]
    },
    {
     "name": "stdout",
     "output_type": "stream",
     "text": [
      " 15 4.09s trainloss=0.69338 validloss=0.69262 accuracy_score=0.51919 \n"
     ]
    },
    {
     "name": "stderr",
     "output_type": "stream",
     "text": [
      "/opt/jupyterhub/anaconda/lib/python3.9/site-packages/sklearn/metrics/_classification.py:1308: UndefinedMetricWarning: Precision is ill-defined and being set to 0.0 in labels with no predicted samples. Use `zero_division` parameter to control this behavior.\n",
      "  _warn_prf(average, modifier, msg_start, len(result))\n"
     ]
    },
    {
     "name": "stdout",
     "output_type": "stream",
     "text": [
      " 16 4.08s trainloss=0.69356 validloss=0.69350 accuracy_score=0.48081 \n"
     ]
    },
    {
     "name": "stderr",
     "output_type": "stream",
     "text": [
      "/opt/jupyterhub/anaconda/lib/python3.9/site-packages/sklearn/metrics/_classification.py:1308: UndefinedMetricWarning: Precision is ill-defined and being set to 0.0 in labels with no predicted samples. Use `zero_division` parameter to control this behavior.\n",
      "  _warn_prf(average, modifier, msg_start, len(result))\n",
      "/opt/jupyterhub/anaconda/lib/python3.9/site-packages/sklearn/metrics/_classification.py:1308: UndefinedMetricWarning: Precision is ill-defined and being set to 0.0 in labels with no predicted samples. Use `zero_division` parameter to control this behavior.\n",
      "  _warn_prf(average, modifier, msg_start, len(result))\n"
     ]
    },
    {
     "name": "stdout",
     "output_type": "stream",
     "text": [
      " 17 4.08s trainloss=0.69345 validloss=0.69358 accuracy_score=0.48081 \n"
     ]
    },
    {
     "name": "stderr",
     "output_type": "stream",
     "text": [
      "/opt/jupyterhub/anaconda/lib/python3.9/site-packages/sklearn/metrics/_classification.py:1308: UndefinedMetricWarning: Precision is ill-defined and being set to 0.0 in labels with no predicted samples. Use `zero_division` parameter to control this behavior.\n",
      "  _warn_prf(average, modifier, msg_start, len(result))\n"
     ]
    },
    {
     "name": "stdout",
     "output_type": "stream",
     "text": [
      " 18 4.69s trainloss=0.69392 validloss=0.69331 accuracy_score=0.48081 \n"
     ]
    },
    {
     "name": "stderr",
     "output_type": "stream",
     "text": [
      "/opt/jupyterhub/anaconda/lib/python3.9/site-packages/sklearn/metrics/_classification.py:1308: UndefinedMetricWarning: Precision is ill-defined and being set to 0.0 in labels with no predicted samples. Use `zero_division` parameter to control this behavior.\n",
      "  _warn_prf(average, modifier, msg_start, len(result))\n"
     ]
    },
    {
     "name": "stdout",
     "output_type": "stream",
     "text": [
      " 19 6.08s trainloss=0.69371 validloss=0.69466 accuracy_score=0.48081 \n"
     ]
    },
    {
     "name": "stderr",
     "output_type": "stream",
     "text": [
      "/opt/jupyterhub/anaconda/lib/python3.9/site-packages/sklearn/metrics/_classification.py:1308: UndefinedMetricWarning: Precision is ill-defined and being set to 0.0 in labels with no predicted samples. Use `zero_division` parameter to control this behavior.\n",
      "  _warn_prf(average, modifier, msg_start, len(result))\n"
     ]
    },
    {
     "name": "stdout",
     "output_type": "stream",
     "text": [
      " 20 5.89s trainloss=0.69333 validloss=0.69329 accuracy_score=0.48081 \n"
     ]
    },
    {
     "name": "stderr",
     "output_type": "stream",
     "text": [
      "/opt/jupyterhub/anaconda/lib/python3.9/site-packages/sklearn/metrics/_classification.py:1308: UndefinedMetricWarning: Precision is ill-defined and being set to 0.0 in labels with no predicted samples. Use `zero_division` parameter to control this behavior.\n",
      "  _warn_prf(average, modifier, msg_start, len(result))\n"
     ]
    },
    {
     "name": "stdout",
     "output_type": "stream",
     "text": [
      " 21 5.82s trainloss=0.69351 validloss=0.69321 accuracy_score=0.48081 \n"
     ]
    },
    {
     "name": "stderr",
     "output_type": "stream",
     "text": [
      "/opt/jupyterhub/anaconda/lib/python3.9/site-packages/sklearn/metrics/_classification.py:1308: UndefinedMetricWarning: Precision is ill-defined and being set to 0.0 in labels with no predicted samples. Use `zero_division` parameter to control this behavior.\n",
      "  _warn_prf(average, modifier, msg_start, len(result))\n"
     ]
    },
    {
     "name": "stdout",
     "output_type": "stream",
     "text": [
      " 22 5.84s trainloss=0.69346 validloss=0.69427 accuracy_score=0.48081 \n"
     ]
    },
    {
     "name": "stderr",
     "output_type": "stream",
     "text": [
      "/opt/jupyterhub/anaconda/lib/python3.9/site-packages/sklearn/metrics/_classification.py:1308: UndefinedMetricWarning: Precision is ill-defined and being set to 0.0 in labels with no predicted samples. Use `zero_division` parameter to control this behavior.\n",
      "  _warn_prf(average, modifier, msg_start, len(result))\n"
     ]
    },
    {
     "name": "stdout",
     "output_type": "stream",
     "text": [
      " 23 5.82s trainloss=0.69347 validloss=0.69336 accuracy_score=0.48081 \n"
     ]
    },
    {
     "name": "stderr",
     "output_type": "stream",
     "text": [
      "/opt/jupyterhub/anaconda/lib/python3.9/site-packages/sklearn/metrics/_classification.py:1308: UndefinedMetricWarning: Precision is ill-defined and being set to 0.0 in labels with no predicted samples. Use `zero_division` parameter to control this behavior.\n",
      "  _warn_prf(average, modifier, msg_start, len(result))\n"
     ]
    },
    {
     "name": "stdout",
     "output_type": "stream",
     "text": [
      " 24 5.98s trainloss=0.69386 validloss=0.69491 accuracy_score=0.48081 \n"
     ]
    },
    {
     "name": "stderr",
     "output_type": "stream",
     "text": [
      "/opt/jupyterhub/anaconda/lib/python3.9/site-packages/sklearn/metrics/_classification.py:1308: UndefinedMetricWarning: Precision is ill-defined and being set to 0.0 in labels with no predicted samples. Use `zero_division` parameter to control this behavior.\n",
      "  _warn_prf(average, modifier, msg_start, len(result))\n"
     ]
    },
    {
     "name": "stdout",
     "output_type": "stream",
     "text": [
      " 25 5.90s trainloss=0.69322 validloss=0.69299 accuracy_score=0.51919 \n"
     ]
    },
    {
     "name": "stderr",
     "output_type": "stream",
     "text": [
      "/opt/jupyterhub/anaconda/lib/python3.9/site-packages/sklearn/metrics/_classification.py:1308: UndefinedMetricWarning: Precision is ill-defined and being set to 0.0 in labels with no predicted samples. Use `zero_division` parameter to control this behavior.\n",
      "  _warn_prf(average, modifier, msg_start, len(result))\n"
     ]
    },
    {
     "name": "stdout",
     "output_type": "stream",
     "text": [
      " 26 5.87s trainloss=0.69336 validloss=0.69425 accuracy_score=0.48081 \n"
     ]
    },
    {
     "name": "stderr",
     "output_type": "stream",
     "text": [
      "/opt/jupyterhub/anaconda/lib/python3.9/site-packages/sklearn/metrics/_classification.py:1308: UndefinedMetricWarning: Precision is ill-defined and being set to 0.0 in labels with no predicted samples. Use `zero_division` parameter to control this behavior.\n",
      "  _warn_prf(average, modifier, msg_start, len(result))\n"
     ]
    },
    {
     "name": "stdout",
     "output_type": "stream",
     "text": [
      " 27 5.92s trainloss=0.69341 validloss=0.69293 accuracy_score=0.51919 \n"
     ]
    },
    {
     "name": "stderr",
     "output_type": "stream",
     "text": [
      "/opt/jupyterhub/anaconda/lib/python3.9/site-packages/sklearn/metrics/_classification.py:1308: UndefinedMetricWarning: Precision is ill-defined and being set to 0.0 in labels with no predicted samples. Use `zero_division` parameter to control this behavior.\n",
      "  _warn_prf(average, modifier, msg_start, len(result))\n"
     ]
    },
    {
     "name": "stdout",
     "output_type": "stream",
     "text": [
      " 28 5.64s trainloss=0.69316 validloss=0.69531 accuracy_score=0.48081 \n"
     ]
    },
    {
     "name": "stderr",
     "output_type": "stream",
     "text": [
      "/opt/jupyterhub/anaconda/lib/python3.9/site-packages/sklearn/metrics/_classification.py:1308: UndefinedMetricWarning: Precision is ill-defined and being set to 0.0 in labels with no predicted samples. Use `zero_division` parameter to control this behavior.\n",
      "  _warn_prf(average, modifier, msg_start, len(result))\n"
     ]
    },
    {
     "name": "stdout",
     "output_type": "stream",
     "text": [
      " 29 5.26s trainloss=0.69359 validloss=0.69326 accuracy_score=0.48081 \n"
     ]
    },
    {
     "name": "stderr",
     "output_type": "stream",
     "text": [
      "/opt/jupyterhub/anaconda/lib/python3.9/site-packages/sklearn/metrics/_classification.py:1308: UndefinedMetricWarning: Precision is ill-defined and being set to 0.0 in labels with no predicted samples. Use `zero_division` parameter to control this behavior.\n",
      "  _warn_prf(average, modifier, msg_start, len(result))\n"
     ]
    },
    {
     "name": "stdout",
     "output_type": "stream",
     "text": [
      " 30 5.15s trainloss=0.69362 validloss=0.69369 accuracy_score=0.48081 \n"
     ]
    },
    {
     "name": "stderr",
     "output_type": "stream",
     "text": [
      "/opt/jupyterhub/anaconda/lib/python3.9/site-packages/sklearn/metrics/_classification.py:1308: UndefinedMetricWarning: Precision is ill-defined and being set to 0.0 in labels with no predicted samples. Use `zero_division` parameter to control this behavior.\n",
      "  _warn_prf(average, modifier, msg_start, len(result))\n",
      "/opt/jupyterhub/anaconda/lib/python3.9/site-packages/sklearn/metrics/_classification.py:1308: UndefinedMetricWarning: Precision is ill-defined and being set to 0.0 in labels with no predicted samples. Use `zero_division` parameter to control this behavior.\n",
      "  _warn_prf(average, modifier, msg_start, len(result))\n"
     ]
    },
    {
     "name": "stdout",
     "output_type": "stream",
     "text": [
      " 31 5.19s trainloss=0.69331 validloss=0.69307 accuracy_score=0.51919 \n"
     ]
    },
    {
     "name": "stderr",
     "output_type": "stream",
     "text": [
      "/opt/jupyterhub/anaconda/lib/python3.9/site-packages/sklearn/metrics/_classification.py:1308: UndefinedMetricWarning: Precision is ill-defined and being set to 0.0 in labels with no predicted samples. Use `zero_division` parameter to control this behavior.\n",
      "  _warn_prf(average, modifier, msg_start, len(result))\n"
     ]
    },
    {
     "name": "stdout",
     "output_type": "stream",
     "text": [
      " 32 5.16s trainloss=0.69333 validloss=0.69371 accuracy_score=0.48081 \n"
     ]
    },
    {
     "name": "stderr",
     "output_type": "stream",
     "text": [
      "/opt/jupyterhub/anaconda/lib/python3.9/site-packages/sklearn/metrics/_classification.py:1308: UndefinedMetricWarning: Precision is ill-defined and being set to 0.0 in labels with no predicted samples. Use `zero_division` parameter to control this behavior.\n",
      "  _warn_prf(average, modifier, msg_start, len(result))\n"
     ]
    },
    {
     "name": "stdout",
     "output_type": "stream",
     "text": [
      " 33 5.30s trainloss=0.69338 validloss=0.69439 accuracy_score=0.48081 \n"
     ]
    },
    {
     "name": "stderr",
     "output_type": "stream",
     "text": [
      "/opt/jupyterhub/anaconda/lib/python3.9/site-packages/sklearn/metrics/_classification.py:1308: UndefinedMetricWarning: Precision is ill-defined and being set to 0.0 in labels with no predicted samples. Use `zero_division` parameter to control this behavior.\n",
      "  _warn_prf(average, modifier, msg_start, len(result))\n",
      "/opt/jupyterhub/anaconda/lib/python3.9/site-packages/sklearn/metrics/_classification.py:1308: UndefinedMetricWarning: Precision is ill-defined and being set to 0.0 in labels with no predicted samples. Use `zero_division` parameter to control this behavior.\n",
      "  _warn_prf(average, modifier, msg_start, len(result))\n"
     ]
    },
    {
     "name": "stdout",
     "output_type": "stream",
     "text": [
      " 34 5.20s trainloss=0.69362 validloss=0.69345 accuracy_score=0.48081 \n"
     ]
    },
    {
     "name": "stderr",
     "output_type": "stream",
     "text": [
      "/opt/jupyterhub/anaconda/lib/python3.9/site-packages/sklearn/metrics/_classification.py:1308: UndefinedMetricWarning: Precision is ill-defined and being set to 0.0 in labels with no predicted samples. Use `zero_division` parameter to control this behavior.\n",
      "  _warn_prf(average, modifier, msg_start, len(result))\n"
     ]
    },
    {
     "name": "stdout",
     "output_type": "stream",
     "text": [
      " 35 5.26s trainloss=0.69321 validloss=0.69275 accuracy_score=0.51919 \n"
     ]
    },
    {
     "name": "stderr",
     "output_type": "stream",
     "text": [
      "/opt/jupyterhub/anaconda/lib/python3.9/site-packages/sklearn/metrics/_classification.py:1308: UndefinedMetricWarning: Precision is ill-defined and being set to 0.0 in labels with no predicted samples. Use `zero_division` parameter to control this behavior.\n",
      "  _warn_prf(average, modifier, msg_start, len(result))\n"
     ]
    },
    {
     "name": "stdout",
     "output_type": "stream",
     "text": [
      " 36 6.36s trainloss=0.69356 validloss=0.69345 accuracy_score=0.48081 \n"
     ]
    },
    {
     "name": "stderr",
     "output_type": "stream",
     "text": [
      "/opt/jupyterhub/anaconda/lib/python3.9/site-packages/sklearn/metrics/_classification.py:1308: UndefinedMetricWarning: Precision is ill-defined and being set to 0.0 in labels with no predicted samples. Use `zero_division` parameter to control this behavior.\n",
      "  _warn_prf(average, modifier, msg_start, len(result))\n"
     ]
    },
    {
     "name": "stdout",
     "output_type": "stream",
     "text": [
      " 37 8.37s trainloss=0.69346 validloss=0.69405 accuracy_score=0.48081 \n"
     ]
    },
    {
     "name": "stderr",
     "output_type": "stream",
     "text": [
      "/opt/jupyterhub/anaconda/lib/python3.9/site-packages/sklearn/metrics/_classification.py:1308: UndefinedMetricWarning: Precision is ill-defined and being set to 0.0 in labels with no predicted samples. Use `zero_division` parameter to control this behavior.\n",
      "  _warn_prf(average, modifier, msg_start, len(result))\n"
     ]
    },
    {
     "name": "stdout",
     "output_type": "stream",
     "text": [
      " 38 8.23s trainloss=0.69339 validloss=0.69403 accuracy_score=0.48081 \n"
     ]
    },
    {
     "name": "stderr",
     "output_type": "stream",
     "text": [
      "/opt/jupyterhub/anaconda/lib/python3.9/site-packages/sklearn/metrics/_classification.py:1308: UndefinedMetricWarning: Precision is ill-defined and being set to 0.0 in labels with no predicted samples. Use `zero_division` parameter to control this behavior.\n",
      "  _warn_prf(average, modifier, msg_start, len(result))\n"
     ]
    },
    {
     "name": "stdout",
     "output_type": "stream",
     "text": [
      " 39 7.36s trainloss=0.69343 validloss=0.69396 accuracy_score=0.48081 \n"
     ]
    },
    {
     "name": "stderr",
     "output_type": "stream",
     "text": [
      "/opt/jupyterhub/anaconda/lib/python3.9/site-packages/sklearn/metrics/_classification.py:1308: UndefinedMetricWarning: Precision is ill-defined and being set to 0.0 in labels with no predicted samples. Use `zero_division` parameter to control this behavior.\n",
      "  _warn_prf(average, modifier, msg_start, len(result))\n"
     ]
    },
    {
     "name": "stdout",
     "output_type": "stream",
     "text": [
      " 40 7.30s trainloss=0.69328 validloss=0.69463 accuracy_score=0.48081 \n"
     ]
    },
    {
     "name": "stderr",
     "output_type": "stream",
     "text": [
      "/opt/jupyterhub/anaconda/lib/python3.9/site-packages/sklearn/metrics/_classification.py:1308: UndefinedMetricWarning: Precision is ill-defined and being set to 0.0 in labels with no predicted samples. Use `zero_division` parameter to control this behavior.\n",
      "  _warn_prf(average, modifier, msg_start, len(result))\n",
      "/opt/jupyterhub/anaconda/lib/python3.9/site-packages/sklearn/metrics/_classification.py:1308: UndefinedMetricWarning: Precision is ill-defined and being set to 0.0 in labels with no predicted samples. Use `zero_division` parameter to control this behavior.\n",
      "  _warn_prf(average, modifier, msg_start, len(result))\n"
     ]
    },
    {
     "name": "stdout",
     "output_type": "stream",
     "text": [
      " 41 7.34s trainloss=0.69335 validloss=0.69351 accuracy_score=0.48081 \n"
     ]
    },
    {
     "name": "stderr",
     "output_type": "stream",
     "text": [
      "/opt/jupyterhub/anaconda/lib/python3.9/site-packages/sklearn/metrics/_classification.py:1308: UndefinedMetricWarning: Precision is ill-defined and being set to 0.0 in labels with no predicted samples. Use `zero_division` parameter to control this behavior.\n",
      "  _warn_prf(average, modifier, msg_start, len(result))\n"
     ]
    },
    {
     "name": "stdout",
     "output_type": "stream",
     "text": [
      " 42 7.39s trainloss=0.69334 validloss=0.69307 accuracy_score=0.51919 \n"
     ]
    },
    {
     "name": "stderr",
     "output_type": "stream",
     "text": [
      "/opt/jupyterhub/anaconda/lib/python3.9/site-packages/sklearn/metrics/_classification.py:1308: UndefinedMetricWarning: Precision is ill-defined and being set to 0.0 in labels with no predicted samples. Use `zero_division` parameter to control this behavior.\n",
      "  _warn_prf(average, modifier, msg_start, len(result))\n"
     ]
    },
    {
     "name": "stdout",
     "output_type": "stream",
     "text": [
      " 43 7.31s trainloss=0.69383 validloss=0.69332 accuracy_score=0.48081 \n"
     ]
    },
    {
     "name": "stderr",
     "output_type": "stream",
     "text": [
      "/opt/jupyterhub/anaconda/lib/python3.9/site-packages/sklearn/metrics/_classification.py:1308: UndefinedMetricWarning: Precision is ill-defined and being set to 0.0 in labels with no predicted samples. Use `zero_division` parameter to control this behavior.\n",
      "  _warn_prf(average, modifier, msg_start, len(result))\n"
     ]
    },
    {
     "name": "stdout",
     "output_type": "stream",
     "text": [
      " 44 7.25s trainloss=0.69323 validloss=0.69277 accuracy_score=0.51919 \n"
     ]
    },
    {
     "name": "stderr",
     "output_type": "stream",
     "text": [
      "/opt/jupyterhub/anaconda/lib/python3.9/site-packages/sklearn/metrics/_classification.py:1308: UndefinedMetricWarning: Precision is ill-defined and being set to 0.0 in labels with no predicted samples. Use `zero_division` parameter to control this behavior.\n",
      "  _warn_prf(average, modifier, msg_start, len(result))\n"
     ]
    },
    {
     "name": "stdout",
     "output_type": "stream",
     "text": [
      " 45 5.15s trainloss=0.69363 validloss=0.69279 accuracy_score=0.51919 \n"
     ]
    },
    {
     "name": "stderr",
     "output_type": "stream",
     "text": [
      "/opt/jupyterhub/anaconda/lib/python3.9/site-packages/sklearn/metrics/_classification.py:1308: UndefinedMetricWarning: Precision is ill-defined and being set to 0.0 in labels with no predicted samples. Use `zero_division` parameter to control this behavior.\n",
      "  _warn_prf(average, modifier, msg_start, len(result))\n"
     ]
    },
    {
     "name": "stdout",
     "output_type": "stream",
     "text": [
      " 46 4.05s trainloss=0.69351 validloss=0.69358 accuracy_score=0.48081 \n"
     ]
    },
    {
     "name": "stderr",
     "output_type": "stream",
     "text": [
      "/opt/jupyterhub/anaconda/lib/python3.9/site-packages/sklearn/metrics/_classification.py:1308: UndefinedMetricWarning: Precision is ill-defined and being set to 0.0 in labels with no predicted samples. Use `zero_division` parameter to control this behavior.\n",
      "  _warn_prf(average, modifier, msg_start, len(result))\n"
     ]
    },
    {
     "name": "stdout",
     "output_type": "stream",
     "text": [
      " 47 4.09s trainloss=0.69352 validloss=0.69349 accuracy_score=0.48081 \n"
     ]
    },
    {
     "name": "stderr",
     "output_type": "stream",
     "text": [
      "/opt/jupyterhub/anaconda/lib/python3.9/site-packages/sklearn/metrics/_classification.py:1308: UndefinedMetricWarning: Precision is ill-defined and being set to 0.0 in labels with no predicted samples. Use `zero_division` parameter to control this behavior.\n",
      "  _warn_prf(average, modifier, msg_start, len(result))\n",
      "/opt/jupyterhub/anaconda/lib/python3.9/site-packages/sklearn/metrics/_classification.py:1308: UndefinedMetricWarning: Precision is ill-defined and being set to 0.0 in labels with no predicted samples. Use `zero_division` parameter to control this behavior.\n",
      "  _warn_prf(average, modifier, msg_start, len(result))\n"
     ]
    },
    {
     "name": "stdout",
     "output_type": "stream",
     "text": [
      " 48 4.10s trainloss=0.69327 validloss=0.69359 accuracy_score=0.48081 \n"
     ]
    },
    {
     "name": "stderr",
     "output_type": "stream",
     "text": [
      "/opt/jupyterhub/anaconda/lib/python3.9/site-packages/sklearn/metrics/_classification.py:1308: UndefinedMetricWarning: Precision is ill-defined and being set to 0.0 in labels with no predicted samples. Use `zero_division` parameter to control this behavior.\n",
      "  _warn_prf(average, modifier, msg_start, len(result))\n"
     ]
    },
    {
     "name": "stdout",
     "output_type": "stream",
     "text": [
      " 49 4.10s trainloss=0.69332 validloss=0.69347 accuracy_score=0.48081 \n"
     ]
    },
    {
     "name": "stderr",
     "output_type": "stream",
     "text": [
      "/opt/jupyterhub/anaconda/lib/python3.9/site-packages/sklearn/metrics/_classification.py:1308: UndefinedMetricWarning: Precision is ill-defined and being set to 0.0 in labels with no predicted samples. Use `zero_division` parameter to control this behavior.\n",
      "  _warn_prf(average, modifier, msg_start, len(result))\n"
     ]
    },
    {
     "name": "stdout",
     "output_type": "stream",
     "text": [
      " 50 4.10s trainloss=0.69350 validloss=0.69269 accuracy_score=0.51919 \n"
     ]
    },
    {
     "name": "stderr",
     "output_type": "stream",
     "text": [
      "/opt/jupyterhub/anaconda/lib/python3.9/site-packages/sklearn/metrics/_classification.py:1308: UndefinedMetricWarning: Precision is ill-defined and being set to 0.0 in labels with no predicted samples. Use `zero_division` parameter to control this behavior.\n",
      "  _warn_prf(average, modifier, msg_start, len(result))\n"
     ]
    },
    {
     "name": "stdout",
     "output_type": "stream",
     "text": [
      " 51 4.11s trainloss=0.69357 validloss=0.69290 accuracy_score=0.51919 \n"
     ]
    },
    {
     "name": "stderr",
     "output_type": "stream",
     "text": [
      "/opt/jupyterhub/anaconda/lib/python3.9/site-packages/sklearn/metrics/_classification.py:1308: UndefinedMetricWarning: Precision is ill-defined and being set to 0.0 in labels with no predicted samples. Use `zero_division` parameter to control this behavior.\n",
      "  _warn_prf(average, modifier, msg_start, len(result))\n"
     ]
    },
    {
     "name": "stdout",
     "output_type": "stream",
     "text": [
      " 52 4.11s trainloss=0.69339 validloss=0.69327 accuracy_score=0.48081 \n"
     ]
    },
    {
     "name": "stderr",
     "output_type": "stream",
     "text": [
      "/opt/jupyterhub/anaconda/lib/python3.9/site-packages/sklearn/metrics/_classification.py:1308: UndefinedMetricWarning: Precision is ill-defined and being set to 0.0 in labels with no predicted samples. Use `zero_division` parameter to control this behavior.\n",
      "  _warn_prf(average, modifier, msg_start, len(result))\n",
      "/opt/jupyterhub/anaconda/lib/python3.9/site-packages/sklearn/metrics/_classification.py:1308: UndefinedMetricWarning: Precision is ill-defined and being set to 0.0 in labels with no predicted samples. Use `zero_division` parameter to control this behavior.\n",
      "  _warn_prf(average, modifier, msg_start, len(result))\n"
     ]
    },
    {
     "name": "stdout",
     "output_type": "stream",
     "text": [
      " 53 4.18s trainloss=0.69325 validloss=0.69331 accuracy_score=0.48081 \n"
     ]
    },
    {
     "name": "stderr",
     "output_type": "stream",
     "text": [
      "/opt/jupyterhub/anaconda/lib/python3.9/site-packages/sklearn/metrics/_classification.py:1308: UndefinedMetricWarning: Precision is ill-defined and being set to 0.0 in labels with no predicted samples. Use `zero_division` parameter to control this behavior.\n",
      "  _warn_prf(average, modifier, msg_start, len(result))\n"
     ]
    },
    {
     "name": "stdout",
     "output_type": "stream",
     "text": [
      " 54 4.10s trainloss=0.69335 validloss=0.69295 accuracy_score=0.51919 \n"
     ]
    },
    {
     "name": "stderr",
     "output_type": "stream",
     "text": [
      "/opt/jupyterhub/anaconda/lib/python3.9/site-packages/sklearn/metrics/_classification.py:1308: UndefinedMetricWarning: Precision is ill-defined and being set to 0.0 in labels with no predicted samples. Use `zero_division` parameter to control this behavior.\n",
      "  _warn_prf(average, modifier, msg_start, len(result))\n"
     ]
    },
    {
     "name": "stdout",
     "output_type": "stream",
     "text": [
      " 55 4.10s trainloss=0.69376 validloss=0.69288 accuracy_score=0.51919 \n"
     ]
    },
    {
     "name": "stderr",
     "output_type": "stream",
     "text": [
      "/opt/jupyterhub/anaconda/lib/python3.9/site-packages/sklearn/metrics/_classification.py:1308: UndefinedMetricWarning: Precision is ill-defined and being set to 0.0 in labels with no predicted samples. Use `zero_division` parameter to control this behavior.\n",
      "  _warn_prf(average, modifier, msg_start, len(result))\n"
     ]
    },
    {
     "name": "stdout",
     "output_type": "stream",
     "text": [
      " 56 4.09s trainloss=0.69352 validloss=0.69282 accuracy_score=0.51919 \n"
     ]
    },
    {
     "name": "stderr",
     "output_type": "stream",
     "text": [
      "/opt/jupyterhub/anaconda/lib/python3.9/site-packages/sklearn/metrics/_classification.py:1308: UndefinedMetricWarning: Precision is ill-defined and being set to 0.0 in labels with no predicted samples. Use `zero_division` parameter to control this behavior.\n",
      "  _warn_prf(average, modifier, msg_start, len(result))\n"
     ]
    },
    {
     "name": "stdout",
     "output_type": "stream",
     "text": [
      " 57 4.09s trainloss=0.69347 validloss=0.69343 accuracy_score=0.48081 \n"
     ]
    },
    {
     "name": "stderr",
     "output_type": "stream",
     "text": [
      "/opt/jupyterhub/anaconda/lib/python3.9/site-packages/sklearn/metrics/_classification.py:1308: UndefinedMetricWarning: Precision is ill-defined and being set to 0.0 in labels with no predicted samples. Use `zero_division` parameter to control this behavior.\n",
      "  _warn_prf(average, modifier, msg_start, len(result))\n"
     ]
    },
    {
     "name": "stdout",
     "output_type": "stream",
     "text": [
      " 58 4.09s trainloss=0.69360 validloss=0.69302 accuracy_score=0.51919 \n"
     ]
    },
    {
     "name": "stderr",
     "output_type": "stream",
     "text": [
      "/opt/jupyterhub/anaconda/lib/python3.9/site-packages/sklearn/metrics/_classification.py:1308: UndefinedMetricWarning: Precision is ill-defined and being set to 0.0 in labels with no predicted samples. Use `zero_division` parameter to control this behavior.\n",
      "  _warn_prf(average, modifier, msg_start, len(result))\n"
     ]
    },
    {
     "name": "stdout",
     "output_type": "stream",
     "text": [
      " 59 4.09s trainloss=0.69353 validloss=0.69257 accuracy_score=0.51919 \n"
     ]
    },
    {
     "name": "stderr",
     "output_type": "stream",
     "text": [
      "/opt/jupyterhub/anaconda/lib/python3.9/site-packages/sklearn/metrics/_classification.py:1308: UndefinedMetricWarning: Precision is ill-defined and being set to 0.0 in labels with no predicted samples. Use `zero_division` parameter to control this behavior.\n",
      "  _warn_prf(average, modifier, msg_start, len(result))\n"
     ]
    },
    {
     "name": "stdout",
     "output_type": "stream",
     "text": [
      " 60 4.10s trainloss=0.69354 validloss=0.69346 accuracy_score=0.48081 \n"
     ]
    },
    {
     "name": "stderr",
     "output_type": "stream",
     "text": [
      "/opt/jupyterhub/anaconda/lib/python3.9/site-packages/sklearn/metrics/_classification.py:1308: UndefinedMetricWarning: Precision is ill-defined and being set to 0.0 in labels with no predicted samples. Use `zero_division` parameter to control this behavior.\n",
      "  _warn_prf(average, modifier, msg_start, len(result))\n"
     ]
    },
    {
     "name": "stdout",
     "output_type": "stream",
     "text": [
      " 61 4.25s trainloss=0.69326 validloss=0.69324 accuracy_score=0.48081 \n"
     ]
    },
    {
     "name": "stderr",
     "output_type": "stream",
     "text": [
      "/opt/jupyterhub/anaconda/lib/python3.9/site-packages/sklearn/metrics/_classification.py:1308: UndefinedMetricWarning: Precision is ill-defined and being set to 0.0 in labels with no predicted samples. Use `zero_division` parameter to control this behavior.\n",
      "  _warn_prf(average, modifier, msg_start, len(result))\n"
     ]
    },
    {
     "name": "stdout",
     "output_type": "stream",
     "text": [
      " 62 4.08s trainloss=0.69343 validloss=0.69287 accuracy_score=0.51919 \n"
     ]
    },
    {
     "name": "stderr",
     "output_type": "stream",
     "text": [
      "/opt/jupyterhub/anaconda/lib/python3.9/site-packages/sklearn/metrics/_classification.py:1308: UndefinedMetricWarning: Precision is ill-defined and being set to 0.0 in labels with no predicted samples. Use `zero_division` parameter to control this behavior.\n",
      "  _warn_prf(average, modifier, msg_start, len(result))\n"
     ]
    },
    {
     "name": "stdout",
     "output_type": "stream",
     "text": [
      " 63 4.08s trainloss=0.69336 validloss=0.69390 accuracy_score=0.48081 \n"
     ]
    },
    {
     "name": "stderr",
     "output_type": "stream",
     "text": [
      "/opt/jupyterhub/anaconda/lib/python3.9/site-packages/sklearn/metrics/_classification.py:1308: UndefinedMetricWarning: Precision is ill-defined and being set to 0.0 in labels with no predicted samples. Use `zero_division` parameter to control this behavior.\n",
      "  _warn_prf(average, modifier, msg_start, len(result))\n"
     ]
    },
    {
     "name": "stdout",
     "output_type": "stream",
     "text": [
      " 64 4.09s trainloss=0.69336 validloss=0.69375 accuracy_score=0.48081 \n"
     ]
    },
    {
     "name": "stderr",
     "output_type": "stream",
     "text": [
      "/opt/jupyterhub/anaconda/lib/python3.9/site-packages/sklearn/metrics/_classification.py:1308: UndefinedMetricWarning: Precision is ill-defined and being set to 0.0 in labels with no predicted samples. Use `zero_division` parameter to control this behavior.\n",
      "  _warn_prf(average, modifier, msg_start, len(result))\n"
     ]
    },
    {
     "name": "stdout",
     "output_type": "stream",
     "text": [
      " 65 4.08s trainloss=0.69359 validloss=0.69466 accuracy_score=0.48081 \n"
     ]
    },
    {
     "name": "stderr",
     "output_type": "stream",
     "text": [
      "/opt/jupyterhub/anaconda/lib/python3.9/site-packages/sklearn/metrics/_classification.py:1308: UndefinedMetricWarning: Precision is ill-defined and being set to 0.0 in labels with no predicted samples. Use `zero_division` parameter to control this behavior.\n",
      "  _warn_prf(average, modifier, msg_start, len(result))\n"
     ]
    },
    {
     "name": "stdout",
     "output_type": "stream",
     "text": [
      " 66 4.08s trainloss=0.69329 validloss=0.69432 accuracy_score=0.48081 \n"
     ]
    },
    {
     "name": "stderr",
     "output_type": "stream",
     "text": [
      "/opt/jupyterhub/anaconda/lib/python3.9/site-packages/sklearn/metrics/_classification.py:1308: UndefinedMetricWarning: Precision is ill-defined and being set to 0.0 in labels with no predicted samples. Use `zero_division` parameter to control this behavior.\n",
      "  _warn_prf(average, modifier, msg_start, len(result))\n",
      "/opt/jupyterhub/anaconda/lib/python3.9/site-packages/sklearn/metrics/_classification.py:1308: UndefinedMetricWarning: Precision is ill-defined and being set to 0.0 in labels with no predicted samples. Use `zero_division` parameter to control this behavior.\n",
      "  _warn_prf(average, modifier, msg_start, len(result))\n"
     ]
    },
    {
     "name": "stdout",
     "output_type": "stream",
     "text": [
      " 67 4.08s trainloss=0.69337 validloss=0.69315 accuracy_score=0.51919 \n"
     ]
    },
    {
     "name": "stderr",
     "output_type": "stream",
     "text": [
      "/opt/jupyterhub/anaconda/lib/python3.9/site-packages/sklearn/metrics/_classification.py:1308: UndefinedMetricWarning: Precision is ill-defined and being set to 0.0 in labels with no predicted samples. Use `zero_division` parameter to control this behavior.\n",
      "  _warn_prf(average, modifier, msg_start, len(result))\n"
     ]
    },
    {
     "name": "stdout",
     "output_type": "stream",
     "text": [
      " 68 4.09s trainloss=0.69337 validloss=0.69387 accuracy_score=0.48081 \n"
     ]
    },
    {
     "name": "stderr",
     "output_type": "stream",
     "text": [
      "/opt/jupyterhub/anaconda/lib/python3.9/site-packages/sklearn/metrics/_classification.py:1308: UndefinedMetricWarning: Precision is ill-defined and being set to 0.0 in labels with no predicted samples. Use `zero_division` parameter to control this behavior.\n",
      "  _warn_prf(average, modifier, msg_start, len(result))\n"
     ]
    },
    {
     "name": "stdout",
     "output_type": "stream",
     "text": [
      " 69 4.09s trainloss=0.69350 validloss=0.69251 accuracy_score=0.51919 \n"
     ]
    },
    {
     "name": "stderr",
     "output_type": "stream",
     "text": [
      "/opt/jupyterhub/anaconda/lib/python3.9/site-packages/sklearn/metrics/_classification.py:1308: UndefinedMetricWarning: Precision is ill-defined and being set to 0.0 in labels with no predicted samples. Use `zero_division` parameter to control this behavior.\n",
      "  _warn_prf(average, modifier, msg_start, len(result))\n"
     ]
    },
    {
     "name": "stdout",
     "output_type": "stream",
     "text": [
      " 70 4.08s trainloss=0.69435 validloss=0.69245 accuracy_score=0.51919 \n"
     ]
    },
    {
     "name": "stderr",
     "output_type": "stream",
     "text": [
      "/opt/jupyterhub/anaconda/lib/python3.9/site-packages/sklearn/metrics/_classification.py:1308: UndefinedMetricWarning: Precision is ill-defined and being set to 0.0 in labels with no predicted samples. Use `zero_division` parameter to control this behavior.\n",
      "  _warn_prf(average, modifier, msg_start, len(result))\n"
     ]
    },
    {
     "name": "stdout",
     "output_type": "stream",
     "text": [
      " 71 4.08s trainloss=0.69363 validloss=0.69370 accuracy_score=0.48081 \n"
     ]
    },
    {
     "name": "stderr",
     "output_type": "stream",
     "text": [
      "/opt/jupyterhub/anaconda/lib/python3.9/site-packages/sklearn/metrics/_classification.py:1308: UndefinedMetricWarning: Precision is ill-defined and being set to 0.0 in labels with no predicted samples. Use `zero_division` parameter to control this behavior.\n",
      "  _warn_prf(average, modifier, msg_start, len(result))\n"
     ]
    },
    {
     "name": "stdout",
     "output_type": "stream",
     "text": [
      " 72 4.08s trainloss=0.69358 validloss=0.69301 accuracy_score=0.51919 \n"
     ]
    },
    {
     "name": "stderr",
     "output_type": "stream",
     "text": [
      "/opt/jupyterhub/anaconda/lib/python3.9/site-packages/sklearn/metrics/_classification.py:1308: UndefinedMetricWarning: Precision is ill-defined and being set to 0.0 in labels with no predicted samples. Use `zero_division` parameter to control this behavior.\n",
      "  _warn_prf(average, modifier, msg_start, len(result))\n"
     ]
    },
    {
     "name": "stdout",
     "output_type": "stream",
     "text": [
      " 73 4.09s trainloss=0.69337 validloss=0.69481 accuracy_score=0.48081 \n"
     ]
    },
    {
     "name": "stderr",
     "output_type": "stream",
     "text": [
      "/opt/jupyterhub/anaconda/lib/python3.9/site-packages/sklearn/metrics/_classification.py:1308: UndefinedMetricWarning: Precision is ill-defined and being set to 0.0 in labels with no predicted samples. Use `zero_division` parameter to control this behavior.\n",
      "  _warn_prf(average, modifier, msg_start, len(result))\n",
      "/opt/jupyterhub/anaconda/lib/python3.9/site-packages/sklearn/metrics/_classification.py:1308: UndefinedMetricWarning: Precision is ill-defined and being set to 0.0 in labels with no predicted samples. Use `zero_division` parameter to control this behavior.\n",
      "  _warn_prf(average, modifier, msg_start, len(result))\n"
     ]
    },
    {
     "name": "stdout",
     "output_type": "stream",
     "text": [
      " 74 4.08s trainloss=0.69337 validloss=0.69389 accuracy_score=0.48081 \n"
     ]
    },
    {
     "name": "stderr",
     "output_type": "stream",
     "text": [
      "/opt/jupyterhub/anaconda/lib/python3.9/site-packages/sklearn/metrics/_classification.py:1308: UndefinedMetricWarning: Precision is ill-defined and being set to 0.0 in labels with no predicted samples. Use `zero_division` parameter to control this behavior.\n",
      "  _warn_prf(average, modifier, msg_start, len(result))\n"
     ]
    },
    {
     "name": "stdout",
     "output_type": "stream",
     "text": [
      " 75 4.09s trainloss=0.69340 validloss=0.69390 accuracy_score=0.48081 \n"
     ]
    },
    {
     "name": "stderr",
     "output_type": "stream",
     "text": [
      "/opt/jupyterhub/anaconda/lib/python3.9/site-packages/sklearn/metrics/_classification.py:1308: UndefinedMetricWarning: Precision is ill-defined and being set to 0.0 in labels with no predicted samples. Use `zero_division` parameter to control this behavior.\n",
      "  _warn_prf(average, modifier, msg_start, len(result))\n"
     ]
    },
    {
     "name": "stdout",
     "output_type": "stream",
     "text": [
      " 76 4.20s trainloss=0.69351 validloss=0.69386 accuracy_score=0.48081 \n"
     ]
    },
    {
     "name": "stderr",
     "output_type": "stream",
     "text": [
      "/opt/jupyterhub/anaconda/lib/python3.9/site-packages/sklearn/metrics/_classification.py:1308: UndefinedMetricWarning: Precision is ill-defined and being set to 0.0 in labels with no predicted samples. Use `zero_division` parameter to control this behavior.\n",
      "  _warn_prf(average, modifier, msg_start, len(result))\n"
     ]
    },
    {
     "name": "stdout",
     "output_type": "stream",
     "text": [
      " 77 4.22s trainloss=0.69330 validloss=0.69317 accuracy_score=0.48081 \n"
     ]
    },
    {
     "name": "stderr",
     "output_type": "stream",
     "text": [
      "/opt/jupyterhub/anaconda/lib/python3.9/site-packages/sklearn/metrics/_classification.py:1308: UndefinedMetricWarning: Precision is ill-defined and being set to 0.0 in labels with no predicted samples. Use `zero_division` parameter to control this behavior.\n",
      "  _warn_prf(average, modifier, msg_start, len(result))\n"
     ]
    },
    {
     "name": "stdout",
     "output_type": "stream",
     "text": [
      " 78 4.13s trainloss=0.69339 validloss=0.69376 accuracy_score=0.48081 \n"
     ]
    },
    {
     "name": "stderr",
     "output_type": "stream",
     "text": [
      "/opt/jupyterhub/anaconda/lib/python3.9/site-packages/sklearn/metrics/_classification.py:1308: UndefinedMetricWarning: Precision is ill-defined and being set to 0.0 in labels with no predicted samples. Use `zero_division` parameter to control this behavior.\n",
      "  _warn_prf(average, modifier, msg_start, len(result))\n",
      "/opt/jupyterhub/anaconda/lib/python3.9/site-packages/sklearn/metrics/_classification.py:1308: UndefinedMetricWarning: Precision is ill-defined and being set to 0.0 in labels with no predicted samples. Use `zero_division` parameter to control this behavior.\n",
      "  _warn_prf(average, modifier, msg_start, len(result))\n"
     ]
    },
    {
     "name": "stdout",
     "output_type": "stream",
     "text": [
      " 79 4.24s trainloss=0.69330 validloss=0.69321 accuracy_score=0.48081 \n"
     ]
    },
    {
     "name": "stderr",
     "output_type": "stream",
     "text": [
      "/opt/jupyterhub/anaconda/lib/python3.9/site-packages/sklearn/metrics/_classification.py:1308: UndefinedMetricWarning: Precision is ill-defined and being set to 0.0 in labels with no predicted samples. Use `zero_division` parameter to control this behavior.\n",
      "  _warn_prf(average, modifier, msg_start, len(result))\n"
     ]
    },
    {
     "name": "stdout",
     "output_type": "stream",
     "text": [
      " 80 4.49s trainloss=0.69355 validloss=0.69352 accuracy_score=0.48081 \n"
     ]
    },
    {
     "name": "stderr",
     "output_type": "stream",
     "text": [
      "/opt/jupyterhub/anaconda/lib/python3.9/site-packages/sklearn/metrics/_classification.py:1308: UndefinedMetricWarning: Precision is ill-defined and being set to 0.0 in labels with no predicted samples. Use `zero_division` parameter to control this behavior.\n",
      "  _warn_prf(average, modifier, msg_start, len(result))\n"
     ]
    },
    {
     "name": "stdout",
     "output_type": "stream",
     "text": [
      " 81 4.09s trainloss=0.69348 validloss=0.69313 accuracy_score=0.51919 \n"
     ]
    },
    {
     "name": "stderr",
     "output_type": "stream",
     "text": [
      "/opt/jupyterhub/anaconda/lib/python3.9/site-packages/sklearn/metrics/_classification.py:1308: UndefinedMetricWarning: Precision is ill-defined and being set to 0.0 in labels with no predicted samples. Use `zero_division` parameter to control this behavior.\n",
      "  _warn_prf(average, modifier, msg_start, len(result))\n"
     ]
    },
    {
     "name": "stdout",
     "output_type": "stream",
     "text": [
      " 82 4.09s trainloss=0.69337 validloss=0.69415 accuracy_score=0.48081 \n"
     ]
    },
    {
     "name": "stderr",
     "output_type": "stream",
     "text": [
      "/opt/jupyterhub/anaconda/lib/python3.9/site-packages/sklearn/metrics/_classification.py:1308: UndefinedMetricWarning: Precision is ill-defined and being set to 0.0 in labels with no predicted samples. Use `zero_division` parameter to control this behavior.\n",
      "  _warn_prf(average, modifier, msg_start, len(result))\n"
     ]
    },
    {
     "name": "stdout",
     "output_type": "stream",
     "text": [
      " 83 4.09s trainloss=0.69340 validloss=0.69400 accuracy_score=0.48081 \n"
     ]
    },
    {
     "name": "stderr",
     "output_type": "stream",
     "text": [
      "/opt/jupyterhub/anaconda/lib/python3.9/site-packages/sklearn/metrics/_classification.py:1308: UndefinedMetricWarning: Precision is ill-defined and being set to 0.0 in labels with no predicted samples. Use `zero_division` parameter to control this behavior.\n",
      "  _warn_prf(average, modifier, msg_start, len(result))\n"
     ]
    },
    {
     "name": "stdout",
     "output_type": "stream",
     "text": [
      " 84 4.09s trainloss=0.69329 validloss=0.69280 accuracy_score=0.51919 \n"
     ]
    },
    {
     "name": "stderr",
     "output_type": "stream",
     "text": [
      "/opt/jupyterhub/anaconda/lib/python3.9/site-packages/sklearn/metrics/_classification.py:1308: UndefinedMetricWarning: Precision is ill-defined and being set to 0.0 in labels with no predicted samples. Use `zero_division` parameter to control this behavior.\n",
      "  _warn_prf(average, modifier, msg_start, len(result))\n"
     ]
    },
    {
     "name": "stdout",
     "output_type": "stream",
     "text": [
      " 85 4.07s trainloss=0.69334 validloss=0.69331 accuracy_score=0.48081 \n"
     ]
    },
    {
     "name": "stderr",
     "output_type": "stream",
     "text": [
      "/opt/jupyterhub/anaconda/lib/python3.9/site-packages/sklearn/metrics/_classification.py:1308: UndefinedMetricWarning: Precision is ill-defined and being set to 0.0 in labels with no predicted samples. Use `zero_division` parameter to control this behavior.\n",
      "  _warn_prf(average, modifier, msg_start, len(result))\n"
     ]
    },
    {
     "name": "stdout",
     "output_type": "stream",
     "text": [
      " 86 4.02s trainloss=0.69356 validloss=0.69247 accuracy_score=0.51919 \n"
     ]
    },
    {
     "name": "stderr",
     "output_type": "stream",
     "text": [
      "/opt/jupyterhub/anaconda/lib/python3.9/site-packages/sklearn/metrics/_classification.py:1308: UndefinedMetricWarning: Precision is ill-defined and being set to 0.0 in labels with no predicted samples. Use `zero_division` parameter to control this behavior.\n",
      "  _warn_prf(average, modifier, msg_start, len(result))\n"
     ]
    },
    {
     "name": "stdout",
     "output_type": "stream",
     "text": [
      " 87 4.03s trainloss=0.69386 validloss=0.69470 accuracy_score=0.48081 \n"
     ]
    },
    {
     "name": "stderr",
     "output_type": "stream",
     "text": [
      "/opt/jupyterhub/anaconda/lib/python3.9/site-packages/sklearn/metrics/_classification.py:1308: UndefinedMetricWarning: Precision is ill-defined and being set to 0.0 in labels with no predicted samples. Use `zero_division` parameter to control this behavior.\n",
      "  _warn_prf(average, modifier, msg_start, len(result))\n"
     ]
    },
    {
     "name": "stdout",
     "output_type": "stream",
     "text": [
      " 88 4.09s trainloss=0.69342 validloss=0.69322 accuracy_score=0.48081 \n"
     ]
    },
    {
     "name": "stderr",
     "output_type": "stream",
     "text": [
      "/opt/jupyterhub/anaconda/lib/python3.9/site-packages/sklearn/metrics/_classification.py:1308: UndefinedMetricWarning: Precision is ill-defined and being set to 0.0 in labels with no predicted samples. Use `zero_division` parameter to control this behavior.\n",
      "  _warn_prf(average, modifier, msg_start, len(result))\n"
     ]
    },
    {
     "name": "stdout",
     "output_type": "stream",
     "text": [
      " 89 4.09s trainloss=0.69338 validloss=0.69267 accuracy_score=0.51919 \n"
     ]
    },
    {
     "name": "stderr",
     "output_type": "stream",
     "text": [
      "/opt/jupyterhub/anaconda/lib/python3.9/site-packages/sklearn/metrics/_classification.py:1308: UndefinedMetricWarning: Precision is ill-defined and being set to 0.0 in labels with no predicted samples. Use `zero_division` parameter to control this behavior.\n",
      "  _warn_prf(average, modifier, msg_start, len(result))\n"
     ]
    },
    {
     "name": "stdout",
     "output_type": "stream",
     "text": [
      " 90 4.09s trainloss=0.69319 validloss=0.69484 accuracy_score=0.48081 \n"
     ]
    },
    {
     "name": "stderr",
     "output_type": "stream",
     "text": [
      "/opt/jupyterhub/anaconda/lib/python3.9/site-packages/sklearn/metrics/_classification.py:1308: UndefinedMetricWarning: Precision is ill-defined and being set to 0.0 in labels with no predicted samples. Use `zero_division` parameter to control this behavior.\n",
      "  _warn_prf(average, modifier, msg_start, len(result))\n"
     ]
    },
    {
     "name": "stdout",
     "output_type": "stream",
     "text": [
      " 91 4.09s trainloss=0.69373 validloss=0.69411 accuracy_score=0.48081 \n"
     ]
    },
    {
     "name": "stderr",
     "output_type": "stream",
     "text": [
      "/opt/jupyterhub/anaconda/lib/python3.9/site-packages/sklearn/metrics/_classification.py:1308: UndefinedMetricWarning: Precision is ill-defined and being set to 0.0 in labels with no predicted samples. Use `zero_division` parameter to control this behavior.\n",
      "  _warn_prf(average, modifier, msg_start, len(result))\n"
     ]
    },
    {
     "name": "stdout",
     "output_type": "stream",
     "text": [
      " 92 4.09s trainloss=0.69324 validloss=0.69360 accuracy_score=0.48081 \n"
     ]
    },
    {
     "name": "stderr",
     "output_type": "stream",
     "text": [
      "/opt/jupyterhub/anaconda/lib/python3.9/site-packages/sklearn/metrics/_classification.py:1308: UndefinedMetricWarning: Precision is ill-defined and being set to 0.0 in labels with no predicted samples. Use `zero_division` parameter to control this behavior.\n",
      "  _warn_prf(average, modifier, msg_start, len(result))\n"
     ]
    },
    {
     "name": "stdout",
     "output_type": "stream",
     "text": [
      " 93 4.09s trainloss=0.69337 validloss=0.69525 accuracy_score=0.48081 \n"
     ]
    },
    {
     "name": "stderr",
     "output_type": "stream",
     "text": [
      "/opt/jupyterhub/anaconda/lib/python3.9/site-packages/sklearn/metrics/_classification.py:1308: UndefinedMetricWarning: Precision is ill-defined and being set to 0.0 in labels with no predicted samples. Use `zero_division` parameter to control this behavior.\n",
      "  _warn_prf(average, modifier, msg_start, len(result))\n"
     ]
    },
    {
     "name": "stdout",
     "output_type": "stream",
     "text": [
      " 94 4.09s trainloss=0.69363 validloss=0.69489 accuracy_score=0.48081 \n"
     ]
    },
    {
     "name": "stderr",
     "output_type": "stream",
     "text": [
      "/opt/jupyterhub/anaconda/lib/python3.9/site-packages/sklearn/metrics/_classification.py:1308: UndefinedMetricWarning: Precision is ill-defined and being set to 0.0 in labels with no predicted samples. Use `zero_division` parameter to control this behavior.\n",
      "  _warn_prf(average, modifier, msg_start, len(result))\n"
     ]
    },
    {
     "name": "stdout",
     "output_type": "stream",
     "text": [
      " 95 4.06s trainloss=0.69329 validloss=0.69385 accuracy_score=0.48081 \n"
     ]
    },
    {
     "name": "stderr",
     "output_type": "stream",
     "text": [
      "/opt/jupyterhub/anaconda/lib/python3.9/site-packages/sklearn/metrics/_classification.py:1308: UndefinedMetricWarning: Precision is ill-defined and being set to 0.0 in labels with no predicted samples. Use `zero_division` parameter to control this behavior.\n",
      "  _warn_prf(average, modifier, msg_start, len(result))\n",
      "/opt/jupyterhub/anaconda/lib/python3.9/site-packages/sklearn/metrics/_classification.py:1308: UndefinedMetricWarning: Precision is ill-defined and being set to 0.0 in labels with no predicted samples. Use `zero_division` parameter to control this behavior.\n",
      "  _warn_prf(average, modifier, msg_start, len(result))\n"
     ]
    },
    {
     "name": "stdout",
     "output_type": "stream",
     "text": [
      " 96 4.03s trainloss=0.69327 validloss=0.69397 accuracy_score=0.48081 \n"
     ]
    },
    {
     "name": "stderr",
     "output_type": "stream",
     "text": [
      "/opt/jupyterhub/anaconda/lib/python3.9/site-packages/sklearn/metrics/_classification.py:1308: UndefinedMetricWarning: Precision is ill-defined and being set to 0.0 in labels with no predicted samples. Use `zero_division` parameter to control this behavior.\n",
      "  _warn_prf(average, modifier, msg_start, len(result))\n"
     ]
    },
    {
     "name": "stdout",
     "output_type": "stream",
     "text": [
      " 97 4.25s trainloss=0.69324 validloss=0.69396 accuracy_score=0.48081 \n"
     ]
    },
    {
     "name": "stderr",
     "output_type": "stream",
     "text": [
      "/opt/jupyterhub/anaconda/lib/python3.9/site-packages/sklearn/metrics/_classification.py:1308: UndefinedMetricWarning: Precision is ill-defined and being set to 0.0 in labels with no predicted samples. Use `zero_division` parameter to control this behavior.\n",
      "  _warn_prf(average, modifier, msg_start, len(result))\n"
     ]
    },
    {
     "name": "stdout",
     "output_type": "stream",
     "text": [
      " 98 4.25s trainloss=0.69339 validloss=0.69365 accuracy_score=0.48081 \n"
     ]
    },
    {
     "name": "stderr",
     "output_type": "stream",
     "text": [
      "/opt/jupyterhub/anaconda/lib/python3.9/site-packages/sklearn/metrics/_classification.py:1308: UndefinedMetricWarning: Precision is ill-defined and being set to 0.0 in labels with no predicted samples. Use `zero_division` parameter to control this behavior.\n",
      "  _warn_prf(average, modifier, msg_start, len(result))\n"
     ]
    },
    {
     "name": "stdout",
     "output_type": "stream",
     "text": [
      " 99 4.04s trainloss=0.69356 validloss=0.69527 accuracy_score=0.48081 \n"
     ]
    },
    {
     "name": "stderr",
     "output_type": "stream",
     "text": [
      "/opt/jupyterhub/anaconda/lib/python3.9/site-packages/sklearn/metrics/_classification.py:1308: UndefinedMetricWarning: Precision is ill-defined and being set to 0.0 in labels with no predicted samples. Use `zero_division` parameter to control this behavior.\n",
      "  _warn_prf(average, modifier, msg_start, len(result))\n"
     ]
    },
    {
     "name": "stdout",
     "output_type": "stream",
     "text": [
      "100 4.04s trainloss=0.69339 validloss=0.69378 accuracy_score=0.48081 \n"
     ]
    },
    {
     "name": "stderr",
     "output_type": "stream",
     "text": [
      "/opt/jupyterhub/anaconda/lib/python3.9/site-packages/sklearn/metrics/_classification.py:1308: UndefinedMetricWarning: Precision is ill-defined and being set to 0.0 in labels with no predicted samples. Use `zero_division` parameter to control this behavior.\n",
      "  _warn_prf(average, modifier, msg_start, len(result))\n"
     ]
    }
   ],
   "source": [
    "rn34_trainer.train(100, lr=0.01, weight_decay=0.5)"
   ]
  },
  {
   "cell_type": "code",
   "execution_count": 49,
   "id": "eb0cc074",
   "metadata": {},
   "outputs": [
    {
     "data": {
      "image/png": "[encoded data removed]",
      "text/plain": [
       "<Figure size 432x288 with 1 Axes>"
      ]
     },
     "metadata": {
      "needs_background": "light"
     },
     "output_type": "display_data"
    }
   ],
   "source": [
    "rn34_trainer.learning_curve()"
   ]
  },
  {
   "cell_type": "code",
   "execution_count": 50,
   "id": "13861ed3",
   "metadata": {},
   "outputs": [
    {
     "data": {
      "image/png": "[encoded data removed]",
      "text/plain": [
       "<Figure size 432x288 with 1 Axes>"
      ]
     },
     "metadata": {
      "needs_background": "light"
     },
     "output_type": "display_data"
    }
   ],
   "source": [
    "rn34_trainer.learning_curve(y='accuracy_score')"
   ]
  },
  {
   "cell_type": "code",
   "execution_count": 51,
   "id": "23f2b940",
   "metadata": {},
   "outputs": [
    {
     "ename": "AttributeError",
     "evalue": "'trainer' object has no attribute 'evalutator'",
     "output_type": "error",
     "traceback": [
      "\u001b[0;31m---------------------------------------------------------------------------\u001b[0m",
      "\u001b[0;31mAttributeError\u001b[0m                            Traceback (most recent call last)",
      "\u001b[0;32m/tmp/ipykernel_21380/3873914540.py\u001b[0m in \u001b[0;36m<module>\u001b[0;34m\u001b[0m\n\u001b[0;32m----> 1\u001b[0;31m \u001b[0msort_epochs\u001b[0m\u001b[0;34m(\u001b[0m\u001b[0mrn34_trainer\u001b[0m\u001b[0;34m.\u001b[0m\u001b[0mevalutator\u001b[0m\u001b[0;34m,\u001b[0m \u001b[0;34m'accuracy_score'\u001b[0m\u001b[0;34m)\u001b[0m\u001b[0;34m\u001b[0m\u001b[0;34m\u001b[0m\u001b[0m\n\u001b[0m",
      "\u001b[0;31mAttributeError\u001b[0m: 'trainer' object has no attribute 'evalutator'"
     ]
    }
   ],
   "source": [
    "sort_epochs(rn34_trainer.evalutator, 'accuracy_score')"
   ]
  },
  {
   "cell_type": "markdown",
   "id": "5c3eda39",
   "metadata": {},
   "source": [
    "# resnet 152"
   ]
  },
  {
   "cell_type": "code",
   "execution_count": 52,
   "id": "48c21ace",
   "metadata": {},
   "outputs": [],
   "source": [
    "rn_152 = models.resnet152(pretrained=True)\n",
    "\n",
    "rn_152.conv1 = nn.Conv2d(1, rn_152.conv1.out_channels,\n",
    "              kernel_size=rn_152.conv1.kernel_size[0], \n",
    "                      stride=rn_152.conv1.stride[0], \n",
    "                      padding=rn_152.conv1.padding[0])\n",
    "num_ftrs = rn_152.fc.in_features\n",
    "rn_152.fc = nn.Linear(num_ftrs, 2)\n",
    "\n",
    "rn_152.post_forward = post_forward\n",
    "\n",
    "rn_152_trainer = trainer(rn_152, nn.CrossEntropyLoss(weight=normedWeights), train_loader, valid_loader, test_loader, metrics=metrics, gpu=True)"
   ]
  },
  {
   "cell_type": "code",
   "execution_count": 53,
   "id": "99e03af5",
   "metadata": {},
   "outputs": [
    {
     "data": {
      "application/vnd.jupyter.widget-view+json": {
       "model_id": "",
       "version_major": 2,
       "version_minor": 0
      },
      "text/plain": [
       "Total:   0%|          | 0/448000 [00:00<?, ?it/s]"
      ]
     },
     "metadata": {},
     "output_type": "display_data"
    },
    {
     "name": "stdout",
     "output_type": "stream",
     "text": [
      "  1 18.48s trainloss=1.04976 validloss=0.69524 accuracy_score=0.60271 \n",
      "  2 18.48s trainloss=0.65312 validloss=0.73284 accuracy_score=0.47968 \n",
      "  3 18.46s trainloss=0.62071 validloss=21.96666 accuracy_score=0.54402 \n",
      "  4 18.51s trainloss=0.57606 validloss=1.90574 accuracy_score=0.55643 \n",
      "  5 18.67s trainloss=0.57509 validloss=0.72433 accuracy_score=0.47968 \n",
      "  6 18.59s trainloss=0.57246 validloss=0.67453 accuracy_score=0.68397 \n",
      "  7 18.76s trainloss=0.56642 validloss=1.45946 accuracy_score=0.48081 \n",
      "  8 18.61s trainloss=0.56498 validloss=1.58882 accuracy_score=0.60384 \n",
      "  9 14.76s trainloss=0.55794 validloss=0.94594 accuracy_score=0.48194 \n",
      " 10 12.86s trainloss=0.52629 validloss=0.76213 accuracy_score=0.50113 \n",
      " 11 12.54s trainloss=0.50073 validloss=0.65506 accuracy_score=0.49210 \n",
      " 12 12.51s trainloss=0.48033 validloss=1.23619 accuracy_score=0.71670 \n"
     ]
    },
    {
     "name": "stderr",
     "output_type": "stream",
     "text": [
      "/opt/jupyterhub/anaconda/lib/python3.9/site-packages/sklearn/metrics/_classification.py:1308: UndefinedMetricWarning: Precision is ill-defined and being set to 0.0 in labels with no predicted samples. Use `zero_division` parameter to control this behavior.\n",
      "  _warn_prf(average, modifier, msg_start, len(result))\n"
     ]
    },
    {
     "name": "stdout",
     "output_type": "stream",
     "text": [
      " 13 12.57s trainloss=0.47573 validloss=1.16034 accuracy_score=0.48081 \n",
      " 14 12.55s trainloss=0.48239 validloss=0.62951 accuracy_score=0.51919 \n",
      " 15 12.52s trainloss=0.46680 validloss=0.69159 accuracy_score=0.46163 \n",
      " 16 12.55s trainloss=0.44070 validloss=0.52115 accuracy_score=0.73138 \n",
      " 17 12.53s trainloss=0.46015 validloss=0.54002 accuracy_score=0.73476 \n",
      " 18 12.59s trainloss=0.44986 validloss=0.54118 accuracy_score=0.76637 \n",
      " 19 12.46s trainloss=0.43588 validloss=0.54013 accuracy_score=0.76975 \n",
      " 20 12.47s trainloss=0.41904 validloss=0.51750 accuracy_score=0.76975 \n",
      " 21 12.58s trainloss=0.40743 validloss=0.46011 accuracy_score=0.81377 \n",
      " 22 12.39s trainloss=0.41951 validloss=0.45948 accuracy_score=0.78442 \n",
      " 23 12.36s trainloss=0.39386 validloss=0.50067 accuracy_score=0.77314 \n",
      " 24 12.54s trainloss=0.39704 validloss=0.76765 accuracy_score=0.49549 \n",
      " 25 12.69s trainloss=0.38704 validloss=0.50301 accuracy_score=0.75621 \n",
      " 26 12.68s trainloss=0.41221 validloss=0.61123 accuracy_score=0.76862 \n",
      " 27 12.68s trainloss=0.39763 validloss=0.47180 accuracy_score=0.79345 \n",
      " 28 12.83s trainloss=0.37684 validloss=0.54829 accuracy_score=0.69977 \n",
      " 29 12.66s trainloss=0.38998 validloss=0.55716 accuracy_score=0.72799 \n",
      " 30 12.65s trainloss=0.38531 validloss=0.46055 accuracy_score=0.78894 \n",
      " 31 12.55s trainloss=0.39556 validloss=0.65919 accuracy_score=0.60158 \n",
      " 32 12.35s trainloss=0.36690 validloss=0.59527 accuracy_score=0.67946 \n",
      " 33 12.33s trainloss=0.37343 validloss=0.40915 accuracy_score=0.79458 \n",
      " 34 12.34s trainloss=0.37872 validloss=1.36202 accuracy_score=0.71219 \n",
      " 35 12.36s trainloss=0.36510 validloss=0.62220 accuracy_score=0.63093 \n",
      " 36 12.31s trainloss=0.37306 validloss=0.39509 accuracy_score=0.81264 \n",
      " 37 12.31s trainloss=0.36273 validloss=0.67405 accuracy_score=0.73025 \n",
      " 38 12.36s trainloss=0.38427 validloss=0.43098 accuracy_score=0.78894 \n",
      " 39 12.43s trainloss=0.36367 validloss=0.67343 accuracy_score=0.63544 \n",
      " 40 13.65s trainloss=0.37300 validloss=0.46001 accuracy_score=0.75847 \n",
      " 41 14.41s trainloss=0.37502 validloss=0.42731 accuracy_score=0.83409 \n",
      " 42 14.38s trainloss=0.35177 validloss=0.50199 accuracy_score=0.75169 \n",
      " 43 14.24s trainloss=0.36480 validloss=0.58392 accuracy_score=0.68059 \n",
      " 44 14.30s trainloss=0.36541 validloss=1.08755 accuracy_score=0.67381 \n",
      " 45 14.29s trainloss=0.37134 validloss=0.45635 accuracy_score=0.79007 \n",
      " 46 13.53s trainloss=0.35832 validloss=0.71664 accuracy_score=0.74492 \n",
      " 47 12.35s trainloss=0.36819 validloss=1.98952 accuracy_score=0.54740 \n",
      " 48 12.31s trainloss=0.36518 validloss=0.84695 accuracy_score=0.65011 \n",
      " 49 12.35s trainloss=0.35206 validloss=0.60446 accuracy_score=0.63205 \n",
      " 50 12.46s trainloss=0.35757 validloss=0.64102 accuracy_score=0.72912 \n",
      " 51 12.21s trainloss=0.33075 validloss=0.76757 accuracy_score=0.65576 \n",
      " 52 12.23s trainloss=0.34305 validloss=0.57518 accuracy_score=0.72460 \n",
      " 53 12.18s trainloss=0.34078 validloss=0.54802 accuracy_score=0.74831 \n",
      " 54 12.11s trainloss=0.38184 validloss=0.49155 accuracy_score=0.77991 \n",
      " 55 12.16s trainloss=0.33871 validloss=1.06203 accuracy_score=0.66704 \n",
      " 56 12.18s trainloss=0.34227 validloss=0.56324 accuracy_score=0.72573 \n",
      " 57 12.18s trainloss=0.35330 validloss=0.43977 accuracy_score=0.79684 \n",
      " 58 12.26s trainloss=0.33688 validloss=0.42720 accuracy_score=0.78668 \n",
      " 59 12.24s trainloss=0.33703 validloss=0.44095 accuracy_score=0.78781 \n",
      " 60 12.22s trainloss=0.32906 validloss=0.43646 accuracy_score=0.77991 \n",
      " 61 12.20s trainloss=0.34715 validloss=0.56724 accuracy_score=0.66140 \n",
      " 62 13.66s trainloss=0.34466 validloss=0.82773 accuracy_score=0.63657 \n",
      " 63 14.29s trainloss=0.34419 validloss=0.62708 accuracy_score=0.62867 \n",
      " 64 14.14s trainloss=0.33321 validloss=0.64115 accuracy_score=0.77878 \n",
      " 65 14.15s trainloss=0.32293 validloss=0.76979 accuracy_score=0.70993 \n",
      " 66 14.20s trainloss=0.33042 validloss=0.45988 accuracy_score=0.76862 \n",
      " 67 14.24s trainloss=0.34260 validloss=0.49476 accuracy_score=0.75847 \n",
      " 68 14.14s trainloss=0.32888 validloss=1.33726 accuracy_score=0.69300 \n",
      " 69 12.66s trainloss=0.32492 validloss=0.94471 accuracy_score=0.76185 \n",
      " 70 12.50s trainloss=0.34374 validloss=0.58514 accuracy_score=0.65463 \n",
      " 71 12.46s trainloss=0.34114 validloss=0.67675 accuracy_score=0.76637 \n",
      " 72 12.54s trainloss=0.32708 validloss=0.38855 accuracy_score=0.82619 \n",
      " 73 12.63s trainloss=0.31582 validloss=0.37391 accuracy_score=0.83070 \n",
      " 74 12.37s trainloss=0.34458 validloss=0.97947 accuracy_score=0.65914 \n",
      " 75 12.32s trainloss=0.33368 validloss=0.52164 accuracy_score=0.72573 \n",
      " 76 12.26s trainloss=0.34847 validloss=0.66052 accuracy_score=0.60609 \n",
      " 77 12.26s trainloss=0.35504 validloss=0.42369 accuracy_score=0.81716 \n",
      " 78 12.30s trainloss=0.33115 validloss=0.67038 accuracy_score=0.50903 \n",
      " 79 12.34s trainloss=0.33458 validloss=0.50744 accuracy_score=0.78442 \n",
      " 80 12.37s trainloss=0.32526 validloss=0.46898 accuracy_score=0.78217 \n",
      " 81 12.43s trainloss=0.34080 validloss=1.27984 accuracy_score=0.58691 \n",
      " 82 12.40s trainloss=0.33390 validloss=0.63586 accuracy_score=0.73138 \n",
      " 83 12.38s trainloss=0.34788 validloss=0.46062 accuracy_score=0.79684 \n",
      " 84 12.23s trainloss=0.33642 validloss=0.37502 accuracy_score=0.80700 \n",
      " 85 12.12s trainloss=0.34904 validloss=1.80988 accuracy_score=0.67494 \n",
      " 86 12.17s trainloss=0.36378 validloss=1.06425 accuracy_score=0.64447 \n"
     ]
    },
    {
     "name": "stderr",
     "output_type": "stream",
     "text": [
      "/opt/jupyterhub/anaconda/lib/python3.9/site-packages/sklearn/metrics/_classification.py:1308: UndefinedMetricWarning: Precision is ill-defined and being set to 0.0 in labels with no predicted samples. Use `zero_division` parameter to control this behavior.\n",
      "  _warn_prf(average, modifier, msg_start, len(result))\n"
     ]
    },
    {
     "name": "stdout",
     "output_type": "stream",
     "text": [
      " 87 12.19s trainloss=0.35524 validloss=1.00920 accuracy_score=0.48081 \n",
      " 88 12.20s trainloss=0.33736 validloss=0.91642 accuracy_score=0.66140 \n",
      " 89 12.41s trainloss=0.33818 validloss=0.39110 accuracy_score=0.79910 \n",
      " 90 12.27s trainloss=0.33105 validloss=0.59040 accuracy_score=0.57901 \n",
      " 91 12.21s trainloss=0.35097 validloss=0.52317 accuracy_score=0.74944 \n",
      " 92 12.19s trainloss=0.32339 validloss=0.79161 accuracy_score=0.55756 \n",
      " 93 12.27s trainloss=0.36888 validloss=0.67545 accuracy_score=0.50000 \n",
      " 94 12.26s trainloss=0.33215 validloss=0.41168 accuracy_score=0.82506 \n",
      " 95 12.40s trainloss=0.33785 validloss=1.11782 accuracy_score=0.52370 \n",
      " 96 12.46s trainloss=0.34435 validloss=0.84116 accuracy_score=0.71558 \n",
      " 97 12.35s trainloss=0.35016 validloss=0.50213 accuracy_score=0.75621 \n",
      " 98 12.43s trainloss=0.35413 validloss=2.06191 accuracy_score=0.62302 \n",
      " 99 12.43s trainloss=0.36282 validloss=0.49457 accuracy_score=0.75169 \n",
      "100 12.76s trainloss=0.38159 validloss=0.66640 accuracy_score=0.67833 \n"
     ]
    }
   ],
   "source": [
    "rn_152_trainer.train(100, lr=0.01, weight_decay=0.2)"
   ]
  },
  {
   "cell_type": "code",
   "execution_count": 54,
   "id": "09f151fc",
   "metadata": {},
   "outputs": [
    {
     "data": {
      "image/png": "[encoded data removed]",
      "text/plain": [
       "<Figure size 432x288 with 1 Axes>"
      ]
     },
     "metadata": {
      "needs_background": "light"
     },
     "output_type": "display_data"
    }
   ],
   "source": [
    "rn_152_trainer.learning_curve()"
   ]
  },
  {
   "cell_type": "code",
   "execution_count": 55,
   "id": "1c0f46ba",
   "metadata": {},
   "outputs": [
    {
     "data": {
      "image/png": "[encoded data removed]",
      "text/plain": [
       "<Figure size 432x288 with 1 Axes>"
      ]
     },
     "metadata": {
      "needs_background": "light"
     },
     "output_type": "display_data"
    }
   ],
   "source": [
    "rn_152_trainer.learning_curve(y='accuracy_score')"
   ]
  },
  {
   "cell_type": "code",
   "execution_count": 56,
   "id": "61552dab",
   "metadata": {},
   "outputs": [
    {
     "name": "stdout",
     "output_type": "stream",
     "text": [
      "     accuracy_score  epoch  prec_drinking  recall_drinking  recall_other\n",
      "81         0.834086   41.0       0.798715         0.875587      0.795652\n",
      "145        0.830700   73.0       0.883333         0.746479      0.908696\n",
      "143        0.826185   72.0       0.795652         0.859155      0.795652\n",
      "187        0.825056   94.0       0.824940         0.807512      0.841304\n",
      "153        0.817156   77.0       0.761905         0.901408      0.739130\n",
      "..              ...    ...            ...              ...           ...\n",
      "173        0.480813   87.0       0.480813         1.000000      0.000000\n",
      "25         0.480813   13.0       0.480813         1.000000      0.000000\n",
      "9          0.479684    5.0       0.480181         0.995305      0.002174\n",
      "3          0.479684    2.0       0.480226         0.997653      0.000000\n",
      "29         0.461625   15.0       0.451056         0.551643      0.378261\n",
      "\n",
      "[100 rows x 5 columns]\n"
     ]
    }
   ],
   "source": [
    "sort_epochs(rn_152_trainer.evaluator, 'accuracy_score')"
   ]
  },
  {
   "cell_type": "markdown",
   "id": "66f0179d",
   "metadata": {},
   "source": [
    "# wide resnet 50_2"
   ]
  },
  {
   "cell_type": "code",
   "execution_count": 57,
   "id": "4a9202fc",
   "metadata": {},
   "outputs": [],
   "source": [
    "rn50_2 = models.wide_resnet50_2(pretrained=True)\n",
    "rn50_2.conv1 = nn.Conv2d(1, rn50_2.conv1.out_channels,\n",
    "              kernel_size=rn50_2.conv1.kernel_size[0], \n",
    "                      stride=rn50_2.conv1.stride[0], \n",
    "                      padding=rn50_2.conv1.padding[0])\n",
    "num_ftrs = rn50_2.fc.in_features\n",
    "rn50_2.fc = nn.Linear(num_ftrs, 2)\n",
    "\n",
    "rn50_2.post_forward = post_forward\n",
    "\n",
    "rn50_2_trainer = trainer(rn50_2, nn.CrossEntropyLoss(weight=normedWeights), train_loader, valid_loader, test_loader, metrics=metrics, gpu=True)"
   ]
  },
  {
   "cell_type": "code",
   "execution_count": 58,
   "id": "e97d87cf",
   "metadata": {},
   "outputs": [
    {
     "data": {
      "application/vnd.jupyter.widget-view+json": {
       "model_id": "",
       "version_major": 2,
       "version_minor": 0
      },
      "text/plain": [
       "Total:   0%|          | 0/448000 [00:00<?, ?it/s]"
      ]
     },
     "metadata": {},
     "output_type": "display_data"
    },
    {
     "name": "stdout",
     "output_type": "stream",
     "text": [
      "  1 9.52s trainloss=0.96899 validloss=0.69238 accuracy_score=0.52032 \n",
      "  2 9.67s trainloss=0.71267 validloss=0.69457 accuracy_score=0.52483 \n"
     ]
    },
    {
     "name": "stderr",
     "output_type": "stream",
     "text": [
      "/opt/jupyterhub/anaconda/lib/python3.9/site-packages/sklearn/metrics/_classification.py:1308: UndefinedMetricWarning: Precision is ill-defined and being set to 0.0 in labels with no predicted samples. Use `zero_division` parameter to control this behavior.\n",
      "  _warn_prf(average, modifier, msg_start, len(result))\n"
     ]
    },
    {
     "name": "stdout",
     "output_type": "stream",
     "text": [
      "  3 9.55s trainloss=0.69846 validloss=0.69395 accuracy_score=0.48081 \n",
      "  4 9.49s trainloss=0.67253 validloss=1.30961 accuracy_score=0.56885 \n",
      "  5 9.49s trainloss=0.63272 validloss=1.54224 accuracy_score=0.54853 \n",
      "  6 9.49s trainloss=0.67237 validloss=1.79062 accuracy_score=0.52822 \n",
      "  7 9.47s trainloss=0.60208 validloss=124.25471 accuracy_score=0.51919 \n",
      "  8 9.48s trainloss=0.67488 validloss=0.81069 accuracy_score=0.48194 \n",
      "  9 9.52s trainloss=0.59874 validloss=0.70905 accuracy_score=0.59932 \n",
      " 10 9.67s trainloss=0.55227 validloss=0.70868 accuracy_score=0.69977 \n",
      " 11 9.65s trainloss=0.55905 validloss=0.78612 accuracy_score=0.62415 \n",
      " 12 9.64s trainloss=0.52046 validloss=0.51140 accuracy_score=0.73815 \n",
      " 13 9.60s trainloss=0.50847 validloss=0.63306 accuracy_score=0.67946 \n",
      " 14 9.54s trainloss=0.50193 validloss=0.51151 accuracy_score=0.73928 \n",
      " 15 9.53s trainloss=0.47298 validloss=0.57836 accuracy_score=0.72009 \n",
      " 16 9.48s trainloss=0.47997 validloss=2.12906 accuracy_score=0.63318 \n",
      " 17 9.46s trainloss=0.47576 validloss=0.56811 accuracy_score=0.74605 \n",
      " 18 9.40s trainloss=0.47398 validloss=0.58965 accuracy_score=0.71558 \n",
      " 19 9.40s trainloss=0.46071 validloss=0.58398 accuracy_score=0.70993 \n",
      " 20 9.40s trainloss=0.46168 validloss=0.62109 accuracy_score=0.70203 \n",
      " 21 9.41s trainloss=0.47915 validloss=0.76366 accuracy_score=0.69752 \n",
      " 22 9.45s trainloss=0.46878 validloss=0.45251 accuracy_score=0.77991 \n",
      " 23 9.42s trainloss=0.46154 validloss=1.28237 accuracy_score=0.64221 \n",
      " 24 9.42s trainloss=0.45083 validloss=0.50780 accuracy_score=0.73589 \n",
      " 25 9.58s trainloss=0.49625 validloss=0.60562 accuracy_score=0.73251 \n",
      " 26 9.41s trainloss=0.46075 validloss=0.72797 accuracy_score=0.54289 \n",
      " 27 9.46s trainloss=0.46918 validloss=0.73240 accuracy_score=0.59707 \n",
      " 28 9.48s trainloss=0.46462 validloss=1.00443 accuracy_score=0.68059 \n",
      " 29 9.49s trainloss=0.47034 validloss=0.60528 accuracy_score=0.75056 \n",
      " 30 9.41s trainloss=0.47263 validloss=0.51225 accuracy_score=0.72686 \n",
      " 31 9.44s trainloss=0.45988 validloss=0.47285 accuracy_score=0.75847 \n",
      " 32 9.46s trainloss=0.45443 validloss=0.62729 accuracy_score=0.53837 \n",
      " 33 9.47s trainloss=0.44919 validloss=0.49281 accuracy_score=0.73476 \n",
      " 34 9.46s trainloss=0.44526 validloss=4.31349 accuracy_score=0.53950 \n",
      " 35 9.40s trainloss=0.47336 validloss=0.88644 accuracy_score=0.48307 \n",
      " 36 9.42s trainloss=0.45948 validloss=0.73910 accuracy_score=0.65350 \n",
      " 37 9.45s trainloss=0.44859 validloss=0.52352 accuracy_score=0.74041 \n",
      " 38 9.49s trainloss=0.47047 validloss=0.55649 accuracy_score=0.72348 \n",
      " 39 9.43s trainloss=0.49562 validloss=0.66663 accuracy_score=0.61851 \n",
      " 40 9.44s trainloss=0.47604 validloss=1.55633 accuracy_score=0.59368 \n",
      " 41 9.47s trainloss=0.45930 validloss=0.99611 accuracy_score=0.65801 \n"
     ]
    },
    {
     "name": "stderr",
     "output_type": "stream",
     "text": [
      "/opt/jupyterhub/anaconda/lib/python3.9/site-packages/sklearn/metrics/_classification.py:1308: UndefinedMetricWarning: Precision is ill-defined and being set to 0.0 in labels with no predicted samples. Use `zero_division` parameter to control this behavior.\n",
      "  _warn_prf(average, modifier, msg_start, len(result))\n"
     ]
    },
    {
     "name": "stdout",
     "output_type": "stream",
     "text": [
      " 42 9.42s trainloss=0.48879 validloss=0.65435 accuracy_score=0.48081 \n",
      " 43 9.41s trainloss=0.46866 validloss=0.63352 accuracy_score=0.70542 \n",
      " 44 9.41s trainloss=0.46433 validloss=0.62688 accuracy_score=0.64560 \n",
      " 45 9.42s trainloss=0.48113 validloss=0.46415 accuracy_score=0.76637 \n",
      " 46 9.40s trainloss=0.50221 validloss=0.53705 accuracy_score=0.66366 \n",
      " 47 9.40s trainloss=0.48833 validloss=0.53957 accuracy_score=0.74266 \n",
      " 48 9.40s trainloss=0.48409 validloss=0.50412 accuracy_score=0.72235 \n",
      " 49 9.37s trainloss=0.47454 validloss=0.54916 accuracy_score=0.73251 \n",
      " 50 9.46s trainloss=0.46975 validloss=0.49002 accuracy_score=0.75169 \n",
      " 51 9.42s trainloss=0.48864 validloss=0.60301 accuracy_score=0.71783 \n",
      " 52 9.41s trainloss=0.47670 validloss=0.60942 accuracy_score=0.70316 \n",
      " 53 9.40s trainloss=0.46769 validloss=0.50132 accuracy_score=0.73928 \n",
      " 54 9.36s trainloss=0.44978 validloss=0.63140 accuracy_score=0.61851 \n",
      " 55 9.37s trainloss=0.45579 validloss=0.46277 accuracy_score=0.76298 \n",
      " 56 9.37s trainloss=0.44728 validloss=0.56949 accuracy_score=0.74266 \n",
      " 57 9.36s trainloss=0.47527 validloss=0.87218 accuracy_score=0.70316 \n",
      " 58 9.43s trainloss=0.49279 validloss=0.65499 accuracy_score=0.62980 \n",
      " 59 9.48s trainloss=0.48679 validloss=0.55087 accuracy_score=0.69752 \n",
      " 60 9.44s trainloss=0.47950 validloss=2.23675 accuracy_score=0.56208 \n",
      " 61 9.45s trainloss=0.47473 validloss=0.57177 accuracy_score=0.73476 \n",
      " 62 9.38s trainloss=0.45369 validloss=0.68131 accuracy_score=0.54176 \n",
      " 63 9.31s trainloss=0.50584 validloss=0.66235 accuracy_score=0.69977 \n"
     ]
    },
    {
     "name": "stderr",
     "output_type": "stream",
     "text": [
      "/opt/jupyterhub/anaconda/lib/python3.9/site-packages/sklearn/metrics/_classification.py:1308: UndefinedMetricWarning: Precision is ill-defined and being set to 0.0 in labels with no predicted samples. Use `zero_division` parameter to control this behavior.\n",
      "  _warn_prf(average, modifier, msg_start, len(result))\n"
     ]
    },
    {
     "name": "stdout",
     "output_type": "stream",
     "text": [
      " 64 9.32s trainloss=0.49554 validloss=0.63535 accuracy_score=0.48081 \n",
      " 65 9.51s trainloss=0.48213 validloss=0.84446 accuracy_score=0.62528 \n",
      " 66 9.41s trainloss=0.46242 validloss=1.33301 accuracy_score=0.61851 \n",
      " 67 9.42s trainloss=0.46814 validloss=0.61563 accuracy_score=0.66591 \n",
      " 68 9.39s trainloss=0.47925 validloss=0.62225 accuracy_score=0.52483 \n",
      " 69 9.41s trainloss=0.47771 validloss=0.68287 accuracy_score=0.61851 \n",
      " 70 9.39s trainloss=0.48841 validloss=0.64042 accuracy_score=0.48194 \n",
      " 71 9.38s trainloss=0.49275 validloss=0.64385 accuracy_score=0.48194 \n"
     ]
    },
    {
     "name": "stderr",
     "output_type": "stream",
     "text": [
      "/opt/jupyterhub/anaconda/lib/python3.9/site-packages/sklearn/metrics/_classification.py:1308: UndefinedMetricWarning: Precision is ill-defined and being set to 0.0 in labels with no predicted samples. Use `zero_division` parameter to control this behavior.\n",
      "  _warn_prf(average, modifier, msg_start, len(result))\n"
     ]
    },
    {
     "name": "stdout",
     "output_type": "stream",
     "text": [
      " 72 9.39s trainloss=0.47391 validloss=0.66185 accuracy_score=0.48081 \n",
      " 73 9.40s trainloss=0.47304 validloss=0.50081 accuracy_score=0.75847 \n",
      " 74 9.44s trainloss=0.46908 validloss=5.37714 accuracy_score=0.52370 \n",
      " 75 9.44s trainloss=0.48309 validloss=0.76714 accuracy_score=0.65576 \n",
      " 76 9.46s trainloss=0.47161 validloss=0.65620 accuracy_score=0.67269 \n",
      " 77 9.49s trainloss=0.47722 validloss=1.69352 accuracy_score=0.55530 \n",
      " 78 9.45s trainloss=0.49431 validloss=0.75286 accuracy_score=0.48420 \n",
      " 79 9.37s trainloss=0.47765 validloss=0.53660 accuracy_score=0.70090 \n",
      " 80 9.32s trainloss=0.48600 validloss=0.65611 accuracy_score=0.49323 \n",
      " 81 9.35s trainloss=0.56039 validloss=0.56094 accuracy_score=0.70203 \n",
      " 82 9.35s trainloss=0.51371 validloss=0.61682 accuracy_score=0.70203 \n",
      " 83 9.41s trainloss=0.50979 validloss=0.59714 accuracy_score=0.72009 \n",
      " 84 9.43s trainloss=0.48095 validloss=0.52992 accuracy_score=0.72799 \n"
     ]
    },
    {
     "name": "stderr",
     "output_type": "stream",
     "text": [
      "/opt/jupyterhub/anaconda/lib/python3.9/site-packages/sklearn/metrics/_classification.py:1308: UndefinedMetricWarning: Precision is ill-defined and being set to 0.0 in labels with no predicted samples. Use `zero_division` parameter to control this behavior.\n",
      "  _warn_prf(average, modifier, msg_start, len(result))\n"
     ]
    },
    {
     "name": "stdout",
     "output_type": "stream",
     "text": [
      " 85 9.46s trainloss=0.47048 validloss=0.67642 accuracy_score=0.48081 \n",
      " 86 9.42s trainloss=0.48762 validloss=0.69366 accuracy_score=0.52144 \n",
      " 87 9.36s trainloss=0.52061 validloss=0.69449 accuracy_score=0.53612 \n",
      " 88 9.35s trainloss=0.50981 validloss=0.62254 accuracy_score=0.69187 \n",
      " 89 9.40s trainloss=0.48685 validloss=28.41079 accuracy_score=0.51580 \n",
      " 90 9.43s trainloss=0.50766 validloss=0.78580 accuracy_score=0.60948 \n",
      " 91 9.38s trainloss=0.50327 validloss=0.66579 accuracy_score=0.48307 \n",
      " 92 9.44s trainloss=0.48242 validloss=0.52030 accuracy_score=0.68962 \n",
      " 93 9.37s trainloss=0.51925 validloss=0.69125 accuracy_score=0.47968 \n",
      " 94 9.27s trainloss=0.48693 validloss=0.75252 accuracy_score=0.60835 \n",
      " 95 9.25s trainloss=0.48688 validloss=0.61810 accuracy_score=0.71445 \n",
      " 96 9.26s trainloss=0.51183 validloss=0.52982 accuracy_score=0.74379 \n",
      " 97 9.38s trainloss=0.50902 validloss=0.82993 accuracy_score=0.59932 \n",
      " 98 9.42s trainloss=0.50376 validloss=0.61911 accuracy_score=0.62528 \n",
      " 99 9.54s trainloss=0.49015 validloss=0.72146 accuracy_score=0.56546 \n",
      "100 9.37s trainloss=0.47651 validloss=0.69443 accuracy_score=0.57336 \n"
     ]
    }
   ],
   "source": [
    "rn50_2_trainer.train(100, lr=0.01, weight_decay=0.4)"
   ]
  },
  {
   "cell_type": "code",
   "execution_count": 59,
   "id": "cd132447",
   "metadata": {},
   "outputs": [
    {
     "data": {
      "image/png": "[encoded data removed]",
      "text/plain": [
       "<Figure size 432x288 with 1 Axes>"
      ]
     },
     "metadata": {
      "needs_background": "light"
     },
     "output_type": "display_data"
    }
   ],
   "source": [
    "rn50_2_trainer.learning_curve()"
   ]
  },
  {
   "cell_type": "code",
   "execution_count": 60,
   "id": "a8c32a49",
   "metadata": {},
   "outputs": [
    {
     "data": {
      "image/png": "[encoded data removed]",
      "text/plain": [
       "<Figure size 432x288 with 1 Axes>"
      ]
     },
     "metadata": {
      "needs_background": "light"
     },
     "output_type": "display_data"
    }
   ],
   "source": [
    "rn50_2_trainer.learning_curve(y='accuracy_score')"
   ]
  },
  {
   "cell_type": "code",
   "execution_count": 61,
   "id": "c51b973f",
   "metadata": {},
   "outputs": [
    {
     "name": "stdout",
     "output_type": "stream",
     "text": [
      "     accuracy_score  epoch  prec_drinking  recall_drinking  recall_other\n",
      "43         0.779910   22.0       0.783784         0.748826      0.808696\n",
      "89         0.766366   45.0       0.754060         0.762911      0.769565\n",
      "109        0.762980   55.0       0.772727         0.718310      0.804348\n",
      "61         0.758465   31.0       0.703846         0.859155      0.665217\n",
      "145        0.758465   73.0       0.756039         0.734742      0.780435\n",
      "..              ...    ...            ...              ...           ...\n",
      "127        0.480813   64.0       0.480813         1.000000      0.000000\n",
      "5          0.480813    3.0       0.480813         1.000000      0.000000\n",
      "143        0.480813   72.0       0.480813         1.000000      0.000000\n",
      "169        0.480813   85.0       0.480813         1.000000      0.000000\n",
      "185        0.479684   93.0       0.480226         0.997653      0.000000\n",
      "\n",
      "[100 rows x 5 columns]\n"
     ]
    }
   ],
   "source": [
    "sort_epochs(rn50_2_trainer.evaluator, 'accuracy_score')"
   ]
  },
  {
   "cell_type": "markdown",
   "id": "218d83cd",
   "metadata": {},
   "source": [
    "# resnet 50"
   ]
  },
  {
   "cell_type": "code",
   "execution_count": 16,
   "id": "19d61be2",
   "metadata": {},
   "outputs": [],
   "source": [
    "rn50 = models.resnet50(pretrained=True)\n",
    "rn50.conv1 = nn.Conv2d(1, rn50.conv1.out_channels,\n",
    "              kernel_size=rn50.conv1.kernel_size[0], \n",
    "                      stride=rn50.conv1.stride[0], \n",
    "                      padding=rn50.conv1.padding[0])\n",
    "num_ftrs = rn50.fc.in_features\n",
    "rn50.fc = nn.Linear(num_ftrs, 2)\n",
    "\n",
    "rn50.post_forward = post_forward\n",
    "\n",
    "rn50_trainer = trainer(rn50, nn.CrossEntropyLoss(weight=normedWeights), train_loader, valid_loader, test_loader, metrics=metrics, gpu=True)"
   ]
  },
  {
   "cell_type": "code",
   "execution_count": null,
   "id": "92785ae4",
   "metadata": {},
   "outputs": [
    {
     "data": {
      "application/vnd.jupyter.widget-view+json": {
       "model_id": "9af57f2d92ee4d729a7a65f24a67bb80",
       "version_major": 2,
       "version_minor": 0
      },
      "text/plain": [
       "Total:   0%|          | 0/448000 [00:00<?, ?it/s]"
      ]
     },
     "metadata": {},
     "output_type": "display_data"
    },
    {
     "name": "stdout",
     "output_type": "stream",
     "text": [
      "  1 24.07s trainloss=1.32390 validloss=1.41972 accuracy_score=0.56321 \n",
      "  2 6.44s trainloss=0.65278 validloss=0.75836 accuracy_score=0.51467 \n",
      "  3 5.73s trainloss=0.60840 validloss=2.05848 accuracy_score=0.41309 \n",
      "  4 5.73s trainloss=0.59328 validloss=1.47242 accuracy_score=0.60384 \n",
      "  5 5.74s trainloss=0.57407 validloss=0.94536 accuracy_score=0.60722 \n",
      "  6 5.84s trainloss=0.56587 validloss=0.83030 accuracy_score=0.66140 \n",
      "  7 5.76s trainloss=0.54272 validloss=0.64859 accuracy_score=0.64560 \n",
      "  8 5.77s trainloss=0.49231 validloss=0.77810 accuracy_score=0.70542 \n",
      "  9 5.76s trainloss=0.44855 validloss=0.52917 accuracy_score=0.74041 \n",
      " 10 5.76s trainloss=0.42634 validloss=0.55516 accuracy_score=0.76298 \n",
      " 11 5.78s trainloss=0.40312 validloss=1.42631 accuracy_score=0.67494 \n",
      " 12 5.78s trainloss=0.38168 validloss=1.38393 accuracy_score=0.50451 \n",
      " 13 5.78s trainloss=0.37061 validloss=0.89338 accuracy_score=0.53047 \n",
      " 14 5.79s trainloss=0.34587 validloss=0.63154 accuracy_score=0.64786 \n",
      " 15 5.78s trainloss=0.32741 validloss=0.63370 accuracy_score=0.64108 \n",
      " 16 5.78s trainloss=0.29990 validloss=1.14495 accuracy_score=0.52596 \n",
      " 17 5.79s trainloss=0.29080 validloss=0.39776 accuracy_score=0.82280 \n",
      " 18 5.78s trainloss=0.26757 validloss=0.57842 accuracy_score=0.75847 \n",
      " 19 5.78s trainloss=0.28316 validloss=0.40277 accuracy_score=0.81151 \n",
      " 20 5.79s trainloss=0.26209 validloss=0.84268 accuracy_score=0.54515 \n",
      " 21 5.80s trainloss=0.23968 validloss=0.90887 accuracy_score=0.62190 \n",
      " 22 5.79s trainloss=0.23475 validloss=2.76571 accuracy_score=0.64673 \n",
      " 23 5.80s trainloss=0.21911 validloss=1.54827 accuracy_score=0.60609 \n",
      " 24 5.78s trainloss=0.22067 validloss=0.42799 accuracy_score=0.80361 \n",
      " 25 5.79s trainloss=0.19155 validloss=2.42334 accuracy_score=0.52144 \n",
      " 26 5.79s trainloss=0.18432 validloss=0.41636 accuracy_score=0.82957 \n",
      " 27 5.79s trainloss=0.18059 validloss=0.66975 accuracy_score=0.70203 \n",
      " 28 5.79s trainloss=0.21738 validloss=0.77810 accuracy_score=0.64786 \n",
      " 29 5.79s trainloss=0.16740 validloss=1.43667 accuracy_score=0.58691 \n",
      " 30 5.78s trainloss=0.15370 validloss=0.54595 accuracy_score=0.79684 \n",
      " 31 5.78s trainloss=0.15117 validloss=1.17138 accuracy_score=0.68736 \n",
      " 32 5.78s trainloss=0.14514 validloss=0.44326 accuracy_score=0.81941 \n",
      " 33 5.78s trainloss=0.13327 validloss=0.47866 accuracy_score=0.81264 \n",
      " 34 5.78s trainloss=0.12542 validloss=0.50935 accuracy_score=0.79007 \n",
      " 35 5.78s trainloss=0.12889 validloss=0.72708 accuracy_score=0.78442 \n",
      " 36 5.78s trainloss=0.12059 validloss=0.79105 accuracy_score=0.79007 \n",
      " 37 5.79s trainloss=0.11733 validloss=2.21232 accuracy_score=0.56095 \n",
      " 38 5.81s trainloss=0.13021 validloss=0.40534 accuracy_score=0.84876 \n",
      " 39 5.79s trainloss=0.10554 validloss=0.43070 accuracy_score=0.87698 \n",
      " 40 5.79s trainloss=0.09628 validloss=1.75011 accuracy_score=0.64334 \n",
      " 41 5.80s trainloss=0.10176 validloss=0.62281 accuracy_score=0.82731 \n",
      " 42 5.79s trainloss=0.07969 validloss=0.73178 accuracy_score=0.81151 \n",
      " 43 5.80s trainloss=0.11080 validloss=1.14188 accuracy_score=0.79120 \n",
      " 44 5.79s trainloss=0.07019 validloss=0.73269 accuracy_score=0.85327 \n",
      " 45 5.90s trainloss=0.09735 validloss=2.38188 accuracy_score=0.60271 \n",
      " 46 5.79s trainloss=0.10300 validloss=0.84411 accuracy_score=0.75621 \n",
      " 47 5.79s trainloss=0.07115 validloss=0.98883 accuracy_score=0.78781 \n",
      " 48 5.79s trainloss=0.07190 validloss=1.98921 accuracy_score=0.64334 \n",
      " 49 5.79s trainloss=0.06687 validloss=0.72145 accuracy_score=0.76524 \n",
      " 50 5.78s trainloss=0.08254 validloss=1.81616 accuracy_score=0.71332 \n",
      " 51 5.78s trainloss=0.06210 validloss=0.83893 accuracy_score=0.83409 \n",
      " 52 5.79s trainloss=0.05518 validloss=10.54629 accuracy_score=0.50000 \n",
      " 53 5.79s trainloss=0.08716 validloss=0.82876 accuracy_score=0.78894 \n",
      " 54 5.79s trainloss=0.07543 validloss=0.91983 accuracy_score=0.79458 \n",
      " 55 5.79s trainloss=0.04094 validloss=1.18852 accuracy_score=0.79910 \n",
      " 56 5.79s trainloss=0.05329 validloss=1.00725 accuracy_score=0.83409 \n",
      " 57 5.79s trainloss=0.04515 validloss=0.83843 accuracy_score=0.82844 \n",
      " 58 5.79s trainloss=0.08435 validloss=3.53536 accuracy_score=0.56885 \n",
      " 59 5.80s trainloss=0.07511 validloss=0.71785 accuracy_score=0.83183 \n",
      " 60 5.79s trainloss=0.05372 validloss=0.49020 accuracy_score=0.86117 \n",
      " 61 5.78s trainloss=0.04389 validloss=0.49007 accuracy_score=0.87133 \n",
      " 62 5.78s trainloss=0.04710 validloss=1.47433 accuracy_score=0.74944 \n",
      " 63 5.79s trainloss=0.04978 validloss=0.88655 accuracy_score=0.83634 \n",
      " 64 5.79s trainloss=0.04505 validloss=0.98162 accuracy_score=0.80135 \n",
      " 65 5.78s trainloss=0.06471 validloss=0.72050 accuracy_score=0.80587 \n",
      " 66 5.80s trainloss=0.06583 validloss=0.57959 accuracy_score=0.84086 \n",
      " 67 5.79s trainloss=0.06264 validloss=1.33995 accuracy_score=0.75056 \n",
      " 68 5.79s trainloss=0.04514 validloss=0.93205 accuracy_score=0.78555 \n",
      " 69 5.79s trainloss=0.02642 validloss=1.30895 accuracy_score=0.71332 \n",
      " 70 5.79s trainloss=0.03578 validloss=3.05734 accuracy_score=0.58804 \n",
      " 71 5.78s trainloss=0.04351 validloss=2.32821 accuracy_score=0.63544 \n",
      " 72 5.79s trainloss=0.04529 validloss=2.36720 accuracy_score=0.62190 \n",
      " 73 5.79s trainloss=0.06617 validloss=2.56165 accuracy_score=0.59819 \n",
      " 74 5.79s trainloss=0.04121 validloss=0.89740 accuracy_score=0.68510 \n",
      " 75 5.80s trainloss=0.06598 validloss=6.57410 accuracy_score=0.52822 \n",
      " 76 5.80s trainloss=0.04058 validloss=0.56430 accuracy_score=0.85666 \n",
      " 77 5.80s trainloss=0.03362 validloss=1.20692 accuracy_score=0.75508 \n",
      " 78 5.79s trainloss=0.03268 validloss=2.66873 accuracy_score=0.60609 \n",
      " 79 5.80s trainloss=0.03977 validloss=0.96314 accuracy_score=0.63318 \n",
      " 80 5.79s trainloss=0.08245 validloss=0.99676 accuracy_score=0.77652 \n",
      " 81 6.41s trainloss=0.03105 validloss=0.91104 accuracy_score=0.80587 \n",
      " 82 5.79s trainloss=0.05344 validloss=1.65665 accuracy_score=0.66817 \n",
      " 83 5.78s trainloss=0.04692 validloss=1.05431 accuracy_score=0.70655 \n",
      " 84 5.91s trainloss=0.02178 validloss=0.84705 accuracy_score=0.82844 \n",
      " 85 5.95s trainloss=0.04439 validloss=1.42433 accuracy_score=0.76411 \n",
      " 86 5.84s trainloss=0.06661 validloss=1.42522 accuracy_score=0.66027 \n",
      " 87 5.85s trainloss=0.03702 validloss=1.09565 accuracy_score=0.77991 \n",
      " 88 6.11s trainloss=0.02940 validloss=0.97628 accuracy_score=0.83860 \n",
      " 89 5.85s trainloss=0.02471 validloss=1.22568 accuracy_score=0.82167 \n",
      " 90 6.35s trainloss=0.05357 validloss=0.68350 accuracy_score=0.85892 \n",
      " 91 5.83s trainloss=0.05481 validloss=1.14841 accuracy_score=0.81828 \n",
      " 92 5.82s trainloss=0.02697 validloss=0.82594 accuracy_score=0.85327 \n",
      " 93 5.83s trainloss=0.01607 validloss=1.36993 accuracy_score=0.71896 \n",
      " 94 5.83s trainloss=0.01628 validloss=1.32655 accuracy_score=0.80700 \n",
      " 95 5.82s trainloss=0.03713 validloss=0.84770 accuracy_score=0.72799 \n",
      " 96 5.82s trainloss=0.04049 validloss=2.68536 accuracy_score=0.60722 \n",
      " 97 5.83s trainloss=0.04253 validloss=1.13569 accuracy_score=0.80361 \n",
      " 98 5.82s trainloss=0.03206 validloss=1.38854 accuracy_score=0.77427 \n"
     ]
    }
   ],
   "source": [
    "rn50_trainer.train(100, lr=0.01)"
   ]
  },
  {
   "cell_type": "code",
   "execution_count": null,
   "id": "b4cf3450",
   "metadata": {},
   "outputs": [],
   "source": [
    "rn50_trainer.learning_curve()"
   ]
  },
  {
   "cell_type": "code",
   "execution_count": null,
   "id": "ceb911d2",
   "metadata": {},
   "outputs": [],
   "source": [
    "rn50_trainer.learning_curve(y='accuracy_score')"
   ]
  },
  {
   "cell_type": "code",
   "execution_count": null,
   "id": "f2b25406",
   "metadata": {},
   "outputs": [],
   "source": [
    "sort_epochs(rn50_trainer.evaluator, 'accuracy_score')"
   ]
  },
  {
   "cell_type": "markdown",
   "id": "17cdf419",
   "metadata": {},
   "source": [
    "# End notebook"
   ]
  },
  {
   "cell_type": "code",
   "execution_count": null,
   "id": "f01ed17b",
   "metadata": {},
   "outputs": [],
   "source": [
    "%%javascript\n",
    "Jupyter.notebook.session.delete();"
   ]
  },
  {
   "cell_type": "code",
   "execution_count": null,
   "id": "cdf7a1ea",
   "metadata": {},
   "outputs": [],
   "source": []
  },
  {
   "cell_type": "code",
   "execution_count": null,
   "id": "b5141c42",
   "metadata": {},
   "outputs": [],
   "source": []
  }
 ],
 "metadata": {
  "kernelspec": {
   "display_name": "Python 3 (ipykernel)",
   "language": "python",
   "name": "python3"
  },
  "language_info": {
   "codemirror_mode": {
    "name": "ipython",
    "version": 3
   },
   "file_extension": ".py",
   "mimetype": "text/x-python",
   "name": "python",
   "nbconvert_exporter": "python",
   "pygments_lexer": "ipython3",
   "version": "3.9.7"
  }
 },
 "nbformat": 4,
 "nbformat_minor": 5
}
