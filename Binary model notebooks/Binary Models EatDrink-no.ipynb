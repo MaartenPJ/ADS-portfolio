{
 "cells": [
  {
   "cell_type": "code",
   "execution_count": 1,
   "id": "adb7f461",
   "metadata": {},
   "outputs": [
    {
     "name": "stdout",
     "output_type": "stream",
     "text": [
      "using gpu 0\n"
     ]
    }
   ],
   "source": [
    "import pandas as pd\n",
    "import torchaudio\n",
    "import torch\n",
    "import torch.nn.functional as F\n",
    "import numpy as np\n",
    "from sklearn.metrics import accuracy_score, precision_score, recall_score\n",
    "from torch.utils.data import Dataset, DataLoader\n",
    "import torch.nn as nn\n",
    "from pipetorch.train import *\n",
    "from sklearn.metrics import confusion_matrix, multilabel_confusion_matrix\n",
    "import seaborn as sns\n",
    "import math\n",
    "import matplotlib.pyplot as plt\n",
    "from torchvision import models\n",
    "from torch.utils.data import WeightedRandomSampler"
   ]
  },
  {
   "cell_type": "code",
   "execution_count": 2,
   "id": "11d27d12",
   "metadata": {},
   "outputs": [
    {
     "data": {
      "text/html": [
       "<div>\n",
       "<style scoped>\n",
       "    .dataframe tbody tr th:only-of-type {\n",
       "        vertical-align: middle;\n",
       "    }\n",
       "\n",
       "    .dataframe tbody tr th {\n",
       "        vertical-align: top;\n",
       "    }\n",
       "\n",
       "    .dataframe thead th {\n",
       "        text-align: right;\n",
       "    }\n",
       "</style>\n",
       "<table border=\"1\" class=\"dataframe\">\n",
       "  <thead>\n",
       "    <tr style=\"text-align: right;\">\n",
       "      <th></th>\n",
       "      <th>filename</th>\n",
       "      <th>modification</th>\n",
       "      <th>label</th>\n",
       "    </tr>\n",
       "  </thead>\n",
       "  <tbody>\n",
       "    <tr>\n",
       "      <th>0</th>\n",
       "      <td>-4wthmfwlwQ_260.pt</td>\n",
       "      <td>None</td>\n",
       "      <td>chewing</td>\n",
       "    </tr>\n",
       "    <tr>\n",
       "      <th>1</th>\n",
       "      <td>-5IpgOv9HD0_30.pt</td>\n",
       "      <td>None</td>\n",
       "      <td>chewing</td>\n",
       "    </tr>\n",
       "    <tr>\n",
       "      <th>2</th>\n",
       "      <td>-KO1p22zjVc_470.pt</td>\n",
       "      <td>None</td>\n",
       "      <td>chewing</td>\n",
       "    </tr>\n",
       "    <tr>\n",
       "      <th>3</th>\n",
       "      <td>-t-lmWNCXt0_10.pt</td>\n",
       "      <td>None</td>\n",
       "      <td>chewing</td>\n",
       "    </tr>\n",
       "    <tr>\n",
       "      <th>4</th>\n",
       "      <td>-t95P0R9Pf0_60.pt</td>\n",
       "      <td>None</td>\n",
       "      <td>chewing</td>\n",
       "    </tr>\n",
       "    <tr>\n",
       "      <th>...</th>\n",
       "      <td>...</td>\n",
       "      <td>...</td>\n",
       "      <td>...</td>\n",
       "    </tr>\n",
       "    <tr>\n",
       "      <th>7827</th>\n",
       "      <td>4gBf0FWwKnQ_100_squeezed.pt</td>\n",
       "      <td>squeezed</td>\n",
       "      <td>other</td>\n",
       "    </tr>\n",
       "    <tr>\n",
       "      <th>7828</th>\n",
       "      <td>4gBf0FWwKnQ_100_extended.pt</td>\n",
       "      <td>extended</td>\n",
       "      <td>other</td>\n",
       "    </tr>\n",
       "    <tr>\n",
       "      <th>7829</th>\n",
       "      <td>4gBf0FWwKnQ_100_shiftRight.pt</td>\n",
       "      <td>shiftRight</td>\n",
       "      <td>other</td>\n",
       "    </tr>\n",
       "    <tr>\n",
       "      <th>7830</th>\n",
       "      <td>4gBf0FWwKnQ_100_shiftLeft.pt</td>\n",
       "      <td>shiftLeft</td>\n",
       "      <td>other</td>\n",
       "    </tr>\n",
       "    <tr>\n",
       "      <th>7831</th>\n",
       "      <td>4gBf0FWwKnQ_100_background_sound.pt</td>\n",
       "      <td>background_sound</td>\n",
       "      <td>other</td>\n",
       "    </tr>\n",
       "  </tbody>\n",
       "</table>\n",
       "<p>7832 rows × 3 columns</p>\n",
       "</div>"
      ],
      "text/plain": [
       "                                 filename      modification    label\n",
       "0                      -4wthmfwlwQ_260.pt              None  chewing\n",
       "1                       -5IpgOv9HD0_30.pt              None  chewing\n",
       "2                      -KO1p22zjVc_470.pt              None  chewing\n",
       "3                       -t-lmWNCXt0_10.pt              None  chewing\n",
       "4                       -t95P0R9Pf0_60.pt              None  chewing\n",
       "...                                   ...               ...      ...\n",
       "7827          4gBf0FWwKnQ_100_squeezed.pt          squeezed    other\n",
       "7828          4gBf0FWwKnQ_100_extended.pt          extended    other\n",
       "7829        4gBf0FWwKnQ_100_shiftRight.pt        shiftRight    other\n",
       "7830         4gBf0FWwKnQ_100_shiftLeft.pt         shiftLeft    other\n",
       "7831  4gBf0FWwKnQ_100_background_sound.pt  background_sound    other\n",
       "\n",
       "[7832 rows x 3 columns]"
      ]
     },
     "execution_count": 2,
     "metadata": {},
     "output_type": "execute_result"
    }
   ],
   "source": [
    "df = pd.read_csv('../nourish/res/dataset_tensors_melspec/train/audio_train_augmented_melspec_tensors.csv')\n",
    "df"
   ]
  },
  {
   "cell_type": "code",
   "execution_count": 3,
   "id": "66d1f891",
   "metadata": {},
   "outputs": [],
   "source": [
    "class AudioSet(Dataset):\n",
    "    def __init__(self, df, root_dir, in_col, out_col, length_sec, sampling_rate):\n",
    "        self.df = df\n",
    "        self.root_dir = root_dir\n",
    "        self.in_col = in_col\n",
    "        self.out_col = out_col\n",
    "        self.length_sec = length_sec\n",
    "        self.sampling_rate = sampling_rate\n",
    "        \n",
    "        self.c2i = {'chewing': 0, 'drinking': 0, 'other': 1}\n",
    "        self.i2c = {0: 'chewing', 1: 'other'}\n",
    "        \n",
    "    def __getitem__(self, index):\n",
    "        filepath = self.root_dir + self.df.iloc[index][self.in_col]\n",
    "        data = torch.load(filepath)\n",
    "        label = self.c2i[self.df.iloc[index][self.out_col]]\n",
    "        return data.cuda(), label\n",
    "        \n",
    "    def __len__(self):\n",
    "        return len(self.df)"
   ]
  },
  {
   "cell_type": "code",
   "execution_count": 4,
   "id": "59de4884",
   "metadata": {},
   "outputs": [],
   "source": [
    "def my_precision_score(true_y, pred_y):\n",
    "    return precision_score(true_y, pred_y, average=None)"
   ]
  },
  {
   "cell_type": "code",
   "execution_count": 5,
   "id": "b94c7871",
   "metadata": {},
   "outputs": [],
   "source": [
    "def my_recall_score(true_y, pred_y):\n",
    "    return recall_score(true_y, pred_y, average=None)"
   ]
  },
  {
   "cell_type": "code",
   "execution_count": 6,
   "id": "bfbf44a5",
   "metadata": {},
   "outputs": [],
   "source": [
    "def sort_epochs(results, by):\n",
    "    results = results[results['phase'] != '']\n",
    "    results[['prec_chewing', 'prec_other']] = pd.DataFrame(results['my_precision_score'].tolist(), index=results.index)\n",
    "    results[['recall_chewing', 'recall_other']] = pd.DataFrame(results['my_recall_score'].tolist(), index=results.index)\n",
    "\n",
    "    results = results[results['phase'] == 'valid']\n",
    "    results = results.sort_values(by, ascending=False)\n",
    "    print(results[['accuracy_score', 'epoch', 'prec_chewing', 'recall_chewing', 'recall_other']])"
   ]
  },
  {
   "cell_type": "code",
   "execution_count": 7,
   "id": "060ecb4c",
   "metadata": {},
   "outputs": [],
   "source": [
    "\n",
    "# thanks to https://github.com/DTrimarchi10/confusion_matrix/blob/master/cf_matrix.py\n",
    "# modified the function a little to fit our needs\n",
    "\n",
    "def make_confusion_matrix(true_y,\n",
    "                          pred_y,\n",
    "                          group_names=None,\n",
    "                          categories='auto',\n",
    "                          count=True,\n",
    "                          percent=True,\n",
    "                          cbar=True,\n",
    "                          xyticks=True,\n",
    "                          xyplotlabels=True,\n",
    "                          sum_stats=True,\n",
    "                          figsize=None,\n",
    "                          cmap='Blues',\n",
    "                          title=None):\n",
    "    '''\n",
    "    This function will make a pretty plot of an sklearn Confusion Matrix cm using a Seaborn heatmap visualization.\n",
    "    Arguments\n",
    "    ---------\n",
    "    cf:            confusion matrix to be passed in\n",
    "    group_names:   List of strings that represent the labels row by row to be shown in each square.\n",
    "    categories:    List of strings containing the categories to be displayed on the x,y axis. Default is 'auto'\n",
    "    count:         If True, show the raw number in the confusion matrix. Default is True.\n",
    "    normalize:     If True, show the proportions for each category. Default is True.\n",
    "    cbar:          If True, show the color bar. The cbar values are based off the values in the confusion matrix.\n",
    "                   Default is True.\n",
    "    xyticks:       If True, show x and y ticks. Default is True.\n",
    "    xyplotlabels:  If True, show 'True Label' and 'Predicted Label' on the figure. Default is True.\n",
    "    sum_stats:     If True, display summary statistics below the figure. Default is True.\n",
    "    figsize:       Tuple representing the figure size. Default will be the matplotlib rcParams value.\n",
    "    cmap:          Colormap of the values displayed from matplotlib.pyplot.cm. Default is 'Blues'\n",
    "                   See http://matplotlib.org/examples/color/colormaps_reference.html\n",
    "                   \n",
    "    title:         Title for the heatmap. Default is None.\n",
    "    '''\n",
    "    \n",
    "    cf = confusion_matrix(true_y, pred_y)\n",
    "    # CODE TO GENERATE TEXT INSIDE EACH SQUARE\n",
    "    blanks = ['' for i in range(cf.size)]\n",
    "\n",
    "    if group_names and len(group_names)==cf.size:\n",
    "        group_labels = [\"{}\\n\".format(value) for value in group_names]\n",
    "    else:\n",
    "        group_labels = blanks\n",
    "\n",
    "    if count:\n",
    "        group_counts = [\"{0:0.0f}\\n\".format(value) for value in cf.flatten()]\n",
    "    else:\n",
    "        group_counts = blanks\n",
    "\n",
    "    if percent:\n",
    "        group_percentages = [round(value / np.sum(cf[i // 3]) * 100, 2) for i, value in enumerate(cf.flatten())]\n",
    "    else:\n",
    "        group_percentages = blanks\n",
    "\n",
    "    box_labels = [f\"{v1}{v2}{v3}%\".strip() for v1, v2, v3 in zip(group_labels,group_counts,group_percentages)]\n",
    "    box_labels = np.asarray(box_labels).reshape(cf.shape[0],cf.shape[1])\n",
    "\n",
    "    # CODE TO GENERATE SUMMARY STATISTICS & TEXT FOR SUMMARY STATS\n",
    "    if sum_stats:\n",
    "        #Accuracy is sum of diagonal divided by total observations\n",
    "        accuracy  = np.trace(cf) / float(np.sum(cf))\n",
    "\n",
    "\n",
    "        #Metrics for Binary Confusion Matrices\n",
    "        precision = precision_score(true_y, pred_y, average=None)\n",
    "        \n",
    "        stats_text = \"\\n\\nAccuracy={:0.3f}\\nPrecision Chewing/drinking={:0.3f}\\n Precision other={:0.3f}\\n\".format(\n",
    "            accuracy, precision[0], precision[1])\n",
    "    else:\n",
    "        stats_text = \"\"\n",
    "\n",
    "\n",
    "    # SET FIGURE PARAMETERS ACCORDING TO OTHER ARGUMENTS\n",
    "    if figsize==None:\n",
    "        #Get default figure size if not set\n",
    "        figsize = plt.rcParams.get('figure.figsize')\n",
    "\n",
    "    if xyticks==False:\n",
    "        #Do not show categories if xyticks is False\n",
    "        categories=False\n",
    "    \n",
    "    group_percentages = np.reshape(group_percentages, (2, 2))\n",
    "\n",
    "    # MAKE THE HEATMAP VISUALIZATION\n",
    "    plt.figure(figsize=figsize)\n",
    "    sns.heatmap(\n",
    "        group_percentages,annot=box_labels,\n",
    "        fmt=\"\",cmap=cmap,cbar=cbar,xticklabels=categories,\n",
    "        yticklabels=categories, vmin=0, vmax=100)\n",
    "\n",
    "    if xyplotlabels:\n",
    "        plt.ylabel('True label')\n",
    "        plt.xlabel('Predicted label' + stats_text)\n",
    "    else:\n",
    "        plt.xlabel(stats_text)\n",
    "    \n",
    "    if title:\n",
    "        plt.title(title)"
   ]
  },
  {
   "cell_type": "code",
   "execution_count": 8,
   "id": "4e9c029b",
   "metadata": {},
   "outputs": [],
   "source": [
    "c2i = {'chewing': 0, 'drinking': 0, 'other': 1}\n",
    "\n",
    "def predict_test_set(model, df_test, audio_dir, print_wrong=True, gpu=True):\n",
    "    model = model.cuda() if gpu else model.cpu()\n",
    "    \n",
    "    # get labels and filenames\n",
    "    true_y = [c2i[label] for label in df_test['label'].values]\n",
    "    filenames = df_test['filename'].values\n",
    "    pred_y = []\n",
    "    \n",
    "    for filename in filenames:\n",
    "        t = torch.load(audio_dir + filename)\n",
    "        t = t.cuda() if gpu else t.cpu()\n",
    "        t = t[None, :] # expand the tensor\n",
    "        \n",
    "        with torch.no_grad():\n",
    "            pred = model(t)\n",
    "            pred = model.post_forward(pred)\n",
    "            pred_y.append(pred.data.cpu().numpy()[0])\n",
    "    # plot conf matrix\n",
    "    make_confusion_matrix(true_y, pred_y)\n",
    "    plt.show()\n",
    "    \n",
    "    if print_wrong:\n",
    "        # get false negatives and false positives of eating and drinking\n",
    "        fn_eating_ind = []\n",
    "        fn_drinking_ind = []\n",
    "        fp_eating_ind = []\n",
    "        fp_drinking_ind = []\n",
    "        for i, y in enumerate(zip(true_y, pred_y)):\n",
    "            if(y[0] != y[1]):\n",
    "                # fn eating\n",
    "                if y[0] == 0:\n",
    "                    fn_eating_ind.append(i)\n",
    "                \n",
    "                # fn drinking\n",
    "                if y[0] == 1:\n",
    "                    fn_drinking_ind.append(i)\n",
    "                \n",
    "                # fp eating\n",
    "                if y[1] == 0:\n",
    "                    fp_eating_ind.append(i)\n",
    "            \n",
    "                # fp drinking\n",
    "                if y[1] == 1:\n",
    "                    fp_drinking_ind.append(i)\n",
    "                \n",
    "        fn_eating_filenames = [filenames[i] for i in fn_eating_ind]\n",
    "        fn_drinking_filenames = [filenames[i] for i in fn_drinking_ind]\n",
    "        fp_eating_filenames = [filenames[i] for i in fp_eating_ind]\n",
    "        fp_drinking_filenames = [filenames[i] for i in fp_drinking_ind]\n",
    "    \n",
    "        # print it\n",
    "        print('FALSE NEGATIVES EATING:', end='\\n\\t')\n",
    "        print('\\n\\t'.join(fn_eating_filenames))\n",
    "        print('FALSE NEGATIVES DRINKING:', end='\\n\\t')\n",
    "        print('\\n\\t'.join(fn_drinking_filenames))\n",
    "        print('FALSE POSITIVES EATING:', end='\\n\\t')\n",
    "        print('\\n\\t'.join(fp_eating_filenames))\n",
    "        print('FALSE POSITIVES DRINKING:', end='\\n\\t')\n",
    "        print('\\n\\t'.join(fp_drinking_filenames))"
   ]
  },
  {
   "cell_type": "code",
   "execution_count": 9,
   "id": "0ec6204d",
   "metadata": {},
   "outputs": [],
   "source": [
    "df_pos = pd.concat([df[df['label']=='chewing'], df[df['label']=='drinking']])\n",
    "df_neg = df.drop(df_pos.index)\n",
    "bdf_neg = df_neg.sample(n=len(df_pos.index))\n",
    "bdf = pd.concat([df_pos, bdf_neg])"
   ]
  },
  {
   "cell_type": "code",
   "execution_count": 10,
   "id": "c6b086fc",
   "metadata": {},
   "outputs": [
    {
     "data": {
      "text/html": [
       "<div>\n",
       "<style scoped>\n",
       "    .dataframe tbody tr th:only-of-type {\n",
       "        vertical-align: middle;\n",
       "    }\n",
       "\n",
       "    .dataframe tbody tr th {\n",
       "        vertical-align: top;\n",
       "    }\n",
       "\n",
       "    .dataframe thead th {\n",
       "        text-align: right;\n",
       "    }\n",
       "</style>\n",
       "<table border=\"1\" class=\"dataframe\">\n",
       "  <thead>\n",
       "    <tr style=\"text-align: right;\">\n",
       "      <th></th>\n",
       "      <th>filename</th>\n",
       "      <th>modification</th>\n",
       "      <th>label</th>\n",
       "    </tr>\n",
       "  </thead>\n",
       "  <tbody>\n",
       "    <tr>\n",
       "      <th>2780</th>\n",
       "      <td>C0jnh2o4Gj4_580_squeezed.pt</td>\n",
       "      <td>squeezed</td>\n",
       "      <td>chewing</td>\n",
       "    </tr>\n",
       "    <tr>\n",
       "      <th>2235</th>\n",
       "      <td>3LssvSirTQc_140_extended.pt</td>\n",
       "      <td>extended</td>\n",
       "      <td>chewing</td>\n",
       "    </tr>\n",
       "    <tr>\n",
       "      <th>417</th>\n",
       "      <td>drinks_6_11.pt</td>\n",
       "      <td>None</td>\n",
       "      <td>drinking</td>\n",
       "    </tr>\n",
       "    <tr>\n",
       "      <th>456</th>\n",
       "      <td>drinks_6_51.pt</td>\n",
       "      <td>None</td>\n",
       "      <td>drinking</td>\n",
       "    </tr>\n",
       "    <tr>\n",
       "      <th>1711</th>\n",
       "      <td>0MGzTdcPIPI_16.pt</td>\n",
       "      <td>None</td>\n",
       "      <td>other</td>\n",
       "    </tr>\n",
       "    <tr>\n",
       "      <th>...</th>\n",
       "      <td>...</td>\n",
       "      <td>...</td>\n",
       "      <td>...</td>\n",
       "    </tr>\n",
       "    <tr>\n",
       "      <th>952</th>\n",
       "      <td>-MF5vEZw19Q_130.pt</td>\n",
       "      <td>None</td>\n",
       "      <td>other</td>\n",
       "    </tr>\n",
       "    <tr>\n",
       "      <th>5094</th>\n",
       "      <td>drinks_6_42_background_sound.pt</td>\n",
       "      <td>background_sound</td>\n",
       "      <td>drinking</td>\n",
       "    </tr>\n",
       "    <tr>\n",
       "      <th>4320</th>\n",
       "      <td>drinks_3_03_squeezed.pt</td>\n",
       "      <td>squeezed</td>\n",
       "      <td>drinking</td>\n",
       "    </tr>\n",
       "    <tr>\n",
       "      <th>3175</th>\n",
       "      <td>KLnEV0O3nfo_400_shiftLeft.pt</td>\n",
       "      <td>shiftLeft</td>\n",
       "      <td>chewing</td>\n",
       "    </tr>\n",
       "    <tr>\n",
       "      <th>6564</th>\n",
       "      <td>-kPtNhUQVJI_30_background_sound.pt</td>\n",
       "      <td>background_sound</td>\n",
       "      <td>other</td>\n",
       "    </tr>\n",
       "  </tbody>\n",
       "</table>\n",
       "<p>6260 rows × 3 columns</p>\n",
       "</div>"
      ],
      "text/plain": [
       "                                filename      modification     label\n",
       "2780         C0jnh2o4Gj4_580_squeezed.pt          squeezed   chewing\n",
       "2235         3LssvSirTQc_140_extended.pt          extended   chewing\n",
       "417                       drinks_6_11.pt              None  drinking\n",
       "456                       drinks_6_51.pt              None  drinking\n",
       "1711                   0MGzTdcPIPI_16.pt              None     other\n",
       "...                                  ...               ...       ...\n",
       "952                   -MF5vEZw19Q_130.pt              None     other\n",
       "5094     drinks_6_42_background_sound.pt  background_sound  drinking\n",
       "4320             drinks_3_03_squeezed.pt          squeezed  drinking\n",
       "3175        KLnEV0O3nfo_400_shiftLeft.pt         shiftLeft   chewing\n",
       "6564  -kPtNhUQVJI_30_background_sound.pt  background_sound     other\n",
       "\n",
       "[6260 rows x 3 columns]"
      ]
     },
     "execution_count": 10,
     "metadata": {},
     "output_type": "execute_result"
    }
   ],
   "source": [
    "df_valid = bdf.sample(n=int((len(bdf.index))/5))\n",
    "df_train = bdf.drop(df_valid.index)\n",
    "df_test = pd.read_csv('../nourish/res/dataset_tensors_melspec/test/audio_test_melspec_tensors.csv')\n",
    "# shuffling the sets\n",
    "df_valid = df_valid.sample(frac=1)\n",
    "df_train = df_train.sample(frac=1)\n",
    "df_test = df_test.sample(frac=1)\n",
    "df_train"
   ]
  },
  {
   "cell_type": "code",
   "execution_count": 11,
   "id": "c2e495d1",
   "metadata": {},
   "outputs": [],
   "source": [
    "batch_size = 64\n",
    "\n",
    "root_dir_train = '../nourish/res/dataset_tensors_melspec/train/audio/'\n",
    "root_dir_test = '../nourish/res/dataset_tensors_melspec/test/audio/'\n",
    "train_data = AudioSet(df_train, root_dir_train, 'filename', 'label', 10, 16000)\n",
    "valid_data = AudioSet(df_valid, root_dir_train, 'filename', 'label', 10, 16000)\n",
    "test_data = AudioSet(df_test, root_dir_test, 'filename', 'label', 10, 16000)\n",
    "train_loader = DataLoader(train_data, batch_size=batch_size, shuffle=True)\n",
    "valid_loader = DataLoader(valid_data, batch_size=batch_size, shuffle=True)\n",
    "test_loader = DataLoader(test_data, batch_size=test_data.__len__(), shuffle=True)\n",
    "\n",
    "lr = 0.001\n",
    "epochs = 100\n",
    "\n",
    "metrics = [accuracy_score, my_precision_score, my_recall_score]"
   ]
  },
  {
   "cell_type": "markdown",
   "id": "3c7ac40e",
   "metadata": {},
   "source": [
    "# 1 conv 1 lin"
   ]
  },
  {
   "cell_type": "code",
   "execution_count": 61,
   "id": "967ad215",
   "metadata": {},
   "outputs": [],
   "source": [
    "class cnn1Layer1(nn.Module):\n",
    "    def __init__(self, out_channels):\n",
    "        super().__init__()\n",
    "        self.out_channels = out_channels\n",
    "        self.layer1 = nn.Sequential(\n",
    "            nn.Conv2d(1, self.out_channels, kernel_size=3, stride=1, padding=1),\n",
    "            nn.ReLU(),\n",
    "            nn.MaxPool2d(kernel_size=2, stride=2)\n",
    "            )\n",
    "        self.w1 = nn.Linear(self.out_channels*16*100 , 2)\n",
    "        \n",
    "    def forward(self, X):\n",
    "        X = self.layer1(X)\n",
    "        X = X.reshape(-1, self.out_channels*16*100)\n",
    "        X = self.w1(X)\n",
    "        return X\n",
    "        \n",
    "    def post_forward(self, y):\n",
    "        return torch.argmax(y, axis=1)"
   ]
  },
  {
   "cell_type": "code",
   "execution_count": 62,
   "id": "5ebc82f1",
   "metadata": {},
   "outputs": [
    {
     "data": {
      "application/vnd.jupyter.widget-view+json": {
       "model_id": "",
       "version_major": 2,
       "version_minor": 0
      },
      "text/plain": [
       "Total:   0%|          | 0/787200 [00:00<?, ?it/s]"
      ]
     },
     "metadata": {},
     "output_type": "display_data"
    },
    {
     "name": "stdout",
     "output_type": "stream",
     "text": [
      "  1 4.76s trainloss=210.54791 validloss=92.05612 accuracy_score=0.65921 \n",
      "  2 4.69s trainloss=59.26558 validloss=84.19698 accuracy_score=0.66176 \n",
      "  3 4.69s trainloss=36.42426 validloss=35.17392 accuracy_score=0.69693 \n",
      "  4 4.69s trainloss=12.31715 validloss=27.83709 accuracy_score=0.68798 \n",
      "  5 4.69s trainloss=7.74078 validloss=24.40428 accuracy_score=0.69757 \n",
      "  6 4.71s trainloss=6.11801 validloss=26.28150 accuracy_score=0.69629 \n",
      "  7 4.71s trainloss=5.68569 validloss=21.60367 accuracy_score=0.68862 \n",
      "  8 4.70s trainloss=4.53864 validloss=18.93958 accuracy_score=0.70460 \n",
      "  9 4.70s trainloss=2.96559 validloss=19.99244 accuracy_score=0.69246 \n",
      " 10 4.71s trainloss=3.29187 validloss=17.13955 accuracy_score=0.69118 \n",
      " 11 4.68s trainloss=2.92276 validloss=18.77422 accuracy_score=0.68798 \n",
      " 12 4.68s trainloss=2.49388 validloss=15.14423 accuracy_score=0.70396 \n",
      " 13 4.68s trainloss=2.52270 validloss=14.64806 accuracy_score=0.70652 \n",
      " 14 4.68s trainloss=1.98344 validloss=15.33120 accuracy_score=0.69246 \n",
      " 15 4.70s trainloss=2.37242 validloss=13.89507 accuracy_score=0.69693 \n",
      " 16 4.69s trainloss=2.24610 validloss=13.33757 accuracy_score=0.70524 \n",
      " 17 4.66s trainloss=2.04683 validloss=12.93884 accuracy_score=0.70013 \n",
      " 18 4.65s trainloss=1.60480 validloss=13.46422 accuracy_score=0.70013 \n",
      " 19 4.65s trainloss=1.50132 validloss=12.94921 accuracy_score=0.69565 \n",
      " 20 4.65s trainloss=1.57457 validloss=12.19056 accuracy_score=0.69885 \n",
      " 21 4.66s trainloss=1.45655 validloss=10.58410 accuracy_score=0.70844 \n",
      " 22 4.81s trainloss=0.99558 validloss=10.30847 accuracy_score=0.71739 \n",
      " 23 4.71s trainloss=1.30557 validloss=10.04076 accuracy_score=0.71611 \n",
      " 24 4.81s trainloss=0.98441 validloss=9.53469 accuracy_score=0.72442 \n",
      " 25 4.75s trainloss=0.85655 validloss=9.85208 accuracy_score=0.71547 \n",
      " 26 4.75s trainloss=1.54888 validloss=9.31041 accuracy_score=0.71675 \n",
      " 27 4.75s trainloss=1.13385 validloss=8.68165 accuracy_score=0.71100 \n",
      " 28 4.76s trainloss=0.93634 validloss=9.47570 accuracy_score=0.70588 \n",
      " 29 4.77s trainloss=0.92149 validloss=8.15593 accuracy_score=0.72187 \n",
      " 30 4.78s trainloss=1.14761 validloss=7.95442 accuracy_score=0.71355 \n",
      " 31 4.77s trainloss=0.96134 validloss=7.33015 accuracy_score=0.71739 \n",
      " 32 4.69s trainloss=0.67314 validloss=7.50037 accuracy_score=0.71483 \n",
      " 33 4.66s trainloss=0.83250 validloss=8.27771 accuracy_score=0.72187 \n",
      " 34 4.63s trainloss=1.17024 validloss=7.61143 accuracy_score=0.71739 \n",
      " 35 4.64s trainloss=0.79932 validloss=7.01569 accuracy_score=0.71547 \n",
      " 36 4.64s trainloss=1.39429 validloss=6.23452 accuracy_score=0.71228 \n",
      " 37 4.63s trainloss=1.00425 validloss=6.48128 accuracy_score=0.71611 \n",
      " 38 4.64s trainloss=0.92620 validloss=5.94089 accuracy_score=0.72059 \n",
      " 39 4.64s trainloss=0.60428 validloss=5.96025 accuracy_score=0.72123 \n",
      " 40 4.64s trainloss=0.55024 validloss=5.38341 accuracy_score=0.73018 \n",
      " 41 4.64s trainloss=0.50464 validloss=5.45793 accuracy_score=0.72123 \n",
      " 42 4.64s trainloss=0.48771 validloss=5.55202 accuracy_score=0.72187 \n",
      " 43 4.65s trainloss=0.40909 validloss=5.54517 accuracy_score=0.72442 \n",
      " 44 4.64s trainloss=0.44000 validloss=5.42748 accuracy_score=0.73529 \n",
      " 45 4.68s trainloss=0.41053 validloss=6.12792 accuracy_score=0.72634 \n",
      " 46 4.65s trainloss=0.43311 validloss=5.22479 accuracy_score=0.73082 \n",
      " 47 4.68s trainloss=0.45031 validloss=5.56348 accuracy_score=0.73593 \n",
      " 48 4.61s trainloss=0.47663 validloss=5.72151 accuracy_score=0.73146 \n",
      " 49 4.72s trainloss=0.41375 validloss=5.23161 accuracy_score=0.73338 \n",
      " 50 4.60s trainloss=0.47802 validloss=5.33489 accuracy_score=0.73529 \n",
      " 51 4.60s trainloss=0.46345 validloss=5.69133 accuracy_score=0.72379 \n",
      " 52 4.60s trainloss=0.63001 validloss=5.40688 accuracy_score=0.73274 \n",
      " 53 4.62s trainloss=0.58876 validloss=5.68383 accuracy_score=0.72379 \n",
      " 54 4.64s trainloss=0.64186 validloss=5.07132 accuracy_score=0.72826 \n",
      " 55 4.64s trainloss=0.69032 validloss=4.36737 accuracy_score=0.73593 \n",
      " 56 4.63s trainloss=0.69838 validloss=4.77044 accuracy_score=0.74169 \n",
      " 57 4.61s trainloss=0.72995 validloss=5.77307 accuracy_score=0.72762 \n",
      " 58 4.62s trainloss=0.68031 validloss=5.36491 accuracy_score=0.74233 \n",
      " 59 4.61s trainloss=0.62058 validloss=4.54631 accuracy_score=0.74105 \n",
      " 60 4.61s trainloss=0.49514 validloss=4.62608 accuracy_score=0.74552 \n",
      " 61 4.62s trainloss=0.60351 validloss=4.36917 accuracy_score=0.74425 \n",
      " 62 4.61s trainloss=0.55491 validloss=4.30012 accuracy_score=0.73913 \n",
      " 63 4.61s trainloss=0.54317 validloss=4.01417 accuracy_score=0.74680 \n",
      " 64 4.62s trainloss=0.50888 validloss=4.36990 accuracy_score=0.74105 \n",
      " 65 4.61s trainloss=0.39431 validloss=3.63093 accuracy_score=0.74552 \n",
      " 66 4.65s trainloss=0.38992 validloss=3.54821 accuracy_score=0.74680 \n",
      " 67 4.65s trainloss=0.34229 validloss=3.69831 accuracy_score=0.75448 \n",
      " 68 4.74s trainloss=0.45784 validloss=3.72556 accuracy_score=0.74744 \n",
      " 69 4.74s trainloss=0.41015 validloss=3.81838 accuracy_score=0.75384 \n",
      " 70 4.74s trainloss=0.40923 validloss=3.57577 accuracy_score=0.74616 \n",
      " 71 4.74s trainloss=0.42121 validloss=3.64533 accuracy_score=0.73977 \n",
      " 72 4.75s trainloss=0.55503 validloss=4.22158 accuracy_score=0.74488 \n",
      " 73 4.74s trainloss=0.55430 validloss=4.02472 accuracy_score=0.73465 \n",
      " 74 4.75s trainloss=0.50551 validloss=3.74511 accuracy_score=0.74872 \n",
      " 75 4.74s trainloss=0.41145 validloss=4.09037 accuracy_score=0.75512 \n",
      " 76 4.79s trainloss=0.44048 validloss=3.91413 accuracy_score=0.75064 \n",
      " 77 4.53s trainloss=0.47524 validloss=4.20008 accuracy_score=0.75639 \n",
      " 78 4.53s trainloss=0.36985 validloss=3.95742 accuracy_score=0.75384 \n",
      " 79 4.54s trainloss=0.31753 validloss=3.58775 accuracy_score=0.76279 \n",
      " 80 4.55s trainloss=0.31931 validloss=3.45609 accuracy_score=0.76343 \n",
      " 81 4.56s trainloss=0.29825 validloss=4.29606 accuracy_score=0.75384 \n",
      " 82 4.55s trainloss=0.38342 validloss=3.50554 accuracy_score=0.76087 \n",
      " 83 4.54s trainloss=0.40974 validloss=3.67301 accuracy_score=0.76726 \n",
      " 84 4.54s trainloss=0.36784 validloss=3.51574 accuracy_score=0.75767 \n",
      " 85 4.57s trainloss=0.40525 validloss=3.30662 accuracy_score=0.75767 \n",
      " 86 4.54s trainloss=0.38322 validloss=3.95733 accuracy_score=0.76023 \n",
      " 87 4.54s trainloss=0.36242 validloss=3.34950 accuracy_score=0.76023 \n",
      " 88 4.54s trainloss=0.37541 validloss=3.30408 accuracy_score=0.75767 \n",
      " 89 4.53s trainloss=0.36662 validloss=3.86143 accuracy_score=0.74808 \n",
      " 90 4.54s trainloss=0.59462 validloss=3.06361 accuracy_score=0.76279 \n",
      " 91 4.56s trainloss=0.35121 validloss=2.96807 accuracy_score=0.76343 \n",
      " 92 4.56s trainloss=0.28067 validloss=3.30558 accuracy_score=0.76215 \n",
      " 93 4.55s trainloss=0.28656 validloss=3.67345 accuracy_score=0.76151 \n",
      " 94 4.54s trainloss=0.27138 validloss=3.08741 accuracy_score=0.76087 \n",
      " 95 4.57s trainloss=0.32687 validloss=3.12060 accuracy_score=0.76471 \n",
      " 96 4.60s trainloss=0.42499 validloss=3.59630 accuracy_score=0.77174 \n",
      " 97 4.66s trainloss=0.26035 validloss=3.87565 accuracy_score=0.75512 \n",
      " 98 4.65s trainloss=0.37068 validloss=3.54824 accuracy_score=0.76535 \n",
      " 99 4.64s trainloss=0.22384 validloss=3.80190 accuracy_score=0.76407 \n",
      "100 4.66s trainloss=0.23714 validloss=3.78477 accuracy_score=0.76087 \n"
     ]
    }
   ],
   "source": [
    "cnn1_model = cnn1Layer1(4)\n",
    "cnn1_trainer = trainer(cnn1_model, nn.CrossEntropyLoss(), train_loader, valid_loader, test_loader, metrics=metrics, gpu=True)\n",
    "cnn1_trainer.train(100, lr=[0.01, 0.001])"
   ]
  },
  {
   "cell_type": "code",
   "execution_count": 63,
   "id": "3ee31697",
   "metadata": {},
   "outputs": [
    {
     "data": {
      "image/png": "[encoded data removed]",
      "text/plain": [
       "<Figure size 432x288 with 1 Axes>"
      ]
     },
     "metadata": {
      "needs_background": "light"
     },
     "output_type": "display_data"
    }
   ],
   "source": [
    "cnn1_trainer.learning_curve()"
   ]
  },
  {
   "cell_type": "code",
   "execution_count": 64,
   "id": "aefb3e2f",
   "metadata": {},
   "outputs": [
    {
     "data": {
      "image/png": "[encoded data removed]",
      "text/plain": [
       "<Figure size 432x288 with 1 Axes>"
      ]
     },
     "metadata": {
      "needs_background": "light"
     },
     "output_type": "display_data"
    }
   ],
   "source": [
    "cnn1_trainer.learning_curve(y='accuracy_score')"
   ]
  },
  {
   "cell_type": "code",
   "execution_count": 65,
   "id": "a0b517eb",
   "metadata": {},
   "outputs": [
    {
     "name": "stdout",
     "output_type": "stream",
     "text": [
      "     accuracy_score  epoch  prec_chewing  recall_chewing  recall_other\n",
      "191        0.771739   96.0      0.778870        0.781751      0.760956\n",
      "165        0.767263   83.0      0.776267        0.774353      0.759628\n",
      "195        0.765345   98.0      0.776119        0.769420      0.760956\n",
      "189        0.764706   95.0      0.772448        0.774353      0.754316\n",
      "197        0.764066   99.0      0.774876        0.768187      0.759628\n",
      "..              ...    ...           ...             ...           ...\n",
      "13         0.688619    7.0      0.728169        0.637485      0.743692\n",
      "21         0.687980   11.0      0.723994        0.643650      0.735724\n",
      "7          0.687980    4.0      0.716198        0.659679      0.718459\n",
      "3          0.661765    2.0      0.667857        0.691739      0.629482\n",
      "1          0.659207    1.0      0.681937        0.642417      0.677291\n",
      "\n",
      "[100 rows x 5 columns]\n"
     ]
    }
   ],
   "source": [
    "sort_epochs(cnn1_trainer.evaluator, 'accuracy_score')"
   ]
  },
  {
   "cell_type": "code",
   "execution_count": 66,
   "id": "1610565d",
   "metadata": {},
   "outputs": [
    {
     "data": {
      "image/png": "[encoded data removed]",
      "text/plain": [
       "<Figure size 432x288 with 2 Axes>"
      ]
     },
     "metadata": {
      "needs_background": "light"
     },
     "output_type": "display_data"
    }
   ],
   "source": [
    "test_X, test_y = next(iter(test_loader))\n",
    "test_X = test_X.cuda()\n",
    "test_y = test_y.cuda()\n",
    "cnn1_model = cnn1_model.cuda()\n",
    "\n",
    "with torch.no_grad():\n",
    "        pred_y = cnn1_model(test_X)\n",
    "        pred_y = cnn1_model.post_forward(pred_y)\n",
    "        \n",
    "make_confusion_matrix(test_y.cpu(), pred_y.cpu())"
   ]
  },
  {
   "cell_type": "markdown",
   "id": "85ddcac6",
   "metadata": {},
   "source": [
    "# 1 conv 2 lin"
   ]
  },
  {
   "cell_type": "code",
   "execution_count": 67,
   "id": "4f79d0be",
   "metadata": {},
   "outputs": [],
   "source": [
    "class cnn1Layer2(nn.Module):\n",
    "    def __init__(self, out_channels):\n",
    "        super().__init__()\n",
    "        self.out_channels = out_channels\n",
    "        self.layer1 = nn.Sequential(\n",
    "            nn.Conv2d(1, self.out_channels, kernel_size=3, stride=1, padding=1),\n",
    "            nn.ReLU(),\n",
    "            nn.MaxPool2d(kernel_size=2, stride=2)\n",
    "            )\n",
    "        self.w1 = nn.Linear(self.out_channels*16*100 , 100)\n",
    "        self.w2 = nn.Linear(100, 2)\n",
    "        \n",
    "    def forward(self, X):\n",
    "        X = self.layer1(X)\n",
    "        X = X.reshape(-1, self.out_channels*16*100)\n",
    "        X = self.w1(X)\n",
    "        X = self.w2(X)\n",
    "        return X\n",
    "        \n",
    "    def post_forward(self, y):\n",
    "        return torch.argmax(y, axis=1)"
   ]
  },
  {
   "cell_type": "code",
   "execution_count": 68,
   "id": "a99364e5",
   "metadata": {},
   "outputs": [
    {
     "data": {
      "application/vnd.jupyter.widget-view+json": {
       "model_id": "",
       "version_major": 2,
       "version_minor": 0
      },
      "text/plain": [
       "Total:   0%|          | 0/787200 [00:00<?, ?it/s]"
      ]
     },
     "metadata": {},
     "output_type": "display_data"
    },
    {
     "name": "stdout",
     "output_type": "stream",
     "text": [
      "  1 4.73s trainloss=272.05263 validloss=36.91045 accuracy_score=0.58248 \n",
      "  2 4.69s trainloss=7.80520 validloss=3.87055 accuracy_score=0.64898 \n",
      "  3 4.76s trainloss=4.01955 validloss=4.54080 accuracy_score=0.67008 \n",
      "  4 4.77s trainloss=2.46853 validloss=2.71721 accuracy_score=0.67775 \n",
      "  5 4.73s trainloss=1.96549 validloss=3.25088 accuracy_score=0.65026 \n",
      "  6 4.73s trainloss=1.57892 validloss=2.00706 accuracy_score=0.64130 \n",
      "  7 4.72s trainloss=4.53648 validloss=3.00530 accuracy_score=0.66688 \n",
      "  8 4.74s trainloss=1.88910 validloss=2.58879 accuracy_score=0.65985 \n",
      "  9 4.73s trainloss=8.94941 validloss=10.66978 accuracy_score=0.62788 \n",
      " 10 4.73s trainloss=2.89838 validloss=7.74442 accuracy_score=0.67647 \n",
      " 11 4.75s trainloss=1.74923 validloss=3.25168 accuracy_score=0.67327 \n",
      " 12 4.73s trainloss=1.33122 validloss=3.15773 accuracy_score=0.68734 \n",
      " 13 4.74s trainloss=4.09700 validloss=8.54300 accuracy_score=0.67775 \n",
      " 14 4.74s trainloss=3.22715 validloss=8.96747 accuracy_score=0.68734 \n",
      " 15 4.73s trainloss=2.24892 validloss=2.85018 accuracy_score=0.68223 \n",
      " 16 4.74s trainloss=1.50032 validloss=2.54040 accuracy_score=0.69118 \n",
      " 17 4.74s trainloss=1.35339 validloss=4.22166 accuracy_score=0.69949 \n",
      " 18 4.73s trainloss=1.58476 validloss=4.14589 accuracy_score=0.70141 \n",
      " 19 4.73s trainloss=1.20872 validloss=4.33393 accuracy_score=0.70588 \n",
      " 20 4.73s trainloss=0.74599 validloss=2.26913 accuracy_score=0.71164 \n",
      " 21 4.74s trainloss=0.59530 validloss=1.86503 accuracy_score=0.70205 \n",
      " 22 4.74s trainloss=0.65375 validloss=2.70520 accuracy_score=0.71355 \n",
      " 23 4.75s trainloss=0.48553 validloss=1.45886 accuracy_score=0.71036 \n",
      " 24 4.86s trainloss=0.80563 validloss=4.08365 accuracy_score=0.70013 \n",
      " 25 4.73s trainloss=0.62702 validloss=2.18947 accuracy_score=0.72059 \n",
      " 26 4.74s trainloss=0.50317 validloss=1.72819 accuracy_score=0.71931 \n",
      " 27 4.74s trainloss=0.60115 validloss=2.06231 accuracy_score=0.72506 \n",
      " 28 4.74s trainloss=0.65834 validloss=3.45844 accuracy_score=0.71100 \n",
      " 29 4.74s trainloss=2.39803 validloss=3.35077 accuracy_score=0.68286 \n",
      " 30 4.75s trainloss=0.91369 validloss=1.48146 accuracy_score=0.70972 \n",
      " 31 4.72s trainloss=0.79530 validloss=2.46712 accuracy_score=0.69821 \n",
      " 32 4.74s trainloss=0.48813 validloss=1.35960 accuracy_score=0.71483 \n",
      " 33 4.62s trainloss=0.67682 validloss=1.65445 accuracy_score=0.71483 \n",
      " 34 4.73s trainloss=0.45346 validloss=1.65248 accuracy_score=0.71483 \n",
      " 35 4.71s trainloss=0.45853 validloss=1.47428 accuracy_score=0.72570 \n",
      " 36 4.72s trainloss=0.40056 validloss=1.39358 accuracy_score=0.71931 \n",
      " 37 4.69s trainloss=0.33506 validloss=1.62791 accuracy_score=0.71611 \n",
      " 38 4.75s trainloss=0.34097 validloss=1.54368 accuracy_score=0.73018 \n",
      " 39 4.75s trainloss=0.32827 validloss=1.73229 accuracy_score=0.72123 \n",
      " 40 4.74s trainloss=0.35871 validloss=1.75241 accuracy_score=0.72698 \n",
      " 41 4.73s trainloss=0.34097 validloss=1.89893 accuracy_score=0.73338 \n",
      " 42 4.83s trainloss=0.35208 validloss=1.62273 accuracy_score=0.73657 \n",
      " 43 4.79s trainloss=0.36066 validloss=1.80290 accuracy_score=0.73465 \n",
      " 44 4.88s trainloss=0.44078 validloss=1.85894 accuracy_score=0.72826 \n",
      " 45 4.75s trainloss=0.44933 validloss=2.02451 accuracy_score=0.72826 \n",
      " 46 4.75s trainloss=0.36335 validloss=2.06887 accuracy_score=0.73210 \n",
      " 47 4.78s trainloss=0.53079 validloss=1.80357 accuracy_score=0.73465 \n",
      " 48 4.75s trainloss=0.70487 validloss=2.47693 accuracy_score=0.71036 \n",
      " 49 4.75s trainloss=0.51990 validloss=2.03339 accuracy_score=0.71611 \n",
      " 50 4.76s trainloss=0.64630 validloss=1.60098 accuracy_score=0.73274 \n",
      " 51 4.88s trainloss=0.47249 validloss=1.64425 accuracy_score=0.71931 \n",
      " 52 4.75s trainloss=0.51234 validloss=2.06225 accuracy_score=0.73338 \n",
      " 53 4.75s trainloss=0.38330 validloss=1.86737 accuracy_score=0.73018 \n",
      " 54 4.74s trainloss=0.36805 validloss=2.13981 accuracy_score=0.73657 \n",
      " 55 4.76s trainloss=0.47233 validloss=1.65539 accuracy_score=0.72826 \n",
      " 56 4.75s trainloss=0.39360 validloss=1.97917 accuracy_score=0.72506 \n",
      " 57 4.76s trainloss=0.45251 validloss=2.30009 accuracy_score=0.72123 \n",
      " 58 4.73s trainloss=0.63283 validloss=2.22502 accuracy_score=0.71739 \n",
      " 59 4.62s trainloss=0.46199 validloss=1.88007 accuracy_score=0.73018 \n",
      " 60 4.60s trainloss=0.51055 validloss=2.00436 accuracy_score=0.73593 \n",
      " 61 4.74s trainloss=0.42215 validloss=1.63422 accuracy_score=0.72379 \n",
      " 62 4.68s trainloss=0.36431 validloss=1.91021 accuracy_score=0.71931 \n",
      " 63 5.61s trainloss=0.51523 validloss=1.53900 accuracy_score=0.73274 \n",
      " 64 7.45s trainloss=0.37176 validloss=1.74016 accuracy_score=0.74041 \n",
      " 65 7.41s trainloss=0.27880 validloss=2.11495 accuracy_score=0.74680 \n",
      " 66 7.45s trainloss=0.33035 validloss=1.92799 accuracy_score=0.74169 \n",
      " 67 7.26s trainloss=0.32673 validloss=1.79451 accuracy_score=0.73785 \n",
      " 68 7.41s trainloss=0.31567 validloss=2.42390 accuracy_score=0.75000 \n",
      " 69 7.64s trainloss=0.38745 validloss=2.28770 accuracy_score=0.73210 \n",
      " 70 7.43s trainloss=0.39984 validloss=2.59079 accuracy_score=0.74936 \n",
      " 71 7.63s trainloss=0.37177 validloss=2.07860 accuracy_score=0.73338 \n",
      " 72 7.47s trainloss=0.49718 validloss=2.33051 accuracy_score=0.72315 \n",
      " 73 7.53s trainloss=0.41769 validloss=1.58513 accuracy_score=0.73465 \n",
      " 74 7.50s trainloss=0.36958 validloss=2.25574 accuracy_score=0.72890 \n",
      " 75 7.57s trainloss=0.37507 validloss=2.07661 accuracy_score=0.71995 \n",
      " 76 7.38s trainloss=0.45293 validloss=2.38561 accuracy_score=0.73657 \n",
      " 77 7.60s trainloss=0.52138 validloss=1.58883 accuracy_score=0.72762 \n",
      " 78 8.07s trainloss=0.32368 validloss=2.42030 accuracy_score=0.73913 \n",
      " 79 7.83s trainloss=0.55618 validloss=2.01502 accuracy_score=0.73721 \n",
      " 80 8.09s trainloss=0.42386 validloss=2.26847 accuracy_score=0.73338 \n",
      " 81 8.11s trainloss=0.36451 validloss=2.24160 accuracy_score=0.72634 \n",
      " 82 8.20s trainloss=0.38767 validloss=2.05202 accuracy_score=0.73210 \n",
      " 83 7.45s trainloss=0.35659 validloss=2.13011 accuracy_score=0.73913 \n",
      " 84 7.05s trainloss=0.49025 validloss=2.61801 accuracy_score=0.71611 \n",
      " 85 8.21s trainloss=0.44427 validloss=2.11057 accuracy_score=0.73402 \n",
      " 86 8.37s trainloss=0.34705 validloss=2.11722 accuracy_score=0.74233 \n",
      " 87 8.68s trainloss=0.29295 validloss=2.18912 accuracy_score=0.74297 \n",
      " 88 8.31s trainloss=0.26603 validloss=2.57462 accuracy_score=0.74616 \n",
      " 89 8.50s trainloss=0.28757 validloss=2.55578 accuracy_score=0.74616 \n",
      " 90 11.19s trainloss=0.23167 validloss=2.96053 accuracy_score=0.75000 \n",
      " 91 11.50s trainloss=0.28151 validloss=2.40773 accuracy_score=0.75831 \n",
      " 92 7.86s trainloss=0.26174 validloss=3.05028 accuracy_score=0.73977 \n",
      " 93 7.97s trainloss=0.30143 validloss=2.59077 accuracy_score=0.74233 \n",
      " 94 8.10s trainloss=0.27994 validloss=3.34934 accuracy_score=0.75000 \n",
      " 95 8.01s trainloss=0.35524 validloss=2.24306 accuracy_score=0.73402 \n",
      " 96 8.30s trainloss=0.45031 validloss=4.03955 accuracy_score=0.72826 \n",
      " 97 7.09s trainloss=0.35470 validloss=3.51271 accuracy_score=0.74872 \n",
      " 98 4.83s trainloss=0.35308 validloss=2.37111 accuracy_score=0.74233 \n",
      " 99 5.06s trainloss=0.30187 validloss=2.64064 accuracy_score=0.75575 \n",
      "100 4.95s trainloss=0.22807 validloss=3.63949 accuracy_score=0.74616 \n"
     ]
    }
   ],
   "source": [
    "cnn1_2_model = cnn1Layer2(4)\n",
    "cnn1_2_trainer = trainer(cnn1_2_model, nn.CrossEntropyLoss(), train_loader, valid_loader, test_loader, metrics=metrics, gpu=True)\n",
    "cnn1_2_trainer.train(100, lr=[0.01, 0.001])"
   ]
  },
  {
   "cell_type": "code",
   "execution_count": 69,
   "id": "f42e6869",
   "metadata": {},
   "outputs": [
    {
     "data": {
      "image/png": "[encoded data removed]",
      "text/plain": [
       "<Figure size 432x288 with 1 Axes>"
      ]
     },
     "metadata": {
      "needs_background": "light"
     },
     "output_type": "display_data"
    }
   ],
   "source": [
    "cnn1_2_trainer.learning_curve()"
   ]
  },
  {
   "cell_type": "code",
   "execution_count": 70,
   "id": "cba21573",
   "metadata": {},
   "outputs": [
    {
     "data": {
      "image/png": "[encoded data removed]",
      "text/plain": [
       "<Figure size 432x288 with 1 Axes>"
      ]
     },
     "metadata": {
      "needs_background": "light"
     },
     "output_type": "display_data"
    }
   ],
   "source": [
    "cnn1_2_trainer.learning_curve(y='accuracy_score')"
   ]
  },
  {
   "cell_type": "code",
   "execution_count": 71,
   "id": "bde5c2f6",
   "metadata": {},
   "outputs": [
    {
     "name": "stdout",
     "output_type": "stream",
     "text": [
      "     accuracy_score  epoch  prec_chewing  recall_chewing  recall_other\n",
      "181        0.758312   91.0      0.756213        0.787916      0.726428\n",
      "197        0.755754   99.0      0.765799        0.762022      0.749004\n",
      "135        0.750000   68.0      0.767176        0.743527      0.756972\n",
      "187        0.750000   94.0      0.758621        0.759556      0.739708\n",
      "179        0.750000   90.0      0.748815        0.779285      0.718459\n",
      "..              ...    ...           ...             ...           ...\n",
      "9          0.650256    5.0      0.660976        0.668311      0.630810\n",
      "3          0.648977    2.0      0.668814        0.639951      0.658699\n",
      "11         0.641304    6.0      0.624008        0.775586      0.496680\n",
      "17         0.627877    9.0      0.609360        0.786683      0.456839\n",
      "1          0.582481    1.0      0.578218        0.720099      0.434263\n",
      "\n",
      "[100 rows x 5 columns]\n"
     ]
    }
   ],
   "source": [
    "sort_epochs(cnn1_2_trainer.evaluator, 'accuracy_score')"
   ]
  },
  {
   "cell_type": "code",
   "execution_count": 72,
   "id": "18e6dfb4",
   "metadata": {},
   "outputs": [
    {
     "data": {
      "image/png": "[encoded data removed]",
      "text/plain": [
       "<Figure size 432x288 with 2 Axes>"
      ]
     },
     "metadata": {
      "needs_background": "light"
     },
     "output_type": "display_data"
    }
   ],
   "source": [
    "test_X, test_y = next(iter(test_loader))\n",
    "test_X = test_X.cuda()\n",
    "test_y = test_y.cuda()\n",
    "cnn1_2_model = cnn1_2_model.cuda()\n",
    "\n",
    "with torch.no_grad():\n",
    "        pred_y = cnn1_2_model(test_X)\n",
    "        pred_y = cnn1_2_model.post_forward(pred_y)\n",
    "        \n",
    "make_confusion_matrix(test_y.cpu(), pred_y.cpu())"
   ]
  },
  {
   "cell_type": "markdown",
   "id": "47939d20",
   "metadata": {},
   "source": [
    "# 2conv1lin"
   ]
  },
  {
   "cell_type": "code",
   "execution_count": 73,
   "id": "67f524c3",
   "metadata": {},
   "outputs": [],
   "source": [
    "class cnn2Layer1(nn.Module):\n",
    "    def __init__(self, out_channels):\n",
    "        super().__init__()\n",
    "        self.out_channels = out_channels\n",
    "        self.layer1 = nn.Sequential(\n",
    "            nn.Conv2d(1, self.out_channels, kernel_size=3, stride=1, padding=1),\n",
    "            nn.ReLU(),\n",
    "            nn.MaxPool2d(kernel_size=2, stride=2))\n",
    "        self.layer2 = nn.Sequential(\n",
    "            nn.Conv2d(self.out_channels, 2*self.out_channels, kernel_size=3, stride=1, padding=1),\n",
    "            nn.ReLU(),\n",
    "            nn.MaxPool2d(kernel_size=2, stride=2)\n",
    "            )\n",
    "        self.w1 = nn.Linear(2*self.out_channels*8*50 , 2)\n",
    "        \n",
    "    def forward(self, X):\n",
    "        X = self.layer1(X)\n",
    "        X = self.layer2(X)\n",
    "        X = X.reshape(-1, 2*self.out_channels*8*50)\n",
    "        X = self.w1(X)\n",
    "        return X\n",
    "        \n",
    "    def post_forward(self, y):\n",
    "        return torch.argmax(y, axis=1)"
   ]
  },
  {
   "cell_type": "code",
   "execution_count": 74,
   "id": "21c09f23",
   "metadata": {},
   "outputs": [
    {
     "data": {
      "application/vnd.jupyter.widget-view+json": {
       "model_id": "",
       "version_major": 2,
       "version_minor": 0
      },
      "text/plain": [
       "Total:   0%|          | 0/787200 [00:00<?, ?it/s]"
      ]
     },
     "metadata": {},
     "output_type": "display_data"
    },
    {
     "name": "stdout",
     "output_type": "stream",
     "text": [
      "  1 4.89s trainloss=43.26799 validloss=13.24805 accuracy_score=0.67072 \n",
      "  2 4.88s trainloss=7.13242 validloss=6.33930 accuracy_score=0.69246 \n",
      "  3 4.86s trainloss=3.51315 validloss=3.40861 accuracy_score=0.69118 \n",
      "  4 4.90s trainloss=1.86397 validloss=2.71167 accuracy_score=0.71228 \n",
      "  5 4.98s trainloss=1.26181 validloss=2.22945 accuracy_score=0.73657 \n",
      "  6 4.87s trainloss=0.89921 validloss=2.04808 accuracy_score=0.73146 \n",
      "  7 4.87s trainloss=0.70851 validloss=1.88529 accuracy_score=0.73977 \n",
      "  8 4.89s trainloss=0.68678 validloss=1.73987 accuracy_score=0.74616 \n",
      "  9 4.96s trainloss=0.53380 validloss=1.55491 accuracy_score=0.75256 \n",
      " 10 4.93s trainloss=0.49434 validloss=1.57614 accuracy_score=0.75256 \n",
      " 11 4.89s trainloss=0.45606 validloss=1.58732 accuracy_score=0.75895 \n",
      " 12 4.88s trainloss=0.46764 validloss=1.57600 accuracy_score=0.75320 \n",
      " 13 4.91s trainloss=0.42690 validloss=1.46062 accuracy_score=0.76023 \n",
      " 14 4.92s trainloss=0.40997 validloss=1.47594 accuracy_score=0.76471 \n",
      " 15 4.91s trainloss=0.34983 validloss=1.49238 accuracy_score=0.77430 \n",
      " 16 4.91s trainloss=0.35887 validloss=1.49752 accuracy_score=0.77494 \n",
      " 17 4.91s trainloss=0.33639 validloss=1.46471 accuracy_score=0.76726 \n",
      " 18 4.92s trainloss=0.32083 validloss=1.52019 accuracy_score=0.77558 \n",
      " 19 4.88s trainloss=0.31388 validloss=1.50865 accuracy_score=0.77621 \n",
      " 20 4.88s trainloss=0.28669 validloss=1.54164 accuracy_score=0.77749 \n",
      " 21 4.89s trainloss=0.29314 validloss=1.58628 accuracy_score=0.78005 \n",
      " 22 4.87s trainloss=0.31158 validloss=1.50701 accuracy_score=0.78069 \n",
      " 23 4.89s trainloss=0.35037 validloss=1.48003 accuracy_score=0.79028 \n",
      " 24 4.92s trainloss=0.32605 validloss=1.34181 accuracy_score=0.78645 \n",
      " 25 5.00s trainloss=0.33276 validloss=1.39186 accuracy_score=0.78581 \n",
      " 26 4.94s trainloss=0.29216 validloss=1.48479 accuracy_score=0.79220 \n",
      " 27 5.02s trainloss=0.30672 validloss=1.58635 accuracy_score=0.79412 \n",
      " 28 4.87s trainloss=0.34231 validloss=1.41755 accuracy_score=0.78645 \n",
      " 29 4.85s trainloss=0.33065 validloss=1.45559 accuracy_score=0.79028 \n",
      " 30 4.86s trainloss=0.31690 validloss=1.44039 accuracy_score=0.78645 \n",
      " 31 4.80s trainloss=0.29911 validloss=1.50052 accuracy_score=0.78645 \n",
      " 32 4.75s trainloss=0.29725 validloss=1.41460 accuracy_score=0.80115 \n",
      " 33 4.78s trainloss=0.28627 validloss=1.50913 accuracy_score=0.79731 \n",
      " 34 4.77s trainloss=0.26775 validloss=1.38272 accuracy_score=0.80435 \n",
      " 35 4.85s trainloss=0.27603 validloss=1.40637 accuracy_score=0.79348 \n",
      " 36 4.75s trainloss=0.27709 validloss=1.53105 accuracy_score=0.79284 \n",
      " 37 4.77s trainloss=0.29621 validloss=1.53590 accuracy_score=0.79412 \n",
      " 38 4.77s trainloss=0.27843 validloss=1.46588 accuracy_score=0.80754 \n",
      " 39 4.84s trainloss=0.25025 validloss=1.52738 accuracy_score=0.80371 \n",
      " 40 4.71s trainloss=0.29794 validloss=1.51823 accuracy_score=0.80435 \n",
      " 41 4.89s trainloss=0.34100 validloss=1.25389 accuracy_score=0.79987 \n",
      " 42 4.94s trainloss=0.35985 validloss=1.34674 accuracy_score=0.80115 \n",
      " 43 4.88s trainloss=0.29439 validloss=1.48858 accuracy_score=0.80563 \n",
      " 44 4.91s trainloss=0.30726 validloss=1.48341 accuracy_score=0.78964 \n",
      " 45 4.82s trainloss=0.28062 validloss=1.51694 accuracy_score=0.79220 \n",
      " 46 4.81s trainloss=0.30695 validloss=1.42672 accuracy_score=0.79795 \n",
      " 47 4.90s trainloss=0.30885 validloss=1.33770 accuracy_score=0.81458 \n",
      " 48 5.47s trainloss=0.32193 validloss=1.44391 accuracy_score=0.80435 \n",
      " 49 5.41s trainloss=0.26520 validloss=1.42123 accuracy_score=0.80051 \n",
      " 50 5.41s trainloss=0.23373 validloss=1.46812 accuracy_score=0.80882 \n",
      " 51 5.44s trainloss=0.25810 validloss=1.48184 accuracy_score=0.81138 \n",
      " 52 5.49s trainloss=0.24663 validloss=1.51221 accuracy_score=0.81650 \n",
      " 53 5.49s trainloss=0.22599 validloss=1.49514 accuracy_score=0.81138 \n",
      " 54 5.57s trainloss=0.22175 validloss=1.69252 accuracy_score=0.78453 \n",
      " 55 5.50s trainloss=0.23517 validloss=1.66890 accuracy_score=0.80371 \n",
      " 56 5.52s trainloss=0.21577 validloss=1.52537 accuracy_score=0.80563 \n",
      " 57 5.48s trainloss=0.20659 validloss=1.72745 accuracy_score=0.81586 \n",
      " 58 5.46s trainloss=0.25288 validloss=1.61838 accuracy_score=0.80563 \n",
      " 59 5.56s trainloss=0.33356 validloss=1.36005 accuracy_score=0.79731 \n",
      " 60 5.66s trainloss=0.33799 validloss=1.17638 accuracy_score=0.79540 \n",
      " 61 5.58s trainloss=0.24664 validloss=1.37282 accuracy_score=0.81714 \n",
      " 62 5.50s trainloss=0.24317 validloss=1.29575 accuracy_score=0.81522 \n",
      " 63 5.51s trainloss=0.23640 validloss=1.32400 accuracy_score=0.81202 \n",
      " 64 5.40s trainloss=0.28999 validloss=1.44425 accuracy_score=0.80115 \n",
      " 65 5.43s trainloss=0.27122 validloss=1.40449 accuracy_score=0.80691 \n",
      " 66 5.44s trainloss=0.22499 validloss=1.38930 accuracy_score=0.80371 \n",
      " 67 5.44s trainloss=0.22011 validloss=1.48994 accuracy_score=0.80754 \n",
      " 68 5.42s trainloss=0.21668 validloss=1.40555 accuracy_score=0.81586 \n",
      " 69 5.44s trainloss=0.20472 validloss=1.44310 accuracy_score=0.81905 \n",
      " 70 5.12s trainloss=0.18621 validloss=1.54843 accuracy_score=0.81010 \n",
      " 71 4.80s trainloss=0.20592 validloss=1.51250 accuracy_score=0.79923 \n",
      " 72 4.78s trainloss=0.20883 validloss=1.50083 accuracy_score=0.80818 \n",
      " 73 4.79s trainloss=0.24535 validloss=1.51416 accuracy_score=0.81010 \n",
      " 74 4.84s trainloss=0.29400 validloss=1.36788 accuracy_score=0.80627 \n",
      " 75 4.82s trainloss=0.27061 validloss=1.33524 accuracy_score=0.81458 \n",
      " 76 4.79s trainloss=0.21798 validloss=1.51336 accuracy_score=0.81138 \n",
      " 77 4.68s trainloss=0.24356 validloss=1.41826 accuracy_score=0.80882 \n",
      " 78 4.79s trainloss=0.20913 validloss=1.40688 accuracy_score=0.81586 \n",
      " 79 4.84s trainloss=0.20929 validloss=1.44122 accuracy_score=0.82289 \n",
      " 80 4.74s trainloss=0.21486 validloss=1.40299 accuracy_score=0.81905 \n",
      " 81 4.82s trainloss=0.18371 validloss=1.46046 accuracy_score=0.82673 \n",
      " 82 4.74s trainloss=0.22923 validloss=1.43281 accuracy_score=0.80691 \n",
      " 83 4.75s trainloss=0.26129 validloss=1.50152 accuracy_score=0.80563 \n",
      " 84 4.77s trainloss=0.23244 validloss=1.50014 accuracy_score=0.81266 \n",
      " 85 4.87s trainloss=0.22910 validloss=1.45701 accuracy_score=0.82225 \n",
      " 86 4.85s trainloss=0.24802 validloss=1.55310 accuracy_score=0.81330 \n",
      " 87 4.82s trainloss=0.21268 validloss=1.67168 accuracy_score=0.80435 \n",
      " 88 4.79s trainloss=0.19167 validloss=1.63340 accuracy_score=0.82097 \n",
      " 89 4.80s trainloss=0.18532 validloss=1.64782 accuracy_score=0.81330 \n",
      " 90 4.81s trainloss=0.17701 validloss=1.69215 accuracy_score=0.81202 \n",
      " 91 4.81s trainloss=0.26283 validloss=1.44546 accuracy_score=0.81394 \n",
      " 92 4.78s trainloss=0.20297 validloss=1.52246 accuracy_score=0.81841 \n",
      " 93 4.81s trainloss=0.17833 validloss=1.57702 accuracy_score=0.82225 \n",
      " 94 4.81s trainloss=0.19660 validloss=1.50107 accuracy_score=0.82609 \n",
      " 95 4.83s trainloss=0.16771 validloss=1.61210 accuracy_score=0.82545 \n",
      " 96 4.81s trainloss=0.22116 validloss=1.52450 accuracy_score=0.82481 \n",
      " 97 4.77s trainloss=0.23361 validloss=1.44159 accuracy_score=0.80754 \n",
      " 98 4.76s trainloss=0.22534 validloss=1.44331 accuracy_score=0.81522 \n",
      " 99 4.88s trainloss=0.24769 validloss=1.35498 accuracy_score=0.82097 \n",
      "100 4.86s trainloss=0.21155 validloss=1.35321 accuracy_score=0.83376 \n"
     ]
    }
   ],
   "source": [
    "cnn2_model = cnn2Layer1(4)\n",
    "cnn2_trainer = trainer(cnn2_model, nn.CrossEntropyLoss(), train_loader, valid_loader, test_loader, metrics=metrics, gpu=True)\n",
    "cnn2_trainer.train(100, lr=[0.01, 0.001])"
   ]
  },
  {
   "cell_type": "code",
   "execution_count": 75,
   "id": "22a88908",
   "metadata": {},
   "outputs": [
    {
     "data": {
      "image/png": "[encoded data removed]",
      "text/plain": [
       "<Figure size 432x288 with 1 Axes>"
      ]
     },
     "metadata": {
      "needs_background": "light"
     },
     "output_type": "display_data"
    }
   ],
   "source": [
    "cnn2_trainer.learning_curve()"
   ]
  },
  {
   "cell_type": "code",
   "execution_count": 76,
   "id": "83b903d0",
   "metadata": {},
   "outputs": [
    {
     "data": {
      "image/png": "[encoded data removed]",
      "text/plain": [
       "<Figure size 432x288 with 1 Axes>"
      ]
     },
     "metadata": {
      "needs_background": "light"
     },
     "output_type": "display_data"
    }
   ],
   "source": [
    "cnn2_trainer.learning_curve(y='accuracy_score')"
   ]
  },
  {
   "cell_type": "code",
   "execution_count": 77,
   "id": "88a86b40",
   "metadata": {},
   "outputs": [
    {
     "name": "stdout",
     "output_type": "stream",
     "text": [
      "     accuracy_score  epoch  prec_chewing  recall_chewing  recall_other\n",
      "199        0.833760  100.0      0.819235        0.871763      0.792829\n",
      "161        0.826726   81.0      0.840050        0.822441      0.831341\n",
      "187        0.826087   94.0      0.828258        0.838471      0.812749\n",
      "189        0.825448   95.0      0.834577        0.827374      0.823373\n",
      "191        0.824808   96.0      0.851900        0.801480      0.849934\n",
      "..              ...    ...           ...             ...           ...\n",
      "11         0.731458    6.0      0.733572        0.757090      0.703851\n",
      "7          0.712276    4.0      0.689005        0.811344      0.605578\n",
      "3          0.692455    2.0      0.697842        0.717633      0.665339\n",
      "5          0.691176    3.0      0.672996        0.786683      0.588313\n",
      "1          0.670716    1.0      0.706128        0.625154      0.719788\n",
      "\n",
      "[100 rows x 5 columns]\n"
     ]
    }
   ],
   "source": [
    "sort_epochs(cnn2_trainer.evaluator, 'accuracy_score')"
   ]
  },
  {
   "cell_type": "code",
   "execution_count": 78,
   "id": "8e29b5dc",
   "metadata": {},
   "outputs": [
    {
     "data": {
      "image/png": "[encoded data removed]",
      "text/plain": [
       "<Figure size 432x288 with 2 Axes>"
      ]
     },
     "metadata": {
      "needs_background": "light"
     },
     "output_type": "display_data"
    }
   ],
   "source": [
    "test_X, test_y = next(iter(test_loader))\n",
    "test_X = test_X.cuda()\n",
    "test_y = test_y.cuda()\n",
    "cnn2_model = cnn2_model.cuda()\n",
    "\n",
    "with torch.no_grad():\n",
    "        pred_y = cnn2_model(test_X)\n",
    "        pred_y = cnn2_model.post_forward(pred_y)\n",
    "        \n",
    "make_confusion_matrix(test_y.cpu(), pred_y.cpu())"
   ]
  },
  {
   "cell_type": "markdown",
   "id": "29411154",
   "metadata": {},
   "source": [
    "# 2conv2lin"
   ]
  },
  {
   "cell_type": "code",
   "execution_count": 79,
   "id": "96ae0299",
   "metadata": {},
   "outputs": [],
   "source": [
    "class cnn2Layer2(nn.Module):\n",
    "    def __init__(self, out_channels):\n",
    "        super().__init__()\n",
    "        self.out_channels = out_channels\n",
    "        self.layer1 = nn.Sequential(\n",
    "            nn.Conv2d(1, self.out_channels, kernel_size=3, stride=1, padding=1),\n",
    "            nn.ReLU(),\n",
    "            nn.MaxPool2d(kernel_size=2, stride=2))\n",
    "        self.layer2 = nn.Sequential(\n",
    "            nn.Conv2d(self.out_channels, 2*self.out_channels, kernel_size=3, stride=1, padding=1),\n",
    "            nn.ReLU(),\n",
    "            nn.MaxPool2d(kernel_size=2, stride=2)\n",
    "            )\n",
    "        self.w1 = nn.Linear(2*self.out_channels*8*50 , 100)\n",
    "        self.w2 = nn.Linear(100, 2)\n",
    "        \n",
    "    def forward(self, X):\n",
    "        X = self.layer1(X)\n",
    "        X = self.layer2(X)\n",
    "        X = X.reshape(-1, 2*self.out_channels*8*50)\n",
    "        X = self.w1(X)\n",
    "        X = self.w2(X)\n",
    "        return X\n",
    "        \n",
    "    def post_forward(self, y):\n",
    "        return torch.argmax(y, axis=1)"
   ]
  },
  {
   "cell_type": "code",
   "execution_count": 80,
   "id": "ec635ac7",
   "metadata": {},
   "outputs": [
    {
     "data": {
      "application/vnd.jupyter.widget-view+json": {
       "model_id": "",
       "version_major": 2,
       "version_minor": 0
      },
      "text/plain": [
       "Total:   0%|          | 0/787200 [00:00<?, ?it/s]"
      ]
     },
     "metadata": {},
     "output_type": "display_data"
    },
    {
     "name": "stdout",
     "output_type": "stream",
     "text": [
      "  1 4.99s trainloss=51.11215 validloss=5.26414 accuracy_score=0.66944 \n",
      "  2 4.89s trainloss=2.98606 validloss=3.20486 accuracy_score=0.70141 \n",
      "  3 4.94s trainloss=1.40108 validloss=1.94607 accuracy_score=0.71292 \n",
      "  4 4.92s trainloss=0.77041 validloss=1.67328 accuracy_score=0.71611 \n",
      "  5 4.87s trainloss=0.63347 validloss=1.62421 accuracy_score=0.70972 \n",
      "  6 4.87s trainloss=0.58659 validloss=1.41302 accuracy_score=0.72698 \n",
      "  7 4.86s trainloss=0.50963 validloss=1.30448 accuracy_score=0.72570 \n",
      "  8 4.84s trainloss=0.46110 validloss=1.23997 accuracy_score=0.72826 \n",
      "  9 4.86s trainloss=0.44775 validloss=1.30006 accuracy_score=0.72890 \n",
      " 10 4.88s trainloss=0.46147 validloss=1.23011 accuracy_score=0.72251 \n",
      " 11 4.89s trainloss=0.44620 validloss=1.18249 accuracy_score=0.72442 \n",
      " 12 4.94s trainloss=0.44635 validloss=1.33468 accuracy_score=0.70844 \n",
      " 13 4.89s trainloss=0.45398 validloss=1.34543 accuracy_score=0.72187 \n",
      " 14 4.85s trainloss=0.44822 validloss=1.16163 accuracy_score=0.72698 \n",
      " 15 4.88s trainloss=0.42919 validloss=1.14725 accuracy_score=0.72698 \n",
      " 16 4.89s trainloss=0.40128 validloss=1.12381 accuracy_score=0.73210 \n",
      " 17 4.90s trainloss=0.41602 validloss=1.13123 accuracy_score=0.72315 \n",
      " 18 4.89s trainloss=0.37957 validloss=1.18725 accuracy_score=0.72826 \n",
      " 19 4.86s trainloss=0.35866 validloss=1.26421 accuracy_score=0.73913 \n",
      " 20 4.84s trainloss=0.35742 validloss=1.25975 accuracy_score=0.73338 \n",
      " 21 4.91s trainloss=0.38800 validloss=1.35666 accuracy_score=0.72954 \n",
      " 22 4.86s trainloss=0.39777 validloss=1.25998 accuracy_score=0.73274 \n",
      " 23 4.80s trainloss=0.37044 validloss=1.37955 accuracy_score=0.72379 \n",
      " 24 4.63s trainloss=0.42176 validloss=1.13012 accuracy_score=0.73402 \n",
      " 25 4.81s trainloss=0.39048 validloss=1.39581 accuracy_score=0.72762 \n",
      " 26 4.95s trainloss=0.41890 validloss=1.28820 accuracy_score=0.73274 \n",
      " 27 4.78s trainloss=0.36620 validloss=1.51581 accuracy_score=0.72762 \n",
      " 28 4.84s trainloss=0.39035 validloss=1.38753 accuracy_score=0.73529 \n",
      " 29 4.76s trainloss=0.44501 validloss=1.32595 accuracy_score=0.73018 \n",
      " 30 4.81s trainloss=0.37757 validloss=1.31239 accuracy_score=0.73593 \n",
      " 31 4.92s trainloss=0.40563 validloss=1.22795 accuracy_score=0.74616 \n",
      " 32 4.96s trainloss=0.38459 validloss=1.13543 accuracy_score=0.74169 \n",
      " 33 5.09s trainloss=0.34425 validloss=1.40200 accuracy_score=0.74552 \n",
      " 34 4.99s trainloss=0.41893 validloss=1.28260 accuracy_score=0.74488 \n",
      " 35 5.00s trainloss=0.34607 validloss=1.28169 accuracy_score=0.74041 \n",
      " 36 4.95s trainloss=0.34834 validloss=1.31856 accuracy_score=0.75064 \n",
      " 37 4.89s trainloss=0.38435 validloss=1.52069 accuracy_score=0.73402 \n",
      " 38 4.94s trainloss=0.36932 validloss=1.31902 accuracy_score=0.74105 \n",
      " 39 4.90s trainloss=0.34684 validloss=1.51800 accuracy_score=0.74105 \n",
      " 40 4.85s trainloss=0.33033 validloss=1.56348 accuracy_score=0.74936 \n",
      " 41 4.86s trainloss=0.39717 validloss=1.50515 accuracy_score=0.72762 \n",
      " 42 4.86s trainloss=0.42477 validloss=1.20712 accuracy_score=0.72698 \n",
      " 43 4.95s trainloss=0.40629 validloss=1.59924 accuracy_score=0.73529 \n",
      " 44 4.98s trainloss=0.44551 validloss=1.38764 accuracy_score=0.72123 \n",
      " 45 4.96s trainloss=0.46561 validloss=1.36865 accuracy_score=0.74744 \n",
      " 46 5.05s trainloss=0.37061 validloss=1.29311 accuracy_score=0.74680 \n",
      " 47 4.95s trainloss=0.42711 validloss=1.20909 accuracy_score=0.75895 \n",
      " 48 4.88s trainloss=0.33559 validloss=1.43948 accuracy_score=0.75767 \n",
      " 49 4.96s trainloss=0.32793 validloss=1.43523 accuracy_score=0.75895 \n",
      " 50 4.91s trainloss=0.30058 validloss=1.61704 accuracy_score=0.76471 \n",
      " 51 4.92s trainloss=0.34826 validloss=1.19067 accuracy_score=0.74552 \n",
      " 52 4.94s trainloss=0.32974 validloss=1.24449 accuracy_score=0.75895 \n",
      " 53 4.85s trainloss=0.31103 validloss=1.55630 accuracy_score=0.76151 \n",
      " 54 4.80s trainloss=0.28585 validloss=1.72330 accuracy_score=0.76790 \n",
      " 55 4.93s trainloss=0.33296 validloss=1.29607 accuracy_score=0.76343 \n",
      " 56 4.88s trainloss=0.58988 validloss=1.15028 accuracy_score=0.75320 \n",
      " 57 4.79s trainloss=0.43652 validloss=1.29350 accuracy_score=0.76215 \n",
      " 58 4.80s trainloss=0.35120 validloss=1.18257 accuracy_score=0.77174 \n",
      " 59 4.79s trainloss=0.31401 validloss=1.45094 accuracy_score=0.77174 \n",
      " 60 4.80s trainloss=0.30287 validloss=1.32109 accuracy_score=0.78069 \n",
      " 61 4.88s trainloss=0.28389 validloss=1.53835 accuracy_score=0.77366 \n",
      " 62 4.79s trainloss=0.30745 validloss=1.69145 accuracy_score=0.76023 \n",
      " 63 4.79s trainloss=0.36341 validloss=1.39634 accuracy_score=0.76471 \n",
      " 64 4.82s trainloss=0.36619 validloss=1.20553 accuracy_score=0.77430 \n",
      " 65 4.93s trainloss=0.35540 validloss=1.43202 accuracy_score=0.76726 \n",
      " 66 4.84s trainloss=0.32553 validloss=1.65392 accuracy_score=0.76535 \n",
      " 67 4.84s trainloss=0.38050 validloss=1.22232 accuracy_score=0.77494 \n",
      " 68 4.85s trainloss=0.27835 validloss=1.60612 accuracy_score=0.76982 \n",
      " 69 4.82s trainloss=0.24727 validloss=1.68316 accuracy_score=0.78708 \n",
      " 70 4.83s trainloss=0.23501 validloss=2.10275 accuracy_score=0.76726 \n",
      " 71 4.84s trainloss=0.45160 validloss=0.98541 accuracy_score=0.78069 \n",
      " 72 4.89s trainloss=0.30367 validloss=1.57034 accuracy_score=0.77430 \n",
      " 73 4.82s trainloss=0.28576 validloss=1.39801 accuracy_score=0.78453 \n",
      " 74 4.92s trainloss=0.28927 validloss=1.58019 accuracy_score=0.77302 \n",
      " 75 4.83s trainloss=0.29223 validloss=1.77875 accuracy_score=0.78005 \n",
      " 76 4.84s trainloss=0.28226 validloss=1.62501 accuracy_score=0.77877 \n",
      " 77 4.84s trainloss=0.35829 validloss=1.50944 accuracy_score=0.77685 \n",
      " 78 4.80s trainloss=0.30924 validloss=1.62038 accuracy_score=0.78708 \n",
      " 79 4.79s trainloss=0.27154 validloss=1.73051 accuracy_score=0.77174 \n",
      " 80 4.84s trainloss=0.28680 validloss=1.73045 accuracy_score=0.77685 \n",
      " 81 4.88s trainloss=0.33181 validloss=1.60954 accuracy_score=0.77749 \n",
      " 82 5.07s trainloss=0.29135 validloss=1.66941 accuracy_score=0.76726 \n",
      " 83 4.88s trainloss=0.27648 validloss=1.76119 accuracy_score=0.77813 \n",
      " 84 4.86s trainloss=0.24918 validloss=1.77288 accuracy_score=0.77430 \n",
      " 85 4.82s trainloss=0.24188 validloss=1.85996 accuracy_score=0.77621 \n",
      " 86 4.81s trainloss=0.22605 validloss=2.01424 accuracy_score=0.78645 \n",
      " 87 4.80s trainloss=0.28708 validloss=1.44937 accuracy_score=0.78325 \n",
      " 88 4.81s trainloss=0.25121 validloss=1.59407 accuracy_score=0.78005 \n",
      " 89 4.81s trainloss=0.29348 validloss=1.51478 accuracy_score=0.76535 \n",
      " 90 4.84s trainloss=0.27020 validloss=1.58519 accuracy_score=0.78453 \n",
      " 91 4.88s trainloss=0.22801 validloss=1.83218 accuracy_score=0.78900 \n",
      " 92 4.98s trainloss=0.29476 validloss=1.40142 accuracy_score=0.77941 \n",
      " 93 4.99s trainloss=0.23642 validloss=1.83987 accuracy_score=0.78389 \n",
      " 94 4.85s trainloss=0.39004 validloss=1.33021 accuracy_score=0.77749 \n",
      " 95 4.87s trainloss=0.31145 validloss=1.36203 accuracy_score=0.78453 \n",
      " 96 4.87s trainloss=0.25320 validloss=1.86179 accuracy_score=0.77813 \n",
      " 97 4.86s trainloss=0.23723 validloss=1.94012 accuracy_score=0.78261 \n",
      " 98 4.87s trainloss=0.25210 validloss=1.91738 accuracy_score=0.77749 \n",
      " 99 4.90s trainloss=0.32700 validloss=1.95595 accuracy_score=0.78197 \n",
      "100 5.02s trainloss=0.26903 validloss=1.79086 accuracy_score=0.79092 \n"
     ]
    }
   ],
   "source": [
    "cnn2_2_model = cnn2Layer2(4)\n",
    "cnn2_2_trainer = trainer(cnn2_2_model, nn.CrossEntropyLoss(), train_loader, valid_loader, test_loader, metrics=metrics, gpu=True)\n",
    "cnn2_2_trainer.train(100, lr=[0.01, 0.001])"
   ]
  },
  {
   "cell_type": "code",
   "execution_count": 81,
   "id": "2ba91007",
   "metadata": {},
   "outputs": [
    {
     "data": {
      "image/png": "[encoded data removed]",
      "text/plain": [
       "<Figure size 432x288 with 1 Axes>"
      ]
     },
     "metadata": {
      "needs_background": "light"
     },
     "output_type": "display_data"
    }
   ],
   "source": [
    "cnn2_2_trainer.learning_curve()"
   ]
  },
  {
   "cell_type": "code",
   "execution_count": 82,
   "id": "e271cd5b",
   "metadata": {},
   "outputs": [
    {
     "data": {
      "image/png": "[encoded data removed]",
      "text/plain": [
       "<Figure size 432x288 with 1 Axes>"
      ]
     },
     "metadata": {
      "needs_background": "light"
     },
     "output_type": "display_data"
    }
   ],
   "source": [
    "cnn2_2_trainer.learning_curve(y='accuracy_score')"
   ]
  },
  {
   "cell_type": "code",
   "execution_count": 83,
   "id": "10e707cf",
   "metadata": {},
   "outputs": [
    {
     "name": "stdout",
     "output_type": "stream",
     "text": [
      "     accuracy_score  epoch  prec_chewing  recall_chewing  recall_other\n",
      "199        0.790921  100.0      0.789474        0.813810      0.766268\n",
      "181        0.789003   91.0      0.792935        0.802713      0.774236\n",
      "155        0.787084   78.0      0.803299        0.780518      0.794157\n",
      "137        0.787084   69.0      0.783175        0.815043      0.756972\n",
      "171        0.786445   86.0      0.786315        0.807645      0.763612\n",
      "..              ...    ...           ...             ...           ...\n",
      "5          0.712916    3.0      0.735065        0.697904      0.729084\n",
      "9          0.709719    5.0      0.712753        0.737361      0.679947\n",
      "23         0.708440   12.0      0.674533        0.845869      0.560425\n",
      "3          0.701407    2.0      0.734332        0.664612      0.741036\n",
      "1          0.669437    1.0      0.722054        0.589396      0.755644\n",
      "\n",
      "[100 rows x 5 columns]\n"
     ]
    }
   ],
   "source": [
    "sort_epochs(cnn2_2_trainer.evaluator, 'accuracy_score')"
   ]
  },
  {
   "cell_type": "code",
   "execution_count": 84,
   "id": "8305fd30",
   "metadata": {},
   "outputs": [
    {
     "data": {
      "image/png": "[encoded data removed]",
      "text/plain": [
       "<Figure size 432x288 with 2 Axes>"
      ]
     },
     "metadata": {
      "needs_background": "light"
     },
     "output_type": "display_data"
    }
   ],
   "source": [
    "test_X, test_y = next(iter(test_loader))\n",
    "test_X = test_X.cuda()\n",
    "test_y = test_y.cuda()\n",
    "cnn2_2_model = cnn2_2_model.cuda()\n",
    "\n",
    "with torch.no_grad():\n",
    "        pred_y = cnn2_2_model(test_X)\n",
    "        pred_y = cnn2_2_model.post_forward(pred_y)\n",
    "        \n",
    "make_confusion_matrix(test_y.cpu(), pred_y.cpu())"
   ]
  },
  {
   "cell_type": "markdown",
   "id": "b62a9455",
   "metadata": {},
   "source": [
    "# ResNet"
   ]
  },
  {
   "cell_type": "code",
   "execution_count": 12,
   "id": "7fd5b486",
   "metadata": {},
   "outputs": [],
   "source": [
    "# nSamples = [1696, 2216, 3920] #of class instances\n",
    "nSamples = [1696 + 2216, 3920] #of class instances\n",
    "normedWeights = [1 - (x / sum(nSamples)) for x in nSamples]\n",
    "normedWeights = torch.FloatTensor(normedWeights).cuda()"
   ]
  },
  {
   "cell_type": "code",
   "execution_count": 13,
   "id": "c6c38344",
   "metadata": {},
   "outputs": [],
   "source": [
    "def post_forward(y):\n",
    "    return torch.argmax(y, axis=1)"
   ]
  },
  {
   "cell_type": "markdown",
   "id": "c9f67c88",
   "metadata": {},
   "source": [
    "# resnet 18"
   ]
  },
  {
   "cell_type": "code",
   "execution_count": 87,
   "id": "d45d37ff",
   "metadata": {},
   "outputs": [],
   "source": [
    "rn18 = models.resnet18(pretrained=True)\n",
    "rn18.conv1 = nn.Conv2d(1, rn18.conv1.out_channels,\n",
    "              kernel_size=rn18.conv1.kernel_size[0], \n",
    "                      stride=rn18.conv1.stride[0], \n",
    "                      padding=rn18.conv1.padding[0])\n",
    "num_ftrs = rn18.fc.in_features\n",
    "rn18.fc = nn.Linear(num_ftrs, 2)\n",
    "\n",
    "rn18.post_forward = post_forward\n",
    "\n",
    "rn18_trainer = trainer(rn18, nn.CrossEntropyLoss(weight=normedWeights), train_loader, valid_loader, test_loader, metrics=metrics, gpu=True)"
   ]
  },
  {
   "cell_type": "code",
   "execution_count": 88,
   "id": "520e260b",
   "metadata": {},
   "outputs": [
    {
     "data": {
      "application/vnd.jupyter.widget-view+json": {
       "model_id": "",
       "version_major": 2,
       "version_minor": 0
      },
      "text/plain": [
       "Total:   0%|          | 0/787200 [00:00<?, ?it/s]"
      ]
     },
     "metadata": {},
     "output_type": "display_data"
    },
    {
     "name": "stdout",
     "output_type": "stream",
     "text": [
      "  1 7.10s trainloss=0.81615 validloss=0.69267 accuracy_score=0.55435 \n",
      "  2 7.32s trainloss=0.66955 validloss=0.72730 accuracy_score=0.47762 \n",
      "  3 7.21s trainloss=0.64754 validloss=64.14996 accuracy_score=0.52366 \n",
      "  4 7.36s trainloss=0.67224 validloss=0.70263 accuracy_score=0.57992 \n",
      "  5 7.26s trainloss=0.66548 validloss=0.70912 accuracy_score=0.48274 \n"
     ]
    },
    {
     "name": "stderr",
     "output_type": "stream",
     "text": [
      "/opt/jupyterhub/anaconda/lib/python3.9/site-packages/sklearn/metrics/_classification.py:1308: UndefinedMetricWarning: Precision is ill-defined and being set to 0.0 in labels with no predicted samples. Use `zero_division` parameter to control this behavior.\n",
      "  _warn_prf(average, modifier, msg_start, len(result))\n"
     ]
    },
    {
     "name": "stdout",
     "output_type": "stream",
     "text": [
      "  6 8.01s trainloss=0.66433 validloss=0.71710 accuracy_score=0.48146 \n"
     ]
    },
    {
     "name": "stderr",
     "output_type": "stream",
     "text": [
      "/opt/jupyterhub/anaconda/lib/python3.9/site-packages/sklearn/metrics/_classification.py:1308: UndefinedMetricWarning: Precision is ill-defined and being set to 0.0 in labels with no predicted samples. Use `zero_division` parameter to control this behavior.\n",
      "  _warn_prf(average, modifier, msg_start, len(result))\n"
     ]
    },
    {
     "name": "stdout",
     "output_type": "stream",
     "text": [
      "  7 8.33s trainloss=0.66002 validloss=0.73656 accuracy_score=0.48146 \n"
     ]
    },
    {
     "name": "stderr",
     "output_type": "stream",
     "text": [
      "/opt/jupyterhub/anaconda/lib/python3.9/site-packages/sklearn/metrics/_classification.py:1308: UndefinedMetricWarning: Precision is ill-defined and being set to 0.0 in labels with no predicted samples. Use `zero_division` parameter to control this behavior.\n",
      "  _warn_prf(average, modifier, msg_start, len(result))\n"
     ]
    },
    {
     "name": "stdout",
     "output_type": "stream",
     "text": [
      "  8 8.05s trainloss=0.65911 validloss=1.36182 accuracy_score=0.48146 \n"
     ]
    },
    {
     "name": "stderr",
     "output_type": "stream",
     "text": [
      "/opt/jupyterhub/anaconda/lib/python3.9/site-packages/sklearn/metrics/_classification.py:1308: UndefinedMetricWarning: Precision is ill-defined and being set to 0.0 in labels with no predicted samples. Use `zero_division` parameter to control this behavior.\n",
      "  _warn_prf(average, modifier, msg_start, len(result))\n"
     ]
    },
    {
     "name": "stdout",
     "output_type": "stream",
     "text": [
      "  9 8.10s trainloss=0.66372 validloss=0.71472 accuracy_score=0.48146 \n",
      " 10 8.26s trainloss=0.65660 validloss=0.90475 accuracy_score=0.39962 \n",
      " 11 7.97s trainloss=0.66997 validloss=0.80449 accuracy_score=0.52941 \n",
      " 12 8.36s trainloss=0.65115 validloss=1.15244 accuracy_score=0.52366 \n"
     ]
    },
    {
     "name": "stderr",
     "output_type": "stream",
     "text": [
      "/opt/jupyterhub/anaconda/lib/python3.9/site-packages/sklearn/metrics/_classification.py:1308: UndefinedMetricWarning: Precision is ill-defined and being set to 0.0 in labels with no predicted samples. Use `zero_division` parameter to control this behavior.\n",
      "  _warn_prf(average, modifier, msg_start, len(result))\n"
     ]
    },
    {
     "name": "stdout",
     "output_type": "stream",
     "text": [
      " 13 7.97s trainloss=0.65674 validloss=0.72771 accuracy_score=0.48146 \n"
     ]
    },
    {
     "name": "stderr",
     "output_type": "stream",
     "text": [
      "/opt/jupyterhub/anaconda/lib/python3.9/site-packages/sklearn/metrics/_classification.py:1308: UndefinedMetricWarning: Precision is ill-defined and being set to 0.0 in labels with no predicted samples. Use `zero_division` parameter to control this behavior.\n",
      "  _warn_prf(average, modifier, msg_start, len(result))\n"
     ]
    },
    {
     "name": "stdout",
     "output_type": "stream",
     "text": [
      " 14 8.04s trainloss=0.65707 validloss=0.72203 accuracy_score=0.48146 \n",
      " 15 8.08s trainloss=0.65819 validloss=0.94708 accuracy_score=0.55691 \n"
     ]
    },
    {
     "name": "stderr",
     "output_type": "stream",
     "text": [
      "/opt/jupyterhub/anaconda/lib/python3.9/site-packages/sklearn/metrics/_classification.py:1308: UndefinedMetricWarning: Precision is ill-defined and being set to 0.0 in labels with no predicted samples. Use `zero_division` parameter to control this behavior.\n",
      "  _warn_prf(average, modifier, msg_start, len(result))\n"
     ]
    },
    {
     "name": "stdout",
     "output_type": "stream",
     "text": [
      " 16 8.20s trainloss=0.66057 validloss=0.82691 accuracy_score=0.48146 \n",
      " 17 8.38s trainloss=0.65478 validloss=1.00196 accuracy_score=0.45716 \n",
      " 18 10.65s trainloss=0.67903 validloss=0.69348 accuracy_score=0.51535 \n",
      " 19 11.07s trainloss=0.68848 validloss=0.71026 accuracy_score=0.47251 \n"
     ]
    },
    {
     "name": "stderr",
     "output_type": "stream",
     "text": [
      "/opt/jupyterhub/anaconda/lib/python3.9/site-packages/sklearn/metrics/_classification.py:1308: UndefinedMetricWarning: Precision is ill-defined and being set to 0.0 in labels with no predicted samples. Use `zero_division` parameter to control this behavior.\n",
      "  _warn_prf(average, modifier, msg_start, len(result))\n"
     ]
    },
    {
     "name": "stdout",
     "output_type": "stream",
     "text": [
      " 20 10.60s trainloss=0.67760 validloss=1.08702 accuracy_score=0.48146 \n",
      " 21 10.71s trainloss=0.66390 validloss=0.69937 accuracy_score=0.55307 \n",
      " 22 10.68s trainloss=0.65519 validloss=0.73588 accuracy_score=0.57737 \n"
     ]
    },
    {
     "name": "stderr",
     "output_type": "stream",
     "text": [
      "/opt/jupyterhub/anaconda/lib/python3.9/site-packages/sklearn/metrics/_classification.py:1308: UndefinedMetricWarning: Precision is ill-defined and being set to 0.0 in labels with no predicted samples. Use `zero_division` parameter to control this behavior.\n",
      "  _warn_prf(average, modifier, msg_start, len(result))\n"
     ]
    },
    {
     "name": "stdout",
     "output_type": "stream",
     "text": [
      " 23 10.65s trainloss=0.65196 validloss=0.85270 accuracy_score=0.48146 \n",
      " 24 10.11s trainloss=0.65738 validloss=0.67399 accuracy_score=0.59527 \n"
     ]
    },
    {
     "name": "stderr",
     "output_type": "stream",
     "text": [
      "/opt/jupyterhub/anaconda/lib/python3.9/site-packages/sklearn/metrics/_classification.py:1308: UndefinedMetricWarning: Precision is ill-defined and being set to 0.0 in labels with no predicted samples. Use `zero_division` parameter to control this behavior.\n",
      "  _warn_prf(average, modifier, msg_start, len(result))\n"
     ]
    },
    {
     "name": "stdout",
     "output_type": "stream",
     "text": [
      " 25 10.45s trainloss=0.69343 validloss=0.69424 accuracy_score=0.48146 \n"
     ]
    },
    {
     "name": "stderr",
     "output_type": "stream",
     "text": [
      "/opt/jupyterhub/anaconda/lib/python3.9/site-packages/sklearn/metrics/_classification.py:1308: UndefinedMetricWarning: Precision is ill-defined and being set to 0.0 in labels with no predicted samples. Use `zero_division` parameter to control this behavior.\n",
      "  _warn_prf(average, modifier, msg_start, len(result))\n"
     ]
    },
    {
     "name": "stdout",
     "output_type": "stream",
     "text": [
      " 26 10.63s trainloss=0.69339 validloss=0.69416 accuracy_score=0.48146 \n"
     ]
    },
    {
     "name": "stderr",
     "output_type": "stream",
     "text": [
      "/opt/jupyterhub/anaconda/lib/python3.9/site-packages/sklearn/metrics/_classification.py:1308: UndefinedMetricWarning: Precision is ill-defined and being set to 0.0 in labels with no predicted samples. Use `zero_division` parameter to control this behavior.\n",
      "  _warn_prf(average, modifier, msg_start, len(result))\n"
     ]
    },
    {
     "name": "stdout",
     "output_type": "stream",
     "text": [
      " 27 10.49s trainloss=0.69338 validloss=0.69310 accuracy_score=0.51854 \n"
     ]
    },
    {
     "name": "stderr",
     "output_type": "stream",
     "text": [
      "/opt/jupyterhub/anaconda/lib/python3.9/site-packages/sklearn/metrics/_classification.py:1308: UndefinedMetricWarning: Precision is ill-defined and being set to 0.0 in labels with no predicted samples. Use `zero_division` parameter to control this behavior.\n",
      "  _warn_prf(average, modifier, msg_start, len(result))\n"
     ]
    },
    {
     "name": "stdout",
     "output_type": "stream",
     "text": [
      " 28 10.76s trainloss=0.69325 validloss=0.69361 accuracy_score=0.48146 \n"
     ]
    },
    {
     "name": "stderr",
     "output_type": "stream",
     "text": [
      "/opt/jupyterhub/anaconda/lib/python3.9/site-packages/sklearn/metrics/_classification.py:1308: UndefinedMetricWarning: Precision is ill-defined and being set to 0.0 in labels with no predicted samples. Use `zero_division` parameter to control this behavior.\n",
      "  _warn_prf(average, modifier, msg_start, len(result))\n"
     ]
    },
    {
     "name": "stdout",
     "output_type": "stream",
     "text": [
      " 29 10.30s trainloss=0.69334 validloss=0.69336 accuracy_score=0.48146 \n"
     ]
    },
    {
     "name": "stderr",
     "output_type": "stream",
     "text": [
      "/opt/jupyterhub/anaconda/lib/python3.9/site-packages/sklearn/metrics/_classification.py:1308: UndefinedMetricWarning: Precision is ill-defined and being set to 0.0 in labels with no predicted samples. Use `zero_division` parameter to control this behavior.\n",
      "  _warn_prf(average, modifier, msg_start, len(result))\n"
     ]
    },
    {
     "name": "stdout",
     "output_type": "stream",
     "text": [
      " 30 9.96s trainloss=0.69346 validloss=0.69265 accuracy_score=0.51854 \n"
     ]
    },
    {
     "name": "stderr",
     "output_type": "stream",
     "text": [
      "/opt/jupyterhub/anaconda/lib/python3.9/site-packages/sklearn/metrics/_classification.py:1308: UndefinedMetricWarning: Precision is ill-defined and being set to 0.0 in labels with no predicted samples. Use `zero_division` parameter to control this behavior.\n",
      "  _warn_prf(average, modifier, msg_start, len(result))\n"
     ]
    },
    {
     "name": "stdout",
     "output_type": "stream",
     "text": [
      " 31 10.72s trainloss=0.69342 validloss=0.69441 accuracy_score=0.48146 \n"
     ]
    },
    {
     "name": "stderr",
     "output_type": "stream",
     "text": [
      "/opt/jupyterhub/anaconda/lib/python3.9/site-packages/sklearn/metrics/_classification.py:1308: UndefinedMetricWarning: Precision is ill-defined and being set to 0.0 in labels with no predicted samples. Use `zero_division` parameter to control this behavior.\n",
      "  _warn_prf(average, modifier, msg_start, len(result))\n"
     ]
    },
    {
     "name": "stdout",
     "output_type": "stream",
     "text": [
      " 32 12.59s trainloss=0.69361 validloss=0.69311 accuracy_score=0.51854 \n"
     ]
    },
    {
     "name": "stderr",
     "output_type": "stream",
     "text": [
      "/opt/jupyterhub/anaconda/lib/python3.9/site-packages/sklearn/metrics/_classification.py:1308: UndefinedMetricWarning: Precision is ill-defined and being set to 0.0 in labels with no predicted samples. Use `zero_division` parameter to control this behavior.\n",
      "  _warn_prf(average, modifier, msg_start, len(result))\n"
     ]
    },
    {
     "name": "stdout",
     "output_type": "stream",
     "text": [
      " 33 11.08s trainloss=0.69364 validloss=0.69388 accuracy_score=0.48146 \n"
     ]
    },
    {
     "name": "stderr",
     "output_type": "stream",
     "text": [
      "/opt/jupyterhub/anaconda/lib/python3.9/site-packages/sklearn/metrics/_classification.py:1308: UndefinedMetricWarning: Precision is ill-defined and being set to 0.0 in labels with no predicted samples. Use `zero_division` parameter to control this behavior.\n",
      "  _warn_prf(average, modifier, msg_start, len(result))\n"
     ]
    },
    {
     "name": "stdout",
     "output_type": "stream",
     "text": [
      " 34 11.65s trainloss=0.69363 validloss=0.69514 accuracy_score=0.48146 \n"
     ]
    },
    {
     "name": "stderr",
     "output_type": "stream",
     "text": [
      "/opt/jupyterhub/anaconda/lib/python3.9/site-packages/sklearn/metrics/_classification.py:1308: UndefinedMetricWarning: Precision is ill-defined and being set to 0.0 in labels with no predicted samples. Use `zero_division` parameter to control this behavior.\n",
      "  _warn_prf(average, modifier, msg_start, len(result))\n"
     ]
    },
    {
     "name": "stdout",
     "output_type": "stream",
     "text": [
      " 35 7.90s trainloss=0.69366 validloss=0.69474 accuracy_score=0.48146 \n"
     ]
    },
    {
     "name": "stderr",
     "output_type": "stream",
     "text": [
      "/opt/jupyterhub/anaconda/lib/python3.9/site-packages/sklearn/metrics/_classification.py:1308: UndefinedMetricWarning: Precision is ill-defined and being set to 0.0 in labels with no predicted samples. Use `zero_division` parameter to control this behavior.\n",
      "  _warn_prf(average, modifier, msg_start, len(result))\n"
     ]
    },
    {
     "name": "stdout",
     "output_type": "stream",
     "text": [
      " 36 7.04s trainloss=0.69330 validloss=0.69367 accuracy_score=0.48146 \n"
     ]
    },
    {
     "name": "stderr",
     "output_type": "stream",
     "text": [
      "/opt/jupyterhub/anaconda/lib/python3.9/site-packages/sklearn/metrics/_classification.py:1308: UndefinedMetricWarning: Precision is ill-defined and being set to 0.0 in labels with no predicted samples. Use `zero_division` parameter to control this behavior.\n",
      "  _warn_prf(average, modifier, msg_start, len(result))\n"
     ]
    },
    {
     "name": "stdout",
     "output_type": "stream",
     "text": [
      " 37 6.98s trainloss=0.69337 validloss=0.69363 accuracy_score=0.48146 \n"
     ]
    },
    {
     "name": "stderr",
     "output_type": "stream",
     "text": [
      "/opt/jupyterhub/anaconda/lib/python3.9/site-packages/sklearn/metrics/_classification.py:1308: UndefinedMetricWarning: Precision is ill-defined and being set to 0.0 in labels with no predicted samples. Use `zero_division` parameter to control this behavior.\n",
      "  _warn_prf(average, modifier, msg_start, len(result))\n"
     ]
    },
    {
     "name": "stdout",
     "output_type": "stream",
     "text": [
      " 38 7.01s trainloss=0.69337 validloss=0.69465 accuracy_score=0.48146 \n"
     ]
    },
    {
     "name": "stderr",
     "output_type": "stream",
     "text": [
      "/opt/jupyterhub/anaconda/lib/python3.9/site-packages/sklearn/metrics/_classification.py:1308: UndefinedMetricWarning: Precision is ill-defined and being set to 0.0 in labels with no predicted samples. Use `zero_division` parameter to control this behavior.\n",
      "  _warn_prf(average, modifier, msg_start, len(result))\n"
     ]
    },
    {
     "name": "stdout",
     "output_type": "stream",
     "text": [
      " 39 7.09s trainloss=0.69321 validloss=0.69265 accuracy_score=0.51854 \n"
     ]
    },
    {
     "name": "stderr",
     "output_type": "stream",
     "text": [
      "/opt/jupyterhub/anaconda/lib/python3.9/site-packages/sklearn/metrics/_classification.py:1308: UndefinedMetricWarning: Precision is ill-defined and being set to 0.0 in labels with no predicted samples. Use `zero_division` parameter to control this behavior.\n",
      "  _warn_prf(average, modifier, msg_start, len(result))\n"
     ]
    },
    {
     "name": "stdout",
     "output_type": "stream",
     "text": [
      " 40 7.54s trainloss=0.69334 validloss=0.69282 accuracy_score=0.51854 \n"
     ]
    },
    {
     "name": "stderr",
     "output_type": "stream",
     "text": [
      "/opt/jupyterhub/anaconda/lib/python3.9/site-packages/sklearn/metrics/_classification.py:1308: UndefinedMetricWarning: Precision is ill-defined and being set to 0.0 in labels with no predicted samples. Use `zero_division` parameter to control this behavior.\n",
      "  _warn_prf(average, modifier, msg_start, len(result))\n"
     ]
    },
    {
     "name": "stdout",
     "output_type": "stream",
     "text": [
      " 41 7.31s trainloss=0.69319 validloss=0.69244 accuracy_score=0.51854 \n"
     ]
    },
    {
     "name": "stderr",
     "output_type": "stream",
     "text": [
      "/opt/jupyterhub/anaconda/lib/python3.9/site-packages/sklearn/metrics/_classification.py:1308: UndefinedMetricWarning: Precision is ill-defined and being set to 0.0 in labels with no predicted samples. Use `zero_division` parameter to control this behavior.\n",
      "  _warn_prf(average, modifier, msg_start, len(result))\n"
     ]
    },
    {
     "name": "stdout",
     "output_type": "stream",
     "text": [
      " 42 7.26s trainloss=0.69336 validloss=0.69272 accuracy_score=0.51854 \n"
     ]
    },
    {
     "name": "stderr",
     "output_type": "stream",
     "text": [
      "/opt/jupyterhub/anaconda/lib/python3.9/site-packages/sklearn/metrics/_classification.py:1308: UndefinedMetricWarning: Precision is ill-defined and being set to 0.0 in labels with no predicted samples. Use `zero_division` parameter to control this behavior.\n",
      "  _warn_prf(average, modifier, msg_start, len(result))\n"
     ]
    },
    {
     "name": "stdout",
     "output_type": "stream",
     "text": [
      " 43 7.47s trainloss=0.69375 validloss=0.69392 accuracy_score=0.48146 \n"
     ]
    },
    {
     "name": "stderr",
     "output_type": "stream",
     "text": [
      "/opt/jupyterhub/anaconda/lib/python3.9/site-packages/sklearn/metrics/_classification.py:1308: UndefinedMetricWarning: Precision is ill-defined and being set to 0.0 in labels with no predicted samples. Use `zero_division` parameter to control this behavior.\n",
      "  _warn_prf(average, modifier, msg_start, len(result))\n"
     ]
    },
    {
     "name": "stdout",
     "output_type": "stream",
     "text": [
      " 44 7.09s trainloss=0.69332 validloss=0.69305 accuracy_score=0.51854 \n"
     ]
    },
    {
     "name": "stderr",
     "output_type": "stream",
     "text": [
      "/opt/jupyterhub/anaconda/lib/python3.9/site-packages/sklearn/metrics/_classification.py:1308: UndefinedMetricWarning: Precision is ill-defined and being set to 0.0 in labels with no predicted samples. Use `zero_division` parameter to control this behavior.\n",
      "  _warn_prf(average, modifier, msg_start, len(result))\n"
     ]
    },
    {
     "name": "stdout",
     "output_type": "stream",
     "text": [
      " 45 7.16s trainloss=0.69338 validloss=0.69576 accuracy_score=0.48146 \n"
     ]
    },
    {
     "name": "stderr",
     "output_type": "stream",
     "text": [
      "/opt/jupyterhub/anaconda/lib/python3.9/site-packages/sklearn/metrics/_classification.py:1308: UndefinedMetricWarning: Precision is ill-defined and being set to 0.0 in labels with no predicted samples. Use `zero_division` parameter to control this behavior.\n",
      "  _warn_prf(average, modifier, msg_start, len(result))\n"
     ]
    },
    {
     "name": "stdout",
     "output_type": "stream",
     "text": [
      " 46 7.40s trainloss=0.69348 validloss=0.69284 accuracy_score=0.51854 \n"
     ]
    },
    {
     "name": "stderr",
     "output_type": "stream",
     "text": [
      "/opt/jupyterhub/anaconda/lib/python3.9/site-packages/sklearn/metrics/_classification.py:1308: UndefinedMetricWarning: Precision is ill-defined and being set to 0.0 in labels with no predicted samples. Use `zero_division` parameter to control this behavior.\n",
      "  _warn_prf(average, modifier, msg_start, len(result))\n"
     ]
    },
    {
     "name": "stdout",
     "output_type": "stream",
     "text": [
      " 47 7.36s trainloss=0.69333 validloss=0.69329 accuracy_score=0.48146 \n"
     ]
    },
    {
     "name": "stderr",
     "output_type": "stream",
     "text": [
      "/opt/jupyterhub/anaconda/lib/python3.9/site-packages/sklearn/metrics/_classification.py:1308: UndefinedMetricWarning: Precision is ill-defined and being set to 0.0 in labels with no predicted samples. Use `zero_division` parameter to control this behavior.\n",
      "  _warn_prf(average, modifier, msg_start, len(result))\n"
     ]
    },
    {
     "name": "stdout",
     "output_type": "stream",
     "text": [
      " 48 7.06s trainloss=0.69339 validloss=0.69297 accuracy_score=0.51854 \n"
     ]
    },
    {
     "name": "stderr",
     "output_type": "stream",
     "text": [
      "/opt/jupyterhub/anaconda/lib/python3.9/site-packages/sklearn/metrics/_classification.py:1308: UndefinedMetricWarning: Precision is ill-defined and being set to 0.0 in labels with no predicted samples. Use `zero_division` parameter to control this behavior.\n",
      "  _warn_prf(average, modifier, msg_start, len(result))\n"
     ]
    },
    {
     "name": "stdout",
     "output_type": "stream",
     "text": [
      " 49 7.18s trainloss=0.69319 validloss=0.69243 accuracy_score=0.51854 \n"
     ]
    },
    {
     "name": "stderr",
     "output_type": "stream",
     "text": [
      "/opt/jupyterhub/anaconda/lib/python3.9/site-packages/sklearn/metrics/_classification.py:1308: UndefinedMetricWarning: Precision is ill-defined and being set to 0.0 in labels with no predicted samples. Use `zero_division` parameter to control this behavior.\n",
      "  _warn_prf(average, modifier, msg_start, len(result))\n"
     ]
    },
    {
     "name": "stdout",
     "output_type": "stream",
     "text": [
      " 50 7.64s trainloss=0.69333 validloss=0.69331 accuracy_score=0.48146 \n"
     ]
    },
    {
     "name": "stderr",
     "output_type": "stream",
     "text": [
      "/opt/jupyterhub/anaconda/lib/python3.9/site-packages/sklearn/metrics/_classification.py:1308: UndefinedMetricWarning: Precision is ill-defined and being set to 0.0 in labels with no predicted samples. Use `zero_division` parameter to control this behavior.\n",
      "  _warn_prf(average, modifier, msg_start, len(result))\n"
     ]
    },
    {
     "name": "stdout",
     "output_type": "stream",
     "text": [
      " 51 7.05s trainloss=0.69327 validloss=0.69263 accuracy_score=0.51854 \n"
     ]
    },
    {
     "name": "stderr",
     "output_type": "stream",
     "text": [
      "/opt/jupyterhub/anaconda/lib/python3.9/site-packages/sklearn/metrics/_classification.py:1308: UndefinedMetricWarning: Precision is ill-defined and being set to 0.0 in labels with no predicted samples. Use `zero_division` parameter to control this behavior.\n",
      "  _warn_prf(average, modifier, msg_start, len(result))\n"
     ]
    },
    {
     "name": "stdout",
     "output_type": "stream",
     "text": [
      " 52 7.15s trainloss=0.69326 validloss=0.69398 accuracy_score=0.48146 \n"
     ]
    },
    {
     "name": "stderr",
     "output_type": "stream",
     "text": [
      "/opt/jupyterhub/anaconda/lib/python3.9/site-packages/sklearn/metrics/_classification.py:1308: UndefinedMetricWarning: Precision is ill-defined and being set to 0.0 in labels with no predicted samples. Use `zero_division` parameter to control this behavior.\n",
      "  _warn_prf(average, modifier, msg_start, len(result))\n"
     ]
    },
    {
     "name": "stdout",
     "output_type": "stream",
     "text": [
      " 53 6.99s trainloss=0.69312 validloss=0.69267 accuracy_score=0.51854 \n"
     ]
    },
    {
     "name": "stderr",
     "output_type": "stream",
     "text": [
      "/opt/jupyterhub/anaconda/lib/python3.9/site-packages/sklearn/metrics/_classification.py:1308: UndefinedMetricWarning: Precision is ill-defined and being set to 0.0 in labels with no predicted samples. Use `zero_division` parameter to control this behavior.\n",
      "  _warn_prf(average, modifier, msg_start, len(result))\n"
     ]
    },
    {
     "name": "stdout",
     "output_type": "stream",
     "text": [
      " 54 7.26s trainloss=0.69328 validloss=0.69248 accuracy_score=0.51854 \n"
     ]
    },
    {
     "name": "stderr",
     "output_type": "stream",
     "text": [
      "/opt/jupyterhub/anaconda/lib/python3.9/site-packages/sklearn/metrics/_classification.py:1308: UndefinedMetricWarning: Precision is ill-defined and being set to 0.0 in labels with no predicted samples. Use `zero_division` parameter to control this behavior.\n",
      "  _warn_prf(average, modifier, msg_start, len(result))\n"
     ]
    },
    {
     "name": "stdout",
     "output_type": "stream",
     "text": [
      " 55 7.25s trainloss=0.69350 validloss=0.69340 accuracy_score=0.48146 \n"
     ]
    },
    {
     "name": "stderr",
     "output_type": "stream",
     "text": [
      "/opt/jupyterhub/anaconda/lib/python3.9/site-packages/sklearn/metrics/_classification.py:1308: UndefinedMetricWarning: Precision is ill-defined and being set to 0.0 in labels with no predicted samples. Use `zero_division` parameter to control this behavior.\n",
      "  _warn_prf(average, modifier, msg_start, len(result))\n"
     ]
    },
    {
     "name": "stdout",
     "output_type": "stream",
     "text": [
      " 56 7.11s trainloss=0.69326 validloss=0.69477 accuracy_score=0.48146 \n"
     ]
    },
    {
     "name": "stderr",
     "output_type": "stream",
     "text": [
      "/opt/jupyterhub/anaconda/lib/python3.9/site-packages/sklearn/metrics/_classification.py:1308: UndefinedMetricWarning: Precision is ill-defined and being set to 0.0 in labels with no predicted samples. Use `zero_division` parameter to control this behavior.\n",
      "  _warn_prf(average, modifier, msg_start, len(result))\n"
     ]
    },
    {
     "name": "stdout",
     "output_type": "stream",
     "text": [
      " 57 7.50s trainloss=0.69337 validloss=0.69482 accuracy_score=0.48146 \n"
     ]
    },
    {
     "name": "stderr",
     "output_type": "stream",
     "text": [
      "/opt/jupyterhub/anaconda/lib/python3.9/site-packages/sklearn/metrics/_classification.py:1308: UndefinedMetricWarning: Precision is ill-defined and being set to 0.0 in labels with no predicted samples. Use `zero_division` parameter to control this behavior.\n",
      "  _warn_prf(average, modifier, msg_start, len(result))\n"
     ]
    },
    {
     "name": "stdout",
     "output_type": "stream",
     "text": [
      " 58 7.46s trainloss=0.69361 validloss=0.69351 accuracy_score=0.48146 \n"
     ]
    },
    {
     "name": "stderr",
     "output_type": "stream",
     "text": [
      "/opt/jupyterhub/anaconda/lib/python3.9/site-packages/sklearn/metrics/_classification.py:1308: UndefinedMetricWarning: Precision is ill-defined and being set to 0.0 in labels with no predicted samples. Use `zero_division` parameter to control this behavior.\n",
      "  _warn_prf(average, modifier, msg_start, len(result))\n"
     ]
    },
    {
     "name": "stdout",
     "output_type": "stream",
     "text": [
      " 59 7.03s trainloss=0.69326 validloss=0.69454 accuracy_score=0.48146 \n"
     ]
    },
    {
     "name": "stderr",
     "output_type": "stream",
     "text": [
      "/opt/jupyterhub/anaconda/lib/python3.9/site-packages/sklearn/metrics/_classification.py:1308: UndefinedMetricWarning: Precision is ill-defined and being set to 0.0 in labels with no predicted samples. Use `zero_division` parameter to control this behavior.\n",
      "  _warn_prf(average, modifier, msg_start, len(result))\n"
     ]
    },
    {
     "name": "stdout",
     "output_type": "stream",
     "text": [
      " 60 7.18s trainloss=0.69336 validloss=0.69430 accuracy_score=0.48146 \n"
     ]
    },
    {
     "name": "stderr",
     "output_type": "stream",
     "text": [
      "/opt/jupyterhub/anaconda/lib/python3.9/site-packages/sklearn/metrics/_classification.py:1308: UndefinedMetricWarning: Precision is ill-defined and being set to 0.0 in labels with no predicted samples. Use `zero_division` parameter to control this behavior.\n",
      "  _warn_prf(average, modifier, msg_start, len(result))\n"
     ]
    },
    {
     "name": "stdout",
     "output_type": "stream",
     "text": [
      " 61 6.97s trainloss=0.69365 validloss=0.69380 accuracy_score=0.48146 \n"
     ]
    },
    {
     "name": "stderr",
     "output_type": "stream",
     "text": [
      "/opt/jupyterhub/anaconda/lib/python3.9/site-packages/sklearn/metrics/_classification.py:1308: UndefinedMetricWarning: Precision is ill-defined and being set to 0.0 in labels with no predicted samples. Use `zero_division` parameter to control this behavior.\n",
      "  _warn_prf(average, modifier, msg_start, len(result))\n"
     ]
    },
    {
     "name": "stdout",
     "output_type": "stream",
     "text": [
      " 62 6.92s trainloss=0.69332 validloss=0.69246 accuracy_score=0.51854 \n"
     ]
    },
    {
     "name": "stderr",
     "output_type": "stream",
     "text": [
      "/opt/jupyterhub/anaconda/lib/python3.9/site-packages/sklearn/metrics/_classification.py:1308: UndefinedMetricWarning: Precision is ill-defined and being set to 0.0 in labels with no predicted samples. Use `zero_division` parameter to control this behavior.\n",
      "  _warn_prf(average, modifier, msg_start, len(result))\n"
     ]
    },
    {
     "name": "stdout",
     "output_type": "stream",
     "text": [
      " 63 7.26s trainloss=0.69363 validloss=0.69267 accuracy_score=0.51854 \n"
     ]
    },
    {
     "name": "stderr",
     "output_type": "stream",
     "text": [
      "/opt/jupyterhub/anaconda/lib/python3.9/site-packages/sklearn/metrics/_classification.py:1308: UndefinedMetricWarning: Precision is ill-defined and being set to 0.0 in labels with no predicted samples. Use `zero_division` parameter to control this behavior.\n",
      "  _warn_prf(average, modifier, msg_start, len(result))\n"
     ]
    },
    {
     "name": "stdout",
     "output_type": "stream",
     "text": [
      " 64 6.94s trainloss=0.69355 validloss=0.69321 accuracy_score=0.48146 \n"
     ]
    },
    {
     "name": "stderr",
     "output_type": "stream",
     "text": [
      "/opt/jupyterhub/anaconda/lib/python3.9/site-packages/sklearn/metrics/_classification.py:1308: UndefinedMetricWarning: Precision is ill-defined and being set to 0.0 in labels with no predicted samples. Use `zero_division` parameter to control this behavior.\n",
      "  _warn_prf(average, modifier, msg_start, len(result))\n"
     ]
    },
    {
     "name": "stdout",
     "output_type": "stream",
     "text": [
      " 65 6.99s trainloss=0.69342 validloss=0.69248 accuracy_score=0.51854 \n"
     ]
    },
    {
     "name": "stderr",
     "output_type": "stream",
     "text": [
      "/opt/jupyterhub/anaconda/lib/python3.9/site-packages/sklearn/metrics/_classification.py:1308: UndefinedMetricWarning: Precision is ill-defined and being set to 0.0 in labels with no predicted samples. Use `zero_division` parameter to control this behavior.\n",
      "  _warn_prf(average, modifier, msg_start, len(result))\n"
     ]
    },
    {
     "name": "stdout",
     "output_type": "stream",
     "text": [
      " 66 7.22s trainloss=0.69345 validloss=0.69396 accuracy_score=0.48146 \n"
     ]
    },
    {
     "name": "stderr",
     "output_type": "stream",
     "text": [
      "/opt/jupyterhub/anaconda/lib/python3.9/site-packages/sklearn/metrics/_classification.py:1308: UndefinedMetricWarning: Precision is ill-defined and being set to 0.0 in labels with no predicted samples. Use `zero_division` parameter to control this behavior.\n",
      "  _warn_prf(average, modifier, msg_start, len(result))\n"
     ]
    },
    {
     "name": "stdout",
     "output_type": "stream",
     "text": [
      " 67 7.24s trainloss=0.69302 validloss=0.69260 accuracy_score=0.51854 \n"
     ]
    },
    {
     "name": "stderr",
     "output_type": "stream",
     "text": [
      "/opt/jupyterhub/anaconda/lib/python3.9/site-packages/sklearn/metrics/_classification.py:1308: UndefinedMetricWarning: Precision is ill-defined and being set to 0.0 in labels with no predicted samples. Use `zero_division` parameter to control this behavior.\n",
      "  _warn_prf(average, modifier, msg_start, len(result))\n"
     ]
    },
    {
     "name": "stdout",
     "output_type": "stream",
     "text": [
      " 68 7.05s trainloss=0.69366 validloss=0.69384 accuracy_score=0.48146 \n"
     ]
    },
    {
     "name": "stderr",
     "output_type": "stream",
     "text": [
      "/opt/jupyterhub/anaconda/lib/python3.9/site-packages/sklearn/metrics/_classification.py:1308: UndefinedMetricWarning: Precision is ill-defined and being set to 0.0 in labels with no predicted samples. Use `zero_division` parameter to control this behavior.\n",
      "  _warn_prf(average, modifier, msg_start, len(result))\n"
     ]
    },
    {
     "name": "stdout",
     "output_type": "stream",
     "text": [
      " 69 7.25s trainloss=0.69347 validloss=0.69308 accuracy_score=0.51854 \n"
     ]
    },
    {
     "name": "stderr",
     "output_type": "stream",
     "text": [
      "/opt/jupyterhub/anaconda/lib/python3.9/site-packages/sklearn/metrics/_classification.py:1308: UndefinedMetricWarning: Precision is ill-defined and being set to 0.0 in labels with no predicted samples. Use `zero_division` parameter to control this behavior.\n",
      "  _warn_prf(average, modifier, msg_start, len(result))\n"
     ]
    },
    {
     "name": "stdout",
     "output_type": "stream",
     "text": [
      " 70 7.43s trainloss=0.69368 validloss=0.69311 accuracy_score=0.51854 \n"
     ]
    },
    {
     "name": "stderr",
     "output_type": "stream",
     "text": [
      "/opt/jupyterhub/anaconda/lib/python3.9/site-packages/sklearn/metrics/_classification.py:1308: UndefinedMetricWarning: Precision is ill-defined and being set to 0.0 in labels with no predicted samples. Use `zero_division` parameter to control this behavior.\n",
      "  _warn_prf(average, modifier, msg_start, len(result))\n"
     ]
    },
    {
     "name": "stdout",
     "output_type": "stream",
     "text": [
      " 71 6.90s trainloss=0.69330 validloss=0.69343 accuracy_score=0.48146 \n"
     ]
    },
    {
     "name": "stderr",
     "output_type": "stream",
     "text": [
      "/opt/jupyterhub/anaconda/lib/python3.9/site-packages/sklearn/metrics/_classification.py:1308: UndefinedMetricWarning: Precision is ill-defined and being set to 0.0 in labels with no predicted samples. Use `zero_division` parameter to control this behavior.\n",
      "  _warn_prf(average, modifier, msg_start, len(result))\n"
     ]
    },
    {
     "name": "stdout",
     "output_type": "stream",
     "text": [
      " 72 7.03s trainloss=0.69346 validloss=0.69419 accuracy_score=0.48146 \n"
     ]
    },
    {
     "name": "stderr",
     "output_type": "stream",
     "text": [
      "/opt/jupyterhub/anaconda/lib/python3.9/site-packages/sklearn/metrics/_classification.py:1308: UndefinedMetricWarning: Precision is ill-defined and being set to 0.0 in labels with no predicted samples. Use `zero_division` parameter to control this behavior.\n",
      "  _warn_prf(average, modifier, msg_start, len(result))\n"
     ]
    },
    {
     "name": "stdout",
     "output_type": "stream",
     "text": [
      " 73 7.04s trainloss=0.69332 validloss=0.69424 accuracy_score=0.48146 \n"
     ]
    },
    {
     "name": "stderr",
     "output_type": "stream",
     "text": [
      "/opt/jupyterhub/anaconda/lib/python3.9/site-packages/sklearn/metrics/_classification.py:1308: UndefinedMetricWarning: Precision is ill-defined and being set to 0.0 in labels with no predicted samples. Use `zero_division` parameter to control this behavior.\n",
      "  _warn_prf(average, modifier, msg_start, len(result))\n"
     ]
    },
    {
     "name": "stdout",
     "output_type": "stream",
     "text": [
      " 74 7.15s trainloss=0.69358 validloss=0.69254 accuracy_score=0.51854 \n"
     ]
    },
    {
     "name": "stderr",
     "output_type": "stream",
     "text": [
      "/opt/jupyterhub/anaconda/lib/python3.9/site-packages/sklearn/metrics/_classification.py:1308: UndefinedMetricWarning: Precision is ill-defined and being set to 0.0 in labels with no predicted samples. Use `zero_division` parameter to control this behavior.\n",
      "  _warn_prf(average, modifier, msg_start, len(result))\n"
     ]
    },
    {
     "name": "stdout",
     "output_type": "stream",
     "text": [
      " 75 7.02s trainloss=0.69364 validloss=0.69492 accuracy_score=0.48146 \n"
     ]
    },
    {
     "name": "stderr",
     "output_type": "stream",
     "text": [
      "/opt/jupyterhub/anaconda/lib/python3.9/site-packages/sklearn/metrics/_classification.py:1308: UndefinedMetricWarning: Precision is ill-defined and being set to 0.0 in labels with no predicted samples. Use `zero_division` parameter to control this behavior.\n",
      "  _warn_prf(average, modifier, msg_start, len(result))\n"
     ]
    },
    {
     "name": "stdout",
     "output_type": "stream",
     "text": [
      " 76 6.98s trainloss=0.69377 validloss=0.69313 accuracy_score=0.51854 \n"
     ]
    },
    {
     "name": "stderr",
     "output_type": "stream",
     "text": [
      "/opt/jupyterhub/anaconda/lib/python3.9/site-packages/sklearn/metrics/_classification.py:1308: UndefinedMetricWarning: Precision is ill-defined and being set to 0.0 in labels with no predicted samples. Use `zero_division` parameter to control this behavior.\n",
      "  _warn_prf(average, modifier, msg_start, len(result))\n"
     ]
    },
    {
     "name": "stdout",
     "output_type": "stream",
     "text": [
      " 77 7.25s trainloss=0.69346 validloss=0.69362 accuracy_score=0.48146 \n"
     ]
    },
    {
     "name": "stderr",
     "output_type": "stream",
     "text": [
      "/opt/jupyterhub/anaconda/lib/python3.9/site-packages/sklearn/metrics/_classification.py:1308: UndefinedMetricWarning: Precision is ill-defined and being set to 0.0 in labels with no predicted samples. Use `zero_division` parameter to control this behavior.\n",
      "  _warn_prf(average, modifier, msg_start, len(result))\n"
     ]
    },
    {
     "name": "stdout",
     "output_type": "stream",
     "text": [
      " 78 7.32s trainloss=0.69331 validloss=0.69376 accuracy_score=0.48146 \n"
     ]
    },
    {
     "name": "stderr",
     "output_type": "stream",
     "text": [
      "/opt/jupyterhub/anaconda/lib/python3.9/site-packages/sklearn/metrics/_classification.py:1308: UndefinedMetricWarning: Precision is ill-defined and being set to 0.0 in labels with no predicted samples. Use `zero_division` parameter to control this behavior.\n",
      "  _warn_prf(average, modifier, msg_start, len(result))\n"
     ]
    },
    {
     "name": "stdout",
     "output_type": "stream",
     "text": [
      " 79 7.63s trainloss=0.69351 validloss=0.69356 accuracy_score=0.48146 \n"
     ]
    },
    {
     "name": "stderr",
     "output_type": "stream",
     "text": [
      "/opt/jupyterhub/anaconda/lib/python3.9/site-packages/sklearn/metrics/_classification.py:1308: UndefinedMetricWarning: Precision is ill-defined and being set to 0.0 in labels with no predicted samples. Use `zero_division` parameter to control this behavior.\n",
      "  _warn_prf(average, modifier, msg_start, len(result))\n"
     ]
    },
    {
     "name": "stdout",
     "output_type": "stream",
     "text": [
      " 80 6.99s trainloss=0.69322 validloss=0.69546 accuracy_score=0.48146 \n"
     ]
    },
    {
     "name": "stderr",
     "output_type": "stream",
     "text": [
      "/opt/jupyterhub/anaconda/lib/python3.9/site-packages/sklearn/metrics/_classification.py:1308: UndefinedMetricWarning: Precision is ill-defined and being set to 0.0 in labels with no predicted samples. Use `zero_division` parameter to control this behavior.\n",
      "  _warn_prf(average, modifier, msg_start, len(result))\n"
     ]
    },
    {
     "name": "stdout",
     "output_type": "stream",
     "text": [
      " 81 6.98s trainloss=0.69347 validloss=0.69261 accuracy_score=0.51854 \n"
     ]
    },
    {
     "name": "stderr",
     "output_type": "stream",
     "text": [
      "/opt/jupyterhub/anaconda/lib/python3.9/site-packages/sklearn/metrics/_classification.py:1308: UndefinedMetricWarning: Precision is ill-defined and being set to 0.0 in labels with no predicted samples. Use `zero_division` parameter to control this behavior.\n",
      "  _warn_prf(average, modifier, msg_start, len(result))\n"
     ]
    },
    {
     "name": "stdout",
     "output_type": "stream",
     "text": [
      " 82 7.58s trainloss=0.69364 validloss=0.69610 accuracy_score=0.48146 \n"
     ]
    },
    {
     "name": "stderr",
     "output_type": "stream",
     "text": [
      "/opt/jupyterhub/anaconda/lib/python3.9/site-packages/sklearn/metrics/_classification.py:1308: UndefinedMetricWarning: Precision is ill-defined and being set to 0.0 in labels with no predicted samples. Use `zero_division` parameter to control this behavior.\n",
      "  _warn_prf(average, modifier, msg_start, len(result))\n"
     ]
    },
    {
     "name": "stdout",
     "output_type": "stream",
     "text": [
      " 83 7.86s trainloss=0.69360 validloss=0.69293 accuracy_score=0.51854 \n"
     ]
    },
    {
     "name": "stderr",
     "output_type": "stream",
     "text": [
      "/opt/jupyterhub/anaconda/lib/python3.9/site-packages/sklearn/metrics/_classification.py:1308: UndefinedMetricWarning: Precision is ill-defined and being set to 0.0 in labels with no predicted samples. Use `zero_division` parameter to control this behavior.\n",
      "  _warn_prf(average, modifier, msg_start, len(result))\n"
     ]
    },
    {
     "name": "stdout",
     "output_type": "stream",
     "text": [
      " 84 7.92s trainloss=0.69349 validloss=0.69433 accuracy_score=0.48146 \n"
     ]
    },
    {
     "name": "stderr",
     "output_type": "stream",
     "text": [
      "/opt/jupyterhub/anaconda/lib/python3.9/site-packages/sklearn/metrics/_classification.py:1308: UndefinedMetricWarning: Precision is ill-defined and being set to 0.0 in labels with no predicted samples. Use `zero_division` parameter to control this behavior.\n",
      "  _warn_prf(average, modifier, msg_start, len(result))\n"
     ]
    },
    {
     "name": "stdout",
     "output_type": "stream",
     "text": [
      " 85 7.92s trainloss=0.69309 validloss=0.69507 accuracy_score=0.48146 \n"
     ]
    },
    {
     "name": "stderr",
     "output_type": "stream",
     "text": [
      "/opt/jupyterhub/anaconda/lib/python3.9/site-packages/sklearn/metrics/_classification.py:1308: UndefinedMetricWarning: Precision is ill-defined and being set to 0.0 in labels with no predicted samples. Use `zero_division` parameter to control this behavior.\n",
      "  _warn_prf(average, modifier, msg_start, len(result))\n"
     ]
    },
    {
     "name": "stdout",
     "output_type": "stream",
     "text": [
      " 86 7.98s trainloss=0.69334 validloss=0.69510 accuracy_score=0.48146 \n"
     ]
    },
    {
     "name": "stderr",
     "output_type": "stream",
     "text": [
      "/opt/jupyterhub/anaconda/lib/python3.9/site-packages/sklearn/metrics/_classification.py:1308: UndefinedMetricWarning: Precision is ill-defined and being set to 0.0 in labels with no predicted samples. Use `zero_division` parameter to control this behavior.\n",
      "  _warn_prf(average, modifier, msg_start, len(result))\n"
     ]
    },
    {
     "name": "stdout",
     "output_type": "stream",
     "text": [
      " 87 7.81s trainloss=0.69349 validloss=0.69271 accuracy_score=0.51854 \n"
     ]
    },
    {
     "name": "stderr",
     "output_type": "stream",
     "text": [
      "/opt/jupyterhub/anaconda/lib/python3.9/site-packages/sklearn/metrics/_classification.py:1308: UndefinedMetricWarning: Precision is ill-defined and being set to 0.0 in labels with no predicted samples. Use `zero_division` parameter to control this behavior.\n",
      "  _warn_prf(average, modifier, msg_start, len(result))\n"
     ]
    },
    {
     "name": "stdout",
     "output_type": "stream",
     "text": [
      " 88 7.83s trainloss=0.69350 validloss=0.69379 accuracy_score=0.48146 \n"
     ]
    },
    {
     "name": "stderr",
     "output_type": "stream",
     "text": [
      "/opt/jupyterhub/anaconda/lib/python3.9/site-packages/sklearn/metrics/_classification.py:1308: UndefinedMetricWarning: Precision is ill-defined and being set to 0.0 in labels with no predicted samples. Use `zero_division` parameter to control this behavior.\n",
      "  _warn_prf(average, modifier, msg_start, len(result))\n"
     ]
    },
    {
     "name": "stdout",
     "output_type": "stream",
     "text": [
      " 89 7.91s trainloss=0.69309 validloss=0.69243 accuracy_score=0.51854 \n"
     ]
    },
    {
     "name": "stderr",
     "output_type": "stream",
     "text": [
      "/opt/jupyterhub/anaconda/lib/python3.9/site-packages/sklearn/metrics/_classification.py:1308: UndefinedMetricWarning: Precision is ill-defined and being set to 0.0 in labels with no predicted samples. Use `zero_division` parameter to control this behavior.\n",
      "  _warn_prf(average, modifier, msg_start, len(result))\n"
     ]
    },
    {
     "name": "stdout",
     "output_type": "stream",
     "text": [
      " 90 7.84s trainloss=0.69328 validloss=0.69487 accuracy_score=0.48146 \n"
     ]
    },
    {
     "name": "stderr",
     "output_type": "stream",
     "text": [
      "/opt/jupyterhub/anaconda/lib/python3.9/site-packages/sklearn/metrics/_classification.py:1308: UndefinedMetricWarning: Precision is ill-defined and being set to 0.0 in labels with no predicted samples. Use `zero_division` parameter to control this behavior.\n",
      "  _warn_prf(average, modifier, msg_start, len(result))\n"
     ]
    },
    {
     "name": "stdout",
     "output_type": "stream",
     "text": [
      " 91 7.84s trainloss=0.69319 validloss=0.69247 accuracy_score=0.51854 \n"
     ]
    },
    {
     "name": "stderr",
     "output_type": "stream",
     "text": [
      "/opt/jupyterhub/anaconda/lib/python3.9/site-packages/sklearn/metrics/_classification.py:1308: UndefinedMetricWarning: Precision is ill-defined and being set to 0.0 in labels with no predicted samples. Use `zero_division` parameter to control this behavior.\n",
      "  _warn_prf(average, modifier, msg_start, len(result))\n"
     ]
    },
    {
     "name": "stdout",
     "output_type": "stream",
     "text": [
      " 92 7.85s trainloss=0.69347 validloss=0.69285 accuracy_score=0.51854 \n"
     ]
    },
    {
     "name": "stderr",
     "output_type": "stream",
     "text": [
      "/opt/jupyterhub/anaconda/lib/python3.9/site-packages/sklearn/metrics/_classification.py:1308: UndefinedMetricWarning: Precision is ill-defined and being set to 0.0 in labels with no predicted samples. Use `zero_division` parameter to control this behavior.\n",
      "  _warn_prf(average, modifier, msg_start, len(result))\n"
     ]
    },
    {
     "name": "stdout",
     "output_type": "stream",
     "text": [
      " 93 7.85s trainloss=0.69352 validloss=0.69306 accuracy_score=0.51854 \n"
     ]
    },
    {
     "name": "stderr",
     "output_type": "stream",
     "text": [
      "/opt/jupyterhub/anaconda/lib/python3.9/site-packages/sklearn/metrics/_classification.py:1308: UndefinedMetricWarning: Precision is ill-defined and being set to 0.0 in labels with no predicted samples. Use `zero_division` parameter to control this behavior.\n",
      "  _warn_prf(average, modifier, msg_start, len(result))\n"
     ]
    },
    {
     "name": "stdout",
     "output_type": "stream",
     "text": [
      " 94 7.86s trainloss=0.69334 validloss=0.69256 accuracy_score=0.51854 \n"
     ]
    },
    {
     "name": "stderr",
     "output_type": "stream",
     "text": [
      "/opt/jupyterhub/anaconda/lib/python3.9/site-packages/sklearn/metrics/_classification.py:1308: UndefinedMetricWarning: Precision is ill-defined and being set to 0.0 in labels with no predicted samples. Use `zero_division` parameter to control this behavior.\n",
      "  _warn_prf(average, modifier, msg_start, len(result))\n"
     ]
    },
    {
     "name": "stdout",
     "output_type": "stream",
     "text": [
      " 95 7.86s trainloss=0.69342 validloss=0.69281 accuracy_score=0.51854 \n"
     ]
    },
    {
     "name": "stderr",
     "output_type": "stream",
     "text": [
      "/opt/jupyterhub/anaconda/lib/python3.9/site-packages/sklearn/metrics/_classification.py:1308: UndefinedMetricWarning: Precision is ill-defined and being set to 0.0 in labels with no predicted samples. Use `zero_division` parameter to control this behavior.\n",
      "  _warn_prf(average, modifier, msg_start, len(result))\n"
     ]
    },
    {
     "name": "stdout",
     "output_type": "stream",
     "text": [
      " 96 7.85s trainloss=0.69378 validloss=0.69355 accuracy_score=0.48146 \n"
     ]
    },
    {
     "name": "stderr",
     "output_type": "stream",
     "text": [
      "/opt/jupyterhub/anaconda/lib/python3.9/site-packages/sklearn/metrics/_classification.py:1308: UndefinedMetricWarning: Precision is ill-defined and being set to 0.0 in labels with no predicted samples. Use `zero_division` parameter to control this behavior.\n",
      "  _warn_prf(average, modifier, msg_start, len(result))\n"
     ]
    },
    {
     "name": "stdout",
     "output_type": "stream",
     "text": [
      " 97 7.85s trainloss=0.69343 validloss=0.69455 accuracy_score=0.48146 \n"
     ]
    },
    {
     "name": "stderr",
     "output_type": "stream",
     "text": [
      "/opt/jupyterhub/anaconda/lib/python3.9/site-packages/sklearn/metrics/_classification.py:1308: UndefinedMetricWarning: Precision is ill-defined and being set to 0.0 in labels with no predicted samples. Use `zero_division` parameter to control this behavior.\n",
      "  _warn_prf(average, modifier, msg_start, len(result))\n"
     ]
    },
    {
     "name": "stdout",
     "output_type": "stream",
     "text": [
      " 98 7.85s trainloss=0.69351 validloss=0.69357 accuracy_score=0.48146 \n"
     ]
    },
    {
     "name": "stderr",
     "output_type": "stream",
     "text": [
      "/opt/jupyterhub/anaconda/lib/python3.9/site-packages/sklearn/metrics/_classification.py:1308: UndefinedMetricWarning: Precision is ill-defined and being set to 0.0 in labels with no predicted samples. Use `zero_division` parameter to control this behavior.\n",
      "  _warn_prf(average, modifier, msg_start, len(result))\n"
     ]
    },
    {
     "name": "stdout",
     "output_type": "stream",
     "text": [
      " 99 7.19s trainloss=0.69326 validloss=0.69303 accuracy_score=0.51854 \n",
      "100 6.93s trainloss=0.69330 validloss=0.69267 accuracy_score=0.51854 \n"
     ]
    },
    {
     "name": "stderr",
     "output_type": "stream",
     "text": [
      "/opt/jupyterhub/anaconda/lib/python3.9/site-packages/sklearn/metrics/_classification.py:1308: UndefinedMetricWarning: Precision is ill-defined and being set to 0.0 in labels with no predicted samples. Use `zero_division` parameter to control this behavior.\n",
      "  _warn_prf(average, modifier, msg_start, len(result))\n"
     ]
    }
   ],
   "source": [
    "rn18_trainer.train(100, lr=0.01, weight_decay=0.8)"
   ]
  },
  {
   "cell_type": "code",
   "execution_count": 89,
   "id": "fb47e12d",
   "metadata": {},
   "outputs": [
    {
     "data": {
      "image/png": "[encoded data removed]",
      "text/plain": [
       "<Figure size 432x288 with 1 Axes>"
      ]
     },
     "metadata": {
      "needs_background": "light"
     },
     "output_type": "display_data"
    }
   ],
   "source": [
    "rn18_trainer.learning_curve()"
   ]
  },
  {
   "cell_type": "code",
   "execution_count": 90,
   "id": "d6a7a010",
   "metadata": {},
   "outputs": [
    {
     "data": {
      "image/png": "[encoded data removed]",
      "text/plain": [
       "<Figure size 432x288 with 1 Axes>"
      ]
     },
     "metadata": {
      "needs_background": "light"
     },
     "output_type": "display_data"
    }
   ],
   "source": [
    "rn18_trainer.learning_curve(y='accuracy_score')"
   ]
  },
  {
   "cell_type": "code",
   "execution_count": 91,
   "id": "ce37c364",
   "metadata": {},
   "outputs": [
    {
     "name": "stdout",
     "output_type": "stream",
     "text": [
      "    accuracy_score  epoch  prec_chewing  recall_chewing  recall_other\n",
      "47        0.595269   24.0      0.702273        0.381011      0.826029\n",
      "7         0.579923    4.0      0.570255        0.770654      0.374502\n",
      "43        0.577366   22.0      0.562500        0.832306      0.302789\n",
      "29        0.556905   15.0      0.545107        0.879162      0.209827\n",
      "1         0.554348    1.0      0.543116        0.885327      0.197875\n",
      "..             ...    ...           ...             ...           ...\n",
      "39        0.481458   20.0      0.000000        0.000000      1.000000\n",
      "3         0.477621    2.0      0.000000        0.000000      0.992032\n",
      "37        0.472506   19.0      0.250000        0.008631      0.972112\n",
      "33        0.457161   17.0      0.392045        0.085080      0.857902\n",
      "19        0.399616   10.0      0.399687        0.314427      0.491368\n",
      "\n",
      "[100 rows x 5 columns]\n"
     ]
    }
   ],
   "source": [
    "sort_epochs(rn18_trainer.evaluator, 'accuracy_score')"
   ]
  },
  {
   "cell_type": "markdown",
   "id": "71d52132",
   "metadata": {},
   "source": [
    "# resnet 34"
   ]
  },
  {
   "cell_type": "code",
   "execution_count": 92,
   "id": "8adab329",
   "metadata": {},
   "outputs": [],
   "source": [
    "rn34 = models.resnet34(pretrained=True)\n",
    "rn34.conv1 = nn.Conv2d(1, rn34.conv1.out_channels,\n",
    "              kernel_size=rn34.conv1.kernel_size[0], \n",
    "                      stride=rn34.conv1.stride[0], \n",
    "                      padding=rn34.conv1.padding[0])\n",
    "num_ftrs = rn34.fc.in_features\n",
    "rn34.fc = nn.Linear(num_ftrs, 2)\n",
    "\n",
    "rn34.post_forward = post_forward\n",
    "\n",
    "rn34_trainer = trainer(rn18, nn.CrossEntropyLoss(weight=normedWeights), train_loader, valid_loader, test_loader, metrics=metrics, gpu=True)"
   ]
  },
  {
   "cell_type": "code",
   "execution_count": 93,
   "id": "7625f9cb",
   "metadata": {},
   "outputs": [
    {
     "data": {
      "application/vnd.jupyter.widget-view+json": {
       "model_id": "2f91ea4bd6c747aba3e3cb0adbf3f8a7",
       "version_major": 2,
       "version_minor": 0
      },
      "text/plain": [
       "Total:   0%|          | 0/787200 [00:00<?, ?it/s]"
      ]
     },
     "metadata": {},
     "output_type": "display_data"
    },
    {
     "name": "stderr",
     "output_type": "stream",
     "text": [
      "/opt/jupyterhub/anaconda/lib/python3.9/site-packages/sklearn/metrics/_classification.py:1308: UndefinedMetricWarning: Precision is ill-defined and being set to 0.0 in labels with no predicted samples. Use `zero_division` parameter to control this behavior.\n",
      "  _warn_prf(average, modifier, msg_start, len(result))\n"
     ]
    },
    {
     "name": "stdout",
     "output_type": "stream",
     "text": [
      "  1 7.34s trainloss=0.69359 validloss=0.69301 accuracy_score=0.51854 \n"
     ]
    },
    {
     "name": "stderr",
     "output_type": "stream",
     "text": [
      "/opt/jupyterhub/anaconda/lib/python3.9/site-packages/sklearn/metrics/_classification.py:1308: UndefinedMetricWarning: Precision is ill-defined and being set to 0.0 in labels with no predicted samples. Use `zero_division` parameter to control this behavior.\n",
      "  _warn_prf(average, modifier, msg_start, len(result))\n"
     ]
    },
    {
     "name": "stdout",
     "output_type": "stream",
     "text": [
      "  2 6.73s trainloss=0.69342 validloss=0.69304 accuracy_score=0.51854 \n"
     ]
    },
    {
     "name": "stderr",
     "output_type": "stream",
     "text": [
      "/opt/jupyterhub/anaconda/lib/python3.9/site-packages/sklearn/metrics/_classification.py:1308: UndefinedMetricWarning: Precision is ill-defined and being set to 0.0 in labels with no predicted samples. Use `zero_division` parameter to control this behavior.\n",
      "  _warn_prf(average, modifier, msg_start, len(result))\n"
     ]
    },
    {
     "name": "stdout",
     "output_type": "stream",
     "text": [
      "  3 6.75s trainloss=0.69333 validloss=0.69395 accuracy_score=0.48146 \n"
     ]
    },
    {
     "name": "stderr",
     "output_type": "stream",
     "text": [
      "/opt/jupyterhub/anaconda/lib/python3.9/site-packages/sklearn/metrics/_classification.py:1308: UndefinedMetricWarning: Precision is ill-defined and being set to 0.0 in labels with no predicted samples. Use `zero_division` parameter to control this behavior.\n",
      "  _warn_prf(average, modifier, msg_start, len(result))\n"
     ]
    },
    {
     "name": "stdout",
     "output_type": "stream",
     "text": [
      "  4 6.77s trainloss=0.69343 validloss=0.69424 accuracy_score=0.48146 \n"
     ]
    },
    {
     "name": "stderr",
     "output_type": "stream",
     "text": [
      "/opt/jupyterhub/anaconda/lib/python3.9/site-packages/sklearn/metrics/_classification.py:1308: UndefinedMetricWarning: Precision is ill-defined and being set to 0.0 in labels with no predicted samples. Use `zero_division` parameter to control this behavior.\n",
      "  _warn_prf(average, modifier, msg_start, len(result))\n"
     ]
    },
    {
     "name": "stdout",
     "output_type": "stream",
     "text": [
      "  5 7.36s trainloss=0.69344 validloss=0.69454 accuracy_score=0.48146 \n"
     ]
    },
    {
     "name": "stderr",
     "output_type": "stream",
     "text": [
      "/opt/jupyterhub/anaconda/lib/python3.9/site-packages/sklearn/metrics/_classification.py:1308: UndefinedMetricWarning: Precision is ill-defined and being set to 0.0 in labels with no predicted samples. Use `zero_division` parameter to control this behavior.\n",
      "  _warn_prf(average, modifier, msg_start, len(result))\n"
     ]
    },
    {
     "name": "stdout",
     "output_type": "stream",
     "text": [
      "  6 7.76s trainloss=0.69335 validloss=0.69293 accuracy_score=0.51854 \n"
     ]
    },
    {
     "name": "stderr",
     "output_type": "stream",
     "text": [
      "/opt/jupyterhub/anaconda/lib/python3.9/site-packages/sklearn/metrics/_classification.py:1308: UndefinedMetricWarning: Precision is ill-defined and being set to 0.0 in labels with no predicted samples. Use `zero_division` parameter to control this behavior.\n",
      "  _warn_prf(average, modifier, msg_start, len(result))\n"
     ]
    },
    {
     "name": "stdout",
     "output_type": "stream",
     "text": [
      "  7 7.73s trainloss=0.69358 validloss=0.69533 accuracy_score=0.48146 \n"
     ]
    },
    {
     "name": "stderr",
     "output_type": "stream",
     "text": [
      "/opt/jupyterhub/anaconda/lib/python3.9/site-packages/sklearn/metrics/_classification.py:1308: UndefinedMetricWarning: Precision is ill-defined and being set to 0.0 in labels with no predicted samples. Use `zero_division` parameter to control this behavior.\n",
      "  _warn_prf(average, modifier, msg_start, len(result))\n"
     ]
    },
    {
     "name": "stdout",
     "output_type": "stream",
     "text": [
      "  8 7.75s trainloss=0.69344 validloss=0.69339 accuracy_score=0.48146 \n"
     ]
    },
    {
     "name": "stderr",
     "output_type": "stream",
     "text": [
      "/opt/jupyterhub/anaconda/lib/python3.9/site-packages/sklearn/metrics/_classification.py:1308: UndefinedMetricWarning: Precision is ill-defined and being set to 0.0 in labels with no predicted samples. Use `zero_division` parameter to control this behavior.\n",
      "  _warn_prf(average, modifier, msg_start, len(result))\n"
     ]
    },
    {
     "name": "stdout",
     "output_type": "stream",
     "text": [
      "  9 7.77s trainloss=0.69328 validloss=0.69359 accuracy_score=0.48146 \n"
     ]
    },
    {
     "name": "stderr",
     "output_type": "stream",
     "text": [
      "/opt/jupyterhub/anaconda/lib/python3.9/site-packages/sklearn/metrics/_classification.py:1308: UndefinedMetricWarning: Precision is ill-defined and being set to 0.0 in labels with no predicted samples. Use `zero_division` parameter to control this behavior.\n",
      "  _warn_prf(average, modifier, msg_start, len(result))\n"
     ]
    },
    {
     "name": "stdout",
     "output_type": "stream",
     "text": [
      " 10 7.77s trainloss=0.69380 validloss=0.69330 accuracy_score=0.48146 \n"
     ]
    },
    {
     "name": "stderr",
     "output_type": "stream",
     "text": [
      "/opt/jupyterhub/anaconda/lib/python3.9/site-packages/sklearn/metrics/_classification.py:1308: UndefinedMetricWarning: Precision is ill-defined and being set to 0.0 in labels with no predicted samples. Use `zero_division` parameter to control this behavior.\n",
      "  _warn_prf(average, modifier, msg_start, len(result))\n"
     ]
    },
    {
     "name": "stdout",
     "output_type": "stream",
     "text": [
      " 11 7.87s trainloss=0.69312 validloss=0.69575 accuracy_score=0.48146 \n"
     ]
    },
    {
     "name": "stderr",
     "output_type": "stream",
     "text": [
      "/opt/jupyterhub/anaconda/lib/python3.9/site-packages/sklearn/metrics/_classification.py:1308: UndefinedMetricWarning: Precision is ill-defined and being set to 0.0 in labels with no predicted samples. Use `zero_division` parameter to control this behavior.\n",
      "  _warn_prf(average, modifier, msg_start, len(result))\n"
     ]
    },
    {
     "name": "stdout",
     "output_type": "stream",
     "text": [
      " 12 7.83s trainloss=0.69342 validloss=0.69547 accuracy_score=0.48146 \n"
     ]
    },
    {
     "name": "stderr",
     "output_type": "stream",
     "text": [
      "/opt/jupyterhub/anaconda/lib/python3.9/site-packages/sklearn/metrics/_classification.py:1308: UndefinedMetricWarning: Precision is ill-defined and being set to 0.0 in labels with no predicted samples. Use `zero_division` parameter to control this behavior.\n",
      "  _warn_prf(average, modifier, msg_start, len(result))\n"
     ]
    },
    {
     "name": "stdout",
     "output_type": "stream",
     "text": [
      " 13 7.82s trainloss=0.69405 validloss=0.69434 accuracy_score=0.48146 \n"
     ]
    },
    {
     "name": "stderr",
     "output_type": "stream",
     "text": [
      "/opt/jupyterhub/anaconda/lib/python3.9/site-packages/sklearn/metrics/_classification.py:1308: UndefinedMetricWarning: Precision is ill-defined and being set to 0.0 in labels with no predicted samples. Use `zero_division` parameter to control this behavior.\n",
      "  _warn_prf(average, modifier, msg_start, len(result))\n"
     ]
    },
    {
     "name": "stdout",
     "output_type": "stream",
     "text": [
      " 14 7.82s trainloss=0.69357 validloss=0.69501 accuracy_score=0.48146 \n"
     ]
    },
    {
     "name": "stderr",
     "output_type": "stream",
     "text": [
      "/opt/jupyterhub/anaconda/lib/python3.9/site-packages/sklearn/metrics/_classification.py:1308: UndefinedMetricWarning: Precision is ill-defined and being set to 0.0 in labels with no predicted samples. Use `zero_division` parameter to control this behavior.\n",
      "  _warn_prf(average, modifier, msg_start, len(result))\n"
     ]
    },
    {
     "name": "stdout",
     "output_type": "stream",
     "text": [
      " 15 7.96s trainloss=0.69348 validloss=0.69541 accuracy_score=0.48146 \n"
     ]
    },
    {
     "name": "stderr",
     "output_type": "stream",
     "text": [
      "/opt/jupyterhub/anaconda/lib/python3.9/site-packages/sklearn/metrics/_classification.py:1308: UndefinedMetricWarning: Precision is ill-defined and being set to 0.0 in labels with no predicted samples. Use `zero_division` parameter to control this behavior.\n",
      "  _warn_prf(average, modifier, msg_start, len(result))\n"
     ]
    },
    {
     "name": "stdout",
     "output_type": "stream",
     "text": [
      " 16 7.97s trainloss=0.69359 validloss=0.69394 accuracy_score=0.48146 \n"
     ]
    },
    {
     "name": "stderr",
     "output_type": "stream",
     "text": [
      "/opt/jupyterhub/anaconda/lib/python3.9/site-packages/sklearn/metrics/_classification.py:1308: UndefinedMetricWarning: Precision is ill-defined and being set to 0.0 in labels with no predicted samples. Use `zero_division` parameter to control this behavior.\n",
      "  _warn_prf(average, modifier, msg_start, len(result))\n"
     ]
    },
    {
     "name": "stdout",
     "output_type": "stream",
     "text": [
      " 17 8.02s trainloss=0.69359 validloss=0.69486 accuracy_score=0.48146 \n"
     ]
    },
    {
     "name": "stderr",
     "output_type": "stream",
     "text": [
      "/opt/jupyterhub/anaconda/lib/python3.9/site-packages/sklearn/metrics/_classification.py:1308: UndefinedMetricWarning: Precision is ill-defined and being set to 0.0 in labels with no predicted samples. Use `zero_division` parameter to control this behavior.\n",
      "  _warn_prf(average, modifier, msg_start, len(result))\n"
     ]
    },
    {
     "name": "stdout",
     "output_type": "stream",
     "text": [
      " 18 7.35s trainloss=0.69336 validloss=0.69433 accuracy_score=0.48146 \n"
     ]
    },
    {
     "name": "stderr",
     "output_type": "stream",
     "text": [
      "/opt/jupyterhub/anaconda/lib/python3.9/site-packages/sklearn/metrics/_classification.py:1308: UndefinedMetricWarning: Precision is ill-defined and being set to 0.0 in labels with no predicted samples. Use `zero_division` parameter to control this behavior.\n",
      "  _warn_prf(average, modifier, msg_start, len(result))\n"
     ]
    },
    {
     "name": "stdout",
     "output_type": "stream",
     "text": [
      " 19 6.85s trainloss=0.69342 validloss=0.69500 accuracy_score=0.48146 \n"
     ]
    },
    {
     "name": "stderr",
     "output_type": "stream",
     "text": [
      "/opt/jupyterhub/anaconda/lib/python3.9/site-packages/sklearn/metrics/_classification.py:1308: UndefinedMetricWarning: Precision is ill-defined and being set to 0.0 in labels with no predicted samples. Use `zero_division` parameter to control this behavior.\n",
      "  _warn_prf(average, modifier, msg_start, len(result))\n"
     ]
    },
    {
     "name": "stdout",
     "output_type": "stream",
     "text": [
      " 20 6.85s trainloss=0.69327 validloss=0.69409 accuracy_score=0.48146 \n"
     ]
    },
    {
     "name": "stderr",
     "output_type": "stream",
     "text": [
      "/opt/jupyterhub/anaconda/lib/python3.9/site-packages/sklearn/metrics/_classification.py:1308: UndefinedMetricWarning: Precision is ill-defined and being set to 0.0 in labels with no predicted samples. Use `zero_division` parameter to control this behavior.\n",
      "  _warn_prf(average, modifier, msg_start, len(result))\n"
     ]
    },
    {
     "name": "stdout",
     "output_type": "stream",
     "text": [
      " 21 6.87s trainloss=0.69349 validloss=0.69269 accuracy_score=0.51854 \n"
     ]
    },
    {
     "name": "stderr",
     "output_type": "stream",
     "text": [
      "/opt/jupyterhub/anaconda/lib/python3.9/site-packages/sklearn/metrics/_classification.py:1308: UndefinedMetricWarning: Precision is ill-defined and being set to 0.0 in labels with no predicted samples. Use `zero_division` parameter to control this behavior.\n",
      "  _warn_prf(average, modifier, msg_start, len(result))\n"
     ]
    },
    {
     "name": "stdout",
     "output_type": "stream",
     "text": [
      " 22 7.18s trainloss=0.69313 validloss=0.69772 accuracy_score=0.48146 \n"
     ]
    },
    {
     "name": "stderr",
     "output_type": "stream",
     "text": [
      "/opt/jupyterhub/anaconda/lib/python3.9/site-packages/sklearn/metrics/_classification.py:1308: UndefinedMetricWarning: Precision is ill-defined and being set to 0.0 in labels with no predicted samples. Use `zero_division` parameter to control this behavior.\n",
      "  _warn_prf(average, modifier, msg_start, len(result))\n"
     ]
    },
    {
     "name": "stdout",
     "output_type": "stream",
     "text": [
      " 23 6.96s trainloss=0.69325 validloss=0.69470 accuracy_score=0.48146 \n"
     ]
    },
    {
     "name": "stderr",
     "output_type": "stream",
     "text": [
      "/opt/jupyterhub/anaconda/lib/python3.9/site-packages/sklearn/metrics/_classification.py:1308: UndefinedMetricWarning: Precision is ill-defined and being set to 0.0 in labels with no predicted samples. Use `zero_division` parameter to control this behavior.\n",
      "  _warn_prf(average, modifier, msg_start, len(result))\n"
     ]
    },
    {
     "name": "stdout",
     "output_type": "stream",
     "text": [
      " 24 6.89s trainloss=0.69344 validloss=0.69309 accuracy_score=0.51854 \n"
     ]
    },
    {
     "name": "stderr",
     "output_type": "stream",
     "text": [
      "/opt/jupyterhub/anaconda/lib/python3.9/site-packages/sklearn/metrics/_classification.py:1308: UndefinedMetricWarning: Precision is ill-defined and being set to 0.0 in labels with no predicted samples. Use `zero_division` parameter to control this behavior.\n",
      "  _warn_prf(average, modifier, msg_start, len(result))\n"
     ]
    },
    {
     "name": "stdout",
     "output_type": "stream",
     "text": [
      " 25 6.89s trainloss=0.69349 validloss=0.69370 accuracy_score=0.48146 \n"
     ]
    },
    {
     "name": "stderr",
     "output_type": "stream",
     "text": [
      "/opt/jupyterhub/anaconda/lib/python3.9/site-packages/sklearn/metrics/_classification.py:1308: UndefinedMetricWarning: Precision is ill-defined and being set to 0.0 in labels with no predicted samples. Use `zero_division` parameter to control this behavior.\n",
      "  _warn_prf(average, modifier, msg_start, len(result))\n"
     ]
    },
    {
     "name": "stdout",
     "output_type": "stream",
     "text": [
      " 26 7.29s trainloss=0.69349 validloss=0.69388 accuracy_score=0.48146 \n"
     ]
    },
    {
     "name": "stderr",
     "output_type": "stream",
     "text": [
      "/opt/jupyterhub/anaconda/lib/python3.9/site-packages/sklearn/metrics/_classification.py:1308: UndefinedMetricWarning: Precision is ill-defined and being set to 0.0 in labels with no predicted samples. Use `zero_division` parameter to control this behavior.\n",
      "  _warn_prf(average, modifier, msg_start, len(result))\n"
     ]
    },
    {
     "name": "stdout",
     "output_type": "stream",
     "text": [
      " 27 6.85s trainloss=0.69345 validloss=0.69313 accuracy_score=0.51854 \n"
     ]
    },
    {
     "name": "stderr",
     "output_type": "stream",
     "text": [
      "/opt/jupyterhub/anaconda/lib/python3.9/site-packages/sklearn/metrics/_classification.py:1308: UndefinedMetricWarning: Precision is ill-defined and being set to 0.0 in labels with no predicted samples. Use `zero_division` parameter to control this behavior.\n",
      "  _warn_prf(average, modifier, msg_start, len(result))\n"
     ]
    },
    {
     "name": "stdout",
     "output_type": "stream",
     "text": [
      " 28 6.75s trainloss=0.69352 validloss=0.69458 accuracy_score=0.48146 \n"
     ]
    },
    {
     "name": "stderr",
     "output_type": "stream",
     "text": [
      "/opt/jupyterhub/anaconda/lib/python3.9/site-packages/sklearn/metrics/_classification.py:1308: UndefinedMetricWarning: Precision is ill-defined and being set to 0.0 in labels with no predicted samples. Use `zero_division` parameter to control this behavior.\n",
      "  _warn_prf(average, modifier, msg_start, len(result))\n"
     ]
    },
    {
     "name": "stdout",
     "output_type": "stream",
     "text": [
      " 29 7.10s trainloss=0.69345 validloss=0.69425 accuracy_score=0.48146 \n"
     ]
    },
    {
     "name": "stderr",
     "output_type": "stream",
     "text": [
      "/opt/jupyterhub/anaconda/lib/python3.9/site-packages/sklearn/metrics/_classification.py:1308: UndefinedMetricWarning: Precision is ill-defined and being set to 0.0 in labels with no predicted samples. Use `zero_division` parameter to control this behavior.\n",
      "  _warn_prf(average, modifier, msg_start, len(result))\n"
     ]
    },
    {
     "name": "stdout",
     "output_type": "stream",
     "text": [
      " 30 6.81s trainloss=0.69339 validloss=0.69500 accuracy_score=0.48146 \n"
     ]
    },
    {
     "name": "stderr",
     "output_type": "stream",
     "text": [
      "/opt/jupyterhub/anaconda/lib/python3.9/site-packages/sklearn/metrics/_classification.py:1308: UndefinedMetricWarning: Precision is ill-defined and being set to 0.0 in labels with no predicted samples. Use `zero_division` parameter to control this behavior.\n",
      "  _warn_prf(average, modifier, msg_start, len(result))\n"
     ]
    },
    {
     "name": "stdout",
     "output_type": "stream",
     "text": [
      " 31 6.86s trainloss=0.69328 validloss=0.69277 accuracy_score=0.51854 \n"
     ]
    },
    {
     "name": "stderr",
     "output_type": "stream",
     "text": [
      "/opt/jupyterhub/anaconda/lib/python3.9/site-packages/sklearn/metrics/_classification.py:1308: UndefinedMetricWarning: Precision is ill-defined and being set to 0.0 in labels with no predicted samples. Use `zero_division` parameter to control this behavior.\n",
      "  _warn_prf(average, modifier, msg_start, len(result))\n"
     ]
    },
    {
     "name": "stdout",
     "output_type": "stream",
     "text": [
      " 32 8.02s trainloss=0.69341 validloss=0.69397 accuracy_score=0.48146 \n"
     ]
    },
    {
     "name": "stderr",
     "output_type": "stream",
     "text": [
      "/opt/jupyterhub/anaconda/lib/python3.9/site-packages/sklearn/metrics/_classification.py:1308: UndefinedMetricWarning: Precision is ill-defined and being set to 0.0 in labels with no predicted samples. Use `zero_division` parameter to control this behavior.\n",
      "  _warn_prf(average, modifier, msg_start, len(result))\n"
     ]
    },
    {
     "name": "stdout",
     "output_type": "stream",
     "text": [
      " 33 7.98s trainloss=0.69359 validloss=0.69421 accuracy_score=0.48146 \n"
     ]
    },
    {
     "name": "stderr",
     "output_type": "stream",
     "text": [
      "/opt/jupyterhub/anaconda/lib/python3.9/site-packages/sklearn/metrics/_classification.py:1308: UndefinedMetricWarning: Precision is ill-defined and being set to 0.0 in labels with no predicted samples. Use `zero_division` parameter to control this behavior.\n",
      "  _warn_prf(average, modifier, msg_start, len(result))\n"
     ]
    },
    {
     "name": "stdout",
     "output_type": "stream",
     "text": [
      " 34 8.00s trainloss=0.69339 validloss=0.69357 accuracy_score=0.48146 \n"
     ]
    },
    {
     "name": "stderr",
     "output_type": "stream",
     "text": [
      "/opt/jupyterhub/anaconda/lib/python3.9/site-packages/sklearn/metrics/_classification.py:1308: UndefinedMetricWarning: Precision is ill-defined and being set to 0.0 in labels with no predicted samples. Use `zero_division` parameter to control this behavior.\n",
      "  _warn_prf(average, modifier, msg_start, len(result))\n"
     ]
    },
    {
     "name": "stdout",
     "output_type": "stream",
     "text": [
      " 35 8.42s trainloss=0.69325 validloss=0.69730 accuracy_score=0.48146 \n"
     ]
    },
    {
     "name": "stderr",
     "output_type": "stream",
     "text": [
      "/opt/jupyterhub/anaconda/lib/python3.9/site-packages/sklearn/metrics/_classification.py:1308: UndefinedMetricWarning: Precision is ill-defined and being set to 0.0 in labels with no predicted samples. Use `zero_division` parameter to control this behavior.\n",
      "  _warn_prf(average, modifier, msg_start, len(result))\n"
     ]
    },
    {
     "name": "stdout",
     "output_type": "stream",
     "text": [
      " 36 8.13s trainloss=0.69343 validloss=0.69500 accuracy_score=0.48146 \n"
     ]
    },
    {
     "name": "stderr",
     "output_type": "stream",
     "text": [
      "/opt/jupyterhub/anaconda/lib/python3.9/site-packages/sklearn/metrics/_classification.py:1308: UndefinedMetricWarning: Precision is ill-defined and being set to 0.0 in labels with no predicted samples. Use `zero_division` parameter to control this behavior.\n",
      "  _warn_prf(average, modifier, msg_start, len(result))\n"
     ]
    },
    {
     "name": "stdout",
     "output_type": "stream",
     "text": [
      " 37 8.27s trainloss=0.69360 validloss=0.69380 accuracy_score=0.48146 \n"
     ]
    },
    {
     "name": "stderr",
     "output_type": "stream",
     "text": [
      "/opt/jupyterhub/anaconda/lib/python3.9/site-packages/sklearn/metrics/_classification.py:1308: UndefinedMetricWarning: Precision is ill-defined and being set to 0.0 in labels with no predicted samples. Use `zero_division` parameter to control this behavior.\n",
      "  _warn_prf(average, modifier, msg_start, len(result))\n"
     ]
    },
    {
     "name": "stdout",
     "output_type": "stream",
     "text": [
      " 38 8.37s trainloss=0.69333 validloss=0.69300 accuracy_score=0.51854 \n"
     ]
    },
    {
     "name": "stderr",
     "output_type": "stream",
     "text": [
      "/opt/jupyterhub/anaconda/lib/python3.9/site-packages/sklearn/metrics/_classification.py:1308: UndefinedMetricWarning: Precision is ill-defined and being set to 0.0 in labels with no predicted samples. Use `zero_division` parameter to control this behavior.\n",
      "  _warn_prf(average, modifier, msg_start, len(result))\n"
     ]
    },
    {
     "name": "stdout",
     "output_type": "stream",
     "text": [
      " 39 8.17s trainloss=0.69361 validloss=0.69411 accuracy_score=0.48146 \n"
     ]
    },
    {
     "name": "stderr",
     "output_type": "stream",
     "text": [
      "/opt/jupyterhub/anaconda/lib/python3.9/site-packages/sklearn/metrics/_classification.py:1308: UndefinedMetricWarning: Precision is ill-defined and being set to 0.0 in labels with no predicted samples. Use `zero_division` parameter to control this behavior.\n",
      "  _warn_prf(average, modifier, msg_start, len(result))\n"
     ]
    },
    {
     "name": "stdout",
     "output_type": "stream",
     "text": [
      " 40 8.38s trainloss=0.69324 validloss=0.69288 accuracy_score=0.51854 \n"
     ]
    },
    {
     "name": "stderr",
     "output_type": "stream",
     "text": [
      "/opt/jupyterhub/anaconda/lib/python3.9/site-packages/sklearn/metrics/_classification.py:1308: UndefinedMetricWarning: Precision is ill-defined and being set to 0.0 in labels with no predicted samples. Use `zero_division` parameter to control this behavior.\n",
      "  _warn_prf(average, modifier, msg_start, len(result))\n"
     ]
    },
    {
     "name": "stdout",
     "output_type": "stream",
     "text": [
      " 41 8.37s trainloss=0.69336 validloss=0.69315 accuracy_score=0.48146 \n"
     ]
    },
    {
     "name": "stderr",
     "output_type": "stream",
     "text": [
      "/opt/jupyterhub/anaconda/lib/python3.9/site-packages/sklearn/metrics/_classification.py:1308: UndefinedMetricWarning: Precision is ill-defined and being set to 0.0 in labels with no predicted samples. Use `zero_division` parameter to control this behavior.\n",
      "  _warn_prf(average, modifier, msg_start, len(result))\n"
     ]
    },
    {
     "name": "stdout",
     "output_type": "stream",
     "text": [
      " 42 8.02s trainloss=0.69333 validloss=0.69327 accuracy_score=0.48146 \n"
     ]
    },
    {
     "name": "stderr",
     "output_type": "stream",
     "text": [
      "/opt/jupyterhub/anaconda/lib/python3.9/site-packages/sklearn/metrics/_classification.py:1308: UndefinedMetricWarning: Precision is ill-defined and being set to 0.0 in labels with no predicted samples. Use `zero_division` parameter to control this behavior.\n",
      "  _warn_prf(average, modifier, msg_start, len(result))\n"
     ]
    },
    {
     "name": "stdout",
     "output_type": "stream",
     "text": [
      " 43 8.21s trainloss=0.69356 validloss=0.69279 accuracy_score=0.51854 \n"
     ]
    },
    {
     "name": "stderr",
     "output_type": "stream",
     "text": [
      "/opt/jupyterhub/anaconda/lib/python3.9/site-packages/sklearn/metrics/_classification.py:1308: UndefinedMetricWarning: Precision is ill-defined and being set to 0.0 in labels with no predicted samples. Use `zero_division` parameter to control this behavior.\n",
      "  _warn_prf(average, modifier, msg_start, len(result))\n"
     ]
    },
    {
     "name": "stdout",
     "output_type": "stream",
     "text": [
      " 44 8.00s trainloss=0.69346 validloss=0.69257 accuracy_score=0.51854 \n"
     ]
    },
    {
     "name": "stderr",
     "output_type": "stream",
     "text": [
      "/opt/jupyterhub/anaconda/lib/python3.9/site-packages/sklearn/metrics/_classification.py:1308: UndefinedMetricWarning: Precision is ill-defined and being set to 0.0 in labels with no predicted samples. Use `zero_division` parameter to control this behavior.\n",
      "  _warn_prf(average, modifier, msg_start, len(result))\n"
     ]
    },
    {
     "name": "stdout",
     "output_type": "stream",
     "text": [
      " 45 8.50s trainloss=0.69334 validloss=0.69339 accuracy_score=0.48146 \n"
     ]
    },
    {
     "name": "stderr",
     "output_type": "stream",
     "text": [
      "/opt/jupyterhub/anaconda/lib/python3.9/site-packages/sklearn/metrics/_classification.py:1308: UndefinedMetricWarning: Precision is ill-defined and being set to 0.0 in labels with no predicted samples. Use `zero_division` parameter to control this behavior.\n",
      "  _warn_prf(average, modifier, msg_start, len(result))\n"
     ]
    },
    {
     "name": "stdout",
     "output_type": "stream",
     "text": [
      " 46 8.44s trainloss=0.69324 validloss=0.69538 accuracy_score=0.48146 \n"
     ]
    },
    {
     "name": "stderr",
     "output_type": "stream",
     "text": [
      "/opt/jupyterhub/anaconda/lib/python3.9/site-packages/sklearn/metrics/_classification.py:1308: UndefinedMetricWarning: Precision is ill-defined and being set to 0.0 in labels with no predicted samples. Use `zero_division` parameter to control this behavior.\n",
      "  _warn_prf(average, modifier, msg_start, len(result))\n"
     ]
    },
    {
     "name": "stdout",
     "output_type": "stream",
     "text": [
      " 47 8.41s trainloss=0.69370 validloss=0.69281 accuracy_score=0.51854 \n"
     ]
    },
    {
     "name": "stderr",
     "output_type": "stream",
     "text": [
      "/opt/jupyterhub/anaconda/lib/python3.9/site-packages/sklearn/metrics/_classification.py:1308: UndefinedMetricWarning: Precision is ill-defined and being set to 0.0 in labels with no predicted samples. Use `zero_division` parameter to control this behavior.\n",
      "  _warn_prf(average, modifier, msg_start, len(result))\n"
     ]
    },
    {
     "name": "stdout",
     "output_type": "stream",
     "text": [
      " 48 8.46s trainloss=0.69351 validloss=0.69294 accuracy_score=0.51854 \n"
     ]
    },
    {
     "name": "stderr",
     "output_type": "stream",
     "text": [
      "/opt/jupyterhub/anaconda/lib/python3.9/site-packages/sklearn/metrics/_classification.py:1308: UndefinedMetricWarning: Precision is ill-defined and being set to 0.0 in labels with no predicted samples. Use `zero_division` parameter to control this behavior.\n",
      "  _warn_prf(average, modifier, msg_start, len(result))\n"
     ]
    },
    {
     "name": "stdout",
     "output_type": "stream",
     "text": [
      " 49 8.42s trainloss=0.69340 validloss=0.69303 accuracy_score=0.51854 \n"
     ]
    },
    {
     "name": "stderr",
     "output_type": "stream",
     "text": [
      "/opt/jupyterhub/anaconda/lib/python3.9/site-packages/sklearn/metrics/_classification.py:1308: UndefinedMetricWarning: Precision is ill-defined and being set to 0.0 in labels with no predicted samples. Use `zero_division` parameter to control this behavior.\n",
      "  _warn_prf(average, modifier, msg_start, len(result))\n"
     ]
    },
    {
     "name": "stdout",
     "output_type": "stream",
     "text": [
      " 50 7.96s trainloss=0.69341 validloss=0.69342 accuracy_score=0.48146 \n"
     ]
    },
    {
     "name": "stderr",
     "output_type": "stream",
     "text": [
      "/opt/jupyterhub/anaconda/lib/python3.9/site-packages/sklearn/metrics/_classification.py:1308: UndefinedMetricWarning: Precision is ill-defined and being set to 0.0 in labels with no predicted samples. Use `zero_division` parameter to control this behavior.\n",
      "  _warn_prf(average, modifier, msg_start, len(result))\n"
     ]
    },
    {
     "name": "stdout",
     "output_type": "stream",
     "text": [
      " 51 8.04s trainloss=0.69367 validloss=0.69487 accuracy_score=0.48146 \n"
     ]
    },
    {
     "name": "stderr",
     "output_type": "stream",
     "text": [
      "/opt/jupyterhub/anaconda/lib/python3.9/site-packages/sklearn/metrics/_classification.py:1308: UndefinedMetricWarning: Precision is ill-defined and being set to 0.0 in labels with no predicted samples. Use `zero_division` parameter to control this behavior.\n",
      "  _warn_prf(average, modifier, msg_start, len(result))\n"
     ]
    },
    {
     "name": "stdout",
     "output_type": "stream",
     "text": [
      " 52 8.15s trainloss=0.69356 validloss=0.69460 accuracy_score=0.48146 \n"
     ]
    },
    {
     "name": "stderr",
     "output_type": "stream",
     "text": [
      "/opt/jupyterhub/anaconda/lib/python3.9/site-packages/sklearn/metrics/_classification.py:1308: UndefinedMetricWarning: Precision is ill-defined and being set to 0.0 in labels with no predicted samples. Use `zero_division` parameter to control this behavior.\n",
      "  _warn_prf(average, modifier, msg_start, len(result))\n"
     ]
    },
    {
     "name": "stdout",
     "output_type": "stream",
     "text": [
      " 53 8.18s trainloss=0.69352 validloss=0.69455 accuracy_score=0.48146 \n"
     ]
    },
    {
     "name": "stderr",
     "output_type": "stream",
     "text": [
      "/opt/jupyterhub/anaconda/lib/python3.9/site-packages/sklearn/metrics/_classification.py:1308: UndefinedMetricWarning: Precision is ill-defined and being set to 0.0 in labels with no predicted samples. Use `zero_division` parameter to control this behavior.\n",
      "  _warn_prf(average, modifier, msg_start, len(result))\n"
     ]
    },
    {
     "name": "stdout",
     "output_type": "stream",
     "text": [
      " 54 8.17s trainloss=0.69360 validloss=0.69243 accuracy_score=0.51854 \n"
     ]
    },
    {
     "name": "stderr",
     "output_type": "stream",
     "text": [
      "/opt/jupyterhub/anaconda/lib/python3.9/site-packages/sklearn/metrics/_classification.py:1308: UndefinedMetricWarning: Precision is ill-defined and being set to 0.0 in labels with no predicted samples. Use `zero_division` parameter to control this behavior.\n",
      "  _warn_prf(average, modifier, msg_start, len(result))\n"
     ]
    },
    {
     "name": "stdout",
     "output_type": "stream",
     "text": [
      " 55 7.53s trainloss=0.69370 validloss=0.69371 accuracy_score=0.48146 \n"
     ]
    },
    {
     "name": "stderr",
     "output_type": "stream",
     "text": [
      "/opt/jupyterhub/anaconda/lib/python3.9/site-packages/sklearn/metrics/_classification.py:1308: UndefinedMetricWarning: Precision is ill-defined and being set to 0.0 in labels with no predicted samples. Use `zero_division` parameter to control this behavior.\n",
      "  _warn_prf(average, modifier, msg_start, len(result))\n"
     ]
    },
    {
     "name": "stdout",
     "output_type": "stream",
     "text": [
      " 56 7.23s trainloss=0.69338 validloss=0.69258 accuracy_score=0.51854 \n"
     ]
    },
    {
     "name": "stderr",
     "output_type": "stream",
     "text": [
      "/opt/jupyterhub/anaconda/lib/python3.9/site-packages/sklearn/metrics/_classification.py:1308: UndefinedMetricWarning: Precision is ill-defined and being set to 0.0 in labels with no predicted samples. Use `zero_division` parameter to control this behavior.\n",
      "  _warn_prf(average, modifier, msg_start, len(result))\n"
     ]
    },
    {
     "name": "stdout",
     "output_type": "stream",
     "text": [
      " 57 6.95s trainloss=0.69344 validloss=0.69305 accuracy_score=0.51854 \n"
     ]
    },
    {
     "name": "stderr",
     "output_type": "stream",
     "text": [
      "/opt/jupyterhub/anaconda/lib/python3.9/site-packages/sklearn/metrics/_classification.py:1308: UndefinedMetricWarning: Precision is ill-defined and being set to 0.0 in labels with no predicted samples. Use `zero_division` parameter to control this behavior.\n",
      "  _warn_prf(average, modifier, msg_start, len(result))\n"
     ]
    },
    {
     "name": "stdout",
     "output_type": "stream",
     "text": [
      " 58 7.34s trainloss=0.69324 validloss=0.69417 accuracy_score=0.48146 \n"
     ]
    },
    {
     "name": "stderr",
     "output_type": "stream",
     "text": [
      "/opt/jupyterhub/anaconda/lib/python3.9/site-packages/sklearn/metrics/_classification.py:1308: UndefinedMetricWarning: Precision is ill-defined and being set to 0.0 in labels with no predicted samples. Use `zero_division` parameter to control this behavior.\n",
      "  _warn_prf(average, modifier, msg_start, len(result))\n"
     ]
    },
    {
     "name": "stdout",
     "output_type": "stream",
     "text": [
      " 59 7.12s trainloss=0.69366 validloss=0.69350 accuracy_score=0.48146 \n"
     ]
    },
    {
     "name": "stderr",
     "output_type": "stream",
     "text": [
      "/opt/jupyterhub/anaconda/lib/python3.9/site-packages/sklearn/metrics/_classification.py:1308: UndefinedMetricWarning: Precision is ill-defined and being set to 0.0 in labels with no predicted samples. Use `zero_division` parameter to control this behavior.\n",
      "  _warn_prf(average, modifier, msg_start, len(result))\n"
     ]
    },
    {
     "name": "stdout",
     "output_type": "stream",
     "text": [
      " 60 7.13s trainloss=0.69363 validloss=0.69422 accuracy_score=0.48146 \n"
     ]
    },
    {
     "name": "stderr",
     "output_type": "stream",
     "text": [
      "/opt/jupyterhub/anaconda/lib/python3.9/site-packages/sklearn/metrics/_classification.py:1308: UndefinedMetricWarning: Precision is ill-defined and being set to 0.0 in labels with no predicted samples. Use `zero_division` parameter to control this behavior.\n",
      "  _warn_prf(average, modifier, msg_start, len(result))\n"
     ]
    },
    {
     "name": "stdout",
     "output_type": "stream",
     "text": [
      " 61 8.03s trainloss=0.69375 validloss=0.69393 accuracy_score=0.48146 \n"
     ]
    },
    {
     "name": "stderr",
     "output_type": "stream",
     "text": [
      "/opt/jupyterhub/anaconda/lib/python3.9/site-packages/sklearn/metrics/_classification.py:1308: UndefinedMetricWarning: Precision is ill-defined and being set to 0.0 in labels with no predicted samples. Use `zero_division` parameter to control this behavior.\n",
      "  _warn_prf(average, modifier, msg_start, len(result))\n"
     ]
    },
    {
     "name": "stdout",
     "output_type": "stream",
     "text": [
      " 62 8.78s trainloss=0.69331 validloss=0.69423 accuracy_score=0.48146 \n"
     ]
    },
    {
     "name": "stderr",
     "output_type": "stream",
     "text": [
      "/opt/jupyterhub/anaconda/lib/python3.9/site-packages/sklearn/metrics/_classification.py:1308: UndefinedMetricWarning: Precision is ill-defined and being set to 0.0 in labels with no predicted samples. Use `zero_division` parameter to control this behavior.\n",
      "  _warn_prf(average, modifier, msg_start, len(result))\n"
     ]
    },
    {
     "name": "stdout",
     "output_type": "stream",
     "text": [
      " 63 9.06s trainloss=0.69334 validloss=0.69365 accuracy_score=0.48146 \n"
     ]
    },
    {
     "name": "stderr",
     "output_type": "stream",
     "text": [
      "/opt/jupyterhub/anaconda/lib/python3.9/site-packages/sklearn/metrics/_classification.py:1308: UndefinedMetricWarning: Precision is ill-defined and being set to 0.0 in labels with no predicted samples. Use `zero_division` parameter to control this behavior.\n",
      "  _warn_prf(average, modifier, msg_start, len(result))\n"
     ]
    },
    {
     "name": "stdout",
     "output_type": "stream",
     "text": [
      " 64 9.11s trainloss=0.69357 validloss=0.69379 accuracy_score=0.48146 \n"
     ]
    },
    {
     "name": "stderr",
     "output_type": "stream",
     "text": [
      "/opt/jupyterhub/anaconda/lib/python3.9/site-packages/sklearn/metrics/_classification.py:1308: UndefinedMetricWarning: Precision is ill-defined and being set to 0.0 in labels with no predicted samples. Use `zero_division` parameter to control this behavior.\n",
      "  _warn_prf(average, modifier, msg_start, len(result))\n"
     ]
    },
    {
     "name": "stdout",
     "output_type": "stream",
     "text": [
      " 65 8.81s trainloss=0.69354 validloss=0.69498 accuracy_score=0.48146 \n"
     ]
    },
    {
     "name": "stderr",
     "output_type": "stream",
     "text": [
      "/opt/jupyterhub/anaconda/lib/python3.9/site-packages/sklearn/metrics/_classification.py:1308: UndefinedMetricWarning: Precision is ill-defined and being set to 0.0 in labels with no predicted samples. Use `zero_division` parameter to control this behavior.\n",
      "  _warn_prf(average, modifier, msg_start, len(result))\n"
     ]
    },
    {
     "name": "stdout",
     "output_type": "stream",
     "text": [
      " 66 9.08s trainloss=0.69338 validloss=0.69264 accuracy_score=0.51854 \n"
     ]
    },
    {
     "name": "stderr",
     "output_type": "stream",
     "text": [
      "/opt/jupyterhub/anaconda/lib/python3.9/site-packages/sklearn/metrics/_classification.py:1308: UndefinedMetricWarning: Precision is ill-defined and being set to 0.0 in labels with no predicted samples. Use `zero_division` parameter to control this behavior.\n",
      "  _warn_prf(average, modifier, msg_start, len(result))\n"
     ]
    },
    {
     "name": "stdout",
     "output_type": "stream",
     "text": [
      " 67 9.05s trainloss=0.69331 validloss=0.69442 accuracy_score=0.48146 \n"
     ]
    },
    {
     "name": "stderr",
     "output_type": "stream",
     "text": [
      "/opt/jupyterhub/anaconda/lib/python3.9/site-packages/sklearn/metrics/_classification.py:1308: UndefinedMetricWarning: Precision is ill-defined and being set to 0.0 in labels with no predicted samples. Use `zero_division` parameter to control this behavior.\n",
      "  _warn_prf(average, modifier, msg_start, len(result))\n"
     ]
    },
    {
     "name": "stdout",
     "output_type": "stream",
     "text": [
      " 68 8.94s trainloss=0.69359 validloss=0.69301 accuracy_score=0.51854 \n"
     ]
    },
    {
     "name": "stderr",
     "output_type": "stream",
     "text": [
      "/opt/jupyterhub/anaconda/lib/python3.9/site-packages/sklearn/metrics/_classification.py:1308: UndefinedMetricWarning: Precision is ill-defined and being set to 0.0 in labels with no predicted samples. Use `zero_division` parameter to control this behavior.\n",
      "  _warn_prf(average, modifier, msg_start, len(result))\n"
     ]
    },
    {
     "name": "stdout",
     "output_type": "stream",
     "text": [
      " 69 8.92s trainloss=0.69352 validloss=0.69316 accuracy_score=0.48146 \n"
     ]
    },
    {
     "name": "stderr",
     "output_type": "stream",
     "text": [
      "/opt/jupyterhub/anaconda/lib/python3.9/site-packages/sklearn/metrics/_classification.py:1308: UndefinedMetricWarning: Precision is ill-defined and being set to 0.0 in labels with no predicted samples. Use `zero_division` parameter to control this behavior.\n",
      "  _warn_prf(average, modifier, msg_start, len(result))\n"
     ]
    },
    {
     "name": "stdout",
     "output_type": "stream",
     "text": [
      " 70 8.92s trainloss=0.69340 validloss=0.69278 accuracy_score=0.51854 \n"
     ]
    },
    {
     "name": "stderr",
     "output_type": "stream",
     "text": [
      "/opt/jupyterhub/anaconda/lib/python3.9/site-packages/sklearn/metrics/_classification.py:1308: UndefinedMetricWarning: Precision is ill-defined and being set to 0.0 in labels with no predicted samples. Use `zero_division` parameter to control this behavior.\n",
      "  _warn_prf(average, modifier, msg_start, len(result))\n"
     ]
    },
    {
     "name": "stdout",
     "output_type": "stream",
     "text": [
      " 71 8.83s trainloss=0.69338 validloss=0.69426 accuracy_score=0.48146 \n"
     ]
    },
    {
     "name": "stderr",
     "output_type": "stream",
     "text": [
      "/opt/jupyterhub/anaconda/lib/python3.9/site-packages/sklearn/metrics/_classification.py:1308: UndefinedMetricWarning: Precision is ill-defined and being set to 0.0 in labels with no predicted samples. Use `zero_division` parameter to control this behavior.\n",
      "  _warn_prf(average, modifier, msg_start, len(result))\n"
     ]
    },
    {
     "name": "stdout",
     "output_type": "stream",
     "text": [
      " 72 8.57s trainloss=0.69320 validloss=0.69285 accuracy_score=0.51854 \n"
     ]
    },
    {
     "name": "stderr",
     "output_type": "stream",
     "text": [
      "/opt/jupyterhub/anaconda/lib/python3.9/site-packages/sklearn/metrics/_classification.py:1308: UndefinedMetricWarning: Precision is ill-defined and being set to 0.0 in labels with no predicted samples. Use `zero_division` parameter to control this behavior.\n",
      "  _warn_prf(average, modifier, msg_start, len(result))\n"
     ]
    },
    {
     "name": "stdout",
     "output_type": "stream",
     "text": [
      " 73 8.16s trainloss=0.69324 validloss=0.69388 accuracy_score=0.48146 \n"
     ]
    },
    {
     "name": "stderr",
     "output_type": "stream",
     "text": [
      "/opt/jupyterhub/anaconda/lib/python3.9/site-packages/sklearn/metrics/_classification.py:1308: UndefinedMetricWarning: Precision is ill-defined and being set to 0.0 in labels with no predicted samples. Use `zero_division` parameter to control this behavior.\n",
      "  _warn_prf(average, modifier, msg_start, len(result))\n"
     ]
    },
    {
     "name": "stdout",
     "output_type": "stream",
     "text": [
      " 74 7.99s trainloss=0.69365 validloss=0.69423 accuracy_score=0.48146 \n"
     ]
    },
    {
     "name": "stderr",
     "output_type": "stream",
     "text": [
      "/opt/jupyterhub/anaconda/lib/python3.9/site-packages/sklearn/metrics/_classification.py:1308: UndefinedMetricWarning: Precision is ill-defined and being set to 0.0 in labels with no predicted samples. Use `zero_division` parameter to control this behavior.\n",
      "  _warn_prf(average, modifier, msg_start, len(result))\n"
     ]
    },
    {
     "name": "stdout",
     "output_type": "stream",
     "text": [
      " 75 8.11s trainloss=0.69347 validloss=0.69358 accuracy_score=0.48146 \n"
     ]
    },
    {
     "name": "stderr",
     "output_type": "stream",
     "text": [
      "/opt/jupyterhub/anaconda/lib/python3.9/site-packages/sklearn/metrics/_classification.py:1308: UndefinedMetricWarning: Precision is ill-defined and being set to 0.0 in labels with no predicted samples. Use `zero_division` parameter to control this behavior.\n",
      "  _warn_prf(average, modifier, msg_start, len(result))\n"
     ]
    },
    {
     "name": "stdout",
     "output_type": "stream",
     "text": [
      " 76 7.55s trainloss=0.69317 validloss=0.69268 accuracy_score=0.51854 \n"
     ]
    },
    {
     "name": "stderr",
     "output_type": "stream",
     "text": [
      "/opt/jupyterhub/anaconda/lib/python3.9/site-packages/sklearn/metrics/_classification.py:1308: UndefinedMetricWarning: Precision is ill-defined and being set to 0.0 in labels with no predicted samples. Use `zero_division` parameter to control this behavior.\n",
      "  _warn_prf(average, modifier, msg_start, len(result))\n"
     ]
    },
    {
     "name": "stdout",
     "output_type": "stream",
     "text": [
      " 77 7.08s trainloss=0.69359 validloss=0.69291 accuracy_score=0.51854 \n"
     ]
    },
    {
     "name": "stderr",
     "output_type": "stream",
     "text": [
      "/opt/jupyterhub/anaconda/lib/python3.9/site-packages/sklearn/metrics/_classification.py:1308: UndefinedMetricWarning: Precision is ill-defined and being set to 0.0 in labels with no predicted samples. Use `zero_division` parameter to control this behavior.\n",
      "  _warn_prf(average, modifier, msg_start, len(result))\n"
     ]
    },
    {
     "name": "stdout",
     "output_type": "stream",
     "text": [
      " 78 7.26s trainloss=0.69318 validloss=0.69708 accuracy_score=0.48146 \n"
     ]
    },
    {
     "name": "stderr",
     "output_type": "stream",
     "text": [
      "/opt/jupyterhub/anaconda/lib/python3.9/site-packages/sklearn/metrics/_classification.py:1308: UndefinedMetricWarning: Precision is ill-defined and being set to 0.0 in labels with no predicted samples. Use `zero_division` parameter to control this behavior.\n",
      "  _warn_prf(average, modifier, msg_start, len(result))\n"
     ]
    },
    {
     "name": "stdout",
     "output_type": "stream",
     "text": [
      " 79 6.95s trainloss=0.69331 validloss=0.69378 accuracy_score=0.48146 \n"
     ]
    },
    {
     "name": "stderr",
     "output_type": "stream",
     "text": [
      "/opt/jupyterhub/anaconda/lib/python3.9/site-packages/sklearn/metrics/_classification.py:1308: UndefinedMetricWarning: Precision is ill-defined and being set to 0.0 in labels with no predicted samples. Use `zero_division` parameter to control this behavior.\n",
      "  _warn_prf(average, modifier, msg_start, len(result))\n"
     ]
    },
    {
     "name": "stdout",
     "output_type": "stream",
     "text": [
      " 80 7.18s trainloss=0.69303 validloss=0.69812 accuracy_score=0.48146 \n"
     ]
    },
    {
     "name": "stderr",
     "output_type": "stream",
     "text": [
      "/opt/jupyterhub/anaconda/lib/python3.9/site-packages/sklearn/metrics/_classification.py:1308: UndefinedMetricWarning: Precision is ill-defined and being set to 0.0 in labels with no predicted samples. Use `zero_division` parameter to control this behavior.\n",
      "  _warn_prf(average, modifier, msg_start, len(result))\n"
     ]
    },
    {
     "name": "stdout",
     "output_type": "stream",
     "text": [
      " 81 7.10s trainloss=0.69365 validloss=0.69346 accuracy_score=0.48146 \n"
     ]
    },
    {
     "name": "stderr",
     "output_type": "stream",
     "text": [
      "/opt/jupyterhub/anaconda/lib/python3.9/site-packages/sklearn/metrics/_classification.py:1308: UndefinedMetricWarning: Precision is ill-defined and being set to 0.0 in labels with no predicted samples. Use `zero_division` parameter to control this behavior.\n",
      "  _warn_prf(average, modifier, msg_start, len(result))\n"
     ]
    },
    {
     "name": "stdout",
     "output_type": "stream",
     "text": [
      " 82 7.44s trainloss=0.69355 validloss=0.69446 accuracy_score=0.48146 \n"
     ]
    },
    {
     "name": "stderr",
     "output_type": "stream",
     "text": [
      "/opt/jupyterhub/anaconda/lib/python3.9/site-packages/sklearn/metrics/_classification.py:1308: UndefinedMetricWarning: Precision is ill-defined and being set to 0.0 in labels with no predicted samples. Use `zero_division` parameter to control this behavior.\n",
      "  _warn_prf(average, modifier, msg_start, len(result))\n"
     ]
    },
    {
     "name": "stdout",
     "output_type": "stream",
     "text": [
      " 83 7.33s trainloss=0.69325 validloss=0.69251 accuracy_score=0.51854 \n"
     ]
    },
    {
     "name": "stderr",
     "output_type": "stream",
     "text": [
      "/opt/jupyterhub/anaconda/lib/python3.9/site-packages/sklearn/metrics/_classification.py:1308: UndefinedMetricWarning: Precision is ill-defined and being set to 0.0 in labels with no predicted samples. Use `zero_division` parameter to control this behavior.\n",
      "  _warn_prf(average, modifier, msg_start, len(result))\n"
     ]
    },
    {
     "name": "stdout",
     "output_type": "stream",
     "text": [
      " 84 6.99s trainloss=0.69342 validloss=0.69360 accuracy_score=0.48146 \n"
     ]
    },
    {
     "name": "stderr",
     "output_type": "stream",
     "text": [
      "/opt/jupyterhub/anaconda/lib/python3.9/site-packages/sklearn/metrics/_classification.py:1308: UndefinedMetricWarning: Precision is ill-defined and being set to 0.0 in labels with no predicted samples. Use `zero_division` parameter to control this behavior.\n",
      "  _warn_prf(average, modifier, msg_start, len(result))\n"
     ]
    },
    {
     "name": "stdout",
     "output_type": "stream",
     "text": [
      " 85 7.36s trainloss=0.69342 validloss=0.69476 accuracy_score=0.48146 \n"
     ]
    },
    {
     "name": "stderr",
     "output_type": "stream",
     "text": [
      "/opt/jupyterhub/anaconda/lib/python3.9/site-packages/sklearn/metrics/_classification.py:1308: UndefinedMetricWarning: Precision is ill-defined and being set to 0.0 in labels with no predicted samples. Use `zero_division` parameter to control this behavior.\n",
      "  _warn_prf(average, modifier, msg_start, len(result))\n"
     ]
    },
    {
     "name": "stdout",
     "output_type": "stream",
     "text": [
      " 86 7.46s trainloss=0.69342 validloss=0.69314 accuracy_score=0.51854 \n"
     ]
    },
    {
     "name": "stderr",
     "output_type": "stream",
     "text": [
      "/opt/jupyterhub/anaconda/lib/python3.9/site-packages/sklearn/metrics/_classification.py:1308: UndefinedMetricWarning: Precision is ill-defined and being set to 0.0 in labels with no predicted samples. Use `zero_division` parameter to control this behavior.\n",
      "  _warn_prf(average, modifier, msg_start, len(result))\n"
     ]
    },
    {
     "name": "stdout",
     "output_type": "stream",
     "text": [
      " 87 6.92s trainloss=0.69329 validloss=0.69587 accuracy_score=0.48146 \n"
     ]
    },
    {
     "name": "stderr",
     "output_type": "stream",
     "text": [
      "/opt/jupyterhub/anaconda/lib/python3.9/site-packages/sklearn/metrics/_classification.py:1308: UndefinedMetricWarning: Precision is ill-defined and being set to 0.0 in labels with no predicted samples. Use `zero_division` parameter to control this behavior.\n",
      "  _warn_prf(average, modifier, msg_start, len(result))\n"
     ]
    },
    {
     "name": "stdout",
     "output_type": "stream",
     "text": [
      " 88 6.91s trainloss=0.69329 validloss=0.69477 accuracy_score=0.48146 \n"
     ]
    },
    {
     "name": "stderr",
     "output_type": "stream",
     "text": [
      "/opt/jupyterhub/anaconda/lib/python3.9/site-packages/sklearn/metrics/_classification.py:1308: UndefinedMetricWarning: Precision is ill-defined and being set to 0.0 in labels with no predicted samples. Use `zero_division` parameter to control this behavior.\n",
      "  _warn_prf(average, modifier, msg_start, len(result))\n"
     ]
    },
    {
     "name": "stdout",
     "output_type": "stream",
     "text": [
      " 89 7.43s trainloss=0.69368 validloss=0.69300 accuracy_score=0.51854 \n"
     ]
    },
    {
     "name": "stderr",
     "output_type": "stream",
     "text": [
      "/opt/jupyterhub/anaconda/lib/python3.9/site-packages/sklearn/metrics/_classification.py:1308: UndefinedMetricWarning: Precision is ill-defined and being set to 0.0 in labels with no predicted samples. Use `zero_division` parameter to control this behavior.\n",
      "  _warn_prf(average, modifier, msg_start, len(result))\n"
     ]
    },
    {
     "name": "stdout",
     "output_type": "stream",
     "text": [
      " 90 6.97s trainloss=0.69345 validloss=0.69413 accuracy_score=0.48146 \n"
     ]
    },
    {
     "name": "stderr",
     "output_type": "stream",
     "text": [
      "/opt/jupyterhub/anaconda/lib/python3.9/site-packages/sklearn/metrics/_classification.py:1308: UndefinedMetricWarning: Precision is ill-defined and being set to 0.0 in labels with no predicted samples. Use `zero_division` parameter to control this behavior.\n",
      "  _warn_prf(average, modifier, msg_start, len(result))\n"
     ]
    },
    {
     "name": "stdout",
     "output_type": "stream",
     "text": [
      " 91 6.98s trainloss=0.69329 validloss=0.69306 accuracy_score=0.51854 \n"
     ]
    },
    {
     "name": "stderr",
     "output_type": "stream",
     "text": [
      "/opt/jupyterhub/anaconda/lib/python3.9/site-packages/sklearn/metrics/_classification.py:1308: UndefinedMetricWarning: Precision is ill-defined and being set to 0.0 in labels with no predicted samples. Use `zero_division` parameter to control this behavior.\n",
      "  _warn_prf(average, modifier, msg_start, len(result))\n"
     ]
    },
    {
     "name": "stdout",
     "output_type": "stream",
     "text": [
      " 92 7.29s trainloss=0.69362 validloss=0.69505 accuracy_score=0.48146 \n"
     ]
    },
    {
     "name": "stderr",
     "output_type": "stream",
     "text": [
      "/opt/jupyterhub/anaconda/lib/python3.9/site-packages/sklearn/metrics/_classification.py:1308: UndefinedMetricWarning: Precision is ill-defined and being set to 0.0 in labels with no predicted samples. Use `zero_division` parameter to control this behavior.\n",
      "  _warn_prf(average, modifier, msg_start, len(result))\n"
     ]
    },
    {
     "name": "stdout",
     "output_type": "stream",
     "text": [
      " 93 6.96s trainloss=0.69349 validloss=0.69317 accuracy_score=0.48146 \n"
     ]
    },
    {
     "name": "stderr",
     "output_type": "stream",
     "text": [
      "/opt/jupyterhub/anaconda/lib/python3.9/site-packages/sklearn/metrics/_classification.py:1308: UndefinedMetricWarning: Precision is ill-defined and being set to 0.0 in labels with no predicted samples. Use `zero_division` parameter to control this behavior.\n",
      "  _warn_prf(average, modifier, msg_start, len(result))\n"
     ]
    },
    {
     "name": "stdout",
     "output_type": "stream",
     "text": [
      " 94 7.33s trainloss=0.69333 validloss=0.69376 accuracy_score=0.48146 \n"
     ]
    },
    {
     "name": "stderr",
     "output_type": "stream",
     "text": [
      "/opt/jupyterhub/anaconda/lib/python3.9/site-packages/sklearn/metrics/_classification.py:1308: UndefinedMetricWarning: Precision is ill-defined and being set to 0.0 in labels with no predicted samples. Use `zero_division` parameter to control this behavior.\n",
      "  _warn_prf(average, modifier, msg_start, len(result))\n"
     ]
    },
    {
     "name": "stdout",
     "output_type": "stream",
     "text": [
      " 95 8.15s trainloss=0.69367 validloss=0.69385 accuracy_score=0.48146 \n"
     ]
    },
    {
     "name": "stderr",
     "output_type": "stream",
     "text": [
      "/opt/jupyterhub/anaconda/lib/python3.9/site-packages/sklearn/metrics/_classification.py:1308: UndefinedMetricWarning: Precision is ill-defined and being set to 0.0 in labels with no predicted samples. Use `zero_division` parameter to control this behavior.\n",
      "  _warn_prf(average, modifier, msg_start, len(result))\n"
     ]
    },
    {
     "name": "stdout",
     "output_type": "stream",
     "text": [
      " 96 8.37s trainloss=0.69344 validloss=0.69352 accuracy_score=0.48146 \n"
     ]
    },
    {
     "name": "stderr",
     "output_type": "stream",
     "text": [
      "/opt/jupyterhub/anaconda/lib/python3.9/site-packages/sklearn/metrics/_classification.py:1308: UndefinedMetricWarning: Precision is ill-defined and being set to 0.0 in labels with no predicted samples. Use `zero_division` parameter to control this behavior.\n",
      "  _warn_prf(average, modifier, msg_start, len(result))\n"
     ]
    },
    {
     "name": "stdout",
     "output_type": "stream",
     "text": [
      " 97 8.16s trainloss=0.69356 validloss=0.69283 accuracy_score=0.51854 \n"
     ]
    },
    {
     "name": "stderr",
     "output_type": "stream",
     "text": [
      "/opt/jupyterhub/anaconda/lib/python3.9/site-packages/sklearn/metrics/_classification.py:1308: UndefinedMetricWarning: Precision is ill-defined and being set to 0.0 in labels with no predicted samples. Use `zero_division` parameter to control this behavior.\n",
      "  _warn_prf(average, modifier, msg_start, len(result))\n"
     ]
    },
    {
     "name": "stdout",
     "output_type": "stream",
     "text": [
      " 98 8.18s trainloss=0.69333 validloss=0.69368 accuracy_score=0.48146 \n"
     ]
    },
    {
     "name": "stderr",
     "output_type": "stream",
     "text": [
      "/opt/jupyterhub/anaconda/lib/python3.9/site-packages/sklearn/metrics/_classification.py:1308: UndefinedMetricWarning: Precision is ill-defined and being set to 0.0 in labels with no predicted samples. Use `zero_division` parameter to control this behavior.\n",
      "  _warn_prf(average, modifier, msg_start, len(result))\n"
     ]
    },
    {
     "name": "stdout",
     "output_type": "stream",
     "text": [
      " 99 8.16s trainloss=0.69338 validloss=0.69306 accuracy_score=0.51854 \n",
      "100 8.36s trainloss=0.69308 validloss=0.69600 accuracy_score=0.48146 \n"
     ]
    },
    {
     "name": "stderr",
     "output_type": "stream",
     "text": [
      "/opt/jupyterhub/anaconda/lib/python3.9/site-packages/sklearn/metrics/_classification.py:1308: UndefinedMetricWarning: Precision is ill-defined and being set to 0.0 in labels with no predicted samples. Use `zero_division` parameter to control this behavior.\n",
      "  _warn_prf(average, modifier, msg_start, len(result))\n"
     ]
    }
   ],
   "source": [
    "rn34_trainer.train(100, lr=0.01, weight_decay=0.5)"
   ]
  },
  {
   "cell_type": "code",
   "execution_count": 94,
   "id": "eb0cc074",
   "metadata": {},
   "outputs": [
    {
     "data": {
      "image/png": "[encoded data removed]",
      "text/plain": [
       "<Figure size 432x288 with 1 Axes>"
      ]
     },
     "metadata": {
      "needs_background": "light"
     },
     "output_type": "display_data"
    }
   ],
   "source": [
    "rn34_trainer.learning_curve()"
   ]
  },
  {
   "cell_type": "code",
   "execution_count": 95,
   "id": "13861ed3",
   "metadata": {},
   "outputs": [
    {
     "data": {
      "image/png": "[encoded data removed]",
      "text/plain": [
       "<Figure size 432x288 with 1 Axes>"
      ]
     },
     "metadata": {
      "needs_background": "light"
     },
     "output_type": "display_data"
    }
   ],
   "source": [
    "rn34_trainer.learning_curve(y='accuracy_score')"
   ]
  },
  {
   "cell_type": "code",
   "execution_count": 96,
   "id": "23f2b940",
   "metadata": {},
   "outputs": [
    {
     "ename": "AttributeError",
     "evalue": "'trainer' object has no attribute 'evalutator'",
     "output_type": "error",
     "traceback": [
      "\u001b[0;31m---------------------------------------------------------------------------\u001b[0m",
      "\u001b[0;31mAttributeError\u001b[0m                            Traceback (most recent call last)",
      "\u001b[0;32m/tmp/ipykernel_22139/3873914540.py\u001b[0m in \u001b[0;36m<module>\u001b[0;34m\u001b[0m\n\u001b[0;32m----> 1\u001b[0;31m \u001b[0msort_epochs\u001b[0m\u001b[0;34m(\u001b[0m\u001b[0mrn34_trainer\u001b[0m\u001b[0;34m.\u001b[0m\u001b[0mevalutator\u001b[0m\u001b[0;34m,\u001b[0m \u001b[0;34m'accuracy_score'\u001b[0m\u001b[0;34m)\u001b[0m\u001b[0;34m\u001b[0m\u001b[0;34m\u001b[0m\u001b[0m\n\u001b[0m",
      "\u001b[0;31mAttributeError\u001b[0m: 'trainer' object has no attribute 'evalutator'"
     ]
    }
   ],
   "source": [
    "sort_epochs(rn34_trainer.evalutator, 'accuracy_score')"
   ]
  },
  {
   "cell_type": "markdown",
   "id": "5c3eda39",
   "metadata": {},
   "source": [
    "# resnet 152"
   ]
  },
  {
   "cell_type": "code",
   "execution_count": 14,
   "id": "48c21ace",
   "metadata": {},
   "outputs": [],
   "source": [
    "rn_152 = models.resnet152(pretrained=True)\n",
    "\n",
    "rn_152.conv1 = nn.Conv2d(1, rn_152.conv1.out_channels,\n",
    "              kernel_size=rn_152.conv1.kernel_size[0], \n",
    "                      stride=rn_152.conv1.stride[0], \n",
    "                      padding=rn_152.conv1.padding[0])\n",
    "num_ftrs = rn_152.fc.in_features\n",
    "rn_152.fc = nn.Linear(num_ftrs, 2)\n",
    "\n",
    "rn_152.post_forward = post_forward\n",
    "\n",
    "rn_152_trainer = trainer(rn_152, nn.CrossEntropyLoss(weight=normedWeights), train_loader, valid_loader, test_loader, metrics=metrics, gpu=True)"
   ]
  },
  {
   "cell_type": "code",
   "execution_count": 15,
   "id": "99e03af5",
   "metadata": {},
   "outputs": [
    {
     "data": {
      "application/vnd.jupyter.widget-view+json": {
       "model_id": "",
       "version_major": 2,
       "version_minor": 0
      },
      "text/plain": [
       "Total:   0%|          | 0/787200 [00:00<?, ?it/s]"
      ]
     },
     "metadata": {},
     "output_type": "display_data"
    },
    {
     "name": "stdout",
     "output_type": "stream",
     "text": [
      "  1 32.87s trainloss=0.82558 validloss=0.64676 accuracy_score=0.64514 \n",
      "  2 19.83s trainloss=0.68258 validloss=0.75033 accuracy_score=0.50192 \n",
      "  3 19.85s trainloss=0.68339 validloss=0.83227 accuracy_score=0.49425 \n"
     ]
    },
    {
     "name": "stderr",
     "output_type": "stream",
     "text": [
      "/opt/jupyterhub/anaconda/lib/python3.9/site-packages/sklearn/metrics/_classification.py:1308: UndefinedMetricWarning: Precision is ill-defined and being set to 0.0 in labels with no predicted samples. Use `zero_division` parameter to control this behavior.\n",
      "  _warn_prf(average, modifier, msg_start, len(result))\n"
     ]
    },
    {
     "name": "stdout",
     "output_type": "stream",
     "text": [
      "  4 19.87s trainloss=0.66810 validloss=0.69792 accuracy_score=0.50895 \n",
      "  5 20.26s trainloss=0.66411 validloss=0.65010 accuracy_score=0.66176 \n",
      "  6 19.96s trainloss=0.68524 validloss=0.69349 accuracy_score=0.54795 \n",
      "  7 19.96s trainloss=0.66257 validloss=9.94881 accuracy_score=0.56586 \n"
     ]
    },
    {
     "name": "stderr",
     "output_type": "stream",
     "text": [
      "/opt/jupyterhub/anaconda/lib/python3.9/site-packages/sklearn/metrics/_classification.py:1308: UndefinedMetricWarning: Precision is ill-defined and being set to 0.0 in labels with no predicted samples. Use `zero_division` parameter to control this behavior.\n",
      "  _warn_prf(average, modifier, msg_start, len(result))\n"
     ]
    },
    {
     "name": "stdout",
     "output_type": "stream",
     "text": [
      "  8 19.94s trainloss=0.65146 validloss=1.02319 accuracy_score=0.50895 \n",
      "  9 19.96s trainloss=0.67656 validloss=0.69667 accuracy_score=0.50767 \n",
      " 10 19.95s trainloss=0.65344 validloss=0.73030 accuracy_score=0.50192 \n"
     ]
    },
    {
     "name": "stderr",
     "output_type": "stream",
     "text": [
      "/opt/jupyterhub/anaconda/lib/python3.9/site-packages/sklearn/metrics/_classification.py:1308: UndefinedMetricWarning: Precision is ill-defined and being set to 0.0 in labels with no predicted samples. Use `zero_division` parameter to control this behavior.\n",
      "  _warn_prf(average, modifier, msg_start, len(result))\n"
     ]
    },
    {
     "name": "stdout",
     "output_type": "stream",
     "text": [
      " 11 19.95s trainloss=0.65697 validloss=1.19256 accuracy_score=0.50895 \n"
     ]
    },
    {
     "name": "stderr",
     "output_type": "stream",
     "text": [
      "/opt/jupyterhub/anaconda/lib/python3.9/site-packages/sklearn/metrics/_classification.py:1308: UndefinedMetricWarning: Precision is ill-defined and being set to 0.0 in labels with no predicted samples. Use `zero_division` parameter to control this behavior.\n",
      "  _warn_prf(average, modifier, msg_start, len(result))\n"
     ]
    },
    {
     "name": "stdout",
     "output_type": "stream",
     "text": [
      " 12 19.96s trainloss=0.64661 validloss=0.75619 accuracy_score=0.50895 \n"
     ]
    },
    {
     "name": "stderr",
     "output_type": "stream",
     "text": [
      "/opt/jupyterhub/anaconda/lib/python3.9/site-packages/sklearn/metrics/_classification.py:1308: UndefinedMetricWarning: Precision is ill-defined and being set to 0.0 in labels with no predicted samples. Use `zero_division` parameter to control this behavior.\n",
      "  _warn_prf(average, modifier, msg_start, len(result))\n"
     ]
    },
    {
     "name": "stdout",
     "output_type": "stream",
     "text": [
      " 13 19.95s trainloss=0.67125 validloss=0.88008 accuracy_score=0.50895 \n",
      " 14 20.06s trainloss=0.66404 validloss=0.73226 accuracy_score=0.45908 \n"
     ]
    },
    {
     "name": "stderr",
     "output_type": "stream",
     "text": [
      "/opt/jupyterhub/anaconda/lib/python3.9/site-packages/sklearn/metrics/_classification.py:1308: UndefinedMetricWarning: Precision is ill-defined and being set to 0.0 in labels with no predicted samples. Use `zero_division` parameter to control this behavior.\n",
      "  _warn_prf(average, modifier, msg_start, len(result))\n"
     ]
    },
    {
     "name": "stdout",
     "output_type": "stream",
     "text": [
      " 15 19.93s trainloss=0.66361 validloss=1.30245 accuracy_score=0.50895 \n",
      " 16 19.91s trainloss=0.64139 validloss=1.26279 accuracy_score=0.55051 \n"
     ]
    },
    {
     "name": "stderr",
     "output_type": "stream",
     "text": [
      "/opt/jupyterhub/anaconda/lib/python3.9/site-packages/sklearn/metrics/_classification.py:1308: UndefinedMetricWarning: Precision is ill-defined and being set to 0.0 in labels with no predicted samples. Use `zero_division` parameter to control this behavior.\n",
      "  _warn_prf(average, modifier, msg_start, len(result))\n"
     ]
    },
    {
     "name": "stdout",
     "output_type": "stream",
     "text": [
      " 17 19.91s trainloss=0.67648 validloss=0.69572 accuracy_score=0.49105 \n"
     ]
    },
    {
     "name": "stderr",
     "output_type": "stream",
     "text": [
      "/opt/jupyterhub/anaconda/lib/python3.9/site-packages/sklearn/metrics/_classification.py:1308: UndefinedMetricWarning: Precision is ill-defined and being set to 0.0 in labels with no predicted samples. Use `zero_division` parameter to control this behavior.\n",
      "  _warn_prf(average, modifier, msg_start, len(result))\n"
     ]
    },
    {
     "name": "stdout",
     "output_type": "stream",
     "text": [
      " 18 19.92s trainloss=0.67547 validloss=0.68819 accuracy_score=0.50895 \n",
      " 19 19.93s trainloss=0.69051 validloss=0.75630 accuracy_score=0.50256 \n"
     ]
    },
    {
     "name": "stderr",
     "output_type": "stream",
     "text": [
      "/opt/jupyterhub/anaconda/lib/python3.9/site-packages/sklearn/metrics/_classification.py:1308: UndefinedMetricWarning: Precision is ill-defined and being set to 0.0 in labels with no predicted samples. Use `zero_division` parameter to control this behavior.\n",
      "  _warn_prf(average, modifier, msg_start, len(result))\n"
     ]
    },
    {
     "name": "stdout",
     "output_type": "stream",
     "text": [
      " 20 19.94s trainloss=0.68734 validloss=0.72441 accuracy_score=0.50895 \n",
      " 21 19.94s trainloss=0.67158 validloss=0.69023 accuracy_score=0.49744 \n",
      " 22 19.93s trainloss=0.68137 validloss=0.71733 accuracy_score=0.57609 \n"
     ]
    },
    {
     "name": "stderr",
     "output_type": "stream",
     "text": [
      "/opt/jupyterhub/anaconda/lib/python3.9/site-packages/sklearn/metrics/_classification.py:1308: UndefinedMetricWarning: Precision is ill-defined and being set to 0.0 in labels with no predicted samples. Use `zero_division` parameter to control this behavior.\n",
      "  _warn_prf(average, modifier, msg_start, len(result))\n"
     ]
    },
    {
     "name": "stdout",
     "output_type": "stream",
     "text": [
      " 23 19.92s trainloss=0.66185 validloss=0.68270 accuracy_score=0.50895 \n"
     ]
    },
    {
     "name": "stderr",
     "output_type": "stream",
     "text": [
      "/opt/jupyterhub/anaconda/lib/python3.9/site-packages/sklearn/metrics/_classification.py:1308: UndefinedMetricWarning: Precision is ill-defined and being set to 0.0 in labels with no predicted samples. Use `zero_division` parameter to control this behavior.\n",
      "  _warn_prf(average, modifier, msg_start, len(result))\n"
     ]
    },
    {
     "name": "stdout",
     "output_type": "stream",
     "text": [
      " 24 19.92s trainloss=0.64586 validloss=0.67386 accuracy_score=0.50895 \n"
     ]
    },
    {
     "name": "stderr",
     "output_type": "stream",
     "text": [
      "/opt/jupyterhub/anaconda/lib/python3.9/site-packages/sklearn/metrics/_classification.py:1308: UndefinedMetricWarning: Precision is ill-defined and being set to 0.0 in labels with no predicted samples. Use `zero_division` parameter to control this behavior.\n",
      "  _warn_prf(average, modifier, msg_start, len(result))\n"
     ]
    },
    {
     "name": "stdout",
     "output_type": "stream",
     "text": [
      " 25 19.89s trainloss=0.67345 validloss=0.69824 accuracy_score=0.50895 \n"
     ]
    },
    {
     "name": "stderr",
     "output_type": "stream",
     "text": [
      "/opt/jupyterhub/anaconda/lib/python3.9/site-packages/sklearn/metrics/_classification.py:1308: UndefinedMetricWarning: Precision is ill-defined and being set to 0.0 in labels with no predicted samples. Use `zero_division` parameter to control this behavior.\n",
      "  _warn_prf(average, modifier, msg_start, len(result))\n"
     ]
    },
    {
     "name": "stdout",
     "output_type": "stream",
     "text": [
      " 26 19.89s trainloss=0.64526 validloss=0.71589 accuracy_score=0.50895 \n"
     ]
    },
    {
     "name": "stderr",
     "output_type": "stream",
     "text": [
      "/opt/jupyterhub/anaconda/lib/python3.9/site-packages/sklearn/metrics/_classification.py:1308: UndefinedMetricWarning: Precision is ill-defined and being set to 0.0 in labels with no predicted samples. Use `zero_division` parameter to control this behavior.\n",
      "  _warn_prf(average, modifier, msg_start, len(result))\n"
     ]
    },
    {
     "name": "stdout",
     "output_type": "stream",
     "text": [
      " 27 19.98s trainloss=0.65030 validloss=0.70247 accuracy_score=0.50895 \n",
      " 28 19.86s trainloss=0.63318 validloss=49.31572 accuracy_score=0.59719 \n"
     ]
    },
    {
     "name": "stderr",
     "output_type": "stream",
     "text": [
      "/opt/jupyterhub/anaconda/lib/python3.9/site-packages/sklearn/metrics/_classification.py:1308: UndefinedMetricWarning: Precision is ill-defined and being set to 0.0 in labels with no predicted samples. Use `zero_division` parameter to control this behavior.\n",
      "  _warn_prf(average, modifier, msg_start, len(result))\n"
     ]
    },
    {
     "name": "stdout",
     "output_type": "stream",
     "text": [
      " 29 19.88s trainloss=0.63299 validloss=1.13499 accuracy_score=0.50895 \n",
      " 30 19.88s trainloss=0.66579 validloss=1.17009 accuracy_score=0.50767 \n"
     ]
    },
    {
     "name": "stderr",
     "output_type": "stream",
     "text": [
      "/opt/jupyterhub/anaconda/lib/python3.9/site-packages/sklearn/metrics/_classification.py:1308: UndefinedMetricWarning: Precision is ill-defined and being set to 0.0 in labels with no predicted samples. Use `zero_division` parameter to control this behavior.\n",
      "  _warn_prf(average, modifier, msg_start, len(result))\n"
     ]
    },
    {
     "name": "stdout",
     "output_type": "stream",
     "text": [
      " 31 19.87s trainloss=0.67119 validloss=0.76903 accuracy_score=0.50895 \n",
      " 32 19.88s trainloss=0.66078 validloss=0.63913 accuracy_score=0.65026 \n"
     ]
    },
    {
     "name": "stderr",
     "output_type": "stream",
     "text": [
      "/opt/jupyterhub/anaconda/lib/python3.9/site-packages/sklearn/metrics/_classification.py:1308: UndefinedMetricWarning: Precision is ill-defined and being set to 0.0 in labels with no predicted samples. Use `zero_division` parameter to control this behavior.\n",
      "  _warn_prf(average, modifier, msg_start, len(result))\n"
     ]
    },
    {
     "name": "stdout",
     "output_type": "stream",
     "text": [
      " 33 19.88s trainloss=0.65700 validloss=0.69485 accuracy_score=0.50895 \n"
     ]
    },
    {
     "name": "stderr",
     "output_type": "stream",
     "text": [
      "/opt/jupyterhub/anaconda/lib/python3.9/site-packages/sklearn/metrics/_classification.py:1308: UndefinedMetricWarning: Precision is ill-defined and being set to 0.0 in labels with no predicted samples. Use `zero_division` parameter to control this behavior.\n",
      "  _warn_prf(average, modifier, msg_start, len(result))\n"
     ]
    },
    {
     "name": "stdout",
     "output_type": "stream",
     "text": [
      " 34 19.88s trainloss=0.66631 validloss=0.71110 accuracy_score=0.50895 \n"
     ]
    },
    {
     "name": "stderr",
     "output_type": "stream",
     "text": [
      "/opt/jupyterhub/anaconda/lib/python3.9/site-packages/sklearn/metrics/_classification.py:1308: UndefinedMetricWarning: Precision is ill-defined and being set to 0.0 in labels with no predicted samples. Use `zero_division` parameter to control this behavior.\n",
      "  _warn_prf(average, modifier, msg_start, len(result))\n"
     ]
    },
    {
     "name": "stdout",
     "output_type": "stream",
     "text": [
      " 35 19.87s trainloss=0.66170 validloss=0.73029 accuracy_score=0.50895 \n"
     ]
    },
    {
     "name": "stderr",
     "output_type": "stream",
     "text": [
      "/opt/jupyterhub/anaconda/lib/python3.9/site-packages/sklearn/metrics/_classification.py:1308: UndefinedMetricWarning: Precision is ill-defined and being set to 0.0 in labels with no predicted samples. Use `zero_division` parameter to control this behavior.\n",
      "  _warn_prf(average, modifier, msg_start, len(result))\n"
     ]
    },
    {
     "name": "stdout",
     "output_type": "stream",
     "text": [
      " 36 19.85s trainloss=0.64965 validloss=0.70150 accuracy_score=0.50895 \n",
      " 37 19.89s trainloss=0.67500 validloss=0.65719 accuracy_score=0.61829 \n",
      " 38 19.87s trainloss=0.64859 validloss=0.69183 accuracy_score=0.50703 \n"
     ]
    },
    {
     "name": "stderr",
     "output_type": "stream",
     "text": [
      "/opt/jupyterhub/anaconda/lib/python3.9/site-packages/sklearn/metrics/_classification.py:1308: UndefinedMetricWarning: Precision is ill-defined and being set to 0.0 in labels with no predicted samples. Use `zero_division` parameter to control this behavior.\n",
      "  _warn_prf(average, modifier, msg_start, len(result))\n"
     ]
    },
    {
     "name": "stdout",
     "output_type": "stream",
     "text": [
      " 39 19.89s trainloss=0.66963 validloss=0.90252 accuracy_score=0.50895 \n",
      " 40 19.98s trainloss=0.65916 validloss=0.69112 accuracy_score=0.51790 \n",
      " 41 19.88s trainloss=0.63971 validloss=0.73683 accuracy_score=0.50703 \n"
     ]
    },
    {
     "name": "stderr",
     "output_type": "stream",
     "text": [
      "/opt/jupyterhub/anaconda/lib/python3.9/site-packages/sklearn/metrics/_classification.py:1308: UndefinedMetricWarning: Precision is ill-defined and being set to 0.0 in labels with no predicted samples. Use `zero_division` parameter to control this behavior.\n",
      "  _warn_prf(average, modifier, msg_start, len(result))\n"
     ]
    },
    {
     "name": "stdout",
     "output_type": "stream",
     "text": [
      " 42 19.86s trainloss=0.64852 validloss=0.69250 accuracy_score=0.50895 \n",
      " 43 19.93s trainloss=0.64430 validloss=1.27002 accuracy_score=0.49105 \n",
      " 44 19.89s trainloss=0.63810 validloss=0.75227 accuracy_score=0.63043 \n",
      " 45 19.91s trainloss=0.63084 validloss=0.69314 accuracy_score=0.50831 \n",
      " 46 19.89s trainloss=0.63564 validloss=0.69367 accuracy_score=0.49169 \n",
      " 47 19.88s trainloss=0.65424 validloss=0.69309 accuracy_score=0.50192 \n",
      " 48 19.89s trainloss=0.64668 validloss=1.70180 accuracy_score=0.60806 \n",
      " 49 19.90s trainloss=0.64851 validloss=3.79606 accuracy_score=0.55243 \n"
     ]
    },
    {
     "name": "stderr",
     "output_type": "stream",
     "text": [
      "/opt/jupyterhub/anaconda/lib/python3.9/site-packages/sklearn/metrics/_classification.py:1308: UndefinedMetricWarning: Precision is ill-defined and being set to 0.0 in labels with no predicted samples. Use `zero_division` parameter to control this behavior.\n",
      "  _warn_prf(average, modifier, msg_start, len(result))\n"
     ]
    },
    {
     "name": "stdout",
     "output_type": "stream",
     "text": [
      " 50 19.90s trainloss=0.63388 validloss=0.70344 accuracy_score=0.50895 \n",
      " 51 19.87s trainloss=0.64242 validloss=0.86610 accuracy_score=0.62020 \n",
      " 52 19.87s trainloss=0.63193 validloss=0.73868 accuracy_score=0.47826 \n"
     ]
    },
    {
     "name": "stderr",
     "output_type": "stream",
     "text": [
      "/opt/jupyterhub/anaconda/lib/python3.9/site-packages/sklearn/metrics/_classification.py:1308: UndefinedMetricWarning: Precision is ill-defined and being set to 0.0 in labels with no predicted samples. Use `zero_division` parameter to control this behavior.\n",
      "  _warn_prf(average, modifier, msg_start, len(result))\n"
     ]
    },
    {
     "name": "stdout",
     "output_type": "stream",
     "text": [
      " 53 19.96s trainloss=0.64305 validloss=1.63369 accuracy_score=0.50895 \n",
      " 54 19.93s trainloss=0.68947 validloss=0.72501 accuracy_score=0.50895 \n",
      " 55 19.88s trainloss=0.67638 validloss=0.66123 accuracy_score=0.64386 \n"
     ]
    },
    {
     "name": "stderr",
     "output_type": "stream",
     "text": [
      "/opt/jupyterhub/anaconda/lib/python3.9/site-packages/sklearn/metrics/_classification.py:1308: UndefinedMetricWarning: Precision is ill-defined and being set to 0.0 in labels with no predicted samples. Use `zero_division` parameter to control this behavior.\n",
      "  _warn_prf(average, modifier, msg_start, len(result))\n"
     ]
    },
    {
     "name": "stdout",
     "output_type": "stream",
     "text": [
      " 56 19.89s trainloss=0.65856 validloss=0.77363 accuracy_score=0.50895 \n"
     ]
    },
    {
     "name": "stderr",
     "output_type": "stream",
     "text": [
      "/opt/jupyterhub/anaconda/lib/python3.9/site-packages/sklearn/metrics/_classification.py:1308: UndefinedMetricWarning: Precision is ill-defined and being set to 0.0 in labels with no predicted samples. Use `zero_division` parameter to control this behavior.\n",
      "  _warn_prf(average, modifier, msg_start, len(result))\n"
     ]
    },
    {
     "name": "stdout",
     "output_type": "stream",
     "text": [
      " 57 19.88s trainloss=0.66942 validloss=0.90599 accuracy_score=0.49105 \n",
      " 58 19.88s trainloss=0.65339 validloss=0.86450 accuracy_score=0.64066 \n"
     ]
    },
    {
     "name": "stderr",
     "output_type": "stream",
     "text": [
      "/opt/jupyterhub/anaconda/lib/python3.9/site-packages/sklearn/metrics/_classification.py:1308: UndefinedMetricWarning: Precision is ill-defined and being set to 0.0 in labels with no predicted samples. Use `zero_division` parameter to control this behavior.\n",
      "  _warn_prf(average, modifier, msg_start, len(result))\n"
     ]
    },
    {
     "name": "stdout",
     "output_type": "stream",
     "text": [
      " 59 19.89s trainloss=0.68064 validloss=4.89305 accuracy_score=0.50895 \n"
     ]
    },
    {
     "name": "stderr",
     "output_type": "stream",
     "text": [
      "/opt/jupyterhub/anaconda/lib/python3.9/site-packages/sklearn/metrics/_classification.py:1308: UndefinedMetricWarning: Precision is ill-defined and being set to 0.0 in labels with no predicted samples. Use `zero_division` parameter to control this behavior.\n",
      "  _warn_prf(average, modifier, msg_start, len(result))\n"
     ]
    },
    {
     "name": "stdout",
     "output_type": "stream",
     "text": [
      " 60 19.88s trainloss=0.68168 validloss=0.76580 accuracy_score=0.50895 \n"
     ]
    },
    {
     "name": "stderr",
     "output_type": "stream",
     "text": [
      "/opt/jupyterhub/anaconda/lib/python3.9/site-packages/sklearn/metrics/_classification.py:1308: UndefinedMetricWarning: Precision is ill-defined and being set to 0.0 in labels with no predicted samples. Use `zero_division` parameter to control this behavior.\n",
      "  _warn_prf(average, modifier, msg_start, len(result))\n"
     ]
    },
    {
     "name": "stdout",
     "output_type": "stream",
     "text": [
      " 61 19.91s trainloss=0.66061 validloss=1.16840 accuracy_score=0.50895 \n"
     ]
    },
    {
     "name": "stderr",
     "output_type": "stream",
     "text": [
      "/opt/jupyterhub/anaconda/lib/python3.9/site-packages/sklearn/metrics/_classification.py:1308: UndefinedMetricWarning: Precision is ill-defined and being set to 0.0 in labels with no predicted samples. Use `zero_division` parameter to control this behavior.\n",
      "  _warn_prf(average, modifier, msg_start, len(result))\n"
     ]
    },
    {
     "name": "stdout",
     "output_type": "stream",
     "text": [
      " 62 19.91s trainloss=0.66532 validloss=0.72785 accuracy_score=0.50895 \n"
     ]
    },
    {
     "name": "stderr",
     "output_type": "stream",
     "text": [
      "/opt/jupyterhub/anaconda/lib/python3.9/site-packages/sklearn/metrics/_classification.py:1308: UndefinedMetricWarning: Precision is ill-defined and being set to 0.0 in labels with no predicted samples. Use `zero_division` parameter to control this behavior.\n",
      "  _warn_prf(average, modifier, msg_start, len(result))\n"
     ]
    },
    {
     "name": "stdout",
     "output_type": "stream",
     "text": [
      " 63 19.91s trainloss=0.65794 validloss=0.69455 accuracy_score=0.49105 \n"
     ]
    },
    {
     "name": "stderr",
     "output_type": "stream",
     "text": [
      "/opt/jupyterhub/anaconda/lib/python3.9/site-packages/sklearn/metrics/_classification.py:1308: UndefinedMetricWarning: Precision is ill-defined and being set to 0.0 in labels with no predicted samples. Use `zero_division` parameter to control this behavior.\n",
      "  _warn_prf(average, modifier, msg_start, len(result))\n"
     ]
    },
    {
     "name": "stdout",
     "output_type": "stream",
     "text": [
      " 64 19.88s trainloss=0.65340 validloss=0.74227 accuracy_score=0.50895 \n"
     ]
    },
    {
     "name": "stderr",
     "output_type": "stream",
     "text": [
      "/opt/jupyterhub/anaconda/lib/python3.9/site-packages/sklearn/metrics/_classification.py:1308: UndefinedMetricWarning: Precision is ill-defined and being set to 0.0 in labels with no predicted samples. Use `zero_division` parameter to control this behavior.\n",
      "  _warn_prf(average, modifier, msg_start, len(result))\n"
     ]
    },
    {
     "name": "stdout",
     "output_type": "stream",
     "text": [
      " 65 19.89s trainloss=0.67531 validloss=0.70480 accuracy_score=0.50895 \n"
     ]
    },
    {
     "name": "stderr",
     "output_type": "stream",
     "text": [
      "/opt/jupyterhub/anaconda/lib/python3.9/site-packages/sklearn/metrics/_classification.py:1308: UndefinedMetricWarning: Precision is ill-defined and being set to 0.0 in labels with no predicted samples. Use `zero_division` parameter to control this behavior.\n",
      "  _warn_prf(average, modifier, msg_start, len(result))\n"
     ]
    },
    {
     "name": "stdout",
     "output_type": "stream",
     "text": [
      " 66 19.99s trainloss=0.66230 validloss=0.77579 accuracy_score=0.50895 \n",
      " 67 19.89s trainloss=0.67480 validloss=0.70313 accuracy_score=0.49872 \n"
     ]
    },
    {
     "name": "stderr",
     "output_type": "stream",
     "text": [
      "/opt/jupyterhub/anaconda/lib/python3.9/site-packages/sklearn/metrics/_classification.py:1308: UndefinedMetricWarning: Precision is ill-defined and being set to 0.0 in labels with no predicted samples. Use `zero_division` parameter to control this behavior.\n",
      "  _warn_prf(average, modifier, msg_start, len(result))\n"
     ]
    },
    {
     "name": "stdout",
     "output_type": "stream",
     "text": [
      " 68 19.89s trainloss=0.65734 validloss=0.69820 accuracy_score=0.50895 \n"
     ]
    },
    {
     "name": "stderr",
     "output_type": "stream",
     "text": [
      "/opt/jupyterhub/anaconda/lib/python3.9/site-packages/sklearn/metrics/_classification.py:1308: UndefinedMetricWarning: Precision is ill-defined and being set to 0.0 in labels with no predicted samples. Use `zero_division` parameter to control this behavior.\n",
      "  _warn_prf(average, modifier, msg_start, len(result))\n"
     ]
    },
    {
     "name": "stdout",
     "output_type": "stream",
     "text": [
      " 69 19.87s trainloss=0.65019 validloss=0.69622 accuracy_score=0.50895 \n"
     ]
    },
    {
     "name": "stderr",
     "output_type": "stream",
     "text": [
      "/opt/jupyterhub/anaconda/lib/python3.9/site-packages/sklearn/metrics/_classification.py:1308: UndefinedMetricWarning: Precision is ill-defined and being set to 0.0 in labels with no predicted samples. Use `zero_division` parameter to control this behavior.\n",
      "  _warn_prf(average, modifier, msg_start, len(result))\n"
     ]
    },
    {
     "name": "stdout",
     "output_type": "stream",
     "text": [
      " 70 19.88s trainloss=0.64973 validloss=2.28384 accuracy_score=0.49105 \n"
     ]
    },
    {
     "name": "stderr",
     "output_type": "stream",
     "text": [
      "/opt/jupyterhub/anaconda/lib/python3.9/site-packages/sklearn/metrics/_classification.py:1308: UndefinedMetricWarning: Precision is ill-defined and being set to 0.0 in labels with no predicted samples. Use `zero_division` parameter to control this behavior.\n",
      "  _warn_prf(average, modifier, msg_start, len(result))\n"
     ]
    },
    {
     "name": "stdout",
     "output_type": "stream",
     "text": [
      " 71 19.88s trainloss=0.66097 validloss=0.69367 accuracy_score=0.50895 \n"
     ]
    },
    {
     "name": "stderr",
     "output_type": "stream",
     "text": [
      "/opt/jupyterhub/anaconda/lib/python3.9/site-packages/sklearn/metrics/_classification.py:1308: UndefinedMetricWarning: Precision is ill-defined and being set to 0.0 in labels with no predicted samples. Use `zero_division` parameter to control this behavior.\n",
      "  _warn_prf(average, modifier, msg_start, len(result))\n"
     ]
    },
    {
     "name": "stdout",
     "output_type": "stream",
     "text": [
      " 72 19.87s trainloss=0.68676 validloss=0.69997 accuracy_score=0.50895 \n",
      " 73 19.87s trainloss=0.67034 validloss=0.66238 accuracy_score=0.62596 \n",
      " 74 19.86s trainloss=0.67067 validloss=0.65479 accuracy_score=0.63363 \n",
      " 75 19.85s trainloss=0.66957 validloss=0.68475 accuracy_score=0.59527 \n"
     ]
    },
    {
     "name": "stderr",
     "output_type": "stream",
     "text": [
      "/opt/jupyterhub/anaconda/lib/python3.9/site-packages/sklearn/metrics/_classification.py:1308: UndefinedMetricWarning: Precision is ill-defined and being set to 0.0 in labels with no predicted samples. Use `zero_division` parameter to control this behavior.\n",
      "  _warn_prf(average, modifier, msg_start, len(result))\n"
     ]
    },
    {
     "name": "stdout",
     "output_type": "stream",
     "text": [
      " 76 19.85s trainloss=0.66502 validloss=0.71392 accuracy_score=0.50895 \n"
     ]
    },
    {
     "name": "stderr",
     "output_type": "stream",
     "text": [
      "/opt/jupyterhub/anaconda/lib/python3.9/site-packages/sklearn/metrics/_classification.py:1308: UndefinedMetricWarning: Precision is ill-defined and being set to 0.0 in labels with no predicted samples. Use `zero_division` parameter to control this behavior.\n",
      "  _warn_prf(average, modifier, msg_start, len(result))\n"
     ]
    },
    {
     "name": "stdout",
     "output_type": "stream",
     "text": [
      " 77 19.87s trainloss=0.66414 validloss=0.71500 accuracy_score=0.50895 \n"
     ]
    },
    {
     "name": "stderr",
     "output_type": "stream",
     "text": [
      "/opt/jupyterhub/anaconda/lib/python3.9/site-packages/sklearn/metrics/_classification.py:1308: UndefinedMetricWarning: Precision is ill-defined and being set to 0.0 in labels with no predicted samples. Use `zero_division` parameter to control this behavior.\n",
      "  _warn_prf(average, modifier, msg_start, len(result))\n"
     ]
    },
    {
     "name": "stdout",
     "output_type": "stream",
     "text": [
      " 78 19.87s trainloss=0.66525 validloss=0.71410 accuracy_score=0.50895 \n"
     ]
    },
    {
     "name": "stderr",
     "output_type": "stream",
     "text": [
      "/opt/jupyterhub/anaconda/lib/python3.9/site-packages/sklearn/metrics/_classification.py:1308: UndefinedMetricWarning: Precision is ill-defined and being set to 0.0 in labels with no predicted samples. Use `zero_division` parameter to control this behavior.\n",
      "  _warn_prf(average, modifier, msg_start, len(result))\n"
     ]
    },
    {
     "name": "stdout",
     "output_type": "stream",
     "text": [
      " 79 19.97s trainloss=0.66355 validloss=0.71638 accuracy_score=0.50895 \n"
     ]
    },
    {
     "name": "stderr",
     "output_type": "stream",
     "text": [
      "/opt/jupyterhub/anaconda/lib/python3.9/site-packages/sklearn/metrics/_classification.py:1308: UndefinedMetricWarning: Precision is ill-defined and being set to 0.0 in labels with no predicted samples. Use `zero_division` parameter to control this behavior.\n",
      "  _warn_prf(average, modifier, msg_start, len(result))\n"
     ]
    },
    {
     "name": "stdout",
     "output_type": "stream",
     "text": [
      " 80 19.85s trainloss=0.66610 validloss=0.71347 accuracy_score=0.50895 \n"
     ]
    },
    {
     "name": "stderr",
     "output_type": "stream",
     "text": [
      "/opt/jupyterhub/anaconda/lib/python3.9/site-packages/sklearn/metrics/_classification.py:1308: UndefinedMetricWarning: Precision is ill-defined and being set to 0.0 in labels with no predicted samples. Use `zero_division` parameter to control this behavior.\n",
      "  _warn_prf(average, modifier, msg_start, len(result))\n"
     ]
    },
    {
     "name": "stdout",
     "output_type": "stream",
     "text": [
      " 81 19.86s trainloss=0.66573 validloss=0.70695 accuracy_score=0.50895 \n",
      " 82 19.87s trainloss=0.66336 validloss=0.66617 accuracy_score=0.63107 \n"
     ]
    },
    {
     "name": "stderr",
     "output_type": "stream",
     "text": [
      "/opt/jupyterhub/anaconda/lib/python3.9/site-packages/sklearn/metrics/_classification.py:1308: UndefinedMetricWarning: Precision is ill-defined and being set to 0.0 in labels with no predicted samples. Use `zero_division` parameter to control this behavior.\n",
      "  _warn_prf(average, modifier, msg_start, len(result))\n"
     ]
    },
    {
     "name": "stdout",
     "output_type": "stream",
     "text": [
      " 83 19.86s trainloss=0.66504 validloss=0.69703 accuracy_score=0.49105 \n",
      " 84 19.86s trainloss=0.66213 validloss=0.69034 accuracy_score=0.55435 \n",
      " 85 19.85s trainloss=0.66954 validloss=0.70074 accuracy_score=0.54284 \n"
     ]
    },
    {
     "name": "stderr",
     "output_type": "stream",
     "text": [
      "/opt/jupyterhub/anaconda/lib/python3.9/site-packages/sklearn/metrics/_classification.py:1308: UndefinedMetricWarning: Precision is ill-defined and being set to 0.0 in labels with no predicted samples. Use `zero_division` parameter to control this behavior.\n",
      "  _warn_prf(average, modifier, msg_start, len(result))\n"
     ]
    },
    {
     "name": "stdout",
     "output_type": "stream",
     "text": [
      " 86 19.80s trainloss=0.66425 validloss=0.74034 accuracy_score=0.49105 \n"
     ]
    },
    {
     "name": "stderr",
     "output_type": "stream",
     "text": [
      "/opt/jupyterhub/anaconda/lib/python3.9/site-packages/sklearn/metrics/_classification.py:1308: UndefinedMetricWarning: Precision is ill-defined and being set to 0.0 in labels with no predicted samples. Use `zero_division` parameter to control this behavior.\n",
      "  _warn_prf(average, modifier, msg_start, len(result))\n"
     ]
    },
    {
     "name": "stdout",
     "output_type": "stream",
     "text": [
      " 87 19.81s trainloss=0.65388 validloss=0.71078 accuracy_score=0.50895 \n"
     ]
    },
    {
     "name": "stderr",
     "output_type": "stream",
     "text": [
      "/opt/jupyterhub/anaconda/lib/python3.9/site-packages/sklearn/metrics/_classification.py:1308: UndefinedMetricWarning: Precision is ill-defined and being set to 0.0 in labels with no predicted samples. Use `zero_division` parameter to control this behavior.\n",
      "  _warn_prf(average, modifier, msg_start, len(result))\n"
     ]
    },
    {
     "name": "stdout",
     "output_type": "stream",
     "text": [
      " 88 19.83s trainloss=0.65919 validloss=0.68366 accuracy_score=0.50895 \n"
     ]
    },
    {
     "name": "stderr",
     "output_type": "stream",
     "text": [
      "/opt/jupyterhub/anaconda/lib/python3.9/site-packages/sklearn/metrics/_classification.py:1308: UndefinedMetricWarning: Precision is ill-defined and being set to 0.0 in labels with no predicted samples. Use `zero_division` parameter to control this behavior.\n",
      "  _warn_prf(average, modifier, msg_start, len(result))\n"
     ]
    },
    {
     "name": "stdout",
     "output_type": "stream",
     "text": [
      " 89 19.82s trainloss=0.65546 validloss=0.83669 accuracy_score=0.50895 \n",
      " 90 19.82s trainloss=0.66376 validloss=0.67085 accuracy_score=0.58440 \n"
     ]
    },
    {
     "name": "stderr",
     "output_type": "stream",
     "text": [
      "/opt/jupyterhub/anaconda/lib/python3.9/site-packages/sklearn/metrics/_classification.py:1308: UndefinedMetricWarning: Precision is ill-defined and being set to 0.0 in labels with no predicted samples. Use `zero_division` parameter to control this behavior.\n",
      "  _warn_prf(average, modifier, msg_start, len(result))\n"
     ]
    },
    {
     "name": "stdout",
     "output_type": "stream",
     "text": [
      " 91 19.75s trainloss=0.66549 validloss=0.76604 accuracy_score=0.49105 \n",
      " 92 19.73s trainloss=0.68181 validloss=0.69588 accuracy_score=0.50000 \n"
     ]
    },
    {
     "name": "stderr",
     "output_type": "stream",
     "text": [
      "/opt/jupyterhub/anaconda/lib/python3.9/site-packages/sklearn/metrics/_classification.py:1308: UndefinedMetricWarning: Precision is ill-defined and being set to 0.0 in labels with no predicted samples. Use `zero_division` parameter to control this behavior.\n",
      "  _warn_prf(average, modifier, msg_start, len(result))\n"
     ]
    },
    {
     "name": "stdout",
     "output_type": "stream",
     "text": [
      " 93 19.63s trainloss=0.67296 validloss=0.71204 accuracy_score=0.49105 \n"
     ]
    },
    {
     "name": "stderr",
     "output_type": "stream",
     "text": [
      "/opt/jupyterhub/anaconda/lib/python3.9/site-packages/sklearn/metrics/_classification.py:1308: UndefinedMetricWarning: Precision is ill-defined and being set to 0.0 in labels with no predicted samples. Use `zero_division` parameter to control this behavior.\n",
      "  _warn_prf(average, modifier, msg_start, len(result))\n"
     ]
    },
    {
     "name": "stdout",
     "output_type": "stream",
     "text": [
      " 94 19.62s trainloss=0.66991 validloss=0.72491 accuracy_score=0.49105 \n"
     ]
    },
    {
     "name": "stderr",
     "output_type": "stream",
     "text": [
      "/opt/jupyterhub/anaconda/lib/python3.9/site-packages/sklearn/metrics/_classification.py:1308: UndefinedMetricWarning: Precision is ill-defined and being set to 0.0 in labels with no predicted samples. Use `zero_division` parameter to control this behavior.\n",
      "  _warn_prf(average, modifier, msg_start, len(result))\n"
     ]
    },
    {
     "name": "stdout",
     "output_type": "stream",
     "text": [
      " 95 19.63s trainloss=0.67082 validloss=0.71957 accuracy_score=0.50895 \n",
      " 96 19.62s trainloss=0.67787 validloss=0.69560 accuracy_score=0.50831 \n"
     ]
    },
    {
     "name": "stderr",
     "output_type": "stream",
     "text": [
      "/opt/jupyterhub/anaconda/lib/python3.9/site-packages/sklearn/metrics/_classification.py:1308: UndefinedMetricWarning: Precision is ill-defined and being set to 0.0 in labels with no predicted samples. Use `zero_division` parameter to control this behavior.\n",
      "  _warn_prf(average, modifier, msg_start, len(result))\n"
     ]
    },
    {
     "name": "stdout",
     "output_type": "stream",
     "text": [
      " 97 19.63s trainloss=0.67793 validloss=0.69419 accuracy_score=0.50895 \n"
     ]
    },
    {
     "name": "stderr",
     "output_type": "stream",
     "text": [
      "/opt/jupyterhub/anaconda/lib/python3.9/site-packages/sklearn/metrics/_classification.py:1308: UndefinedMetricWarning: Precision is ill-defined and being set to 0.0 in labels with no predicted samples. Use `zero_division` parameter to control this behavior.\n",
      "  _warn_prf(average, modifier, msg_start, len(result))\n"
     ]
    },
    {
     "name": "stdout",
     "output_type": "stream",
     "text": [
      " 98 19.64s trainloss=0.68176 validloss=0.70729 accuracy_score=0.50895 \n",
      " 99 19.64s trainloss=0.66822 validloss=0.71002 accuracy_score=0.52238 \n",
      "100 19.61s trainloss=0.69447 validloss=0.70729 accuracy_score=0.50895 \n"
     ]
    },
    {
     "name": "stderr",
     "output_type": "stream",
     "text": [
      "/opt/jupyterhub/anaconda/lib/python3.9/site-packages/sklearn/metrics/_classification.py:1308: UndefinedMetricWarning: Precision is ill-defined and being set to 0.0 in labels with no predicted samples. Use `zero_division` parameter to control this behavior.\n",
      "  _warn_prf(average, modifier, msg_start, len(result))\n"
     ]
    }
   ],
   "source": [
    "rn_152_trainer.train(100, lr=0.01, weight_decay=0.2)"
   ]
  },
  {
   "cell_type": "code",
   "execution_count": 16,
   "id": "09f151fc",
   "metadata": {},
   "outputs": [
    {
     "data": {
      "image/png": "[encoded data removed]",
      "text/plain": [
       "<Figure size 432x288 with 1 Axes>"
      ]
     },
     "metadata": {
      "needs_background": "light"
     },
     "output_type": "display_data"
    }
   ],
   "source": [
    "rn_152_trainer.learning_curve()"
   ]
  },
  {
   "cell_type": "code",
   "execution_count": 17,
   "id": "1c0f46ba",
   "metadata": {},
   "outputs": [
    {
     "data": {
      "image/png": "[encoded data removed]",
      "text/plain": [
       "<Figure size 432x288 with 1 Axes>"
      ]
     },
     "metadata": {
      "needs_background": "light"
     },
     "output_type": "display_data"
    }
   ],
   "source": [
    "rn_152_trainer.learning_curve(y='accuracy_score')"
   ]
  },
  {
   "cell_type": "code",
   "execution_count": 18,
   "id": "61552dab",
   "metadata": {},
   "outputs": [
    {
     "name": "stdout",
     "output_type": "stream",
     "text": [
      "     accuracy_score  epoch  prec_chewing  recall_chewing  recall_other\n",
      "9          0.661765    5.0      0.680787        0.585938      0.734925\n",
      "63         0.650256   32.0      0.632335        0.687500      0.614322\n",
      "1          0.645141    1.0      0.655930        0.583333      0.704774\n",
      "109        0.643862   55.0      0.638270        0.634115      0.653266\n",
      "115        0.640665   58.0      0.626225        0.665365      0.616834\n",
      "..              ...    ...           ...             ...           ...\n",
      "125        0.491049   63.0      0.491049        1.000000      0.000000\n",
      "85         0.491049   43.0      0.491037        0.998698      0.001256\n",
      "171        0.491049   86.0      0.491049        1.000000      0.000000\n",
      "103        0.478261   52.0      0.400000        0.125000      0.819095\n",
      "27         0.459079   14.0      0.437097        0.352865      0.561558\n",
      "\n",
      "[100 rows x 5 columns]\n"
     ]
    }
   ],
   "source": [
    "sort_epochs(rn_152_trainer.evaluator, 'accuracy_score')"
   ]
  },
  {
   "cell_type": "markdown",
   "id": "66f0179d",
   "metadata": {},
   "source": [
    "# wide resnet 50_2"
   ]
  },
  {
   "cell_type": "code",
   "execution_count": 19,
   "id": "4a9202fc",
   "metadata": {},
   "outputs": [],
   "source": [
    "rn50_2 = models.wide_resnet50_2(pretrained=True)\n",
    "rn50_2.conv1 = nn.Conv2d(1, rn50_2.conv1.out_channels,\n",
    "              kernel_size=rn50_2.conv1.kernel_size[0], \n",
    "                      stride=rn50_2.conv1.stride[0], \n",
    "                      padding=rn50_2.conv1.padding[0])\n",
    "num_ftrs = rn50_2.fc.in_features\n",
    "rn50_2.fc = nn.Linear(num_ftrs, 2)\n",
    "\n",
    "rn50_2.post_forward = post_forward\n",
    "\n",
    "rn50_2_trainer = trainer(rn50_2, nn.CrossEntropyLoss(weight=normedWeights), train_loader, valid_loader, test_loader, metrics=metrics, gpu=True)"
   ]
  },
  {
   "cell_type": "code",
   "execution_count": 20,
   "id": "e97d87cf",
   "metadata": {},
   "outputs": [
    {
     "data": {
      "application/vnd.jupyter.widget-view+json": {
       "model_id": "",
       "version_major": 2,
       "version_minor": 0
      },
      "text/plain": [
       "Total:   0%|          | 0/787200 [00:00<?, ?it/s]"
      ]
     },
     "metadata": {},
     "output_type": "display_data"
    },
    {
     "name": "stderr",
     "output_type": "stream",
     "text": [
      "/opt/jupyterhub/anaconda/lib/python3.9/site-packages/sklearn/metrics/_classification.py:1308: UndefinedMetricWarning: Precision is ill-defined and being set to 0.0 in labels with no predicted samples. Use `zero_division` parameter to control this behavior.\n",
      "  _warn_prf(average, modifier, msg_start, len(result))\n"
     ]
    },
    {
     "name": "stdout",
     "output_type": "stream",
     "text": [
      "  1 15.91s trainloss=0.82438 validloss=0.87951 accuracy_score=0.50895 \n"
     ]
    },
    {
     "name": "stderr",
     "output_type": "stream",
     "text": [
      "/opt/jupyterhub/anaconda/lib/python3.9/site-packages/sklearn/metrics/_classification.py:1308: UndefinedMetricWarning: Precision is ill-defined and being set to 0.0 in labels with no predicted samples. Use `zero_division` parameter to control this behavior.\n",
      "  _warn_prf(average, modifier, msg_start, len(result))\n"
     ]
    },
    {
     "name": "stdout",
     "output_type": "stream",
     "text": [
      "  2 15.93s trainloss=0.70491 validloss=0.69767 accuracy_score=0.49105 \n"
     ]
    },
    {
     "name": "stderr",
     "output_type": "stream",
     "text": [
      "/opt/jupyterhub/anaconda/lib/python3.9/site-packages/sklearn/metrics/_classification.py:1308: UndefinedMetricWarning: Precision is ill-defined and being set to 0.0 in labels with no predicted samples. Use `zero_division` parameter to control this behavior.\n",
      "  _warn_prf(average, modifier, msg_start, len(result))\n"
     ]
    },
    {
     "name": "stdout",
     "output_type": "stream",
     "text": [
      "  3 15.98s trainloss=0.69021 validloss=0.87006 accuracy_score=0.50895 \n"
     ]
    },
    {
     "name": "stderr",
     "output_type": "stream",
     "text": [
      "/opt/jupyterhub/anaconda/lib/python3.9/site-packages/sklearn/metrics/_classification.py:1308: UndefinedMetricWarning: Precision is ill-defined and being set to 0.0 in labels with no predicted samples. Use `zero_division` parameter to control this behavior.\n",
      "  _warn_prf(average, modifier, msg_start, len(result))\n"
     ]
    },
    {
     "name": "stdout",
     "output_type": "stream",
     "text": [
      "  4 16.10s trainloss=0.68899 validloss=27.79208 accuracy_score=0.50895 \n"
     ]
    },
    {
     "name": "stderr",
     "output_type": "stream",
     "text": [
      "/opt/jupyterhub/anaconda/lib/python3.9/site-packages/sklearn/metrics/_classification.py:1308: UndefinedMetricWarning: Precision is ill-defined and being set to 0.0 in labels with no predicted samples. Use `zero_division` parameter to control this behavior.\n",
      "  _warn_prf(average, modifier, msg_start, len(result))\n"
     ]
    },
    {
     "name": "stdout",
     "output_type": "stream",
     "text": [
      "  5 16.00s trainloss=0.67495 validloss=0.75773 accuracy_score=0.50895 \n"
     ]
    },
    {
     "name": "stderr",
     "output_type": "stream",
     "text": [
      "/opt/jupyterhub/anaconda/lib/python3.9/site-packages/sklearn/metrics/_classification.py:1308: UndefinedMetricWarning: Precision is ill-defined and being set to 0.0 in labels with no predicted samples. Use `zero_division` parameter to control this behavior.\n",
      "  _warn_prf(average, modifier, msg_start, len(result))\n"
     ]
    },
    {
     "name": "stdout",
     "output_type": "stream",
     "text": [
      "  6 16.03s trainloss=0.64909 validloss=0.83973 accuracy_score=0.50895 \n"
     ]
    },
    {
     "name": "stderr",
     "output_type": "stream",
     "text": [
      "/opt/jupyterhub/anaconda/lib/python3.9/site-packages/sklearn/metrics/_classification.py:1308: UndefinedMetricWarning: Precision is ill-defined and being set to 0.0 in labels with no predicted samples. Use `zero_division` parameter to control this behavior.\n",
      "  _warn_prf(average, modifier, msg_start, len(result))\n"
     ]
    },
    {
     "name": "stdout",
     "output_type": "stream",
     "text": [
      "  7 16.06s trainloss=0.65232 validloss=0.69290 accuracy_score=0.50895 \n"
     ]
    },
    {
     "name": "stderr",
     "output_type": "stream",
     "text": [
      "/opt/jupyterhub/anaconda/lib/python3.9/site-packages/sklearn/metrics/_classification.py:1308: UndefinedMetricWarning: Precision is ill-defined and being set to 0.0 in labels with no predicted samples. Use `zero_division` parameter to control this behavior.\n",
      "  _warn_prf(average, modifier, msg_start, len(result))\n"
     ]
    },
    {
     "name": "stdout",
     "output_type": "stream",
     "text": [
      "  8 16.05s trainloss=0.66071 validloss=0.69971 accuracy_score=0.50895 \n",
      "  9 16.04s trainloss=0.65947 validloss=0.98331 accuracy_score=0.50639 \n",
      " 10 16.00s trainloss=0.66567 validloss=0.75378 accuracy_score=0.50767 \n"
     ]
    },
    {
     "name": "stderr",
     "output_type": "stream",
     "text": [
      "/opt/jupyterhub/anaconda/lib/python3.9/site-packages/sklearn/metrics/_classification.py:1308: UndefinedMetricWarning: Precision is ill-defined and being set to 0.0 in labels with no predicted samples. Use `zero_division` parameter to control this behavior.\n",
      "  _warn_prf(average, modifier, msg_start, len(result))\n"
     ]
    },
    {
     "name": "stdout",
     "output_type": "stream",
     "text": [
      " 11 15.97s trainloss=0.66433 validloss=0.76714 accuracy_score=0.50895 \n",
      " 12 15.97s trainloss=0.63868 validloss=0.68839 accuracy_score=0.50831 \n",
      " 13 15.98s trainloss=0.65304 validloss=9.19451 accuracy_score=0.55946 \n",
      " 14 15.96s trainloss=0.65801 validloss=0.69786 accuracy_score=0.50831 \n"
     ]
    },
    {
     "name": "stderr",
     "output_type": "stream",
     "text": [
      "/opt/jupyterhub/anaconda/lib/python3.9/site-packages/sklearn/metrics/_classification.py:1308: UndefinedMetricWarning: Precision is ill-defined and being set to 0.0 in labels with no predicted samples. Use `zero_division` parameter to control this behavior.\n",
      "  _warn_prf(average, modifier, msg_start, len(result))\n"
     ]
    },
    {
     "name": "stdout",
     "output_type": "stream",
     "text": [
      " 15 15.95s trainloss=0.66433 validloss=0.69512 accuracy_score=0.50895 \n",
      " 16 15.97s trainloss=0.65999 validloss=0.65896 accuracy_score=0.61189 \n"
     ]
    },
    {
     "name": "stderr",
     "output_type": "stream",
     "text": [
      "/opt/jupyterhub/anaconda/lib/python3.9/site-packages/sklearn/metrics/_classification.py:1308: UndefinedMetricWarning: Precision is ill-defined and being set to 0.0 in labels with no predicted samples. Use `zero_division` parameter to control this behavior.\n",
      "  _warn_prf(average, modifier, msg_start, len(result))\n"
     ]
    },
    {
     "name": "stdout",
     "output_type": "stream",
     "text": [
      " 17 15.95s trainloss=0.65416 validloss=0.82970 accuracy_score=0.50895 \n"
     ]
    },
    {
     "name": "stderr",
     "output_type": "stream",
     "text": [
      "/opt/jupyterhub/anaconda/lib/python3.9/site-packages/sklearn/metrics/_classification.py:1308: UndefinedMetricWarning: Precision is ill-defined and being set to 0.0 in labels with no predicted samples. Use `zero_division` parameter to control this behavior.\n",
      "  _warn_prf(average, modifier, msg_start, len(result))\n"
     ]
    },
    {
     "name": "stdout",
     "output_type": "stream",
     "text": [
      " 18 15.94s trainloss=0.63642 validloss=0.79277 accuracy_score=0.50895 \n",
      " 19 15.94s trainloss=0.66361 validloss=0.69853 accuracy_score=0.54284 \n",
      " 20 15.92s trainloss=0.64924 validloss=0.70022 accuracy_score=0.50831 \n",
      " 21 15.92s trainloss=0.63986 validloss=2.82134 accuracy_score=0.51023 \n",
      " 22 15.92s trainloss=0.66687 validloss=0.77400 accuracy_score=0.47123 \n",
      " 23 15.92s trainloss=0.66227 validloss=0.93228 accuracy_score=0.53453 \n"
     ]
    },
    {
     "name": "stderr",
     "output_type": "stream",
     "text": [
      "/opt/jupyterhub/anaconda/lib/python3.9/site-packages/sklearn/metrics/_classification.py:1308: UndefinedMetricWarning: Precision is ill-defined and being set to 0.0 in labels with no predicted samples. Use `zero_division` parameter to control this behavior.\n",
      "  _warn_prf(average, modifier, msg_start, len(result))\n"
     ]
    },
    {
     "name": "stdout",
     "output_type": "stream",
     "text": [
      " 24 15.92s trainloss=0.65333 validloss=0.74287 accuracy_score=0.50895 \n"
     ]
    },
    {
     "name": "stderr",
     "output_type": "stream",
     "text": [
      "/opt/jupyterhub/anaconda/lib/python3.9/site-packages/sklearn/metrics/_classification.py:1308: UndefinedMetricWarning: Precision is ill-defined and being set to 0.0 in labels with no predicted samples. Use `zero_division` parameter to control this behavior.\n",
      "  _warn_prf(average, modifier, msg_start, len(result))\n"
     ]
    },
    {
     "name": "stdout",
     "output_type": "stream",
     "text": [
      " 25 15.91s trainloss=0.63517 validloss=0.81808 accuracy_score=0.50895 \n",
      " 26 15.88s trainloss=0.64505 validloss=0.69339 accuracy_score=0.50959 \n",
      " 27 15.90s trainloss=0.66057 validloss=0.72737 accuracy_score=0.50320 \n"
     ]
    },
    {
     "name": "stderr",
     "output_type": "stream",
     "text": [
      "/opt/jupyterhub/anaconda/lib/python3.9/site-packages/sklearn/metrics/_classification.py:1308: UndefinedMetricWarning: Precision is ill-defined and being set to 0.0 in labels with no predicted samples. Use `zero_division` parameter to control this behavior.\n",
      "  _warn_prf(average, modifier, msg_start, len(result))\n"
     ]
    },
    {
     "name": "stdout",
     "output_type": "stream",
     "text": [
      " 28 15.98s trainloss=0.66171 validloss=0.80021 accuracy_score=0.50895 \n"
     ]
    },
    {
     "name": "stderr",
     "output_type": "stream",
     "text": [
      "/opt/jupyterhub/anaconda/lib/python3.9/site-packages/sklearn/metrics/_classification.py:1308: UndefinedMetricWarning: Precision is ill-defined and being set to 0.0 in labels with no predicted samples. Use `zero_division` parameter to control this behavior.\n",
      "  _warn_prf(average, modifier, msg_start, len(result))\n"
     ]
    },
    {
     "name": "stdout",
     "output_type": "stream",
     "text": [
      " 29 15.95s trainloss=0.66586 validloss=0.73693 accuracy_score=0.50895 \n"
     ]
    },
    {
     "name": "stderr",
     "output_type": "stream",
     "text": [
      "/opt/jupyterhub/anaconda/lib/python3.9/site-packages/sklearn/metrics/_classification.py:1308: UndefinedMetricWarning: Precision is ill-defined and being set to 0.0 in labels with no predicted samples. Use `zero_division` parameter to control this behavior.\n",
      "  _warn_prf(average, modifier, msg_start, len(result))\n"
     ]
    },
    {
     "name": "stdout",
     "output_type": "stream",
     "text": [
      " 30 15.94s trainloss=0.63864 validloss=0.68899 accuracy_score=0.50895 \n"
     ]
    },
    {
     "name": "stderr",
     "output_type": "stream",
     "text": [
      "/opt/jupyterhub/anaconda/lib/python3.9/site-packages/sklearn/metrics/_classification.py:1308: UndefinedMetricWarning: Precision is ill-defined and being set to 0.0 in labels with no predicted samples. Use `zero_division` parameter to control this behavior.\n",
      "  _warn_prf(average, modifier, msg_start, len(result))\n"
     ]
    },
    {
     "name": "stdout",
     "output_type": "stream",
     "text": [
      " 31 15.94s trainloss=0.66832 validloss=0.69869 accuracy_score=0.50895 \n"
     ]
    },
    {
     "name": "stderr",
     "output_type": "stream",
     "text": [
      "/opt/jupyterhub/anaconda/lib/python3.9/site-packages/sklearn/metrics/_classification.py:1308: UndefinedMetricWarning: Precision is ill-defined and being set to 0.0 in labels with no predicted samples. Use `zero_division` parameter to control this behavior.\n",
      "  _warn_prf(average, modifier, msg_start, len(result))\n"
     ]
    },
    {
     "name": "stdout",
     "output_type": "stream",
     "text": [
      " 32 15.94s trainloss=0.65297 validloss=0.69449 accuracy_score=0.50895 \n"
     ]
    },
    {
     "name": "stderr",
     "output_type": "stream",
     "text": [
      "/opt/jupyterhub/anaconda/lib/python3.9/site-packages/sklearn/metrics/_classification.py:1308: UndefinedMetricWarning: Precision is ill-defined and being set to 0.0 in labels with no predicted samples. Use `zero_division` parameter to control this behavior.\n",
      "  _warn_prf(average, modifier, msg_start, len(result))\n"
     ]
    },
    {
     "name": "stdout",
     "output_type": "stream",
     "text": [
      " 33 15.93s trainloss=0.65735 validloss=0.68431 accuracy_score=0.50895 \n"
     ]
    },
    {
     "name": "stderr",
     "output_type": "stream",
     "text": [
      "/opt/jupyterhub/anaconda/lib/python3.9/site-packages/sklearn/metrics/_classification.py:1308: UndefinedMetricWarning: Precision is ill-defined and being set to 0.0 in labels with no predicted samples. Use `zero_division` parameter to control this behavior.\n",
      "  _warn_prf(average, modifier, msg_start, len(result))\n"
     ]
    },
    {
     "name": "stdout",
     "output_type": "stream",
     "text": [
      " 34 15.94s trainloss=0.67371 validloss=0.70199 accuracy_score=0.50895 \n",
      " 35 15.92s trainloss=0.68394 validloss=0.76377 accuracy_score=0.49361 \n"
     ]
    },
    {
     "name": "stderr",
     "output_type": "stream",
     "text": [
      "/opt/jupyterhub/anaconda/lib/python3.9/site-packages/sklearn/metrics/_classification.py:1308: UndefinedMetricWarning: Precision is ill-defined and being set to 0.0 in labels with no predicted samples. Use `zero_division` parameter to control this behavior.\n",
      "  _warn_prf(average, modifier, msg_start, len(result))\n"
     ]
    },
    {
     "name": "stdout",
     "output_type": "stream",
     "text": [
      " 36 15.93s trainloss=0.67821 validloss=0.72667 accuracy_score=0.50895 \n",
      " 37 15.92s trainloss=0.66777 validloss=0.65795 accuracy_score=0.61061 \n",
      " 38 15.92s trainloss=0.67128 validloss=0.69178 accuracy_score=0.50639 \n"
     ]
    },
    {
     "name": "stderr",
     "output_type": "stream",
     "text": [
      "/opt/jupyterhub/anaconda/lib/python3.9/site-packages/sklearn/metrics/_classification.py:1308: UndefinedMetricWarning: Precision is ill-defined and being set to 0.0 in labels with no predicted samples. Use `zero_division` parameter to control this behavior.\n",
      "  _warn_prf(average, modifier, msg_start, len(result))\n"
     ]
    },
    {
     "name": "stdout",
     "output_type": "stream",
     "text": [
      " 39 15.92s trainloss=0.68424 validloss=0.77463 accuracy_score=0.50895 \n",
      " 40 15.92s trainloss=0.67573 validloss=0.68906 accuracy_score=0.62084 \n",
      " 41 15.92s trainloss=0.66717 validloss=1.14585 accuracy_score=0.49680 \n",
      " 42 15.91s trainloss=0.66633 validloss=0.68488 accuracy_score=0.50000 \n",
      " 43 15.90s trainloss=0.66713 validloss=0.66312 accuracy_score=0.65729 \n"
     ]
    },
    {
     "name": "stderr",
     "output_type": "stream",
     "text": [
      "/opt/jupyterhub/anaconda/lib/python3.9/site-packages/sklearn/metrics/_classification.py:1308: UndefinedMetricWarning: Precision is ill-defined and being set to 0.0 in labels with no predicted samples. Use `zero_division` parameter to control this behavior.\n",
      "  _warn_prf(average, modifier, msg_start, len(result))\n"
     ]
    },
    {
     "name": "stdout",
     "output_type": "stream",
     "text": [
      " 44 15.90s trainloss=0.66184 validloss=1.05161 accuracy_score=0.50895 \n"
     ]
    },
    {
     "name": "stderr",
     "output_type": "stream",
     "text": [
      "/opt/jupyterhub/anaconda/lib/python3.9/site-packages/sklearn/metrics/_classification.py:1308: UndefinedMetricWarning: Precision is ill-defined and being set to 0.0 in labels with no predicted samples. Use `zero_division` parameter to control this behavior.\n",
      "  _warn_prf(average, modifier, msg_start, len(result))\n"
     ]
    },
    {
     "name": "stdout",
     "output_type": "stream",
     "text": [
      " 45 15.90s trainloss=0.65722 validloss=0.98819 accuracy_score=0.50895 \n"
     ]
    },
    {
     "name": "stderr",
     "output_type": "stream",
     "text": [
      "/opt/jupyterhub/anaconda/lib/python3.9/site-packages/sklearn/metrics/_classification.py:1308: UndefinedMetricWarning: Precision is ill-defined and being set to 0.0 in labels with no predicted samples. Use `zero_division` parameter to control this behavior.\n",
      "  _warn_prf(average, modifier, msg_start, len(result))\n"
     ]
    },
    {
     "name": "stdout",
     "output_type": "stream",
     "text": [
      " 46 15.88s trainloss=0.65714 validloss=0.81233 accuracy_score=0.50895 \n",
      " 47 15.88s trainloss=0.65220 validloss=0.67519 accuracy_score=0.50000 \n"
     ]
    },
    {
     "name": "stderr",
     "output_type": "stream",
     "text": [
      "/opt/jupyterhub/anaconda/lib/python3.9/site-packages/sklearn/metrics/_classification.py:1308: UndefinedMetricWarning: Precision is ill-defined and being set to 0.0 in labels with no predicted samples. Use `zero_division` parameter to control this behavior.\n",
      "  _warn_prf(average, modifier, msg_start, len(result))\n"
     ]
    },
    {
     "name": "stdout",
     "output_type": "stream",
     "text": [
      " 48 15.89s trainloss=0.65731 validloss=0.70398 accuracy_score=0.50895 \n"
     ]
    },
    {
     "name": "stderr",
     "output_type": "stream",
     "text": [
      "/opt/jupyterhub/anaconda/lib/python3.9/site-packages/sklearn/metrics/_classification.py:1308: UndefinedMetricWarning: Precision is ill-defined and being set to 0.0 in labels with no predicted samples. Use `zero_division` parameter to control this behavior.\n",
      "  _warn_prf(average, modifier, msg_start, len(result))\n"
     ]
    },
    {
     "name": "stdout",
     "output_type": "stream",
     "text": [
      " 49 15.88s trainloss=0.68264 validloss=0.69605 accuracy_score=0.50895 \n",
      " 50 15.86s trainloss=0.68301 validloss=0.68748 accuracy_score=0.50895 \n",
      " 51 15.95s trainloss=0.67190 validloss=0.68661 accuracy_score=0.54028 \n"
     ]
    },
    {
     "name": "stderr",
     "output_type": "stream",
     "text": [
      "/opt/jupyterhub/anaconda/lib/python3.9/site-packages/sklearn/metrics/_classification.py:1308: UndefinedMetricWarning: Precision is ill-defined and being set to 0.0 in labels with no predicted samples. Use `zero_division` parameter to control this behavior.\n",
      "  _warn_prf(average, modifier, msg_start, len(result))\n"
     ]
    },
    {
     "name": "stdout",
     "output_type": "stream",
     "text": [
      " 52 15.82s trainloss=0.66338 validloss=0.76034 accuracy_score=0.50895 \n",
      " 53 15.82s trainloss=0.66041 validloss=0.68476 accuracy_score=0.55371 \n"
     ]
    },
    {
     "name": "stderr",
     "output_type": "stream",
     "text": [
      "/opt/jupyterhub/anaconda/lib/python3.9/site-packages/sklearn/metrics/_classification.py:1308: UndefinedMetricWarning: Precision is ill-defined and being set to 0.0 in labels with no predicted samples. Use `zero_division` parameter to control this behavior.\n",
      "  _warn_prf(average, modifier, msg_start, len(result))\n"
     ]
    },
    {
     "name": "stdout",
     "output_type": "stream",
     "text": [
      " 54 15.85s trainloss=0.65483 validloss=0.70701 accuracy_score=0.50895 \n"
     ]
    },
    {
     "name": "stderr",
     "output_type": "stream",
     "text": [
      "/opt/jupyterhub/anaconda/lib/python3.9/site-packages/sklearn/metrics/_classification.py:1308: UndefinedMetricWarning: Precision is ill-defined and being set to 0.0 in labels with no predicted samples. Use `zero_division` parameter to control this behavior.\n",
      "  _warn_prf(average, modifier, msg_start, len(result))\n"
     ]
    },
    {
     "name": "stdout",
     "output_type": "stream",
     "text": [
      " 55 15.85s trainloss=0.66085 validloss=0.76627 accuracy_score=0.50895 \n",
      " 56 15.84s trainloss=0.66022 validloss=0.65370 accuracy_score=0.62404 \n"
     ]
    },
    {
     "name": "stderr",
     "output_type": "stream",
     "text": [
      "/opt/jupyterhub/anaconda/lib/python3.9/site-packages/sklearn/metrics/_classification.py:1308: UndefinedMetricWarning: Precision is ill-defined and being set to 0.0 in labels with no predicted samples. Use `zero_division` parameter to control this behavior.\n",
      "  _warn_prf(average, modifier, msg_start, len(result))\n"
     ]
    },
    {
     "name": "stdout",
     "output_type": "stream",
     "text": [
      " 57 15.85s trainloss=0.65964 validloss=0.84272 accuracy_score=0.50895 \n",
      " 58 15.85s trainloss=0.65659 validloss=0.71672 accuracy_score=0.50959 \n",
      " 59 15.85s trainloss=0.66564 validloss=0.66794 accuracy_score=0.60678 \n"
     ]
    },
    {
     "name": "stderr",
     "output_type": "stream",
     "text": [
      "/opt/jupyterhub/anaconda/lib/python3.9/site-packages/sklearn/metrics/_classification.py:1308: UndefinedMetricWarning: Precision is ill-defined and being set to 0.0 in labels with no predicted samples. Use `zero_division` parameter to control this behavior.\n",
      "  _warn_prf(average, modifier, msg_start, len(result))\n"
     ]
    },
    {
     "name": "stdout",
     "output_type": "stream",
     "text": [
      " 60 15.85s trainloss=0.66394 validloss=0.74474 accuracy_score=0.50895 \n",
      " 61 15.85s trainloss=0.66433 validloss=0.67099 accuracy_score=0.62404 \n",
      " 62 15.85s trainloss=0.66426 validloss=0.66801 accuracy_score=0.64834 \n",
      " 63 15.85s trainloss=0.66108 validloss=0.66318 accuracy_score=0.60870 \n",
      " 64 15.84s trainloss=0.67392 validloss=0.69180 accuracy_score=0.54476 \n",
      " 65 15.85s trainloss=0.67607 validloss=0.66862 accuracy_score=0.59974 \n",
      " 66 15.84s trainloss=0.66972 validloss=0.69912 accuracy_score=0.52621 \n",
      " 67 15.84s trainloss=0.67263 validloss=0.66786 accuracy_score=0.59591 \n",
      " 68 15.83s trainloss=0.66947 validloss=0.68841 accuracy_score=0.54987 \n",
      " 69 15.84s trainloss=0.66637 validloss=0.69585 accuracy_score=0.52813 \n",
      " 70 15.83s trainloss=0.66372 validloss=0.72512 accuracy_score=0.50512 \n",
      " 71 15.84s trainloss=0.66425 validloss=0.66012 accuracy_score=0.62724 \n"
     ]
    },
    {
     "name": "stderr",
     "output_type": "stream",
     "text": [
      "/opt/jupyterhub/anaconda/lib/python3.9/site-packages/sklearn/metrics/_classification.py:1308: UndefinedMetricWarning: Precision is ill-defined and being set to 0.0 in labels with no predicted samples. Use `zero_division` parameter to control this behavior.\n",
      "  _warn_prf(average, modifier, msg_start, len(result))\n"
     ]
    },
    {
     "name": "stdout",
     "output_type": "stream",
     "text": [
      " 72 15.83s trainloss=0.67796 validloss=0.69083 accuracy_score=0.50895 \n",
      " 73 15.79s trainloss=0.69091 validloss=0.68759 accuracy_score=0.52685 \n",
      " 74 15.78s trainloss=0.68721 validloss=0.68372 accuracy_score=0.56138 \n",
      " 75 15.87s trainloss=0.68558 validloss=0.68258 accuracy_score=0.55946 \n",
      " 76 15.78s trainloss=0.68480 validloss=0.69326 accuracy_score=0.50064 \n",
      " 77 15.76s trainloss=0.68307 validloss=0.68048 accuracy_score=0.55818 \n",
      " 78 15.76s trainloss=0.68442 validloss=0.69089 accuracy_score=0.51662 \n",
      " 79 15.77s trainloss=0.68597 validloss=0.67863 accuracy_score=0.57033 \n",
      " 80 15.77s trainloss=0.68690 validloss=0.68176 accuracy_score=0.55115 \n",
      " 81 15.77s trainloss=0.68616 validloss=0.68311 accuracy_score=0.55499 \n",
      " 82 15.77s trainloss=0.68528 validloss=0.68167 accuracy_score=0.54348 \n",
      " 83 15.76s trainloss=0.68675 validloss=0.67773 accuracy_score=0.57609 \n",
      " 84 15.76s trainloss=0.68686 validloss=0.68138 accuracy_score=0.54028 \n",
      " 85 15.77s trainloss=0.68609 validloss=0.68187 accuracy_score=0.55179 \n",
      " 86 15.76s trainloss=0.68628 validloss=0.68341 accuracy_score=0.55882 \n",
      " 87 15.76s trainloss=0.68680 validloss=0.67785 accuracy_score=0.56841 \n",
      " 88 15.77s trainloss=0.68657 validloss=0.68313 accuracy_score=0.54476 \n",
      " 89 15.77s trainloss=0.68589 validloss=0.68226 accuracy_score=0.56586 \n",
      " 90 15.76s trainloss=0.68599 validloss=0.68737 accuracy_score=0.52558 \n",
      " 91 15.77s trainloss=0.68671 validloss=0.68076 accuracy_score=0.54348 \n"
     ]
    },
    {
     "name": "stderr",
     "output_type": "stream",
     "text": [
      "/opt/jupyterhub/anaconda/lib/python3.9/site-packages/sklearn/metrics/_classification.py:1308: UndefinedMetricWarning: Precision is ill-defined and being set to 0.0 in labels with no predicted samples. Use `zero_division` parameter to control this behavior.\n",
      "  _warn_prf(average, modifier, msg_start, len(result))\n"
     ]
    },
    {
     "name": "stdout",
     "output_type": "stream",
     "text": [
      " 92 15.77s trainloss=0.68541 validloss=0.68682 accuracy_score=0.50895 \n",
      " 93 15.77s trainloss=0.68646 validloss=0.68333 accuracy_score=0.54220 \n"
     ]
    },
    {
     "name": "stderr",
     "output_type": "stream",
     "text": [
      "/opt/jupyterhub/anaconda/lib/python3.9/site-packages/sklearn/metrics/_classification.py:1308: UndefinedMetricWarning: Precision is ill-defined and being set to 0.0 in labels with no predicted samples. Use `zero_division` parameter to control this behavior.\n",
      "  _warn_prf(average, modifier, msg_start, len(result))\n"
     ]
    },
    {
     "name": "stdout",
     "output_type": "stream",
     "text": [
      " 94 15.77s trainloss=0.68599 validloss=0.68783 accuracy_score=0.50895 \n",
      " 95 15.76s trainloss=0.68555 validloss=0.68404 accuracy_score=0.54220 \n",
      " 96 15.77s trainloss=0.68510 validloss=0.68343 accuracy_score=0.54220 \n",
      " 97 15.76s trainloss=0.68560 validloss=0.68315 accuracy_score=0.56010 \n",
      " 98 15.87s trainloss=0.68601 validloss=0.68206 accuracy_score=0.56650 \n",
      " 99 15.75s trainloss=0.68694 validloss=0.68987 accuracy_score=0.51407 \n",
      "100 15.73s trainloss=0.68640 validloss=0.68946 accuracy_score=0.52238 \n"
     ]
    }
   ],
   "source": [
    "rn50_2_trainer.train(100, lr=0.01, weight_decay=0.4)"
   ]
  },
  {
   "cell_type": "code",
   "execution_count": 21,
   "id": "cd132447",
   "metadata": {},
   "outputs": [
    {
     "data": {
      "image/png": "[encoded data removed]",
      "text/plain": [
       "<Figure size 432x288 with 1 Axes>"
      ]
     },
     "metadata": {
      "needs_background": "light"
     },
     "output_type": "display_data"
    }
   ],
   "source": [
    "rn50_2_trainer.learning_curve()"
   ]
  },
  {
   "cell_type": "code",
   "execution_count": 22,
   "id": "a8c32a49",
   "metadata": {},
   "outputs": [
    {
     "data": {
      "image/png": "[encoded data removed]",
      "text/plain": [
       "<Figure size 432x288 with 1 Axes>"
      ]
     },
     "metadata": {
      "needs_background": "light"
     },
     "output_type": "display_data"
    }
   ],
   "source": [
    "rn50_2_trainer.learning_curve(y='accuracy_score')"
   ]
  },
  {
   "cell_type": "code",
   "execution_count": 23,
   "id": "c51b973f",
   "metadata": {},
   "outputs": [
    {
     "name": "stdout",
     "output_type": "stream",
     "text": [
      "     accuracy_score  epoch  prec_chewing  recall_chewing  recall_other\n",
      "85         0.657289   43.0      0.677914        0.575521      0.736181\n",
      "123        0.648338   62.0      0.737991        0.440104      0.849246\n",
      "141        0.627238   71.0      0.587512        0.808594      0.452261\n",
      "111        0.624041   56.0      0.591278        0.759115      0.493719\n",
      "121        0.624041   61.0      0.846154        0.286458      0.949749\n",
      "..              ...    ...           ...             ...           ...\n",
      "93         0.500000   47.0      0.418605        0.046875      0.937186\n",
      "81         0.496803   41.0      0.493891        1.000000      0.011307\n",
      "69         0.493606   35.0      0.492308        1.000000      0.005025\n",
      "3          0.491049    2.0      0.491049        1.000000      0.000000\n",
      "43         0.471228   22.0      0.453834        0.377604      0.561558\n",
      "\n",
      "[100 rows x 5 columns]\n"
     ]
    }
   ],
   "source": [
    "sort_epochs(rn50_2_trainer.evaluator, 'accuracy_score')"
   ]
  },
  {
   "cell_type": "markdown",
   "id": "218d83cd",
   "metadata": {},
   "source": [
    "# resnet 50"
   ]
  },
  {
   "cell_type": "code",
   "execution_count": 24,
   "id": "19d61be2",
   "metadata": {},
   "outputs": [],
   "source": [
    "rn50 = models.resnet50(pretrained=True)\n",
    "rn50.conv1 = nn.Conv2d(1, rn50.conv1.out_channels,\n",
    "              kernel_size=rn50.conv1.kernel_size[0], \n",
    "                      stride=rn50.conv1.stride[0], \n",
    "                      padding=rn50.conv1.padding[0])\n",
    "num_ftrs = rn50.fc.in_features\n",
    "rn50.fc = nn.Linear(num_ftrs, 2)\n",
    "\n",
    "rn50.post_forward = post_forward\n",
    "\n",
    "rn50_trainer = trainer(rn50, nn.CrossEntropyLoss(weight=normedWeights), train_loader, valid_loader, test_loader, metrics=metrics, gpu=True)"
   ]
  },
  {
   "cell_type": "code",
   "execution_count": 25,
   "id": "92785ae4",
   "metadata": {},
   "outputs": [
    {
     "data": {
      "application/vnd.jupyter.widget-view+json": {
       "model_id": "7988a1416b474731900e649799fbfdf4",
       "version_major": 2,
       "version_minor": 0
      },
      "text/plain": [
       "Total:   0%|          | 0/787200 [00:00<?, ?it/s]"
      ]
     },
     "metadata": {},
     "output_type": "display_data"
    },
    {
     "name": "stdout",
     "output_type": "stream",
     "text": [
      "  1 10.43s trainloss=0.84584 validloss=22.11326 accuracy_score=0.56138 \n",
      "  2 10.45s trainloss=0.69636 validloss=0.80816 accuracy_score=0.57928 \n",
      "  3 10.45s trainloss=0.65879 validloss=0.98980 accuracy_score=0.52046 \n",
      "  4 10.44s trainloss=0.64408 validloss=0.72170 accuracy_score=0.50703 \n",
      "  5 10.45s trainloss=0.63688 validloss=41.22306 accuracy_score=0.48529 \n",
      "  6 10.41s trainloss=0.63782 validloss=1.00427 accuracy_score=0.49936 \n",
      "  7 10.41s trainloss=0.63831 validloss=1.00245 accuracy_score=0.62276 \n",
      "  8 10.41s trainloss=0.64891 validloss=0.84513 accuracy_score=0.50959 \n",
      "  9 10.41s trainloss=0.64785 validloss=0.64584 accuracy_score=0.61573 \n"
     ]
    },
    {
     "name": "stderr",
     "output_type": "stream",
     "text": [
      "/opt/jupyterhub/anaconda/lib/python3.9/site-packages/sklearn/metrics/_classification.py:1308: UndefinedMetricWarning: Precision is ill-defined and being set to 0.0 in labels with no predicted samples. Use `zero_division` parameter to control this behavior.\n",
      "  _warn_prf(average, modifier, msg_start, len(result))\n"
     ]
    },
    {
     "name": "stdout",
     "output_type": "stream",
     "text": [
      " 10 10.41s trainloss=0.66343 validloss=0.76729 accuracy_score=0.50895 \n",
      " 11 10.42s trainloss=0.64003 validloss=1.53858 accuracy_score=0.51471 \n"
     ]
    },
    {
     "name": "stderr",
     "output_type": "stream",
     "text": [
      "/opt/jupyterhub/anaconda/lib/python3.9/site-packages/sklearn/metrics/_classification.py:1308: UndefinedMetricWarning: Precision is ill-defined and being set to 0.0 in labels with no predicted samples. Use `zero_division` parameter to control this behavior.\n",
      "  _warn_prf(average, modifier, msg_start, len(result))\n"
     ]
    },
    {
     "name": "stdout",
     "output_type": "stream",
     "text": [
      " 12 10.42s trainloss=0.64075 validloss=1.51475 accuracy_score=0.50895 \n"
     ]
    },
    {
     "name": "stderr",
     "output_type": "stream",
     "text": [
      "/opt/jupyterhub/anaconda/lib/python3.9/site-packages/sklearn/metrics/_classification.py:1308: UndefinedMetricWarning: Precision is ill-defined and being set to 0.0 in labels with no predicted samples. Use `zero_division` parameter to control this behavior.\n",
      "  _warn_prf(average, modifier, msg_start, len(result))\n"
     ]
    },
    {
     "name": "stdout",
     "output_type": "stream",
     "text": [
      " 13 10.41s trainloss=0.61451 validloss=11.26923 accuracy_score=0.50895 \n",
      " 14 10.42s trainloss=0.59950 validloss=0.95577 accuracy_score=0.52685 \n",
      " 15 10.42s trainloss=0.57728 validloss=0.91109 accuracy_score=0.65090 \n"
     ]
    },
    {
     "name": "stderr",
     "output_type": "stream",
     "text": [
      "/opt/jupyterhub/anaconda/lib/python3.9/site-packages/sklearn/metrics/_classification.py:1308: UndefinedMetricWarning: Precision is ill-defined and being set to 0.0 in labels with no predicted samples. Use `zero_division` parameter to control this behavior.\n",
      "  _warn_prf(average, modifier, msg_start, len(result))\n"
     ]
    },
    {
     "name": "stdout",
     "output_type": "stream",
     "text": [
      " 16 10.41s trainloss=0.56443 validloss=2.35830 accuracy_score=0.50895 \n",
      " 17 10.42s trainloss=0.54140 validloss=1.15371 accuracy_score=0.53261 \n",
      " 18 10.55s trainloss=0.51999 validloss=1.04722 accuracy_score=0.55115 \n",
      " 19 10.46s trainloss=0.50988 validloss=1.07380 accuracy_score=0.54220 \n",
      " 20 10.46s trainloss=0.48481 validloss=1.22450 accuracy_score=0.55754 \n",
      " 21 10.47s trainloss=0.45437 validloss=1.14147 accuracy_score=0.57928 \n",
      " 22 10.46s trainloss=0.43519 validloss=1.54404 accuracy_score=0.53133 \n",
      " 23 10.47s trainloss=0.41061 validloss=0.76498 accuracy_score=0.58696 \n",
      " 24 10.46s trainloss=0.40126 validloss=1.94733 accuracy_score=0.55946 \n",
      " 25 10.46s trainloss=0.38664 validloss=0.84199 accuracy_score=0.63043 \n",
      " 26 10.46s trainloss=0.36666 validloss=0.94110 accuracy_score=0.62532 \n",
      " 27 10.46s trainloss=0.35426 validloss=0.69872 accuracy_score=0.63107 \n",
      " 28 10.78s trainloss=0.33212 validloss=1.63874 accuracy_score=0.62084 \n",
      " 29 10.46s trainloss=0.32507 validloss=1.40401 accuracy_score=0.59079 \n",
      " 30 10.45s trainloss=0.30929 validloss=1.52644 accuracy_score=0.55946 \n",
      " 31 10.46s trainloss=0.30706 validloss=1.61522 accuracy_score=0.61381 \n",
      " 32 10.46s trainloss=0.27648 validloss=1.94154 accuracy_score=0.62532 \n",
      " 33 10.45s trainloss=0.25838 validloss=2.06481 accuracy_score=0.57673 \n",
      " 34 10.46s trainloss=0.25189 validloss=1.67941 accuracy_score=0.63747 \n",
      " 35 10.47s trainloss=0.24045 validloss=2.08216 accuracy_score=0.60102 \n",
      " 36 10.47s trainloss=0.22105 validloss=1.22808 accuracy_score=0.65345 \n",
      " 37 10.46s trainloss=0.23875 validloss=3.27128 accuracy_score=0.53389 \n",
      " 38 10.47s trainloss=0.21806 validloss=2.51607 accuracy_score=0.58440 \n",
      " 39 10.47s trainloss=0.20892 validloss=0.88296 accuracy_score=0.68734 \n",
      " 40 10.46s trainloss=0.21265 validloss=2.29356 accuracy_score=0.59527 \n",
      " 41 10.46s trainloss=0.20758 validloss=2.50066 accuracy_score=0.58184 \n",
      " 42 10.56s trainloss=0.19558 validloss=3.12564 accuracy_score=0.60358 \n",
      " 43 10.45s trainloss=0.17308 validloss=1.77553 accuracy_score=0.57481 \n",
      " 44 10.45s trainloss=0.18866 validloss=1.43116 accuracy_score=0.66624 \n",
      " 45 10.45s trainloss=0.16183 validloss=1.49118 accuracy_score=0.71164 \n",
      " 46 10.45s trainloss=0.19057 validloss=3.06801 accuracy_score=0.58248 \n",
      " 47 10.45s trainloss=0.14877 validloss=2.17510 accuracy_score=0.65409 \n",
      " 48 10.44s trainloss=0.14499 validloss=2.14169 accuracy_score=0.63747 \n",
      " 49 10.45s trainloss=0.17557 validloss=1.10899 accuracy_score=0.67072 \n",
      " 50 10.46s trainloss=0.12889 validloss=0.79045 accuracy_score=0.71483 \n",
      " 51 10.46s trainloss=0.14838 validloss=4.05009 accuracy_score=0.58887 \n",
      " 52 10.47s trainloss=0.14458 validloss=2.97833 accuracy_score=0.60486 \n",
      " 53 10.47s trainloss=0.12650 validloss=3.24919 accuracy_score=0.59015 \n",
      " 54 10.92s trainloss=0.12269 validloss=3.15158 accuracy_score=0.62660 \n",
      " 55 10.44s trainloss=0.11548 validloss=1.21664 accuracy_score=0.65793 \n",
      " 56 10.43s trainloss=0.14140 validloss=2.18059 accuracy_score=0.65729 \n",
      " 57 10.43s trainloss=0.10582 validloss=4.02341 accuracy_score=0.57928 \n",
      " 58 10.41s trainloss=0.12504 validloss=6.21648 accuracy_score=0.54092 \n",
      " 59 10.42s trainloss=0.13787 validloss=2.85872 accuracy_score=0.61445 \n",
      " 60 10.42s trainloss=0.09556 validloss=3.49532 accuracy_score=0.62724 \n",
      " 61 10.42s trainloss=0.11396 validloss=1.77406 accuracy_score=0.58887 \n",
      " 62 10.43s trainloss=0.10291 validloss=3.37934 accuracy_score=0.60358 \n",
      " 63 10.43s trainloss=0.09655 validloss=3.16106 accuracy_score=0.62404 \n",
      " 64 10.42s trainloss=0.09556 validloss=2.32073 accuracy_score=0.63939 \n",
      " 65 10.43s trainloss=0.11998 validloss=1.78092 accuracy_score=0.66368 \n",
      " 66 10.51s trainloss=0.08863 validloss=2.88536 accuracy_score=0.63939 \n",
      " 67 10.41s trainloss=0.08055 validloss=5.25272 accuracy_score=0.58312 \n",
      " 68 10.41s trainloss=0.10168 validloss=2.43099 accuracy_score=0.65153 \n",
      " 69 10.42s trainloss=0.08464 validloss=4.70067 accuracy_score=0.60102 \n",
      " 70 10.42s trainloss=0.07418 validloss=3.72107 accuracy_score=0.61701 \n",
      " 71 10.41s trainloss=0.08559 validloss=1.04464 accuracy_score=0.70205 \n",
      " 72 10.42s trainloss=0.10298 validloss=4.34478 accuracy_score=0.58824 \n",
      " 73 10.42s trainloss=0.09639 validloss=1.01323 accuracy_score=0.57801 \n",
      " 74 10.41s trainloss=0.09634 validloss=2.43453 accuracy_score=0.63811 \n",
      " 75 10.42s trainloss=0.07603 validloss=3.36046 accuracy_score=0.64066 \n",
      " 76 10.42s trainloss=0.07496 validloss=3.13262 accuracy_score=0.68670 \n",
      " 77 10.42s trainloss=0.08319 validloss=1.33046 accuracy_score=0.58248 \n",
      " 78 10.44s trainloss=0.09862 validloss=1.24468 accuracy_score=0.69629 \n",
      " 79 10.41s trainloss=0.07842 validloss=4.50332 accuracy_score=0.61445 \n",
      " 80 10.42s trainloss=0.07416 validloss=2.23556 accuracy_score=0.55243 \n",
      " 81 10.42s trainloss=0.08451 validloss=6.21705 accuracy_score=0.59399 \n",
      " 82 10.42s trainloss=0.07241 validloss=3.65972 accuracy_score=0.62660 \n",
      " 83 10.42s trainloss=0.07377 validloss=3.34642 accuracy_score=0.62020 \n",
      " 84 10.41s trainloss=0.09215 validloss=3.53348 accuracy_score=0.61189 \n",
      " 85 10.42s trainloss=0.08043 validloss=1.93286 accuracy_score=0.69118 \n",
      " 86 10.43s trainloss=0.07272 validloss=1.23748 accuracy_score=0.67391 \n",
      " 87 10.42s trainloss=0.07014 validloss=1.93505 accuracy_score=0.68159 \n",
      " 88 10.42s trainloss=0.05834 validloss=4.28353 accuracy_score=0.62852 \n",
      " 89 10.41s trainloss=0.08032 validloss=4.81268 accuracy_score=0.60294 \n",
      " 90 10.52s trainloss=0.07199 validloss=5.92615 accuracy_score=0.52941 \n",
      " 91 10.41s trainloss=0.06742 validloss=3.65727 accuracy_score=0.68414 \n",
      " 92 10.41s trainloss=0.07468 validloss=4.04826 accuracy_score=0.60550 \n",
      " 93 10.41s trainloss=0.06822 validloss=2.72061 accuracy_score=0.70460 \n",
      " 94 10.41s trainloss=0.07885 validloss=2.42635 accuracy_score=0.68798 \n",
      " 95 10.42s trainloss=0.05725 validloss=1.78406 accuracy_score=0.56266 \n",
      " 96 10.41s trainloss=0.07484 validloss=1.21743 accuracy_score=0.71164 \n",
      " 97 10.43s trainloss=0.06010 validloss=1.29788 accuracy_score=0.80563 \n",
      " 98 10.42s trainloss=0.05684 validloss=1.46844 accuracy_score=0.74169 \n",
      " 99 10.42s trainloss=0.08266 validloss=3.65683 accuracy_score=0.59655 \n",
      "100 10.40s trainloss=0.08096 validloss=1.52904 accuracy_score=0.67327 \n"
     ]
    }
   ],
   "source": [
    "rn50_trainer.train(100, lr=0.01)"
   ]
  },
  {
   "cell_type": "code",
   "execution_count": 26,
   "id": "b4cf3450",
   "metadata": {},
   "outputs": [
    {
     "data": {
      "image/png": "[encoded data removed]",
      "text/plain": [
       "<Figure size 432x288 with 1 Axes>"
      ]
     },
     "metadata": {
      "needs_background": "light"
     },
     "output_type": "display_data"
    }
   ],
   "source": [
    "rn50_trainer.learning_curve()"
   ]
  },
  {
   "cell_type": "code",
   "execution_count": 27,
   "id": "ceb911d2",
   "metadata": {},
   "outputs": [
    {
     "data": {
      "image/png": "[encoded data removed]",
      "text/plain": [
       "<Figure size 432x288 with 1 Axes>"
      ]
     },
     "metadata": {
      "needs_background": "light"
     },
     "output_type": "display_data"
    }
   ],
   "source": [
    "rn50_trainer.learning_curve(y='accuracy_score')"
   ]
  },
  {
   "cell_type": "code",
   "execution_count": 28,
   "id": "654a42f0",
   "metadata": {},
   "outputs": [
    {
     "name": "stdout",
     "output_type": "stream",
     "text": [
      "     accuracy_score  epoch  prec_chewing  recall_chewing  recall_other\n",
      "193        0.805627   97.0      0.747863        0.911458      0.703518\n",
      "195        0.741688   98.0      0.667587        0.944010      0.546482\n",
      "99         0.714834   50.0      0.677313        0.800781      0.631910\n",
      "191        0.711637   96.0      0.651675        0.886719      0.542714\n",
      "89         0.711637   45.0      0.646623        0.910156      0.520101\n",
      "..              ...    ...           ...             ...           ...\n",
      "23         0.508951   12.0      0.000000        0.000000      1.000000\n",
      "19         0.508951   10.0      0.000000        0.000000      1.000000\n",
      "7          0.507033    4.0      0.200000        0.001302      0.994975\n",
      "11         0.499361    6.0      0.485030        0.316406      0.675879\n",
      "9          0.485294    5.0      0.352000        0.057292      0.898241\n",
      "\n",
      "[100 rows x 5 columns]\n"
     ]
    }
   ],
   "source": [
    "sort_epochs(rn50_trainer.evaluator, 'accuracy_score')"
   ]
  },
  {
   "cell_type": "markdown",
   "id": "eb323b37",
   "metadata": {},
   "source": [
    "# End notebook"
   ]
  },
  {
   "cell_type": "code",
   "execution_count": null,
   "id": "ea59a536",
   "metadata": {},
   "outputs": [
    {
     "data": {
      "application/javascript": [
       "Jupyter.notebook.session.delete();\n"
      ],
      "text/plain": [
       "<IPython.core.display.Javascript object>"
      ]
     },
     "metadata": {},
     "output_type": "display_data"
    }
   ],
   "source": [
    "%%javascript\n",
    "Jupyter.notebook.session.delete();"
   ]
  },
  {
   "cell_type": "code",
   "execution_count": null,
   "id": "e5538ef8",
   "metadata": {},
   "outputs": [],
   "source": []
  }
 ],
 "metadata": {
  "kernelspec": {
   "display_name": "Python 3 (ipykernel)",
   "language": "python",
   "name": "python3"
  },
  "language_info": {
   "codemirror_mode": {
    "name": "ipython",
    "version": 3
   },
   "file_extension": ".py",
   "mimetype": "text/x-python",
   "name": "python",
   "nbconvert_exporter": "python",
   "pygments_lexer": "ipython3",
   "version": "3.9.7"
  }
 },
 "nbformat": 4,
 "nbformat_minor": 5
}
