{
 "cells": [
  {
   "cell_type": "code",
   "execution_count": 1,
   "id": "adb7f461",
   "metadata": {},
   "outputs": [
    {
     "name": "stdout",
     "output_type": "stream",
     "text": [
      "using gpu 3\n"
     ]
    }
   ],
   "source": [
    "import pandas as pd\n",
    "import torchaudio\n",
    "import torch\n",
    "import torch.nn.functional as F\n",
    "import numpy as np\n",
    "from sklearn.metrics import accuracy_score, precision_score, recall_score\n",
    "from torch.utils.data import Dataset, DataLoader\n",
    "import torch.nn as nn\n",
    "from pipetorch.train import *\n",
    "from sklearn.metrics import confusion_matrix, multilabel_confusion_matrix\n",
    "import seaborn as sns\n",
    "import math\n",
    "import matplotlib.pyplot as plt\n",
    "from torchvision import models\n",
    "from torch.utils.data import WeightedRandomSampler"
   ]
  },
  {
   "cell_type": "code",
   "execution_count": 2,
   "id": "11d27d12",
   "metadata": {},
   "outputs": [
    {
     "data": {
      "text/html": [
       "<div>\n",
       "<style scoped>\n",
       "    .dataframe tbody tr th:only-of-type {\n",
       "        vertical-align: middle;\n",
       "    }\n",
       "\n",
       "    .dataframe tbody tr th {\n",
       "        vertical-align: top;\n",
       "    }\n",
       "\n",
       "    .dataframe thead th {\n",
       "        text-align: right;\n",
       "    }\n",
       "</style>\n",
       "<table border=\"1\" class=\"dataframe\">\n",
       "  <thead>\n",
       "    <tr style=\"text-align: right;\">\n",
       "      <th></th>\n",
       "      <th>filename</th>\n",
       "      <th>modification</th>\n",
       "      <th>label</th>\n",
       "    </tr>\n",
       "  </thead>\n",
       "  <tbody>\n",
       "    <tr>\n",
       "      <th>0</th>\n",
       "      <td>-4wthmfwlwQ_260.pt</td>\n",
       "      <td>None</td>\n",
       "      <td>chewing</td>\n",
       "    </tr>\n",
       "    <tr>\n",
       "      <th>1</th>\n",
       "      <td>-5IpgOv9HD0_30.pt</td>\n",
       "      <td>None</td>\n",
       "      <td>chewing</td>\n",
       "    </tr>\n",
       "    <tr>\n",
       "      <th>2</th>\n",
       "      <td>-KO1p22zjVc_470.pt</td>\n",
       "      <td>None</td>\n",
       "      <td>chewing</td>\n",
       "    </tr>\n",
       "    <tr>\n",
       "      <th>3</th>\n",
       "      <td>-t-lmWNCXt0_10.pt</td>\n",
       "      <td>None</td>\n",
       "      <td>chewing</td>\n",
       "    </tr>\n",
       "    <tr>\n",
       "      <th>4</th>\n",
       "      <td>-t95P0R9Pf0_60.pt</td>\n",
       "      <td>None</td>\n",
       "      <td>chewing</td>\n",
       "    </tr>\n",
       "    <tr>\n",
       "      <th>...</th>\n",
       "      <td>...</td>\n",
       "      <td>...</td>\n",
       "      <td>...</td>\n",
       "    </tr>\n",
       "    <tr>\n",
       "      <th>7827</th>\n",
       "      <td>4gBf0FWwKnQ_100_squeezed.pt</td>\n",
       "      <td>squeezed</td>\n",
       "      <td>other</td>\n",
       "    </tr>\n",
       "    <tr>\n",
       "      <th>7828</th>\n",
       "      <td>4gBf0FWwKnQ_100_extended.pt</td>\n",
       "      <td>extended</td>\n",
       "      <td>other</td>\n",
       "    </tr>\n",
       "    <tr>\n",
       "      <th>7829</th>\n",
       "      <td>4gBf0FWwKnQ_100_shiftRight.pt</td>\n",
       "      <td>shiftRight</td>\n",
       "      <td>other</td>\n",
       "    </tr>\n",
       "    <tr>\n",
       "      <th>7830</th>\n",
       "      <td>4gBf0FWwKnQ_100_shiftLeft.pt</td>\n",
       "      <td>shiftLeft</td>\n",
       "      <td>other</td>\n",
       "    </tr>\n",
       "    <tr>\n",
       "      <th>7831</th>\n",
       "      <td>4gBf0FWwKnQ_100_background_sound.pt</td>\n",
       "      <td>background_sound</td>\n",
       "      <td>other</td>\n",
       "    </tr>\n",
       "  </tbody>\n",
       "</table>\n",
       "<p>7832 rows × 3 columns</p>\n",
       "</div>"
      ],
      "text/plain": [
       "                                 filename      modification    label\n",
       "0                      -4wthmfwlwQ_260.pt              None  chewing\n",
       "1                       -5IpgOv9HD0_30.pt              None  chewing\n",
       "2                      -KO1p22zjVc_470.pt              None  chewing\n",
       "3                       -t-lmWNCXt0_10.pt              None  chewing\n",
       "4                       -t95P0R9Pf0_60.pt              None  chewing\n",
       "...                                   ...               ...      ...\n",
       "7827          4gBf0FWwKnQ_100_squeezed.pt          squeezed    other\n",
       "7828          4gBf0FWwKnQ_100_extended.pt          extended    other\n",
       "7829        4gBf0FWwKnQ_100_shiftRight.pt        shiftRight    other\n",
       "7830         4gBf0FWwKnQ_100_shiftLeft.pt         shiftLeft    other\n",
       "7831  4gBf0FWwKnQ_100_background_sound.pt  background_sound    other\n",
       "\n",
       "[7832 rows x 3 columns]"
      ]
     },
     "execution_count": 2,
     "metadata": {},
     "output_type": "execute_result"
    }
   ],
   "source": [
    "df = pd.read_csv('../nourish/res/dataset_tensors_melspec/train/audio_train_augmented_melspec_tensors.csv')\n",
    "df"
   ]
  },
  {
   "cell_type": "code",
   "execution_count": 3,
   "id": "66d1f891",
   "metadata": {},
   "outputs": [],
   "source": [
    "class AudioSet(Dataset):\n",
    "    def __init__(self, df, root_dir, in_col, out_col, length_sec, sampling_rate):\n",
    "        self.df = df\n",
    "        self.root_dir = root_dir\n",
    "        self.in_col = in_col\n",
    "        self.out_col = out_col\n",
    "        self.length_sec = length_sec\n",
    "        self.sampling_rate = sampling_rate\n",
    "        \n",
    "        self.c2i = {'chewing': 0, 'drinking': 1, 'other': 1}\n",
    "        self.i2c = {0: 'chewing', 1: 'other'}\n",
    "        \n",
    "    def __getitem__(self, index):\n",
    "        filepath = self.root_dir + self.df.iloc[index][self.in_col]\n",
    "        data = torch.load(filepath)\n",
    "        label = self.c2i[self.df.iloc[index][self.out_col]]\n",
    "        return data.cuda(), label\n",
    "        \n",
    "    def __len__(self):\n",
    "        return len(self.df)"
   ]
  },
  {
   "cell_type": "code",
   "execution_count": 4,
   "id": "59de4884",
   "metadata": {},
   "outputs": [],
   "source": [
    "def my_precision_score(true_y, pred_y):\n",
    "    return precision_score(true_y, pred_y, average=None)"
   ]
  },
  {
   "cell_type": "code",
   "execution_count": 5,
   "id": "b94c7871",
   "metadata": {},
   "outputs": [],
   "source": [
    "def my_recall_score(true_y, pred_y):\n",
    "    return recall_score(true_y, pred_y, average=None)"
   ]
  },
  {
   "cell_type": "code",
   "execution_count": 6,
   "id": "bfbf44a5",
   "metadata": {},
   "outputs": [],
   "source": [
    "def sort_epochs(results, by):\n",
    "    results = results[results['phase'] != '']\n",
    "    results[['prec_chewing', 'prec_other']] = pd.DataFrame(results['my_precision_score'].tolist(), index=results.index)\n",
    "    results[['recall_chewing', 'recall_other']] = pd.DataFrame(results['my_recall_score'].tolist(), index=results.index)\n",
    "\n",
    "    results = results[results['phase'] == 'valid']\n",
    "    results = results.sort_values(by, ascending=False)\n",
    "    print(results[['accuracy_score', 'epoch', 'prec_chewing', 'recall_chewing', 'recall_other']])"
   ]
  },
  {
   "cell_type": "code",
   "execution_count": 7,
   "id": "060ecb4c",
   "metadata": {},
   "outputs": [],
   "source": [
    "\n",
    "# thanks to https://github.com/DTrimarchi10/confusion_matrix/blob/master/cf_matrix.py\n",
    "# modified the function a little to fit our needs\n",
    "\n",
    "def make_confusion_matrix(true_y,\n",
    "                          pred_y,\n",
    "                          group_names=None,\n",
    "                          categories='auto',\n",
    "                          count=True,\n",
    "                          percent=True,\n",
    "                          cbar=True,\n",
    "                          xyticks=True,\n",
    "                          xyplotlabels=True,\n",
    "                          sum_stats=True,\n",
    "                          figsize=None,\n",
    "                          cmap='Blues',\n",
    "                          title=None):\n",
    "    '''\n",
    "    This function will make a pretty plot of an sklearn Confusion Matrix cm using a Seaborn heatmap visualization.\n",
    "    Arguments\n",
    "    ---------\n",
    "    cf:            confusion matrix to be passed in\n",
    "    group_names:   List of strings that represent the labels row by row to be shown in each square.\n",
    "    categories:    List of strings containing the categories to be displayed on the x,y axis. Default is 'auto'\n",
    "    count:         If True, show the raw number in the confusion matrix. Default is True.\n",
    "    normalize:     If True, show the proportions for each category. Default is True.\n",
    "    cbar:          If True, show the color bar. The cbar values are based off the values in the confusion matrix.\n",
    "                   Default is True.\n",
    "    xyticks:       If True, show x and y ticks. Default is True.\n",
    "    xyplotlabels:  If True, show 'True Label' and 'Predicted Label' on the figure. Default is True.\n",
    "    sum_stats:     If True, display summary statistics below the figure. Default is True.\n",
    "    figsize:       Tuple representing the figure size. Default will be the matplotlib rcParams value.\n",
    "    cmap:          Colormap of the values displayed from matplotlib.pyplot.cm. Default is 'Blues'\n",
    "                   See http://matplotlib.org/examples/color/colormaps_reference.html\n",
    "                   \n",
    "    title:         Title for the heatmap. Default is None.\n",
    "    '''\n",
    "    \n",
    "    cf = confusion_matrix(true_y, pred_y)\n",
    "    # CODE TO GENERATE TEXT INSIDE EACH SQUARE\n",
    "    blanks = ['' for i in range(cf.size)]\n",
    "\n",
    "    if group_names and len(group_names)==cf.size:\n",
    "        group_labels = [\"{}\\n\".format(value) for value in group_names]\n",
    "    else:\n",
    "        group_labels = blanks\n",
    "\n",
    "    if count:\n",
    "        group_counts = [\"{0:0.0f}\\n\".format(value) for value in cf.flatten()]\n",
    "    else:\n",
    "        group_counts = blanks\n",
    "\n",
    "    if percent:\n",
    "        group_percentages = [round(value / np.sum(cf[i // 3]) * 100, 2) for i, value in enumerate(cf.flatten())]\n",
    "    else:\n",
    "        group_percentages = blanks\n",
    "\n",
    "    box_labels = [f\"{v1}{v2}{v3}%\".strip() for v1, v2, v3 in zip(group_labels,group_counts,group_percentages)]\n",
    "    box_labels = np.asarray(box_labels).reshape(cf.shape[0],cf.shape[1])\n",
    "\n",
    "    # CODE TO GENERATE SUMMARY STATISTICS & TEXT FOR SUMMARY STATS\n",
    "    if sum_stats:\n",
    "        #Accuracy is sum of diagonal divided by total observations\n",
    "        accuracy  = np.trace(cf) / float(np.sum(cf))\n",
    "\n",
    "\n",
    "        #Metrics for Binary Confusion Matrices\n",
    "        precision = precision_score(true_y, pred_y, average=None)\n",
    "        \n",
    "        stats_text = \"\\n\\nAccuracy={:0.3f}\\nPrecision Chewing={:0.3f}\\n Precision other={:0.3f}\\n\".format(\n",
    "            accuracy, precision[0], precision[1])\n",
    "    else:\n",
    "        stats_text = \"\"\n",
    "\n",
    "\n",
    "    # SET FIGURE PARAMETERS ACCORDING TO OTHER ARGUMENTS\n",
    "    if figsize==None:\n",
    "        #Get default figure size if not set\n",
    "        figsize = plt.rcParams.get('figure.figsize')\n",
    "\n",
    "    if xyticks==False:\n",
    "        #Do not show categories if xyticks is False\n",
    "        categories=False\n",
    "    \n",
    "    group_percentages = np.reshape(group_percentages, (2, 2))\n",
    "\n",
    "    # MAKE THE HEATMAP VISUALIZATION\n",
    "    plt.figure(figsize=figsize)\n",
    "    sns.heatmap(\n",
    "        group_percentages,annot=box_labels,\n",
    "        fmt=\"\",cmap=cmap,cbar=cbar,xticklabels=categories,\n",
    "        yticklabels=categories, vmin=0, vmax=100)\n",
    "\n",
    "    if xyplotlabels:\n",
    "        plt.ylabel('True label')\n",
    "        plt.xlabel('Predicted label' + stats_text)\n",
    "    else:\n",
    "        plt.xlabel(stats_text)\n",
    "    \n",
    "    if title:\n",
    "        plt.title(title)"
   ]
  },
  {
   "cell_type": "code",
   "execution_count": 8,
   "id": "4e9c029b",
   "metadata": {},
   "outputs": [],
   "source": [
    "c2i = {'chewing': 0, 'drinking': 1, 'other': 1}\n",
    "\n",
    "def predict_test_set(model, df_test, audio_dir, print_wrong=True, gpu=True):\n",
    "    model = model.cuda() if gpu else model.cpu()\n",
    "    \n",
    "    # get labels and filenames\n",
    "    true_y = [c2i[label] for label in df_test['label'].values]\n",
    "    filenames = df_test['filename'].values\n",
    "    pred_y = []\n",
    "    \n",
    "    for filename in filenames:\n",
    "        t = torch.load(audio_dir + filename)\n",
    "        t = t.cuda() if gpu else t.cpu()\n",
    "        t = t[None, :] # expand the tensor\n",
    "        \n",
    "        with torch.no_grad():\n",
    "            pred = model(t)\n",
    "            pred = model.post_forward(pred)\n",
    "            pred_y.append(pred.data.cpu().numpy()[0])\n",
    "    # plot conf matrix\n",
    "    make_confusion_matrix(true_y, pred_y)\n",
    "    plt.show()\n",
    "    \n",
    "    if print_wrong:\n",
    "        # get false negatives and false positives of eating and drinking\n",
    "        fn_eating_ind = []\n",
    "        fn_drinking_ind = []\n",
    "        fp_eating_ind = []\n",
    "        fp_drinking_ind = []\n",
    "        for i, y in enumerate(zip(true_y, pred_y)):\n",
    "            if(y[0] != y[1]):\n",
    "                # fn eating\n",
    "                if y[0] == 0:\n",
    "                    fn_eating_ind.append(i)\n",
    "                \n",
    "                # fn drinking\n",
    "                if y[0] == 1:\n",
    "                    fn_drinking_ind.append(i)\n",
    "                \n",
    "                # fp eating\n",
    "                if y[1] == 0:\n",
    "                    fp_eating_ind.append(i)\n",
    "            \n",
    "                # fp drinking\n",
    "                if y[1] == 1:\n",
    "                    fp_drinking_ind.append(i)\n",
    "                \n",
    "        fn_eating_filenames = [filenames[i] for i in fn_eating_ind]\n",
    "        fn_drinking_filenames = [filenames[i] for i in fn_drinking_ind]\n",
    "        fp_eating_filenames = [filenames[i] for i in fp_eating_ind]\n",
    "        fp_drinking_filenames = [filenames[i] for i in fp_drinking_ind]\n",
    "    \n",
    "        # print it\n",
    "        print('FALSE NEGATIVES EATING:', end='\\n\\t')\n",
    "        print('\\n\\t'.join(fn_eating_filenames))\n",
    "        print('FALSE NEGATIVES DRINKING:', end='\\n\\t')\n",
    "        print('\\n\\t'.join(fn_drinking_filenames))\n",
    "        print('FALSE POSITIVES EATING:', end='\\n\\t')\n",
    "        print('\\n\\t'.join(fp_eating_filenames))\n",
    "        print('FALSE POSITIVES DRINKING:', end='\\n\\t')\n",
    "        print('\\n\\t'.join(fp_drinking_filenames))"
   ]
  },
  {
   "cell_type": "code",
   "execution_count": 9,
   "id": "0ec6204d",
   "metadata": {},
   "outputs": [],
   "source": [
    "df_pos = df[df['label']=='chewing']\n",
    "df_neg = df.drop(df_pos.index)\n",
    "bdf_neg = df_neg.sample(n=len(df_pos.index))\n",
    "bdf = pd.concat([df_pos, bdf_neg])"
   ]
  },
  {
   "cell_type": "code",
   "execution_count": 10,
   "id": "c6b086fc",
   "metadata": {},
   "outputs": [
    {
     "data": {
      "text/html": [
       "<div>\n",
       "<style scoped>\n",
       "    .dataframe tbody tr th:only-of-type {\n",
       "        vertical-align: middle;\n",
       "    }\n",
       "\n",
       "    .dataframe tbody tr th {\n",
       "        vertical-align: top;\n",
       "    }\n",
       "\n",
       "    .dataframe thead th {\n",
       "        text-align: right;\n",
       "    }\n",
       "</style>\n",
       "<table border=\"1\" class=\"dataframe\">\n",
       "  <thead>\n",
       "    <tr style=\"text-align: right;\">\n",
       "      <th></th>\n",
       "      <th>filename</th>\n",
       "      <th>modification</th>\n",
       "      <th>label</th>\n",
       "    </tr>\n",
       "  </thead>\n",
       "  <tbody>\n",
       "    <tr>\n",
       "      <th>211</th>\n",
       "      <td>P5y8KlYECM4_290.pt</td>\n",
       "      <td>None</td>\n",
       "      <td>chewing</td>\n",
       "    </tr>\n",
       "    <tr>\n",
       "      <th>3667</th>\n",
       "      <td>drinks_10_36_pitched_up.pt</td>\n",
       "      <td>pitched_up</td>\n",
       "      <td>drinking</td>\n",
       "    </tr>\n",
       "    <tr>\n",
       "      <th>3358</th>\n",
       "      <td>N52056bH2TA_10_background_sound.pt</td>\n",
       "      <td>background_sound</td>\n",
       "      <td>chewing</td>\n",
       "    </tr>\n",
       "    <tr>\n",
       "      <th>7256</th>\n",
       "      <td>-knTMfWlZ98_0_shiftLeft.pt</td>\n",
       "      <td>shiftLeft</td>\n",
       "      <td>other</td>\n",
       "    </tr>\n",
       "    <tr>\n",
       "      <th>6572</th>\n",
       "      <td>-Hx1kSTUxHw_30_pitched_up.pt</td>\n",
       "      <td>pitched_up</td>\n",
       "      <td>other</td>\n",
       "    </tr>\n",
       "    <tr>\n",
       "      <th>...</th>\n",
       "      <td>...</td>\n",
       "      <td>...</td>\n",
       "      <td>...</td>\n",
       "    </tr>\n",
       "    <tr>\n",
       "      <th>3076</th>\n",
       "      <td>GxH0YDJNaxw_30_shiftRight.pt</td>\n",
       "      <td>shiftRight</td>\n",
       "      <td>chewing</td>\n",
       "    </tr>\n",
       "    <tr>\n",
       "      <th>3335</th>\n",
       "      <td>Mg7rR5BF1Ko_110_shiftRight.pt</td>\n",
       "      <td>shiftRight</td>\n",
       "      <td>chewing</td>\n",
       "    </tr>\n",
       "    <tr>\n",
       "      <th>3230</th>\n",
       "      <td>LaTn5CivQ6Q_0_shiftRight.pt</td>\n",
       "      <td>shiftRight</td>\n",
       "      <td>chewing</td>\n",
       "    </tr>\n",
       "    <tr>\n",
       "      <th>4981</th>\n",
       "      <td>drinks_6_26_shiftLeft.pt</td>\n",
       "      <td>shiftLeft</td>\n",
       "      <td>drinking</td>\n",
       "    </tr>\n",
       "    <tr>\n",
       "      <th>3183</th>\n",
       "      <td>KlRCadH-V70_130_background_sound.pt</td>\n",
       "      <td>background_sound</td>\n",
       "      <td>chewing</td>\n",
       "    </tr>\n",
       "  </tbody>\n",
       "</table>\n",
       "<p>2714 rows × 3 columns</p>\n",
       "</div>"
      ],
      "text/plain": [
       "                                 filename      modification     label\n",
       "211                    P5y8KlYECM4_290.pt              None   chewing\n",
       "3667           drinks_10_36_pitched_up.pt        pitched_up  drinking\n",
       "3358   N52056bH2TA_10_background_sound.pt  background_sound   chewing\n",
       "7256           -knTMfWlZ98_0_shiftLeft.pt         shiftLeft     other\n",
       "6572         -Hx1kSTUxHw_30_pitched_up.pt        pitched_up     other\n",
       "...                                   ...               ...       ...\n",
       "3076         GxH0YDJNaxw_30_shiftRight.pt        shiftRight   chewing\n",
       "3335        Mg7rR5BF1Ko_110_shiftRight.pt        shiftRight   chewing\n",
       "3230          LaTn5CivQ6Q_0_shiftRight.pt        shiftRight   chewing\n",
       "4981             drinks_6_26_shiftLeft.pt         shiftLeft  drinking\n",
       "3183  KlRCadH-V70_130_background_sound.pt  background_sound   chewing\n",
       "\n",
       "[2714 rows x 3 columns]"
      ]
     },
     "execution_count": 10,
     "metadata": {},
     "output_type": "execute_result"
    }
   ],
   "source": [
    "df_valid = bdf.sample(n=int((len(bdf.index))/5))\n",
    "df_train = bdf.drop(df_valid.index)\n",
    "df_test = pd.read_csv('../nourish/res/dataset_tensors_melspec/test/audio_test_melspec_tensors.csv')\n",
    "# shuffling the sets\n",
    "df_valid = df_valid.sample(frac=1)\n",
    "df_train = df_train.sample(frac=1)\n",
    "df_test = df_test.sample(frac=1)\n",
    "df_train"
   ]
  },
  {
   "cell_type": "code",
   "execution_count": 11,
   "id": "c2e495d1",
   "metadata": {},
   "outputs": [],
   "source": [
    "batch_size = 64\n",
    "\n",
    "root_dir_train = '../nourish/res/dataset_tensors_melspec/train/audio/'\n",
    "root_dir_test = '../nourish/res/dataset_tensors_melspec/test/audio/'\n",
    "train_data = AudioSet(df_train, root_dir_train, 'filename', 'label', 10, 16000)\n",
    "valid_data = AudioSet(df_valid, root_dir_train, 'filename', 'label', 10, 16000)\n",
    "test_data = AudioSet(df_test, root_dir_test, 'filename', 'label', 10, 16000)\n",
    "train_loader = DataLoader(train_data, batch_size=batch_size, shuffle=True)\n",
    "valid_loader = DataLoader(valid_data, batch_size=batch_size, shuffle=True)\n",
    "test_loader = DataLoader(test_data, batch_size=test_data.__len__(), shuffle=True)\n",
    "\n",
    "lr = 0.001\n",
    "epochs = 100\n",
    "\n",
    "metrics = [accuracy_score, my_precision_score, my_recall_score]"
   ]
  },
  {
   "cell_type": "markdown",
   "id": "de6eddac",
   "metadata": {},
   "source": [
    "# 1 conv 1 lin"
   ]
  },
  {
   "cell_type": "code",
   "execution_count": 83,
   "id": "967ad215",
   "metadata": {},
   "outputs": [],
   "source": [
    "class cnn1Layer1(nn.Module):\n",
    "    def __init__(self, out_channels):\n",
    "        super().__init__()\n",
    "        self.out_channels = out_channels\n",
    "        self.layer1 = nn.Sequential(\n",
    "            nn.Conv2d(1, self.out_channels, kernel_size=3, stride=1, padding=1),\n",
    "            nn.ReLU(),\n",
    "            nn.MaxPool2d(kernel_size=2, stride=2)\n",
    "            )\n",
    "        self.w1 = nn.Linear(self.out_channels*16*100 , 2)\n",
    "        \n",
    "    def forward(self, X):\n",
    "        X = self.layer1(X)\n",
    "        X = X.reshape(-1, self.out_channels*16*100)\n",
    "        X = self.w1(X)\n",
    "        return X\n",
    "        \n",
    "    def post_forward(self, y):\n",
    "        return torch.argmax(y, axis=1)"
   ]
  },
  {
   "cell_type": "code",
   "execution_count": 84,
   "id": "5ebc82f1",
   "metadata": {},
   "outputs": [
    {
     "data": {
      "application/vnd.jupyter.widget-view+json": {
       "model_id": "",
       "version_major": 2,
       "version_minor": 0
      },
      "text/plain": [
       "Total:   0%|          | 0/345600 [00:00<?, ?it/s]"
      ]
     },
     "metadata": {},
     "output_type": "display_data"
    },
    {
     "name": "stdout",
     "output_type": "stream",
     "text": [
      "  1 2.05s trainloss=33.50794 validloss=17.00188 accuracy_score=0.60767 \n",
      "  2 2.04s trainloss=5.14019 validloss=10.76808 accuracy_score=0.77139 \n",
      "  3 2.07s trainloss=2.42669 validloss=11.70253 accuracy_score=0.80383 \n",
      "  4 2.03s trainloss=1.81201 validloss=10.41835 accuracy_score=0.80531 \n",
      "  5 2.01s trainloss=1.32615 validloss=11.57085 accuracy_score=0.81268 \n",
      "  6 1.99s trainloss=2.16922 validloss=13.12274 accuracy_score=0.80088 \n",
      "  7 2.00s trainloss=1.90323 validloss=12.56024 accuracy_score=0.78319 \n",
      "  8 1.97s trainloss=1.02660 validloss=11.16847 accuracy_score=0.82006 \n",
      "  9 1.94s trainloss=1.17477 validloss=17.84761 accuracy_score=0.82301 \n",
      " 10 1.97s trainloss=1.27941 validloss=14.92965 accuracy_score=0.84513 \n",
      " 11 1.99s trainloss=0.89039 validloss=16.21834 accuracy_score=0.84513 \n",
      " 12 1.98s trainloss=1.78529 validloss=14.42469 accuracy_score=0.84808 \n",
      " 13 1.98s trainloss=0.75491 validloss=15.17333 accuracy_score=0.84513 \n",
      " 14 1.98s trainloss=0.63473 validloss=13.57261 accuracy_score=0.85103 \n",
      " 15 1.98s trainloss=0.46831 validloss=13.45973 accuracy_score=0.84956 \n",
      " 16 1.98s trainloss=0.29089 validloss=13.68167 accuracy_score=0.84071 \n",
      " 17 2.02s trainloss=0.23012 validloss=14.16966 accuracy_score=0.84218 \n",
      " 18 2.05s trainloss=0.19447 validloss=13.99600 accuracy_score=0.84218 \n",
      " 19 2.02s trainloss=0.16806 validloss=13.99411 accuracy_score=0.84808 \n",
      " 20 2.00s trainloss=0.16596 validloss=14.54965 accuracy_score=0.84366 \n",
      " 21 2.01s trainloss=0.15684 validloss=13.82591 accuracy_score=0.84071 \n",
      " 22 2.01s trainloss=0.19364 validloss=15.36927 accuracy_score=0.85103 \n",
      " 23 2.05s trainloss=0.18808 validloss=13.04038 accuracy_score=0.85251 \n",
      " 24 2.05s trainloss=0.75022 validloss=13.27560 accuracy_score=0.82891 \n",
      " 25 2.05s trainloss=0.52644 validloss=13.41958 accuracy_score=0.84218 \n",
      " 26 2.05s trainloss=0.27038 validloss=15.51810 accuracy_score=0.83481 \n",
      " 27 2.04s trainloss=0.25624 validloss=15.71839 accuracy_score=0.83038 \n",
      " 28 2.03s trainloss=4.40051 validloss=18.29384 accuracy_score=0.82006 \n",
      " 29 2.03s trainloss=1.72141 validloss=17.99679 accuracy_score=0.83186 \n",
      " 30 2.03s trainloss=0.81800 validloss=18.16115 accuracy_score=0.83481 \n",
      " 31 2.03s trainloss=0.46173 validloss=18.76855 accuracy_score=0.83333 \n",
      " 32 2.04s trainloss=0.59728 validloss=18.64506 accuracy_score=0.84218 \n",
      " 33 2.04s trainloss=0.44073 validloss=18.10052 accuracy_score=0.84661 \n",
      " 34 2.03s trainloss=0.25282 validloss=17.41685 accuracy_score=0.85103 \n",
      " 35 2.04s trainloss=0.18254 validloss=17.78440 accuracy_score=0.84513 \n",
      " 36 2.06s trainloss=0.15853 validloss=17.61115 accuracy_score=0.85251 \n",
      " 37 2.08s trainloss=0.12484 validloss=17.96016 accuracy_score=0.84071 \n",
      " 38 2.08s trainloss=0.11750 validloss=17.46547 accuracy_score=0.84366 \n",
      " 39 2.07s trainloss=0.10333 validloss=18.15791 accuracy_score=0.84071 \n",
      " 40 2.07s trainloss=0.09421 validloss=18.36538 accuracy_score=0.83481 \n",
      " 41 2.08s trainloss=0.08733 validloss=18.65623 accuracy_score=0.83923 \n",
      " 42 2.08s trainloss=0.13453 validloss=17.00493 accuracy_score=0.83776 \n",
      " 43 2.08s trainloss=0.21598 validloss=18.34824 accuracy_score=0.84513 \n",
      " 44 2.08s trainloss=0.11256 validloss=18.16549 accuracy_score=0.84956 \n",
      " 45 2.08s trainloss=0.10235 validloss=17.63689 accuracy_score=0.84661 \n",
      " 46 2.07s trainloss=0.08986 validloss=18.80126 accuracy_score=0.84366 \n",
      " 47 2.08s trainloss=0.07197 validloss=18.91731 accuracy_score=0.84513 \n",
      " 48 2.08s trainloss=0.06426 validloss=19.27296 accuracy_score=0.84661 \n",
      " 49 2.09s trainloss=0.06839 validloss=19.39409 accuracy_score=0.84366 \n",
      " 50 2.08s trainloss=0.06251 validloss=19.56884 accuracy_score=0.84366 \n",
      " 51 2.08s trainloss=0.05880 validloss=19.68760 accuracy_score=0.84218 \n",
      " 52 2.08s trainloss=0.05676 validloss=19.94834 accuracy_score=0.84218 \n",
      " 53 2.07s trainloss=0.05966 validloss=19.68139 accuracy_score=0.84366 \n",
      " 54 2.07s trainloss=0.05489 validloss=20.06583 accuracy_score=0.84366 \n",
      " 55 2.07s trainloss=0.05620 validloss=19.85506 accuracy_score=0.83628 \n",
      " 56 2.07s trainloss=0.05414 validloss=19.85461 accuracy_score=0.83186 \n",
      " 57 2.07s trainloss=0.05087 validloss=20.08440 accuracy_score=0.83481 \n",
      " 58 2.07s trainloss=0.04850 validloss=20.23705 accuracy_score=0.83333 \n",
      " 59 2.07s trainloss=0.04716 validloss=20.51534 accuracy_score=0.83481 \n",
      " 60 2.06s trainloss=0.05189 validloss=20.33601 accuracy_score=0.83038 \n",
      " 61 2.05s trainloss=0.04646 validloss=20.84540 accuracy_score=0.83186 \n",
      " 62 2.05s trainloss=0.04456 validloss=20.52824 accuracy_score=0.83186 \n",
      " 63 2.07s trainloss=0.04837 validloss=20.56157 accuracy_score=0.83628 \n",
      " 64 2.07s trainloss=0.04509 validloss=20.71988 accuracy_score=0.83481 \n",
      " 65 2.06s trainloss=0.04183 validloss=20.55623 accuracy_score=0.83333 \n",
      " 66 2.08s trainloss=0.04277 validloss=21.00694 accuracy_score=0.83038 \n",
      " 67 2.13s trainloss=0.05055 validloss=21.00549 accuracy_score=0.83186 \n",
      " 68 2.38s trainloss=0.05313 validloss=20.71636 accuracy_score=0.83333 \n",
      " 69 2.49s trainloss=0.04069 validloss=20.84867 accuracy_score=0.83333 \n",
      " 70 2.86s trainloss=0.04224 validloss=21.03999 accuracy_score=0.83481 \n",
      " 71 2.68s trainloss=0.04015 validloss=21.02175 accuracy_score=0.83186 \n",
      " 72 2.68s trainloss=0.03751 validloss=21.08604 accuracy_score=0.83333 \n",
      " 73 2.69s trainloss=0.04832 validloss=20.64301 accuracy_score=0.83923 \n",
      " 74 2.69s trainloss=0.04204 validloss=20.63823 accuracy_score=0.83481 \n",
      " 75 2.68s trainloss=0.04022 validloss=20.55690 accuracy_score=0.83923 \n",
      " 76 2.70s trainloss=0.03996 validloss=20.80179 accuracy_score=0.83481 \n",
      " 77 2.68s trainloss=0.03904 validloss=20.99221 accuracy_score=0.83333 \n",
      " 78 2.70s trainloss=0.03446 validloss=21.22453 accuracy_score=0.83186 \n",
      " 79 2.70s trainloss=0.05829 validloss=19.64251 accuracy_score=0.83923 \n",
      " 80 2.70s trainloss=0.04216 validloss=18.75908 accuracy_score=0.84808 \n",
      " 81 2.70s trainloss=0.05075 validloss=19.08505 accuracy_score=0.83923 \n",
      " 82 2.69s trainloss=0.03947 validloss=18.93959 accuracy_score=0.83923 \n",
      " 83 2.76s trainloss=0.04588 validloss=19.82476 accuracy_score=0.84071 \n",
      " 84 2.74s trainloss=0.47886 validloss=20.61301 accuracy_score=0.80531 \n",
      " 85 2.71s trainloss=2.08017 validloss=22.37571 accuracy_score=0.84366 \n",
      " 86 2.72s trainloss=1.50739 validloss=32.85257 accuracy_score=0.84513 \n",
      " 87 2.71s trainloss=1.67009 validloss=31.85939 accuracy_score=0.82596 \n",
      " 88 2.71s trainloss=1.00998 validloss=31.70870 accuracy_score=0.82743 \n",
      " 89 2.72s trainloss=0.53240 validloss=31.18748 accuracy_score=0.83038 \n",
      " 90 2.72s trainloss=0.29421 validloss=27.81819 accuracy_score=0.84071 \n",
      " 91 2.72s trainloss=0.14133 validloss=28.25474 accuracy_score=0.83923 \n",
      " 92 2.73s trainloss=0.10428 validloss=28.56032 accuracy_score=0.83333 \n",
      " 93 2.72s trainloss=0.08417 validloss=29.33677 accuracy_score=0.83923 \n",
      " 94 2.72s trainloss=0.07125 validloss=29.54873 accuracy_score=0.83923 \n",
      " 95 2.72s trainloss=0.06875 validloss=30.07986 accuracy_score=0.83628 \n",
      " 96 2.74s trainloss=0.06645 validloss=30.35060 accuracy_score=0.83628 \n",
      " 97 2.72s trainloss=0.06075 validloss=29.97001 accuracy_score=0.83628 \n",
      " 98 2.68s trainloss=0.06139 validloss=30.09877 accuracy_score=0.83186 \n",
      " 99 2.66s trainloss=0.05647 validloss=29.67271 accuracy_score=0.83038 \n",
      "100 2.68s trainloss=0.06827 validloss=30.28317 accuracy_score=0.83333 \n"
     ]
    }
   ],
   "source": [
    "cnn1_model = cnn1Layer(4)\n",
    "cnn1_trainer = trainer(cnn1_model, nn.CrossEntropyLoss(), train_loader, valid_loader, test_loader, metrics=metrics, gpu=True)\n",
    "cnn1_trainer.train(100, lr=[0.01, 0.001])"
   ]
  },
  {
   "cell_type": "code",
   "execution_count": 85,
   "id": "3ee31697",
   "metadata": {},
   "outputs": [
    {
     "data": {
      "image/png": "[encoded data removed]",
      "text/plain": [
       "<Figure size 432x288 with 1 Axes>"
      ]
     },
     "metadata": {
      "needs_background": "light"
     },
     "output_type": "display_data"
    }
   ],
   "source": [
    "cnn1_trainer.learning_curve()"
   ]
  },
  {
   "cell_type": "code",
   "execution_count": 86,
   "id": "aefb3e2f",
   "metadata": {},
   "outputs": [
    {
     "data": {
      "image/png": "[encoded data removed]",
      "text/plain": [
       "<Figure size 432x288 with 1 Axes>"
      ]
     },
     "metadata": {
      "needs_background": "light"
     },
     "output_type": "display_data"
    }
   ],
   "source": [
    "cnn1_trainer.learning_curve(y='accuracy_score')"
   ]
  },
  {
   "cell_type": "code",
   "execution_count": 87,
   "id": "a0b517eb",
   "metadata": {},
   "outputs": [
    {
     "name": "stdout",
     "output_type": "stream",
     "text": [
      "    accuracy_score  epoch  prec_chewing  recall_chewing  recall_other\n",
      "71        0.852507   36.0      0.826923        0.848684      0.855615\n",
      "45        0.852507   23.0      0.846939        0.819079      0.879679\n",
      "67        0.851032   34.0      0.828479        0.842105      0.858289\n",
      "43        0.851032   22.0      0.837209        0.828947      0.868984\n",
      "27        0.851032   14.0      0.846416        0.815789      0.879679\n",
      "..             ...    ...           ...             ...           ...\n",
      "5         0.803835    3.0      0.840637        0.694079      0.893048\n",
      "11        0.800885    6.0      0.786441        0.763158      0.831551\n",
      "13        0.783186    7.0      0.794007        0.697368      0.852941\n",
      "3         0.771386    2.0      0.796813        0.657895      0.863636\n",
      "1         0.607670    1.0      0.617284        0.328947      0.834225\n",
      "\n",
      "[100 rows x 5 columns]\n"
     ]
    }
   ],
   "source": [
    "sort_epochs(cnn1_trainer.evaluator, 'accuracy_score')"
   ]
  },
  {
   "cell_type": "code",
   "execution_count": 88,
   "id": "1610565d",
   "metadata": {},
   "outputs": [
    {
     "data": {
      "image/png": "[encoded data removed]",
      "text/plain": [
       "<Figure size 432x288 with 2 Axes>"
      ]
     },
     "metadata": {
      "needs_background": "light"
     },
     "output_type": "display_data"
    }
   ],
   "source": [
    "test_X, test_y = next(iter(test_loader))\n",
    "test_X = test_X.cuda()\n",
    "test_y = test_y.cuda()\n",
    "cnn1_model = cnn1_model.cuda()\n",
    "\n",
    "with torch.no_grad():\n",
    "        pred_y = cnn1_model(test_X)\n",
    "        pred_y = cnn1_model.post_forward(pred_y)\n",
    "        \n",
    "make_confusion_matrix(test_y.cpu(), pred_y.cpu())"
   ]
  },
  {
   "cell_type": "markdown",
   "id": "ac2f69f7",
   "metadata": {},
   "source": [
    "# 1 conv 2 lin"
   ]
  },
  {
   "cell_type": "code",
   "execution_count": 89,
   "id": "be8f1b56",
   "metadata": {},
   "outputs": [],
   "source": [
    "class cnn1Layer2(nn.Module):\n",
    "    def __init__(self, out_channels):\n",
    "        super().__init__()\n",
    "        self.out_channels = out_channels\n",
    "        self.layer1 = nn.Sequential(\n",
    "            nn.Conv2d(1, self.out_channels, kernel_size=3, stride=1, padding=1),\n",
    "            nn.ReLU(),\n",
    "            nn.MaxPool2d(kernel_size=2, stride=2)\n",
    "            )\n",
    "        self.w1 = nn.Linear(self.out_channels*16*100 , 100)\n",
    "        self.w2 = nn.Linear(100, 2)\n",
    "        \n",
    "    def forward(self, X):\n",
    "        X = self.layer1(X)\n",
    "        X = X.reshape(-1, self.out_channels*16*100)\n",
    "        X = self.w1(X)\n",
    "        X = self.w2(X)\n",
    "        return X\n",
    "        \n",
    "    def post_forward(self, y):\n",
    "        return torch.argmax(y, axis=1)"
   ]
  },
  {
   "cell_type": "code",
   "execution_count": 90,
   "id": "84efb352",
   "metadata": {},
   "outputs": [
    {
     "data": {
      "application/vnd.jupyter.widget-view+json": {
       "model_id": "",
       "version_major": 2,
       "version_minor": 0
      },
      "text/plain": [
       "Total:   0%|          | 0/345600 [00:00<?, ?it/s]"
      ]
     },
     "metadata": {},
     "output_type": "display_data"
    },
    {
     "name": "stdout",
     "output_type": "stream",
     "text": [
      "  1 2.67s trainloss=420.61165 validloss=83.02851 accuracy_score=0.60767 \n",
      "  2 2.66s trainloss=36.76535 validloss=29.59259 accuracy_score=0.66667 \n",
      "  3 2.65s trainloss=10.82640 validloss=22.61669 accuracy_score=0.67847 \n",
      "  4 2.64s trainloss=9.80005 validloss=29.90230 accuracy_score=0.73599 \n",
      "  5 2.64s trainloss=5.28940 validloss=20.33341 accuracy_score=0.75664 \n",
      "  6 2.64s trainloss=3.94780 validloss=19.03906 accuracy_score=0.78614 \n",
      "  7 2.64s trainloss=3.93738 validloss=22.04650 accuracy_score=0.74779 \n",
      "  8 2.47s trainloss=5.14490 validloss=20.33860 accuracy_score=0.79056 \n",
      "  9 2.30s trainloss=2.57084 validloss=12.69259 accuracy_score=0.76844 \n",
      " 10 2.30s trainloss=1.60991 validloss=11.93460 accuracy_score=0.81711 \n",
      " 11 2.29s trainloss=1.11280 validloss=14.22430 accuracy_score=0.80088 \n",
      " 12 2.29s trainloss=0.71232 validloss=11.64689 accuracy_score=0.81563 \n",
      " 13 2.30s trainloss=1.69398 validloss=18.63969 accuracy_score=0.80973 \n",
      " 14 2.29s trainloss=4.18469 validloss=19.60517 accuracy_score=0.79941 \n",
      " 15 2.30s trainloss=2.62415 validloss=15.83345 accuracy_score=0.80826 \n",
      " 16 2.29s trainloss=1.06299 validloss=12.13095 accuracy_score=0.82596 \n",
      " 17 2.30s trainloss=0.87286 validloss=13.33956 accuracy_score=0.82153 \n",
      " 18 2.30s trainloss=0.71190 validloss=10.41899 accuracy_score=0.83186 \n",
      " 19 2.30s trainloss=0.66898 validloss=11.20728 accuracy_score=0.82743 \n",
      " 20 2.30s trainloss=0.58533 validloss=10.58440 accuracy_score=0.81416 \n",
      " 21 2.29s trainloss=0.36491 validloss=8.98030 accuracy_score=0.82596 \n",
      " 22 2.30s trainloss=0.34164 validloss=8.92924 accuracy_score=0.82743 \n",
      " 23 2.30s trainloss=0.26479 validloss=8.82539 accuracy_score=0.81858 \n",
      " 24 2.30s trainloss=0.23424 validloss=8.21355 accuracy_score=0.82448 \n",
      " 25 2.31s trainloss=0.20404 validloss=7.49737 accuracy_score=0.83038 \n",
      " 26 2.33s trainloss=1.51199 validloss=11.52265 accuracy_score=0.82743 \n",
      " 27 2.33s trainloss=0.71034 validloss=8.01014 accuracy_score=0.82301 \n",
      " 28 2.29s trainloss=0.30564 validloss=7.28402 accuracy_score=0.82891 \n",
      " 29 2.29s trainloss=0.54737 validloss=9.51561 accuracy_score=0.82891 \n",
      " 30 2.28s trainloss=0.33196 validloss=8.80376 accuracy_score=0.82743 \n",
      " 31 2.29s trainloss=0.23635 validloss=7.97598 accuracy_score=0.81563 \n",
      " 32 2.28s trainloss=0.21298 validloss=7.13850 accuracy_score=0.82153 \n",
      " 33 2.29s trainloss=0.16732 validloss=6.39488 accuracy_score=0.81858 \n",
      " 34 2.29s trainloss=0.15753 validloss=6.26899 accuracy_score=0.81563 \n",
      " 35 2.29s trainloss=0.14984 validloss=5.97948 accuracy_score=0.82301 \n",
      " 36 2.29s trainloss=0.14295 validloss=5.49847 accuracy_score=0.82006 \n",
      " 37 2.29s trainloss=0.17052 validloss=5.53453 accuracy_score=0.83038 \n",
      " 38 2.29s trainloss=0.15322 validloss=5.56689 accuracy_score=0.83038 \n",
      " 39 2.29s trainloss=0.13435 validloss=4.86698 accuracy_score=0.82891 \n",
      " 40 2.30s trainloss=0.12757 validloss=4.67535 accuracy_score=0.83186 \n",
      " 41 2.31s trainloss=0.12332 validloss=4.48750 accuracy_score=0.83776 \n",
      " 42 2.30s trainloss=0.11442 validloss=4.37368 accuracy_score=0.84366 \n",
      " 43 2.48s trainloss=0.11130 validloss=4.40011 accuracy_score=0.83776 \n",
      " 44 2.31s trainloss=0.11139 validloss=4.38342 accuracy_score=0.84218 \n",
      " 45 2.31s trainloss=0.10601 validloss=4.37395 accuracy_score=0.84071 \n",
      " 46 2.31s trainloss=0.10018 validloss=4.25342 accuracy_score=0.84661 \n",
      " 47 2.30s trainloss=0.09739 validloss=4.47480 accuracy_score=0.84661 \n",
      " 48 2.29s trainloss=0.09709 validloss=4.66849 accuracy_score=0.84071 \n",
      " 49 2.30s trainloss=0.09687 validloss=4.55017 accuracy_score=0.85251 \n",
      " 50 2.30s trainloss=0.11288 validloss=5.10697 accuracy_score=0.84808 \n",
      " 51 2.30s trainloss=0.09354 validloss=5.20231 accuracy_score=0.84071 \n",
      " 52 2.30s trainloss=0.08594 validloss=5.13849 accuracy_score=0.84513 \n",
      " 53 2.30s trainloss=0.08939 validloss=5.49888 accuracy_score=0.83776 \n",
      " 54 2.30s trainloss=0.10413 validloss=5.39481 accuracy_score=0.83776 \n",
      " 55 2.29s trainloss=0.59408 validloss=8.43240 accuracy_score=0.84218 \n",
      " 56 2.30s trainloss=0.39210 validloss=6.74457 accuracy_score=0.84071 \n",
      " 57 2.30s trainloss=0.14503 validloss=6.56534 accuracy_score=0.84661 \n",
      " 58 2.28s trainloss=0.11348 validloss=6.25716 accuracy_score=0.85103 \n",
      " 59 2.30s trainloss=0.13607 validloss=7.27280 accuracy_score=0.84661 \n",
      " 60 2.30s trainloss=0.14777 validloss=6.47875 accuracy_score=0.85251 \n",
      " 61 2.30s trainloss=0.11039 validloss=6.38657 accuracy_score=0.85251 \n",
      " 62 2.31s trainloss=0.14172 validloss=6.47968 accuracy_score=0.85693 \n",
      " 63 2.36s trainloss=0.14167 validloss=6.29174 accuracy_score=0.84366 \n",
      " 64 2.35s trainloss=0.09652 validloss=6.17005 accuracy_score=0.84956 \n",
      " 65 2.38s trainloss=0.09142 validloss=6.00258 accuracy_score=0.85398 \n",
      " 66 2.33s trainloss=0.08174 validloss=6.27219 accuracy_score=0.84661 \n",
      " 67 2.31s trainloss=0.08030 validloss=6.05506 accuracy_score=0.85251 \n",
      " 68 2.35s trainloss=0.07788 validloss=6.07006 accuracy_score=0.85251 \n",
      " 69 2.35s trainloss=0.07507 validloss=6.01713 accuracy_score=0.84661 \n",
      " 70 2.36s trainloss=0.07274 validloss=6.06616 accuracy_score=0.85251 \n",
      " 71 2.35s trainloss=0.06865 validloss=6.16278 accuracy_score=0.85103 \n",
      " 72 2.35s trainloss=0.06884 validloss=6.67072 accuracy_score=0.84513 \n",
      " 73 2.36s trainloss=0.10807 validloss=6.91672 accuracy_score=0.84513 \n",
      " 74 2.36s trainloss=0.13415 validloss=6.86005 accuracy_score=0.85693 \n",
      " 75 2.36s trainloss=0.11187 validloss=6.53976 accuracy_score=0.85546 \n",
      " 76 2.36s trainloss=0.07643 validloss=6.67653 accuracy_score=0.85546 \n",
      " 77 2.36s trainloss=0.07256 validloss=6.92253 accuracy_score=0.85546 \n",
      " 78 2.36s trainloss=0.06864 validloss=6.75196 accuracy_score=0.85251 \n",
      " 79 2.36s trainloss=0.06603 validloss=6.84828 accuracy_score=0.85693 \n",
      " 80 2.36s trainloss=0.06872 validloss=6.98576 accuracy_score=0.85546 \n",
      " 81 2.37s trainloss=0.08351 validloss=6.72949 accuracy_score=0.85693 \n",
      " 82 2.36s trainloss=0.06162 validloss=6.93821 accuracy_score=0.85546 \n",
      " 83 2.35s trainloss=0.06353 validloss=7.01417 accuracy_score=0.85841 \n",
      " 84 2.27s trainloss=0.05790 validloss=7.16419 accuracy_score=0.85546 \n",
      " 85 2.07s trainloss=0.05879 validloss=7.07459 accuracy_score=0.83038 \n",
      " 86 2.04s trainloss=0.06925 validloss=7.11770 accuracy_score=0.85841 \n",
      " 87 2.03s trainloss=0.07022 validloss=7.19676 accuracy_score=0.85546 \n",
      " 88 2.04s trainloss=0.05885 validloss=7.29503 accuracy_score=0.84956 \n",
      " 89 2.03s trainloss=0.06049 validloss=7.49494 accuracy_score=0.85251 \n",
      " 90 2.04s trainloss=0.06170 validloss=7.37371 accuracy_score=0.82743 \n",
      " 91 2.03s trainloss=0.06192 validloss=7.47374 accuracy_score=0.85103 \n",
      " 92 2.04s trainloss=0.05318 validloss=7.58101 accuracy_score=0.85103 \n",
      " 93 2.04s trainloss=0.06012 validloss=7.54486 accuracy_score=0.85251 \n",
      " 94 2.04s trainloss=0.06651 validloss=7.76611 accuracy_score=0.84513 \n",
      " 95 2.03s trainloss=0.05641 validloss=7.44714 accuracy_score=0.84956 \n",
      " 96 2.04s trainloss=0.05064 validloss=7.51240 accuracy_score=0.85103 \n",
      " 97 2.05s trainloss=0.05060 validloss=7.60061 accuracy_score=0.85103 \n",
      " 98 2.04s trainloss=0.05257 validloss=7.76535 accuracy_score=0.85103 \n",
      " 99 2.05s trainloss=0.05162 validloss=7.98003 accuracy_score=0.85251 \n",
      "100 2.04s trainloss=0.04586 validloss=8.03283 accuracy_score=0.84071 \n"
     ]
    }
   ],
   "source": [
    "cnn1_2_model = cnn1Layer2(4)\n",
    "cnn1_2_trainer = trainer(cnn1_2_model, nn.CrossEntropyLoss(), train_loader, valid_loader, test_loader, metrics=metrics, gpu=True)\n",
    "cnn1_2_trainer.train(100, lr=[0.01, 0.001])"
   ]
  },
  {
   "cell_type": "code",
   "execution_count": 91,
   "id": "c0b5ebf2",
   "metadata": {},
   "outputs": [
    {
     "data": {
      "image/png": "[encoded data removed]",
      "text/plain": [
       "<Figure size 432x288 with 1 Axes>"
      ]
     },
     "metadata": {
      "needs_background": "light"
     },
     "output_type": "display_data"
    }
   ],
   "source": [
    "cnn1_2_trainer.learning_curve()"
   ]
  },
  {
   "cell_type": "code",
   "execution_count": 92,
   "id": "795b0d8c",
   "metadata": {},
   "outputs": [
    {
     "data": {
      "image/png": "[encoded data removed]",
      "text/plain": [
       "<Figure size 432x288 with 1 Axes>"
      ]
     },
     "metadata": {
      "needs_background": "light"
     },
     "output_type": "display_data"
    }
   ],
   "source": [
    "cnn1_2_trainer.learning_curve(y='accuracy_score')"
   ]
  },
  {
   "cell_type": "code",
   "execution_count": 93,
   "id": "c2a3af50",
   "metadata": {},
   "outputs": [
    {
     "name": "stdout",
     "output_type": "stream",
     "text": [
      "     accuracy_score  epoch  prec_chewing  recall_chewing  recall_other\n",
      "165        0.858407   83.0      0.844371        0.838816      0.874332\n",
      "171        0.858407   86.0      0.846667        0.835526      0.877005\n",
      "147        0.856932   74.0      0.865724        0.805921      0.898396\n",
      "123        0.856932   62.0      0.863158        0.809211      0.895722\n",
      "157        0.856932   79.0      0.841584        0.838816      0.871658\n",
      "..              ...    ...           ...             ...           ...\n",
      "13         0.747788    7.0      0.884393        0.503289      0.946524\n",
      "7          0.735988    4.0      0.827225        0.519737      0.911765\n",
      "5          0.678466    3.0      0.835938        0.351974      0.943850\n",
      "3          0.666667    2.0      0.791045        0.348684      0.925134\n",
      "1          0.607670    1.0      0.702128        0.217105      0.925134\n",
      "\n",
      "[100 rows x 5 columns]\n"
     ]
    }
   ],
   "source": [
    "sort_epochs(cnn1_2_trainer.evaluator, 'accuracy_score')"
   ]
  },
  {
   "cell_type": "code",
   "execution_count": 94,
   "id": "5d3b4381",
   "metadata": {},
   "outputs": [
    {
     "data": {
      "image/png": "[encoded data removed]",
      "text/plain": [
       "<Figure size 432x288 with 2 Axes>"
      ]
     },
     "metadata": {
      "needs_background": "light"
     },
     "output_type": "display_data"
    }
   ],
   "source": [
    "test_X, test_y = next(iter(test_loader))\n",
    "test_X = test_X.cuda()\n",
    "test_y = test_y.cuda()\n",
    "cnn1_2_model = cnn1_2_model.cuda()\n",
    "\n",
    "with torch.no_grad():\n",
    "        pred_y = cnn1_2_model(test_X)\n",
    "        pred_y = cnn1_2_model.post_forward(pred_y)\n",
    "        \n",
    "make_confusion_matrix(test_y.cpu(), pred_y.cpu())"
   ]
  },
  {
   "cell_type": "markdown",
   "id": "7847085e",
   "metadata": {},
   "source": [
    "# 2conv1lin"
   ]
  },
  {
   "cell_type": "code",
   "execution_count": 95,
   "id": "67f524c3",
   "metadata": {},
   "outputs": [],
   "source": [
    "class cnn2Layer1(nn.Module):\n",
    "    def __init__(self, out_channels):\n",
    "        super().__init__()\n",
    "        self.out_channels = out_channels\n",
    "        self.layer1 = nn.Sequential(\n",
    "            nn.Conv2d(1, self.out_channels, kernel_size=3, stride=1, padding=1),\n",
    "            nn.ReLU(),\n",
    "            nn.MaxPool2d(kernel_size=2, stride=2))\n",
    "        self.layer2 = nn.Sequential(\n",
    "            nn.Conv2d(self.out_channels, 2*self.out_channels, kernel_size=3, stride=1, padding=1),\n",
    "            nn.ReLU(),\n",
    "            nn.MaxPool2d(kernel_size=2, stride=2)\n",
    "            )\n",
    "        self.w1 = nn.Linear(2*self.out_channels*8*50 , 2)\n",
    "        \n",
    "    def forward(self, X):\n",
    "        X = self.layer1(X)\n",
    "        X = self.layer2(X)\n",
    "        X = X.reshape(-1, 2*self.out_channels*8*50)\n",
    "        X = self.w1(X)\n",
    "        return X\n",
    "        \n",
    "    def post_forward(self, y):\n",
    "        return torch.argmax(y, axis=1)"
   ]
  },
  {
   "cell_type": "code",
   "execution_count": 96,
   "id": "21c09f23",
   "metadata": {},
   "outputs": [
    {
     "data": {
      "application/vnd.jupyter.widget-view+json": {
       "model_id": "",
       "version_major": 2,
       "version_minor": 0
      },
      "text/plain": [
       "Total:   0%|          | 0/345600 [00:00<?, ?it/s]"
      ]
     },
     "metadata": {},
     "output_type": "display_data"
    },
    {
     "name": "stdout",
     "output_type": "stream",
     "text": [
      "  1 2.04s trainloss=23.53371 validloss=10.79652 accuracy_score=0.75811 \n",
      "  2 2.04s trainloss=5.04971 validloss=7.57817 accuracy_score=0.79794 \n",
      "  3 2.04s trainloss=1.89043 validloss=5.72079 accuracy_score=0.82006 \n",
      "  4 2.05s trainloss=1.14902 validloss=4.74243 accuracy_score=0.84956 \n",
      "  5 2.05s trainloss=0.72156 validloss=3.83475 accuracy_score=0.83333 \n",
      "  6 2.04s trainloss=0.52227 validloss=3.75268 accuracy_score=0.85546 \n",
      "  7 2.04s trainloss=0.38597 validloss=3.65273 accuracy_score=0.84956 \n",
      "  8 2.04s trainloss=0.27446 validloss=3.68437 accuracy_score=0.84956 \n",
      "  9 2.04s trainloss=0.23708 validloss=2.97286 accuracy_score=0.84513 \n",
      " 10 2.03s trainloss=0.23911 validloss=3.34845 accuracy_score=0.84956 \n",
      " 11 2.04s trainloss=0.20945 validloss=2.79961 accuracy_score=0.83333 \n",
      " 12 2.21s trainloss=0.21898 validloss=3.06216 accuracy_score=0.85103 \n",
      " 13 2.04s trainloss=0.18111 validloss=3.24667 accuracy_score=0.84218 \n",
      " 14 2.04s trainloss=0.76499 validloss=3.40209 accuracy_score=0.84661 \n",
      " 15 2.04s trainloss=0.26225 validloss=3.03290 accuracy_score=0.84956 \n",
      " 16 2.04s trainloss=0.18915 validloss=2.74943 accuracy_score=0.85103 \n",
      " 17 2.04s trainloss=0.16336 validloss=2.65465 accuracy_score=0.85693 \n",
      " 18 2.07s trainloss=0.14995 validloss=2.61051 accuracy_score=0.85841 \n",
      " 19 2.05s trainloss=0.23470 validloss=2.97905 accuracy_score=0.84366 \n",
      " 20 2.04s trainloss=0.19090 validloss=2.21632 accuracy_score=0.84956 \n",
      " 21 2.07s trainloss=0.15362 validloss=2.13231 accuracy_score=0.85841 \n",
      " 22 2.06s trainloss=0.21613 validloss=2.98596 accuracy_score=0.85546 \n",
      " 23 2.05s trainloss=0.19478 validloss=2.01558 accuracy_score=0.86726 \n",
      " 24 2.04s trainloss=0.14171 validloss=2.19189 accuracy_score=0.85693 \n",
      " 25 2.04s trainloss=0.12844 validloss=2.39052 accuracy_score=0.86136 \n",
      " 26 2.05s trainloss=0.12054 validloss=2.32246 accuracy_score=0.86431 \n",
      " 27 2.04s trainloss=0.11539 validloss=2.36223 accuracy_score=0.86578 \n",
      " 28 2.09s trainloss=0.11058 validloss=2.11441 accuracy_score=0.86726 \n",
      " 29 2.05s trainloss=0.11468 validloss=2.52416 accuracy_score=0.85693 \n",
      " 30 2.10s trainloss=0.10910 validloss=2.24897 accuracy_score=0.86431 \n",
      " 31 2.10s trainloss=0.10357 validloss=2.42874 accuracy_score=0.85988 \n",
      " 32 2.09s trainloss=0.10254 validloss=2.25817 accuracy_score=0.86578 \n",
      " 33 2.10s trainloss=0.09750 validloss=2.22545 accuracy_score=0.86431 \n",
      " 34 2.09s trainloss=0.09683 validloss=2.39303 accuracy_score=0.86283 \n",
      " 35 2.09s trainloss=0.09452 validloss=2.40633 accuracy_score=0.86431 \n",
      " 36 2.13s trainloss=0.46475 validloss=3.13826 accuracy_score=0.86136 \n",
      " 37 2.19s trainloss=0.72228 validloss=3.27299 accuracy_score=0.84661 \n",
      " 38 2.37s trainloss=0.43563 validloss=2.35311 accuracy_score=0.85103 \n",
      " 39 2.40s trainloss=0.23768 validloss=2.22317 accuracy_score=0.86873 \n",
      " 40 2.39s trainloss=0.19506 validloss=2.37974 accuracy_score=0.85841 \n",
      " 41 2.39s trainloss=0.13500 validloss=2.37802 accuracy_score=0.86283 \n",
      " 42 2.38s trainloss=0.14378 validloss=2.62684 accuracy_score=0.86726 \n",
      " 43 2.36s trainloss=0.22509 validloss=2.07593 accuracy_score=0.85398 \n",
      " 44 2.39s trainloss=0.14884 validloss=2.49192 accuracy_score=0.86283 \n",
      " 45 2.44s trainloss=0.11888 validloss=2.63720 accuracy_score=0.85988 \n",
      " 46 2.42s trainloss=0.10606 validloss=2.80423 accuracy_score=0.85398 \n",
      " 47 2.40s trainloss=0.09904 validloss=2.93155 accuracy_score=0.85103 \n",
      " 48 2.41s trainloss=0.09460 validloss=2.90462 accuracy_score=0.85693 \n",
      " 49 2.40s trainloss=0.09215 validloss=2.92706 accuracy_score=0.85693 \n",
      " 50 2.39s trainloss=0.08869 validloss=2.99547 accuracy_score=0.85693 \n",
      " 51 2.39s trainloss=0.08517 validloss=2.99127 accuracy_score=0.85841 \n",
      " 52 2.39s trainloss=0.08320 validloss=2.77826 accuracy_score=0.86283 \n",
      " 53 2.40s trainloss=0.08200 validloss=2.83316 accuracy_score=0.86136 \n",
      " 54 2.40s trainloss=0.07931 validloss=2.99351 accuracy_score=0.86283 \n",
      " 55 2.40s trainloss=0.07740 validloss=3.10268 accuracy_score=0.85988 \n",
      " 56 2.39s trainloss=0.10012 validloss=2.17506 accuracy_score=0.87021 \n",
      " 57 2.39s trainloss=0.08529 validloss=2.29758 accuracy_score=0.87021 \n",
      " 58 2.40s trainloss=0.08290 validloss=2.30071 accuracy_score=0.87316 \n",
      " 59 2.40s trainloss=0.08446 validloss=2.40966 accuracy_score=0.87021 \n",
      " 60 2.41s trainloss=0.07413 validloss=2.70833 accuracy_score=0.87021 \n",
      " 61 2.42s trainloss=0.07227 validloss=2.77712 accuracy_score=0.87611 \n",
      " 62 2.42s trainloss=0.07029 validloss=2.69339 accuracy_score=0.87463 \n",
      " 63 2.42s trainloss=0.06953 validloss=2.67332 accuracy_score=0.87463 \n",
      " 64 2.40s trainloss=0.15307 validloss=2.63960 accuracy_score=0.87021 \n",
      " 65 2.41s trainloss=0.09593 validloss=2.82905 accuracy_score=0.86283 \n",
      " 66 2.42s trainloss=0.07987 validloss=2.98949 accuracy_score=0.86136 \n",
      " 67 2.41s trainloss=0.07361 validloss=3.03412 accuracy_score=0.86431 \n",
      " 68 2.41s trainloss=0.06992 validloss=2.98220 accuracy_score=0.86283 \n",
      " 69 2.40s trainloss=0.06806 validloss=3.09322 accuracy_score=0.86136 \n",
      " 70 2.41s trainloss=0.06655 validloss=3.11336 accuracy_score=0.87168 \n",
      " 71 2.40s trainloss=0.06642 validloss=2.76800 accuracy_score=0.87316 \n",
      " 72 2.40s trainloss=0.06353 validloss=3.08018 accuracy_score=0.86726 \n",
      " 73 2.40s trainloss=0.06344 validloss=2.99798 accuracy_score=0.86873 \n",
      " 74 2.40s trainloss=0.06043 validloss=3.33505 accuracy_score=0.86283 \n",
      " 75 2.40s trainloss=0.06016 validloss=3.16954 accuracy_score=0.86283 \n",
      " 76 2.42s trainloss=0.05843 validloss=3.14058 accuracy_score=0.86578 \n",
      " 77 2.35s trainloss=0.06082 validloss=2.70817 accuracy_score=0.87906 \n",
      " 78 2.35s trainloss=0.05953 validloss=3.07462 accuracy_score=0.87463 \n",
      " 79 2.35s trainloss=0.05748 validloss=3.19775 accuracy_score=0.87168 \n",
      " 80 2.35s trainloss=0.05540 validloss=3.20866 accuracy_score=0.87168 \n",
      " 81 2.35s trainloss=0.05350 validloss=3.16673 accuracy_score=0.87021 \n",
      " 82 2.33s trainloss=0.07197 validloss=2.79373 accuracy_score=0.86136 \n",
      " 83 2.36s trainloss=0.12111 validloss=2.40440 accuracy_score=0.87168 \n",
      " 84 2.36s trainloss=0.25507 validloss=2.20614 accuracy_score=0.87168 \n",
      " 85 2.36s trainloss=0.52875 validloss=3.64105 accuracy_score=0.83481 \n",
      " 86 2.36s trainloss=0.44350 validloss=2.17281 accuracy_score=0.86283 \n",
      " 87 2.37s trainloss=0.26723 validloss=4.17301 accuracy_score=0.85103 \n",
      " 88 2.35s trainloss=0.21512 validloss=2.65438 accuracy_score=0.87611 \n",
      " 89 2.36s trainloss=0.11328 validloss=2.64658 accuracy_score=0.88643 \n",
      " 90 2.36s trainloss=0.09911 validloss=3.09198 accuracy_score=0.88201 \n",
      " 91 2.10s trainloss=0.09986 validloss=2.34580 accuracy_score=0.88496 \n",
      " 92 2.08s trainloss=0.15252 validloss=2.27814 accuracy_score=0.87758 \n",
      " 93 2.08s trainloss=0.11135 validloss=2.49233 accuracy_score=0.88201 \n",
      " 94 2.26s trainloss=0.08639 validloss=2.76198 accuracy_score=0.88053 \n",
      " 95 2.08s trainloss=0.07748 validloss=2.98587 accuracy_score=0.87021 \n",
      " 96 2.08s trainloss=0.32308 validloss=2.64573 accuracy_score=0.85988 \n",
      " 97 2.07s trainloss=0.19596 validloss=2.84522 accuracy_score=0.87021 \n",
      " 98 2.08s trainloss=0.10640 validloss=2.50860 accuracy_score=0.87463 \n",
      " 99 2.08s trainloss=0.11697 validloss=2.77823 accuracy_score=0.87758 \n",
      "100 2.08s trainloss=0.19375 validloss=2.39999 accuracy_score=0.87611 \n"
     ]
    }
   ],
   "source": [
    "cnn2_model = cnn2Layer1(4)\n",
    "cnn2_trainer = trainer(cnn2_model, nn.CrossEntropyLoss(), train_loader, valid_loader, test_loader, metrics=metrics, gpu=True)\n",
    "cnn2_trainer.train(100, lr=[0.01, 0.001])"
   ]
  },
  {
   "cell_type": "code",
   "execution_count": 97,
   "id": "22a88908",
   "metadata": {},
   "outputs": [
    {
     "data": {
      "image/png": "[encoded data removed]",
      "text/plain": [
       "<Figure size 432x288 with 1 Axes>"
      ]
     },
     "metadata": {
      "needs_background": "light"
     },
     "output_type": "display_data"
    }
   ],
   "source": [
    "cnn2_trainer.learning_curve()"
   ]
  },
  {
   "cell_type": "code",
   "execution_count": 98,
   "id": "83b903d0",
   "metadata": {},
   "outputs": [
    {
     "data": {
      "image/png": "[encoded data removed]",
      "text/plain": [
       "<Figure size 432x288 with 1 Axes>"
      ]
     },
     "metadata": {
      "needs_background": "light"
     },
     "output_type": "display_data"
    }
   ],
   "source": [
    "cnn2_trainer.learning_curve(y='accuracy_score')"
   ]
  },
  {
   "cell_type": "code",
   "execution_count": 99,
   "id": "88a86b40",
   "metadata": {},
   "outputs": [
    {
     "name": "stdout",
     "output_type": "stream",
     "text": [
      "     accuracy_score  epoch  prec_chewing  recall_chewing  recall_other\n",
      "177        0.886431   89.0      0.853583        0.901316      0.874332\n",
      "181        0.884956   91.0      0.866883        0.878289      0.890374\n",
      "179        0.882006   90.0      0.843558        0.904605      0.863636\n",
      "185        0.882006   93.0      0.854430        0.888158      0.877005\n",
      "187        0.880531   94.0      0.836858        0.911184      0.855615\n",
      "..              ...    ...           ...             ...           ...\n",
      "21         0.833333   11.0      0.805112        0.828947      0.836898\n",
      "9          0.833333    5.0      0.778426        0.878289      0.796791\n",
      "5          0.820059    3.0      0.774096        0.845395      0.799465\n",
      "3          0.797935    2.0      0.753799        0.815789      0.783422\n",
      "1          0.758112    1.0      0.827103        0.582237      0.901070\n",
      "\n",
      "[100 rows x 5 columns]\n"
     ]
    }
   ],
   "source": [
    "sort_epochs(cnn2_trainer.evaluator, 'accuracy_score')"
   ]
  },
  {
   "cell_type": "code",
   "execution_count": 100,
   "id": "8e29b5dc",
   "metadata": {},
   "outputs": [
    {
     "data": {
      "image/png": "[encoded data removed]",
      "text/plain": [
       "<Figure size 432x288 with 2 Axes>"
      ]
     },
     "metadata": {
      "needs_background": "light"
     },
     "output_type": "display_data"
    }
   ],
   "source": [
    "test_X, test_y = next(iter(test_loader))\n",
    "test_X = test_X.cuda()\n",
    "test_y = test_y.cuda()\n",
    "cnn2_model = cnn2_model.cuda()\n",
    "\n",
    "with torch.no_grad():\n",
    "        pred_y = cnn2_model(test_X)\n",
    "        pred_y = cnn2_model.post_forward(pred_y)\n",
    "        \n",
    "make_confusion_matrix(test_y.cpu(), pred_y.cpu())"
   ]
  },
  {
   "cell_type": "markdown",
   "id": "0d339650",
   "metadata": {},
   "source": [
    "# 2conv2lin"
   ]
  },
  {
   "cell_type": "code",
   "execution_count": 101,
   "id": "4998232c",
   "metadata": {},
   "outputs": [],
   "source": [
    "class cnn2Layer2(nn.Module):\n",
    "    def __init__(self, out_channels):\n",
    "        super().__init__()\n",
    "        self.out_channels = out_channels\n",
    "        self.layer1 = nn.Sequential(\n",
    "            nn.Conv2d(1, self.out_channels, kernel_size=3, stride=1, padding=1),\n",
    "            nn.ReLU(),\n",
    "            nn.MaxPool2d(kernel_size=2, stride=2))\n",
    "        self.layer2 = nn.Sequential(\n",
    "            nn.Conv2d(self.out_channels, 2*self.out_channels, kernel_size=3, stride=1, padding=1),\n",
    "            nn.ReLU(),\n",
    "            nn.MaxPool2d(kernel_size=2, stride=2)\n",
    "            )\n",
    "        self.w1 = nn.Linear(2*self.out_channels*8*50 , 100)\n",
    "        self.w2 = nn.Linear(100, 2)\n",
    "        \n",
    "    def forward(self, X):\n",
    "        X = self.layer1(X)\n",
    "        X = self.layer2(X)\n",
    "        X = X.reshape(-1, 2*self.out_channels*8*50)\n",
    "        X = self.w1(X)\n",
    "        X = self.w2(X)\n",
    "        return X\n",
    "        \n",
    "    def post_forward(self, y):\n",
    "        return torch.argmax(y, axis=1)"
   ]
  },
  {
   "cell_type": "code",
   "execution_count": 102,
   "id": "8b68ce0a",
   "metadata": {},
   "outputs": [
    {
     "data": {
      "application/vnd.jupyter.widget-view+json": {
       "model_id": "96a70fe7196b4a368eb586859ce63c72",
       "version_major": 2,
       "version_minor": 0
      },
      "text/plain": [
       "Total:   0%|          | 0/345600 [00:00<?, ?it/s]"
      ]
     },
     "metadata": {},
     "output_type": "display_data"
    },
    {
     "name": "stdout",
     "output_type": "stream",
     "text": [
      "  1 2.09s trainloss=43.00159 validloss=8.64678 accuracy_score=0.75516 \n",
      "  2 2.09s trainloss=2.91100 validloss=4.14914 accuracy_score=0.77876 \n",
      "  3 2.09s trainloss=1.99780 validloss=4.85274 accuracy_score=0.81711 \n",
      "  4 2.07s trainloss=1.02504 validloss=3.41142 accuracy_score=0.82448 \n",
      "  5 2.02s trainloss=0.63968 validloss=2.72155 accuracy_score=0.84218 \n",
      "  6 2.07s trainloss=0.46484 validloss=2.48064 accuracy_score=0.84808 \n",
      "  7 2.07s trainloss=0.37773 validloss=2.24245 accuracy_score=0.84956 \n",
      "  8 2.08s trainloss=0.28039 validloss=2.62893 accuracy_score=0.85546 \n",
      "  9 2.11s trainloss=0.39203 validloss=3.39233 accuracy_score=0.83481 \n",
      " 10 2.08s trainloss=0.52320 validloss=2.87948 accuracy_score=0.84808 \n",
      " 11 2.07s trainloss=0.30834 validloss=2.13190 accuracy_score=0.86873 \n",
      " 12 2.09s trainloss=0.28618 validloss=2.40725 accuracy_score=0.87463 \n",
      " 13 2.07s trainloss=0.25975 validloss=2.34990 accuracy_score=0.86578 \n",
      " 14 2.07s trainloss=0.19498 validloss=2.24004 accuracy_score=0.87316 \n",
      " 15 2.07s trainloss=0.16715 validloss=2.13585 accuracy_score=0.87611 \n",
      " 16 2.07s trainloss=0.15740 validloss=2.16287 accuracy_score=0.87463 \n",
      " 17 2.06s trainloss=0.15133 validloss=2.32446 accuracy_score=0.87463 \n",
      " 18 2.09s trainloss=0.14752 validloss=2.34632 accuracy_score=0.87316 \n",
      " 19 2.11s trainloss=0.34845 validloss=2.33362 accuracy_score=0.85988 \n",
      " 20 2.11s trainloss=0.38015 validloss=2.47529 accuracy_score=0.83038 \n",
      " 21 2.11s trainloss=0.64047 validloss=2.08128 accuracy_score=0.86136 \n",
      " 22 2.11s trainloss=0.32431 validloss=2.26647 accuracy_score=0.86578 \n",
      " 23 2.10s trainloss=0.24795 validloss=1.99217 accuracy_score=0.87758 \n",
      " 24 2.10s trainloss=0.16833 validloss=2.03486 accuracy_score=0.87168 \n",
      " 25 2.11s trainloss=0.15511 validloss=1.85688 accuracy_score=0.87316 \n",
      " 26 2.15s trainloss=0.14492 validloss=1.88446 accuracy_score=0.87168 \n",
      " 27 2.18s trainloss=0.13956 validloss=1.82813 accuracy_score=0.87611 \n",
      " 28 2.13s trainloss=0.13454 validloss=1.84733 accuracy_score=0.87463 \n",
      " 29 2.12s trainloss=0.13024 validloss=1.87980 accuracy_score=0.87463 \n",
      " 30 2.24s trainloss=0.12588 validloss=1.87443 accuracy_score=0.87758 \n",
      " 31 2.13s trainloss=0.12188 validloss=1.91571 accuracy_score=0.87758 \n",
      " 32 2.13s trainloss=0.11904 validloss=1.96569 accuracy_score=0.87316 \n",
      " 33 2.15s trainloss=0.11532 validloss=2.01922 accuracy_score=0.86726 \n",
      " 34 2.14s trainloss=0.11218 validloss=2.02742 accuracy_score=0.86873 \n",
      " 35 2.13s trainloss=0.10850 validloss=2.07988 accuracy_score=0.87168 \n",
      " 36 2.13s trainloss=0.10562 validloss=2.14636 accuracy_score=0.87316 \n",
      " 37 2.18s trainloss=0.10271 validloss=2.22661 accuracy_score=0.87168 \n",
      " 38 2.11s trainloss=0.09962 validloss=2.24816 accuracy_score=0.87168 \n",
      " 39 2.12s trainloss=0.09712 validloss=2.28804 accuracy_score=0.86873 \n",
      " 40 2.13s trainloss=0.09561 validloss=2.34601 accuracy_score=0.87316 \n",
      " 41 2.13s trainloss=0.09443 validloss=2.43403 accuracy_score=0.86431 \n",
      " 42 2.13s trainloss=0.20869 validloss=2.64913 accuracy_score=0.86136 \n",
      " 43 2.13s trainloss=0.21303 validloss=2.56066 accuracy_score=0.86726 \n",
      " 44 2.15s trainloss=0.15533 validloss=2.67049 accuracy_score=0.86873 \n",
      " 45 2.13s trainloss=0.11697 validloss=2.47492 accuracy_score=0.86873 \n",
      " 46 2.13s trainloss=0.10593 validloss=2.53399 accuracy_score=0.87021 \n",
      " 47 2.14s trainloss=0.09924 validloss=2.54300 accuracy_score=0.86726 \n",
      " 48 2.13s trainloss=0.09544 validloss=2.74610 accuracy_score=0.86431 \n",
      " 49 2.16s trainloss=0.09121 validloss=2.74448 accuracy_score=0.86578 \n",
      " 50 2.13s trainloss=0.08734 validloss=2.79058 accuracy_score=0.86283 \n",
      " 51 2.13s trainloss=0.08534 validloss=2.88194 accuracy_score=0.86431 \n",
      " 52 2.13s trainloss=0.09408 validloss=2.82445 accuracy_score=0.87168 \n",
      " 53 2.13s trainloss=0.08843 validloss=3.15977 accuracy_score=0.86726 \n",
      " 54 2.13s trainloss=0.10477 validloss=3.40685 accuracy_score=0.87021 \n",
      " 55 2.14s trainloss=0.12285 validloss=3.48490 accuracy_score=0.87758 \n",
      " 56 2.13s trainloss=0.09026 validloss=3.28101 accuracy_score=0.87906 \n",
      " 57 2.14s trainloss=0.07993 validloss=3.46830 accuracy_score=0.86726 \n",
      " 58 2.13s trainloss=0.09485 validloss=3.62802 accuracy_score=0.85988 \n",
      " 59 2.13s trainloss=0.14760 validloss=3.22281 accuracy_score=0.87906 \n",
      " 60 2.12s trainloss=0.16842 validloss=3.26301 accuracy_score=0.87758 \n",
      " 61 2.12s trainloss=0.11616 validloss=3.72818 accuracy_score=0.86726 \n",
      " 62 2.12s trainloss=0.10950 validloss=3.22894 accuracy_score=0.87021 \n",
      " 63 2.09s trainloss=0.08868 validloss=3.00650 accuracy_score=0.87168 \n",
      " 64 2.27s trainloss=0.34246 validloss=2.61480 accuracy_score=0.88348 \n",
      " 65 2.06s trainloss=0.31295 validloss=1.93646 accuracy_score=0.88201 \n",
      " 66 2.06s trainloss=0.17160 validloss=1.99791 accuracy_score=0.88791 \n",
      " 67 2.07s trainloss=0.11111 validloss=2.26720 accuracy_score=0.89233 \n",
      " 68 2.10s trainloss=0.09307 validloss=2.27323 accuracy_score=0.89086 \n",
      " 69 2.18s trainloss=0.08653 validloss=2.44229 accuracy_score=0.88938 \n",
      " 70 2.03s trainloss=0.08237 validloss=2.53446 accuracy_score=0.88348 \n",
      " 71 2.08s trainloss=0.07881 validloss=2.66088 accuracy_score=0.88201 \n",
      " 72 2.08s trainloss=0.07480 validloss=2.86884 accuracy_score=0.88496 \n",
      " 73 2.72s trainloss=0.07263 validloss=3.00713 accuracy_score=0.88938 \n",
      " 74 3.32s trainloss=0.06927 validloss=3.17658 accuracy_score=0.88938 \n",
      " 75 3.28s trainloss=0.06542 validloss=3.39138 accuracy_score=0.88643 \n",
      " 76 3.20s trainloss=0.06408 validloss=3.50445 accuracy_score=0.88496 \n",
      " 77 3.27s trainloss=0.06087 validloss=3.71261 accuracy_score=0.88496 \n",
      " 78 3.34s trainloss=0.05951 validloss=3.94217 accuracy_score=0.88496 \n",
      " 79 3.44s trainloss=0.06434 validloss=3.85261 accuracy_score=0.88938 \n",
      " 80 3.42s trainloss=0.05830 validloss=4.04819 accuracy_score=0.88496 \n",
      " 81 3.35s trainloss=0.05589 validloss=4.20029 accuracy_score=0.88791 \n",
      " 82 3.07s trainloss=0.05753 validloss=3.61913 accuracy_score=0.87906 \n",
      " 83 3.37s trainloss=0.20650 validloss=3.67890 accuracy_score=0.88348 \n",
      " 84 3.30s trainloss=0.13149 validloss=3.35094 accuracy_score=0.88643 \n",
      " 85 3.39s trainloss=0.28822 validloss=2.67820 accuracy_score=0.89233 \n",
      " 86 3.45s trainloss=0.16310 validloss=2.75623 accuracy_score=0.86726 \n",
      " 87 3.34s trainloss=0.10817 validloss=3.33487 accuracy_score=0.88201 \n",
      " 88 3.28s trainloss=0.07670 validloss=3.36528 accuracy_score=0.88643 \n",
      " 89 3.48s trainloss=0.06832 validloss=3.67191 accuracy_score=0.88201 \n",
      " 90 3.29s trainloss=0.06397 validloss=3.82183 accuracy_score=0.88201 \n",
      " 91 3.22s trainloss=0.06405 validloss=4.05822 accuracy_score=0.88643 \n",
      " 92 3.45s trainloss=0.05927 validloss=4.30383 accuracy_score=0.88496 \n",
      " 93 3.27s trainloss=0.05329 validloss=4.58549 accuracy_score=0.88201 \n",
      " 94 3.47s trainloss=0.05274 validloss=4.70083 accuracy_score=0.88053 \n",
      " 95 3.36s trainloss=0.19145 validloss=3.05770 accuracy_score=0.88938 \n",
      " 96 3.35s trainloss=0.08517 validloss=3.56346 accuracy_score=0.88496 \n",
      " 97 3.37s trainloss=0.06808 validloss=3.68904 accuracy_score=0.87316 \n",
      " 98 3.47s trainloss=0.06371 validloss=3.48953 accuracy_score=0.89086 \n",
      " 99 3.37s trainloss=0.06136 validloss=3.94833 accuracy_score=0.88201 \n",
      "100 3.53s trainloss=0.30770 validloss=2.20650 accuracy_score=0.88791 \n"
     ]
    }
   ],
   "source": [
    "cnn2_2_model = cnn2Layer2(4)\n",
    "cnn2_2_trainer = trainer(cnn2_2_model, nn.CrossEntropyLoss(), train_loader, valid_loader, test_loader, metrics=metrics, gpu=True)\n",
    "cnn2_2_trainer.train(100, lr=[0.01, 0.001])"
   ]
  },
  {
   "cell_type": "code",
   "execution_count": 103,
   "id": "bad713c1",
   "metadata": {},
   "outputs": [
    {
     "data": {
      "image/png": "[encoded data removed]",
      "text/plain": [
       "<Figure size 432x288 with 1 Axes>"
      ]
     },
     "metadata": {
      "needs_background": "light"
     },
     "output_type": "display_data"
    }
   ],
   "source": [
    "cnn2_2_trainer.learning_curve()"
   ]
  },
  {
   "cell_type": "code",
   "execution_count": 104,
   "id": "02be1b61",
   "metadata": {},
   "outputs": [
    {
     "data": {
      "image/png": "[encoded data removed]",
      "text/plain": [
       "<Figure size 432x288 with 1 Axes>"
      ]
     },
     "metadata": {
      "needs_background": "light"
     },
     "output_type": "display_data"
    }
   ],
   "source": [
    "cnn2_2_trainer.learning_curve(y='accuracy_score')"
   ]
  },
  {
   "cell_type": "code",
   "execution_count": 105,
   "id": "41a04e8b",
   "metadata": {},
   "outputs": [
    {
     "name": "stdout",
     "output_type": "stream",
     "text": [
      "     accuracy_score  epoch  prec_chewing  recall_chewing  recall_other\n",
      "169        0.892330   85.0      0.862069        0.904605      0.882353\n",
      "133        0.892330   67.0      0.844776        0.930921      0.860963\n",
      "195        0.890855   98.0      0.861635        0.901316      0.882353\n",
      "135        0.890855   68.0      0.848485        0.921053      0.866310\n",
      "157        0.889381   79.0      0.854489        0.907895      0.874332\n",
      "..              ...    ...           ...             ...           ...\n",
      "39         0.830383   20.0      0.851301        0.753289      0.893048\n",
      "7          0.824484    4.0      0.793651        0.822368      0.826203\n",
      "5          0.817109    3.0      0.781250        0.822368      0.812834\n",
      "3          0.778761    2.0      0.850000        0.615132      0.911765\n",
      "1          0.755162    1.0      0.767442        0.651316      0.839572\n",
      "\n",
      "[100 rows x 5 columns]\n"
     ]
    }
   ],
   "source": [
    "sort_epochs(cnn2_2_trainer.evaluator, 'accuracy_score')"
   ]
  },
  {
   "cell_type": "code",
   "execution_count": 106,
   "id": "11bad0a2",
   "metadata": {},
   "outputs": [
    {
     "data": {
      "image/png": "[encoded data removed]",
      "text/plain": [
       "<Figure size 432x288 with 2 Axes>"
      ]
     },
     "metadata": {
      "needs_background": "light"
     },
     "output_type": "display_data"
    }
   ],
   "source": [
    "test_X, test_y = next(iter(test_loader))\n",
    "test_X = test_X.cuda()\n",
    "test_y = test_y.cuda()\n",
    "cnn2_2_model = cnn2_2_model.cuda()\n",
    "\n",
    "with torch.no_grad():\n",
    "        pred_y = cnn2_2_model(test_X)\n",
    "        pred_y = cnn2_2_model.post_forward(pred_y)\n",
    "        \n",
    "make_confusion_matrix(test_y.cpu(), pred_y.cpu())"
   ]
  },
  {
   "cell_type": "markdown",
   "id": "b62a9455",
   "metadata": {},
   "source": [
    "# ResNet"
   ]
  },
  {
   "cell_type": "code",
   "execution_count": 12,
   "id": "2e9174c9",
   "metadata": {},
   "outputs": [],
   "source": [
    "# nSamples = [1696, 2216, 3920] #of class instances\n",
    "nSamples = [1696, 2216 + 3920] #of class instances\n",
    "normedWeights = [1 - (x / sum(nSamples)) for x in nSamples]\n",
    "normedWeights = torch.FloatTensor(normedWeights).cuda()"
   ]
  },
  {
   "cell_type": "code",
   "execution_count": 13,
   "id": "c6c38344",
   "metadata": {},
   "outputs": [],
   "source": [
    "def post_forward(y):\n",
    "    return torch.argmax(y, axis=1)"
   ]
  },
  {
   "cell_type": "markdown",
   "id": "0de69797",
   "metadata": {},
   "source": [
    "# resnet 18"
   ]
  },
  {
   "cell_type": "code",
   "execution_count": 49,
   "id": "d45d37ff",
   "metadata": {},
   "outputs": [],
   "source": [
    "rn18 = models.resnet18(pretrained=True)\n",
    "rn18.conv1 = nn.Conv2d(1, rn18.conv1.out_channels,\n",
    "              kernel_size=rn18.conv1.kernel_size[0], \n",
    "                      stride=rn18.conv1.stride[0], \n",
    "                      padding=rn18.conv1.padding[0])\n",
    "num_ftrs = rn18.fc.in_features\n",
    "rn18.fc = nn.Linear(num_ftrs, 2)\n",
    "\n",
    "rn18.post_forward = post_forward\n",
    "\n",
    "rn18_trainer = trainer(rn18, nn.CrossEntropyLoss(weight=normedWeights), train_loader, valid_loader, test_loader, metrics=metrics, gpu=True)"
   ]
  },
  {
   "cell_type": "code",
   "execution_count": 53,
   "id": "520e260b",
   "metadata": {},
   "outputs": [
    {
     "data": {
      "application/vnd.jupyter.widget-view+json": {
       "model_id": "",
       "version_major": 2,
       "version_minor": 0
      },
      "text/plain": [
       "Total:   0%|          | 0/345600 [00:00<?, ?it/s]"
      ]
     },
     "metadata": {},
     "output_type": "display_data"
    },
    {
     "name": "stderr",
     "output_type": "stream",
     "text": [
      "/opt/jupyterhub/anaconda/lib/python3.9/site-packages/sklearn/metrics/_classification.py:1308: UndefinedMetricWarning: Precision is ill-defined and being set to 0.0 in labels with no predicted samples. Use `zero_division` parameter to control this behavior.\n",
      "  _warn_prf(average, modifier, msg_start, len(result))\n"
     ]
    },
    {
     "name": "stdout",
     "output_type": "stream",
     "text": [
      " 21 3.03s trainloss=0.30472 validloss=1.78367 accuracy_score=0.50590 \n"
     ]
    },
    {
     "name": "stderr",
     "output_type": "stream",
     "text": [
      "/opt/jupyterhub/anaconda/lib/python3.9/site-packages/sklearn/metrics/_classification.py:1308: UndefinedMetricWarning: Precision is ill-defined and being set to 0.0 in labels with no predicted samples. Use `zero_division` parameter to control this behavior.\n",
      "  _warn_prf(average, modifier, msg_start, len(result))\n"
     ]
    },
    {
     "name": "stdout",
     "output_type": "stream",
     "text": [
      " 22 3.18s trainloss=0.28017 validloss=7.24798 accuracy_score=0.50590 \n",
      " 23 3.01s trainloss=0.30682 validloss=0.61548 accuracy_score=0.87758 \n",
      " 24 3.11s trainloss=0.30130 validloss=1.04644 accuracy_score=0.46608 \n",
      " 25 3.61s trainloss=0.29390 validloss=0.30408 accuracy_score=0.82301 \n",
      " 26 3.52s trainloss=0.29811 validloss=1.36700 accuracy_score=0.55752 \n",
      " 27 3.61s trainloss=0.29018 validloss=0.41567 accuracy_score=0.57965 \n"
     ]
    },
    {
     "name": "stderr",
     "output_type": "stream",
     "text": [
      "/opt/jupyterhub/anaconda/lib/python3.9/site-packages/sklearn/metrics/_classification.py:1308: UndefinedMetricWarning: Precision is ill-defined and being set to 0.0 in labels with no predicted samples. Use `zero_division` parameter to control this behavior.\n",
      "  _warn_prf(average, modifier, msg_start, len(result))\n"
     ]
    },
    {
     "name": "stdout",
     "output_type": "stream",
     "text": [
      " 28 3.94s trainloss=0.29632 validloss=0.81028 accuracy_score=0.50590 \n"
     ]
    },
    {
     "name": "stderr",
     "output_type": "stream",
     "text": [
      "/opt/jupyterhub/anaconda/lib/python3.9/site-packages/sklearn/metrics/_classification.py:1308: UndefinedMetricWarning: Precision is ill-defined and being set to 0.0 in labels with no predicted samples. Use `zero_division` parameter to control this behavior.\n",
      "  _warn_prf(average, modifier, msg_start, len(result))\n"
     ]
    },
    {
     "name": "stdout",
     "output_type": "stream",
     "text": [
      " 29 3.95s trainloss=0.28993 validloss=0.55405 accuracy_score=0.49410 \n"
     ]
    },
    {
     "name": "stderr",
     "output_type": "stream",
     "text": [
      "/opt/jupyterhub/anaconda/lib/python3.9/site-packages/sklearn/metrics/_classification.py:1308: UndefinedMetricWarning: Precision is ill-defined and being set to 0.0 in labels with no predicted samples. Use `zero_division` parameter to control this behavior.\n",
      "  _warn_prf(average, modifier, msg_start, len(result))\n"
     ]
    },
    {
     "name": "stdout",
     "output_type": "stream",
     "text": [
      " 30 3.96s trainloss=0.29171 validloss=2.69780 accuracy_score=0.50590 \n"
     ]
    },
    {
     "name": "stderr",
     "output_type": "stream",
     "text": [
      "/opt/jupyterhub/anaconda/lib/python3.9/site-packages/sklearn/metrics/_classification.py:1308: UndefinedMetricWarning: Precision is ill-defined and being set to 0.0 in labels with no predicted samples. Use `zero_division` parameter to control this behavior.\n",
      "  _warn_prf(average, modifier, msg_start, len(result))\n"
     ]
    },
    {
     "name": "stdout",
     "output_type": "stream",
     "text": [
      " 31 3.96s trainloss=0.30052 validloss=2.35347 accuracy_score=0.50590 \n"
     ]
    },
    {
     "name": "stderr",
     "output_type": "stream",
     "text": [
      "/opt/jupyterhub/anaconda/lib/python3.9/site-packages/sklearn/metrics/_classification.py:1308: UndefinedMetricWarning: Precision is ill-defined and being set to 0.0 in labels with no predicted samples. Use `zero_division` parameter to control this behavior.\n",
      "  _warn_prf(average, modifier, msg_start, len(result))\n"
     ]
    },
    {
     "name": "stdout",
     "output_type": "stream",
     "text": [
      " 32 3.97s trainloss=0.29845 validloss=2.19736 accuracy_score=0.50590 \n",
      " 33 3.95s trainloss=0.29603 validloss=0.57398 accuracy_score=0.71239 \n"
     ]
    },
    {
     "name": "stderr",
     "output_type": "stream",
     "text": [
      "/opt/jupyterhub/anaconda/lib/python3.9/site-packages/sklearn/metrics/_classification.py:1308: UndefinedMetricWarning: Precision is ill-defined and being set to 0.0 in labels with no predicted samples. Use `zero_division` parameter to control this behavior.\n",
      "  _warn_prf(average, modifier, msg_start, len(result))\n"
     ]
    },
    {
     "name": "stdout",
     "output_type": "stream",
     "text": [
      " 34 3.96s trainloss=0.29010 validloss=2.59566 accuracy_score=0.50590 \n"
     ]
    },
    {
     "name": "stderr",
     "output_type": "stream",
     "text": [
      "/opt/jupyterhub/anaconda/lib/python3.9/site-packages/sklearn/metrics/_classification.py:1308: UndefinedMetricWarning: Precision is ill-defined and being set to 0.0 in labels with no predicted samples. Use `zero_division` parameter to control this behavior.\n",
      "  _warn_prf(average, modifier, msg_start, len(result))\n"
     ]
    },
    {
     "name": "stdout",
     "output_type": "stream",
     "text": [
      " 35 3.53s trainloss=0.25985 validloss=6.27977 accuracy_score=0.50590 \n"
     ]
    },
    {
     "name": "stderr",
     "output_type": "stream",
     "text": [
      "/opt/jupyterhub/anaconda/lib/python3.9/site-packages/sklearn/metrics/_classification.py:1308: UndefinedMetricWarning: Precision is ill-defined and being set to 0.0 in labels with no predicted samples. Use `zero_division` parameter to control this behavior.\n",
      "  _warn_prf(average, modifier, msg_start, len(result))\n"
     ]
    },
    {
     "name": "stdout",
     "output_type": "stream",
     "text": [
      " 36 3.49s trainloss=0.27450 validloss=2.98424 accuracy_score=0.50590 \n"
     ]
    },
    {
     "name": "stderr",
     "output_type": "stream",
     "text": [
      "/opt/jupyterhub/anaconda/lib/python3.9/site-packages/sklearn/metrics/_classification.py:1308: UndefinedMetricWarning: Precision is ill-defined and being set to 0.0 in labels with no predicted samples. Use `zero_division` parameter to control this behavior.\n",
      "  _warn_prf(average, modifier, msg_start, len(result))\n"
     ]
    },
    {
     "name": "stdout",
     "output_type": "stream",
     "text": [
      " 37 3.38s trainloss=0.26188 validloss=1.11314 accuracy_score=0.50590 \n"
     ]
    },
    {
     "name": "stderr",
     "output_type": "stream",
     "text": [
      "/opt/jupyterhub/anaconda/lib/python3.9/site-packages/sklearn/metrics/_classification.py:1308: UndefinedMetricWarning: Precision is ill-defined and being set to 0.0 in labels with no predicted samples. Use `zero_division` parameter to control this behavior.\n",
      "  _warn_prf(average, modifier, msg_start, len(result))\n"
     ]
    },
    {
     "name": "stdout",
     "output_type": "stream",
     "text": [
      " 38 2.99s trainloss=0.27711 validloss=2.20402 accuracy_score=0.50590 \n",
      " 39 3.12s trainloss=0.31901 validloss=0.53110 accuracy_score=0.49558 \n"
     ]
    },
    {
     "name": "stderr",
     "output_type": "stream",
     "text": [
      "/opt/jupyterhub/anaconda/lib/python3.9/site-packages/sklearn/metrics/_classification.py:1308: UndefinedMetricWarning: Precision is ill-defined and being set to 0.0 in labels with no predicted samples. Use `zero_division` parameter to control this behavior.\n",
      "  _warn_prf(average, modifier, msg_start, len(result))\n"
     ]
    },
    {
     "name": "stdout",
     "output_type": "stream",
     "text": [
      " 40 3.16s trainloss=0.30376 validloss=0.89507 accuracy_score=0.50590 \n"
     ]
    },
    {
     "name": "stderr",
     "output_type": "stream",
     "text": [
      "/opt/jupyterhub/anaconda/lib/python3.9/site-packages/sklearn/metrics/_classification.py:1308: UndefinedMetricWarning: Precision is ill-defined and being set to 0.0 in labels with no predicted samples. Use `zero_division` parameter to control this behavior.\n",
      "  _warn_prf(average, modifier, msg_start, len(result))\n"
     ]
    },
    {
     "name": "stdout",
     "output_type": "stream",
     "text": [
      " 41 2.98s trainloss=0.27054 validloss=2.13270 accuracy_score=0.50590 \n"
     ]
    },
    {
     "name": "stderr",
     "output_type": "stream",
     "text": [
      "/opt/jupyterhub/anaconda/lib/python3.9/site-packages/sklearn/metrics/_classification.py:1308: UndefinedMetricWarning: Precision is ill-defined and being set to 0.0 in labels with no predicted samples. Use `zero_division` parameter to control this behavior.\n",
      "  _warn_prf(average, modifier, msg_start, len(result))\n"
     ]
    },
    {
     "name": "stdout",
     "output_type": "stream",
     "text": [
      " 42 3.34s trainloss=0.28149 validloss=1.27033 accuracy_score=0.50590 \n",
      " 43 2.98s trainloss=0.28830 validloss=0.98011 accuracy_score=0.72124 \n"
     ]
    },
    {
     "name": "stderr",
     "output_type": "stream",
     "text": [
      "/opt/jupyterhub/anaconda/lib/python3.9/site-packages/sklearn/metrics/_classification.py:1308: UndefinedMetricWarning: Precision is ill-defined and being set to 0.0 in labels with no predicted samples. Use `zero_division` parameter to control this behavior.\n",
      "  _warn_prf(average, modifier, msg_start, len(result))\n"
     ]
    },
    {
     "name": "stdout",
     "output_type": "stream",
     "text": [
      " 44 3.00s trainloss=0.30296 validloss=1.06341 accuracy_score=0.50590 \n"
     ]
    },
    {
     "name": "stderr",
     "output_type": "stream",
     "text": [
      "/opt/jupyterhub/anaconda/lib/python3.9/site-packages/sklearn/metrics/_classification.py:1308: UndefinedMetricWarning: Precision is ill-defined and being set to 0.0 in labels with no predicted samples. Use `zero_division` parameter to control this behavior.\n",
      "  _warn_prf(average, modifier, msg_start, len(result))\n"
     ]
    },
    {
     "name": "stdout",
     "output_type": "stream",
     "text": [
      " 45 3.01s trainloss=0.28047 validloss=1.25150 accuracy_score=0.50590 \n"
     ]
    },
    {
     "name": "stderr",
     "output_type": "stream",
     "text": [
      "/opt/jupyterhub/anaconda/lib/python3.9/site-packages/sklearn/metrics/_classification.py:1308: UndefinedMetricWarning: Precision is ill-defined and being set to 0.0 in labels with no predicted samples. Use `zero_division` parameter to control this behavior.\n",
      "  _warn_prf(average, modifier, msg_start, len(result))\n"
     ]
    },
    {
     "name": "stdout",
     "output_type": "stream",
     "text": [
      " 46 3.00s trainloss=0.28470 validloss=4.11151 accuracy_score=0.50590 \n"
     ]
    },
    {
     "name": "stderr",
     "output_type": "stream",
     "text": [
      "/opt/jupyterhub/anaconda/lib/python3.9/site-packages/sklearn/metrics/_classification.py:1308: UndefinedMetricWarning: Precision is ill-defined and being set to 0.0 in labels with no predicted samples. Use `zero_division` parameter to control this behavior.\n",
      "  _warn_prf(average, modifier, msg_start, len(result))\n"
     ]
    },
    {
     "name": "stdout",
     "output_type": "stream",
     "text": [
      " 47 3.28s trainloss=0.31296 validloss=1.63786 accuracy_score=0.50590 \n"
     ]
    },
    {
     "name": "stderr",
     "output_type": "stream",
     "text": [
      "/opt/jupyterhub/anaconda/lib/python3.9/site-packages/sklearn/metrics/_classification.py:1308: UndefinedMetricWarning: Precision is ill-defined and being set to 0.0 in labels with no predicted samples. Use `zero_division` parameter to control this behavior.\n",
      "  _warn_prf(average, modifier, msg_start, len(result))\n"
     ]
    },
    {
     "name": "stdout",
     "output_type": "stream",
     "text": [
      " 48 3.52s trainloss=0.28573 validloss=2.08708 accuracy_score=0.50590 \n",
      " 49 3.58s trainloss=0.27766 validloss=0.54889 accuracy_score=0.57227 \n"
     ]
    },
    {
     "name": "stderr",
     "output_type": "stream",
     "text": [
      "/opt/jupyterhub/anaconda/lib/python3.9/site-packages/sklearn/metrics/_classification.py:1308: UndefinedMetricWarning: Precision is ill-defined and being set to 0.0 in labels with no predicted samples. Use `zero_division` parameter to control this behavior.\n",
      "  _warn_prf(average, modifier, msg_start, len(result))\n"
     ]
    },
    {
     "name": "stdout",
     "output_type": "stream",
     "text": [
      " 50 3.64s trainloss=0.27073 validloss=2.97262 accuracy_score=0.50590 \n"
     ]
    },
    {
     "name": "stderr",
     "output_type": "stream",
     "text": [
      "/opt/jupyterhub/anaconda/lib/python3.9/site-packages/sklearn/metrics/_classification.py:1308: UndefinedMetricWarning: Precision is ill-defined and being set to 0.0 in labels with no predicted samples. Use `zero_division` parameter to control this behavior.\n",
      "  _warn_prf(average, modifier, msg_start, len(result))\n"
     ]
    },
    {
     "name": "stdout",
     "output_type": "stream",
     "text": [
      " 51 3.94s trainloss=0.30508 validloss=2.30548 accuracy_score=0.49410 \n"
     ]
    },
    {
     "name": "stderr",
     "output_type": "stream",
     "text": [
      "/opt/jupyterhub/anaconda/lib/python3.9/site-packages/sklearn/metrics/_classification.py:1308: UndefinedMetricWarning: Precision is ill-defined and being set to 0.0 in labels with no predicted samples. Use `zero_division` parameter to control this behavior.\n",
      "  _warn_prf(average, modifier, msg_start, len(result))\n"
     ]
    },
    {
     "name": "stdout",
     "output_type": "stream",
     "text": [
      " 52 4.22s trainloss=0.33313 validloss=0.91450 accuracy_score=0.50590 \n"
     ]
    },
    {
     "name": "stderr",
     "output_type": "stream",
     "text": [
      "/opt/jupyterhub/anaconda/lib/python3.9/site-packages/sklearn/metrics/_classification.py:1308: UndefinedMetricWarning: Precision is ill-defined and being set to 0.0 in labels with no predicted samples. Use `zero_division` parameter to control this behavior.\n",
      "  _warn_prf(average, modifier, msg_start, len(result))\n"
     ]
    },
    {
     "name": "stdout",
     "output_type": "stream",
     "text": [
      " 53 4.11s trainloss=0.29371 validloss=1.56574 accuracy_score=0.50590 \n"
     ]
    },
    {
     "name": "stderr",
     "output_type": "stream",
     "text": [
      "/opt/jupyterhub/anaconda/lib/python3.9/site-packages/sklearn/metrics/_classification.py:1308: UndefinedMetricWarning: Precision is ill-defined and being set to 0.0 in labels with no predicted samples. Use `zero_division` parameter to control this behavior.\n",
      "  _warn_prf(average, modifier, msg_start, len(result))\n"
     ]
    },
    {
     "name": "stdout",
     "output_type": "stream",
     "text": [
      " 54 4.13s trainloss=0.27766 validloss=2.62413 accuracy_score=0.50590 \n"
     ]
    },
    {
     "name": "stderr",
     "output_type": "stream",
     "text": [
      "/opt/jupyterhub/anaconda/lib/python3.9/site-packages/sklearn/metrics/_classification.py:1308: UndefinedMetricWarning: Precision is ill-defined and being set to 0.0 in labels with no predicted samples. Use `zero_division` parameter to control this behavior.\n",
      "  _warn_prf(average, modifier, msg_start, len(result))\n"
     ]
    },
    {
     "name": "stdout",
     "output_type": "stream",
     "text": [
      " 55 4.12s trainloss=0.27416 validloss=2.91835 accuracy_score=0.50590 \n"
     ]
    },
    {
     "name": "stderr",
     "output_type": "stream",
     "text": [
      "/opt/jupyterhub/anaconda/lib/python3.9/site-packages/sklearn/metrics/_classification.py:1308: UndefinedMetricWarning: Precision is ill-defined and being set to 0.0 in labels with no predicted samples. Use `zero_division` parameter to control this behavior.\n",
      "  _warn_prf(average, modifier, msg_start, len(result))\n"
     ]
    },
    {
     "name": "stdout",
     "output_type": "stream",
     "text": [
      " 56 4.12s trainloss=0.43321 validloss=0.54696 accuracy_score=0.49410 \n"
     ]
    },
    {
     "name": "stderr",
     "output_type": "stream",
     "text": [
      "/opt/jupyterhub/anaconda/lib/python3.9/site-packages/sklearn/metrics/_classification.py:1308: UndefinedMetricWarning: Precision is ill-defined and being set to 0.0 in labels with no predicted samples. Use `zero_division` parameter to control this behavior.\n",
      "  _warn_prf(average, modifier, msg_start, len(result))\n",
      "/opt/jupyterhub/anaconda/lib/python3.9/site-packages/sklearn/metrics/_classification.py:1308: UndefinedMetricWarning: Precision is ill-defined and being set to 0.0 in labels with no predicted samples. Use `zero_division` parameter to control this behavior.\n",
      "  _warn_prf(average, modifier, msg_start, len(result))\n"
     ]
    },
    {
     "name": "stdout",
     "output_type": "stream",
     "text": [
      " 57 4.11s trainloss=0.52872 validloss=0.53223 accuracy_score=0.49410 \n",
      " 58 4.12s trainloss=0.47456 validloss=0.76946 accuracy_score=0.50000 \n",
      " 59 4.11s trainloss=0.34070 validloss=0.64854 accuracy_score=0.62389 \n"
     ]
    },
    {
     "name": "stderr",
     "output_type": "stream",
     "text": [
      "/opt/jupyterhub/anaconda/lib/python3.9/site-packages/sklearn/metrics/_classification.py:1308: UndefinedMetricWarning: Precision is ill-defined and being set to 0.0 in labels with no predicted samples. Use `zero_division` parameter to control this behavior.\n",
      "  _warn_prf(average, modifier, msg_start, len(result))\n"
     ]
    },
    {
     "name": "stdout",
     "output_type": "stream",
     "text": [
      " 60 4.12s trainloss=0.32363 validloss=0.77895 accuracy_score=0.50590 \n",
      " 61 4.10s trainloss=0.32607 validloss=0.58063 accuracy_score=0.66372 \n"
     ]
    },
    {
     "name": "stderr",
     "output_type": "stream",
     "text": [
      "/opt/jupyterhub/anaconda/lib/python3.9/site-packages/sklearn/metrics/_classification.py:1308: UndefinedMetricWarning: Precision is ill-defined and being set to 0.0 in labels with no predicted samples. Use `zero_division` parameter to control this behavior.\n",
      "  _warn_prf(average, modifier, msg_start, len(result))\n"
     ]
    },
    {
     "name": "stdout",
     "output_type": "stream",
     "text": [
      " 62 4.22s trainloss=0.31999 validloss=1.12991 accuracy_score=0.50590 \n",
      " 63 4.13s trainloss=0.31565 validloss=0.48008 accuracy_score=0.71534 \n",
      " 64 4.13s trainloss=0.34052 validloss=1.01970 accuracy_score=0.60177 \n",
      " 65 4.18s trainloss=0.31204 validloss=1.13187 accuracy_score=0.58850 \n",
      " 66 4.13s trainloss=0.32767 validloss=0.30869 accuracy_score=0.83628 \n",
      " 67 4.08s trainloss=0.30446 validloss=0.48773 accuracy_score=0.86578 \n",
      " 68 4.10s trainloss=0.30744 validloss=1.56574 accuracy_score=0.62832 \n",
      " 69 4.08s trainloss=0.30000 validloss=2.67970 accuracy_score=0.55015 \n",
      " 70 4.08s trainloss=0.29466 validloss=1.76610 accuracy_score=0.56047 \n"
     ]
    },
    {
     "name": "stderr",
     "output_type": "stream",
     "text": [
      "/opt/jupyterhub/anaconda/lib/python3.9/site-packages/sklearn/metrics/_classification.py:1308: UndefinedMetricWarning: Precision is ill-defined and being set to 0.0 in labels with no predicted samples. Use `zero_division` parameter to control this behavior.\n",
      "  _warn_prf(average, modifier, msg_start, len(result))\n"
     ]
    },
    {
     "name": "stdout",
     "output_type": "stream",
     "text": [
      " 71 4.12s trainloss=0.29471 validloss=1.38839 accuracy_score=0.50590 \n",
      " 72 4.12s trainloss=0.29326 validloss=7.28539 accuracy_score=0.52507 \n",
      " 73 4.01s trainloss=0.28983 validloss=4.86689 accuracy_score=0.50885 \n",
      " 74 3.51s trainloss=0.29085 validloss=2.14644 accuracy_score=0.58555 \n",
      " 75 3.53s trainloss=0.29769 validloss=2.91587 accuracy_score=0.56637 \n"
     ]
    },
    {
     "name": "stderr",
     "output_type": "stream",
     "text": [
      "/opt/jupyterhub/anaconda/lib/python3.9/site-packages/sklearn/metrics/_classification.py:1308: UndefinedMetricWarning: Precision is ill-defined and being set to 0.0 in labels with no predicted samples. Use `zero_division` parameter to control this behavior.\n",
      "  _warn_prf(average, modifier, msg_start, len(result))\n"
     ]
    },
    {
     "name": "stdout",
     "output_type": "stream",
     "text": [
      " 76 3.53s trainloss=0.28855 validloss=1.47610 accuracy_score=0.50590 \n"
     ]
    },
    {
     "name": "stderr",
     "output_type": "stream",
     "text": [
      "/opt/jupyterhub/anaconda/lib/python3.9/site-packages/sklearn/metrics/_classification.py:1308: UndefinedMetricWarning: Precision is ill-defined and being set to 0.0 in labels with no predicted samples. Use `zero_division` parameter to control this behavior.\n",
      "  _warn_prf(average, modifier, msg_start, len(result))\n"
     ]
    },
    {
     "name": "stdout",
     "output_type": "stream",
     "text": [
      " 77 3.57s trainloss=0.27757 validloss=0.97191 accuracy_score=0.50590 \n"
     ]
    },
    {
     "name": "stderr",
     "output_type": "stream",
     "text": [
      "/opt/jupyterhub/anaconda/lib/python3.9/site-packages/sklearn/metrics/_classification.py:1308: UndefinedMetricWarning: Precision is ill-defined and being set to 0.0 in labels with no predicted samples. Use `zero_division` parameter to control this behavior.\n",
      "  _warn_prf(average, modifier, msg_start, len(result))\n"
     ]
    },
    {
     "name": "stdout",
     "output_type": "stream",
     "text": [
      " 78 3.56s trainloss=0.28977 validloss=0.88200 accuracy_score=0.50590 \n",
      " 79 3.57s trainloss=0.29270 validloss=1.00483 accuracy_score=0.63422 \n",
      " 80 3.58s trainloss=0.28758 validloss=2.28444 accuracy_score=0.62094 \n",
      " 81 3.58s trainloss=0.28795 validloss=11.14157 accuracy_score=0.51180 \n"
     ]
    },
    {
     "name": "stderr",
     "output_type": "stream",
     "text": [
      "/opt/jupyterhub/anaconda/lib/python3.9/site-packages/sklearn/metrics/_classification.py:1308: UndefinedMetricWarning: Precision is ill-defined and being set to 0.0 in labels with no predicted samples. Use `zero_division` parameter to control this behavior.\n",
      "  _warn_prf(average, modifier, msg_start, len(result))\n"
     ]
    },
    {
     "name": "stdout",
     "output_type": "stream",
     "text": [
      " 82 3.57s trainloss=0.30492 validloss=1.19292 accuracy_score=0.50590 \n"
     ]
    },
    {
     "name": "stderr",
     "output_type": "stream",
     "text": [
      "/opt/jupyterhub/anaconda/lib/python3.9/site-packages/sklearn/metrics/_classification.py:1308: UndefinedMetricWarning: Precision is ill-defined and being set to 0.0 in labels with no predicted samples. Use `zero_division` parameter to control this behavior.\n",
      "  _warn_prf(average, modifier, msg_start, len(result))\n"
     ]
    },
    {
     "name": "stdout",
     "output_type": "stream",
     "text": [
      " 83 3.54s trainloss=0.29334 validloss=1.32690 accuracy_score=0.50590 \n"
     ]
    },
    {
     "name": "stderr",
     "output_type": "stream",
     "text": [
      "/opt/jupyterhub/anaconda/lib/python3.9/site-packages/sklearn/metrics/_classification.py:1308: UndefinedMetricWarning: Precision is ill-defined and being set to 0.0 in labels with no predicted samples. Use `zero_division` parameter to control this behavior.\n",
      "  _warn_prf(average, modifier, msg_start, len(result))\n"
     ]
    },
    {
     "name": "stdout",
     "output_type": "stream",
     "text": [
      " 84 3.79s trainloss=0.28869 validloss=1.41989 accuracy_score=0.50590 \n"
     ]
    },
    {
     "name": "stderr",
     "output_type": "stream",
     "text": [
      "/opt/jupyterhub/anaconda/lib/python3.9/site-packages/sklearn/metrics/_classification.py:1308: UndefinedMetricWarning: Precision is ill-defined and being set to 0.0 in labels with no predicted samples. Use `zero_division` parameter to control this behavior.\n",
      "  _warn_prf(average, modifier, msg_start, len(result))\n"
     ]
    },
    {
     "name": "stdout",
     "output_type": "stream",
     "text": [
      " 85 3.92s trainloss=0.28439 validloss=1.31972 accuracy_score=0.50590 \n",
      " 86 4.01s trainloss=0.29497 validloss=1.85128 accuracy_score=0.60472 \n"
     ]
    },
    {
     "name": "stderr",
     "output_type": "stream",
     "text": [
      "/opt/jupyterhub/anaconda/lib/python3.9/site-packages/sklearn/metrics/_classification.py:1308: UndefinedMetricWarning: Precision is ill-defined and being set to 0.0 in labels with no predicted samples. Use `zero_division` parameter to control this behavior.\n",
      "  _warn_prf(average, modifier, msg_start, len(result))\n"
     ]
    },
    {
     "name": "stdout",
     "output_type": "stream",
     "text": [
      " 87 4.02s trainloss=0.28450 validloss=1.25818 accuracy_score=0.50590 \n"
     ]
    },
    {
     "name": "stderr",
     "output_type": "stream",
     "text": [
      "/opt/jupyterhub/anaconda/lib/python3.9/site-packages/sklearn/metrics/_classification.py:1308: UndefinedMetricWarning: Precision is ill-defined and being set to 0.0 in labels with no predicted samples. Use `zero_division` parameter to control this behavior.\n",
      "  _warn_prf(average, modifier, msg_start, len(result))\n"
     ]
    },
    {
     "name": "stdout",
     "output_type": "stream",
     "text": [
      " 88 4.12s trainloss=0.28937 validloss=1.22951 accuracy_score=0.50590 \n",
      " 89 4.11s trainloss=0.30267 validloss=2.36423 accuracy_score=0.59292 \n",
      " 90 4.03s trainloss=0.28526 validloss=0.89577 accuracy_score=0.67847 \n"
     ]
    },
    {
     "name": "stderr",
     "output_type": "stream",
     "text": [
      "/opt/jupyterhub/anaconda/lib/python3.9/site-packages/sklearn/metrics/_classification.py:1308: UndefinedMetricWarning: Precision is ill-defined and being set to 0.0 in labels with no predicted samples. Use `zero_division` parameter to control this behavior.\n",
      "  _warn_prf(average, modifier, msg_start, len(result))\n"
     ]
    },
    {
     "name": "stdout",
     "output_type": "stream",
     "text": [
      " 91 4.05s trainloss=0.28338 validloss=25.33331 accuracy_score=0.49410 \n"
     ]
    },
    {
     "name": "stderr",
     "output_type": "stream",
     "text": [
      "/opt/jupyterhub/anaconda/lib/python3.9/site-packages/sklearn/metrics/_classification.py:1308: UndefinedMetricWarning: Precision is ill-defined and being set to 0.0 in labels with no predicted samples. Use `zero_division` parameter to control this behavior.\n",
      "  _warn_prf(average, modifier, msg_start, len(result))\n"
     ]
    },
    {
     "name": "stdout",
     "output_type": "stream",
     "text": [
      " 92 4.07s trainloss=0.29005 validloss=1.26042 accuracy_score=0.50590 \n"
     ]
    },
    {
     "name": "stderr",
     "output_type": "stream",
     "text": [
      "/opt/jupyterhub/anaconda/lib/python3.9/site-packages/sklearn/metrics/_classification.py:1308: UndefinedMetricWarning: Precision is ill-defined and being set to 0.0 in labels with no predicted samples. Use `zero_division` parameter to control this behavior.\n",
      "  _warn_prf(average, modifier, msg_start, len(result))\n"
     ]
    },
    {
     "name": "stdout",
     "output_type": "stream",
     "text": [
      " 93 4.07s trainloss=0.28229 validloss=1.31866 accuracy_score=0.50590 \n"
     ]
    },
    {
     "name": "stderr",
     "output_type": "stream",
     "text": [
      "/opt/jupyterhub/anaconda/lib/python3.9/site-packages/sklearn/metrics/_classification.py:1308: UndefinedMetricWarning: Precision is ill-defined and being set to 0.0 in labels with no predicted samples. Use `zero_division` parameter to control this behavior.\n",
      "  _warn_prf(average, modifier, msg_start, len(result))\n"
     ]
    },
    {
     "name": "stdout",
     "output_type": "stream",
     "text": [
      " 94 4.07s trainloss=0.28921 validloss=1.14803 accuracy_score=0.50590 \n",
      " 95 4.06s trainloss=0.28523 validloss=0.84010 accuracy_score=0.71239 \n",
      " 96 4.08s trainloss=0.28291 validloss=5.29581 accuracy_score=0.52360 \n",
      " 97 4.06s trainloss=0.28468 validloss=0.26069 accuracy_score=0.83038 \n",
      " 98 3.66s trainloss=0.28846 validloss=0.35636 accuracy_score=0.79056 \n"
     ]
    },
    {
     "name": "stderr",
     "output_type": "stream",
     "text": [
      "/opt/jupyterhub/anaconda/lib/python3.9/site-packages/sklearn/metrics/_classification.py:1308: UndefinedMetricWarning: Precision is ill-defined and being set to 0.0 in labels with no predicted samples. Use `zero_division` parameter to control this behavior.\n",
      "  _warn_prf(average, modifier, msg_start, len(result))\n"
     ]
    },
    {
     "name": "stdout",
     "output_type": "stream",
     "text": [
      " 99 3.44s trainloss=0.27404 validloss=1.32075 accuracy_score=0.50590 \n"
     ]
    },
    {
     "name": "stderr",
     "output_type": "stream",
     "text": [
      "/opt/jupyterhub/anaconda/lib/python3.9/site-packages/sklearn/metrics/_classification.py:1308: UndefinedMetricWarning: Precision is ill-defined and being set to 0.0 in labels with no predicted samples. Use `zero_division` parameter to control this behavior.\n",
      "  _warn_prf(average, modifier, msg_start, len(result))\n"
     ]
    },
    {
     "name": "stdout",
     "output_type": "stream",
     "text": [
      "100 3.46s trainloss=0.28928 validloss=1.33644 accuracy_score=0.50590 \n"
     ]
    },
    {
     "name": "stderr",
     "output_type": "stream",
     "text": [
      "/opt/jupyterhub/anaconda/lib/python3.9/site-packages/sklearn/metrics/_classification.py:1308: UndefinedMetricWarning: Precision is ill-defined and being set to 0.0 in labels with no predicted samples. Use `zero_division` parameter to control this behavior.\n",
      "  _warn_prf(average, modifier, msg_start, len(result))\n"
     ]
    },
    {
     "name": "stdout",
     "output_type": "stream",
     "text": [
      "101 3.46s trainloss=0.27948 validloss=8.13013 accuracy_score=0.49410 \n"
     ]
    },
    {
     "name": "stderr",
     "output_type": "stream",
     "text": [
      "/opt/jupyterhub/anaconda/lib/python3.9/site-packages/sklearn/metrics/_classification.py:1308: UndefinedMetricWarning: Precision is ill-defined and being set to 0.0 in labels with no predicted samples. Use `zero_division` parameter to control this behavior.\n",
      "  _warn_prf(average, modifier, msg_start, len(result))\n"
     ]
    },
    {
     "name": "stdout",
     "output_type": "stream",
     "text": [
      "102 3.45s trainloss=0.40826 validloss=0.53131 accuracy_score=0.49410 \n"
     ]
    },
    {
     "name": "stderr",
     "output_type": "stream",
     "text": [
      "/opt/jupyterhub/anaconda/lib/python3.9/site-packages/sklearn/metrics/_classification.py:1308: UndefinedMetricWarning: Precision is ill-defined and being set to 0.0 in labels with no predicted samples. Use `zero_division` parameter to control this behavior.\n",
      "  _warn_prf(average, modifier, msg_start, len(result))\n",
      "/opt/jupyterhub/anaconda/lib/python3.9/site-packages/sklearn/metrics/_classification.py:1308: UndefinedMetricWarning: Precision is ill-defined and being set to 0.0 in labels with no predicted samples. Use `zero_division` parameter to control this behavior.\n",
      "  _warn_prf(average, modifier, msg_start, len(result))\n"
     ]
    },
    {
     "name": "stdout",
     "output_type": "stream",
     "text": [
      "103 3.46s trainloss=0.52909 validloss=0.54941 accuracy_score=0.49410 \n"
     ]
    },
    {
     "name": "stderr",
     "output_type": "stream",
     "text": [
      "/opt/jupyterhub/anaconda/lib/python3.9/site-packages/sklearn/metrics/_classification.py:1308: UndefinedMetricWarning: Precision is ill-defined and being set to 0.0 in labels with no predicted samples. Use `zero_division` parameter to control this behavior.\n",
      "  _warn_prf(average, modifier, msg_start, len(result))\n",
      "/opt/jupyterhub/anaconda/lib/python3.9/site-packages/sklearn/metrics/_classification.py:1308: UndefinedMetricWarning: Precision is ill-defined and being set to 0.0 in labels with no predicted samples. Use `zero_division` parameter to control this behavior.\n",
      "  _warn_prf(average, modifier, msg_start, len(result))\n"
     ]
    },
    {
     "name": "stdout",
     "output_type": "stream",
     "text": [
      "104 3.46s trainloss=0.54040 validloss=0.53154 accuracy_score=0.49410 \n"
     ]
    },
    {
     "name": "stderr",
     "output_type": "stream",
     "text": [
      "/opt/jupyterhub/anaconda/lib/python3.9/site-packages/sklearn/metrics/_classification.py:1308: UndefinedMetricWarning: Precision is ill-defined and being set to 0.0 in labels with no predicted samples. Use `zero_division` parameter to control this behavior.\n",
      "  _warn_prf(average, modifier, msg_start, len(result))\n",
      "/opt/jupyterhub/anaconda/lib/python3.9/site-packages/sklearn/metrics/_classification.py:1308: UndefinedMetricWarning: Precision is ill-defined and being set to 0.0 in labels with no predicted samples. Use `zero_division` parameter to control this behavior.\n",
      "  _warn_prf(average, modifier, msg_start, len(result))\n"
     ]
    },
    {
     "name": "stdout",
     "output_type": "stream",
     "text": [
      "105 3.47s trainloss=0.53114 validloss=0.53060 accuracy_score=0.49410 \n"
     ]
    },
    {
     "name": "stderr",
     "output_type": "stream",
     "text": [
      "/opt/jupyterhub/anaconda/lib/python3.9/site-packages/sklearn/metrics/_classification.py:1308: UndefinedMetricWarning: Precision is ill-defined and being set to 0.0 in labels with no predicted samples. Use `zero_division` parameter to control this behavior.\n",
      "  _warn_prf(average, modifier, msg_start, len(result))\n",
      "/opt/jupyterhub/anaconda/lib/python3.9/site-packages/sklearn/metrics/_classification.py:1308: UndefinedMetricWarning: Precision is ill-defined and being set to 0.0 in labels with no predicted samples. Use `zero_division` parameter to control this behavior.\n",
      "  _warn_prf(average, modifier, msg_start, len(result))\n"
     ]
    },
    {
     "name": "stdout",
     "output_type": "stream",
     "text": [
      "106 3.49s trainloss=0.52670 validloss=0.53974 accuracy_score=0.49410 \n"
     ]
    },
    {
     "name": "stderr",
     "output_type": "stream",
     "text": [
      "/opt/jupyterhub/anaconda/lib/python3.9/site-packages/sklearn/metrics/_classification.py:1308: UndefinedMetricWarning: Precision is ill-defined and being set to 0.0 in labels with no predicted samples. Use `zero_division` parameter to control this behavior.\n",
      "  _warn_prf(average, modifier, msg_start, len(result))\n",
      "/opt/jupyterhub/anaconda/lib/python3.9/site-packages/sklearn/metrics/_classification.py:1308: UndefinedMetricWarning: Precision is ill-defined and being set to 0.0 in labels with no predicted samples. Use `zero_division` parameter to control this behavior.\n",
      "  _warn_prf(average, modifier, msg_start, len(result))\n"
     ]
    },
    {
     "name": "stdout",
     "output_type": "stream",
     "text": [
      "107 3.50s trainloss=0.53079 validloss=0.53534 accuracy_score=0.49410 \n"
     ]
    },
    {
     "name": "stderr",
     "output_type": "stream",
     "text": [
      "/opt/jupyterhub/anaconda/lib/python3.9/site-packages/sklearn/metrics/_classification.py:1308: UndefinedMetricWarning: Precision is ill-defined and being set to 0.0 in labels with no predicted samples. Use `zero_division` parameter to control this behavior.\n",
      "  _warn_prf(average, modifier, msg_start, len(result))\n",
      "/opt/jupyterhub/anaconda/lib/python3.9/site-packages/sklearn/metrics/_classification.py:1308: UndefinedMetricWarning: Precision is ill-defined and being set to 0.0 in labels with no predicted samples. Use `zero_division` parameter to control this behavior.\n",
      "  _warn_prf(average, modifier, msg_start, len(result))\n"
     ]
    },
    {
     "name": "stdout",
     "output_type": "stream",
     "text": [
      "108 3.49s trainloss=0.52832 validloss=0.53003 accuracy_score=0.49410 \n"
     ]
    },
    {
     "name": "stderr",
     "output_type": "stream",
     "text": [
      "/opt/jupyterhub/anaconda/lib/python3.9/site-packages/sklearn/metrics/_classification.py:1308: UndefinedMetricWarning: Precision is ill-defined and being set to 0.0 in labels with no predicted samples. Use `zero_division` parameter to control this behavior.\n",
      "  _warn_prf(average, modifier, msg_start, len(result))\n",
      "/opt/jupyterhub/anaconda/lib/python3.9/site-packages/sklearn/metrics/_classification.py:1308: UndefinedMetricWarning: Precision is ill-defined and being set to 0.0 in labels with no predicted samples. Use `zero_division` parameter to control this behavior.\n",
      "  _warn_prf(average, modifier, msg_start, len(result))\n"
     ]
    },
    {
     "name": "stdout",
     "output_type": "stream",
     "text": [
      "109 3.49s trainloss=0.52535 validloss=0.53252 accuracy_score=0.49410 \n"
     ]
    },
    {
     "name": "stderr",
     "output_type": "stream",
     "text": [
      "/opt/jupyterhub/anaconda/lib/python3.9/site-packages/sklearn/metrics/_classification.py:1308: UndefinedMetricWarning: Precision is ill-defined and being set to 0.0 in labels with no predicted samples. Use `zero_division` parameter to control this behavior.\n",
      "  _warn_prf(average, modifier, msg_start, len(result))\n",
      "/opt/jupyterhub/anaconda/lib/python3.9/site-packages/sklearn/metrics/_classification.py:1308: UndefinedMetricWarning: Precision is ill-defined and being set to 0.0 in labels with no predicted samples. Use `zero_division` parameter to control this behavior.\n",
      "  _warn_prf(average, modifier, msg_start, len(result))\n"
     ]
    },
    {
     "name": "stdout",
     "output_type": "stream",
     "text": [
      "110 3.49s trainloss=0.52674 validloss=0.53903 accuracy_score=0.49410 \n"
     ]
    },
    {
     "name": "stderr",
     "output_type": "stream",
     "text": [
      "/opt/jupyterhub/anaconda/lib/python3.9/site-packages/sklearn/metrics/_classification.py:1308: UndefinedMetricWarning: Precision is ill-defined and being set to 0.0 in labels with no predicted samples. Use `zero_division` parameter to control this behavior.\n",
      "  _warn_prf(average, modifier, msg_start, len(result))\n",
      "/opt/jupyterhub/anaconda/lib/python3.9/site-packages/sklearn/metrics/_classification.py:1308: UndefinedMetricWarning: Precision is ill-defined and being set to 0.0 in labels with no predicted samples. Use `zero_division` parameter to control this behavior.\n",
      "  _warn_prf(average, modifier, msg_start, len(result))\n"
     ]
    },
    {
     "name": "stdout",
     "output_type": "stream",
     "text": [
      "111 3.61s trainloss=0.52726 validloss=0.54437 accuracy_score=0.49410 \n"
     ]
    },
    {
     "name": "stderr",
     "output_type": "stream",
     "text": [
      "/opt/jupyterhub/anaconda/lib/python3.9/site-packages/sklearn/metrics/_classification.py:1308: UndefinedMetricWarning: Precision is ill-defined and being set to 0.0 in labels with no predicted samples. Use `zero_division` parameter to control this behavior.\n",
      "  _warn_prf(average, modifier, msg_start, len(result))\n",
      "/opt/jupyterhub/anaconda/lib/python3.9/site-packages/sklearn/metrics/_classification.py:1308: UndefinedMetricWarning: Precision is ill-defined and being set to 0.0 in labels with no predicted samples. Use `zero_division` parameter to control this behavior.\n",
      "  _warn_prf(average, modifier, msg_start, len(result))\n"
     ]
    },
    {
     "name": "stdout",
     "output_type": "stream",
     "text": [
      "112 3.48s trainloss=0.52561 validloss=0.53321 accuracy_score=0.49410 \n"
     ]
    },
    {
     "name": "stderr",
     "output_type": "stream",
     "text": [
      "/opt/jupyterhub/anaconda/lib/python3.9/site-packages/sklearn/metrics/_classification.py:1308: UndefinedMetricWarning: Precision is ill-defined and being set to 0.0 in labels with no predicted samples. Use `zero_division` parameter to control this behavior.\n",
      "  _warn_prf(average, modifier, msg_start, len(result))\n",
      "/opt/jupyterhub/anaconda/lib/python3.9/site-packages/sklearn/metrics/_classification.py:1308: UndefinedMetricWarning: Precision is ill-defined and being set to 0.0 in labels with no predicted samples. Use `zero_division` parameter to control this behavior.\n",
      "  _warn_prf(average, modifier, msg_start, len(result))\n"
     ]
    },
    {
     "name": "stdout",
     "output_type": "stream",
     "text": [
      "113 3.49s trainloss=0.52488 validloss=0.53532 accuracy_score=0.49410 \n"
     ]
    },
    {
     "name": "stderr",
     "output_type": "stream",
     "text": [
      "/opt/jupyterhub/anaconda/lib/python3.9/site-packages/sklearn/metrics/_classification.py:1308: UndefinedMetricWarning: Precision is ill-defined and being set to 0.0 in labels with no predicted samples. Use `zero_division` parameter to control this behavior.\n",
      "  _warn_prf(average, modifier, msg_start, len(result))\n",
      "/opt/jupyterhub/anaconda/lib/python3.9/site-packages/sklearn/metrics/_classification.py:1308: UndefinedMetricWarning: Precision is ill-defined and being set to 0.0 in labels with no predicted samples. Use `zero_division` parameter to control this behavior.\n",
      "  _warn_prf(average, modifier, msg_start, len(result))\n"
     ]
    },
    {
     "name": "stdout",
     "output_type": "stream",
     "text": [
      "114 3.49s trainloss=0.52586 validloss=0.53584 accuracy_score=0.49410 \n"
     ]
    },
    {
     "name": "stderr",
     "output_type": "stream",
     "text": [
      "/opt/jupyterhub/anaconda/lib/python3.9/site-packages/sklearn/metrics/_classification.py:1308: UndefinedMetricWarning: Precision is ill-defined and being set to 0.0 in labels with no predicted samples. Use `zero_division` parameter to control this behavior.\n",
      "  _warn_prf(average, modifier, msg_start, len(result))\n",
      "/opt/jupyterhub/anaconda/lib/python3.9/site-packages/sklearn/metrics/_classification.py:1308: UndefinedMetricWarning: Precision is ill-defined and being set to 0.0 in labels with no predicted samples. Use `zero_division` parameter to control this behavior.\n",
      "  _warn_prf(average, modifier, msg_start, len(result))\n"
     ]
    },
    {
     "name": "stdout",
     "output_type": "stream",
     "text": [
      "115 3.52s trainloss=0.52937 validloss=0.53363 accuracy_score=0.49410 \n"
     ]
    },
    {
     "name": "stderr",
     "output_type": "stream",
     "text": [
      "/opt/jupyterhub/anaconda/lib/python3.9/site-packages/sklearn/metrics/_classification.py:1308: UndefinedMetricWarning: Precision is ill-defined and being set to 0.0 in labels with no predicted samples. Use `zero_division` parameter to control this behavior.\n",
      "  _warn_prf(average, modifier, msg_start, len(result))\n",
      "/opt/jupyterhub/anaconda/lib/python3.9/site-packages/sklearn/metrics/_classification.py:1308: UndefinedMetricWarning: Precision is ill-defined and being set to 0.0 in labels with no predicted samples. Use `zero_division` parameter to control this behavior.\n",
      "  _warn_prf(average, modifier, msg_start, len(result))\n"
     ]
    },
    {
     "name": "stdout",
     "output_type": "stream",
     "text": [
      "116 3.48s trainloss=0.52679 validloss=0.53432 accuracy_score=0.49410 \n"
     ]
    },
    {
     "name": "stderr",
     "output_type": "stream",
     "text": [
      "/opt/jupyterhub/anaconda/lib/python3.9/site-packages/sklearn/metrics/_classification.py:1308: UndefinedMetricWarning: Precision is ill-defined and being set to 0.0 in labels with no predicted samples. Use `zero_division` parameter to control this behavior.\n",
      "  _warn_prf(average, modifier, msg_start, len(result))\n",
      "/opt/jupyterhub/anaconda/lib/python3.9/site-packages/sklearn/metrics/_classification.py:1308: UndefinedMetricWarning: Precision is ill-defined and being set to 0.0 in labels with no predicted samples. Use `zero_division` parameter to control this behavior.\n",
      "  _warn_prf(average, modifier, msg_start, len(result))\n"
     ]
    },
    {
     "name": "stdout",
     "output_type": "stream",
     "text": [
      "117 3.48s trainloss=0.52714 validloss=0.54032 accuracy_score=0.49410 \n"
     ]
    },
    {
     "name": "stderr",
     "output_type": "stream",
     "text": [
      "/opt/jupyterhub/anaconda/lib/python3.9/site-packages/sklearn/metrics/_classification.py:1308: UndefinedMetricWarning: Precision is ill-defined and being set to 0.0 in labels with no predicted samples. Use `zero_division` parameter to control this behavior.\n",
      "  _warn_prf(average, modifier, msg_start, len(result))\n",
      "/opt/jupyterhub/anaconda/lib/python3.9/site-packages/sklearn/metrics/_classification.py:1308: UndefinedMetricWarning: Precision is ill-defined and being set to 0.0 in labels with no predicted samples. Use `zero_division` parameter to control this behavior.\n",
      "  _warn_prf(average, modifier, msg_start, len(result))\n"
     ]
    },
    {
     "name": "stdout",
     "output_type": "stream",
     "text": [
      "118 3.48s trainloss=0.53022 validloss=0.53098 accuracy_score=0.49410 \n"
     ]
    },
    {
     "name": "stderr",
     "output_type": "stream",
     "text": [
      "/opt/jupyterhub/anaconda/lib/python3.9/site-packages/sklearn/metrics/_classification.py:1308: UndefinedMetricWarning: Precision is ill-defined and being set to 0.0 in labels with no predicted samples. Use `zero_division` parameter to control this behavior.\n",
      "  _warn_prf(average, modifier, msg_start, len(result))\n",
      "/opt/jupyterhub/anaconda/lib/python3.9/site-packages/sklearn/metrics/_classification.py:1308: UndefinedMetricWarning: Precision is ill-defined and being set to 0.0 in labels with no predicted samples. Use `zero_division` parameter to control this behavior.\n",
      "  _warn_prf(average, modifier, msg_start, len(result))\n"
     ]
    },
    {
     "name": "stdout",
     "output_type": "stream",
     "text": [
      "119 3.48s trainloss=0.52617 validloss=0.53196 accuracy_score=0.49410 \n"
     ]
    },
    {
     "name": "stderr",
     "output_type": "stream",
     "text": [
      "/opt/jupyterhub/anaconda/lib/python3.9/site-packages/sklearn/metrics/_classification.py:1308: UndefinedMetricWarning: Precision is ill-defined and being set to 0.0 in labels with no predicted samples. Use `zero_division` parameter to control this behavior.\n",
      "  _warn_prf(average, modifier, msg_start, len(result))\n"
     ]
    },
    {
     "name": "stdout",
     "output_type": "stream",
     "text": [
      "120 3.48s trainloss=0.52692 validloss=0.53161 accuracy_score=0.49410 \n"
     ]
    },
    {
     "name": "stderr",
     "output_type": "stream",
     "text": [
      "/opt/jupyterhub/anaconda/lib/python3.9/site-packages/sklearn/metrics/_classification.py:1308: UndefinedMetricWarning: Precision is ill-defined and being set to 0.0 in labels with no predicted samples. Use `zero_division` parameter to control this behavior.\n",
      "  _warn_prf(average, modifier, msg_start, len(result))\n"
     ]
    }
   ],
   "source": [
    "rn18_trainer.train(100, lr=0.01, weight_decay=0.8)"
   ]
  },
  {
   "cell_type": "code",
   "execution_count": 54,
   "id": "fb47e12d",
   "metadata": {},
   "outputs": [
    {
     "data": {
      "image/png": "[encoded data removed]",
      "text/plain": [
       "<Figure size 432x288 with 1 Axes>"
      ]
     },
     "metadata": {
      "needs_background": "light"
     },
     "output_type": "display_data"
    }
   ],
   "source": [
    "rn18_trainer.learning_curve()"
   ]
  },
  {
   "cell_type": "code",
   "execution_count": 55,
   "id": "d6a7a010",
   "metadata": {},
   "outputs": [
    {
     "data": {
      "image/png": "[encoded data removed]",
      "text/plain": [
       "<Figure size 432x288 with 1 Axes>"
      ]
     },
     "metadata": {
      "needs_background": "light"
     },
     "output_type": "display_data"
    }
   ],
   "source": [
    "rn18_trainer.learning_curve(y='accuracy_score')"
   ]
  },
  {
   "cell_type": "code",
   "execution_count": 56,
   "id": "ce37c364",
   "metadata": {},
   "outputs": [
    {
     "name": "stdout",
     "output_type": "stream",
     "text": [
      "     accuracy_score  epoch  prec_chewing  recall_chewing  recall_other\n",
      "45         0.877581   23.0      0.886503        0.862687      0.892128\n",
      "27         0.873156   14.0      0.871642        0.871642      0.874636\n",
      "133        0.865782   67.0      0.874233        0.850746      0.880466\n",
      "33         0.840708   17.0      0.774818        0.955224      0.728863\n",
      "31         0.837758   16.0      0.767221        0.964179      0.714286\n",
      "..              ...    ...           ...             ...           ...\n",
      "101        0.494100   51.0      0.494100        1.000000      0.000000\n",
      "111        0.494100   56.0      0.494100        1.000000      0.000000\n",
      "113        0.494100   57.0      0.494100        1.000000      0.000000\n",
      "239        0.494100  120.0      0.494100        1.000000      0.000000\n",
      "47         0.466077   24.0      0.000000        0.000000      0.921283\n",
      "\n",
      "[120 rows x 5 columns]\n"
     ]
    }
   ],
   "source": [
    "sort_epochs(rn18_trainer.evaluator, 'accuracy_score')"
   ]
  },
  {
   "cell_type": "markdown",
   "id": "704ba22c",
   "metadata": {},
   "source": [
    "# resnet 34"
   ]
  },
  {
   "cell_type": "code",
   "execution_count": 57,
   "id": "8adab329",
   "metadata": {},
   "outputs": [],
   "source": [
    "rn34 = models.resnet34(pretrained=True)\n",
    "rn34.conv1 = nn.Conv2d(1, rn34.conv1.out_channels,\n",
    "              kernel_size=rn34.conv1.kernel_size[0], \n",
    "                      stride=rn34.conv1.stride[0], \n",
    "                      padding=rn34.conv1.padding[0])\n",
    "num_ftrs = rn34.fc.in_features\n",
    "rn34.fc = nn.Linear(num_ftrs, 2)\n",
    "\n",
    "rn34.post_forward = post_forward\n",
    "\n",
    "rn34_trainer = trainer(rn18, nn.CrossEntropyLoss(weight=normedWeights), train_loader, valid_loader, test_loader, metrics=metrics, gpu=True)"
   ]
  },
  {
   "cell_type": "code",
   "execution_count": 58,
   "id": "bcc02264",
   "metadata": {},
   "outputs": [
    {
     "data": {
      "application/vnd.jupyter.widget-view+json": {
       "model_id": "",
       "version_major": 2,
       "version_minor": 0
      },
      "text/plain": [
       "Total:   0%|          | 0/345600 [00:00<?, ?it/s]"
      ]
     },
     "metadata": {},
     "output_type": "display_data"
    },
    {
     "name": "stderr",
     "output_type": "stream",
     "text": [
      "/opt/jupyterhub/anaconda/lib/python3.9/site-packages/sklearn/metrics/_classification.py:1308: UndefinedMetricWarning: Precision is ill-defined and being set to 0.0 in labels with no predicted samples. Use `zero_division` parameter to control this behavior.\n",
      "  _warn_prf(average, modifier, msg_start, len(result))\n",
      "/opt/jupyterhub/anaconda/lib/python3.9/site-packages/sklearn/metrics/_classification.py:1308: UndefinedMetricWarning: Precision is ill-defined and being set to 0.0 in labels with no predicted samples. Use `zero_division` parameter to control this behavior.\n",
      "  _warn_prf(average, modifier, msg_start, len(result))\n"
     ]
    },
    {
     "name": "stdout",
     "output_type": "stream",
     "text": [
      "  1 3.42s trainloss=0.53130 validloss=0.53036 accuracy_score=0.49410 \n"
     ]
    },
    {
     "name": "stderr",
     "output_type": "stream",
     "text": [
      "/opt/jupyterhub/anaconda/lib/python3.9/site-packages/sklearn/metrics/_classification.py:1308: UndefinedMetricWarning: Precision is ill-defined and being set to 0.0 in labels with no predicted samples. Use `zero_division` parameter to control this behavior.\n",
      "  _warn_prf(average, modifier, msg_start, len(result))\n",
      "/opt/jupyterhub/anaconda/lib/python3.9/site-packages/sklearn/metrics/_classification.py:1308: UndefinedMetricWarning: Precision is ill-defined and being set to 0.0 in labels with no predicted samples. Use `zero_division` parameter to control this behavior.\n",
      "  _warn_prf(average, modifier, msg_start, len(result))\n"
     ]
    },
    {
     "name": "stdout",
     "output_type": "stream",
     "text": [
      "  2 3.40s trainloss=0.52541 validloss=0.53706 accuracy_score=0.49410 \n"
     ]
    },
    {
     "name": "stderr",
     "output_type": "stream",
     "text": [
      "/opt/jupyterhub/anaconda/lib/python3.9/site-packages/sklearn/metrics/_classification.py:1308: UndefinedMetricWarning: Precision is ill-defined and being set to 0.0 in labels with no predicted samples. Use `zero_division` parameter to control this behavior.\n",
      "  _warn_prf(average, modifier, msg_start, len(result))\n",
      "/opt/jupyterhub/anaconda/lib/python3.9/site-packages/sklearn/metrics/_classification.py:1308: UndefinedMetricWarning: Precision is ill-defined and being set to 0.0 in labels with no predicted samples. Use `zero_division` parameter to control this behavior.\n",
      "  _warn_prf(average, modifier, msg_start, len(result))\n"
     ]
    },
    {
     "name": "stdout",
     "output_type": "stream",
     "text": [
      "  3 3.39s trainloss=0.52829 validloss=0.52998 accuracy_score=0.49410 \n"
     ]
    },
    {
     "name": "stderr",
     "output_type": "stream",
     "text": [
      "/opt/jupyterhub/anaconda/lib/python3.9/site-packages/sklearn/metrics/_classification.py:1308: UndefinedMetricWarning: Precision is ill-defined and being set to 0.0 in labels with no predicted samples. Use `zero_division` parameter to control this behavior.\n",
      "  _warn_prf(average, modifier, msg_start, len(result))\n",
      "/opt/jupyterhub/anaconda/lib/python3.9/site-packages/sklearn/metrics/_classification.py:1308: UndefinedMetricWarning: Precision is ill-defined and being set to 0.0 in labels with no predicted samples. Use `zero_division` parameter to control this behavior.\n",
      "  _warn_prf(average, modifier, msg_start, len(result))\n"
     ]
    },
    {
     "name": "stdout",
     "output_type": "stream",
     "text": [
      "  4 3.44s trainloss=0.52654 validloss=0.53518 accuracy_score=0.49410 \n"
     ]
    },
    {
     "name": "stderr",
     "output_type": "stream",
     "text": [
      "/opt/jupyterhub/anaconda/lib/python3.9/site-packages/sklearn/metrics/_classification.py:1308: UndefinedMetricWarning: Precision is ill-defined and being set to 0.0 in labels with no predicted samples. Use `zero_division` parameter to control this behavior.\n",
      "  _warn_prf(average, modifier, msg_start, len(result))\n",
      "/opt/jupyterhub/anaconda/lib/python3.9/site-packages/sklearn/metrics/_classification.py:1308: UndefinedMetricWarning: Precision is ill-defined and being set to 0.0 in labels with no predicted samples. Use `zero_division` parameter to control this behavior.\n",
      "  _warn_prf(average, modifier, msg_start, len(result))\n"
     ]
    },
    {
     "name": "stdout",
     "output_type": "stream",
     "text": [
      "  5 3.81s trainloss=0.52908 validloss=0.53261 accuracy_score=0.49410 \n"
     ]
    },
    {
     "name": "stderr",
     "output_type": "stream",
     "text": [
      "/opt/jupyterhub/anaconda/lib/python3.9/site-packages/sklearn/metrics/_classification.py:1308: UndefinedMetricWarning: Precision is ill-defined and being set to 0.0 in labels with no predicted samples. Use `zero_division` parameter to control this behavior.\n",
      "  _warn_prf(average, modifier, msg_start, len(result))\n",
      "/opt/jupyterhub/anaconda/lib/python3.9/site-packages/sklearn/metrics/_classification.py:1308: UndefinedMetricWarning: Precision is ill-defined and being set to 0.0 in labels with no predicted samples. Use `zero_division` parameter to control this behavior.\n",
      "  _warn_prf(average, modifier, msg_start, len(result))\n"
     ]
    },
    {
     "name": "stdout",
     "output_type": "stream",
     "text": [
      "  6 3.97s trainloss=0.53195 validloss=0.53021 accuracy_score=0.49410 \n"
     ]
    },
    {
     "name": "stderr",
     "output_type": "stream",
     "text": [
      "/opt/jupyterhub/anaconda/lib/python3.9/site-packages/sklearn/metrics/_classification.py:1308: UndefinedMetricWarning: Precision is ill-defined and being set to 0.0 in labels with no predicted samples. Use `zero_division` parameter to control this behavior.\n",
      "  _warn_prf(average, modifier, msg_start, len(result))\n",
      "/opt/jupyterhub/anaconda/lib/python3.9/site-packages/sklearn/metrics/_classification.py:1308: UndefinedMetricWarning: Precision is ill-defined and being set to 0.0 in labels with no predicted samples. Use `zero_division` parameter to control this behavior.\n",
      "  _warn_prf(average, modifier, msg_start, len(result))\n"
     ]
    },
    {
     "name": "stdout",
     "output_type": "stream",
     "text": [
      "  7 4.31s trainloss=0.52748 validloss=0.53343 accuracy_score=0.49410 \n"
     ]
    },
    {
     "name": "stderr",
     "output_type": "stream",
     "text": [
      "/opt/jupyterhub/anaconda/lib/python3.9/site-packages/sklearn/metrics/_classification.py:1308: UndefinedMetricWarning: Precision is ill-defined and being set to 0.0 in labels with no predicted samples. Use `zero_division` parameter to control this behavior.\n",
      "  _warn_prf(average, modifier, msg_start, len(result))\n",
      "/opt/jupyterhub/anaconda/lib/python3.9/site-packages/sklearn/metrics/_classification.py:1308: UndefinedMetricWarning: Precision is ill-defined and being set to 0.0 in labels with no predicted samples. Use `zero_division` parameter to control this behavior.\n",
      "  _warn_prf(average, modifier, msg_start, len(result))\n"
     ]
    },
    {
     "name": "stdout",
     "output_type": "stream",
     "text": [
      "  8 4.61s trainloss=0.52714 validloss=0.53309 accuracy_score=0.49410 \n"
     ]
    },
    {
     "name": "stderr",
     "output_type": "stream",
     "text": [
      "/opt/jupyterhub/anaconda/lib/python3.9/site-packages/sklearn/metrics/_classification.py:1308: UndefinedMetricWarning: Precision is ill-defined and being set to 0.0 in labels with no predicted samples. Use `zero_division` parameter to control this behavior.\n",
      "  _warn_prf(average, modifier, msg_start, len(result))\n",
      "/opt/jupyterhub/anaconda/lib/python3.9/site-packages/sklearn/metrics/_classification.py:1308: UndefinedMetricWarning: Precision is ill-defined and being set to 0.0 in labels with no predicted samples. Use `zero_division` parameter to control this behavior.\n",
      "  _warn_prf(average, modifier, msg_start, len(result))\n"
     ]
    },
    {
     "name": "stdout",
     "output_type": "stream",
     "text": [
      "  9 4.57s trainloss=0.52871 validloss=0.53221 accuracy_score=0.49410 \n"
     ]
    },
    {
     "name": "stderr",
     "output_type": "stream",
     "text": [
      "/opt/jupyterhub/anaconda/lib/python3.9/site-packages/sklearn/metrics/_classification.py:1308: UndefinedMetricWarning: Precision is ill-defined and being set to 0.0 in labels with no predicted samples. Use `zero_division` parameter to control this behavior.\n",
      "  _warn_prf(average, modifier, msg_start, len(result))\n",
      "/opt/jupyterhub/anaconda/lib/python3.9/site-packages/sklearn/metrics/_classification.py:1308: UndefinedMetricWarning: Precision is ill-defined and being set to 0.0 in labels with no predicted samples. Use `zero_division` parameter to control this behavior.\n",
      "  _warn_prf(average, modifier, msg_start, len(result))\n"
     ]
    },
    {
     "name": "stdout",
     "output_type": "stream",
     "text": [
      " 10 4.55s trainloss=0.52422 validloss=0.53243 accuracy_score=0.49410 \n"
     ]
    },
    {
     "name": "stderr",
     "output_type": "stream",
     "text": [
      "/opt/jupyterhub/anaconda/lib/python3.9/site-packages/sklearn/metrics/_classification.py:1308: UndefinedMetricWarning: Precision is ill-defined and being set to 0.0 in labels with no predicted samples. Use `zero_division` parameter to control this behavior.\n",
      "  _warn_prf(average, modifier, msg_start, len(result))\n",
      "/opt/jupyterhub/anaconda/lib/python3.9/site-packages/sklearn/metrics/_classification.py:1308: UndefinedMetricWarning: Precision is ill-defined and being set to 0.0 in labels with no predicted samples. Use `zero_division` parameter to control this behavior.\n",
      "  _warn_prf(average, modifier, msg_start, len(result))\n"
     ]
    },
    {
     "name": "stdout",
     "output_type": "stream",
     "text": [
      " 11 4.60s trainloss=0.52739 validloss=0.53029 accuracy_score=0.49410 \n"
     ]
    },
    {
     "name": "stderr",
     "output_type": "stream",
     "text": [
      "/opt/jupyterhub/anaconda/lib/python3.9/site-packages/sklearn/metrics/_classification.py:1308: UndefinedMetricWarning: Precision is ill-defined and being set to 0.0 in labels with no predicted samples. Use `zero_division` parameter to control this behavior.\n",
      "  _warn_prf(average, modifier, msg_start, len(result))\n",
      "/opt/jupyterhub/anaconda/lib/python3.9/site-packages/sklearn/metrics/_classification.py:1308: UndefinedMetricWarning: Precision is ill-defined and being set to 0.0 in labels with no predicted samples. Use `zero_division` parameter to control this behavior.\n",
      "  _warn_prf(average, modifier, msg_start, len(result))\n"
     ]
    },
    {
     "name": "stdout",
     "output_type": "stream",
     "text": [
      " 12 4.61s trainloss=0.52399 validloss=0.53236 accuracy_score=0.49410 \n"
     ]
    },
    {
     "name": "stderr",
     "output_type": "stream",
     "text": [
      "/opt/jupyterhub/anaconda/lib/python3.9/site-packages/sklearn/metrics/_classification.py:1308: UndefinedMetricWarning: Precision is ill-defined and being set to 0.0 in labels with no predicted samples. Use `zero_division` parameter to control this behavior.\n",
      "  _warn_prf(average, modifier, msg_start, len(result))\n",
      "/opt/jupyterhub/anaconda/lib/python3.9/site-packages/sklearn/metrics/_classification.py:1308: UndefinedMetricWarning: Precision is ill-defined and being set to 0.0 in labels with no predicted samples. Use `zero_division` parameter to control this behavior.\n",
      "  _warn_prf(average, modifier, msg_start, len(result))\n"
     ]
    },
    {
     "name": "stdout",
     "output_type": "stream",
     "text": [
      " 13 4.62s trainloss=0.52569 validloss=0.53185 accuracy_score=0.49410 \n"
     ]
    },
    {
     "name": "stderr",
     "output_type": "stream",
     "text": [
      "/opt/jupyterhub/anaconda/lib/python3.9/site-packages/sklearn/metrics/_classification.py:1308: UndefinedMetricWarning: Precision is ill-defined and being set to 0.0 in labels with no predicted samples. Use `zero_division` parameter to control this behavior.\n",
      "  _warn_prf(average, modifier, msg_start, len(result))\n",
      "/opt/jupyterhub/anaconda/lib/python3.9/site-packages/sklearn/metrics/_classification.py:1308: UndefinedMetricWarning: Precision is ill-defined and being set to 0.0 in labels with no predicted samples. Use `zero_division` parameter to control this behavior.\n",
      "  _warn_prf(average, modifier, msg_start, len(result))\n"
     ]
    },
    {
     "name": "stdout",
     "output_type": "stream",
     "text": [
      " 14 4.61s trainloss=0.52625 validloss=0.54104 accuracy_score=0.49410 \n"
     ]
    },
    {
     "name": "stderr",
     "output_type": "stream",
     "text": [
      "/opt/jupyterhub/anaconda/lib/python3.9/site-packages/sklearn/metrics/_classification.py:1308: UndefinedMetricWarning: Precision is ill-defined and being set to 0.0 in labels with no predicted samples. Use `zero_division` parameter to control this behavior.\n",
      "  _warn_prf(average, modifier, msg_start, len(result))\n",
      "/opt/jupyterhub/anaconda/lib/python3.9/site-packages/sklearn/metrics/_classification.py:1308: UndefinedMetricWarning: Precision is ill-defined and being set to 0.0 in labels with no predicted samples. Use `zero_division` parameter to control this behavior.\n",
      "  _warn_prf(average, modifier, msg_start, len(result))\n"
     ]
    },
    {
     "name": "stdout",
     "output_type": "stream",
     "text": [
      " 15 4.45s trainloss=0.52882 validloss=0.53568 accuracy_score=0.49410 \n"
     ]
    },
    {
     "name": "stderr",
     "output_type": "stream",
     "text": [
      "/opt/jupyterhub/anaconda/lib/python3.9/site-packages/sklearn/metrics/_classification.py:1308: UndefinedMetricWarning: Precision is ill-defined and being set to 0.0 in labels with no predicted samples. Use `zero_division` parameter to control this behavior.\n",
      "  _warn_prf(average, modifier, msg_start, len(result))\n",
      "/opt/jupyterhub/anaconda/lib/python3.9/site-packages/sklearn/metrics/_classification.py:1308: UndefinedMetricWarning: Precision is ill-defined and being set to 0.0 in labels with no predicted samples. Use `zero_division` parameter to control this behavior.\n",
      "  _warn_prf(average, modifier, msg_start, len(result))\n"
     ]
    },
    {
     "name": "stdout",
     "output_type": "stream",
     "text": [
      " 16 4.16s trainloss=0.53318 validloss=0.54414 accuracy_score=0.49410 \n"
     ]
    },
    {
     "name": "stderr",
     "output_type": "stream",
     "text": [
      "/opt/jupyterhub/anaconda/lib/python3.9/site-packages/sklearn/metrics/_classification.py:1308: UndefinedMetricWarning: Precision is ill-defined and being set to 0.0 in labels with no predicted samples. Use `zero_division` parameter to control this behavior.\n",
      "  _warn_prf(average, modifier, msg_start, len(result))\n",
      "/opt/jupyterhub/anaconda/lib/python3.9/site-packages/sklearn/metrics/_classification.py:1308: UndefinedMetricWarning: Precision is ill-defined and being set to 0.0 in labels with no predicted samples. Use `zero_division` parameter to control this behavior.\n",
      "  _warn_prf(average, modifier, msg_start, len(result))\n"
     ]
    },
    {
     "name": "stdout",
     "output_type": "stream",
     "text": [
      " 17 3.79s trainloss=0.52876 validloss=0.53226 accuracy_score=0.49410 \n"
     ]
    },
    {
     "name": "stderr",
     "output_type": "stream",
     "text": [
      "/opt/jupyterhub/anaconda/lib/python3.9/site-packages/sklearn/metrics/_classification.py:1308: UndefinedMetricWarning: Precision is ill-defined and being set to 0.0 in labels with no predicted samples. Use `zero_division` parameter to control this behavior.\n",
      "  _warn_prf(average, modifier, msg_start, len(result))\n",
      "/opt/jupyterhub/anaconda/lib/python3.9/site-packages/sklearn/metrics/_classification.py:1308: UndefinedMetricWarning: Precision is ill-defined and being set to 0.0 in labels with no predicted samples. Use `zero_division` parameter to control this behavior.\n",
      "  _warn_prf(average, modifier, msg_start, len(result))\n"
     ]
    },
    {
     "name": "stdout",
     "output_type": "stream",
     "text": [
      " 18 3.52s trainloss=0.52564 validloss=0.53411 accuracy_score=0.49410 \n"
     ]
    },
    {
     "name": "stderr",
     "output_type": "stream",
     "text": [
      "/opt/jupyterhub/anaconda/lib/python3.9/site-packages/sklearn/metrics/_classification.py:1308: UndefinedMetricWarning: Precision is ill-defined and being set to 0.0 in labels with no predicted samples. Use `zero_division` parameter to control this behavior.\n",
      "  _warn_prf(average, modifier, msg_start, len(result))\n",
      "/opt/jupyterhub/anaconda/lib/python3.9/site-packages/sklearn/metrics/_classification.py:1308: UndefinedMetricWarning: Precision is ill-defined and being set to 0.0 in labels with no predicted samples. Use `zero_division` parameter to control this behavior.\n",
      "  _warn_prf(average, modifier, msg_start, len(result))\n"
     ]
    },
    {
     "name": "stdout",
     "output_type": "stream",
     "text": [
      " 19 3.10s trainloss=0.52529 validloss=0.53567 accuracy_score=0.49410 \n"
     ]
    },
    {
     "name": "stderr",
     "output_type": "stream",
     "text": [
      "/opt/jupyterhub/anaconda/lib/python3.9/site-packages/sklearn/metrics/_classification.py:1308: UndefinedMetricWarning: Precision is ill-defined and being set to 0.0 in labels with no predicted samples. Use `zero_division` parameter to control this behavior.\n",
      "  _warn_prf(average, modifier, msg_start, len(result))\n",
      "/opt/jupyterhub/anaconda/lib/python3.9/site-packages/sklearn/metrics/_classification.py:1308: UndefinedMetricWarning: Precision is ill-defined and being set to 0.0 in labels with no predicted samples. Use `zero_division` parameter to control this behavior.\n",
      "  _warn_prf(average, modifier, msg_start, len(result))\n"
     ]
    },
    {
     "name": "stdout",
     "output_type": "stream",
     "text": [
      " 20 2.91s trainloss=0.52577 validloss=0.54107 accuracy_score=0.49410 \n"
     ]
    },
    {
     "name": "stderr",
     "output_type": "stream",
     "text": [
      "/opt/jupyterhub/anaconda/lib/python3.9/site-packages/sklearn/metrics/_classification.py:1308: UndefinedMetricWarning: Precision is ill-defined and being set to 0.0 in labels with no predicted samples. Use `zero_division` parameter to control this behavior.\n",
      "  _warn_prf(average, modifier, msg_start, len(result))\n",
      "/opt/jupyterhub/anaconda/lib/python3.9/site-packages/sklearn/metrics/_classification.py:1308: UndefinedMetricWarning: Precision is ill-defined and being set to 0.0 in labels with no predicted samples. Use `zero_division` parameter to control this behavior.\n",
      "  _warn_prf(average, modifier, msg_start, len(result))\n"
     ]
    },
    {
     "name": "stdout",
     "output_type": "stream",
     "text": [
      " 21 2.94s trainloss=0.52819 validloss=0.53178 accuracy_score=0.49410 \n"
     ]
    },
    {
     "name": "stderr",
     "output_type": "stream",
     "text": [
      "/opt/jupyterhub/anaconda/lib/python3.9/site-packages/sklearn/metrics/_classification.py:1308: UndefinedMetricWarning: Precision is ill-defined and being set to 0.0 in labels with no predicted samples. Use `zero_division` parameter to control this behavior.\n",
      "  _warn_prf(average, modifier, msg_start, len(result))\n",
      "/opt/jupyterhub/anaconda/lib/python3.9/site-packages/sklearn/metrics/_classification.py:1308: UndefinedMetricWarning: Precision is ill-defined and being set to 0.0 in labels with no predicted samples. Use `zero_division` parameter to control this behavior.\n",
      "  _warn_prf(average, modifier, msg_start, len(result))\n"
     ]
    },
    {
     "name": "stdout",
     "output_type": "stream",
     "text": [
      " 22 2.94s trainloss=0.52751 validloss=0.53966 accuracy_score=0.49410 \n"
     ]
    },
    {
     "name": "stderr",
     "output_type": "stream",
     "text": [
      "/opt/jupyterhub/anaconda/lib/python3.9/site-packages/sklearn/metrics/_classification.py:1308: UndefinedMetricWarning: Precision is ill-defined and being set to 0.0 in labels with no predicted samples. Use `zero_division` parameter to control this behavior.\n",
      "  _warn_prf(average, modifier, msg_start, len(result))\n",
      "/opt/jupyterhub/anaconda/lib/python3.9/site-packages/sklearn/metrics/_classification.py:1308: UndefinedMetricWarning: Precision is ill-defined and being set to 0.0 in labels with no predicted samples. Use `zero_division` parameter to control this behavior.\n",
      "  _warn_prf(average, modifier, msg_start, len(result))\n"
     ]
    },
    {
     "name": "stdout",
     "output_type": "stream",
     "text": [
      " 23 2.94s trainloss=0.52741 validloss=0.53571 accuracy_score=0.49410 \n"
     ]
    },
    {
     "name": "stderr",
     "output_type": "stream",
     "text": [
      "/opt/jupyterhub/anaconda/lib/python3.9/site-packages/sklearn/metrics/_classification.py:1308: UndefinedMetricWarning: Precision is ill-defined and being set to 0.0 in labels with no predicted samples. Use `zero_division` parameter to control this behavior.\n",
      "  _warn_prf(average, modifier, msg_start, len(result))\n",
      "/opt/jupyterhub/anaconda/lib/python3.9/site-packages/sklearn/metrics/_classification.py:1308: UndefinedMetricWarning: Precision is ill-defined and being set to 0.0 in labels with no predicted samples. Use `zero_division` parameter to control this behavior.\n",
      "  _warn_prf(average, modifier, msg_start, len(result))\n"
     ]
    },
    {
     "name": "stdout",
     "output_type": "stream",
     "text": [
      " 24 2.94s trainloss=0.53141 validloss=0.53045 accuracy_score=0.49410 \n"
     ]
    },
    {
     "name": "stderr",
     "output_type": "stream",
     "text": [
      "/opt/jupyterhub/anaconda/lib/python3.9/site-packages/sklearn/metrics/_classification.py:1308: UndefinedMetricWarning: Precision is ill-defined and being set to 0.0 in labels with no predicted samples. Use `zero_division` parameter to control this behavior.\n",
      "  _warn_prf(average, modifier, msg_start, len(result))\n",
      "/opt/jupyterhub/anaconda/lib/python3.9/site-packages/sklearn/metrics/_classification.py:1308: UndefinedMetricWarning: Precision is ill-defined and being set to 0.0 in labels with no predicted samples. Use `zero_division` parameter to control this behavior.\n",
      "  _warn_prf(average, modifier, msg_start, len(result))\n"
     ]
    },
    {
     "name": "stdout",
     "output_type": "stream",
     "text": [
      " 25 2.94s trainloss=0.52629 validloss=0.53158 accuracy_score=0.49410 \n"
     ]
    },
    {
     "name": "stderr",
     "output_type": "stream",
     "text": [
      "/opt/jupyterhub/anaconda/lib/python3.9/site-packages/sklearn/metrics/_classification.py:1308: UndefinedMetricWarning: Precision is ill-defined and being set to 0.0 in labels with no predicted samples. Use `zero_division` parameter to control this behavior.\n",
      "  _warn_prf(average, modifier, msg_start, len(result))\n",
      "/opt/jupyterhub/anaconda/lib/python3.9/site-packages/sklearn/metrics/_classification.py:1308: UndefinedMetricWarning: Precision is ill-defined and being set to 0.0 in labels with no predicted samples. Use `zero_division` parameter to control this behavior.\n",
      "  _warn_prf(average, modifier, msg_start, len(result))\n"
     ]
    },
    {
     "name": "stdout",
     "output_type": "stream",
     "text": [
      " 26 2.94s trainloss=0.52805 validloss=0.53076 accuracy_score=0.49410 \n"
     ]
    },
    {
     "name": "stderr",
     "output_type": "stream",
     "text": [
      "/opt/jupyterhub/anaconda/lib/python3.9/site-packages/sklearn/metrics/_classification.py:1308: UndefinedMetricWarning: Precision is ill-defined and being set to 0.0 in labels with no predicted samples. Use `zero_division` parameter to control this behavior.\n",
      "  _warn_prf(average, modifier, msg_start, len(result))\n",
      "/opt/jupyterhub/anaconda/lib/python3.9/site-packages/sklearn/metrics/_classification.py:1308: UndefinedMetricWarning: Precision is ill-defined and being set to 0.0 in labels with no predicted samples. Use `zero_division` parameter to control this behavior.\n",
      "  _warn_prf(average, modifier, msg_start, len(result))\n"
     ]
    },
    {
     "name": "stdout",
     "output_type": "stream",
     "text": [
      " 27 2.94s trainloss=0.52730 validloss=0.53366 accuracy_score=0.49410 \n"
     ]
    },
    {
     "name": "stderr",
     "output_type": "stream",
     "text": [
      "/opt/jupyterhub/anaconda/lib/python3.9/site-packages/sklearn/metrics/_classification.py:1308: UndefinedMetricWarning: Precision is ill-defined and being set to 0.0 in labels with no predicted samples. Use `zero_division` parameter to control this behavior.\n",
      "  _warn_prf(average, modifier, msg_start, len(result))\n",
      "/opt/jupyterhub/anaconda/lib/python3.9/site-packages/sklearn/metrics/_classification.py:1308: UndefinedMetricWarning: Precision is ill-defined and being set to 0.0 in labels with no predicted samples. Use `zero_division` parameter to control this behavior.\n",
      "  _warn_prf(average, modifier, msg_start, len(result))\n"
     ]
    },
    {
     "name": "stdout",
     "output_type": "stream",
     "text": [
      " 28 2.94s trainloss=0.52598 validloss=0.52977 accuracy_score=0.49410 \n"
     ]
    },
    {
     "name": "stderr",
     "output_type": "stream",
     "text": [
      "/opt/jupyterhub/anaconda/lib/python3.9/site-packages/sklearn/metrics/_classification.py:1308: UndefinedMetricWarning: Precision is ill-defined and being set to 0.0 in labels with no predicted samples. Use `zero_division` parameter to control this behavior.\n",
      "  _warn_prf(average, modifier, msg_start, len(result))\n",
      "/opt/jupyterhub/anaconda/lib/python3.9/site-packages/sklearn/metrics/_classification.py:1308: UndefinedMetricWarning: Precision is ill-defined and being set to 0.0 in labels with no predicted samples. Use `zero_division` parameter to control this behavior.\n",
      "  _warn_prf(average, modifier, msg_start, len(result))\n"
     ]
    },
    {
     "name": "stdout",
     "output_type": "stream",
     "text": [
      " 29 2.94s trainloss=0.52580 validloss=0.53049 accuracy_score=0.49410 \n"
     ]
    },
    {
     "name": "stderr",
     "output_type": "stream",
     "text": [
      "/opt/jupyterhub/anaconda/lib/python3.9/site-packages/sklearn/metrics/_classification.py:1308: UndefinedMetricWarning: Precision is ill-defined and being set to 0.0 in labels with no predicted samples. Use `zero_division` parameter to control this behavior.\n",
      "  _warn_prf(average, modifier, msg_start, len(result))\n",
      "/opt/jupyterhub/anaconda/lib/python3.9/site-packages/sklearn/metrics/_classification.py:1308: UndefinedMetricWarning: Precision is ill-defined and being set to 0.0 in labels with no predicted samples. Use `zero_division` parameter to control this behavior.\n",
      "  _warn_prf(average, modifier, msg_start, len(result))\n"
     ]
    },
    {
     "name": "stdout",
     "output_type": "stream",
     "text": [
      " 30 2.95s trainloss=0.52928 validloss=0.53409 accuracy_score=0.49410 \n"
     ]
    },
    {
     "name": "stderr",
     "output_type": "stream",
     "text": [
      "/opt/jupyterhub/anaconda/lib/python3.9/site-packages/sklearn/metrics/_classification.py:1308: UndefinedMetricWarning: Precision is ill-defined and being set to 0.0 in labels with no predicted samples. Use `zero_division` parameter to control this behavior.\n",
      "  _warn_prf(average, modifier, msg_start, len(result))\n",
      "/opt/jupyterhub/anaconda/lib/python3.9/site-packages/sklearn/metrics/_classification.py:1308: UndefinedMetricWarning: Precision is ill-defined and being set to 0.0 in labels with no predicted samples. Use `zero_division` parameter to control this behavior.\n",
      "  _warn_prf(average, modifier, msg_start, len(result))\n"
     ]
    },
    {
     "name": "stdout",
     "output_type": "stream",
     "text": [
      " 31 2.95s trainloss=0.53182 validloss=0.53508 accuracy_score=0.49410 \n"
     ]
    },
    {
     "name": "stderr",
     "output_type": "stream",
     "text": [
      "/opt/jupyterhub/anaconda/lib/python3.9/site-packages/sklearn/metrics/_classification.py:1308: UndefinedMetricWarning: Precision is ill-defined and being set to 0.0 in labels with no predicted samples. Use `zero_division` parameter to control this behavior.\n",
      "  _warn_prf(average, modifier, msg_start, len(result))\n",
      "/opt/jupyterhub/anaconda/lib/python3.9/site-packages/sklearn/metrics/_classification.py:1308: UndefinedMetricWarning: Precision is ill-defined and being set to 0.0 in labels with no predicted samples. Use `zero_division` parameter to control this behavior.\n",
      "  _warn_prf(average, modifier, msg_start, len(result))\n"
     ]
    },
    {
     "name": "stdout",
     "output_type": "stream",
     "text": [
      " 32 3.01s trainloss=0.52746 validloss=0.53778 accuracy_score=0.49410 \n"
     ]
    },
    {
     "name": "stderr",
     "output_type": "stream",
     "text": [
      "/opt/jupyterhub/anaconda/lib/python3.9/site-packages/sklearn/metrics/_classification.py:1308: UndefinedMetricWarning: Precision is ill-defined and being set to 0.0 in labels with no predicted samples. Use `zero_division` parameter to control this behavior.\n",
      "  _warn_prf(average, modifier, msg_start, len(result))\n",
      "/opt/jupyterhub/anaconda/lib/python3.9/site-packages/sklearn/metrics/_classification.py:1308: UndefinedMetricWarning: Precision is ill-defined and being set to 0.0 in labels with no predicted samples. Use `zero_division` parameter to control this behavior.\n",
      "  _warn_prf(average, modifier, msg_start, len(result))\n"
     ]
    },
    {
     "name": "stdout",
     "output_type": "stream",
     "text": [
      " 33 3.55s trainloss=0.52800 validloss=0.53420 accuracy_score=0.49410 \n"
     ]
    },
    {
     "name": "stderr",
     "output_type": "stream",
     "text": [
      "/opt/jupyterhub/anaconda/lib/python3.9/site-packages/sklearn/metrics/_classification.py:1308: UndefinedMetricWarning: Precision is ill-defined and being set to 0.0 in labels with no predicted samples. Use `zero_division` parameter to control this behavior.\n",
      "  _warn_prf(average, modifier, msg_start, len(result))\n",
      "/opt/jupyterhub/anaconda/lib/python3.9/site-packages/sklearn/metrics/_classification.py:1308: UndefinedMetricWarning: Precision is ill-defined and being set to 0.0 in labels with no predicted samples. Use `zero_division` parameter to control this behavior.\n",
      "  _warn_prf(average, modifier, msg_start, len(result))\n"
     ]
    },
    {
     "name": "stdout",
     "output_type": "stream",
     "text": [
      " 34 3.34s trainloss=0.52698 validloss=0.53290 accuracy_score=0.49410 \n"
     ]
    },
    {
     "name": "stderr",
     "output_type": "stream",
     "text": [
      "/opt/jupyterhub/anaconda/lib/python3.9/site-packages/sklearn/metrics/_classification.py:1308: UndefinedMetricWarning: Precision is ill-defined and being set to 0.0 in labels with no predicted samples. Use `zero_division` parameter to control this behavior.\n",
      "  _warn_prf(average, modifier, msg_start, len(result))\n",
      "/opt/jupyterhub/anaconda/lib/python3.9/site-packages/sklearn/metrics/_classification.py:1308: UndefinedMetricWarning: Precision is ill-defined and being set to 0.0 in labels with no predicted samples. Use `zero_division` parameter to control this behavior.\n",
      "  _warn_prf(average, modifier, msg_start, len(result))\n"
     ]
    },
    {
     "name": "stdout",
     "output_type": "stream",
     "text": [
      " 35 3.34s trainloss=0.52812 validloss=0.53135 accuracy_score=0.49410 \n"
     ]
    },
    {
     "name": "stderr",
     "output_type": "stream",
     "text": [
      "/opt/jupyterhub/anaconda/lib/python3.9/site-packages/sklearn/metrics/_classification.py:1308: UndefinedMetricWarning: Precision is ill-defined and being set to 0.0 in labels with no predicted samples. Use `zero_division` parameter to control this behavior.\n",
      "  _warn_prf(average, modifier, msg_start, len(result))\n",
      "/opt/jupyterhub/anaconda/lib/python3.9/site-packages/sklearn/metrics/_classification.py:1308: UndefinedMetricWarning: Precision is ill-defined and being set to 0.0 in labels with no predicted samples. Use `zero_division` parameter to control this behavior.\n",
      "  _warn_prf(average, modifier, msg_start, len(result))\n"
     ]
    },
    {
     "name": "stdout",
     "output_type": "stream",
     "text": [
      " 36 3.35s trainloss=0.52473 validloss=0.53181 accuracy_score=0.49410 \n"
     ]
    },
    {
     "name": "stderr",
     "output_type": "stream",
     "text": [
      "/opt/jupyterhub/anaconda/lib/python3.9/site-packages/sklearn/metrics/_classification.py:1308: UndefinedMetricWarning: Precision is ill-defined and being set to 0.0 in labels with no predicted samples. Use `zero_division` parameter to control this behavior.\n",
      "  _warn_prf(average, modifier, msg_start, len(result))\n",
      "/opt/jupyterhub/anaconda/lib/python3.9/site-packages/sklearn/metrics/_classification.py:1308: UndefinedMetricWarning: Precision is ill-defined and being set to 0.0 in labels with no predicted samples. Use `zero_division` parameter to control this behavior.\n",
      "  _warn_prf(average, modifier, msg_start, len(result))\n"
     ]
    },
    {
     "name": "stdout",
     "output_type": "stream",
     "text": [
      " 37 3.35s trainloss=0.52564 validloss=0.53248 accuracy_score=0.49410 \n"
     ]
    },
    {
     "name": "stderr",
     "output_type": "stream",
     "text": [
      "/opt/jupyterhub/anaconda/lib/python3.9/site-packages/sklearn/metrics/_classification.py:1308: UndefinedMetricWarning: Precision is ill-defined and being set to 0.0 in labels with no predicted samples. Use `zero_division` parameter to control this behavior.\n",
      "  _warn_prf(average, modifier, msg_start, len(result))\n",
      "/opt/jupyterhub/anaconda/lib/python3.9/site-packages/sklearn/metrics/_classification.py:1308: UndefinedMetricWarning: Precision is ill-defined and being set to 0.0 in labels with no predicted samples. Use `zero_division` parameter to control this behavior.\n",
      "  _warn_prf(average, modifier, msg_start, len(result))\n"
     ]
    },
    {
     "name": "stdout",
     "output_type": "stream",
     "text": [
      " 38 3.36s trainloss=0.52809 validloss=0.53941 accuracy_score=0.49410 \n"
     ]
    },
    {
     "name": "stderr",
     "output_type": "stream",
     "text": [
      "/opt/jupyterhub/anaconda/lib/python3.9/site-packages/sklearn/metrics/_classification.py:1308: UndefinedMetricWarning: Precision is ill-defined and being set to 0.0 in labels with no predicted samples. Use `zero_division` parameter to control this behavior.\n",
      "  _warn_prf(average, modifier, msg_start, len(result))\n",
      "/opt/jupyterhub/anaconda/lib/python3.9/site-packages/sklearn/metrics/_classification.py:1308: UndefinedMetricWarning: Precision is ill-defined and being set to 0.0 in labels with no predicted samples. Use `zero_division` parameter to control this behavior.\n",
      "  _warn_prf(average, modifier, msg_start, len(result))\n"
     ]
    },
    {
     "name": "stdout",
     "output_type": "stream",
     "text": [
      " 39 3.36s trainloss=0.52607 validloss=0.53435 accuracy_score=0.49410 \n"
     ]
    },
    {
     "name": "stderr",
     "output_type": "stream",
     "text": [
      "/opt/jupyterhub/anaconda/lib/python3.9/site-packages/sklearn/metrics/_classification.py:1308: UndefinedMetricWarning: Precision is ill-defined and being set to 0.0 in labels with no predicted samples. Use `zero_division` parameter to control this behavior.\n",
      "  _warn_prf(average, modifier, msg_start, len(result))\n",
      "/opt/jupyterhub/anaconda/lib/python3.9/site-packages/sklearn/metrics/_classification.py:1308: UndefinedMetricWarning: Precision is ill-defined and being set to 0.0 in labels with no predicted samples. Use `zero_division` parameter to control this behavior.\n",
      "  _warn_prf(average, modifier, msg_start, len(result))\n"
     ]
    },
    {
     "name": "stdout",
     "output_type": "stream",
     "text": [
      " 40 3.36s trainloss=0.52992 validloss=0.53209 accuracy_score=0.49410 \n"
     ]
    },
    {
     "name": "stderr",
     "output_type": "stream",
     "text": [
      "/opt/jupyterhub/anaconda/lib/python3.9/site-packages/sklearn/metrics/_classification.py:1308: UndefinedMetricWarning: Precision is ill-defined and being set to 0.0 in labels with no predicted samples. Use `zero_division` parameter to control this behavior.\n",
      "  _warn_prf(average, modifier, msg_start, len(result))\n",
      "/opt/jupyterhub/anaconda/lib/python3.9/site-packages/sklearn/metrics/_classification.py:1308: UndefinedMetricWarning: Precision is ill-defined and being set to 0.0 in labels with no predicted samples. Use `zero_division` parameter to control this behavior.\n",
      "  _warn_prf(average, modifier, msg_start, len(result))\n"
     ]
    },
    {
     "name": "stdout",
     "output_type": "stream",
     "text": [
      " 41 3.36s trainloss=0.53181 validloss=0.53227 accuracy_score=0.49410 \n"
     ]
    },
    {
     "name": "stderr",
     "output_type": "stream",
     "text": [
      "/opt/jupyterhub/anaconda/lib/python3.9/site-packages/sklearn/metrics/_classification.py:1308: UndefinedMetricWarning: Precision is ill-defined and being set to 0.0 in labels with no predicted samples. Use `zero_division` parameter to control this behavior.\n",
      "  _warn_prf(average, modifier, msg_start, len(result))\n",
      "/opt/jupyterhub/anaconda/lib/python3.9/site-packages/sklearn/metrics/_classification.py:1308: UndefinedMetricWarning: Precision is ill-defined and being set to 0.0 in labels with no predicted samples. Use `zero_division` parameter to control this behavior.\n",
      "  _warn_prf(average, modifier, msg_start, len(result))\n"
     ]
    },
    {
     "name": "stdout",
     "output_type": "stream",
     "text": [
      " 42 3.35s trainloss=0.52515 validloss=0.53404 accuracy_score=0.49410 \n"
     ]
    },
    {
     "name": "stderr",
     "output_type": "stream",
     "text": [
      "/opt/jupyterhub/anaconda/lib/python3.9/site-packages/sklearn/metrics/_classification.py:1308: UndefinedMetricWarning: Precision is ill-defined and being set to 0.0 in labels with no predicted samples. Use `zero_division` parameter to control this behavior.\n",
      "  _warn_prf(average, modifier, msg_start, len(result))\n",
      "/opt/jupyterhub/anaconda/lib/python3.9/site-packages/sklearn/metrics/_classification.py:1308: UndefinedMetricWarning: Precision is ill-defined and being set to 0.0 in labels with no predicted samples. Use `zero_division` parameter to control this behavior.\n",
      "  _warn_prf(average, modifier, msg_start, len(result))\n"
     ]
    },
    {
     "name": "stdout",
     "output_type": "stream",
     "text": [
      " 43 3.36s trainloss=0.52699 validloss=0.53354 accuracy_score=0.49410 \n"
     ]
    },
    {
     "name": "stderr",
     "output_type": "stream",
     "text": [
      "/opt/jupyterhub/anaconda/lib/python3.9/site-packages/sklearn/metrics/_classification.py:1308: UndefinedMetricWarning: Precision is ill-defined and being set to 0.0 in labels with no predicted samples. Use `zero_division` parameter to control this behavior.\n",
      "  _warn_prf(average, modifier, msg_start, len(result))\n",
      "/opt/jupyterhub/anaconda/lib/python3.9/site-packages/sklearn/metrics/_classification.py:1308: UndefinedMetricWarning: Precision is ill-defined and being set to 0.0 in labels with no predicted samples. Use `zero_division` parameter to control this behavior.\n",
      "  _warn_prf(average, modifier, msg_start, len(result))\n"
     ]
    },
    {
     "name": "stdout",
     "output_type": "stream",
     "text": [
      " 44 3.35s trainloss=0.52342 validloss=0.53023 accuracy_score=0.49410 \n"
     ]
    },
    {
     "name": "stderr",
     "output_type": "stream",
     "text": [
      "/opt/jupyterhub/anaconda/lib/python3.9/site-packages/sklearn/metrics/_classification.py:1308: UndefinedMetricWarning: Precision is ill-defined and being set to 0.0 in labels with no predicted samples. Use `zero_division` parameter to control this behavior.\n",
      "  _warn_prf(average, modifier, msg_start, len(result))\n",
      "/opt/jupyterhub/anaconda/lib/python3.9/site-packages/sklearn/metrics/_classification.py:1308: UndefinedMetricWarning: Precision is ill-defined and being set to 0.0 in labels with no predicted samples. Use `zero_division` parameter to control this behavior.\n",
      "  _warn_prf(average, modifier, msg_start, len(result))\n"
     ]
    },
    {
     "name": "stdout",
     "output_type": "stream",
     "text": [
      " 45 3.16s trainloss=0.52516 validloss=0.53475 accuracy_score=0.49410 \n"
     ]
    },
    {
     "name": "stderr",
     "output_type": "stream",
     "text": [
      "/opt/jupyterhub/anaconda/lib/python3.9/site-packages/sklearn/metrics/_classification.py:1308: UndefinedMetricWarning: Precision is ill-defined and being set to 0.0 in labels with no predicted samples. Use `zero_division` parameter to control this behavior.\n",
      "  _warn_prf(average, modifier, msg_start, len(result))\n",
      "/opt/jupyterhub/anaconda/lib/python3.9/site-packages/sklearn/metrics/_classification.py:1308: UndefinedMetricWarning: Precision is ill-defined and being set to 0.0 in labels with no predicted samples. Use `zero_division` parameter to control this behavior.\n",
      "  _warn_prf(average, modifier, msg_start, len(result))\n"
     ]
    },
    {
     "name": "stdout",
     "output_type": "stream",
     "text": [
      " 46 3.22s trainloss=0.52569 validloss=0.53461 accuracy_score=0.49410 \n"
     ]
    },
    {
     "name": "stderr",
     "output_type": "stream",
     "text": [
      "/opt/jupyterhub/anaconda/lib/python3.9/site-packages/sklearn/metrics/_classification.py:1308: UndefinedMetricWarning: Precision is ill-defined and being set to 0.0 in labels with no predicted samples. Use `zero_division` parameter to control this behavior.\n",
      "  _warn_prf(average, modifier, msg_start, len(result))\n",
      "/opt/jupyterhub/anaconda/lib/python3.9/site-packages/sklearn/metrics/_classification.py:1308: UndefinedMetricWarning: Precision is ill-defined and being set to 0.0 in labels with no predicted samples. Use `zero_division` parameter to control this behavior.\n",
      "  _warn_prf(average, modifier, msg_start, len(result))\n"
     ]
    },
    {
     "name": "stdout",
     "output_type": "stream",
     "text": [
      " 47 3.48s trainloss=0.52727 validloss=0.53205 accuracy_score=0.49410 \n"
     ]
    },
    {
     "name": "stderr",
     "output_type": "stream",
     "text": [
      "/opt/jupyterhub/anaconda/lib/python3.9/site-packages/sklearn/metrics/_classification.py:1308: UndefinedMetricWarning: Precision is ill-defined and being set to 0.0 in labels with no predicted samples. Use `zero_division` parameter to control this behavior.\n",
      "  _warn_prf(average, modifier, msg_start, len(result))\n",
      "/opt/jupyterhub/anaconda/lib/python3.9/site-packages/sklearn/metrics/_classification.py:1308: UndefinedMetricWarning: Precision is ill-defined and being set to 0.0 in labels with no predicted samples. Use `zero_division` parameter to control this behavior.\n",
      "  _warn_prf(average, modifier, msg_start, len(result))\n"
     ]
    },
    {
     "name": "stdout",
     "output_type": "stream",
     "text": [
      " 48 3.48s trainloss=0.53000 validloss=0.53028 accuracy_score=0.49410 \n"
     ]
    },
    {
     "name": "stderr",
     "output_type": "stream",
     "text": [
      "/opt/jupyterhub/anaconda/lib/python3.9/site-packages/sklearn/metrics/_classification.py:1308: UndefinedMetricWarning: Precision is ill-defined and being set to 0.0 in labels with no predicted samples. Use `zero_division` parameter to control this behavior.\n",
      "  _warn_prf(average, modifier, msg_start, len(result))\n",
      "/opt/jupyterhub/anaconda/lib/python3.9/site-packages/sklearn/metrics/_classification.py:1308: UndefinedMetricWarning: Precision is ill-defined and being set to 0.0 in labels with no predicted samples. Use `zero_division` parameter to control this behavior.\n",
      "  _warn_prf(average, modifier, msg_start, len(result))\n"
     ]
    },
    {
     "name": "stdout",
     "output_type": "stream",
     "text": [
      " 49 3.45s trainloss=0.52628 validloss=0.53165 accuracy_score=0.49410 \n"
     ]
    },
    {
     "name": "stderr",
     "output_type": "stream",
     "text": [
      "/opt/jupyterhub/anaconda/lib/python3.9/site-packages/sklearn/metrics/_classification.py:1308: UndefinedMetricWarning: Precision is ill-defined and being set to 0.0 in labels with no predicted samples. Use `zero_division` parameter to control this behavior.\n",
      "  _warn_prf(average, modifier, msg_start, len(result))\n",
      "/opt/jupyterhub/anaconda/lib/python3.9/site-packages/sklearn/metrics/_classification.py:1308: UndefinedMetricWarning: Precision is ill-defined and being set to 0.0 in labels with no predicted samples. Use `zero_division` parameter to control this behavior.\n",
      "  _warn_prf(average, modifier, msg_start, len(result))\n"
     ]
    },
    {
     "name": "stdout",
     "output_type": "stream",
     "text": [
      " 50 3.45s trainloss=0.52576 validloss=0.53228 accuracy_score=0.49410 \n"
     ]
    },
    {
     "name": "stderr",
     "output_type": "stream",
     "text": [
      "/opt/jupyterhub/anaconda/lib/python3.9/site-packages/sklearn/metrics/_classification.py:1308: UndefinedMetricWarning: Precision is ill-defined and being set to 0.0 in labels with no predicted samples. Use `zero_division` parameter to control this behavior.\n",
      "  _warn_prf(average, modifier, msg_start, len(result))\n",
      "/opt/jupyterhub/anaconda/lib/python3.9/site-packages/sklearn/metrics/_classification.py:1308: UndefinedMetricWarning: Precision is ill-defined and being set to 0.0 in labels with no predicted samples. Use `zero_division` parameter to control this behavior.\n",
      "  _warn_prf(average, modifier, msg_start, len(result))\n"
     ]
    },
    {
     "name": "stdout",
     "output_type": "stream",
     "text": [
      " 51 3.45s trainloss=0.52548 validloss=0.53416 accuracy_score=0.49410 \n"
     ]
    },
    {
     "name": "stderr",
     "output_type": "stream",
     "text": [
      "/opt/jupyterhub/anaconda/lib/python3.9/site-packages/sklearn/metrics/_classification.py:1308: UndefinedMetricWarning: Precision is ill-defined and being set to 0.0 in labels with no predicted samples. Use `zero_division` parameter to control this behavior.\n",
      "  _warn_prf(average, modifier, msg_start, len(result))\n",
      "/opt/jupyterhub/anaconda/lib/python3.9/site-packages/sklearn/metrics/_classification.py:1308: UndefinedMetricWarning: Precision is ill-defined and being set to 0.0 in labels with no predicted samples. Use `zero_division` parameter to control this behavior.\n",
      "  _warn_prf(average, modifier, msg_start, len(result))\n"
     ]
    },
    {
     "name": "stdout",
     "output_type": "stream",
     "text": [
      " 52 3.45s trainloss=0.52967 validloss=0.53185 accuracy_score=0.49410 \n"
     ]
    },
    {
     "name": "stderr",
     "output_type": "stream",
     "text": [
      "/opt/jupyterhub/anaconda/lib/python3.9/site-packages/sklearn/metrics/_classification.py:1308: UndefinedMetricWarning: Precision is ill-defined and being set to 0.0 in labels with no predicted samples. Use `zero_division` parameter to control this behavior.\n",
      "  _warn_prf(average, modifier, msg_start, len(result))\n",
      "/opt/jupyterhub/anaconda/lib/python3.9/site-packages/sklearn/metrics/_classification.py:1308: UndefinedMetricWarning: Precision is ill-defined and being set to 0.0 in labels with no predicted samples. Use `zero_division` parameter to control this behavior.\n",
      "  _warn_prf(average, modifier, msg_start, len(result))\n"
     ]
    },
    {
     "name": "stdout",
     "output_type": "stream",
     "text": [
      " 53 3.45s trainloss=0.52772 validloss=0.53576 accuracy_score=0.49410 \n"
     ]
    },
    {
     "name": "stderr",
     "output_type": "stream",
     "text": [
      "/opt/jupyterhub/anaconda/lib/python3.9/site-packages/sklearn/metrics/_classification.py:1308: UndefinedMetricWarning: Precision is ill-defined and being set to 0.0 in labels with no predicted samples. Use `zero_division` parameter to control this behavior.\n",
      "  _warn_prf(average, modifier, msg_start, len(result))\n",
      "/opt/jupyterhub/anaconda/lib/python3.9/site-packages/sklearn/metrics/_classification.py:1308: UndefinedMetricWarning: Precision is ill-defined and being set to 0.0 in labels with no predicted samples. Use `zero_division` parameter to control this behavior.\n",
      "  _warn_prf(average, modifier, msg_start, len(result))\n"
     ]
    },
    {
     "name": "stdout",
     "output_type": "stream",
     "text": [
      " 54 3.45s trainloss=0.52643 validloss=0.53383 accuracy_score=0.49410 \n"
     ]
    },
    {
     "name": "stderr",
     "output_type": "stream",
     "text": [
      "/opt/jupyterhub/anaconda/lib/python3.9/site-packages/sklearn/metrics/_classification.py:1308: UndefinedMetricWarning: Precision is ill-defined and being set to 0.0 in labels with no predicted samples. Use `zero_division` parameter to control this behavior.\n",
      "  _warn_prf(average, modifier, msg_start, len(result))\n",
      "/opt/jupyterhub/anaconda/lib/python3.9/site-packages/sklearn/metrics/_classification.py:1308: UndefinedMetricWarning: Precision is ill-defined and being set to 0.0 in labels with no predicted samples. Use `zero_division` parameter to control this behavior.\n",
      "  _warn_prf(average, modifier, msg_start, len(result))\n"
     ]
    },
    {
     "name": "stdout",
     "output_type": "stream",
     "text": [
      " 55 3.44s trainloss=0.52798 validloss=0.53036 accuracy_score=0.49410 \n"
     ]
    },
    {
     "name": "stderr",
     "output_type": "stream",
     "text": [
      "/opt/jupyterhub/anaconda/lib/python3.9/site-packages/sklearn/metrics/_classification.py:1308: UndefinedMetricWarning: Precision is ill-defined and being set to 0.0 in labels with no predicted samples. Use `zero_division` parameter to control this behavior.\n",
      "  _warn_prf(average, modifier, msg_start, len(result))\n",
      "/opt/jupyterhub/anaconda/lib/python3.9/site-packages/sklearn/metrics/_classification.py:1308: UndefinedMetricWarning: Precision is ill-defined and being set to 0.0 in labels with no predicted samples. Use `zero_division` parameter to control this behavior.\n",
      "  _warn_prf(average, modifier, msg_start, len(result))\n"
     ]
    },
    {
     "name": "stdout",
     "output_type": "stream",
     "text": [
      " 56 3.54s trainloss=0.52680 validloss=0.53695 accuracy_score=0.49410 \n"
     ]
    },
    {
     "name": "stderr",
     "output_type": "stream",
     "text": [
      "/opt/jupyterhub/anaconda/lib/python3.9/site-packages/sklearn/metrics/_classification.py:1308: UndefinedMetricWarning: Precision is ill-defined and being set to 0.0 in labels with no predicted samples. Use `zero_division` parameter to control this behavior.\n",
      "  _warn_prf(average, modifier, msg_start, len(result))\n",
      "/opt/jupyterhub/anaconda/lib/python3.9/site-packages/sklearn/metrics/_classification.py:1308: UndefinedMetricWarning: Precision is ill-defined and being set to 0.0 in labels with no predicted samples. Use `zero_division` parameter to control this behavior.\n",
      "  _warn_prf(average, modifier, msg_start, len(result))\n"
     ]
    },
    {
     "name": "stdout",
     "output_type": "stream",
     "text": [
      " 57 3.76s trainloss=0.52849 validloss=0.52989 accuracy_score=0.49410 \n"
     ]
    },
    {
     "name": "stderr",
     "output_type": "stream",
     "text": [
      "/opt/jupyterhub/anaconda/lib/python3.9/site-packages/sklearn/metrics/_classification.py:1308: UndefinedMetricWarning: Precision is ill-defined and being set to 0.0 in labels with no predicted samples. Use `zero_division` parameter to control this behavior.\n",
      "  _warn_prf(average, modifier, msg_start, len(result))\n",
      "/opt/jupyterhub/anaconda/lib/python3.9/site-packages/sklearn/metrics/_classification.py:1308: UndefinedMetricWarning: Precision is ill-defined and being set to 0.0 in labels with no predicted samples. Use `zero_division` parameter to control this behavior.\n",
      "  _warn_prf(average, modifier, msg_start, len(result))\n"
     ]
    },
    {
     "name": "stdout",
     "output_type": "stream",
     "text": [
      " 58 3.86s trainloss=0.52991 validloss=0.53037 accuracy_score=0.49410 \n"
     ]
    },
    {
     "name": "stderr",
     "output_type": "stream",
     "text": [
      "/opt/jupyterhub/anaconda/lib/python3.9/site-packages/sklearn/metrics/_classification.py:1308: UndefinedMetricWarning: Precision is ill-defined and being set to 0.0 in labels with no predicted samples. Use `zero_division` parameter to control this behavior.\n",
      "  _warn_prf(average, modifier, msg_start, len(result))\n",
      "/opt/jupyterhub/anaconda/lib/python3.9/site-packages/sklearn/metrics/_classification.py:1308: UndefinedMetricWarning: Precision is ill-defined and being set to 0.0 in labels with no predicted samples. Use `zero_division` parameter to control this behavior.\n",
      "  _warn_prf(average, modifier, msg_start, len(result))\n"
     ]
    },
    {
     "name": "stdout",
     "output_type": "stream",
     "text": [
      " 59 3.88s trainloss=0.52371 validloss=0.53125 accuracy_score=0.49410 \n"
     ]
    },
    {
     "name": "stderr",
     "output_type": "stream",
     "text": [
      "/opt/jupyterhub/anaconda/lib/python3.9/site-packages/sklearn/metrics/_classification.py:1308: UndefinedMetricWarning: Precision is ill-defined and being set to 0.0 in labels with no predicted samples. Use `zero_division` parameter to control this behavior.\n",
      "  _warn_prf(average, modifier, msg_start, len(result))\n",
      "/opt/jupyterhub/anaconda/lib/python3.9/site-packages/sklearn/metrics/_classification.py:1308: UndefinedMetricWarning: Precision is ill-defined and being set to 0.0 in labels with no predicted samples. Use `zero_division` parameter to control this behavior.\n",
      "  _warn_prf(average, modifier, msg_start, len(result))\n"
     ]
    },
    {
     "name": "stdout",
     "output_type": "stream",
     "text": [
      " 60 3.89s trainloss=0.52675 validloss=0.52918 accuracy_score=0.49410 \n"
     ]
    },
    {
     "name": "stderr",
     "output_type": "stream",
     "text": [
      "/opt/jupyterhub/anaconda/lib/python3.9/site-packages/sklearn/metrics/_classification.py:1308: UndefinedMetricWarning: Precision is ill-defined and being set to 0.0 in labels with no predicted samples. Use `zero_division` parameter to control this behavior.\n",
      "  _warn_prf(average, modifier, msg_start, len(result))\n",
      "/opt/jupyterhub/anaconda/lib/python3.9/site-packages/sklearn/metrics/_classification.py:1308: UndefinedMetricWarning: Precision is ill-defined and being set to 0.0 in labels with no predicted samples. Use `zero_division` parameter to control this behavior.\n",
      "  _warn_prf(average, modifier, msg_start, len(result))\n"
     ]
    },
    {
     "name": "stdout",
     "output_type": "stream",
     "text": [
      " 61 3.89s trainloss=0.52793 validloss=0.54030 accuracy_score=0.49410 \n"
     ]
    },
    {
     "name": "stderr",
     "output_type": "stream",
     "text": [
      "/opt/jupyterhub/anaconda/lib/python3.9/site-packages/sklearn/metrics/_classification.py:1308: UndefinedMetricWarning: Precision is ill-defined and being set to 0.0 in labels with no predicted samples. Use `zero_division` parameter to control this behavior.\n",
      "  _warn_prf(average, modifier, msg_start, len(result))\n",
      "/opt/jupyterhub/anaconda/lib/python3.9/site-packages/sklearn/metrics/_classification.py:1308: UndefinedMetricWarning: Precision is ill-defined and being set to 0.0 in labels with no predicted samples. Use `zero_division` parameter to control this behavior.\n",
      "  _warn_prf(average, modifier, msg_start, len(result))\n"
     ]
    },
    {
     "name": "stdout",
     "output_type": "stream",
     "text": [
      " 62 3.88s trainloss=0.52696 validloss=0.53097 accuracy_score=0.49410 \n"
     ]
    },
    {
     "name": "stderr",
     "output_type": "stream",
     "text": [
      "/opt/jupyterhub/anaconda/lib/python3.9/site-packages/sklearn/metrics/_classification.py:1308: UndefinedMetricWarning: Precision is ill-defined and being set to 0.0 in labels with no predicted samples. Use `zero_division` parameter to control this behavior.\n",
      "  _warn_prf(average, modifier, msg_start, len(result))\n",
      "/opt/jupyterhub/anaconda/lib/python3.9/site-packages/sklearn/metrics/_classification.py:1308: UndefinedMetricWarning: Precision is ill-defined and being set to 0.0 in labels with no predicted samples. Use `zero_division` parameter to control this behavior.\n",
      "  _warn_prf(average, modifier, msg_start, len(result))\n"
     ]
    },
    {
     "name": "stdout",
     "output_type": "stream",
     "text": [
      " 63 3.87s trainloss=0.53134 validloss=0.53791 accuracy_score=0.49410 \n"
     ]
    },
    {
     "name": "stderr",
     "output_type": "stream",
     "text": [
      "/opt/jupyterhub/anaconda/lib/python3.9/site-packages/sklearn/metrics/_classification.py:1308: UndefinedMetricWarning: Precision is ill-defined and being set to 0.0 in labels with no predicted samples. Use `zero_division` parameter to control this behavior.\n",
      "  _warn_prf(average, modifier, msg_start, len(result))\n",
      "/opt/jupyterhub/anaconda/lib/python3.9/site-packages/sklearn/metrics/_classification.py:1308: UndefinedMetricWarning: Precision is ill-defined and being set to 0.0 in labels with no predicted samples. Use `zero_division` parameter to control this behavior.\n",
      "  _warn_prf(average, modifier, msg_start, len(result))\n"
     ]
    },
    {
     "name": "stdout",
     "output_type": "stream",
     "text": [
      " 64 3.84s trainloss=0.53017 validloss=0.53503 accuracy_score=0.49410 \n"
     ]
    },
    {
     "name": "stderr",
     "output_type": "stream",
     "text": [
      "/opt/jupyterhub/anaconda/lib/python3.9/site-packages/sklearn/metrics/_classification.py:1308: UndefinedMetricWarning: Precision is ill-defined and being set to 0.0 in labels with no predicted samples. Use `zero_division` parameter to control this behavior.\n",
      "  _warn_prf(average, modifier, msg_start, len(result))\n",
      "/opt/jupyterhub/anaconda/lib/python3.9/site-packages/sklearn/metrics/_classification.py:1308: UndefinedMetricWarning: Precision is ill-defined and being set to 0.0 in labels with no predicted samples. Use `zero_division` parameter to control this behavior.\n",
      "  _warn_prf(average, modifier, msg_start, len(result))\n"
     ]
    },
    {
     "name": "stdout",
     "output_type": "stream",
     "text": [
      " 65 3.86s trainloss=0.52514 validloss=0.53190 accuracy_score=0.49410 \n"
     ]
    },
    {
     "name": "stderr",
     "output_type": "stream",
     "text": [
      "/opt/jupyterhub/anaconda/lib/python3.9/site-packages/sklearn/metrics/_classification.py:1308: UndefinedMetricWarning: Precision is ill-defined and being set to 0.0 in labels with no predicted samples. Use `zero_division` parameter to control this behavior.\n",
      "  _warn_prf(average, modifier, msg_start, len(result))\n",
      "/opt/jupyterhub/anaconda/lib/python3.9/site-packages/sklearn/metrics/_classification.py:1308: UndefinedMetricWarning: Precision is ill-defined and being set to 0.0 in labels with no predicted samples. Use `zero_division` parameter to control this behavior.\n",
      "  _warn_prf(average, modifier, msg_start, len(result))\n"
     ]
    },
    {
     "name": "stdout",
     "output_type": "stream",
     "text": [
      " 66 3.88s trainloss=0.53203 validloss=0.53085 accuracy_score=0.49410 \n"
     ]
    },
    {
     "name": "stderr",
     "output_type": "stream",
     "text": [
      "/opt/jupyterhub/anaconda/lib/python3.9/site-packages/sklearn/metrics/_classification.py:1308: UndefinedMetricWarning: Precision is ill-defined and being set to 0.0 in labels with no predicted samples. Use `zero_division` parameter to control this behavior.\n",
      "  _warn_prf(average, modifier, msg_start, len(result))\n",
      "/opt/jupyterhub/anaconda/lib/python3.9/site-packages/sklearn/metrics/_classification.py:1308: UndefinedMetricWarning: Precision is ill-defined and being set to 0.0 in labels with no predicted samples. Use `zero_division` parameter to control this behavior.\n",
      "  _warn_prf(average, modifier, msg_start, len(result))\n"
     ]
    },
    {
     "name": "stdout",
     "output_type": "stream",
     "text": [
      " 67 3.88s trainloss=0.52694 validloss=0.53637 accuracy_score=0.49410 \n"
     ]
    },
    {
     "name": "stderr",
     "output_type": "stream",
     "text": [
      "/opt/jupyterhub/anaconda/lib/python3.9/site-packages/sklearn/metrics/_classification.py:1308: UndefinedMetricWarning: Precision is ill-defined and being set to 0.0 in labels with no predicted samples. Use `zero_division` parameter to control this behavior.\n",
      "  _warn_prf(average, modifier, msg_start, len(result))\n",
      "/opt/jupyterhub/anaconda/lib/python3.9/site-packages/sklearn/metrics/_classification.py:1308: UndefinedMetricWarning: Precision is ill-defined and being set to 0.0 in labels with no predicted samples. Use `zero_division` parameter to control this behavior.\n",
      "  _warn_prf(average, modifier, msg_start, len(result))\n"
     ]
    },
    {
     "name": "stdout",
     "output_type": "stream",
     "text": [
      " 68 3.51s trainloss=0.52962 validloss=0.53153 accuracy_score=0.49410 \n"
     ]
    },
    {
     "name": "stderr",
     "output_type": "stream",
     "text": [
      "/opt/jupyterhub/anaconda/lib/python3.9/site-packages/sklearn/metrics/_classification.py:1308: UndefinedMetricWarning: Precision is ill-defined and being set to 0.0 in labels with no predicted samples. Use `zero_division` parameter to control this behavior.\n",
      "  _warn_prf(average, modifier, msg_start, len(result))\n",
      "/opt/jupyterhub/anaconda/lib/python3.9/site-packages/sklearn/metrics/_classification.py:1308: UndefinedMetricWarning: Precision is ill-defined and being set to 0.0 in labels with no predicted samples. Use `zero_division` parameter to control this behavior.\n",
      "  _warn_prf(average, modifier, msg_start, len(result))\n"
     ]
    },
    {
     "name": "stdout",
     "output_type": "stream",
     "text": [
      " 69 3.44s trainloss=0.52821 validloss=0.53057 accuracy_score=0.49410 \n"
     ]
    },
    {
     "name": "stderr",
     "output_type": "stream",
     "text": [
      "/opt/jupyterhub/anaconda/lib/python3.9/site-packages/sklearn/metrics/_classification.py:1308: UndefinedMetricWarning: Precision is ill-defined and being set to 0.0 in labels with no predicted samples. Use `zero_division` parameter to control this behavior.\n",
      "  _warn_prf(average, modifier, msg_start, len(result))\n",
      "/opt/jupyterhub/anaconda/lib/python3.9/site-packages/sklearn/metrics/_classification.py:1308: UndefinedMetricWarning: Precision is ill-defined and being set to 0.0 in labels with no predicted samples. Use `zero_division` parameter to control this behavior.\n",
      "  _warn_prf(average, modifier, msg_start, len(result))\n"
     ]
    },
    {
     "name": "stdout",
     "output_type": "stream",
     "text": [
      " 70 3.16s trainloss=0.52974 validloss=0.53457 accuracy_score=0.49410 \n"
     ]
    },
    {
     "name": "stderr",
     "output_type": "stream",
     "text": [
      "/opt/jupyterhub/anaconda/lib/python3.9/site-packages/sklearn/metrics/_classification.py:1308: UndefinedMetricWarning: Precision is ill-defined and being set to 0.0 in labels with no predicted samples. Use `zero_division` parameter to control this behavior.\n",
      "  _warn_prf(average, modifier, msg_start, len(result))\n",
      "/opt/jupyterhub/anaconda/lib/python3.9/site-packages/sklearn/metrics/_classification.py:1308: UndefinedMetricWarning: Precision is ill-defined and being set to 0.0 in labels with no predicted samples. Use `zero_division` parameter to control this behavior.\n",
      "  _warn_prf(average, modifier, msg_start, len(result))\n"
     ]
    },
    {
     "name": "stdout",
     "output_type": "stream",
     "text": [
      " 71 3.06s trainloss=0.52441 validloss=0.52975 accuracy_score=0.49410 \n"
     ]
    },
    {
     "name": "stderr",
     "output_type": "stream",
     "text": [
      "/opt/jupyterhub/anaconda/lib/python3.9/site-packages/sklearn/metrics/_classification.py:1308: UndefinedMetricWarning: Precision is ill-defined and being set to 0.0 in labels with no predicted samples. Use `zero_division` parameter to control this behavior.\n",
      "  _warn_prf(average, modifier, msg_start, len(result))\n",
      "/opt/jupyterhub/anaconda/lib/python3.9/site-packages/sklearn/metrics/_classification.py:1308: UndefinedMetricWarning: Precision is ill-defined and being set to 0.0 in labels with no predicted samples. Use `zero_division` parameter to control this behavior.\n",
      "  _warn_prf(average, modifier, msg_start, len(result))\n"
     ]
    },
    {
     "name": "stdout",
     "output_type": "stream",
     "text": [
      " 72 2.94s trainloss=0.52681 validloss=0.53200 accuracy_score=0.49410 \n"
     ]
    },
    {
     "name": "stderr",
     "output_type": "stream",
     "text": [
      "/opt/jupyterhub/anaconda/lib/python3.9/site-packages/sklearn/metrics/_classification.py:1308: UndefinedMetricWarning: Precision is ill-defined and being set to 0.0 in labels with no predicted samples. Use `zero_division` parameter to control this behavior.\n",
      "  _warn_prf(average, modifier, msg_start, len(result))\n",
      "/opt/jupyterhub/anaconda/lib/python3.9/site-packages/sklearn/metrics/_classification.py:1308: UndefinedMetricWarning: Precision is ill-defined and being set to 0.0 in labels with no predicted samples. Use `zero_division` parameter to control this behavior.\n",
      "  _warn_prf(average, modifier, msg_start, len(result))\n"
     ]
    },
    {
     "name": "stdout",
     "output_type": "stream",
     "text": [
      " 73 2.94s trainloss=0.52872 validloss=0.53340 accuracy_score=0.49410 \n"
     ]
    },
    {
     "name": "stderr",
     "output_type": "stream",
     "text": [
      "/opt/jupyterhub/anaconda/lib/python3.9/site-packages/sklearn/metrics/_classification.py:1308: UndefinedMetricWarning: Precision is ill-defined and being set to 0.0 in labels with no predicted samples. Use `zero_division` parameter to control this behavior.\n",
      "  _warn_prf(average, modifier, msg_start, len(result))\n",
      "/opt/jupyterhub/anaconda/lib/python3.9/site-packages/sklearn/metrics/_classification.py:1308: UndefinedMetricWarning: Precision is ill-defined and being set to 0.0 in labels with no predicted samples. Use `zero_division` parameter to control this behavior.\n",
      "  _warn_prf(average, modifier, msg_start, len(result))\n"
     ]
    },
    {
     "name": "stdout",
     "output_type": "stream",
     "text": [
      " 74 2.95s trainloss=0.52753 validloss=0.53024 accuracy_score=0.49410 \n"
     ]
    },
    {
     "name": "stderr",
     "output_type": "stream",
     "text": [
      "/opt/jupyterhub/anaconda/lib/python3.9/site-packages/sklearn/metrics/_classification.py:1308: UndefinedMetricWarning: Precision is ill-defined and being set to 0.0 in labels with no predicted samples. Use `zero_division` parameter to control this behavior.\n",
      "  _warn_prf(average, modifier, msg_start, len(result))\n",
      "/opt/jupyterhub/anaconda/lib/python3.9/site-packages/sklearn/metrics/_classification.py:1308: UndefinedMetricWarning: Precision is ill-defined and being set to 0.0 in labels with no predicted samples. Use `zero_division` parameter to control this behavior.\n",
      "  _warn_prf(average, modifier, msg_start, len(result))\n"
     ]
    },
    {
     "name": "stdout",
     "output_type": "stream",
     "text": [
      " 75 2.94s trainloss=0.52567 validloss=0.53378 accuracy_score=0.49410 \n"
     ]
    },
    {
     "name": "stderr",
     "output_type": "stream",
     "text": [
      "/opt/jupyterhub/anaconda/lib/python3.9/site-packages/sklearn/metrics/_classification.py:1308: UndefinedMetricWarning: Precision is ill-defined and being set to 0.0 in labels with no predicted samples. Use `zero_division` parameter to control this behavior.\n",
      "  _warn_prf(average, modifier, msg_start, len(result))\n",
      "/opt/jupyterhub/anaconda/lib/python3.9/site-packages/sklearn/metrics/_classification.py:1308: UndefinedMetricWarning: Precision is ill-defined and being set to 0.0 in labels with no predicted samples. Use `zero_division` parameter to control this behavior.\n",
      "  _warn_prf(average, modifier, msg_start, len(result))\n"
     ]
    },
    {
     "name": "stdout",
     "output_type": "stream",
     "text": [
      " 76 2.94s trainloss=0.52839 validloss=0.53069 accuracy_score=0.49410 \n"
     ]
    },
    {
     "name": "stderr",
     "output_type": "stream",
     "text": [
      "/opt/jupyterhub/anaconda/lib/python3.9/site-packages/sklearn/metrics/_classification.py:1308: UndefinedMetricWarning: Precision is ill-defined and being set to 0.0 in labels with no predicted samples. Use `zero_division` parameter to control this behavior.\n",
      "  _warn_prf(average, modifier, msg_start, len(result))\n",
      "/opt/jupyterhub/anaconda/lib/python3.9/site-packages/sklearn/metrics/_classification.py:1308: UndefinedMetricWarning: Precision is ill-defined and being set to 0.0 in labels with no predicted samples. Use `zero_division` parameter to control this behavior.\n",
      "  _warn_prf(average, modifier, msg_start, len(result))\n"
     ]
    },
    {
     "name": "stdout",
     "output_type": "stream",
     "text": [
      " 77 2.94s trainloss=0.52591 validloss=0.53690 accuracy_score=0.49410 \n"
     ]
    },
    {
     "name": "stderr",
     "output_type": "stream",
     "text": [
      "/opt/jupyterhub/anaconda/lib/python3.9/site-packages/sklearn/metrics/_classification.py:1308: UndefinedMetricWarning: Precision is ill-defined and being set to 0.0 in labels with no predicted samples. Use `zero_division` parameter to control this behavior.\n",
      "  _warn_prf(average, modifier, msg_start, len(result))\n",
      "/opt/jupyterhub/anaconda/lib/python3.9/site-packages/sklearn/metrics/_classification.py:1308: UndefinedMetricWarning: Precision is ill-defined and being set to 0.0 in labels with no predicted samples. Use `zero_division` parameter to control this behavior.\n",
      "  _warn_prf(average, modifier, msg_start, len(result))\n"
     ]
    },
    {
     "name": "stdout",
     "output_type": "stream",
     "text": [
      " 78 2.95s trainloss=0.52708 validloss=0.53362 accuracy_score=0.49410 \n"
     ]
    },
    {
     "name": "stderr",
     "output_type": "stream",
     "text": [
      "/opt/jupyterhub/anaconda/lib/python3.9/site-packages/sklearn/metrics/_classification.py:1308: UndefinedMetricWarning: Precision is ill-defined and being set to 0.0 in labels with no predicted samples. Use `zero_division` parameter to control this behavior.\n",
      "  _warn_prf(average, modifier, msg_start, len(result))\n",
      "/opt/jupyterhub/anaconda/lib/python3.9/site-packages/sklearn/metrics/_classification.py:1308: UndefinedMetricWarning: Precision is ill-defined and being set to 0.0 in labels with no predicted samples. Use `zero_division` parameter to control this behavior.\n",
      "  _warn_prf(average, modifier, msg_start, len(result))\n"
     ]
    },
    {
     "name": "stdout",
     "output_type": "stream",
     "text": [
      " 79 2.94s trainloss=0.52764 validloss=0.52920 accuracy_score=0.49410 \n"
     ]
    },
    {
     "name": "stderr",
     "output_type": "stream",
     "text": [
      "/opt/jupyterhub/anaconda/lib/python3.9/site-packages/sklearn/metrics/_classification.py:1308: UndefinedMetricWarning: Precision is ill-defined and being set to 0.0 in labels with no predicted samples. Use `zero_division` parameter to control this behavior.\n",
      "  _warn_prf(average, modifier, msg_start, len(result))\n",
      "/opt/jupyterhub/anaconda/lib/python3.9/site-packages/sklearn/metrics/_classification.py:1308: UndefinedMetricWarning: Precision is ill-defined and being set to 0.0 in labels with no predicted samples. Use `zero_division` parameter to control this behavior.\n",
      "  _warn_prf(average, modifier, msg_start, len(result))\n"
     ]
    },
    {
     "name": "stdout",
     "output_type": "stream",
     "text": [
      " 80 2.95s trainloss=0.52804 validloss=0.53356 accuracy_score=0.49410 \n"
     ]
    },
    {
     "name": "stderr",
     "output_type": "stream",
     "text": [
      "/opt/jupyterhub/anaconda/lib/python3.9/site-packages/sklearn/metrics/_classification.py:1308: UndefinedMetricWarning: Precision is ill-defined and being set to 0.0 in labels with no predicted samples. Use `zero_division` parameter to control this behavior.\n",
      "  _warn_prf(average, modifier, msg_start, len(result))\n",
      "/opt/jupyterhub/anaconda/lib/python3.9/site-packages/sklearn/metrics/_classification.py:1308: UndefinedMetricWarning: Precision is ill-defined and being set to 0.0 in labels with no predicted samples. Use `zero_division` parameter to control this behavior.\n",
      "  _warn_prf(average, modifier, msg_start, len(result))\n"
     ]
    },
    {
     "name": "stdout",
     "output_type": "stream",
     "text": [
      " 81 2.95s trainloss=0.52608 validloss=0.53289 accuracy_score=0.49410 \n"
     ]
    },
    {
     "name": "stderr",
     "output_type": "stream",
     "text": [
      "/opt/jupyterhub/anaconda/lib/python3.9/site-packages/sklearn/metrics/_classification.py:1308: UndefinedMetricWarning: Precision is ill-defined and being set to 0.0 in labels with no predicted samples. Use `zero_division` parameter to control this behavior.\n",
      "  _warn_prf(average, modifier, msg_start, len(result))\n",
      "/opt/jupyterhub/anaconda/lib/python3.9/site-packages/sklearn/metrics/_classification.py:1308: UndefinedMetricWarning: Precision is ill-defined and being set to 0.0 in labels with no predicted samples. Use `zero_division` parameter to control this behavior.\n",
      "  _warn_prf(average, modifier, msg_start, len(result))\n"
     ]
    },
    {
     "name": "stdout",
     "output_type": "stream",
     "text": [
      " 82 2.96s trainloss=0.52702 validloss=0.53069 accuracy_score=0.49410 \n"
     ]
    },
    {
     "name": "stderr",
     "output_type": "stream",
     "text": [
      "/opt/jupyterhub/anaconda/lib/python3.9/site-packages/sklearn/metrics/_classification.py:1308: UndefinedMetricWarning: Precision is ill-defined and being set to 0.0 in labels with no predicted samples. Use `zero_division` parameter to control this behavior.\n",
      "  _warn_prf(average, modifier, msg_start, len(result))\n",
      "/opt/jupyterhub/anaconda/lib/python3.9/site-packages/sklearn/metrics/_classification.py:1308: UndefinedMetricWarning: Precision is ill-defined and being set to 0.0 in labels with no predicted samples. Use `zero_division` parameter to control this behavior.\n",
      "  _warn_prf(average, modifier, msg_start, len(result))\n"
     ]
    },
    {
     "name": "stdout",
     "output_type": "stream",
     "text": [
      " 83 3.12s trainloss=0.52548 validloss=0.53185 accuracy_score=0.49410 \n"
     ]
    },
    {
     "name": "stderr",
     "output_type": "stream",
     "text": [
      "/opt/jupyterhub/anaconda/lib/python3.9/site-packages/sklearn/metrics/_classification.py:1308: UndefinedMetricWarning: Precision is ill-defined and being set to 0.0 in labels with no predicted samples. Use `zero_division` parameter to control this behavior.\n",
      "  _warn_prf(average, modifier, msg_start, len(result))\n",
      "/opt/jupyterhub/anaconda/lib/python3.9/site-packages/sklearn/metrics/_classification.py:1308: UndefinedMetricWarning: Precision is ill-defined and being set to 0.0 in labels with no predicted samples. Use `zero_division` parameter to control this behavior.\n",
      "  _warn_prf(average, modifier, msg_start, len(result))\n"
     ]
    },
    {
     "name": "stdout",
     "output_type": "stream",
     "text": [
      " 84 3.44s trainloss=0.53047 validloss=0.53343 accuracy_score=0.49410 \n"
     ]
    },
    {
     "name": "stderr",
     "output_type": "stream",
     "text": [
      "/opt/jupyterhub/anaconda/lib/python3.9/site-packages/sklearn/metrics/_classification.py:1308: UndefinedMetricWarning: Precision is ill-defined and being set to 0.0 in labels with no predicted samples. Use `zero_division` parameter to control this behavior.\n",
      "  _warn_prf(average, modifier, msg_start, len(result))\n",
      "/opt/jupyterhub/anaconda/lib/python3.9/site-packages/sklearn/metrics/_classification.py:1308: UndefinedMetricWarning: Precision is ill-defined and being set to 0.0 in labels with no predicted samples. Use `zero_division` parameter to control this behavior.\n",
      "  _warn_prf(average, modifier, msg_start, len(result))\n"
     ]
    },
    {
     "name": "stdout",
     "output_type": "stream",
     "text": [
      " 85 3.52s trainloss=0.52644 validloss=0.53150 accuracy_score=0.49410 \n"
     ]
    },
    {
     "name": "stderr",
     "output_type": "stream",
     "text": [
      "/opt/jupyterhub/anaconda/lib/python3.9/site-packages/sklearn/metrics/_classification.py:1308: UndefinedMetricWarning: Precision is ill-defined and being set to 0.0 in labels with no predicted samples. Use `zero_division` parameter to control this behavior.\n",
      "  _warn_prf(average, modifier, msg_start, len(result))\n",
      "/opt/jupyterhub/anaconda/lib/python3.9/site-packages/sklearn/metrics/_classification.py:1308: UndefinedMetricWarning: Precision is ill-defined and being set to 0.0 in labels with no predicted samples. Use `zero_division` parameter to control this behavior.\n",
      "  _warn_prf(average, modifier, msg_start, len(result))\n"
     ]
    },
    {
     "name": "stdout",
     "output_type": "stream",
     "text": [
      " 86 3.47s trainloss=0.52704 validloss=0.53142 accuracy_score=0.49410 \n"
     ]
    },
    {
     "name": "stderr",
     "output_type": "stream",
     "text": [
      "/opt/jupyterhub/anaconda/lib/python3.9/site-packages/sklearn/metrics/_classification.py:1308: UndefinedMetricWarning: Precision is ill-defined and being set to 0.0 in labels with no predicted samples. Use `zero_division` parameter to control this behavior.\n",
      "  _warn_prf(average, modifier, msg_start, len(result))\n",
      "/opt/jupyterhub/anaconda/lib/python3.9/site-packages/sklearn/metrics/_classification.py:1308: UndefinedMetricWarning: Precision is ill-defined and being set to 0.0 in labels with no predicted samples. Use `zero_division` parameter to control this behavior.\n",
      "  _warn_prf(average, modifier, msg_start, len(result))\n"
     ]
    },
    {
     "name": "stdout",
     "output_type": "stream",
     "text": [
      " 87 3.47s trainloss=0.52365 validloss=0.53019 accuracy_score=0.49410 \n"
     ]
    },
    {
     "name": "stderr",
     "output_type": "stream",
     "text": [
      "/opt/jupyterhub/anaconda/lib/python3.9/site-packages/sklearn/metrics/_classification.py:1308: UndefinedMetricWarning: Precision is ill-defined and being set to 0.0 in labels with no predicted samples. Use `zero_division` parameter to control this behavior.\n",
      "  _warn_prf(average, modifier, msg_start, len(result))\n",
      "/opt/jupyterhub/anaconda/lib/python3.9/site-packages/sklearn/metrics/_classification.py:1308: UndefinedMetricWarning: Precision is ill-defined and being set to 0.0 in labels with no predicted samples. Use `zero_division` parameter to control this behavior.\n",
      "  _warn_prf(average, modifier, msg_start, len(result))\n"
     ]
    },
    {
     "name": "stdout",
     "output_type": "stream",
     "text": [
      " 88 3.48s trainloss=0.52548 validloss=0.53222 accuracy_score=0.49410 \n"
     ]
    },
    {
     "name": "stderr",
     "output_type": "stream",
     "text": [
      "/opt/jupyterhub/anaconda/lib/python3.9/site-packages/sklearn/metrics/_classification.py:1308: UndefinedMetricWarning: Precision is ill-defined and being set to 0.0 in labels with no predicted samples. Use `zero_division` parameter to control this behavior.\n",
      "  _warn_prf(average, modifier, msg_start, len(result))\n",
      "/opt/jupyterhub/anaconda/lib/python3.9/site-packages/sklearn/metrics/_classification.py:1308: UndefinedMetricWarning: Precision is ill-defined and being set to 0.0 in labels with no predicted samples. Use `zero_division` parameter to control this behavior.\n",
      "  _warn_prf(average, modifier, msg_start, len(result))\n"
     ]
    },
    {
     "name": "stdout",
     "output_type": "stream",
     "text": [
      " 89 3.46s trainloss=0.52590 validloss=0.53557 accuracy_score=0.49410 \n"
     ]
    },
    {
     "name": "stderr",
     "output_type": "stream",
     "text": [
      "/opt/jupyterhub/anaconda/lib/python3.9/site-packages/sklearn/metrics/_classification.py:1308: UndefinedMetricWarning: Precision is ill-defined and being set to 0.0 in labels with no predicted samples. Use `zero_division` parameter to control this behavior.\n",
      "  _warn_prf(average, modifier, msg_start, len(result))\n",
      "/opt/jupyterhub/anaconda/lib/python3.9/site-packages/sklearn/metrics/_classification.py:1308: UndefinedMetricWarning: Precision is ill-defined and being set to 0.0 in labels with no predicted samples. Use `zero_division` parameter to control this behavior.\n",
      "  _warn_prf(average, modifier, msg_start, len(result))\n"
     ]
    },
    {
     "name": "stdout",
     "output_type": "stream",
     "text": [
      " 90 3.47s trainloss=0.52563 validloss=0.53583 accuracy_score=0.49410 \n"
     ]
    },
    {
     "name": "stderr",
     "output_type": "stream",
     "text": [
      "/opt/jupyterhub/anaconda/lib/python3.9/site-packages/sklearn/metrics/_classification.py:1308: UndefinedMetricWarning: Precision is ill-defined and being set to 0.0 in labels with no predicted samples. Use `zero_division` parameter to control this behavior.\n",
      "  _warn_prf(average, modifier, msg_start, len(result))\n",
      "/opt/jupyterhub/anaconda/lib/python3.9/site-packages/sklearn/metrics/_classification.py:1308: UndefinedMetricWarning: Precision is ill-defined and being set to 0.0 in labels with no predicted samples. Use `zero_division` parameter to control this behavior.\n",
      "  _warn_prf(average, modifier, msg_start, len(result))\n"
     ]
    },
    {
     "name": "stdout",
     "output_type": "stream",
     "text": [
      " 91 3.46s trainloss=0.52623 validloss=0.53271 accuracy_score=0.49410 \n"
     ]
    },
    {
     "name": "stderr",
     "output_type": "stream",
     "text": [
      "/opt/jupyterhub/anaconda/lib/python3.9/site-packages/sklearn/metrics/_classification.py:1308: UndefinedMetricWarning: Precision is ill-defined and being set to 0.0 in labels with no predicted samples. Use `zero_division` parameter to control this behavior.\n",
      "  _warn_prf(average, modifier, msg_start, len(result))\n",
      "/opt/jupyterhub/anaconda/lib/python3.9/site-packages/sklearn/metrics/_classification.py:1308: UndefinedMetricWarning: Precision is ill-defined and being set to 0.0 in labels with no predicted samples. Use `zero_division` parameter to control this behavior.\n",
      "  _warn_prf(average, modifier, msg_start, len(result))\n"
     ]
    },
    {
     "name": "stdout",
     "output_type": "stream",
     "text": [
      " 92 3.47s trainloss=0.52620 validloss=0.53096 accuracy_score=0.49410 \n"
     ]
    },
    {
     "name": "stderr",
     "output_type": "stream",
     "text": [
      "/opt/jupyterhub/anaconda/lib/python3.9/site-packages/sklearn/metrics/_classification.py:1308: UndefinedMetricWarning: Precision is ill-defined and being set to 0.0 in labels with no predicted samples. Use `zero_division` parameter to control this behavior.\n",
      "  _warn_prf(average, modifier, msg_start, len(result))\n",
      "/opt/jupyterhub/anaconda/lib/python3.9/site-packages/sklearn/metrics/_classification.py:1308: UndefinedMetricWarning: Precision is ill-defined and being set to 0.0 in labels with no predicted samples. Use `zero_division` parameter to control this behavior.\n",
      "  _warn_prf(average, modifier, msg_start, len(result))\n"
     ]
    },
    {
     "name": "stdout",
     "output_type": "stream",
     "text": [
      " 93 3.47s trainloss=0.52742 validloss=0.53509 accuracy_score=0.49410 \n"
     ]
    },
    {
     "name": "stderr",
     "output_type": "stream",
     "text": [
      "/opt/jupyterhub/anaconda/lib/python3.9/site-packages/sklearn/metrics/_classification.py:1308: UndefinedMetricWarning: Precision is ill-defined and being set to 0.0 in labels with no predicted samples. Use `zero_division` parameter to control this behavior.\n",
      "  _warn_prf(average, modifier, msg_start, len(result))\n",
      "/opt/jupyterhub/anaconda/lib/python3.9/site-packages/sklearn/metrics/_classification.py:1308: UndefinedMetricWarning: Precision is ill-defined and being set to 0.0 in labels with no predicted samples. Use `zero_division` parameter to control this behavior.\n",
      "  _warn_prf(average, modifier, msg_start, len(result))\n"
     ]
    },
    {
     "name": "stdout",
     "output_type": "stream",
     "text": [
      " 94 3.46s trainloss=0.52784 validloss=0.55651 accuracy_score=0.49410 \n"
     ]
    },
    {
     "name": "stderr",
     "output_type": "stream",
     "text": [
      "/opt/jupyterhub/anaconda/lib/python3.9/site-packages/sklearn/metrics/_classification.py:1308: UndefinedMetricWarning: Precision is ill-defined and being set to 0.0 in labels with no predicted samples. Use `zero_division` parameter to control this behavior.\n",
      "  _warn_prf(average, modifier, msg_start, len(result))\n",
      "/opt/jupyterhub/anaconda/lib/python3.9/site-packages/sklearn/metrics/_classification.py:1308: UndefinedMetricWarning: Precision is ill-defined and being set to 0.0 in labels with no predicted samples. Use `zero_division` parameter to control this behavior.\n",
      "  _warn_prf(average, modifier, msg_start, len(result))\n"
     ]
    },
    {
     "name": "stdout",
     "output_type": "stream",
     "text": [
      " 95 3.47s trainloss=0.53186 validloss=0.53102 accuracy_score=0.49410 \n"
     ]
    },
    {
     "name": "stderr",
     "output_type": "stream",
     "text": [
      "/opt/jupyterhub/anaconda/lib/python3.9/site-packages/sklearn/metrics/_classification.py:1308: UndefinedMetricWarning: Precision is ill-defined and being set to 0.0 in labels with no predicted samples. Use `zero_division` parameter to control this behavior.\n",
      "  _warn_prf(average, modifier, msg_start, len(result))\n",
      "/opt/jupyterhub/anaconda/lib/python3.9/site-packages/sklearn/metrics/_classification.py:1308: UndefinedMetricWarning: Precision is ill-defined and being set to 0.0 in labels with no predicted samples. Use `zero_division` parameter to control this behavior.\n",
      "  _warn_prf(average, modifier, msg_start, len(result))\n"
     ]
    },
    {
     "name": "stdout",
     "output_type": "stream",
     "text": [
      " 96 3.54s trainloss=0.52669 validloss=0.54632 accuracy_score=0.49410 \n"
     ]
    },
    {
     "name": "stderr",
     "output_type": "stream",
     "text": [
      "/opt/jupyterhub/anaconda/lib/python3.9/site-packages/sklearn/metrics/_classification.py:1308: UndefinedMetricWarning: Precision is ill-defined and being set to 0.0 in labels with no predicted samples. Use `zero_division` parameter to control this behavior.\n",
      "  _warn_prf(average, modifier, msg_start, len(result))\n",
      "/opt/jupyterhub/anaconda/lib/python3.9/site-packages/sklearn/metrics/_classification.py:1308: UndefinedMetricWarning: Precision is ill-defined and being set to 0.0 in labels with no predicted samples. Use `zero_division` parameter to control this behavior.\n",
      "  _warn_prf(average, modifier, msg_start, len(result))\n"
     ]
    },
    {
     "name": "stdout",
     "output_type": "stream",
     "text": [
      " 97 4.07s trainloss=0.52903 validloss=0.53140 accuracy_score=0.49410 \n"
     ]
    },
    {
     "name": "stderr",
     "output_type": "stream",
     "text": [
      "/opt/jupyterhub/anaconda/lib/python3.9/site-packages/sklearn/metrics/_classification.py:1308: UndefinedMetricWarning: Precision is ill-defined and being set to 0.0 in labels with no predicted samples. Use `zero_division` parameter to control this behavior.\n",
      "  _warn_prf(average, modifier, msg_start, len(result))\n",
      "/opt/jupyterhub/anaconda/lib/python3.9/site-packages/sklearn/metrics/_classification.py:1308: UndefinedMetricWarning: Precision is ill-defined and being set to 0.0 in labels with no predicted samples. Use `zero_division` parameter to control this behavior.\n",
      "  _warn_prf(average, modifier, msg_start, len(result))\n"
     ]
    },
    {
     "name": "stdout",
     "output_type": "stream",
     "text": [
      " 98 4.22s trainloss=0.52542 validloss=0.53015 accuracy_score=0.49410 \n"
     ]
    },
    {
     "name": "stderr",
     "output_type": "stream",
     "text": [
      "/opt/jupyterhub/anaconda/lib/python3.9/site-packages/sklearn/metrics/_classification.py:1308: UndefinedMetricWarning: Precision is ill-defined and being set to 0.0 in labels with no predicted samples. Use `zero_division` parameter to control this behavior.\n",
      "  _warn_prf(average, modifier, msg_start, len(result))\n",
      "/opt/jupyterhub/anaconda/lib/python3.9/site-packages/sklearn/metrics/_classification.py:1308: UndefinedMetricWarning: Precision is ill-defined and being set to 0.0 in labels with no predicted samples. Use `zero_division` parameter to control this behavior.\n",
      "  _warn_prf(average, modifier, msg_start, len(result))\n"
     ]
    },
    {
     "name": "stdout",
     "output_type": "stream",
     "text": [
      " 99 3.65s trainloss=0.52532 validloss=0.53322 accuracy_score=0.49410 \n"
     ]
    },
    {
     "name": "stderr",
     "output_type": "stream",
     "text": [
      "/opt/jupyterhub/anaconda/lib/python3.9/site-packages/sklearn/metrics/_classification.py:1308: UndefinedMetricWarning: Precision is ill-defined and being set to 0.0 in labels with no predicted samples. Use `zero_division` parameter to control this behavior.\n",
      "  _warn_prf(average, modifier, msg_start, len(result))\n"
     ]
    },
    {
     "name": "stdout",
     "output_type": "stream",
     "text": [
      "100 3.78s trainloss=0.52619 validloss=0.53526 accuracy_score=0.49410 \n"
     ]
    },
    {
     "name": "stderr",
     "output_type": "stream",
     "text": [
      "/opt/jupyterhub/anaconda/lib/python3.9/site-packages/sklearn/metrics/_classification.py:1308: UndefinedMetricWarning: Precision is ill-defined and being set to 0.0 in labels with no predicted samples. Use `zero_division` parameter to control this behavior.\n",
      "  _warn_prf(average, modifier, msg_start, len(result))\n"
     ]
    }
   ],
   "source": [
    "rn34_trainer.train(100, lr=0.01, weight_decay=0.5)"
   ]
  },
  {
   "cell_type": "code",
   "execution_count": 59,
   "id": "6c90c018",
   "metadata": {},
   "outputs": [
    {
     "data": {
      "image/png": "[encoded data removed]",
      "text/plain": [
       "<Figure size 432x288 with 1 Axes>"
      ]
     },
     "metadata": {
      "needs_background": "light"
     },
     "output_type": "display_data"
    }
   ],
   "source": [
    "rn34_trainer.learning_curve()"
   ]
  },
  {
   "cell_type": "code",
   "execution_count": 60,
   "id": "dfc0d8f6",
   "metadata": {},
   "outputs": [
    {
     "data": {
      "image/png": "[encoded data removed]",
      "text/plain": [
       "<Figure size 432x288 with 1 Axes>"
      ]
     },
     "metadata": {
      "needs_background": "light"
     },
     "output_type": "display_data"
    }
   ],
   "source": [
    "rn34_trainer.learning_curve(y='accuracy_score')"
   ]
  },
  {
   "cell_type": "code",
   "execution_count": 61,
   "id": "7c9b7634",
   "metadata": {},
   "outputs": [
    {
     "ename": "AttributeError",
     "evalue": "'trainer' object has no attribute 'evalutator'",
     "output_type": "error",
     "traceback": [
      "\u001b[0;31m---------------------------------------------------------------------------\u001b[0m",
      "\u001b[0;31mAttributeError\u001b[0m                            Traceback (most recent call last)",
      "\u001b[0;32m/tmp/ipykernel_2441/3873914540.py\u001b[0m in \u001b[0;36m<module>\u001b[0;34m\u001b[0m\n\u001b[0;32m----> 1\u001b[0;31m \u001b[0msort_epochs\u001b[0m\u001b[0;34m(\u001b[0m\u001b[0mrn34_trainer\u001b[0m\u001b[0;34m.\u001b[0m\u001b[0mevalutator\u001b[0m\u001b[0;34m,\u001b[0m \u001b[0;34m'accuracy_score'\u001b[0m\u001b[0;34m)\u001b[0m\u001b[0;34m\u001b[0m\u001b[0;34m\u001b[0m\u001b[0m\n\u001b[0m",
      "\u001b[0;31mAttributeError\u001b[0m: 'trainer' object has no attribute 'evalutator'"
     ]
    }
   ],
   "source": [
    "sort_epochs(rn34_trainer.evalutator, 'accuracy_score')"
   ]
  },
  {
   "cell_type": "markdown",
   "id": "a00b83e6",
   "metadata": {},
   "source": [
    "# resnet 152"
   ]
  },
  {
   "cell_type": "code",
   "execution_count": 62,
   "id": "2235c98d",
   "metadata": {},
   "outputs": [
    {
     "name": "stderr",
     "output_type": "stream",
     "text": [
      "Downloading: \"https://download.pytorch.org/models/resnet152-394f9c45.pth\" to /home/17113571/.cache/torch/hub/checkpoints/resnet152-394f9c45.pth\n"
     ]
    },
    {
     "data": {
      "application/vnd.jupyter.widget-view+json": {
       "model_id": "42e913543c0b4e558f0f4c0ff7066076",
       "version_major": 2,
       "version_minor": 0
      },
      "text/plain": [
       "  0%|          | 0.00/230M [00:00<?, ?B/s]"
      ]
     },
     "metadata": {},
     "output_type": "display_data"
    }
   ],
   "source": [
    "rn_152 = models.resnet152(pretrained=True)\n",
    "\n",
    "rn_152.conv1 = nn.Conv2d(1, rn_152.conv1.out_channels,\n",
    "              kernel_size=rn_152.conv1.kernel_size[0], \n",
    "                      stride=rn_152.conv1.stride[0], \n",
    "                      padding=rn_152.conv1.padding[0])\n",
    "num_ftrs = rn_152.fc.in_features\n",
    "rn_152.fc = nn.Linear(num_ftrs, 2)\n",
    "\n",
    "rn_152.post_forward = post_forward\n",
    "\n",
    "rn_152_trainer = trainer(rn_152, nn.CrossEntropyLoss(weight=normedWeights), train_loader, valid_loader, test_loader, metrics=metrics, gpu=True)"
   ]
  },
  {
   "cell_type": "code",
   "execution_count": 63,
   "id": "9a14510b",
   "metadata": {},
   "outputs": [
    {
     "data": {
      "application/vnd.jupyter.widget-view+json": {
       "model_id": "",
       "version_major": 2,
       "version_minor": 0
      },
      "text/plain": [
       "Total:   0%|          | 0/345600 [00:00<?, ?it/s]"
      ]
     },
     "metadata": {},
     "output_type": "display_data"
    },
    {
     "name": "stdout",
     "output_type": "stream",
     "text": [
      "  1 10.60s trainloss=0.54648 validloss=0.95113 accuracy_score=0.53392 \n",
      "  2 11.05s trainloss=0.32782 validloss=0.58610 accuracy_score=0.60767 \n",
      "  3 12.78s trainloss=0.33474 validloss=1.03299 accuracy_score=0.60914 \n",
      "  4 12.71s trainloss=0.30894 validloss=0.82485 accuracy_score=0.73156 \n",
      "  5 12.63s trainloss=0.26208 validloss=0.85109 accuracy_score=0.50295 \n",
      "  6 12.69s trainloss=0.26174 validloss=0.54470 accuracy_score=0.88938 \n",
      "  7 11.71s trainloss=0.26351 validloss=0.72908 accuracy_score=0.57375 \n"
     ]
    },
    {
     "name": "stderr",
     "output_type": "stream",
     "text": [
      "/opt/jupyterhub/anaconda/lib/python3.9/site-packages/sklearn/metrics/_classification.py:1308: UndefinedMetricWarning: Precision is ill-defined and being set to 0.0 in labels with no predicted samples. Use `zero_division` parameter to control this behavior.\n",
      "  _warn_prf(average, modifier, msg_start, len(result))\n"
     ]
    },
    {
     "name": "stdout",
     "output_type": "stream",
     "text": [
      "  8 9.56s trainloss=0.25483 validloss=3.59202 accuracy_score=0.50590 \n"
     ]
    },
    {
     "name": "stderr",
     "output_type": "stream",
     "text": [
      "/opt/jupyterhub/anaconda/lib/python3.9/site-packages/sklearn/metrics/_classification.py:1308: UndefinedMetricWarning: Precision is ill-defined and being set to 0.0 in labels with no predicted samples. Use `zero_division` parameter to control this behavior.\n",
      "  _warn_prf(average, modifier, msg_start, len(result))\n"
     ]
    },
    {
     "name": "stdout",
     "output_type": "stream",
     "text": [
      "  9 9.01s trainloss=0.26474 validloss=4.00984 accuracy_score=0.50590 \n"
     ]
    },
    {
     "name": "stderr",
     "output_type": "stream",
     "text": [
      "/opt/jupyterhub/anaconda/lib/python3.9/site-packages/sklearn/metrics/_classification.py:1308: UndefinedMetricWarning: Precision is ill-defined and being set to 0.0 in labels with no predicted samples. Use `zero_division` parameter to control this behavior.\n",
      "  _warn_prf(average, modifier, msg_start, len(result))\n"
     ]
    },
    {
     "name": "stdout",
     "output_type": "stream",
     "text": [
      " 10 9.02s trainloss=0.25253 validloss=3.64226 accuracy_score=0.50590 \n",
      " 11 9.01s trainloss=0.22874 validloss=1.00558 accuracy_score=0.63864 \n"
     ]
    },
    {
     "name": "stderr",
     "output_type": "stream",
     "text": [
      "/opt/jupyterhub/anaconda/lib/python3.9/site-packages/sklearn/metrics/_classification.py:1308: UndefinedMetricWarning: Precision is ill-defined and being set to 0.0 in labels with no predicted samples. Use `zero_division` parameter to control this behavior.\n",
      "  _warn_prf(average, modifier, msg_start, len(result))\n"
     ]
    },
    {
     "name": "stdout",
     "output_type": "stream",
     "text": [
      " 12 9.15s trainloss=0.23643 validloss=2.88519 accuracy_score=0.50590 \n"
     ]
    },
    {
     "name": "stderr",
     "output_type": "stream",
     "text": [
      "/opt/jupyterhub/anaconda/lib/python3.9/site-packages/sklearn/metrics/_classification.py:1308: UndefinedMetricWarning: Precision is ill-defined and being set to 0.0 in labels with no predicted samples. Use `zero_division` parameter to control this behavior.\n",
      "  _warn_prf(average, modifier, msg_start, len(result))\n"
     ]
    },
    {
     "name": "stdout",
     "output_type": "stream",
     "text": [
      " 13 9.14s trainloss=0.23407 validloss=5.04002 accuracy_score=0.50590 \n",
      " 14 9.12s trainloss=0.22956 validloss=0.42576 accuracy_score=0.69764 \n"
     ]
    },
    {
     "name": "stderr",
     "output_type": "stream",
     "text": [
      "/opt/jupyterhub/anaconda/lib/python3.9/site-packages/sklearn/metrics/_classification.py:1308: UndefinedMetricWarning: Precision is ill-defined and being set to 0.0 in labels with no predicted samples. Use `zero_division` parameter to control this behavior.\n",
      "  _warn_prf(average, modifier, msg_start, len(result))\n"
     ]
    },
    {
     "name": "stdout",
     "output_type": "stream",
     "text": [
      " 15 9.35s trainloss=0.23934 validloss=0.53267 accuracy_score=0.49410 \n",
      " 16 10.41s trainloss=0.22354 validloss=1.20935 accuracy_score=0.50295 \n"
     ]
    },
    {
     "name": "stderr",
     "output_type": "stream",
     "text": [
      "/opt/jupyterhub/anaconda/lib/python3.9/site-packages/sklearn/metrics/_classification.py:1308: UndefinedMetricWarning: Precision is ill-defined and being set to 0.0 in labels with no predicted samples. Use `zero_division` parameter to control this behavior.\n",
      "  _warn_prf(average, modifier, msg_start, len(result))\n"
     ]
    },
    {
     "name": "stdout",
     "output_type": "stream",
     "text": [
      " 17 10.42s trainloss=0.21622 validloss=6.13751 accuracy_score=0.50590 \n",
      " 18 11.26s trainloss=0.21721 validloss=0.93763 accuracy_score=0.49705 \n"
     ]
    },
    {
     "name": "stderr",
     "output_type": "stream",
     "text": [
      "/opt/jupyterhub/anaconda/lib/python3.9/site-packages/sklearn/metrics/_classification.py:1308: UndefinedMetricWarning: Precision is ill-defined and being set to 0.0 in labels with no predicted samples. Use `zero_division` parameter to control this behavior.\n",
      "  _warn_prf(average, modifier, msg_start, len(result))\n"
     ]
    },
    {
     "name": "stdout",
     "output_type": "stream",
     "text": [
      " 19 12.36s trainloss=0.24010 validloss=8.13483 accuracy_score=0.50590 \n"
     ]
    },
    {
     "name": "stderr",
     "output_type": "stream",
     "text": [
      "/opt/jupyterhub/anaconda/lib/python3.9/site-packages/sklearn/metrics/_classification.py:1308: UndefinedMetricWarning: Precision is ill-defined and being set to 0.0 in labels with no predicted samples. Use `zero_division` parameter to control this behavior.\n",
      "  _warn_prf(average, modifier, msg_start, len(result))\n"
     ]
    },
    {
     "name": "stdout",
     "output_type": "stream",
     "text": [
      " 20 11.72s trainloss=0.20818 validloss=11.39004 accuracy_score=0.50590 \n"
     ]
    },
    {
     "name": "stderr",
     "output_type": "stream",
     "text": [
      "/opt/jupyterhub/anaconda/lib/python3.9/site-packages/sklearn/metrics/_classification.py:1308: UndefinedMetricWarning: Precision is ill-defined and being set to 0.0 in labels with no predicted samples. Use `zero_division` parameter to control this behavior.\n",
      "  _warn_prf(average, modifier, msg_start, len(result))\n"
     ]
    },
    {
     "name": "stdout",
     "output_type": "stream",
     "text": [
      " 21 11.69s trainloss=0.22578 validloss=10.58649 accuracy_score=0.50590 \n"
     ]
    },
    {
     "name": "stderr",
     "output_type": "stream",
     "text": [
      "/opt/jupyterhub/anaconda/lib/python3.9/site-packages/sklearn/metrics/_classification.py:1308: UndefinedMetricWarning: Precision is ill-defined and being set to 0.0 in labels with no predicted samples. Use `zero_division` parameter to control this behavior.\n",
      "  _warn_prf(average, modifier, msg_start, len(result))\n"
     ]
    },
    {
     "name": "stdout",
     "output_type": "stream",
     "text": [
      " 22 11.85s trainloss=0.22237 validloss=8.58955 accuracy_score=0.50590 \n"
     ]
    },
    {
     "name": "stderr",
     "output_type": "stream",
     "text": [
      "/opt/jupyterhub/anaconda/lib/python3.9/site-packages/sklearn/metrics/_classification.py:1308: UndefinedMetricWarning: Precision is ill-defined and being set to 0.0 in labels with no predicted samples. Use `zero_division` parameter to control this behavior.\n",
      "  _warn_prf(average, modifier, msg_start, len(result))\n"
     ]
    },
    {
     "name": "stdout",
     "output_type": "stream",
     "text": [
      " 23 11.51s trainloss=0.21877 validloss=3.90228 accuracy_score=0.50590 \n"
     ]
    },
    {
     "name": "stderr",
     "output_type": "stream",
     "text": [
      "/opt/jupyterhub/anaconda/lib/python3.9/site-packages/sklearn/metrics/_classification.py:1308: UndefinedMetricWarning: Precision is ill-defined and being set to 0.0 in labels with no predicted samples. Use `zero_division` parameter to control this behavior.\n",
      "  _warn_prf(average, modifier, msg_start, len(result))\n"
     ]
    },
    {
     "name": "stdout",
     "output_type": "stream",
     "text": [
      " 24 9.10s trainloss=0.21268 validloss=3.66268 accuracy_score=0.50590 \n"
     ]
    },
    {
     "name": "stderr",
     "output_type": "stream",
     "text": [
      "/opt/jupyterhub/anaconda/lib/python3.9/site-packages/sklearn/metrics/_classification.py:1308: UndefinedMetricWarning: Precision is ill-defined and being set to 0.0 in labels with no predicted samples. Use `zero_division` parameter to control this behavior.\n",
      "  _warn_prf(average, modifier, msg_start, len(result))\n"
     ]
    },
    {
     "name": "stdout",
     "output_type": "stream",
     "text": [
      " 25 9.13s trainloss=0.22905 validloss=22.89489 accuracy_score=0.50590 \n"
     ]
    },
    {
     "name": "stderr",
     "output_type": "stream",
     "text": [
      "/opt/jupyterhub/anaconda/lib/python3.9/site-packages/sklearn/metrics/_classification.py:1308: UndefinedMetricWarning: Precision is ill-defined and being set to 0.0 in labels with no predicted samples. Use `zero_division` parameter to control this behavior.\n",
      "  _warn_prf(average, modifier, msg_start, len(result))\n"
     ]
    },
    {
     "name": "stdout",
     "output_type": "stream",
     "text": [
      " 26 9.07s trainloss=0.23137 validloss=4.32290 accuracy_score=0.50590 \n",
      " 27 9.08s trainloss=0.23551 validloss=0.66412 accuracy_score=0.58112 \n",
      " 28 9.93s trainloss=0.21838 validloss=0.57852 accuracy_score=0.72271 \n"
     ]
    },
    {
     "name": "stderr",
     "output_type": "stream",
     "text": [
      "/opt/jupyterhub/anaconda/lib/python3.9/site-packages/sklearn/metrics/_classification.py:1308: UndefinedMetricWarning: Precision is ill-defined and being set to 0.0 in labels with no predicted samples. Use `zero_division` parameter to control this behavior.\n",
      "  _warn_prf(average, modifier, msg_start, len(result))\n"
     ]
    },
    {
     "name": "stdout",
     "output_type": "stream",
     "text": [
      " 29 10.91s trainloss=0.22207 validloss=9.68731 accuracy_score=0.50590 \n"
     ]
    },
    {
     "name": "stderr",
     "output_type": "stream",
     "text": [
      "/opt/jupyterhub/anaconda/lib/python3.9/site-packages/sklearn/metrics/_classification.py:1308: UndefinedMetricWarning: Precision is ill-defined and being set to 0.0 in labels with no predicted samples. Use `zero_division` parameter to control this behavior.\n",
      "  _warn_prf(average, modifier, msg_start, len(result))\n"
     ]
    },
    {
     "name": "stdout",
     "output_type": "stream",
     "text": [
      " 30 12.32s trainloss=0.22168 validloss=3.29570 accuracy_score=0.50590 \n"
     ]
    },
    {
     "name": "stderr",
     "output_type": "stream",
     "text": [
      "/opt/jupyterhub/anaconda/lib/python3.9/site-packages/sklearn/metrics/_classification.py:1308: UndefinedMetricWarning: Precision is ill-defined and being set to 0.0 in labels with no predicted samples. Use `zero_division` parameter to control this behavior.\n",
      "  _warn_prf(average, modifier, msg_start, len(result))\n"
     ]
    },
    {
     "name": "stdout",
     "output_type": "stream",
     "text": [
      " 31 12.41s trainloss=0.21008 validloss=7.36298 accuracy_score=0.50590 \n"
     ]
    },
    {
     "name": "stderr",
     "output_type": "stream",
     "text": [
      "/opt/jupyterhub/anaconda/lib/python3.9/site-packages/sklearn/metrics/_classification.py:1308: UndefinedMetricWarning: Precision is ill-defined and being set to 0.0 in labels with no predicted samples. Use `zero_division` parameter to control this behavior.\n",
      "  _warn_prf(average, modifier, msg_start, len(result))\n"
     ]
    },
    {
     "name": "stdout",
     "output_type": "stream",
     "text": [
      " 32 12.46s trainloss=0.24138 validloss=1.20132 accuracy_score=0.50590 \n"
     ]
    },
    {
     "name": "stderr",
     "output_type": "stream",
     "text": [
      "/opt/jupyterhub/anaconda/lib/python3.9/site-packages/sklearn/metrics/_classification.py:1308: UndefinedMetricWarning: Precision is ill-defined and being set to 0.0 in labels with no predicted samples. Use `zero_division` parameter to control this behavior.\n",
      "  _warn_prf(average, modifier, msg_start, len(result))\n"
     ]
    },
    {
     "name": "stdout",
     "output_type": "stream",
     "text": [
      " 33 12.52s trainloss=0.21842 validloss=14.17141 accuracy_score=0.50590 \n",
      " 34 12.54s trainloss=0.21284 validloss=2.22356 accuracy_score=0.50295 \n",
      " 35 12.53s trainloss=0.20824 validloss=0.87352 accuracy_score=0.48083 \n",
      " 36 12.37s trainloss=0.25287 validloss=0.45286 accuracy_score=0.86578 \n"
     ]
    },
    {
     "name": "stderr",
     "output_type": "stream",
     "text": [
      "/opt/jupyterhub/anaconda/lib/python3.9/site-packages/sklearn/metrics/_classification.py:1308: UndefinedMetricWarning: Precision is ill-defined and being set to 0.0 in labels with no predicted samples. Use `zero_division` parameter to control this behavior.\n",
      "  _warn_prf(average, modifier, msg_start, len(result))\n"
     ]
    },
    {
     "name": "stdout",
     "output_type": "stream",
     "text": [
      " 37 12.36s trainloss=0.21898 validloss=4.63977 accuracy_score=0.50590 \n",
      " 38 11.45s trainloss=0.21309 validloss=0.63354 accuracy_score=0.54277 \n"
     ]
    },
    {
     "name": "stderr",
     "output_type": "stream",
     "text": [
      "/opt/jupyterhub/anaconda/lib/python3.9/site-packages/sklearn/metrics/_classification.py:1308: UndefinedMetricWarning: Precision is ill-defined and being set to 0.0 in labels with no predicted samples. Use `zero_division` parameter to control this behavior.\n",
      "  _warn_prf(average, modifier, msg_start, len(result))\n"
     ]
    },
    {
     "name": "stdout",
     "output_type": "stream",
     "text": [
      " 39 10.69s trainloss=0.19968 validloss=16.91601 accuracy_score=0.50590 \n"
     ]
    },
    {
     "name": "stderr",
     "output_type": "stream",
     "text": [
      "/opt/jupyterhub/anaconda/lib/python3.9/site-packages/sklearn/metrics/_classification.py:1308: UndefinedMetricWarning: Precision is ill-defined and being set to 0.0 in labels with no predicted samples. Use `zero_division` parameter to control this behavior.\n",
      "  _warn_prf(average, modifier, msg_start, len(result))\n"
     ]
    },
    {
     "name": "stdout",
     "output_type": "stream",
     "text": [
      " 40 10.80s trainloss=0.19510 validloss=17.88577 accuracy_score=0.50590 \n"
     ]
    },
    {
     "name": "stderr",
     "output_type": "stream",
     "text": [
      "/opt/jupyterhub/anaconda/lib/python3.9/site-packages/sklearn/metrics/_classification.py:1308: UndefinedMetricWarning: Precision is ill-defined and being set to 0.0 in labels with no predicted samples. Use `zero_division` parameter to control this behavior.\n",
      "  _warn_prf(average, modifier, msg_start, len(result))\n"
     ]
    },
    {
     "name": "stdout",
     "output_type": "stream",
     "text": [
      " 41 10.64s trainloss=0.19767 validloss=17.33548 accuracy_score=0.50590 \n"
     ]
    },
    {
     "name": "stderr",
     "output_type": "stream",
     "text": [
      "/opt/jupyterhub/anaconda/lib/python3.9/site-packages/sklearn/metrics/_classification.py:1308: UndefinedMetricWarning: Precision is ill-defined and being set to 0.0 in labels with no predicted samples. Use `zero_division` parameter to control this behavior.\n",
      "  _warn_prf(average, modifier, msg_start, len(result))\n"
     ]
    },
    {
     "name": "stdout",
     "output_type": "stream",
     "text": [
      " 42 9.19s trainloss=0.19857 validloss=5.63335 accuracy_score=0.50590 \n"
     ]
    },
    {
     "name": "stderr",
     "output_type": "stream",
     "text": [
      "/opt/jupyterhub/anaconda/lib/python3.9/site-packages/sklearn/metrics/_classification.py:1308: UndefinedMetricWarning: Precision is ill-defined and being set to 0.0 in labels with no predicted samples. Use `zero_division` parameter to control this behavior.\n",
      "  _warn_prf(average, modifier, msg_start, len(result))\n"
     ]
    },
    {
     "name": "stdout",
     "output_type": "stream",
     "text": [
      " 43 8.95s trainloss=0.21818 validloss=0.83221 accuracy_score=0.50590 \n",
      " 44 8.96s trainloss=0.23652 validloss=0.26948 accuracy_score=0.79204 \n",
      " 45 8.96s trainloss=0.20791 validloss=0.27446 accuracy_score=0.86136 \n"
     ]
    },
    {
     "name": "stderr",
     "output_type": "stream",
     "text": [
      "/opt/jupyterhub/anaconda/lib/python3.9/site-packages/sklearn/metrics/_classification.py:1308: UndefinedMetricWarning: Precision is ill-defined and being set to 0.0 in labels with no predicted samples. Use `zero_division` parameter to control this behavior.\n",
      "  _warn_prf(average, modifier, msg_start, len(result))\n"
     ]
    },
    {
     "name": "stdout",
     "output_type": "stream",
     "text": [
      " 46 9.08s trainloss=0.20196 validloss=14.25278 accuracy_score=0.50590 \n",
      " 47 9.07s trainloss=0.19494 validloss=0.46132 accuracy_score=0.74779 \n"
     ]
    },
    {
     "name": "stderr",
     "output_type": "stream",
     "text": [
      "/opt/jupyterhub/anaconda/lib/python3.9/site-packages/sklearn/metrics/_classification.py:1308: UndefinedMetricWarning: Precision is ill-defined and being set to 0.0 in labels with no predicted samples. Use `zero_division` parameter to control this behavior.\n",
      "  _warn_prf(average, modifier, msg_start, len(result))\n"
     ]
    },
    {
     "name": "stdout",
     "output_type": "stream",
     "text": [
      " 48 9.06s trainloss=0.19354 validloss=6.17347 accuracy_score=0.50590 \n",
      " 49 8.97s trainloss=0.20613 validloss=0.25023 accuracy_score=0.82006 \n",
      " 50 9.01s trainloss=0.19153 validloss=3.61950 accuracy_score=0.50737 \n"
     ]
    },
    {
     "name": "stderr",
     "output_type": "stream",
     "text": [
      "/opt/jupyterhub/anaconda/lib/python3.9/site-packages/sklearn/metrics/_classification.py:1308: UndefinedMetricWarning: Precision is ill-defined and being set to 0.0 in labels with no predicted samples. Use `zero_division` parameter to control this behavior.\n",
      "  _warn_prf(average, modifier, msg_start, len(result))\n"
     ]
    },
    {
     "name": "stdout",
     "output_type": "stream",
     "text": [
      " 51 9.02s trainloss=0.19132 validloss=2.06555 accuracy_score=0.50590 \n"
     ]
    },
    {
     "name": "stderr",
     "output_type": "stream",
     "text": [
      "/opt/jupyterhub/anaconda/lib/python3.9/site-packages/sklearn/metrics/_classification.py:1308: UndefinedMetricWarning: Precision is ill-defined and being set to 0.0 in labels with no predicted samples. Use `zero_division` parameter to control this behavior.\n",
      "  _warn_prf(average, modifier, msg_start, len(result))\n"
     ]
    },
    {
     "name": "stdout",
     "output_type": "stream",
     "text": [
      " 52 8.98s trainloss=0.18864 validloss=3.96494 accuracy_score=0.50590 \n"
     ]
    },
    {
     "name": "stderr",
     "output_type": "stream",
     "text": [
      "/opt/jupyterhub/anaconda/lib/python3.9/site-packages/sklearn/metrics/_classification.py:1308: UndefinedMetricWarning: Precision is ill-defined and being set to 0.0 in labels with no predicted samples. Use `zero_division` parameter to control this behavior.\n",
      "  _warn_prf(average, modifier, msg_start, len(result))\n"
     ]
    },
    {
     "name": "stdout",
     "output_type": "stream",
     "text": [
      " 53 9.02s trainloss=0.18271 validloss=20.35136 accuracy_score=0.50590 \n"
     ]
    },
    {
     "name": "stderr",
     "output_type": "stream",
     "text": [
      "/opt/jupyterhub/anaconda/lib/python3.9/site-packages/sklearn/metrics/_classification.py:1308: UndefinedMetricWarning: Precision is ill-defined and being set to 0.0 in labels with no predicted samples. Use `zero_division` parameter to control this behavior.\n",
      "  _warn_prf(average, modifier, msg_start, len(result))\n"
     ]
    },
    {
     "name": "stdout",
     "output_type": "stream",
     "text": [
      " 54 8.87s trainloss=0.18588 validloss=2.84460 accuracy_score=0.50590 \n",
      " 55 9.62s trainloss=0.27369 validloss=0.36908 accuracy_score=0.51180 \n"
     ]
    },
    {
     "name": "stderr",
     "output_type": "stream",
     "text": [
      "/opt/jupyterhub/anaconda/lib/python3.9/site-packages/sklearn/metrics/_classification.py:1308: UndefinedMetricWarning: Precision is ill-defined and being set to 0.0 in labels with no predicted samples. Use `zero_division` parameter to control this behavior.\n",
      "  _warn_prf(average, modifier, msg_start, len(result))\n"
     ]
    },
    {
     "name": "stdout",
     "output_type": "stream",
     "text": [
      " 56 10.26s trainloss=0.35335 validloss=61.92538 accuracy_score=0.50590 \n",
      " 57 10.38s trainloss=0.28969 validloss=0.65717 accuracy_score=0.75369 \n"
     ]
    },
    {
     "name": "stderr",
     "output_type": "stream",
     "text": [
      "/opt/jupyterhub/anaconda/lib/python3.9/site-packages/sklearn/metrics/_classification.py:1308: UndefinedMetricWarning: Precision is ill-defined and being set to 0.0 in labels with no predicted samples. Use `zero_division` parameter to control this behavior.\n",
      "  _warn_prf(average, modifier, msg_start, len(result))\n"
     ]
    },
    {
     "name": "stdout",
     "output_type": "stream",
     "text": [
      " 58 11.16s trainloss=0.25392 validloss=3.50558 accuracy_score=0.50590 \n"
     ]
    },
    {
     "name": "stderr",
     "output_type": "stream",
     "text": [
      "/opt/jupyterhub/anaconda/lib/python3.9/site-packages/sklearn/metrics/_classification.py:1308: UndefinedMetricWarning: Precision is ill-defined and being set to 0.0 in labels with no predicted samples. Use `zero_division` parameter to control this behavior.\n",
      "  _warn_prf(average, modifier, msg_start, len(result))\n"
     ]
    },
    {
     "name": "stdout",
     "output_type": "stream",
     "text": [
      " 59 11.16s trainloss=0.24886 validloss=7.74719 accuracy_score=0.50590 \n"
     ]
    },
    {
     "name": "stderr",
     "output_type": "stream",
     "text": [
      "/opt/jupyterhub/anaconda/lib/python3.9/site-packages/sklearn/metrics/_classification.py:1308: UndefinedMetricWarning: Precision is ill-defined and being set to 0.0 in labels with no predicted samples. Use `zero_division` parameter to control this behavior.\n",
      "  _warn_prf(average, modifier, msg_start, len(result))\n"
     ]
    },
    {
     "name": "stdout",
     "output_type": "stream",
     "text": [
      " 60 11.17s trainloss=0.24269 validloss=9.27308 accuracy_score=0.50590 \n"
     ]
    },
    {
     "name": "stderr",
     "output_type": "stream",
     "text": [
      "/opt/jupyterhub/anaconda/lib/python3.9/site-packages/sklearn/metrics/_classification.py:1308: UndefinedMetricWarning: Precision is ill-defined and being set to 0.0 in labels with no predicted samples. Use `zero_division` parameter to control this behavior.\n",
      "  _warn_prf(average, modifier, msg_start, len(result))\n"
     ]
    },
    {
     "name": "stdout",
     "output_type": "stream",
     "text": [
      " 61 10.68s trainloss=0.23506 validloss=6.04020 accuracy_score=0.50590 \n",
      " 62 10.32s trainloss=0.21744 validloss=3.77508 accuracy_score=0.49558 \n"
     ]
    },
    {
     "name": "stderr",
     "output_type": "stream",
     "text": [
      "/opt/jupyterhub/anaconda/lib/python3.9/site-packages/sklearn/metrics/_classification.py:1308: UndefinedMetricWarning: Precision is ill-defined and being set to 0.0 in labels with no predicted samples. Use `zero_division` parameter to control this behavior.\n",
      "  _warn_prf(average, modifier, msg_start, len(result))\n"
     ]
    },
    {
     "name": "stdout",
     "output_type": "stream",
     "text": [
      " 63 10.30s trainloss=0.21201 validloss=8.78824 accuracy_score=0.50590 \n",
      " 64 10.47s trainloss=0.22710 validloss=1.84022 accuracy_score=0.50295 \n",
      " 65 10.40s trainloss=0.22359 validloss=0.67878 accuracy_score=0.58555 \n",
      " 66 10.34s trainloss=0.21940 validloss=0.25138 accuracy_score=0.80973 \n"
     ]
    },
    {
     "name": "stderr",
     "output_type": "stream",
     "text": [
      "/opt/jupyterhub/anaconda/lib/python3.9/site-packages/sklearn/metrics/_classification.py:1308: UndefinedMetricWarning: Precision is ill-defined and being set to 0.0 in labels with no predicted samples. Use `zero_division` parameter to control this behavior.\n",
      "  _warn_prf(average, modifier, msg_start, len(result))\n"
     ]
    },
    {
     "name": "stdout",
     "output_type": "stream",
     "text": [
      " 67 10.37s trainloss=0.23208 validloss=3.40498 accuracy_score=0.50590 \n",
      " 68 10.41s trainloss=0.20982 validloss=1.92710 accuracy_score=0.50442 \n",
      " 69 10.35s trainloss=0.23066 validloss=0.25371 accuracy_score=0.79056 \n",
      " 70 10.35s trainloss=0.23715 validloss=1.53758 accuracy_score=0.50000 \n",
      " 71 10.40s trainloss=0.20097 validloss=0.70790 accuracy_score=0.63717 \n",
      " 72 10.40s trainloss=0.19401 validloss=2.32534 accuracy_score=0.50000 \n"
     ]
    },
    {
     "name": "stderr",
     "output_type": "stream",
     "text": [
      "/opt/jupyterhub/anaconda/lib/python3.9/site-packages/sklearn/metrics/_classification.py:1308: UndefinedMetricWarning: Precision is ill-defined and being set to 0.0 in labels with no predicted samples. Use `zero_division` parameter to control this behavior.\n",
      "  _warn_prf(average, modifier, msg_start, len(result))\n"
     ]
    },
    {
     "name": "stdout",
     "output_type": "stream",
     "text": [
      " 73 10.33s trainloss=0.21747 validloss=9.34302 accuracy_score=0.50590 \n"
     ]
    },
    {
     "name": "stderr",
     "output_type": "stream",
     "text": [
      "/opt/jupyterhub/anaconda/lib/python3.9/site-packages/sklearn/metrics/_classification.py:1308: UndefinedMetricWarning: Precision is ill-defined and being set to 0.0 in labels with no predicted samples. Use `zero_division` parameter to control this behavior.\n",
      "  _warn_prf(average, modifier, msg_start, len(result))\n"
     ]
    },
    {
     "name": "stdout",
     "output_type": "stream",
     "text": [
      " 74 10.31s trainloss=0.21317 validloss=8.17696 accuracy_score=0.50590 \n",
      " 75 10.30s trainloss=0.21278 validloss=0.55261 accuracy_score=0.68437 \n"
     ]
    },
    {
     "name": "stderr",
     "output_type": "stream",
     "text": [
      "/opt/jupyterhub/anaconda/lib/python3.9/site-packages/sklearn/metrics/_classification.py:1308: UndefinedMetricWarning: Precision is ill-defined and being set to 0.0 in labels with no predicted samples. Use `zero_division` parameter to control this behavior.\n",
      "  _warn_prf(average, modifier, msg_start, len(result))\n"
     ]
    },
    {
     "name": "stdout",
     "output_type": "stream",
     "text": [
      " 76 9.98s trainloss=0.21490 validloss=6.04098 accuracy_score=0.50590 \n"
     ]
    },
    {
     "name": "stderr",
     "output_type": "stream",
     "text": [
      "/opt/jupyterhub/anaconda/lib/python3.9/site-packages/sklearn/metrics/_classification.py:1308: UndefinedMetricWarning: Precision is ill-defined and being set to 0.0 in labels with no predicted samples. Use `zero_division` parameter to control this behavior.\n",
      "  _warn_prf(average, modifier, msg_start, len(result))\n"
     ]
    },
    {
     "name": "stdout",
     "output_type": "stream",
     "text": [
      " 77 9.07s trainloss=0.20085 validloss=6.15998 accuracy_score=0.50590 \n",
      " 78 9.04s trainloss=0.19684 validloss=4.14209 accuracy_score=0.50295 \n"
     ]
    },
    {
     "name": "stderr",
     "output_type": "stream",
     "text": [
      "/opt/jupyterhub/anaconda/lib/python3.9/site-packages/sklearn/metrics/_classification.py:1308: UndefinedMetricWarning: Precision is ill-defined and being set to 0.0 in labels with no predicted samples. Use `zero_division` parameter to control this behavior.\n",
      "  _warn_prf(average, modifier, msg_start, len(result))\n"
     ]
    },
    {
     "name": "stdout",
     "output_type": "stream",
     "text": [
      " 79 9.06s trainloss=0.21538 validloss=10.05110 accuracy_score=0.50590 \n"
     ]
    },
    {
     "name": "stderr",
     "output_type": "stream",
     "text": [
      "/opt/jupyterhub/anaconda/lib/python3.9/site-packages/sklearn/metrics/_classification.py:1308: UndefinedMetricWarning: Precision is ill-defined and being set to 0.0 in labels with no predicted samples. Use `zero_division` parameter to control this behavior.\n",
      "  _warn_prf(average, modifier, msg_start, len(result))\n"
     ]
    },
    {
     "name": "stdout",
     "output_type": "stream",
     "text": [
      " 80 9.05s trainloss=0.20629 validloss=10.15806 accuracy_score=0.50590 \n"
     ]
    },
    {
     "name": "stderr",
     "output_type": "stream",
     "text": [
      "/opt/jupyterhub/anaconda/lib/python3.9/site-packages/sklearn/metrics/_classification.py:1308: UndefinedMetricWarning: Precision is ill-defined and being set to 0.0 in labels with no predicted samples. Use `zero_division` parameter to control this behavior.\n",
      "  _warn_prf(average, modifier, msg_start, len(result))\n"
     ]
    },
    {
     "name": "stdout",
     "output_type": "stream",
     "text": [
      " 81 9.22s trainloss=0.21765 validloss=5.35975 accuracy_score=0.50590 \n"
     ]
    },
    {
     "name": "stderr",
     "output_type": "stream",
     "text": [
      "/opt/jupyterhub/anaconda/lib/python3.9/site-packages/sklearn/metrics/_classification.py:1308: UndefinedMetricWarning: Precision is ill-defined and being set to 0.0 in labels with no predicted samples. Use `zero_division` parameter to control this behavior.\n",
      "  _warn_prf(average, modifier, msg_start, len(result))\n"
     ]
    },
    {
     "name": "stdout",
     "output_type": "stream",
     "text": [
      " 82 9.00s trainloss=0.21938 validloss=6.32617 accuracy_score=0.50590 \n",
      " 83 9.05s trainloss=0.23295 validloss=0.52502 accuracy_score=0.74189 \n",
      " 84 9.05s trainloss=0.23314 validloss=4.00539 accuracy_score=0.50295 \n"
     ]
    },
    {
     "name": "stderr",
     "output_type": "stream",
     "text": [
      "/opt/jupyterhub/anaconda/lib/python3.9/site-packages/sklearn/metrics/_classification.py:1308: UndefinedMetricWarning: Precision is ill-defined and being set to 0.0 in labels with no predicted samples. Use `zero_division` parameter to control this behavior.\n",
      "  _warn_prf(average, modifier, msg_start, len(result))\n"
     ]
    },
    {
     "name": "stdout",
     "output_type": "stream",
     "text": [
      " 85 9.41s trainloss=0.21862 validloss=5.74304 accuracy_score=0.50590 \n",
      " 86 12.06s trainloss=0.21285 validloss=2.99004 accuracy_score=0.50442 \n"
     ]
    },
    {
     "name": "stderr",
     "output_type": "stream",
     "text": [
      "/opt/jupyterhub/anaconda/lib/python3.9/site-packages/sklearn/metrics/_classification.py:1308: UndefinedMetricWarning: Precision is ill-defined and being set to 0.0 in labels with no predicted samples. Use `zero_division` parameter to control this behavior.\n",
      "  _warn_prf(average, modifier, msg_start, len(result))\n"
     ]
    },
    {
     "name": "stdout",
     "output_type": "stream",
     "text": [
      " 87 13.47s trainloss=0.20762 validloss=3.49485 accuracy_score=0.50590 \n",
      " 88 13.45s trainloss=0.19173 validloss=0.67264 accuracy_score=0.83628 \n"
     ]
    },
    {
     "name": "stderr",
     "output_type": "stream",
     "text": [
      "/opt/jupyterhub/anaconda/lib/python3.9/site-packages/sklearn/metrics/_classification.py:1308: UndefinedMetricWarning: Precision is ill-defined and being set to 0.0 in labels with no predicted samples. Use `zero_division` parameter to control this behavior.\n",
      "  _warn_prf(average, modifier, msg_start, len(result))\n"
     ]
    },
    {
     "name": "stdout",
     "output_type": "stream",
     "text": [
      " 89 13.48s trainloss=0.20381 validloss=3.54179 accuracy_score=0.50590 \n",
      " 90 13.23s trainloss=0.20800 validloss=0.82588 accuracy_score=0.50147 \n",
      " 91 13.33s trainloss=0.19119 validloss=1.56951 accuracy_score=0.50295 \n",
      " 92 12.12s trainloss=0.20960 validloss=0.92780 accuracy_score=0.52950 \n"
     ]
    },
    {
     "name": "stderr",
     "output_type": "stream",
     "text": [
      "/opt/jupyterhub/anaconda/lib/python3.9/site-packages/sklearn/metrics/_classification.py:1308: UndefinedMetricWarning: Precision is ill-defined and being set to 0.0 in labels with no predicted samples. Use `zero_division` parameter to control this behavior.\n",
      "  _warn_prf(average, modifier, msg_start, len(result))\n"
     ]
    },
    {
     "name": "stdout",
     "output_type": "stream",
     "text": [
      " 93 10.80s trainloss=0.20031 validloss=7.13936 accuracy_score=0.50590 \n",
      " 94 10.75s trainloss=0.21747 validloss=0.33668 accuracy_score=0.73009 \n"
     ]
    },
    {
     "name": "stderr",
     "output_type": "stream",
     "text": [
      "/opt/jupyterhub/anaconda/lib/python3.9/site-packages/sklearn/metrics/_classification.py:1308: UndefinedMetricWarning: Precision is ill-defined and being set to 0.0 in labels with no predicted samples. Use `zero_division` parameter to control this behavior.\n",
      "  _warn_prf(average, modifier, msg_start, len(result))\n"
     ]
    },
    {
     "name": "stdout",
     "output_type": "stream",
     "text": [
      " 95 10.65s trainloss=0.24446 validloss=2.29981 accuracy_score=0.50590 \n"
     ]
    },
    {
     "name": "stderr",
     "output_type": "stream",
     "text": [
      "/opt/jupyterhub/anaconda/lib/python3.9/site-packages/sklearn/metrics/_classification.py:1308: UndefinedMetricWarning: Precision is ill-defined and being set to 0.0 in labels with no predicted samples. Use `zero_division` parameter to control this behavior.\n",
      "  _warn_prf(average, modifier, msg_start, len(result))\n"
     ]
    },
    {
     "name": "stdout",
     "output_type": "stream",
     "text": [
      " 96 9.52s trainloss=0.24233 validloss=0.91291 accuracy_score=0.50590 \n"
     ]
    },
    {
     "name": "stderr",
     "output_type": "stream",
     "text": [
      "/opt/jupyterhub/anaconda/lib/python3.9/site-packages/sklearn/metrics/_classification.py:1308: UndefinedMetricWarning: Precision is ill-defined and being set to 0.0 in labels with no predicted samples. Use `zero_division` parameter to control this behavior.\n",
      "  _warn_prf(average, modifier, msg_start, len(result))\n"
     ]
    },
    {
     "name": "stdout",
     "output_type": "stream",
     "text": [
      " 97 8.98s trainloss=0.23750 validloss=4.01882 accuracy_score=0.50590 \n"
     ]
    },
    {
     "name": "stderr",
     "output_type": "stream",
     "text": [
      "/opt/jupyterhub/anaconda/lib/python3.9/site-packages/sklearn/metrics/_classification.py:1308: UndefinedMetricWarning: Precision is ill-defined and being set to 0.0 in labels with no predicted samples. Use `zero_division` parameter to control this behavior.\n",
      "  _warn_prf(average, modifier, msg_start, len(result))\n"
     ]
    },
    {
     "name": "stdout",
     "output_type": "stream",
     "text": [
      " 98 9.02s trainloss=0.22172 validloss=3.25562 accuracy_score=0.50590 \n"
     ]
    },
    {
     "name": "stderr",
     "output_type": "stream",
     "text": [
      "/opt/jupyterhub/anaconda/lib/python3.9/site-packages/sklearn/metrics/_classification.py:1308: UndefinedMetricWarning: Precision is ill-defined and being set to 0.0 in labels with no predicted samples. Use `zero_division` parameter to control this behavior.\n",
      "  _warn_prf(average, modifier, msg_start, len(result))\n"
     ]
    },
    {
     "name": "stdout",
     "output_type": "stream",
     "text": [
      " 99 9.05s trainloss=0.21821 validloss=13.23409 accuracy_score=0.50590 \n",
      "100 9.15s trainloss=0.22213 validloss=0.43616 accuracy_score=0.60767 \n"
     ]
    }
   ],
   "source": [
    "rn_152_trainer.train(100, lr=0.01, weight_decay=0.2)"
   ]
  },
  {
   "cell_type": "code",
   "execution_count": 64,
   "id": "cf531d60",
   "metadata": {},
   "outputs": [
    {
     "data": {
      "image/png": "[encoded data removed]",
      "text/plain": [
       "<Figure size 432x288 with 1 Axes>"
      ]
     },
     "metadata": {
      "needs_background": "light"
     },
     "output_type": "display_data"
    }
   ],
   "source": [
    "rn_152_trainer.learning_curve()"
   ]
  },
  {
   "cell_type": "code",
   "execution_count": 65,
   "id": "ab93880d",
   "metadata": {},
   "outputs": [
    {
     "data": {
      "image/png": "[encoded data removed]",
      "text/plain": [
       "<Figure size 432x288 with 1 Axes>"
      ]
     },
     "metadata": {
      "needs_background": "light"
     },
     "output_type": "display_data"
    }
   ],
   "source": [
    "rn_152_trainer.learning_curve(y='accuracy_score')"
   ]
  },
  {
   "cell_type": "code",
   "execution_count": 66,
   "id": "c0343981",
   "metadata": {},
   "outputs": [
    {
     "name": "stdout",
     "output_type": "stream",
     "text": [
      "     accuracy_score  epoch  prec_chewing  recall_chewing  recall_other\n",
      "11         0.889381    6.0      0.896341        0.877612      0.900875\n",
      "71         0.865782   36.0      0.808081        0.955224      0.778426\n",
      "89         0.861357   45.0      0.791768        0.976119      0.749271\n",
      "175        0.836283   88.0      0.917910        0.734328      0.935860\n",
      "97         0.820059   49.0      0.741497        0.976119      0.667638\n",
      "..              ...    ...           ...             ...           ...\n",
      "143        0.500000   72.0      0.000000        0.000000      0.988338\n",
      "35         0.497050   18.0      0.495562        1.000000      0.005831\n",
      "123        0.495575   62.0      0.111111        0.002985      0.976676\n",
      "29         0.494100   15.0      0.494100        1.000000      0.000000\n",
      "69         0.480826   35.0      0.095238        0.005970      0.944606\n",
      "\n",
      "[100 rows x 5 columns]\n"
     ]
    }
   ],
   "source": [
    "sort_epochs(rn_152_trainer.evaluator, 'accuracy_score')"
   ]
  },
  {
   "cell_type": "markdown",
   "id": "9e6ab07e",
   "metadata": {},
   "source": [
    "# wide resnet 50_2"
   ]
  },
  {
   "cell_type": "code",
   "execution_count": 67,
   "id": "23b1415a",
   "metadata": {},
   "outputs": [
    {
     "name": "stderr",
     "output_type": "stream",
     "text": [
      "Downloading: \"https://download.pytorch.org/models/wide_resnet50_2-95faca4d.pth\" to /home/17113571/.cache/torch/hub/checkpoints/wide_resnet50_2-95faca4d.pth\n"
     ]
    },
    {
     "data": {
      "application/vnd.jupyter.widget-view+json": {
       "model_id": "bfa75f7cf888450580524ac5665b19c5",
       "version_major": 2,
       "version_minor": 0
      },
      "text/plain": [
       "  0%|          | 0.00/132M [00:00<?, ?B/s]"
      ]
     },
     "metadata": {},
     "output_type": "display_data"
    }
   ],
   "source": [
    "rn50_2 = models.wide_resnet50_2(pretrained=True)\n",
    "rn50_2.conv1 = nn.Conv2d(1, rn50_2.conv1.out_channels,\n",
    "              kernel_size=rn50_2.conv1.kernel_size[0], \n",
    "                      stride=rn50_2.conv1.stride[0], \n",
    "                      padding=rn50_2.conv1.padding[0])\n",
    "num_ftrs = rn50_2.fc.in_features\n",
    "rn50_2.fc = nn.Linear(num_ftrs, 2)\n",
    "\n",
    "rn50_2.post_forward = post_forward\n",
    "\n",
    "rn50_2_trainer = trainer(rn50_2, nn.CrossEntropyLoss(weight=normedWeights), train_loader, valid_loader, test_loader, metrics=metrics, gpu=True)"
   ]
  },
  {
   "cell_type": "code",
   "execution_count": 68,
   "id": "f222292f",
   "metadata": {},
   "outputs": [
    {
     "data": {
      "application/vnd.jupyter.widget-view+json": {
       "model_id": "01451b15d0a64b6a849328c477d96a06",
       "version_major": 2,
       "version_minor": 0
      },
      "text/plain": [
       "Total:   0%|          | 0/345600 [00:00<?, ?it/s]"
      ]
     },
     "metadata": {},
     "output_type": "display_data"
    },
    {
     "name": "stdout",
     "output_type": "stream",
     "text": [
      "  1 10.28s trainloss=0.76522 validloss=0.50461 accuracy_score=0.78466 \n"
     ]
    },
    {
     "name": "stderr",
     "output_type": "stream",
     "text": [
      "/opt/jupyterhub/anaconda/lib/python3.9/site-packages/sklearn/metrics/_classification.py:1308: UndefinedMetricWarning: Precision is ill-defined and being set to 0.0 in labels with no predicted samples. Use `zero_division` parameter to control this behavior.\n",
      "  _warn_prf(average, modifier, msg_start, len(result))\n"
     ]
    },
    {
     "name": "stdout",
     "output_type": "stream",
     "text": [
      "  2 10.40s trainloss=0.45713 validloss=0.96524 accuracy_score=0.50590 \n",
      "  3 10.35s trainloss=0.35299 validloss=0.39559 accuracy_score=0.67109 \n"
     ]
    },
    {
     "name": "stderr",
     "output_type": "stream",
     "text": [
      "/opt/jupyterhub/anaconda/lib/python3.9/site-packages/sklearn/metrics/_classification.py:1308: UndefinedMetricWarning: Precision is ill-defined and being set to 0.0 in labels with no predicted samples. Use `zero_division` parameter to control this behavior.\n",
      "  _warn_prf(average, modifier, msg_start, len(result))\n"
     ]
    },
    {
     "name": "stdout",
     "output_type": "stream",
     "text": [
      "  4 10.24s trainloss=0.30998 validloss=1.43865 accuracy_score=0.50590 \n"
     ]
    },
    {
     "name": "stderr",
     "output_type": "stream",
     "text": [
      "/opt/jupyterhub/anaconda/lib/python3.9/site-packages/sklearn/metrics/_classification.py:1308: UndefinedMetricWarning: Precision is ill-defined and being set to 0.0 in labels with no predicted samples. Use `zero_division` parameter to control this behavior.\n",
      "  _warn_prf(average, modifier, msg_start, len(result))\n"
     ]
    },
    {
     "name": "stdout",
     "output_type": "stream",
     "text": [
      "  5 10.30s trainloss=0.31855 validloss=2.93570 accuracy_score=0.50590 \n"
     ]
    },
    {
     "name": "stderr",
     "output_type": "stream",
     "text": [
      "/opt/jupyterhub/anaconda/lib/python3.9/site-packages/sklearn/metrics/_classification.py:1308: UndefinedMetricWarning: Precision is ill-defined and being set to 0.0 in labels with no predicted samples. Use `zero_division` parameter to control this behavior.\n",
      "  _warn_prf(average, modifier, msg_start, len(result))\n"
     ]
    },
    {
     "name": "stdout",
     "output_type": "stream",
     "text": [
      "  6 10.27s trainloss=0.31025 validloss=1.49684 accuracy_score=0.50590 \n",
      "  7 10.32s trainloss=0.28467 validloss=0.51006 accuracy_score=0.69912 \n",
      "  8 10.43s trainloss=0.27528 validloss=0.66428 accuracy_score=0.70059 \n",
      "  9 9.58s trainloss=0.25174 validloss=0.62094 accuracy_score=0.61209 \n",
      " 10 8.16s trainloss=0.24353 validloss=0.31716 accuracy_score=0.74779 \n"
     ]
    },
    {
     "name": "stderr",
     "output_type": "stream",
     "text": [
      "/opt/jupyterhub/anaconda/lib/python3.9/site-packages/sklearn/metrics/_classification.py:1308: UndefinedMetricWarning: Precision is ill-defined and being set to 0.0 in labels with no predicted samples. Use `zero_division` parameter to control this behavior.\n",
      "  _warn_prf(average, modifier, msg_start, len(result))\n"
     ]
    },
    {
     "name": "stdout",
     "output_type": "stream",
     "text": [
      " 11 7.19s trainloss=0.27352 validloss=6.47539 accuracy_score=0.50590 \n"
     ]
    },
    {
     "name": "stderr",
     "output_type": "stream",
     "text": [
      "/opt/jupyterhub/anaconda/lib/python3.9/site-packages/sklearn/metrics/_classification.py:1308: UndefinedMetricWarning: Precision is ill-defined and being set to 0.0 in labels with no predicted samples. Use `zero_division` parameter to control this behavior.\n",
      "  _warn_prf(average, modifier, msg_start, len(result))\n"
     ]
    },
    {
     "name": "stdout",
     "output_type": "stream",
     "text": [
      " 12 7.18s trainloss=0.25080 validloss=0.71505 accuracy_score=0.50590 \n"
     ]
    },
    {
     "name": "stderr",
     "output_type": "stream",
     "text": [
      "/opt/jupyterhub/anaconda/lib/python3.9/site-packages/sklearn/metrics/_classification.py:1308: UndefinedMetricWarning: Precision is ill-defined and being set to 0.0 in labels with no predicted samples. Use `zero_division` parameter to control this behavior.\n",
      "  _warn_prf(average, modifier, msg_start, len(result))\n"
     ]
    },
    {
     "name": "stdout",
     "output_type": "stream",
     "text": [
      " 13 7.21s trainloss=0.25117 validloss=1.00881 accuracy_score=0.50590 \n",
      " 14 7.18s trainloss=0.29235 validloss=0.78649 accuracy_score=0.61357 \n"
     ]
    },
    {
     "name": "stderr",
     "output_type": "stream",
     "text": [
      "/opt/jupyterhub/anaconda/lib/python3.9/site-packages/sklearn/metrics/_classification.py:1308: UndefinedMetricWarning: Precision is ill-defined and being set to 0.0 in labels with no predicted samples. Use `zero_division` parameter to control this behavior.\n",
      "  _warn_prf(average, modifier, msg_start, len(result))\n"
     ]
    },
    {
     "name": "stdout",
     "output_type": "stream",
     "text": [
      " 15 7.20s trainloss=0.26667 validloss=2.40192 accuracy_score=0.50590 \n"
     ]
    },
    {
     "name": "stderr",
     "output_type": "stream",
     "text": [
      "/opt/jupyterhub/anaconda/lib/python3.9/site-packages/sklearn/metrics/_classification.py:1308: UndefinedMetricWarning: Precision is ill-defined and being set to 0.0 in labels with no predicted samples. Use `zero_division` parameter to control this behavior.\n",
      "  _warn_prf(average, modifier, msg_start, len(result))\n"
     ]
    },
    {
     "name": "stdout",
     "output_type": "stream",
     "text": [
      " 16 7.20s trainloss=0.23892 validloss=5.48711 accuracy_score=0.50590 \n",
      " 17 7.20s trainloss=0.26460 validloss=0.37490 accuracy_score=0.74484 \n"
     ]
    },
    {
     "name": "stderr",
     "output_type": "stream",
     "text": [
      "/opt/jupyterhub/anaconda/lib/python3.9/site-packages/sklearn/metrics/_classification.py:1308: UndefinedMetricWarning: Precision is ill-defined and being set to 0.0 in labels with no predicted samples. Use `zero_division` parameter to control this behavior.\n",
      "  _warn_prf(average, modifier, msg_start, len(result))\n"
     ]
    },
    {
     "name": "stdout",
     "output_type": "stream",
     "text": [
      " 18 7.21s trainloss=0.24509 validloss=2.02413 accuracy_score=0.50590 \n"
     ]
    },
    {
     "name": "stderr",
     "output_type": "stream",
     "text": [
      "/opt/jupyterhub/anaconda/lib/python3.9/site-packages/sklearn/metrics/_classification.py:1308: UndefinedMetricWarning: Precision is ill-defined and being set to 0.0 in labels with no predicted samples. Use `zero_division` parameter to control this behavior.\n",
      "  _warn_prf(average, modifier, msg_start, len(result))\n"
     ]
    },
    {
     "name": "stdout",
     "output_type": "stream",
     "text": [
      " 19 7.18s trainloss=0.26363 validloss=1.68131 accuracy_score=0.50590 \n",
      " 20 7.23s trainloss=0.24472 validloss=0.58014 accuracy_score=0.87021 \n"
     ]
    },
    {
     "name": "stderr",
     "output_type": "stream",
     "text": [
      "/opt/jupyterhub/anaconda/lib/python3.9/site-packages/sklearn/metrics/_classification.py:1308: UndefinedMetricWarning: Precision is ill-defined and being set to 0.0 in labels with no predicted samples. Use `zero_division` parameter to control this behavior.\n",
      "  _warn_prf(average, modifier, msg_start, len(result))\n"
     ]
    },
    {
     "name": "stdout",
     "output_type": "stream",
     "text": [
      " 21 7.20s trainloss=0.23931 validloss=4.78568 accuracy_score=0.50590 \n",
      " 22 7.21s trainloss=0.24842 validloss=0.57151 accuracy_score=0.75811 \n",
      " 23 7.17s trainloss=0.24859 validloss=0.28263 accuracy_score=0.81858 \n"
     ]
    },
    {
     "name": "stderr",
     "output_type": "stream",
     "text": [
      "/opt/jupyterhub/anaconda/lib/python3.9/site-packages/sklearn/metrics/_classification.py:1308: UndefinedMetricWarning: Precision is ill-defined and being set to 0.0 in labels with no predicted samples. Use `zero_division` parameter to control this behavior.\n",
      "  _warn_prf(average, modifier, msg_start, len(result))\n"
     ]
    },
    {
     "name": "stdout",
     "output_type": "stream",
     "text": [
      " 24 7.15s trainloss=0.24182 validloss=3.88461 accuracy_score=0.50590 \n",
      " 25 7.20s trainloss=0.25112 validloss=1.00020 accuracy_score=0.62094 \n"
     ]
    },
    {
     "name": "stderr",
     "output_type": "stream",
     "text": [
      "/opt/jupyterhub/anaconda/lib/python3.9/site-packages/sklearn/metrics/_classification.py:1308: UndefinedMetricWarning: Precision is ill-defined and being set to 0.0 in labels with no predicted samples. Use `zero_division` parameter to control this behavior.\n",
      "  _warn_prf(average, modifier, msg_start, len(result))\n"
     ]
    },
    {
     "name": "stdout",
     "output_type": "stream",
     "text": [
      " 26 7.18s trainloss=0.24425 validloss=4.16895 accuracy_score=0.50590 \n"
     ]
    },
    {
     "name": "stderr",
     "output_type": "stream",
     "text": [
      "/opt/jupyterhub/anaconda/lib/python3.9/site-packages/sklearn/metrics/_classification.py:1308: UndefinedMetricWarning: Precision is ill-defined and being set to 0.0 in labels with no predicted samples. Use `zero_division` parameter to control this behavior.\n",
      "  _warn_prf(average, modifier, msg_start, len(result))\n"
     ]
    },
    {
     "name": "stdout",
     "output_type": "stream",
     "text": [
      " 27 7.20s trainloss=0.22515 validloss=2.49524 accuracy_score=0.50590 \n",
      " 28 7.41s trainloss=0.25952 validloss=0.42717 accuracy_score=0.76106 \n",
      " 29 7.17s trainloss=0.23967 validloss=0.26268 accuracy_score=0.80236 \n"
     ]
    },
    {
     "name": "stderr",
     "output_type": "stream",
     "text": [
      "/opt/jupyterhub/anaconda/lib/python3.9/site-packages/sklearn/metrics/_classification.py:1308: UndefinedMetricWarning: Precision is ill-defined and being set to 0.0 in labels with no predicted samples. Use `zero_division` parameter to control this behavior.\n",
      "  _warn_prf(average, modifier, msg_start, len(result))\n"
     ]
    },
    {
     "name": "stdout",
     "output_type": "stream",
     "text": [
      " 30 7.20s trainloss=0.24755 validloss=3.09757 accuracy_score=0.50590 \n",
      " 31 7.15s trainloss=0.24792 validloss=0.65325 accuracy_score=0.47345 \n"
     ]
    },
    {
     "name": "stderr",
     "output_type": "stream",
     "text": [
      "/opt/jupyterhub/anaconda/lib/python3.9/site-packages/sklearn/metrics/_classification.py:1308: UndefinedMetricWarning: Precision is ill-defined and being set to 0.0 in labels with no predicted samples. Use `zero_division` parameter to control this behavior.\n",
      "  _warn_prf(average, modifier, msg_start, len(result))\n"
     ]
    },
    {
     "name": "stdout",
     "output_type": "stream",
     "text": [
      " 32 7.15s trainloss=0.25788 validloss=2.97211 accuracy_score=0.50590 \n"
     ]
    },
    {
     "name": "stderr",
     "output_type": "stream",
     "text": [
      "/opt/jupyterhub/anaconda/lib/python3.9/site-packages/sklearn/metrics/_classification.py:1308: UndefinedMetricWarning: Precision is ill-defined and being set to 0.0 in labels with no predicted samples. Use `zero_division` parameter to control this behavior.\n",
      "  _warn_prf(average, modifier, msg_start, len(result))\n"
     ]
    },
    {
     "name": "stdout",
     "output_type": "stream",
     "text": [
      " 33 7.14s trainloss=0.24351 validloss=2.27352 accuracy_score=0.50590 \n",
      " 34 7.15s trainloss=0.23254 validloss=0.33500 accuracy_score=0.70059 \n"
     ]
    },
    {
     "name": "stderr",
     "output_type": "stream",
     "text": [
      "/opt/jupyterhub/anaconda/lib/python3.9/site-packages/sklearn/metrics/_classification.py:1308: UndefinedMetricWarning: Precision is ill-defined and being set to 0.0 in labels with no predicted samples. Use `zero_division` parameter to control this behavior.\n",
      "  _warn_prf(average, modifier, msg_start, len(result))\n"
     ]
    },
    {
     "name": "stdout",
     "output_type": "stream",
     "text": [
      " 35 7.14s trainloss=0.24880 validloss=6.63157 accuracy_score=0.50590 \n",
      " 36 7.14s trainloss=0.28674 validloss=0.64738 accuracy_score=0.54277 \n"
     ]
    },
    {
     "name": "stderr",
     "output_type": "stream",
     "text": [
      "/opt/jupyterhub/anaconda/lib/python3.9/site-packages/sklearn/metrics/_classification.py:1308: UndefinedMetricWarning: Precision is ill-defined and being set to 0.0 in labels with no predicted samples. Use `zero_division` parameter to control this behavior.\n",
      "  _warn_prf(average, modifier, msg_start, len(result))\n"
     ]
    },
    {
     "name": "stdout",
     "output_type": "stream",
     "text": [
      " 37 7.14s trainloss=0.25042 validloss=2.47934 accuracy_score=0.50590 \n"
     ]
    },
    {
     "name": "stderr",
     "output_type": "stream",
     "text": [
      "/opt/jupyterhub/anaconda/lib/python3.9/site-packages/sklearn/metrics/_classification.py:1308: UndefinedMetricWarning: Precision is ill-defined and being set to 0.0 in labels with no predicted samples. Use `zero_division` parameter to control this behavior.\n",
      "  _warn_prf(average, modifier, msg_start, len(result))\n"
     ]
    },
    {
     "name": "stdout",
     "output_type": "stream",
     "text": [
      " 38 7.17s trainloss=0.23387 validloss=2.98906 accuracy_score=0.50590 \n"
     ]
    },
    {
     "name": "stderr",
     "output_type": "stream",
     "text": [
      "/opt/jupyterhub/anaconda/lib/python3.9/site-packages/sklearn/metrics/_classification.py:1308: UndefinedMetricWarning: Precision is ill-defined and being set to 0.0 in labels with no predicted samples. Use `zero_division` parameter to control this behavior.\n",
      "  _warn_prf(average, modifier, msg_start, len(result))\n"
     ]
    },
    {
     "name": "stdout",
     "output_type": "stream",
     "text": [
      " 39 7.18s trainloss=0.22939 validloss=1.50237 accuracy_score=0.50590 \n"
     ]
    },
    {
     "name": "stderr",
     "output_type": "stream",
     "text": [
      "/opt/jupyterhub/anaconda/lib/python3.9/site-packages/sklearn/metrics/_classification.py:1308: UndefinedMetricWarning: Precision is ill-defined and being set to 0.0 in labels with no predicted samples. Use `zero_division` parameter to control this behavior.\n",
      "  _warn_prf(average, modifier, msg_start, len(result))\n"
     ]
    },
    {
     "name": "stdout",
     "output_type": "stream",
     "text": [
      " 40 7.17s trainloss=0.24927 validloss=2.78310 accuracy_score=0.50590 \n"
     ]
    },
    {
     "name": "stderr",
     "output_type": "stream",
     "text": [
      "/opt/jupyterhub/anaconda/lib/python3.9/site-packages/sklearn/metrics/_classification.py:1308: UndefinedMetricWarning: Precision is ill-defined and being set to 0.0 in labels with no predicted samples. Use `zero_division` parameter to control this behavior.\n",
      "  _warn_prf(average, modifier, msg_start, len(result))\n"
     ]
    },
    {
     "name": "stdout",
     "output_type": "stream",
     "text": [
      " 41 7.18s trainloss=0.23850 validloss=2.53776 accuracy_score=0.50590 \n",
      " 42 7.17s trainloss=0.29472 validloss=0.30078 accuracy_score=0.74779 \n",
      " 43 7.16s trainloss=0.26720 validloss=0.48263 accuracy_score=0.67552 \n"
     ]
    },
    {
     "name": "stderr",
     "output_type": "stream",
     "text": [
      "/opt/jupyterhub/anaconda/lib/python3.9/site-packages/sklearn/metrics/_classification.py:1308: UndefinedMetricWarning: Precision is ill-defined and being set to 0.0 in labels with no predicted samples. Use `zero_division` parameter to control this behavior.\n",
      "  _warn_prf(average, modifier, msg_start, len(result))\n"
     ]
    },
    {
     "name": "stdout",
     "output_type": "stream",
     "text": [
      " 44 7.21s trainloss=0.25494 validloss=4.00912 accuracy_score=0.50590 \n",
      " 45 7.17s trainloss=0.24761 validloss=0.65286 accuracy_score=0.63274 \n"
     ]
    },
    {
     "name": "stderr",
     "output_type": "stream",
     "text": [
      "/opt/jupyterhub/anaconda/lib/python3.9/site-packages/sklearn/metrics/_classification.py:1308: UndefinedMetricWarning: Precision is ill-defined and being set to 0.0 in labels with no predicted samples. Use `zero_division` parameter to control this behavior.\n",
      "  _warn_prf(average, modifier, msg_start, len(result))\n"
     ]
    },
    {
     "name": "stdout",
     "output_type": "stream",
     "text": [
      " 46 7.17s trainloss=0.24192 validloss=4.46953 accuracy_score=0.50590 \n"
     ]
    },
    {
     "name": "stderr",
     "output_type": "stream",
     "text": [
      "/opt/jupyterhub/anaconda/lib/python3.9/site-packages/sklearn/metrics/_classification.py:1308: UndefinedMetricWarning: Precision is ill-defined and being set to 0.0 in labels with no predicted samples. Use `zero_division` parameter to control this behavior.\n",
      "  _warn_prf(average, modifier, msg_start, len(result))\n"
     ]
    },
    {
     "name": "stdout",
     "output_type": "stream",
     "text": [
      " 47 7.19s trainloss=0.23042 validloss=10.00884 accuracy_score=0.50590 \n"
     ]
    },
    {
     "name": "stderr",
     "output_type": "stream",
     "text": [
      "/opt/jupyterhub/anaconda/lib/python3.9/site-packages/sklearn/metrics/_classification.py:1308: UndefinedMetricWarning: Precision is ill-defined and being set to 0.0 in labels with no predicted samples. Use `zero_division` parameter to control this behavior.\n",
      "  _warn_prf(average, modifier, msg_start, len(result))\n"
     ]
    },
    {
     "name": "stdout",
     "output_type": "stream",
     "text": [
      " 48 7.17s trainloss=0.23196 validloss=2.27710 accuracy_score=0.50590 \n",
      " 49 7.20s trainloss=0.25684 validloss=0.70823 accuracy_score=0.52802 \n",
      " 50 7.13s trainloss=0.24058 validloss=0.37051 accuracy_score=0.83628 \n"
     ]
    },
    {
     "name": "stderr",
     "output_type": "stream",
     "text": [
      "/opt/jupyterhub/anaconda/lib/python3.9/site-packages/sklearn/metrics/_classification.py:1308: UndefinedMetricWarning: Precision is ill-defined and being set to 0.0 in labels with no predicted samples. Use `zero_division` parameter to control this behavior.\n",
      "  _warn_prf(average, modifier, msg_start, len(result))\n"
     ]
    },
    {
     "name": "stdout",
     "output_type": "stream",
     "text": [
      " 51 7.13s trainloss=0.22636 validloss=1.03838 accuracy_score=0.50590 \n",
      " 52 7.13s trainloss=0.23805 validloss=1.28296 accuracy_score=0.50442 \n",
      " 53 7.13s trainloss=0.24980 validloss=0.32767 accuracy_score=0.75369 \n"
     ]
    },
    {
     "name": "stderr",
     "output_type": "stream",
     "text": [
      "/opt/jupyterhub/anaconda/lib/python3.9/site-packages/sklearn/metrics/_classification.py:1308: UndefinedMetricWarning: Precision is ill-defined and being set to 0.0 in labels with no predicted samples. Use `zero_division` parameter to control this behavior.\n",
      "  _warn_prf(average, modifier, msg_start, len(result))\n"
     ]
    },
    {
     "name": "stdout",
     "output_type": "stream",
     "text": [
      " 54 7.12s trainloss=0.25469 validloss=5.41975 accuracy_score=0.50590 \n"
     ]
    },
    {
     "name": "stderr",
     "output_type": "stream",
     "text": [
      "/opt/jupyterhub/anaconda/lib/python3.9/site-packages/sklearn/metrics/_classification.py:1308: UndefinedMetricWarning: Precision is ill-defined and being set to 0.0 in labels with no predicted samples. Use `zero_division` parameter to control this behavior.\n",
      "  _warn_prf(average, modifier, msg_start, len(result))\n"
     ]
    },
    {
     "name": "stdout",
     "output_type": "stream",
     "text": [
      " 55 7.12s trainloss=0.24243 validloss=3.77733 accuracy_score=0.50590 \n",
      " 56 7.11s trainloss=0.24897 validloss=0.72408 accuracy_score=0.31416 \n",
      " 57 7.13s trainloss=0.23015 validloss=2.33617 accuracy_score=0.50295 \n",
      " 58 7.17s trainloss=0.23437 validloss=1.00588 accuracy_score=0.59440 \n"
     ]
    },
    {
     "name": "stderr",
     "output_type": "stream",
     "text": [
      "/opt/jupyterhub/anaconda/lib/python3.9/site-packages/sklearn/metrics/_classification.py:1308: UndefinedMetricWarning: Precision is ill-defined and being set to 0.0 in labels with no predicted samples. Use `zero_division` parameter to control this behavior.\n",
      "  _warn_prf(average, modifier, msg_start, len(result))\n"
     ]
    },
    {
     "name": "stdout",
     "output_type": "stream",
     "text": [
      " 59 7.15s trainloss=0.25507 validloss=3.16887 accuracy_score=0.50590 \n"
     ]
    },
    {
     "name": "stderr",
     "output_type": "stream",
     "text": [
      "/opt/jupyterhub/anaconda/lib/python3.9/site-packages/sklearn/metrics/_classification.py:1308: UndefinedMetricWarning: Precision is ill-defined and being set to 0.0 in labels with no predicted samples. Use `zero_division` parameter to control this behavior.\n",
      "  _warn_prf(average, modifier, msg_start, len(result))\n"
     ]
    },
    {
     "name": "stdout",
     "output_type": "stream",
     "text": [
      " 60 7.18s trainloss=0.25344 validloss=8.34335 accuracy_score=0.50590 \n",
      " 61 7.13s trainloss=0.23771 validloss=1.37838 accuracy_score=0.57670 \n"
     ]
    },
    {
     "name": "stderr",
     "output_type": "stream",
     "text": [
      "/opt/jupyterhub/anaconda/lib/python3.9/site-packages/sklearn/metrics/_classification.py:1308: UndefinedMetricWarning: Precision is ill-defined and being set to 0.0 in labels with no predicted samples. Use `zero_division` parameter to control this behavior.\n",
      "  _warn_prf(average, modifier, msg_start, len(result))\n"
     ]
    },
    {
     "name": "stdout",
     "output_type": "stream",
     "text": [
      " 62 7.11s trainloss=0.25862 validloss=4.09970 accuracy_score=0.50590 \n"
     ]
    },
    {
     "name": "stderr",
     "output_type": "stream",
     "text": [
      "/opt/jupyterhub/anaconda/lib/python3.9/site-packages/sklearn/metrics/_classification.py:1308: UndefinedMetricWarning: Precision is ill-defined and being set to 0.0 in labels with no predicted samples. Use `zero_division` parameter to control this behavior.\n",
      "  _warn_prf(average, modifier, msg_start, len(result))\n"
     ]
    },
    {
     "name": "stdout",
     "output_type": "stream",
     "text": [
      " 63 7.10s trainloss=0.23067 validloss=10.41555 accuracy_score=0.50590 \n"
     ]
    },
    {
     "name": "stderr",
     "output_type": "stream",
     "text": [
      "/opt/jupyterhub/anaconda/lib/python3.9/site-packages/sklearn/metrics/_classification.py:1308: UndefinedMetricWarning: Precision is ill-defined and being set to 0.0 in labels with no predicted samples. Use `zero_division` parameter to control this behavior.\n",
      "  _warn_prf(average, modifier, msg_start, len(result))\n"
     ]
    },
    {
     "name": "stdout",
     "output_type": "stream",
     "text": [
      " 64 7.10s trainloss=0.23749 validloss=2.56448 accuracy_score=0.50590 \n"
     ]
    },
    {
     "name": "stderr",
     "output_type": "stream",
     "text": [
      "/opt/jupyterhub/anaconda/lib/python3.9/site-packages/sklearn/metrics/_classification.py:1308: UndefinedMetricWarning: Precision is ill-defined and being set to 0.0 in labels with no predicted samples. Use `zero_division` parameter to control this behavior.\n",
      "  _warn_prf(average, modifier, msg_start, len(result))\n"
     ]
    },
    {
     "name": "stdout",
     "output_type": "stream",
     "text": [
      " 65 7.10s trainloss=0.22650 validloss=1.67517 accuracy_score=0.50590 \n"
     ]
    },
    {
     "name": "stderr",
     "output_type": "stream",
     "text": [
      "/opt/jupyterhub/anaconda/lib/python3.9/site-packages/sklearn/metrics/_classification.py:1308: UndefinedMetricWarning: Precision is ill-defined and being set to 0.0 in labels with no predicted samples. Use `zero_division` parameter to control this behavior.\n",
      "  _warn_prf(average, modifier, msg_start, len(result))\n"
     ]
    },
    {
     "name": "stdout",
     "output_type": "stream",
     "text": [
      " 66 7.10s trainloss=0.21698 validloss=2.18864 accuracy_score=0.50590 \n",
      " 67 7.10s trainloss=0.24896 validloss=0.77978 accuracy_score=0.59735 \n"
     ]
    },
    {
     "name": "stderr",
     "output_type": "stream",
     "text": [
      "/opt/jupyterhub/anaconda/lib/python3.9/site-packages/sklearn/metrics/_classification.py:1308: UndefinedMetricWarning: Precision is ill-defined and being set to 0.0 in labels with no predicted samples. Use `zero_division` parameter to control this behavior.\n",
      "  _warn_prf(average, modifier, msg_start, len(result))\n"
     ]
    },
    {
     "name": "stdout",
     "output_type": "stream",
     "text": [
      " 68 7.10s trainloss=0.25047 validloss=1.16581 accuracy_score=0.50590 \n",
      " 69 7.09s trainloss=0.23285 validloss=2.36300 accuracy_score=0.50295 \n"
     ]
    },
    {
     "name": "stderr",
     "output_type": "stream",
     "text": [
      "/opt/jupyterhub/anaconda/lib/python3.9/site-packages/sklearn/metrics/_classification.py:1308: UndefinedMetricWarning: Precision is ill-defined and being set to 0.0 in labels with no predicted samples. Use `zero_division` parameter to control this behavior.\n",
      "  _warn_prf(average, modifier, msg_start, len(result))\n"
     ]
    },
    {
     "name": "stdout",
     "output_type": "stream",
     "text": [
      " 70 7.10s trainloss=0.23841 validloss=3.10472 accuracy_score=0.50590 \n",
      " 71 7.09s trainloss=0.22442 validloss=3.72360 accuracy_score=0.49705 \n",
      " 72 7.09s trainloss=0.22192 validloss=0.23212 accuracy_score=0.80826 \n",
      " 73 7.14s trainloss=0.21996 validloss=0.40183 accuracy_score=0.81416 \n"
     ]
    },
    {
     "name": "stderr",
     "output_type": "stream",
     "text": [
      "/opt/jupyterhub/anaconda/lib/python3.9/site-packages/sklearn/metrics/_classification.py:1308: UndefinedMetricWarning: Precision is ill-defined and being set to 0.0 in labels with no predicted samples. Use `zero_division` parameter to control this behavior.\n",
      "  _warn_prf(average, modifier, msg_start, len(result))\n"
     ]
    },
    {
     "name": "stdout",
     "output_type": "stream",
     "text": [
      " 74 7.14s trainloss=0.26890 validloss=3.34265 accuracy_score=0.50590 \n",
      " 75 7.14s trainloss=0.24198 validloss=2.22689 accuracy_score=0.50442 \n"
     ]
    },
    {
     "name": "stderr",
     "output_type": "stream",
     "text": [
      "/opt/jupyterhub/anaconda/lib/python3.9/site-packages/sklearn/metrics/_classification.py:1308: UndefinedMetricWarning: Precision is ill-defined and being set to 0.0 in labels with no predicted samples. Use `zero_division` parameter to control this behavior.\n",
      "  _warn_prf(average, modifier, msg_start, len(result))\n"
     ]
    },
    {
     "name": "stdout",
     "output_type": "stream",
     "text": [
      " 76 7.14s trainloss=0.23384 validloss=1.43751 accuracy_score=0.50590 \n"
     ]
    },
    {
     "name": "stderr",
     "output_type": "stream",
     "text": [
      "/opt/jupyterhub/anaconda/lib/python3.9/site-packages/sklearn/metrics/_classification.py:1308: UndefinedMetricWarning: Precision is ill-defined and being set to 0.0 in labels with no predicted samples. Use `zero_division` parameter to control this behavior.\n",
      "  _warn_prf(average, modifier, msg_start, len(result))\n"
     ]
    },
    {
     "name": "stdout",
     "output_type": "stream",
     "text": [
      " 77 7.11s trainloss=0.24328 validloss=3.70773 accuracy_score=0.50590 \n"
     ]
    },
    {
     "name": "stderr",
     "output_type": "stream",
     "text": [
      "/opt/jupyterhub/anaconda/lib/python3.9/site-packages/sklearn/metrics/_classification.py:1308: UndefinedMetricWarning: Precision is ill-defined and being set to 0.0 in labels with no predicted samples. Use `zero_division` parameter to control this behavior.\n",
      "  _warn_prf(average, modifier, msg_start, len(result))\n"
     ]
    },
    {
     "name": "stdout",
     "output_type": "stream",
     "text": [
      " 78 7.14s trainloss=0.25423 validloss=3.22588 accuracy_score=0.50590 \n",
      " 79 7.12s trainloss=0.31105 validloss=1.29645 accuracy_score=0.52802 \n"
     ]
    },
    {
     "name": "stderr",
     "output_type": "stream",
     "text": [
      "/opt/jupyterhub/anaconda/lib/python3.9/site-packages/sklearn/metrics/_classification.py:1308: UndefinedMetricWarning: Precision is ill-defined and being set to 0.0 in labels with no predicted samples. Use `zero_division` parameter to control this behavior.\n",
      "  _warn_prf(average, modifier, msg_start, len(result))\n"
     ]
    },
    {
     "name": "stdout",
     "output_type": "stream",
     "text": [
      " 80 7.10s trainloss=0.26372 validloss=4.46386 accuracy_score=0.50590 \n"
     ]
    },
    {
     "name": "stderr",
     "output_type": "stream",
     "text": [
      "/opt/jupyterhub/anaconda/lib/python3.9/site-packages/sklearn/metrics/_classification.py:1308: UndefinedMetricWarning: Precision is ill-defined and being set to 0.0 in labels with no predicted samples. Use `zero_division` parameter to control this behavior.\n",
      "  _warn_prf(average, modifier, msg_start, len(result))\n"
     ]
    },
    {
     "name": "stdout",
     "output_type": "stream",
     "text": [
      " 81 7.10s trainloss=0.25531 validloss=3.67480 accuracy_score=0.50590 \n"
     ]
    },
    {
     "name": "stderr",
     "output_type": "stream",
     "text": [
      "/opt/jupyterhub/anaconda/lib/python3.9/site-packages/sklearn/metrics/_classification.py:1308: UndefinedMetricWarning: Precision is ill-defined and being set to 0.0 in labels with no predicted samples. Use `zero_division` parameter to control this behavior.\n",
      "  _warn_prf(average, modifier, msg_start, len(result))\n"
     ]
    },
    {
     "name": "stdout",
     "output_type": "stream",
     "text": [
      " 82 7.13s trainloss=0.26328 validloss=1.64451 accuracy_score=0.50590 \n"
     ]
    },
    {
     "name": "stderr",
     "output_type": "stream",
     "text": [
      "/opt/jupyterhub/anaconda/lib/python3.9/site-packages/sklearn/metrics/_classification.py:1308: UndefinedMetricWarning: Precision is ill-defined and being set to 0.0 in labels with no predicted samples. Use `zero_division` parameter to control this behavior.\n",
      "  _warn_prf(average, modifier, msg_start, len(result))\n"
     ]
    },
    {
     "name": "stdout",
     "output_type": "stream",
     "text": [
      " 83 7.10s trainloss=0.25618 validloss=1.84120 accuracy_score=0.50590 \n"
     ]
    },
    {
     "name": "stderr",
     "output_type": "stream",
     "text": [
      "/opt/jupyterhub/anaconda/lib/python3.9/site-packages/sklearn/metrics/_classification.py:1308: UndefinedMetricWarning: Precision is ill-defined and being set to 0.0 in labels with no predicted samples. Use `zero_division` parameter to control this behavior.\n",
      "  _warn_prf(average, modifier, msg_start, len(result))\n"
     ]
    },
    {
     "name": "stdout",
     "output_type": "stream",
     "text": [
      " 84 7.08s trainloss=0.23713 validloss=1.23801 accuracy_score=0.50590 \n"
     ]
    },
    {
     "name": "stderr",
     "output_type": "stream",
     "text": [
      "/opt/jupyterhub/anaconda/lib/python3.9/site-packages/sklearn/metrics/_classification.py:1308: UndefinedMetricWarning: Precision is ill-defined and being set to 0.0 in labels with no predicted samples. Use `zero_division` parameter to control this behavior.\n",
      "  _warn_prf(average, modifier, msg_start, len(result))\n"
     ]
    },
    {
     "name": "stdout",
     "output_type": "stream",
     "text": [
      " 85 7.08s trainloss=0.25199 validloss=4.79726 accuracy_score=0.50590 \n",
      " 86 7.07s trainloss=0.27478 validloss=0.69479 accuracy_score=0.30088 \n",
      " 87 7.08s trainloss=0.26704 validloss=0.72738 accuracy_score=0.49705 \n"
     ]
    },
    {
     "name": "stderr",
     "output_type": "stream",
     "text": [
      "/opt/jupyterhub/anaconda/lib/python3.9/site-packages/sklearn/metrics/_classification.py:1308: UndefinedMetricWarning: Precision is ill-defined and being set to 0.0 in labels with no predicted samples. Use `zero_division` parameter to control this behavior.\n",
      "  _warn_prf(average, modifier, msg_start, len(result))\n"
     ]
    },
    {
     "name": "stdout",
     "output_type": "stream",
     "text": [
      " 88 7.04s trainloss=0.26549 validloss=1.58020 accuracy_score=0.50590 \n"
     ]
    },
    {
     "name": "stderr",
     "output_type": "stream",
     "text": [
      "/opt/jupyterhub/anaconda/lib/python3.9/site-packages/sklearn/metrics/_classification.py:1308: UndefinedMetricWarning: Precision is ill-defined and being set to 0.0 in labels with no predicted samples. Use `zero_division` parameter to control this behavior.\n",
      "  _warn_prf(average, modifier, msg_start, len(result))\n"
     ]
    },
    {
     "name": "stdout",
     "output_type": "stream",
     "text": [
      " 89 7.06s trainloss=0.25329 validloss=2.57446 accuracy_score=0.50590 \n"
     ]
    },
    {
     "name": "stderr",
     "output_type": "stream",
     "text": [
      "/opt/jupyterhub/anaconda/lib/python3.9/site-packages/sklearn/metrics/_classification.py:1308: UndefinedMetricWarning: Precision is ill-defined and being set to 0.0 in labels with no predicted samples. Use `zero_division` parameter to control this behavior.\n",
      "  _warn_prf(average, modifier, msg_start, len(result))\n"
     ]
    },
    {
     "name": "stdout",
     "output_type": "stream",
     "text": [
      " 90 7.06s trainloss=0.26944 validloss=0.81112 accuracy_score=0.50590 \n"
     ]
    },
    {
     "name": "stderr",
     "output_type": "stream",
     "text": [
      "/opt/jupyterhub/anaconda/lib/python3.9/site-packages/sklearn/metrics/_classification.py:1308: UndefinedMetricWarning: Precision is ill-defined and being set to 0.0 in labels with no predicted samples. Use `zero_division` parameter to control this behavior.\n",
      "  _warn_prf(average, modifier, msg_start, len(result))\n"
     ]
    },
    {
     "name": "stdout",
     "output_type": "stream",
     "text": [
      " 91 7.03s trainloss=0.26418 validloss=4.69240 accuracy_score=0.50590 \n"
     ]
    },
    {
     "name": "stderr",
     "output_type": "stream",
     "text": [
      "/opt/jupyterhub/anaconda/lib/python3.9/site-packages/sklearn/metrics/_classification.py:1308: UndefinedMetricWarning: Precision is ill-defined and being set to 0.0 in labels with no predicted samples. Use `zero_division` parameter to control this behavior.\n",
      "  _warn_prf(average, modifier, msg_start, len(result))\n"
     ]
    },
    {
     "name": "stdout",
     "output_type": "stream",
     "text": [
      " 92 7.04s trainloss=0.30538 validloss=0.82461 accuracy_score=0.50590 \n"
     ]
    },
    {
     "name": "stderr",
     "output_type": "stream",
     "text": [
      "/opt/jupyterhub/anaconda/lib/python3.9/site-packages/sklearn/metrics/_classification.py:1308: UndefinedMetricWarning: Precision is ill-defined and being set to 0.0 in labels with no predicted samples. Use `zero_division` parameter to control this behavior.\n",
      "  _warn_prf(average, modifier, msg_start, len(result))\n"
     ]
    },
    {
     "name": "stdout",
     "output_type": "stream",
     "text": [
      " 93 7.04s trainloss=0.27409 validloss=2.97805 accuracy_score=0.50590 \n"
     ]
    },
    {
     "name": "stderr",
     "output_type": "stream",
     "text": [
      "/opt/jupyterhub/anaconda/lib/python3.9/site-packages/sklearn/metrics/_classification.py:1308: UndefinedMetricWarning: Precision is ill-defined and being set to 0.0 in labels with no predicted samples. Use `zero_division` parameter to control this behavior.\n",
      "  _warn_prf(average, modifier, msg_start, len(result))\n"
     ]
    },
    {
     "name": "stdout",
     "output_type": "stream",
     "text": [
      " 94 7.04s trainloss=0.26739 validloss=1.56086 accuracy_score=0.50590 \n"
     ]
    },
    {
     "name": "stderr",
     "output_type": "stream",
     "text": [
      "/opt/jupyterhub/anaconda/lib/python3.9/site-packages/sklearn/metrics/_classification.py:1308: UndefinedMetricWarning: Precision is ill-defined and being set to 0.0 in labels with no predicted samples. Use `zero_division` parameter to control this behavior.\n",
      "  _warn_prf(average, modifier, msg_start, len(result))\n"
     ]
    },
    {
     "name": "stdout",
     "output_type": "stream",
     "text": [
      " 95 7.04s trainloss=0.26031 validloss=2.70121 accuracy_score=0.50590 \n"
     ]
    },
    {
     "name": "stderr",
     "output_type": "stream",
     "text": [
      "/opt/jupyterhub/anaconda/lib/python3.9/site-packages/sklearn/metrics/_classification.py:1308: UndefinedMetricWarning: Precision is ill-defined and being set to 0.0 in labels with no predicted samples. Use `zero_division` parameter to control this behavior.\n",
      "  _warn_prf(average, modifier, msg_start, len(result))\n"
     ]
    },
    {
     "name": "stdout",
     "output_type": "stream",
     "text": [
      " 96 7.04s trainloss=0.25587 validloss=1.56645 accuracy_score=0.50590 \n"
     ]
    },
    {
     "name": "stderr",
     "output_type": "stream",
     "text": [
      "/opt/jupyterhub/anaconda/lib/python3.9/site-packages/sklearn/metrics/_classification.py:1308: UndefinedMetricWarning: Precision is ill-defined and being set to 0.0 in labels with no predicted samples. Use `zero_division` parameter to control this behavior.\n",
      "  _warn_prf(average, modifier, msg_start, len(result))\n"
     ]
    },
    {
     "name": "stdout",
     "output_type": "stream",
     "text": [
      " 97 7.04s trainloss=0.29867 validloss=2.98280 accuracy_score=0.50590 \n"
     ]
    },
    {
     "name": "stderr",
     "output_type": "stream",
     "text": [
      "/opt/jupyterhub/anaconda/lib/python3.9/site-packages/sklearn/metrics/_classification.py:1308: UndefinedMetricWarning: Precision is ill-defined and being set to 0.0 in labels with no predicted samples. Use `zero_division` parameter to control this behavior.\n",
      "  _warn_prf(average, modifier, msg_start, len(result))\n"
     ]
    },
    {
     "name": "stdout",
     "output_type": "stream",
     "text": [
      " 98 7.03s trainloss=0.27860 validloss=2.07011 accuracy_score=0.50590 \n"
     ]
    },
    {
     "name": "stderr",
     "output_type": "stream",
     "text": [
      "/opt/jupyterhub/anaconda/lib/python3.9/site-packages/sklearn/metrics/_classification.py:1308: UndefinedMetricWarning: Precision is ill-defined and being set to 0.0 in labels with no predicted samples. Use `zero_division` parameter to control this behavior.\n",
      "  _warn_prf(average, modifier, msg_start, len(result))\n"
     ]
    },
    {
     "name": "stdout",
     "output_type": "stream",
     "text": [
      " 99 7.21s trainloss=0.25585 validloss=2.23540 accuracy_score=0.50590 \n",
      "100 7.03s trainloss=0.26615 validloss=0.46124 accuracy_score=0.65929 \n"
     ]
    }
   ],
   "source": [
    "rn50_2_trainer.train(100, lr=0.01, weight_decay=0.4)"
   ]
  },
  {
   "cell_type": "code",
   "execution_count": 69,
   "id": "fe85b01c",
   "metadata": {},
   "outputs": [
    {
     "data": {
      "image/png": "[encoded data removed]",
      "text/plain": [
       "<Figure size 432x288 with 1 Axes>"
      ]
     },
     "metadata": {
      "needs_background": "light"
     },
     "output_type": "display_data"
    }
   ],
   "source": [
    "rn50_2_trainer.learning_curve()"
   ]
  },
  {
   "cell_type": "code",
   "execution_count": 70,
   "id": "fd9c1244",
   "metadata": {},
   "outputs": [
    {
     "data": {
      "image/png": "[encoded data removed]",
      "text/plain": [
       "<Figure size 432x288 with 1 Axes>"
      ]
     },
     "metadata": {
      "needs_background": "light"
     },
     "output_type": "display_data"
    }
   ],
   "source": [
    "rn50_2_trainer.learning_curve(y='accuracy_score')"
   ]
  },
  {
   "cell_type": "code",
   "execution_count": 71,
   "id": "78414812",
   "metadata": {},
   "outputs": [
    {
     "name": "stdout",
     "output_type": "stream",
     "text": [
      "     accuracy_score  epoch  prec_chewing  recall_chewing  recall_other\n",
      "39         0.870206   20.0      0.851852        0.892537      0.848397\n",
      "99         0.836283   50.0      0.761682        0.973134      0.702624\n",
      "45         0.818584   23.0      0.746512        0.958209      0.682216\n",
      "145        0.814159   73.0      0.730684        0.988060      0.644315\n",
      "143        0.808260   72.0      0.727273        0.979104      0.641399\n",
      "..              ...    ...           ...             ...           ...\n",
      "173        0.497050   87.0      0.200000        0.005970      0.976676\n",
      "141        0.497050   71.0      0.000000        0.000000      0.982507\n",
      "61         0.473451   31.0      0.194444        0.020896      0.915452\n",
      "111        0.314159   56.0      0.072368        0.032836      0.588921\n",
      "171        0.300885   86.0      0.160976        0.098507      0.498542\n",
      "\n",
      "[100 rows x 5 columns]\n"
     ]
    }
   ],
   "source": [
    "sort_epochs(rn50_2_trainer.evaluator, 'accuracy_score')"
   ]
  },
  {
   "cell_type": "markdown",
   "id": "7dc8b499",
   "metadata": {},
   "source": [
    "# resnet 50"
   ]
  },
  {
   "cell_type": "code",
   "execution_count": 14,
   "id": "50996782",
   "metadata": {},
   "outputs": [],
   "source": [
    "rn50 = models.resnet50(pretrained=True)\n",
    "rn50.conv1 = nn.Conv2d(1, rn50.conv1.out_channels,\n",
    "              kernel_size=rn50.conv1.kernel_size[0], \n",
    "                      stride=rn50.conv1.stride[0], \n",
    "                      padding=rn50.conv1.padding[0])\n",
    "num_ftrs = rn50.fc.in_features\n",
    "rn50.fc = nn.Linear(num_ftrs, 2)\n",
    "\n",
    "rn50.post_forward = post_forward\n",
    "\n",
    "rn50_trainer = trainer(rn50, nn.CrossEntropyLoss(weight=normedWeights), train_loader, valid_loader, test_loader, metrics=metrics, gpu=True)"
   ]
  },
  {
   "cell_type": "code",
   "execution_count": 15,
   "id": "4d0304ec",
   "metadata": {},
   "outputs": [
    {
     "data": {
      "application/vnd.jupyter.widget-view+json": {
       "model_id": "5b92c2b75d554e6fabbe46d337cd64ad",
       "version_major": 2,
       "version_minor": 0
      },
      "text/plain": [
       "Total:   0%|          | 0/345600 [00:00<?, ?it/s]"
      ]
     },
     "metadata": {},
     "output_type": "display_data"
    },
    {
     "name": "stdout",
     "output_type": "stream",
     "text": [
      "  1 26.12s trainloss=0.80016 validloss=4.32967 accuracy_score=0.57817 \n",
      "  2 5.04s trainloss=0.36922 validloss=0.74070 accuracy_score=0.61062 \n",
      "  3 4.45s trainloss=0.46084 validloss=1.06627 accuracy_score=0.53097 \n",
      "  4 4.46s trainloss=0.36899 validloss=0.69051 accuracy_score=0.69322 \n",
      "  5 4.45s trainloss=0.31750 validloss=0.39368 accuracy_score=0.82891 \n",
      "  6 4.45s trainloss=0.28748 validloss=2.02431 accuracy_score=0.48525 \n",
      "  7 4.45s trainloss=0.30121 validloss=0.72993 accuracy_score=0.48525 \n"
     ]
    },
    {
     "name": "stderr",
     "output_type": "stream",
     "text": [
      "/opt/jupyterhub/anaconda/lib/python3.9/site-packages/sklearn/metrics/_classification.py:1308: UndefinedMetricWarning: Precision is ill-defined and being set to 0.0 in labels with no predicted samples. Use `zero_division` parameter to control this behavior.\n",
      "  _warn_prf(average, modifier, msg_start, len(result))\n"
     ]
    },
    {
     "name": "stdout",
     "output_type": "stream",
     "text": [
      "  8 4.45s trainloss=0.25907 validloss=6.33491 accuracy_score=0.48230 \n"
     ]
    },
    {
     "name": "stderr",
     "output_type": "stream",
     "text": [
      "/opt/jupyterhub/anaconda/lib/python3.9/site-packages/sklearn/metrics/_classification.py:1308: UndefinedMetricWarning: Precision is ill-defined and being set to 0.0 in labels with no predicted samples. Use `zero_division` parameter to control this behavior.\n",
      "  _warn_prf(average, modifier, msg_start, len(result))\n"
     ]
    },
    {
     "name": "stdout",
     "output_type": "stream",
     "text": [
      "  9 4.46s trainloss=0.37839 validloss=22.10227 accuracy_score=0.48230 \n",
      " 10 4.57s trainloss=0.29787 validloss=1.07585 accuracy_score=0.47640 \n",
      " 11 4.47s trainloss=0.26766 validloss=0.89313 accuracy_score=0.47640 \n"
     ]
    },
    {
     "name": "stderr",
     "output_type": "stream",
     "text": [
      "/opt/jupyterhub/anaconda/lib/python3.9/site-packages/sklearn/metrics/_classification.py:1308: UndefinedMetricWarning: Precision is ill-defined and being set to 0.0 in labels with no predicted samples. Use `zero_division` parameter to control this behavior.\n",
      "  _warn_prf(average, modifier, msg_start, len(result))\n"
     ]
    },
    {
     "name": "stdout",
     "output_type": "stream",
     "text": [
      " 12 4.47s trainloss=0.26978 validloss=3.59884 accuracy_score=0.48230 \n",
      " 13 4.47s trainloss=0.23012 validloss=3.62256 accuracy_score=0.47935 \n",
      " 14 4.48s trainloss=0.23651 validloss=3.96863 accuracy_score=0.47935 \n",
      " 15 4.48s trainloss=0.22000 validloss=1.07883 accuracy_score=0.47788 \n",
      " 16 4.49s trainloss=0.22831 validloss=3.43160 accuracy_score=0.48083 \n",
      " 17 4.52s trainloss=0.21346 validloss=0.94595 accuracy_score=0.47640 \n",
      " 18 4.51s trainloss=0.21729 validloss=1.92201 accuracy_score=0.47935 \n",
      " 19 4.49s trainloss=0.21895 validloss=0.29497 accuracy_score=0.80531 \n"
     ]
    },
    {
     "name": "stderr",
     "output_type": "stream",
     "text": [
      "/opt/jupyterhub/anaconda/lib/python3.9/site-packages/sklearn/metrics/_classification.py:1308: UndefinedMetricWarning: Precision is ill-defined and being set to 0.0 in labels with no predicted samples. Use `zero_division` parameter to control this behavior.\n",
      "  _warn_prf(average, modifier, msg_start, len(result))\n"
     ]
    },
    {
     "name": "stdout",
     "output_type": "stream",
     "text": [
      " 20 4.49s trainloss=0.21653 validloss=6.82484 accuracy_score=0.48230 \n"
     ]
    },
    {
     "name": "stderr",
     "output_type": "stream",
     "text": [
      "/opt/jupyterhub/anaconda/lib/python3.9/site-packages/sklearn/metrics/_classification.py:1308: UndefinedMetricWarning: Precision is ill-defined and being set to 0.0 in labels with no predicted samples. Use `zero_division` parameter to control this behavior.\n",
      "  _warn_prf(average, modifier, msg_start, len(result))\n"
     ]
    },
    {
     "name": "stdout",
     "output_type": "stream",
     "text": [
      " 21 4.50s trainloss=0.21129 validloss=12.65225 accuracy_score=0.48230 \n"
     ]
    },
    {
     "name": "stderr",
     "output_type": "stream",
     "text": [
      "/opt/jupyterhub/anaconda/lib/python3.9/site-packages/sklearn/metrics/_classification.py:1308: UndefinedMetricWarning: Precision is ill-defined and being set to 0.0 in labels with no predicted samples. Use `zero_division` parameter to control this behavior.\n",
      "  _warn_prf(average, modifier, msg_start, len(result))\n"
     ]
    },
    {
     "name": "stdout",
     "output_type": "stream",
     "text": [
      " 22 4.50s trainloss=0.21153 validloss=5.78213 accuracy_score=0.48230 \n",
      " 23 4.50s trainloss=0.20831 validloss=7.04762 accuracy_score=0.47935 \n"
     ]
    },
    {
     "name": "stderr",
     "output_type": "stream",
     "text": [
      "/opt/jupyterhub/anaconda/lib/python3.9/site-packages/sklearn/metrics/_classification.py:1308: UndefinedMetricWarning: Precision is ill-defined and being set to 0.0 in labels with no predicted samples. Use `zero_division` parameter to control this behavior.\n",
      "  _warn_prf(average, modifier, msg_start, len(result))\n"
     ]
    },
    {
     "name": "stdout",
     "output_type": "stream",
     "text": [
      " 24 4.49s trainloss=0.19565 validloss=8.67175 accuracy_score=0.48230 \n"
     ]
    },
    {
     "name": "stderr",
     "output_type": "stream",
     "text": [
      "/opt/jupyterhub/anaconda/lib/python3.9/site-packages/sklearn/metrics/_classification.py:1308: UndefinedMetricWarning: Precision is ill-defined and being set to 0.0 in labels with no predicted samples. Use `zero_division` parameter to control this behavior.\n",
      "  _warn_prf(average, modifier, msg_start, len(result))\n"
     ]
    },
    {
     "name": "stdout",
     "output_type": "stream",
     "text": [
      " 25 4.49s trainloss=0.18925 validloss=13.44152 accuracy_score=0.48230 \n"
     ]
    },
    {
     "name": "stderr",
     "output_type": "stream",
     "text": [
      "/opt/jupyterhub/anaconda/lib/python3.9/site-packages/sklearn/metrics/_classification.py:1308: UndefinedMetricWarning: Precision is ill-defined and being set to 0.0 in labels with no predicted samples. Use `zero_division` parameter to control this behavior.\n",
      "  _warn_prf(average, modifier, msg_start, len(result))\n"
     ]
    },
    {
     "name": "stdout",
     "output_type": "stream",
     "text": [
      " 26 4.50s trainloss=0.18675 validloss=11.08576 accuracy_score=0.48230 \n"
     ]
    },
    {
     "name": "stderr",
     "output_type": "stream",
     "text": [
      "/opt/jupyterhub/anaconda/lib/python3.9/site-packages/sklearn/metrics/_classification.py:1308: UndefinedMetricWarning: Precision is ill-defined and being set to 0.0 in labels with no predicted samples. Use `zero_division` parameter to control this behavior.\n",
      "  _warn_prf(average, modifier, msg_start, len(result))\n"
     ]
    },
    {
     "name": "stdout",
     "output_type": "stream",
     "text": [
      " 27 4.49s trainloss=0.21068 validloss=13.72866 accuracy_score=0.48230 \n"
     ]
    },
    {
     "name": "stderr",
     "output_type": "stream",
     "text": [
      "/opt/jupyterhub/anaconda/lib/python3.9/site-packages/sklearn/metrics/_classification.py:1308: UndefinedMetricWarning: Precision is ill-defined and being set to 0.0 in labels with no predicted samples. Use `zero_division` parameter to control this behavior.\n",
      "  _warn_prf(average, modifier, msg_start, len(result))\n"
     ]
    },
    {
     "name": "stdout",
     "output_type": "stream",
     "text": [
      " 28 4.50s trainloss=0.19294 validloss=14.42535 accuracy_score=0.48230 \n",
      " 29 4.49s trainloss=0.17735 validloss=0.24839 accuracy_score=0.81858 \n"
     ]
    },
    {
     "name": "stderr",
     "output_type": "stream",
     "text": [
      "/opt/jupyterhub/anaconda/lib/python3.9/site-packages/sklearn/metrics/_classification.py:1308: UndefinedMetricWarning: Precision is ill-defined and being set to 0.0 in labels with no predicted samples. Use `zero_division` parameter to control this behavior.\n",
      "  _warn_prf(average, modifier, msg_start, len(result))\n"
     ]
    },
    {
     "name": "stdout",
     "output_type": "stream",
     "text": [
      " 30 4.48s trainloss=0.19416 validloss=13.78665 accuracy_score=0.48230 \n"
     ]
    },
    {
     "name": "stderr",
     "output_type": "stream",
     "text": [
      "/opt/jupyterhub/anaconda/lib/python3.9/site-packages/sklearn/metrics/_classification.py:1308: UndefinedMetricWarning: Precision is ill-defined and being set to 0.0 in labels with no predicted samples. Use `zero_division` parameter to control this behavior.\n",
      "  _warn_prf(average, modifier, msg_start, len(result))\n"
     ]
    },
    {
     "name": "stdout",
     "output_type": "stream",
     "text": [
      " 31 4.50s trainloss=0.18064 validloss=16.55139 accuracy_score=0.48230 \n"
     ]
    },
    {
     "name": "stderr",
     "output_type": "stream",
     "text": [
      "/opt/jupyterhub/anaconda/lib/python3.9/site-packages/sklearn/metrics/_classification.py:1308: UndefinedMetricWarning: Precision is ill-defined and being set to 0.0 in labels with no predicted samples. Use `zero_division` parameter to control this behavior.\n",
      "  _warn_prf(average, modifier, msg_start, len(result))\n"
     ]
    },
    {
     "name": "stdout",
     "output_type": "stream",
     "text": [
      " 32 4.49s trainloss=0.18188 validloss=8.15262 accuracy_score=0.48230 \n",
      " 33 4.49s trainloss=0.19772 validloss=0.37148 accuracy_score=0.69617 \n"
     ]
    },
    {
     "name": "stderr",
     "output_type": "stream",
     "text": [
      "/opt/jupyterhub/anaconda/lib/python3.9/site-packages/sklearn/metrics/_classification.py:1308: UndefinedMetricWarning: Precision is ill-defined and being set to 0.0 in labels with no predicted samples. Use `zero_division` parameter to control this behavior.\n",
      "  _warn_prf(average, modifier, msg_start, len(result))\n"
     ]
    },
    {
     "name": "stdout",
     "output_type": "stream",
     "text": [
      " 34 4.50s trainloss=0.21818 validloss=7.58552 accuracy_score=0.48230 \n"
     ]
    },
    {
     "name": "stderr",
     "output_type": "stream",
     "text": [
      "/opt/jupyterhub/anaconda/lib/python3.9/site-packages/sklearn/metrics/_classification.py:1308: UndefinedMetricWarning: Precision is ill-defined and being set to 0.0 in labels with no predicted samples. Use `zero_division` parameter to control this behavior.\n",
      "  _warn_prf(average, modifier, msg_start, len(result))\n"
     ]
    },
    {
     "name": "stdout",
     "output_type": "stream",
     "text": [
      " 35 4.48s trainloss=0.21160 validloss=10.83710 accuracy_score=0.48230 \n"
     ]
    },
    {
     "name": "stderr",
     "output_type": "stream",
     "text": [
      "/opt/jupyterhub/anaconda/lib/python3.9/site-packages/sklearn/metrics/_classification.py:1308: UndefinedMetricWarning: Precision is ill-defined and being set to 0.0 in labels with no predicted samples. Use `zero_division` parameter to control this behavior.\n",
      "  _warn_prf(average, modifier, msg_start, len(result))\n"
     ]
    },
    {
     "name": "stdout",
     "output_type": "stream",
     "text": [
      " 36 4.49s trainloss=0.23995 validloss=4.05385 accuracy_score=0.48230 \n",
      " 37 4.97s trainloss=0.21225 validloss=0.33987 accuracy_score=0.72419 \n"
     ]
    },
    {
     "name": "stderr",
     "output_type": "stream",
     "text": [
      "/opt/jupyterhub/anaconda/lib/python3.9/site-packages/sklearn/metrics/_classification.py:1308: UndefinedMetricWarning: Precision is ill-defined and being set to 0.0 in labels with no predicted samples. Use `zero_division` parameter to control this behavior.\n",
      "  _warn_prf(average, modifier, msg_start, len(result))\n"
     ]
    },
    {
     "name": "stdout",
     "output_type": "stream",
     "text": [
      " 38 4.72s trainloss=0.19285 validloss=6.09418 accuracy_score=0.48230 \n",
      " 39 4.69s trainloss=0.19139 validloss=11.11719 accuracy_score=0.47935 \n"
     ]
    },
    {
     "name": "stderr",
     "output_type": "stream",
     "text": [
      "/opt/jupyterhub/anaconda/lib/python3.9/site-packages/sklearn/metrics/_classification.py:1308: UndefinedMetricWarning: Precision is ill-defined and being set to 0.0 in labels with no predicted samples. Use `zero_division` parameter to control this behavior.\n",
      "  _warn_prf(average, modifier, msg_start, len(result))\n"
     ]
    },
    {
     "name": "stdout",
     "output_type": "stream",
     "text": [
      " 40 4.70s trainloss=0.20340 validloss=10.83915 accuracy_score=0.48230 \n"
     ]
    },
    {
     "name": "stderr",
     "output_type": "stream",
     "text": [
      "/opt/jupyterhub/anaconda/lib/python3.9/site-packages/sklearn/metrics/_classification.py:1308: UndefinedMetricWarning: Precision is ill-defined and being set to 0.0 in labels with no predicted samples. Use `zero_division` parameter to control this behavior.\n",
      "  _warn_prf(average, modifier, msg_start, len(result))\n"
     ]
    },
    {
     "name": "stdout",
     "output_type": "stream",
     "text": [
      " 41 4.71s trainloss=0.19847 validloss=2.95760 accuracy_score=0.48230 \n"
     ]
    },
    {
     "name": "stderr",
     "output_type": "stream",
     "text": [
      "/opt/jupyterhub/anaconda/lib/python3.9/site-packages/sklearn/metrics/_classification.py:1308: UndefinedMetricWarning: Precision is ill-defined and being set to 0.0 in labels with no predicted samples. Use `zero_division` parameter to control this behavior.\n",
      "  _warn_prf(average, modifier, msg_start, len(result))\n"
     ]
    },
    {
     "name": "stdout",
     "output_type": "stream",
     "text": [
      " 42 4.72s trainloss=0.18419 validloss=16.05172 accuracy_score=0.48230 \n",
      " 43 4.69s trainloss=0.16451 validloss=9.88766 accuracy_score=0.47935 \n",
      " 44 4.71s trainloss=0.16489 validloss=0.21055 accuracy_score=0.83628 \n",
      " 45 4.71s trainloss=0.16671 validloss=13.60330 accuracy_score=0.47935 \n",
      " 46 4.71s trainloss=0.16645 validloss=11.60375 accuracy_score=0.47935 \n"
     ]
    },
    {
     "name": "stderr",
     "output_type": "stream",
     "text": [
      "/opt/jupyterhub/anaconda/lib/python3.9/site-packages/sklearn/metrics/_classification.py:1308: UndefinedMetricWarning: Precision is ill-defined and being set to 0.0 in labels with no predicted samples. Use `zero_division` parameter to control this behavior.\n",
      "  _warn_prf(average, modifier, msg_start, len(result))\n"
     ]
    },
    {
     "name": "stdout",
     "output_type": "stream",
     "text": [
      " 47 4.71s trainloss=0.18733 validloss=8.39658 accuracy_score=0.48230 \n"
     ]
    },
    {
     "name": "stderr",
     "output_type": "stream",
     "text": [
      "/opt/jupyterhub/anaconda/lib/python3.9/site-packages/sklearn/metrics/_classification.py:1308: UndefinedMetricWarning: Precision is ill-defined and being set to 0.0 in labels with no predicted samples. Use `zero_division` parameter to control this behavior.\n",
      "  _warn_prf(average, modifier, msg_start, len(result))\n"
     ]
    },
    {
     "name": "stdout",
     "output_type": "stream",
     "text": [
      " 48 4.71s trainloss=0.15813 validloss=18.28936 accuracy_score=0.48230 \n"
     ]
    },
    {
     "name": "stderr",
     "output_type": "stream",
     "text": [
      "/opt/jupyterhub/anaconda/lib/python3.9/site-packages/sklearn/metrics/_classification.py:1308: UndefinedMetricWarning: Precision is ill-defined and being set to 0.0 in labels with no predicted samples. Use `zero_division` parameter to control this behavior.\n",
      "  _warn_prf(average, modifier, msg_start, len(result))\n"
     ]
    },
    {
     "name": "stdout",
     "output_type": "stream",
     "text": [
      " 49 4.71s trainloss=0.14776 validloss=18.76668 accuracy_score=0.48230 \n"
     ]
    },
    {
     "name": "stderr",
     "output_type": "stream",
     "text": [
      "/opt/jupyterhub/anaconda/lib/python3.9/site-packages/sklearn/metrics/_classification.py:1308: UndefinedMetricWarning: Precision is ill-defined and being set to 0.0 in labels with no predicted samples. Use `zero_division` parameter to control this behavior.\n",
      "  _warn_prf(average, modifier, msg_start, len(result))\n"
     ]
    },
    {
     "name": "stdout",
     "output_type": "stream",
     "text": [
      " 50 4.70s trainloss=0.15491 validloss=19.38082 accuracy_score=0.48230 \n"
     ]
    },
    {
     "name": "stderr",
     "output_type": "stream",
     "text": [
      "/opt/jupyterhub/anaconda/lib/python3.9/site-packages/sklearn/metrics/_classification.py:1308: UndefinedMetricWarning: Precision is ill-defined and being set to 0.0 in labels with no predicted samples. Use `zero_division` parameter to control this behavior.\n",
      "  _warn_prf(average, modifier, msg_start, len(result))\n"
     ]
    },
    {
     "name": "stdout",
     "output_type": "stream",
     "text": [
      " 51 4.71s trainloss=0.15195 validloss=20.65239 accuracy_score=0.48230 \n"
     ]
    },
    {
     "name": "stderr",
     "output_type": "stream",
     "text": [
      "/opt/jupyterhub/anaconda/lib/python3.9/site-packages/sklearn/metrics/_classification.py:1308: UndefinedMetricWarning: Precision is ill-defined and being set to 0.0 in labels with no predicted samples. Use `zero_division` parameter to control this behavior.\n",
      "  _warn_prf(average, modifier, msg_start, len(result))\n"
     ]
    },
    {
     "name": "stdout",
     "output_type": "stream",
     "text": [
      " 52 4.71s trainloss=0.15520 validloss=13.49863 accuracy_score=0.48230 \n"
     ]
    },
    {
     "name": "stderr",
     "output_type": "stream",
     "text": [
      "/opt/jupyterhub/anaconda/lib/python3.9/site-packages/sklearn/metrics/_classification.py:1308: UndefinedMetricWarning: Precision is ill-defined and being set to 0.0 in labels with no predicted samples. Use `zero_division` parameter to control this behavior.\n",
      "  _warn_prf(average, modifier, msg_start, len(result))\n"
     ]
    },
    {
     "name": "stdout",
     "output_type": "stream",
     "text": [
      " 53 4.71s trainloss=0.14768 validloss=8.07365 accuracy_score=0.48230 \n"
     ]
    },
    {
     "name": "stderr",
     "output_type": "stream",
     "text": [
      "/opt/jupyterhub/anaconda/lib/python3.9/site-packages/sklearn/metrics/_classification.py:1308: UndefinedMetricWarning: Precision is ill-defined and being set to 0.0 in labels with no predicted samples. Use `zero_division` parameter to control this behavior.\n",
      "  _warn_prf(average, modifier, msg_start, len(result))\n"
     ]
    },
    {
     "name": "stdout",
     "output_type": "stream",
     "text": [
      " 54 4.72s trainloss=0.14349 validloss=15.34653 accuracy_score=0.48230 \n"
     ]
    },
    {
     "name": "stderr",
     "output_type": "stream",
     "text": [
      "/opt/jupyterhub/anaconda/lib/python3.9/site-packages/sklearn/metrics/_classification.py:1308: UndefinedMetricWarning: Precision is ill-defined and being set to 0.0 in labels with no predicted samples. Use `zero_division` parameter to control this behavior.\n",
      "  _warn_prf(average, modifier, msg_start, len(result))\n"
     ]
    },
    {
     "name": "stdout",
     "output_type": "stream",
     "text": [
      " 55 4.71s trainloss=0.13433 validloss=19.96195 accuracy_score=0.48230 \n",
      " 56 4.71s trainloss=0.13606 validloss=3.28587 accuracy_score=0.49115 \n"
     ]
    },
    {
     "name": "stderr",
     "output_type": "stream",
     "text": [
      "/opt/jupyterhub/anaconda/lib/python3.9/site-packages/sklearn/metrics/_classification.py:1308: UndefinedMetricWarning: Precision is ill-defined and being set to 0.0 in labels with no predicted samples. Use `zero_division` parameter to control this behavior.\n",
      "  _warn_prf(average, modifier, msg_start, len(result))\n"
     ]
    },
    {
     "name": "stdout",
     "output_type": "stream",
     "text": [
      " 57 4.70s trainloss=0.14009 validloss=16.56783 accuracy_score=0.48230 \n"
     ]
    },
    {
     "name": "stderr",
     "output_type": "stream",
     "text": [
      "/opt/jupyterhub/anaconda/lib/python3.9/site-packages/sklearn/metrics/_classification.py:1308: UndefinedMetricWarning: Precision is ill-defined and being set to 0.0 in labels with no predicted samples. Use `zero_division` parameter to control this behavior.\n",
      "  _warn_prf(average, modifier, msg_start, len(result))\n"
     ]
    },
    {
     "name": "stdout",
     "output_type": "stream",
     "text": [
      " 58 4.71s trainloss=0.14078 validloss=14.76755 accuracy_score=0.48230 \n",
      " 59 4.81s trainloss=0.16231 validloss=7.31017 accuracy_score=0.47935 \n"
     ]
    },
    {
     "name": "stderr",
     "output_type": "stream",
     "text": [
      "/opt/jupyterhub/anaconda/lib/python3.9/site-packages/sklearn/metrics/_classification.py:1308: UndefinedMetricWarning: Precision is ill-defined and being set to 0.0 in labels with no predicted samples. Use `zero_division` parameter to control this behavior.\n",
      "  _warn_prf(average, modifier, msg_start, len(result))\n"
     ]
    },
    {
     "name": "stdout",
     "output_type": "stream",
     "text": [
      " 60 4.70s trainloss=0.14128 validloss=13.99160 accuracy_score=0.48230 \n",
      " 61 4.71s trainloss=0.13441 validloss=16.02996 accuracy_score=0.48083 \n"
     ]
    },
    {
     "name": "stderr",
     "output_type": "stream",
     "text": [
      "/opt/jupyterhub/anaconda/lib/python3.9/site-packages/sklearn/metrics/_classification.py:1308: UndefinedMetricWarning: Precision is ill-defined and being set to 0.0 in labels with no predicted samples. Use `zero_division` parameter to control this behavior.\n",
      "  _warn_prf(average, modifier, msg_start, len(result))\n"
     ]
    },
    {
     "name": "stdout",
     "output_type": "stream",
     "text": [
      " 62 4.70s trainloss=0.13359 validloss=12.92864 accuracy_score=0.48230 \n"
     ]
    },
    {
     "name": "stderr",
     "output_type": "stream",
     "text": [
      "/opt/jupyterhub/anaconda/lib/python3.9/site-packages/sklearn/metrics/_classification.py:1308: UndefinedMetricWarning: Precision is ill-defined and being set to 0.0 in labels with no predicted samples. Use `zero_division` parameter to control this behavior.\n",
      "  _warn_prf(average, modifier, msg_start, len(result))\n"
     ]
    },
    {
     "name": "stdout",
     "output_type": "stream",
     "text": [
      " 63 4.71s trainloss=0.13440 validloss=13.50419 accuracy_score=0.48230 \n",
      " 64 4.71s trainloss=0.20680 validloss=2.56955 accuracy_score=0.47493 \n"
     ]
    },
    {
     "name": "stderr",
     "output_type": "stream",
     "text": [
      "/opt/jupyterhub/anaconda/lib/python3.9/site-packages/sklearn/metrics/_classification.py:1308: UndefinedMetricWarning: Precision is ill-defined and being set to 0.0 in labels with no predicted samples. Use `zero_division` parameter to control this behavior.\n",
      "  _warn_prf(average, modifier, msg_start, len(result))\n"
     ]
    },
    {
     "name": "stdout",
     "output_type": "stream",
     "text": [
      " 65 4.71s trainloss=0.16253 validloss=9.57129 accuracy_score=0.48230 \n"
     ]
    },
    {
     "name": "stderr",
     "output_type": "stream",
     "text": [
      "/opt/jupyterhub/anaconda/lib/python3.9/site-packages/sklearn/metrics/_classification.py:1308: UndefinedMetricWarning: Precision is ill-defined and being set to 0.0 in labels with no predicted samples. Use `zero_division` parameter to control this behavior.\n",
      "  _warn_prf(average, modifier, msg_start, len(result))\n"
     ]
    },
    {
     "name": "stdout",
     "output_type": "stream",
     "text": [
      " 66 4.71s trainloss=0.20123 validloss=6.30535 accuracy_score=0.48230 \n"
     ]
    },
    {
     "name": "stderr",
     "output_type": "stream",
     "text": [
      "/opt/jupyterhub/anaconda/lib/python3.9/site-packages/sklearn/metrics/_classification.py:1308: UndefinedMetricWarning: Precision is ill-defined and being set to 0.0 in labels with no predicted samples. Use `zero_division` parameter to control this behavior.\n",
      "  _warn_prf(average, modifier, msg_start, len(result))\n"
     ]
    },
    {
     "name": "stdout",
     "output_type": "stream",
     "text": [
      " 67 4.71s trainloss=0.16988 validloss=12.06113 accuracy_score=0.48230 \n"
     ]
    },
    {
     "name": "stderr",
     "output_type": "stream",
     "text": [
      "/opt/jupyterhub/anaconda/lib/python3.9/site-packages/sklearn/metrics/_classification.py:1308: UndefinedMetricWarning: Precision is ill-defined and being set to 0.0 in labels with no predicted samples. Use `zero_division` parameter to control this behavior.\n",
      "  _warn_prf(average, modifier, msg_start, len(result))\n"
     ]
    },
    {
     "name": "stdout",
     "output_type": "stream",
     "text": [
      " 68 4.72s trainloss=0.13721 validloss=11.58201 accuracy_score=0.48230 \n"
     ]
    },
    {
     "name": "stderr",
     "output_type": "stream",
     "text": [
      "/opt/jupyterhub/anaconda/lib/python3.9/site-packages/sklearn/metrics/_classification.py:1308: UndefinedMetricWarning: Precision is ill-defined and being set to 0.0 in labels with no predicted samples. Use `zero_division` parameter to control this behavior.\n",
      "  _warn_prf(average, modifier, msg_start, len(result))\n"
     ]
    },
    {
     "name": "stdout",
     "output_type": "stream",
     "text": [
      " 69 4.71s trainloss=0.13087 validloss=12.69569 accuracy_score=0.48230 \n"
     ]
    },
    {
     "name": "stderr",
     "output_type": "stream",
     "text": [
      "/opt/jupyterhub/anaconda/lib/python3.9/site-packages/sklearn/metrics/_classification.py:1308: UndefinedMetricWarning: Precision is ill-defined and being set to 0.0 in labels with no predicted samples. Use `zero_division` parameter to control this behavior.\n",
      "  _warn_prf(average, modifier, msg_start, len(result))\n"
     ]
    },
    {
     "name": "stdout",
     "output_type": "stream",
     "text": [
      " 70 4.71s trainloss=0.11547 validloss=15.80185 accuracy_score=0.48230 \n"
     ]
    },
    {
     "name": "stderr",
     "output_type": "stream",
     "text": [
      "/opt/jupyterhub/anaconda/lib/python3.9/site-packages/sklearn/metrics/_classification.py:1308: UndefinedMetricWarning: Precision is ill-defined and being set to 0.0 in labels with no predicted samples. Use `zero_division` parameter to control this behavior.\n",
      "  _warn_prf(average, modifier, msg_start, len(result))\n"
     ]
    },
    {
     "name": "stdout",
     "output_type": "stream",
     "text": [
      " 71 4.72s trainloss=0.10882 validloss=12.27400 accuracy_score=0.48230 \n"
     ]
    },
    {
     "name": "stderr",
     "output_type": "stream",
     "text": [
      "/opt/jupyterhub/anaconda/lib/python3.9/site-packages/sklearn/metrics/_classification.py:1308: UndefinedMetricWarning: Precision is ill-defined and being set to 0.0 in labels with no predicted samples. Use `zero_division` parameter to control this behavior.\n",
      "  _warn_prf(average, modifier, msg_start, len(result))\n"
     ]
    },
    {
     "name": "stdout",
     "output_type": "stream",
     "text": [
      " 72 4.71s trainloss=0.15009 validloss=13.45101 accuracy_score=0.48230 \n"
     ]
    },
    {
     "name": "stderr",
     "output_type": "stream",
     "text": [
      "/opt/jupyterhub/anaconda/lib/python3.9/site-packages/sklearn/metrics/_classification.py:1308: UndefinedMetricWarning: Precision is ill-defined and being set to 0.0 in labels with no predicted samples. Use `zero_division` parameter to control this behavior.\n",
      "  _warn_prf(average, modifier, msg_start, len(result))\n"
     ]
    },
    {
     "name": "stdout",
     "output_type": "stream",
     "text": [
      " 73 4.71s trainloss=0.12369 validloss=10.04963 accuracy_score=0.48230 \n"
     ]
    },
    {
     "name": "stderr",
     "output_type": "stream",
     "text": [
      "/opt/jupyterhub/anaconda/lib/python3.9/site-packages/sklearn/metrics/_classification.py:1308: UndefinedMetricWarning: Precision is ill-defined and being set to 0.0 in labels with no predicted samples. Use `zero_division` parameter to control this behavior.\n",
      "  _warn_prf(average, modifier, msg_start, len(result))\n"
     ]
    },
    {
     "name": "stdout",
     "output_type": "stream",
     "text": [
      " 74 4.71s trainloss=0.13037 validloss=14.73534 accuracy_score=0.48230 \n"
     ]
    },
    {
     "name": "stderr",
     "output_type": "stream",
     "text": [
      "/opt/jupyterhub/anaconda/lib/python3.9/site-packages/sklearn/metrics/_classification.py:1308: UndefinedMetricWarning: Precision is ill-defined and being set to 0.0 in labels with no predicted samples. Use `zero_division` parameter to control this behavior.\n",
      "  _warn_prf(average, modifier, msg_start, len(result))\n"
     ]
    },
    {
     "name": "stdout",
     "output_type": "stream",
     "text": [
      " 75 4.71s trainloss=0.12931 validloss=16.06539 accuracy_score=0.48230 \n",
      " 76 4.71s trainloss=0.11163 validloss=18.78947 accuracy_score=0.48083 \n"
     ]
    },
    {
     "name": "stderr",
     "output_type": "stream",
     "text": [
      "/opt/jupyterhub/anaconda/lib/python3.9/site-packages/sklearn/metrics/_classification.py:1308: UndefinedMetricWarning: Precision is ill-defined and being set to 0.0 in labels with no predicted samples. Use `zero_division` parameter to control this behavior.\n",
      "  _warn_prf(average, modifier, msg_start, len(result))\n"
     ]
    },
    {
     "name": "stdout",
     "output_type": "stream",
     "text": [
      " 77 4.72s trainloss=0.11823 validloss=13.48426 accuracy_score=0.48230 \n"
     ]
    },
    {
     "name": "stderr",
     "output_type": "stream",
     "text": [
      "/opt/jupyterhub/anaconda/lib/python3.9/site-packages/sklearn/metrics/_classification.py:1308: UndefinedMetricWarning: Precision is ill-defined and being set to 0.0 in labels with no predicted samples. Use `zero_division` parameter to control this behavior.\n",
      "  _warn_prf(average, modifier, msg_start, len(result))\n"
     ]
    },
    {
     "name": "stdout",
     "output_type": "stream",
     "text": [
      " 78 4.71s trainloss=0.12320 validloss=12.61068 accuracy_score=0.48230 \n"
     ]
    },
    {
     "name": "stderr",
     "output_type": "stream",
     "text": [
      "/opt/jupyterhub/anaconda/lib/python3.9/site-packages/sklearn/metrics/_classification.py:1308: UndefinedMetricWarning: Precision is ill-defined and being set to 0.0 in labels with no predicted samples. Use `zero_division` parameter to control this behavior.\n",
      "  _warn_prf(average, modifier, msg_start, len(result))\n"
     ]
    },
    {
     "name": "stdout",
     "output_type": "stream",
     "text": [
      " 79 4.72s trainloss=0.10202 validloss=23.25560 accuracy_score=0.48230 \n"
     ]
    },
    {
     "name": "stderr",
     "output_type": "stream",
     "text": [
      "/opt/jupyterhub/anaconda/lib/python3.9/site-packages/sklearn/metrics/_classification.py:1308: UndefinedMetricWarning: Precision is ill-defined and being set to 0.0 in labels with no predicted samples. Use `zero_division` parameter to control this behavior.\n",
      "  _warn_prf(average, modifier, msg_start, len(result))\n"
     ]
    },
    {
     "name": "stdout",
     "output_type": "stream",
     "text": [
      " 80 4.71s trainloss=0.09993 validloss=16.97058 accuracy_score=0.48230 \n"
     ]
    },
    {
     "name": "stderr",
     "output_type": "stream",
     "text": [
      "/opt/jupyterhub/anaconda/lib/python3.9/site-packages/sklearn/metrics/_classification.py:1308: UndefinedMetricWarning: Precision is ill-defined and being set to 0.0 in labels with no predicted samples. Use `zero_division` parameter to control this behavior.\n",
      "  _warn_prf(average, modifier, msg_start, len(result))\n"
     ]
    },
    {
     "name": "stdout",
     "output_type": "stream",
     "text": [
      " 81 4.71s trainloss=0.09800 validloss=15.93137 accuracy_score=0.48230 \n"
     ]
    },
    {
     "name": "stderr",
     "output_type": "stream",
     "text": [
      "/opt/jupyterhub/anaconda/lib/python3.9/site-packages/sklearn/metrics/_classification.py:1308: UndefinedMetricWarning: Precision is ill-defined and being set to 0.0 in labels with no predicted samples. Use `zero_division` parameter to control this behavior.\n",
      "  _warn_prf(average, modifier, msg_start, len(result))\n"
     ]
    },
    {
     "name": "stdout",
     "output_type": "stream",
     "text": [
      " 82 4.72s trainloss=0.15335 validloss=15.19425 accuracy_score=0.48230 \n"
     ]
    },
    {
     "name": "stderr",
     "output_type": "stream",
     "text": [
      "/opt/jupyterhub/anaconda/lib/python3.9/site-packages/sklearn/metrics/_classification.py:1308: UndefinedMetricWarning: Precision is ill-defined and being set to 0.0 in labels with no predicted samples. Use `zero_division` parameter to control this behavior.\n",
      "  _warn_prf(average, modifier, msg_start, len(result))\n"
     ]
    },
    {
     "name": "stdout",
     "output_type": "stream",
     "text": [
      " 83 4.71s trainloss=0.11317 validloss=15.86249 accuracy_score=0.48230 \n",
      " 84 4.72s trainloss=0.11009 validloss=0.40135 accuracy_score=0.80973 \n"
     ]
    },
    {
     "name": "stderr",
     "output_type": "stream",
     "text": [
      "/opt/jupyterhub/anaconda/lib/python3.9/site-packages/sklearn/metrics/_classification.py:1308: UndefinedMetricWarning: Precision is ill-defined and being set to 0.0 in labels with no predicted samples. Use `zero_division` parameter to control this behavior.\n",
      "  _warn_prf(average, modifier, msg_start, len(result))\n"
     ]
    },
    {
     "name": "stdout",
     "output_type": "stream",
     "text": [
      " 85 4.71s trainloss=0.11119 validloss=18.43880 accuracy_score=0.48230 \n",
      " 86 4.72s trainloss=0.09086 validloss=5.12066 accuracy_score=0.48230 \n"
     ]
    },
    {
     "name": "stderr",
     "output_type": "stream",
     "text": [
      "/opt/jupyterhub/anaconda/lib/python3.9/site-packages/sklearn/metrics/_classification.py:1308: UndefinedMetricWarning: Precision is ill-defined and being set to 0.0 in labels with no predicted samples. Use `zero_division` parameter to control this behavior.\n",
      "  _warn_prf(average, modifier, msg_start, len(result))\n"
     ]
    },
    {
     "name": "stdout",
     "output_type": "stream",
     "text": [
      " 87 4.72s trainloss=0.11117 validloss=20.66442 accuracy_score=0.48230 \n"
     ]
    },
    {
     "name": "stderr",
     "output_type": "stream",
     "text": [
      "/opt/jupyterhub/anaconda/lib/python3.9/site-packages/sklearn/metrics/_classification.py:1308: UndefinedMetricWarning: Precision is ill-defined and being set to 0.0 in labels with no predicted samples. Use `zero_division` parameter to control this behavior.\n",
      "  _warn_prf(average, modifier, msg_start, len(result))\n"
     ]
    },
    {
     "name": "stdout",
     "output_type": "stream",
     "text": [
      " 88 4.71s trainloss=0.11639 validloss=19.81472 accuracy_score=0.48230 \n"
     ]
    },
    {
     "name": "stderr",
     "output_type": "stream",
     "text": [
      "/opt/jupyterhub/anaconda/lib/python3.9/site-packages/sklearn/metrics/_classification.py:1308: UndefinedMetricWarning: Precision is ill-defined and being set to 0.0 in labels with no predicted samples. Use `zero_division` parameter to control this behavior.\n",
      "  _warn_prf(average, modifier, msg_start, len(result))\n"
     ]
    },
    {
     "name": "stdout",
     "output_type": "stream",
     "text": [
      " 89 4.72s trainloss=0.10722 validloss=19.57519 accuracy_score=0.48230 \n"
     ]
    },
    {
     "name": "stderr",
     "output_type": "stream",
     "text": [
      "/opt/jupyterhub/anaconda/lib/python3.9/site-packages/sklearn/metrics/_classification.py:1308: UndefinedMetricWarning: Precision is ill-defined and being set to 0.0 in labels with no predicted samples. Use `zero_division` parameter to control this behavior.\n",
      "  _warn_prf(average, modifier, msg_start, len(result))\n"
     ]
    },
    {
     "name": "stdout",
     "output_type": "stream",
     "text": [
      " 90 4.72s trainloss=0.09887 validloss=16.63390 accuracy_score=0.48230 \n"
     ]
    },
    {
     "name": "stderr",
     "output_type": "stream",
     "text": [
      "/opt/jupyterhub/anaconda/lib/python3.9/site-packages/sklearn/metrics/_classification.py:1308: UndefinedMetricWarning: Precision is ill-defined and being set to 0.0 in labels with no predicted samples. Use `zero_division` parameter to control this behavior.\n",
      "  _warn_prf(average, modifier, msg_start, len(result))\n"
     ]
    },
    {
     "name": "stdout",
     "output_type": "stream",
     "text": [
      " 91 4.72s trainloss=0.08939 validloss=20.02141 accuracy_score=0.48230 \n"
     ]
    },
    {
     "name": "stderr",
     "output_type": "stream",
     "text": [
      "/opt/jupyterhub/anaconda/lib/python3.9/site-packages/sklearn/metrics/_classification.py:1308: UndefinedMetricWarning: Precision is ill-defined and being set to 0.0 in labels with no predicted samples. Use `zero_division` parameter to control this behavior.\n",
      "  _warn_prf(average, modifier, msg_start, len(result))\n"
     ]
    },
    {
     "name": "stdout",
     "output_type": "stream",
     "text": [
      " 92 4.72s trainloss=0.09104 validloss=28.39198 accuracy_score=0.48230 \n",
      " 93 4.72s trainloss=0.10900 validloss=2.94915 accuracy_score=0.50737 \n"
     ]
    },
    {
     "name": "stderr",
     "output_type": "stream",
     "text": [
      "/opt/jupyterhub/anaconda/lib/python3.9/site-packages/sklearn/metrics/_classification.py:1308: UndefinedMetricWarning: Precision is ill-defined and being set to 0.0 in labels with no predicted samples. Use `zero_division` parameter to control this behavior.\n",
      "  _warn_prf(average, modifier, msg_start, len(result))\n"
     ]
    },
    {
     "name": "stdout",
     "output_type": "stream",
     "text": [
      " 94 4.71s trainloss=0.09776 validloss=19.72303 accuracy_score=0.48230 \n"
     ]
    },
    {
     "name": "stderr",
     "output_type": "stream",
     "text": [
      "/opt/jupyterhub/anaconda/lib/python3.9/site-packages/sklearn/metrics/_classification.py:1308: UndefinedMetricWarning: Precision is ill-defined and being set to 0.0 in labels with no predicted samples. Use `zero_division` parameter to control this behavior.\n",
      "  _warn_prf(average, modifier, msg_start, len(result))\n"
     ]
    },
    {
     "name": "stdout",
     "output_type": "stream",
     "text": [
      " 95 4.72s trainloss=0.11826 validloss=24.55877 accuracy_score=0.48230 \n"
     ]
    },
    {
     "name": "stderr",
     "output_type": "stream",
     "text": [
      "/opt/jupyterhub/anaconda/lib/python3.9/site-packages/sklearn/metrics/_classification.py:1308: UndefinedMetricWarning: Precision is ill-defined and being set to 0.0 in labels with no predicted samples. Use `zero_division` parameter to control this behavior.\n",
      "  _warn_prf(average, modifier, msg_start, len(result))\n"
     ]
    },
    {
     "name": "stdout",
     "output_type": "stream",
     "text": [
      " 96 4.71s trainloss=0.09108 validloss=18.03014 accuracy_score=0.48230 \n",
      " 97 4.71s trainloss=0.11048 validloss=0.78544 accuracy_score=0.50000 \n"
     ]
    },
    {
     "name": "stderr",
     "output_type": "stream",
     "text": [
      "/opt/jupyterhub/anaconda/lib/python3.9/site-packages/sklearn/metrics/_classification.py:1308: UndefinedMetricWarning: Precision is ill-defined and being set to 0.0 in labels with no predicted samples. Use `zero_division` parameter to control this behavior.\n",
      "  _warn_prf(average, modifier, msg_start, len(result))\n"
     ]
    },
    {
     "name": "stdout",
     "output_type": "stream",
     "text": [
      " 98 4.71s trainloss=0.09969 validloss=17.79993 accuracy_score=0.48230 \n"
     ]
    },
    {
     "name": "stderr",
     "output_type": "stream",
     "text": [
      "/opt/jupyterhub/anaconda/lib/python3.9/site-packages/sklearn/metrics/_classification.py:1308: UndefinedMetricWarning: Precision is ill-defined and being set to 0.0 in labels with no predicted samples. Use `zero_division` parameter to control this behavior.\n",
      "  _warn_prf(average, modifier, msg_start, len(result))\n"
     ]
    },
    {
     "name": "stdout",
     "output_type": "stream",
     "text": [
      " 99 4.72s trainloss=0.09211 validloss=26.44765 accuracy_score=0.48230 \n",
      "100 4.71s trainloss=0.10051 validloss=0.39457 accuracy_score=0.77876 \n"
     ]
    }
   ],
   "source": [
    "rn50_trainer.train(100, lr=0.01)"
   ]
  },
  {
   "cell_type": "code",
   "execution_count": 16,
   "id": "a500d8b9",
   "metadata": {},
   "outputs": [
    {
     "data": {
      "image/png": "[encoded data removed]",
      "text/plain": [
       "<Figure size 432x288 with 1 Axes>"
      ]
     },
     "metadata": {
      "needs_background": "light"
     },
     "output_type": "display_data"
    }
   ],
   "source": [
    "rn50_trainer.learning_curve()"
   ]
  },
  {
   "cell_type": "code",
   "execution_count": 17,
   "id": "10ac32ea",
   "metadata": {},
   "outputs": [
    {
     "data": {
      "image/png": "[encoded data removed]",
      "text/plain": [
       "<Figure size 432x288 with 1 Axes>"
      ]
     },
     "metadata": {
      "needs_background": "light"
     },
     "output_type": "display_data"
    }
   ],
   "source": [
    "rn50_trainer.learning_curve(y='accuracy_score')"
   ]
  },
  {
   "cell_type": "code",
   "execution_count": 18,
   "id": "ceb911d2",
   "metadata": {},
   "outputs": [
    {
     "name": "stdout",
     "output_type": "stream",
     "text": [
      "     accuracy_score  epoch  prec_chewing  recall_chewing  recall_other\n",
      "87         0.836283   44.0      0.759740        1.000000      0.660550\n",
      "9          0.828909    5.0      0.800512        0.891738      0.761468\n",
      "57         0.818584   29.0      0.745690        0.985755      0.639144\n",
      "167        0.809735   84.0      0.738197        0.980057      0.626911\n",
      "37         0.805310   19.0      0.733475        0.980057      0.617737\n",
      "..              ...    ...           ...             ...           ...\n",
      "29         0.477876   15.0      0.000000        0.000000      0.990826\n",
      "19         0.476401   10.0      0.000000        0.000000      0.987768\n",
      "21         0.476401   11.0      0.000000        0.000000      0.987768\n",
      "33         0.476401   17.0      0.250000        0.005698      0.981651\n",
      "127        0.474926   64.0      0.000000        0.000000      0.984709\n",
      "\n",
      "[100 rows x 5 columns]\n"
     ]
    }
   ],
   "source": [
    "sort_epochs(rn50_trainer.evaluator, 'accuracy_score')"
   ]
  },
  {
   "cell_type": "markdown",
   "id": "70749b0b",
   "metadata": {},
   "source": [
    "# End notebook"
   ]
  },
  {
   "cell_type": "code",
   "execution_count": null,
   "id": "4b07778f",
   "metadata": {},
   "outputs": [],
   "source": [
    "%%javascript\n",
    "Jupyter.notebook.session.delete();"
   ]
  }
 ],
 "metadata": {
  "kernelspec": {
   "display_name": "Python 3 (ipykernel)",
   "language": "python",
   "name": "python3"
  },
  "language_info": {
   "codemirror_mode": {
    "name": "ipython",
    "version": 3
   },
   "file_extension": ".py",
   "mimetype": "text/x-python",
   "name": "python",
   "nbconvert_exporter": "python",
   "pygments_lexer": "ipython3",
   "version": "3.9.7"
  }
 },
 "nbformat": 4,
 "nbformat_minor": 5
}
